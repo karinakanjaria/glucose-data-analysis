{
 "cells": [
  {
   "cell_type": "code",
   "execution_count": null,
   "id": "36a0f921-530b-4312-b990-1ee8cf3bf344",
   "metadata": {},
   "outputs": [],
   "source": [
    "! pip install xgboost\n",
    "! pip install pandas\n",
    "! pip install scikit-learn\n",
    "! pip install pyarrow"
   ]
  },
  {
   "cell_type": "code",
   "execution_count": null,
   "id": "0e93a106-b708-416e-9c7e-6fafd62eed9e",
   "metadata": {},
   "outputs": [],
   "source": [
    "from pyspark.ml import Pipeline, PipelineModel\n",
    "from Read_In_Data.read_data import Reading_Data\n",
    "import os\n",
    "\n",
    "\n",
    "################################ Read In Modules ################################\n",
    "reading_data=Reading_Data()\n",
    "\n",
    "\n",
    "################################ Read In Data ################################\n",
    "# Testing Summary Stats Data\n",
    "test_files=list(map(lambda x: os.path.join(os.path.abspath('/cephfs/summary_stats/all_test_bool_updated'), x),\n",
    "                                           os.listdir('/cephfs/summary_stats/all_test_bool_updated')))\n",
    "test_files=[i for i in test_files if not ('.crc' in i or 'SUCCESS' in i)]\n",
    "\n",
    "# Calling DataFrames\n",
    "summary_stats_test=reading_data.read_in_all_summary_stats(file_list=test_files)\n",
    "summary_stats_test.show(2)\n",
    "print((summary_stats_test.count(), len(summary_stats_test.columns)))"
   ]
  },
  {
   "cell_type": "code",
   "execution_count": null,
   "id": "6ec12bf4-2c71-42e6-8c94-6f7f2cd6b6d1",
   "metadata": {},
   "outputs": [],
   "source": [
    "import pandas as pd\n",
    "import plotly.express as px"
   ]
  },
  {
   "cell_type": "code",
   "execution_count": null,
   "id": "69c07785-d31c-4518-8f70-19d8b2eafb74",
   "metadata": {},
   "outputs": [],
   "source": [
    "pipelineModel_class=PipelineModel.load(\"/cephfs/Saved_Models/Hyperparameter_Tuning/XGBClassification\")\n",
    "feature_importance_dict=pipelineModel_class.stages[-1].bestModel.get_booster().get_score(importance_type=\"gain\")\n",
    "\n",
    "feature_names=pipelineModel_class.stages[-2].extractParamMap()[list(pipelineModel_class.stages[-2].\\\n",
    "                                                              extractParamMap().keys())[-1]]\n",
    "feature_importance_dict=dict(zip(feature_names, list(feature_importance_dict.values())))\n",
    "feature_importance_df=pd.DataFrame(feature_importance_dict, index=[0])\n",
    "\n",
    "feature_importance_df=feature_importance_df.transpose().\\\n",
    "                      reset_index(drop=False).\\\n",
    "                      rename(columns={'index': 'Feature', 0: 'Accuracy Gain'}).\\\n",
    "                      sort_values(by='Accuracy Gain', ascending=False).\\\n",
    "                      reset_index(drop=True)"
   ]
  },
  {
   "cell_type": "code",
   "execution_count": null,
   "id": "0a4e1549-d597-4e19-a429-ac3a20a81b71",
   "metadata": {},
   "outputs": [],
   "source": [
    "feature_importance_df=feature_importance_df.sort_values(by='Accuracy Gain', ascending=True)\n",
    "fig = px.bar(feature_importance_df, \n",
    "             x='Accuracy Gain', \n",
    "             y='Feature', \n",
    "             orientation='h', \n",
    "             color='Accuracy Gain',\n",
    "             height=1000,\n",
    "             width=900,\n",
    "             color_continuous_scale='YlGn')\n",
    "fig.write_image('/home/jovyan/glucose-data-analysis/Output_Files/Classification/xgboost_classification_feature_importance.png')"
   ]
  }
 ],
 "metadata": {
  "kernelspec": {
   "display_name": "glucose-venv",
   "language": "python",
   "name": "glucose-venv"
  },
  "language_info": {
   "codemirror_mode": {
    "name": "ipython",
    "version": 3
   },
   "file_extension": ".py",
   "mimetype": "text/x-python",
   "name": "python",
   "nbconvert_exporter": "python",
   "pygments_lexer": "ipython3",
   "version": "3.10.10"
  }
 },
 "nbformat": 4,
 "nbformat_minor": 5
}
