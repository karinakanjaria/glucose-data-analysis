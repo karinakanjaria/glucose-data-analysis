{
 "cells": [
  {
   "cell_type": "code",
   "execution_count": 1,
   "id": "94a54bc8-7727-4bef-8e2a-1bd918926dca",
   "metadata": {
    "tags": []
   },
   "outputs": [],
   "source": [
    "import numpy as np\n",
    "import pandas as pd\n",
    "import pyspark\n",
    "from pyspark.sql import SparkSession\n",
    "from pyspark.sql.functions import when, col"
   ]
  },
  {
   "cell_type": "code",
   "execution_count": 2,
   "id": "a5c73201-1eb1-49ae-9c47-ebc62789ba6b",
   "metadata": {
    "tags": []
   },
   "outputs": [
    {
     "name": "stderr",
     "output_type": "stream",
     "text": [
      "JAVA_HOME is not set\n"
     ]
    },
    {
     "ename": "RuntimeError",
     "evalue": "Java gateway process exited before sending its port number",
     "output_type": "error",
     "traceback": [
      "\u001b[0;31m---------------------------------------------------------------------------\u001b[0m",
      "\u001b[0;31mRuntimeError\u001b[0m                              Traceback (most recent call last)",
      "Cell \u001b[0;32mIn[2], line 4\u001b[0m\n\u001b[1;32m      1\u001b[0m conf \u001b[38;5;241m=\u001b[39m pyspark\u001b[38;5;241m.\u001b[39mSparkConf()\u001b[38;5;241m.\u001b[39msetAll([\n\u001b[1;32m      2\u001b[0m     (\u001b[38;5;124m'\u001b[39m\u001b[38;5;124mspark.master\u001b[39m\u001b[38;5;124m'\u001b[39m, \u001b[38;5;124m'\u001b[39m\u001b[38;5;124mlocal[1]\u001b[39m\u001b[38;5;124m'\u001b[39m),\n\u001b[1;32m      3\u001b[0m     (\u001b[38;5;124m'\u001b[39m\u001b[38;5;124mspark.app.name\u001b[39m\u001b[38;5;124m'\u001b[39m, \u001b[38;5;124m'\u001b[39m\u001b[38;5;124mApp Name\u001b[39m\u001b[38;5;124m'\u001b[39m)])\n\u001b[0;32m----> 4\u001b[0m spark \u001b[38;5;241m=\u001b[39m \u001b[43mSparkSession\u001b[49m\u001b[38;5;241;43m.\u001b[39;49m\u001b[43mbuilder\u001b[49m\u001b[38;5;241;43m.\u001b[39;49m\u001b[43mconfig\u001b[49m\u001b[43m(\u001b[49m\u001b[43mconf\u001b[49m\u001b[38;5;241;43m=\u001b[39;49m\u001b[43mconf\u001b[49m\u001b[43m)\u001b[49m\u001b[38;5;241;43m.\u001b[39;49m\u001b[43mgetOrCreate\u001b[49m\u001b[43m(\u001b[49m\u001b[43m)\u001b[49m\n\u001b[1;32m      6\u001b[0m spark\u001b[38;5;241m.\u001b[39mversion\n",
      "File \u001b[0;32m~/glucose-data-analysis/glucose_venv/lib/python3.10/site-packages/pyspark/sql/session.py:269\u001b[0m, in \u001b[0;36mSparkSession.Builder.getOrCreate\u001b[0;34m(self)\u001b[0m\n\u001b[1;32m    267\u001b[0m     sparkConf\u001b[38;5;241m.\u001b[39mset(key, value)\n\u001b[1;32m    268\u001b[0m \u001b[38;5;66;03m# This SparkContext may be an existing one.\u001b[39;00m\n\u001b[0;32m--> 269\u001b[0m sc \u001b[38;5;241m=\u001b[39m \u001b[43mSparkContext\u001b[49m\u001b[38;5;241;43m.\u001b[39;49m\u001b[43mgetOrCreate\u001b[49m\u001b[43m(\u001b[49m\u001b[43msparkConf\u001b[49m\u001b[43m)\u001b[49m\n\u001b[1;32m    270\u001b[0m \u001b[38;5;66;03m# Do not update `SparkConf` for existing `SparkContext`, as it's shared\u001b[39;00m\n\u001b[1;32m    271\u001b[0m \u001b[38;5;66;03m# by all sessions.\u001b[39;00m\n\u001b[1;32m    272\u001b[0m session \u001b[38;5;241m=\u001b[39m SparkSession(sc, options\u001b[38;5;241m=\u001b[39m\u001b[38;5;28mself\u001b[39m\u001b[38;5;241m.\u001b[39m_options)\n",
      "File \u001b[0;32m~/glucose-data-analysis/glucose_venv/lib/python3.10/site-packages/pyspark/context.py:483\u001b[0m, in \u001b[0;36mSparkContext.getOrCreate\u001b[0;34m(cls, conf)\u001b[0m\n\u001b[1;32m    481\u001b[0m \u001b[38;5;28;01mwith\u001b[39;00m SparkContext\u001b[38;5;241m.\u001b[39m_lock:\n\u001b[1;32m    482\u001b[0m     \u001b[38;5;28;01mif\u001b[39;00m SparkContext\u001b[38;5;241m.\u001b[39m_active_spark_context \u001b[38;5;129;01mis\u001b[39;00m \u001b[38;5;28;01mNone\u001b[39;00m:\n\u001b[0;32m--> 483\u001b[0m         \u001b[43mSparkContext\u001b[49m\u001b[43m(\u001b[49m\u001b[43mconf\u001b[49m\u001b[38;5;241;43m=\u001b[39;49m\u001b[43mconf\u001b[49m\u001b[43m \u001b[49m\u001b[38;5;129;43;01mor\u001b[39;49;00m\u001b[43m \u001b[49m\u001b[43mSparkConf\u001b[49m\u001b[43m(\u001b[49m\u001b[43m)\u001b[49m\u001b[43m)\u001b[49m\n\u001b[1;32m    484\u001b[0m     \u001b[38;5;28;01massert\u001b[39;00m SparkContext\u001b[38;5;241m.\u001b[39m_active_spark_context \u001b[38;5;129;01mis\u001b[39;00m \u001b[38;5;129;01mnot\u001b[39;00m \u001b[38;5;28;01mNone\u001b[39;00m\n\u001b[1;32m    485\u001b[0m     \u001b[38;5;28;01mreturn\u001b[39;00m SparkContext\u001b[38;5;241m.\u001b[39m_active_spark_context\n",
      "File \u001b[0;32m~/glucose-data-analysis/glucose_venv/lib/python3.10/site-packages/pyspark/context.py:195\u001b[0m, in \u001b[0;36mSparkContext.__init__\u001b[0;34m(self, master, appName, sparkHome, pyFiles, environment, batchSize, serializer, conf, gateway, jsc, profiler_cls, udf_profiler_cls)\u001b[0m\n\u001b[1;32m    189\u001b[0m \u001b[38;5;28;01mif\u001b[39;00m gateway \u001b[38;5;129;01mis\u001b[39;00m \u001b[38;5;129;01mnot\u001b[39;00m \u001b[38;5;28;01mNone\u001b[39;00m \u001b[38;5;129;01mand\u001b[39;00m gateway\u001b[38;5;241m.\u001b[39mgateway_parameters\u001b[38;5;241m.\u001b[39mauth_token \u001b[38;5;129;01mis\u001b[39;00m \u001b[38;5;28;01mNone\u001b[39;00m:\n\u001b[1;32m    190\u001b[0m     \u001b[38;5;28;01mraise\u001b[39;00m \u001b[38;5;167;01mValueError\u001b[39;00m(\n\u001b[1;32m    191\u001b[0m         \u001b[38;5;124m\"\u001b[39m\u001b[38;5;124mYou are trying to pass an insecure Py4j gateway to Spark. This\u001b[39m\u001b[38;5;124m\"\u001b[39m\n\u001b[1;32m    192\u001b[0m         \u001b[38;5;124m\"\u001b[39m\u001b[38;5;124m is not allowed as it is a security risk.\u001b[39m\u001b[38;5;124m\"\u001b[39m\n\u001b[1;32m    193\u001b[0m     )\n\u001b[0;32m--> 195\u001b[0m \u001b[43mSparkContext\u001b[49m\u001b[38;5;241;43m.\u001b[39;49m\u001b[43m_ensure_initialized\u001b[49m\u001b[43m(\u001b[49m\u001b[38;5;28;43mself\u001b[39;49m\u001b[43m,\u001b[49m\u001b[43m \u001b[49m\u001b[43mgateway\u001b[49m\u001b[38;5;241;43m=\u001b[39;49m\u001b[43mgateway\u001b[49m\u001b[43m,\u001b[49m\u001b[43m \u001b[49m\u001b[43mconf\u001b[49m\u001b[38;5;241;43m=\u001b[39;49m\u001b[43mconf\u001b[49m\u001b[43m)\u001b[49m\n\u001b[1;32m    196\u001b[0m \u001b[38;5;28;01mtry\u001b[39;00m:\n\u001b[1;32m    197\u001b[0m     \u001b[38;5;28mself\u001b[39m\u001b[38;5;241m.\u001b[39m_do_init(\n\u001b[1;32m    198\u001b[0m         master,\n\u001b[1;32m    199\u001b[0m         appName,\n\u001b[0;32m   (...)\u001b[0m\n\u001b[1;32m    208\u001b[0m         udf_profiler_cls,\n\u001b[1;32m    209\u001b[0m     )\n",
      "File \u001b[0;32m~/glucose-data-analysis/glucose_venv/lib/python3.10/site-packages/pyspark/context.py:417\u001b[0m, in \u001b[0;36mSparkContext._ensure_initialized\u001b[0;34m(cls, instance, gateway, conf)\u001b[0m\n\u001b[1;32m    415\u001b[0m \u001b[38;5;28;01mwith\u001b[39;00m SparkContext\u001b[38;5;241m.\u001b[39m_lock:\n\u001b[1;32m    416\u001b[0m     \u001b[38;5;28;01mif\u001b[39;00m \u001b[38;5;129;01mnot\u001b[39;00m SparkContext\u001b[38;5;241m.\u001b[39m_gateway:\n\u001b[0;32m--> 417\u001b[0m         SparkContext\u001b[38;5;241m.\u001b[39m_gateway \u001b[38;5;241m=\u001b[39m gateway \u001b[38;5;129;01mor\u001b[39;00m \u001b[43mlaunch_gateway\u001b[49m\u001b[43m(\u001b[49m\u001b[43mconf\u001b[49m\u001b[43m)\u001b[49m\n\u001b[1;32m    418\u001b[0m         SparkContext\u001b[38;5;241m.\u001b[39m_jvm \u001b[38;5;241m=\u001b[39m SparkContext\u001b[38;5;241m.\u001b[39m_gateway\u001b[38;5;241m.\u001b[39mjvm\n\u001b[1;32m    420\u001b[0m     \u001b[38;5;28;01mif\u001b[39;00m instance:\n",
      "File \u001b[0;32m~/glucose-data-analysis/glucose_venv/lib/python3.10/site-packages/pyspark/java_gateway.py:106\u001b[0m, in \u001b[0;36mlaunch_gateway\u001b[0;34m(conf, popen_kwargs)\u001b[0m\n\u001b[1;32m    103\u001b[0m     time\u001b[38;5;241m.\u001b[39msleep(\u001b[38;5;241m0.1\u001b[39m)\n\u001b[1;32m    105\u001b[0m \u001b[38;5;28;01mif\u001b[39;00m \u001b[38;5;129;01mnot\u001b[39;00m os\u001b[38;5;241m.\u001b[39mpath\u001b[38;5;241m.\u001b[39misfile(conn_info_file):\n\u001b[0;32m--> 106\u001b[0m     \u001b[38;5;28;01mraise\u001b[39;00m \u001b[38;5;167;01mRuntimeError\u001b[39;00m(\u001b[38;5;124m\"\u001b[39m\u001b[38;5;124mJava gateway process exited before sending its port number\u001b[39m\u001b[38;5;124m\"\u001b[39m)\n\u001b[1;32m    108\u001b[0m \u001b[38;5;28;01mwith\u001b[39;00m \u001b[38;5;28mopen\u001b[39m(conn_info_file, \u001b[38;5;124m\"\u001b[39m\u001b[38;5;124mrb\u001b[39m\u001b[38;5;124m\"\u001b[39m) \u001b[38;5;28;01mas\u001b[39;00m info:\n\u001b[1;32m    109\u001b[0m     gateway_port \u001b[38;5;241m=\u001b[39m read_int(info)\n",
      "\u001b[0;31mRuntimeError\u001b[0m: Java gateway process exited before sending its port number"
     ]
    }
   ],
   "source": [
    "conf = pyspark.SparkConf().setAll([\n",
    "    ('spark.master', 'local[1]'),\n",
    "    ('spark.app.name', 'App Name')])\n",
    "spark = SparkSession.builder.config(conf=conf).getOrCreate()\n",
    "\n",
    "spark.version"
   ]
  },
  {
   "cell_type": "markdown",
   "id": "27fbcd4d-316a-4382-98b3-6e8cd6a0bd6b",
   "metadata": {
    "tags": []
   },
   "source": [
    "# Load in"
   ]
  },
  {
   "cell_type": "code",
   "execution_count": 3,
   "id": "028f02d3-6f73-4d58-848c-fa0fcbff86dc",
   "metadata": {
    "tags": []
   },
   "outputs": [],
   "source": [
    "'''set schema'''\n",
    "from pyspark.sql.types import StructType, StructField, StringType, IntegerType, DoubleType, TimestampType\n",
    "dfSchema = StructType([       \n",
    "    StructField('PatientId', IntegerType(), True),\n",
    "    StructField('GlucoseDisplayTime', TimestampType(), True),\n",
    "    StructField('GlucoseDisplayTimeRaw', StringType(), True),\n",
    "    StructField('Value', DoubleType(), True),\n",
    "    StructField('dayCSV', IntegerType(), True)\n",
    "])\n",
    "\n",
    "'''read in the csv'''\n",
    "df = spark.read\\\n",
    "    .option(\"mode\", \"DROPMALFORMED\") \\\n",
    "    .option(\"delimiter\",\",\") \\\n",
    "    .schema(dfSchema) \\\n",
    "    .csv('../../../../cephfs/cleanedData/2022-02_sample.csv') "
   ]
  },
  {
   "cell_type": "code",
   "execution_count": 4,
   "id": "f6382de6-10bd-4c44-9c0b-ab99d60d30e2",
   "metadata": {
    "tags": []
   },
   "outputs": [
    {
     "name": "stderr",
     "output_type": "stream",
     "text": [
      "                                                                                \r"
     ]
    },
    {
     "name": "stdout",
     "output_type": "stream",
     "text": [
      "row count:  790417\n",
      "root\n",
      " |-- PatientId: integer (nullable = true)\n",
      " |-- GlucoseDisplayTime: timestamp (nullable = true)\n",
      " |-- GlucoseDisplayTimeRaw: string (nullable = true)\n",
      " |-- Value: double (nullable = true)\n",
      " |-- dayCSV: integer (nullable = true)\n",
      "\n",
      "+---------+--------------------+---------------------+-----+------+\n",
      "|PatientId|  GlucoseDisplayTime|GlucoseDisplayTimeRaw|Value|dayCSV|\n",
      "+---------+--------------------+---------------------+-----+------+\n",
      "|     2189|2022-02-01 01:35:...| 2022-02-01T01:35:...|  0.0|     1|\n",
      "|     2189|2022-01-31 18:10:...| 2022-01-31T18:10:...|  0.0|     1|\n",
      "|     2189|2022-01-31 22:20:...| 2022-01-31T22:20:...|  0.0|     1|\n",
      "|     2189|2022-02-01 08:00:...| 2022-02-01T08:00:...|  0.0|     1|\n",
      "|     2189|2022-02-01 15:20:...| 2022-02-01T15:20:...|  0.0|     1|\n",
      "+---------+--------------------+---------------------+-----+------+\n",
      "only showing top 5 rows\n",
      "\n"
     ]
    },
    {
     "name": "stderr",
     "output_type": "stream",
     "text": [
      "                                                                                \r"
     ]
    }
   ],
   "source": [
    "print(\"row count: \", df.count())\n",
    "df.printSchema()\n",
    "# df.head(5)\n",
    "df.select(\"*\").show(5)"
   ]
  },
  {
   "cell_type": "markdown",
   "id": "6067c6bf-3af1-48ef-a781-996abfe1ebbe",
   "metadata": {},
   "source": [
    "# Prelim cleanup before filling"
   ]
  },
  {
   "cell_type": "markdown",
   "id": "d3c24385-8c50-4ae3-a74f-fd3c5e501b9d",
   "metadata": {},
   "source": [
    "### replace 0s with NaN to save a two steps down the line"
   ]
  },
  {
   "cell_type": "code",
   "execution_count": 9,
   "id": "5db2eccc-e622-42f2-83f0-1f59ee296a0b",
   "metadata": {},
   "outputs": [
    {
     "name": "stdout",
     "output_type": "stream",
     "text": [
      "+---------+--------------------+---------------------+-----+------+\n",
      "|PatientId|  GlucoseDisplayTime|GlucoseDisplayTimeRaw|Value|dayCSV|\n",
      "+---------+--------------------+---------------------+-----+------+\n",
      "|     2189|2022-02-01 01:35:...| 2022-02-01T01:35:...| null|     1|\n",
      "|     2189|2022-01-31 18:10:...| 2022-01-31T18:10:...| null|     1|\n",
      "|     2189|2022-01-31 22:20:...| 2022-01-31T22:20:...| null|     1|\n",
      "|     2189|2022-02-01 08:00:...| 2022-02-01T08:00:...| null|     1|\n",
      "|     2189|2022-02-01 15:20:...| 2022-02-01T15:20:...| null|     1|\n",
      "|     2189|2022-02-01 03:00:...| 2022-02-01T03:00:...| null|     1|\n",
      "|     2189|2022-02-01 14:40:...| 2022-02-01T14:40:...| null|     1|\n",
      "|     2189|2022-01-31 17:45:...| 2022-01-31T17:45:...| null|     1|\n",
      "|     2189|2022-02-01 07:15:...| 2022-02-01T07:15:...| null|     1|\n",
      "|     2189|2022-02-01 13:45:...| 2022-02-01T13:45:...| null|     1|\n",
      "|     2189|2022-02-01 10:30:...| 2022-02-01T10:30:...| null|     1|\n",
      "|     2189|2022-02-01 10:40:...| 2022-02-01T10:40:...| null|     1|\n",
      "|     2189|2022-02-01 12:20:...| 2022-02-01T12:20:...| null|     1|\n",
      "|     2189|2022-02-01 08:30:...| 2022-02-01T08:30:...| null|     1|\n",
      "|     2189|2022-01-31 19:05:...| 2022-01-31T19:05:...| null|     1|\n",
      "|     2189|2022-02-01 00:15:...| 2022-02-01T00:15:...| null|     1|\n",
      "|     2189|2022-01-31 21:10:...| 2022-01-31T21:10:...| null|     1|\n",
      "|     2189|2022-02-01 02:41:...| 2022-02-01T02:41:...| null|     1|\n",
      "|     2189|2022-01-31 23:50:...| 2022-01-31T23:50:...| null|     1|\n",
      "|     2189|2022-02-01 07:05:...| 2022-02-01T07:05:...| null|     1|\n",
      "+---------+--------------------+---------------------+-----+------+\n",
      "only showing top 20 rows\n",
      "\n"
     ]
    }
   ],
   "source": [
    "# lines.na.fill(value=0,subset=[\"population\"]).show()\n",
    "df.withColumn(\"Value\", \\\n",
    "       when(col(\"Value\")==\"0\", None) \\\n",
    "          .otherwise(col(\"Value\"))) \\\n",
    "  .show()"
   ]
  },
  {
   "cell_type": "code",
   "execution_count": null,
   "id": "5ae1109b-abd3-48cb-8c17-0b8947f76930",
   "metadata": {},
   "outputs": [],
   "source": []
  }
 ],
 "metadata": {
  "kernelspec": {
   "display_name": "glucose-venv",
   "language": "python",
   "name": "glucose-venv"
  },
  "language_info": {
   "codemirror_mode": {
    "name": "ipython",
    "version": 3
   },
   "file_extension": ".py",
   "mimetype": "text/x-python",
   "name": "python",
   "nbconvert_exporter": "python",
   "pygments_lexer": "ipython3",
   "version": "3.10.10"
  }
 },
 "nbformat": 4,
 "nbformat_minor": 5
}
