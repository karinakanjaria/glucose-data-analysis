{
 "cells": [
  {
   "cell_type": "code",
   "execution_count": 3,
   "id": "94a54bc8-7727-4bef-8e2a-1bd918926dca",
   "metadata": {
    "tags": []
   },
   "outputs": [],
   "source": [
    "import numpy as np\n",
    "import pandas as pd\n",
    "import pyspark\n",
    "from pyspark.sql import SparkSession, Window\n",
    "from pyspark.sql.functions import when, col, rank, monotonically_increasing_id, date_trunc\n",
    "from pyspark.sql.types import StructType, StructField, TimestampType #, StringType, IntegerType, FloatType\n",
    "\n",
    "# spark.stop()"
   ]
  },
  {
   "cell_type": "code",
   "execution_count": 2,
   "id": "a5c73201-1eb1-49ae-9c47-ebc62789ba6b",
   "metadata": {
    "tags": []
   },
   "outputs": [
    {
     "name": "stderr",
     "output_type": "stream",
     "text": [
      "Setting default log level to \"WARN\".\n",
      "To adjust logging level use sc.setLogLevel(newLevel). For SparkR, use setLogLevel(newLevel).\n"
     ]
    },
    {
     "name": "stdout",
     "output_type": "stream",
     "text": [
      "23/05/03 06:21:20 WARN NativeCodeLoader: Unable to load native-hadoop library for your platform... using builtin-java classes where applicable\n"
     ]
    },
    {
     "data": {
      "text/plain": [
       "'3.3.1'"
      ]
     },
     "execution_count": 2,
     "metadata": {},
     "output_type": "execute_result"
    }
   ],
   "source": [
    "conf = pyspark.SparkConf().setAll([\n",
    "    ('spark.master', 'local[1]'),\n",
    "    ('spark.app.name', 'App Name')])\n",
    "spark = SparkSession.builder.config(conf=conf).getOrCreate()\n",
    "\n",
    "spark.version"
   ]
  },
  {
   "cell_type": "markdown",
   "id": "27fbcd4d-316a-4382-98b3-6e8cd6a0bd6b",
   "metadata": {
    "tags": []
   },
   "source": [
    "# Load in"
   ]
  },
  {
   "cell_type": "code",
   "execution_count": 4,
   "id": "028f02d3-6f73-4d58-848c-fa0fcbff86dc",
   "metadata": {
    "tags": []
   },
   "outputs": [
    {
     "name": "stderr",
     "output_type": "stream",
     "text": [
      "                                                                                \r"
     ]
    }
   ],
   "source": [
    "'''set schema'''\n",
    "# from pyspark.sql.types import StructType, StructField, StringType, IntegerType, FloatType, TimestampType\n",
    "# dfSchema = StructType([       \n",
    "#     StructField('PatientId', StringType(),True),\n",
    "#     StructField('GlucoseDisplayTime', TimestampType(),True),\n",
    "#     StructField('Value', FloatType(),True)\n",
    "# ])\n",
    "\n",
    "'''read in the file'''\n",
    "# df = spark.read\\\n",
    "#     .option(\"mode\", \"DROPMALFORMED\") \\\n",
    "#     .option(\"delimiter\",\",\") \\\n",
    "#     .schema(dfSchema) \\\n",
    "#     .parquet('../../../../cephfs/stepped_glucose_data/step0_load/parquet_0_to_10/part-00000-02ebf86b-8495-41ff-acd3-ee636d696015-c000.snappy.parquet')\n",
    "df = spark.read\\\n",
    "    .parquet('../../../../cephfs/stepped_glucose_data/step0_load/parquet_20_to_30/part-00000-5e0113c9-7310-4581-aad1-0cc30cdaf9c1-c000.snappy.parquet')"
   ]
  },
  {
   "cell_type": "code",
   "execution_count": 5,
   "id": "f6382de6-10bd-4c44-9c0b-ab99d60d30e2",
   "metadata": {
    "tags": []
   },
   "outputs": [
    {
     "name": "stderr",
     "output_type": "stream",
     "text": [
      "                                                                                \r"
     ]
    },
    {
     "name": "stdout",
     "output_type": "stream",
     "text": [
      "row count:  21103760\n",
      "root\n",
      " |-- PatientId: string (nullable = true)\n",
      " |-- Value: float (nullable = true)\n",
      " |-- GlucoseDisplayTime: timestamp (nullable = true)\n",
      " |-- GlucoseDisplayTimeRaw: string (nullable = true)\n",
      " |-- GlucoseDisplayDate: date (nullable = true)\n",
      "\n"
     ]
    },
    {
     "name": "stderr",
     "output_type": "stream",
     "text": [
      "[Stage 4:>                                                          (0 + 1) / 1]\r"
     ]
    },
    {
     "name": "stdout",
     "output_type": "stream",
     "text": [
      "+--------------------+-----+--------------------+---------------------+------------------+\n",
      "|           PatientId|Value|  GlucoseDisplayTime|GlucoseDisplayTimeRaw|GlucoseDisplayDate|\n",
      "+--------------------+-----+--------------------+---------------------+------------------+\n",
      "|b+SG81ztOyK5NQEu3...|  0.0| 2022-09-18 18:29:29| 2022-09-18T18:29:...|        2022-09-18|\n",
      "|b+SG81ztOyK5NQEu3...|  0.0| 2022-09-18 18:59:30| 2022-09-18T18:59:...|        2022-09-18|\n",
      "|b+SG81ztOyK5NQEu3...|  0.0| 2022-09-18 18:34:30| 2022-09-18T18:34:...|        2022-09-18|\n",
      "|uyTjoy2I97rYCplix...|  0.0|2022-09-19 12:41:...| 2022-09-19T12:41:...|        2022-09-19|\n",
      "|uyTjoy2I97rYCplix...|  0.0|2022-09-19 12:16:...| 2022-09-19T12:16:...|        2022-09-19|\n",
      "|uyTjoy2I97rYCplix...|  0.0|2022-09-19 12:46:...| 2022-09-19T12:46:...|        2022-09-19|\n",
      "|uyTjoy2I97rYCplix...|  0.0|2022-09-19 14:31:...| 2022-09-19T14:31:...|        2022-09-19|\n",
      "|uyTjoy2I97rYCplix...|  0.0|2022-09-19 12:06:...| 2022-09-19T12:06:...|        2022-09-19|\n",
      "|jjA6z+XE4HfpJuRBb...|  0.0|2022-09-19 00:55:...| 2022-09-19T00:55:...|        2022-09-19|\n",
      "|jjA6z+XE4HfpJuRBb...|  0.0|2022-09-19 04:30:...| 2022-09-19T04:30:...|        2022-09-19|\n",
      "|jjA6z+XE4HfpJuRBb...|  0.0|2022-09-18 22:24:...| 2022-09-18T22:24:...|        2022-09-18|\n",
      "|jjA6z+XE4HfpJuRBb...|  0.0|2022-09-18 23:20:...| 2022-09-18T23:20:...|        2022-09-18|\n",
      "|jjA6z+XE4HfpJuRBb...|  0.0|2022-09-19 03:05:...| 2022-09-19T03:05:...|        2022-09-19|\n",
      "|jjA6z+XE4HfpJuRBb...|  0.0|2022-09-19 06:05:...| 2022-09-19T06:05:...|        2022-09-19|\n",
      "|jjA6z+XE4HfpJuRBb...|  0.0|2022-09-18 20:54:...| 2022-09-18T20:54:...|        2022-09-18|\n",
      "|jjA6z+XE4HfpJuRBb...|  0.0|2022-09-19 15:59:...| 2022-09-19T15:59:...|        2022-09-19|\n",
      "|jjA6z+XE4HfpJuRBb...|  0.0|2022-09-19 06:19:...| 2022-09-19T06:19:...|        2022-09-19|\n",
      "|jjA6z+XE4HfpJuRBb...|  0.0|2022-09-18 21:24:...| 2022-09-18T21:24:...|        2022-09-18|\n",
      "|jjA6z+XE4HfpJuRBb...|  0.0|2022-09-19 15:44:...| 2022-09-19T15:44:...|        2022-09-19|\n",
      "|jjA6z+XE4HfpJuRBb...|  0.0|2022-09-19 03:10:...| 2022-09-19T03:10:...|        2022-09-19|\n",
      "+--------------------+-----+--------------------+---------------------+------------------+\n",
      "only showing top 20 rows\n",
      "\n"
     ]
    },
    {
     "name": "stderr",
     "output_type": "stream",
     "text": [
      "                                                                                \r"
     ]
    }
   ],
   "source": [
    "print(\"row count: \", df.count())\n",
    "df.printSchema()\n",
    "# df.head(5)\n",
    "df.select(\"*\").show(20)"
   ]
  },
  {
   "cell_type": "code",
   "execution_count": 28,
   "id": "fd7d8b74-bd2a-4857-9140-519398ed4678",
   "metadata": {
    "tags": []
   },
   "outputs": [],
   "source": [
    "spark.stop()"
   ]
  },
  {
   "cell_type": "markdown",
   "id": "6067c6bf-3af1-48ef-a781-996abfe1ebbe",
   "metadata": {},
   "source": [
    "# Prelim cleanup before filling"
   ]
  },
  {
   "cell_type": "code",
   "execution_count": 6,
   "id": "5ae1109b-abd3-48cb-8c17-0b8947f76930",
   "metadata": {},
   "outputs": [
    {
     "name": "stderr",
     "output_type": "stream",
     "text": [
      "                                                                                \r"
     ]
    },
    {
     "name": "stdout",
     "output_type": "stream",
     "text": [
      "row count:  3750806\n",
      "+--------------------+-----+--------------------+---------------------+------------------+\n",
      "|           PatientId|Value|  GlucoseDisplayTime|GlucoseDisplayTimeRaw|GlucoseDisplayDate|\n",
      "+--------------------+-----+--------------------+---------------------+------------------+\n",
      "|VYkNdgKKd2wKCc+o0...|  0.0|2022-02-24 22:19:...| 2022-02-24T22:19:...|        2022-02-24|\n",
      "|VYkNdgKKd2wKCc+o0...|  0.0|2022-02-24 21:49:...| 2022-02-24T21:49:...|        2022-02-24|\n",
      "|VYkNdgKKd2wKCc+o0...|  0.0|2022-02-23 22:44:...| 2022-02-23T22:44:...|        2022-02-23|\n",
      "|VYkNdgKKd2wKCc+o0...|  0.0|2022-02-24 22:34:...| 2022-02-24T22:34:...|        2022-02-24|\n",
      "|jw822om9zvX2ZUZ+C...|  0.0|2022-02-24 19:34:...| 2022-02-24T19:34:...|        2022-02-24|\n",
      "|jw822om9zvX2ZUZ+C...|  0.0|2022-02-24 19:19:...| 2022-02-24T19:19:...|        2022-02-24|\n",
      "|jw822om9zvX2ZUZ+C...|  0.0|2022-02-24 18:59:...| 2022-02-24T18:59:...|        2022-02-24|\n",
      "|jw822om9zvX2ZUZ+C...|  0.0|2022-02-24 18:34:...| 2022-02-24T18:34:...|        2022-02-24|\n",
      "|jw822om9zvX2ZUZ+C...|  0.0|2022-02-24 18:44:...| 2022-02-24T18:44:...|        2022-02-24|\n",
      "|jw822om9zvX2ZUZ+C...|  0.0|2022-02-24 20:04:...| 2022-02-24T20:04:...|        2022-02-24|\n",
      "|jw822om9zvX2ZUZ+C...|  0.0|2022-02-24 18:24:...| 2022-02-24T18:24:...|        2022-02-24|\n",
      "|6YbBw3fkcKw6bM5VH...|  0.0|2022-02-25 10:36:...| 2022-02-25T10:36:...|        2022-02-25|\n",
      "|fyUbOdlkNeTbX4bwI...|  0.0| 2022-02-25 14:31:17| 2022-02-25T14:31:...|        2022-02-25|\n",
      "|fyUbOdlkNeTbX4bwI...|  0.0| 2022-02-25 10:51:20| 2022-02-25T10:51:...|        2022-02-25|\n",
      "|fyUbOdlkNeTbX4bwI...|  0.0| 2022-02-24 21:21:15| 2022-02-24T21:21:...|        2022-02-24|\n",
      "|fyUbOdlkNeTbX4bwI...|  0.0| 2022-02-24 21:41:15| 2022-02-24T21:41:...|        2022-02-24|\n",
      "|fyUbOdlkNeTbX4bwI...|  0.0| 2022-02-24 23:51:17| 2022-02-24T23:51:...|        2022-02-24|\n",
      "|fyUbOdlkNeTbX4bwI...|  0.0| 2022-02-25 12:31:19| 2022-02-25T12:31:...|        2022-02-25|\n",
      "|fyUbOdlkNeTbX4bwI...|  0.0| 2022-02-24 22:46:18| 2022-02-24T22:46:...|        2022-02-24|\n",
      "|fyUbOdlkNeTbX4bwI...|  0.0| 2022-02-25 04:31:16| 2022-02-25T04:31:...|        2022-02-25|\n",
      "+--------------------+-----+--------------------+---------------------+------------------+\n",
      "only showing top 20 rows\n",
      "\n"
     ]
    }
   ],
   "source": [
    "'''temp getting rid of any dates from before the actual start-date'''\n",
    "df = df.filter(\"GlucoseDisplayDate > date'2022-02-20'\")\n",
    "df = df.filter(\"GlucoseDisplayDate < date'2022-03-03'\")\n",
    "\n",
    "print(\"row count: \", df.count())\n",
    "df.show()"
   ]
  },
  {
   "cell_type": "code",
   "execution_count": 15,
   "id": "590dec26-24d8-47ef-9759-136a6523dc6c",
   "metadata": {
    "tags": []
   },
   "outputs": [
    {
     "data": {
      "text/plain": [
       "17352954"
      ]
     },
     "execution_count": 15,
     "metadata": {},
     "output_type": "execute_result"
    }
   ],
   "source": [
    "21103760-3750806"
   ]
  },
  {
   "cell_type": "code",
   "execution_count": 14,
   "id": "3b1aba8b-d7e0-4a17-8da1-dcd6ee34dad3",
   "metadata": {
    "tags": []
   },
   "outputs": [
    {
     "name": "stderr",
     "output_type": "stream",
     "text": [
      "                                                                                \r"
     ]
    },
    {
     "data": {
      "text/plain": [
       "[Row(GlucoseDisplayDate=datetime.date(2022, 2, 25)),\n",
       " Row(GlucoseDisplayDate=datetime.date(2022, 2, 22)),\n",
       " Row(GlucoseDisplayDate=datetime.date(2022, 2, 28)),\n",
       " Row(GlucoseDisplayDate=datetime.date(2022, 3, 1)),\n",
       " Row(GlucoseDisplayDate=datetime.date(2022, 2, 23)),\n",
       " Row(GlucoseDisplayDate=datetime.date(2022, 2, 21)),\n",
       " Row(GlucoseDisplayDate=datetime.date(2022, 2, 27)),\n",
       " Row(GlucoseDisplayDate=datetime.date(2022, 2, 26)),\n",
       " Row(GlucoseDisplayDate=datetime.date(2022, 2, 24)),\n",
       " Row(GlucoseDisplayDate=datetime.date(2022, 3, 2))]"
      ]
     },
     "execution_count": 14,
     "metadata": {},
     "output_type": "execute_result"
    }
   ],
   "source": [
    "df.select('GlucoseDisplayDate').distinct().collect()"
   ]
  },
  {
   "cell_type": "markdown",
   "id": "d3c24385-8c50-4ae3-a74f-fd3c5e501b9d",
   "metadata": {},
   "source": [
    "### replace 0s with NaN, AND dropna\n",
    "drop the NaNs because we don't want to mistakenly start or end with a NaN in the resampling steps"
   ]
  },
  {
   "cell_type": "code",
   "execution_count": 8,
   "id": "5db2eccc-e622-42f2-83f0-1f59ee296a0b",
   "metadata": {},
   "outputs": [
    {
     "name": "stderr",
     "output_type": "stream",
     "text": [
      "                                                                                \r"
     ]
    },
    {
     "name": "stdout",
     "output_type": "stream",
     "text": [
      "row count:  3571251\n",
      "+--------------------+-----+-------------------+---------------------+------------------+\n",
      "|           PatientId|Value| GlucoseDisplayTime|GlucoseDisplayTimeRaw|GlucoseDisplayDate|\n",
      "+--------------------+-----+-------------------+---------------------+------------------+\n",
      "|d0dv9A8no1AasCnoL...|133.0|2022-02-25 04:31:08| 2022-02-25T04:31:...|        2022-02-25|\n",
      "|d0dv9A8no1AasCnoL...|148.0|2022-02-24 19:31:07| 2022-02-24T19:31:...|        2022-02-24|\n",
      "|d0dv9A8no1AasCnoL...|147.0|2022-02-24 22:56:08| 2022-02-24T22:56:...|        2022-02-24|\n",
      "|d0dv9A8no1AasCnoL...|158.0|2022-02-24 21:36:08| 2022-02-24T21:36:...|        2022-02-24|\n",
      "|d0dv9A8no1AasCnoL...|141.0|2022-02-25 00:16:08| 2022-02-25T00:16:...|        2022-02-25|\n",
      "|d0dv9A8no1AasCnoL...|145.0|2022-02-24 23:11:07| 2022-02-24T23:11:...|        2022-02-24|\n",
      "|d0dv9A8no1AasCnoL...|201.0|2022-02-25 18:06:11| 2022-02-25T18:06:...|        2022-02-25|\n",
      "|d0dv9A8no1AasCnoL...|155.0|2022-02-24 19:41:07| 2022-02-24T19:41:...|        2022-02-24|\n",
      "|d0dv9A8no1AasCnoL...|162.0|2022-02-24 18:41:07| 2022-02-24T18:41:...|        2022-02-24|\n",
      "|d0dv9A8no1AasCnoL...|148.0|2022-02-24 22:51:08| 2022-02-24T22:51:...|        2022-02-24|\n",
      "|d0dv9A8no1AasCnoL...| 91.0|2022-02-25 14:21:10| 2022-02-25T14:21:...|        2022-02-25|\n",
      "|d0dv9A8no1AasCnoL...|158.0|2022-02-24 20:16:07| 2022-02-24T20:16:...|        2022-02-24|\n",
      "|d0dv9A8no1AasCnoL...|121.0|2022-02-25 08:01:09| 2022-02-25T08:01:...|        2022-02-25|\n",
      "|d0dv9A8no1AasCnoL...|141.0|2022-02-25 00:36:07| 2022-02-25T00:36:...|        2022-02-25|\n",
      "|d0dv9A8no1AasCnoL...|162.0|2022-02-24 21:06:07| 2022-02-24T21:06:...|        2022-02-24|\n",
      "|d0dv9A8no1AasCnoL...|135.0|2022-02-25 03:46:09| 2022-02-25T03:46:...|        2022-02-25|\n",
      "|d0dv9A8no1AasCnoL...|178.0|2022-02-25 11:11:09| 2022-02-25T11:11:...|        2022-02-25|\n",
      "|d0dv9A8no1AasCnoL...|102.0|2022-02-25 16:11:10| 2022-02-25T16:11:...|        2022-02-25|\n",
      "|d0dv9A8no1AasCnoL...|141.0|2022-02-25 00:46:08| 2022-02-25T00:46:...|        2022-02-25|\n",
      "|d0dv9A8no1AasCnoL...|143.0|2022-02-24 23:51:08| 2022-02-24T23:51:...|        2022-02-24|\n",
      "+--------------------+-----+-------------------+---------------------+------------------+\n",
      "only showing top 20 rows\n",
      "\n"
     ]
    }
   ],
   "source": [
    "df = df.withColumn(\"Value\", \\\n",
    "           when(col(\"Value\")==\"0\", None) \\\n",
    "              .otherwise(col(\"Value\")))\n",
    "df = df.na.drop(subset=['PatientId','Value','GlucoseDisplayTime'])\n",
    "\n",
    "print(\"row count: \", df.count())\n",
    "df.show()"
   ]
  },
  {
   "cell_type": "markdown",
   "id": "6e87aaf1-b3ec-48a5-b632-bcd864e40685",
   "metadata": {},
   "source": [
    "### drop duplicate datetimes for each patient"
   ]
  },
  {
   "cell_type": "code",
   "execution_count": 9,
   "id": "072d6401-cdf8-4b7a-9876-5a2c5f86166c",
   "metadata": {
    "tags": []
   },
   "outputs": [
    {
     "name": "stderr",
     "output_type": "stream",
     "text": [
      "                                                                                \r"
     ]
    },
    {
     "name": "stdout",
     "output_type": "stream",
     "text": [
      "row count:  3570967\n"
     ]
    },
    {
     "name": "stderr",
     "output_type": "stream",
     "text": [
      "[Stage 25:>                                                         (0 + 1) / 1]\r"
     ]
    },
    {
     "name": "stdout",
     "output_type": "stream",
     "text": [
      "+--------------------+-----+-------------------+---------------------+------------------+\n",
      "|           PatientId|Value| GlucoseDisplayTime|GlucoseDisplayTimeRaw|GlucoseDisplayDate|\n",
      "+--------------------+-----+-------------------+---------------------+------------------+\n",
      "|v6Muwq9Wr+EIIodOO...|153.0|2022-02-21 00:19:39| 2022-02-21T00:19:...|        2022-02-21|\n",
      "|v6Muwq9Wr+EIIodOO...|153.0|2022-02-21 00:24:39| 2022-02-21T00:24:...|        2022-02-21|\n",
      "|Wo5LaLOXvDxy7vYwX...|221.0|2022-02-21 00:30:59| 2022-02-21T00:30:...|        2022-02-21|\n",
      "|v6Muwq9Wr+EIIodOO...|154.0|2022-02-21 00:34:39| 2022-02-21T00:34:...|        2022-02-21|\n",
      "|v6Muwq9Wr+EIIodOO...|154.0|2022-02-21 00:44:40| 2022-02-21T00:44:...|        2022-02-21|\n",
      "|mHKJn550xt0PQLNy+...|166.0|2022-02-21 00:48:07| 2022-02-21T00:48:...|        2022-02-21|\n",
      "|Wo5LaLOXvDxy7vYwX...|195.0|2022-02-21 00:50:58| 2022-02-21T00:50:...|        2022-02-21|\n",
      "|mHKJn550xt0PQLNy+...|168.0|2022-02-21 00:53:07| 2022-02-21T00:53:...|        2022-02-21|\n",
      "|v6Muwq9Wr+EIIodOO...|153.0|2022-02-21 00:54:39| 2022-02-21T00:54:...|        2022-02-21|\n",
      "|v6Muwq9Wr+EIIodOO...|150.0|2022-02-21 00:59:39| 2022-02-21T00:59:...|        2022-02-21|\n",
      "|v6Muwq9Wr+EIIodOO...|143.0|2022-02-21 01:19:39| 2022-02-21T01:19:...|        2022-02-21|\n",
      "|v6Muwq9Wr+EIIodOO...|142.0|2022-02-21 01:24:39| 2022-02-21T01:24:...|        2022-02-21|\n",
      "|mHKJn550xt0PQLNy+...|168.0|2022-02-21 01:38:07| 2022-02-21T01:38:...|        2022-02-21|\n",
      "|Wo5LaLOXvDxy7vYwX...|166.0|2022-02-21 01:40:58| 2022-02-21T01:40:...|        2022-02-21|\n",
      "|mHKJn550xt0PQLNy+...|167.0|2022-02-21 01:43:07| 2022-02-21T01:43:...|        2022-02-21|\n",
      "|mHKJn550xt0PQLNy+...|165.0|2022-02-21 01:53:07| 2022-02-21T01:53:...|        2022-02-21|\n",
      "|mHKJn550xt0PQLNy+...|159.0|2022-02-21 02:08:08| 2022-02-21T02:08:...|        2022-02-21|\n",
      "|Wo5LaLOXvDxy7vYwX...|147.0|2022-02-21 02:10:59| 2022-02-21T02:10:...|        2022-02-21|\n",
      "|v6Muwq9Wr+EIIodOO...|148.0|2022-02-21 02:19:39| 2022-02-21T02:19:...|        2022-02-21|\n",
      "|Wo5LaLOXvDxy7vYwX...|141.0|2022-02-21 02:25:59| 2022-02-21T02:25:...|        2022-02-21|\n",
      "+--------------------+-----+-------------------+---------------------+------------------+\n",
      "only showing top 20 rows\n",
      "\n"
     ]
    },
    {
     "name": "stderr",
     "output_type": "stream",
     "text": [
      "                                                                                \r"
     ]
    }
   ],
   "source": [
    "from pyspark.sql import Window\n",
    "from pyspark.sql.functions import rank, col, monotonically_increasing_id\n",
    "\n",
    "window = Window.partitionBy('GlucoseDisplayTime','PatientId').orderBy('tiebreak')\n",
    "df = (df\n",
    " .withColumn('tiebreak', monotonically_increasing_id())\n",
    " .withColumn('rank', rank().over(window))\n",
    " .filter(col('rank') == 1).drop('rank','tiebreak')\n",
    ")\n",
    "\n",
    "print(\"row count: \", df.count())\n",
    "df.show()"
   ]
  },
  {
   "cell_type": "code",
   "execution_count": 10,
   "id": "0dc06ce1-17d4-455a-bc7e-edbb0aadd83c",
   "metadata": {
    "tags": []
   },
   "outputs": [
    {
     "name": "stdout",
     "output_type": "stream",
     "text": [
      "only lost 179839 rows\n"
     ]
    }
   ],
   "source": [
    "print(\"only lost\", 3750806-3570967, \"rows\")"
   ]
  },
  {
   "cell_type": "markdown",
   "id": "b8db26d9-5030-42f2-a856-cc5947f4a160",
   "metadata": {},
   "source": [
    "# fill in missing timestamps"
   ]
  },
  {
   "cell_type": "markdown",
   "id": "1a659285-28f6-4cee-b257-d79024a8c001",
   "metadata": {},
   "source": [
    "* get rid of seconds\n",
    "* get first and last date\n",
    "* make a range that fills all those in\n",
    "* make a dataframe of those dates\n",
    "* merge og dataframe back into the new one along the dates"
   ]
  },
  {
   "cell_type": "code",
   "execution_count": 11,
   "id": "07828ff9-79b0-4660-8945-6623818fd64d",
   "metadata": {
    "tags": []
   },
   "outputs": [
    {
     "name": "stderr",
     "output_type": "stream",
     "text": [
      "                                                                                \r"
     ]
    },
    {
     "name": "stdout",
     "output_type": "stream",
     "text": [
      "row count:  3570967\n"
     ]
    },
    {
     "name": "stderr",
     "output_type": "stream",
     "text": [
      "[Stage 34:>                                                         (0 + 1) / 1]\r"
     ]
    },
    {
     "name": "stdout",
     "output_type": "stream",
     "text": [
      "+--------------------+-----+-------------------+---------------------+------------------+\n",
      "|           PatientId|Value| GlucoseDisplayTime|GlucoseDisplayTimeRaw|GlucoseDisplayDate|\n",
      "+--------------------+-----+-------------------+---------------------+------------------+\n",
      "|v6Muwq9Wr+EIIodOO...|153.0|2022-02-21 00:19:00| 2022-02-21T00:19:...|        2022-02-21|\n",
      "|v6Muwq9Wr+EIIodOO...|153.0|2022-02-21 00:24:00| 2022-02-21T00:24:...|        2022-02-21|\n",
      "|Wo5LaLOXvDxy7vYwX...|221.0|2022-02-21 00:30:00| 2022-02-21T00:30:...|        2022-02-21|\n",
      "|v6Muwq9Wr+EIIodOO...|154.0|2022-02-21 00:34:00| 2022-02-21T00:34:...|        2022-02-21|\n",
      "|v6Muwq9Wr+EIIodOO...|154.0|2022-02-21 00:44:00| 2022-02-21T00:44:...|        2022-02-21|\n",
      "|mHKJn550xt0PQLNy+...|166.0|2022-02-21 00:48:00| 2022-02-21T00:48:...|        2022-02-21|\n",
      "|Wo5LaLOXvDxy7vYwX...|195.0|2022-02-21 00:50:00| 2022-02-21T00:50:...|        2022-02-21|\n",
      "|mHKJn550xt0PQLNy+...|168.0|2022-02-21 00:53:00| 2022-02-21T00:53:...|        2022-02-21|\n",
      "|v6Muwq9Wr+EIIodOO...|153.0|2022-02-21 00:54:00| 2022-02-21T00:54:...|        2022-02-21|\n",
      "|v6Muwq9Wr+EIIodOO...|150.0|2022-02-21 00:59:00| 2022-02-21T00:59:...|        2022-02-21|\n",
      "|v6Muwq9Wr+EIIodOO...|143.0|2022-02-21 01:19:00| 2022-02-21T01:19:...|        2022-02-21|\n",
      "|v6Muwq9Wr+EIIodOO...|142.0|2022-02-21 01:24:00| 2022-02-21T01:24:...|        2022-02-21|\n",
      "|mHKJn550xt0PQLNy+...|168.0|2022-02-21 01:38:00| 2022-02-21T01:38:...|        2022-02-21|\n",
      "|Wo5LaLOXvDxy7vYwX...|166.0|2022-02-21 01:40:00| 2022-02-21T01:40:...|        2022-02-21|\n",
      "|mHKJn550xt0PQLNy+...|167.0|2022-02-21 01:43:00| 2022-02-21T01:43:...|        2022-02-21|\n",
      "|mHKJn550xt0PQLNy+...|165.0|2022-02-21 01:53:00| 2022-02-21T01:53:...|        2022-02-21|\n",
      "|mHKJn550xt0PQLNy+...|159.0|2022-02-21 02:08:00| 2022-02-21T02:08:...|        2022-02-21|\n",
      "|Wo5LaLOXvDxy7vYwX...|147.0|2022-02-21 02:10:00| 2022-02-21T02:10:...|        2022-02-21|\n",
      "|v6Muwq9Wr+EIIodOO...|148.0|2022-02-21 02:19:00| 2022-02-21T02:19:...|        2022-02-21|\n",
      "|Wo5LaLOXvDxy7vYwX...|141.0|2022-02-21 02:25:00| 2022-02-21T02:25:...|        2022-02-21|\n",
      "+--------------------+-----+-------------------+---------------------+------------------+\n",
      "only showing top 20 rows\n",
      "\n"
     ]
    },
    {
     "name": "stderr",
     "output_type": "stream",
     "text": [
      "                                                                                \r"
     ]
    }
   ],
   "source": [
    "'''get rid of seconds'''\n",
    "from pyspark.sql.functions import date_trunc\n",
    "\n",
    "df = df.withColumn('GlucoseDisplayTime', date_trunc('minute', df.GlucoseDisplayTime))\n",
    "\n",
    "print(\"row count: \", df.count())\n",
    "df.show()"
   ]
  },
  {
   "cell_type": "markdown",
   "id": "6e0e0128-34be-4a3c-a7c5-6b192bac4e11",
   "metadata": {},
   "source": [
    "### split by patient"
   ]
  },
  {
   "cell_type": "code",
   "execution_count": 54,
   "id": "9487204c-9e78-46b1-9b2f-928de708ddc7",
   "metadata": {
    "tags": []
   },
   "outputs": [
    {
     "name": "stderr",
     "output_type": "stream",
     "text": [
      "                                                                                \r"
     ]
    },
    {
     "data": {
      "text/plain": [
       "['w3byHxzYcuCWbH7Gvn6uxO/qFSRxEFGo8M4EC7HKi2E=',\n",
       " 'BDIEttZRgW/oC8TBmA33OCMrCte7iUnd1ppJs0b8XZI=',\n",
       " 'vH4j/sVPDk4luo9wfgyHaPGhwCIxZ5L5mRlRk8Se9F4=',\n",
       " 'tCu+A/d9bWRBYQ6VCpvhuC4zOj0DOfqChQxRCYo7Poo=',\n",
       " 'kXxwAcr9mfPzbKHKkwaCxK4Cf8e4UAWioOFi9BA8GwM=',\n",
       " 'ER+gxKFxHvXyfESG6sxYwoE7IoQMUvDrSn1Tv3tzLKY=',\n",
       " 'Zw997clFRcTAHrWiOlv01fcjptafxboYCEHbZ2kyrXU=',\n",
       " 'L2yvv+kXYTaNN31CVnu5kYUv0qu7tZgVTnTFGRSjTM0=',\n",
       " 'H24YXOcfrUrg312CBv0XvsL2x1TniFAVRqmZetYVHD8=',\n",
       " 'Fo+LgUqZPK5pRUJ1OM5hZxQLIT3GxWBIOcCPuBj+tPY=']"
      ]
     },
     "execution_count": 54,
     "metadata": {},
     "output_type": "execute_result"
    }
   ],
   "source": [
    "'''get patient IDs (takes ~30 seconds to run this) (only 6325 patients)'''\n",
    "patIds = [i.PatientId for i in df.select('PatientId').distinct().collect()]\n",
    "patIds[0:10]"
   ]
  },
  {
   "cell_type": "code",
   "execution_count": 13,
   "id": "c8ed2c38-c267-41c1-9d94-63ade6720a80",
   "metadata": {
    "tags": []
   },
   "outputs": [
    {
     "data": {
      "text/plain": [
       "6711"
      ]
     },
     "execution_count": 13,
     "metadata": {},
     "output_type": "execute_result"
    }
   ],
   "source": [
    "len(patIds)"
   ]
  },
  {
   "cell_type": "code",
   "execution_count": 59,
   "id": "7eef18c4-1690-4687-8a9e-5099aa8fef08",
   "metadata": {
    "tags": []
   },
   "outputs": [
    {
     "name": "stdout",
     "output_type": "stream",
     "text": [
      "row count:  333\n"
     ]
    },
    {
     "name": "stderr",
     "output_type": "stream",
     "text": [
      "[Stage 258:===================>                                     (1 + 1) / 3]\r"
     ]
    },
    {
     "name": "stdout",
     "output_type": "stream",
     "text": [
      "+--------------------+-----+-------------------+---------------------+------------------+\n",
      "|           PatientId|Value| GlucoseDisplayTime|GlucoseDisplayTimeRaw|GlucoseDisplayDate|\n",
      "+--------------------+-----+-------------------+---------------------+------------------+\n",
      "|UNrE+DKLY8WEQsGhg...|222.0|2022-02-25 10:49:00| 2022-02-25T10:49:...|        2022-02-25|\n",
      "|UNrE+DKLY8WEQsGhg...|218.0|2022-02-25 10:54:00| 2022-02-25T10:54:...|        2022-02-25|\n",
      "|UNrE+DKLY8WEQsGhg...|216.0|2022-02-25 10:59:00| 2022-02-25T10:59:...|        2022-02-25|\n",
      "|UNrE+DKLY8WEQsGhg...|211.0|2022-02-25 11:04:00| 2022-02-25T11:04:...|        2022-02-25|\n",
      "|UNrE+DKLY8WEQsGhg...|211.0|2022-02-25 11:09:00| 2022-02-25T11:09:...|        2022-02-25|\n",
      "|UNrE+DKLY8WEQsGhg...|205.0|2022-02-25 11:14:00| 2022-02-25T11:14:...|        2022-02-25|\n",
      "|UNrE+DKLY8WEQsGhg...|199.0|2022-02-25 11:19:00| 2022-02-25T11:19:...|        2022-02-25|\n",
      "|UNrE+DKLY8WEQsGhg...|201.0|2022-02-25 11:24:00| 2022-02-25T11:24:...|        2022-02-25|\n",
      "|UNrE+DKLY8WEQsGhg...|195.0|2022-02-25 11:29:00| 2022-02-25T11:29:...|        2022-02-25|\n",
      "|UNrE+DKLY8WEQsGhg...|175.0|2022-02-25 11:34:00| 2022-02-25T11:34:...|        2022-02-25|\n",
      "|UNrE+DKLY8WEQsGhg...|183.0|2022-02-25 11:39:00| 2022-02-25T11:39:...|        2022-02-25|\n",
      "|UNrE+DKLY8WEQsGhg...|177.0|2022-02-25 11:44:00| 2022-02-25T11:44:...|        2022-02-25|\n",
      "|UNrE+DKLY8WEQsGhg...|177.0|2022-02-25 11:49:00| 2022-02-25T11:49:...|        2022-02-25|\n",
      "|UNrE+DKLY8WEQsGhg...|177.0|2022-02-25 11:54:00| 2022-02-25T11:54:...|        2022-02-25|\n",
      "|UNrE+DKLY8WEQsGhg...|171.0|2022-02-25 11:59:00| 2022-02-25T11:59:...|        2022-02-25|\n",
      "|UNrE+DKLY8WEQsGhg...|169.0|2022-02-25 12:04:00| 2022-02-25T12:04:...|        2022-02-25|\n",
      "|UNrE+DKLY8WEQsGhg...|167.0|2022-02-25 12:09:00| 2022-02-25T12:09:...|        2022-02-25|\n",
      "|UNrE+DKLY8WEQsGhg...|169.0|2022-02-25 12:14:00| 2022-02-25T12:14:...|        2022-02-25|\n",
      "|UNrE+DKLY8WEQsGhg...|172.0|2022-02-25 12:19:00| 2022-02-25T12:19:...|        2022-02-25|\n",
      "|UNrE+DKLY8WEQsGhg...|170.0|2022-02-25 12:24:00| 2022-02-25T12:24:...|        2022-02-25|\n",
      "+--------------------+-----+-------------------+---------------------+------------------+\n",
      "only showing top 20 rows\n",
      "\n"
     ]
    },
    {
     "name": "stderr",
     "output_type": "stream",
     "text": [
      "                                                                                \r"
     ]
    }
   ],
   "source": [
    "'''save dataframe of just 1 patient'''\n",
    "patient_str = \"UNrE+DKLY8WEQsGhgJWIhSBlMYSn9szanvBQuoGKSjg=\"\n",
    "\n",
    "subset = df.filter(\"PatientId = 'UNrE+DKLY8WEQsGhgJWIhSBlMYSn9szanvBQuoGKSjg='\")\n",
    "\n",
    "print(\"row count: \", subset.count())\n",
    "subset.show()"
   ]
  },
  {
   "cell_type": "code",
   "execution_count": 15,
   "id": "0420cdd3-ab57-4fd7-8fe6-8992e8aab393",
   "metadata": {
    "tags": []
   },
   "outputs": [
    {
     "name": "stderr",
     "output_type": "stream",
     "text": [
      "                                                                                \r"
     ]
    },
    {
     "data": {
      "text/plain": [
       "(datetime.datetime(2022, 2, 25, 10, 49),\n",
       " datetime.datetime(2022, 2, 28, 14, 59))"
      ]
     },
     "execution_count": 15,
     "metadata": {},
     "output_type": "execute_result"
    }
   ],
   "source": [
    "'''get first and last date (takes about 10 seconds per ten days of one patient)'''\n",
    "minimum = subset.agg({'GlucoseDisplayTime': 'min'}).collect()[0][0]\n",
    "maximum = subset.agg({'GlucoseDisplayTime': 'max'}).collect()[0][0]\n",
    "minimum, maximum"
   ]
  },
  {
   "cell_type": "markdown",
   "id": "98ba5971-a78e-4c78-a65d-60aca5bfe0e9",
   "metadata": {
    "tags": []
   },
   "source": [
    "#### asside for visuals and pandas"
   ]
  },
  {
   "cell_type": "code",
   "execution_count": 27,
   "id": "b21ba222-8d3f-4243-96c0-13f22068961a",
   "metadata": {
    "tags": []
   },
   "outputs": [
    {
     "name": "stderr",
     "output_type": "stream",
     "text": [
      "[Stage 63:======================================>                   (2 + 1) / 3]\r"
     ]
    },
    {
     "name": "stdout",
     "output_type": "stream",
     "text": [
      "+--------------------+-----+-------------------+---------------------+------------------+\n",
      "|           PatientId|Value| GlucoseDisplayTime|GlucoseDisplayTimeRaw|GlucoseDisplayDate|\n",
      "+--------------------+-----+-------------------+---------------------+------------------+\n",
      "|UNrE+DKLY8WEQsGhg...|105.0|2022-02-28 14:59:00| 2022-02-28T14:59:...|        2022-02-28|\n",
      "+--------------------+-----+-------------------+---------------------+------------------+\n",
      "\n"
     ]
    },
    {
     "name": "stderr",
     "output_type": "stream",
     "text": [
      "                                                                                \r"
     ]
    }
   ],
   "source": [
    "# subset.filter(\"GlucoseDisplayTime = timestamp'2022-02-25 10:49:00'\").show()\n",
    "subset.filter(\"GlucoseDisplayTime = timestamp'2022-02-28 14:59:00'\").show()\n",
    "# minimum, maximum"
   ]
  },
  {
   "cell_type": "code",
   "execution_count": 22,
   "id": "38112f24-2281-4921-b190-2e25f7ce819d",
   "metadata": {
    "tags": []
   },
   "outputs": [
    {
     "name": "stderr",
     "output_type": "stream",
     "text": [
      "/home/jovyan/glucose-data-analysis/glucose_venv/lib/python3.10/site-packages/pyspark/sql/pandas/conversion.py:248: FutureWarning: Passing unit-less datetime64 dtype to .astype is deprecated and will raise in a future version. Pass 'datetime64[ns]' instead\n",
      "  series = series.astype(t, copy=False)\n"
     ]
    },
    {
     "name": "stdout",
     "output_type": "stream",
     "text": [
      "<class 'pandas.core.frame.DataFrame'>\n",
      "RangeIndex: 333 entries, 0 to 332\n",
      "Data columns (total 5 columns):\n",
      " #   Column                 Non-Null Count  Dtype         \n",
      "---  ------                 --------------  -----         \n",
      " 0   PatientId              333 non-null    object        \n",
      " 1   Value                  333 non-null    float32       \n",
      " 2   GlucoseDisplayTime     333 non-null    datetime64[ns]\n",
      " 3   GlucoseDisplayTimeRaw  333 non-null    object        \n",
      " 4   GlucoseDisplayDate     333 non-null    object        \n",
      "dtypes: datetime64[ns](1), float32(1), object(3)\n",
      "memory usage: 11.8+ KB\n",
      "None\n"
     ]
    },
    {
     "data": {
      "text/html": [
       "<div>\n",
       "<style scoped>\n",
       "    .dataframe tbody tr th:only-of-type {\n",
       "        vertical-align: middle;\n",
       "    }\n",
       "\n",
       "    .dataframe tbody tr th {\n",
       "        vertical-align: top;\n",
       "    }\n",
       "\n",
       "    .dataframe thead th {\n",
       "        text-align: right;\n",
       "    }\n",
       "</style>\n",
       "<table border=\"1\" class=\"dataframe\">\n",
       "  <thead>\n",
       "    <tr style=\"text-align: right;\">\n",
       "      <th></th>\n",
       "      <th>PatientId</th>\n",
       "      <th>Value</th>\n",
       "      <th>GlucoseDisplayTime</th>\n",
       "      <th>GlucoseDisplayTimeRaw</th>\n",
       "      <th>GlucoseDisplayDate</th>\n",
       "    </tr>\n",
       "  </thead>\n",
       "  <tbody>\n",
       "    <tr>\n",
       "      <th>0</th>\n",
       "      <td>UNrE+DKLY8WEQsGhgJWIhSBlMYSn9szanvBQuoGKSjg=</td>\n",
       "      <td>222.0</td>\n",
       "      <td>2022-02-25 10:49:00</td>\n",
       "      <td>2022-02-25T10:49:20.000-08:00</td>\n",
       "      <td>2022-02-25</td>\n",
       "    </tr>\n",
       "    <tr>\n",
       "      <th>1</th>\n",
       "      <td>UNrE+DKLY8WEQsGhgJWIhSBlMYSn9szanvBQuoGKSjg=</td>\n",
       "      <td>218.0</td>\n",
       "      <td>2022-02-25 10:54:00</td>\n",
       "      <td>2022-02-25T10:54:19.000-08:00</td>\n",
       "      <td>2022-02-25</td>\n",
       "    </tr>\n",
       "    <tr>\n",
       "      <th>2</th>\n",
       "      <td>UNrE+DKLY8WEQsGhgJWIhSBlMYSn9szanvBQuoGKSjg=</td>\n",
       "      <td>216.0</td>\n",
       "      <td>2022-02-25 10:59:00</td>\n",
       "      <td>2022-02-25T10:59:19.000-08:00</td>\n",
       "      <td>2022-02-25</td>\n",
       "    </tr>\n",
       "    <tr>\n",
       "      <th>3</th>\n",
       "      <td>UNrE+DKLY8WEQsGhgJWIhSBlMYSn9szanvBQuoGKSjg=</td>\n",
       "      <td>211.0</td>\n",
       "      <td>2022-02-25 11:04:00</td>\n",
       "      <td>2022-02-25T11:04:20.000-08:00</td>\n",
       "      <td>2022-02-25</td>\n",
       "    </tr>\n",
       "    <tr>\n",
       "      <th>4</th>\n",
       "      <td>UNrE+DKLY8WEQsGhgJWIhSBlMYSn9szanvBQuoGKSjg=</td>\n",
       "      <td>211.0</td>\n",
       "      <td>2022-02-25 11:09:00</td>\n",
       "      <td>2022-02-25T11:09:19.000-08:00</td>\n",
       "      <td>2022-02-25</td>\n",
       "    </tr>\n",
       "  </tbody>\n",
       "</table>\n",
       "</div>"
      ],
      "text/plain": [
       "                                      PatientId  Value  GlucoseDisplayTime  \\\n",
       "0  UNrE+DKLY8WEQsGhgJWIhSBlMYSn9szanvBQuoGKSjg=  222.0 2022-02-25 10:49:00   \n",
       "1  UNrE+DKLY8WEQsGhgJWIhSBlMYSn9szanvBQuoGKSjg=  218.0 2022-02-25 10:54:00   \n",
       "2  UNrE+DKLY8WEQsGhgJWIhSBlMYSn9szanvBQuoGKSjg=  216.0 2022-02-25 10:59:00   \n",
       "3  UNrE+DKLY8WEQsGhgJWIhSBlMYSn9szanvBQuoGKSjg=  211.0 2022-02-25 11:04:00   \n",
       "4  UNrE+DKLY8WEQsGhgJWIhSBlMYSn9szanvBQuoGKSjg=  211.0 2022-02-25 11:09:00   \n",
       "\n",
       "           GlucoseDisplayTimeRaw GlucoseDisplayDate  \n",
       "0  2022-02-25T10:49:20.000-08:00         2022-02-25  \n",
       "1  2022-02-25T10:54:19.000-08:00         2022-02-25  \n",
       "2  2022-02-25T10:59:19.000-08:00         2022-02-25  \n",
       "3  2022-02-25T11:04:20.000-08:00         2022-02-25  \n",
       "4  2022-02-25T11:09:19.000-08:00         2022-02-25  "
      ]
     },
     "execution_count": 22,
     "metadata": {},
     "output_type": "execute_result"
    }
   ],
   "source": [
    "# import matplotlib.pyplot as plt\n",
    "temp = subset.toPandas()\n",
    "print(temp.info())\n",
    "temp.head()"
   ]
  },
  {
   "cell_type": "code",
   "execution_count": 24,
   "id": "346134d7-fd7a-4a3d-bb3e-aeec684b4d9a",
   "metadata": {
    "tags": []
   },
   "outputs": [
    {
     "data": {
      "text/plain": [
       "<AxesSubplot: xlabel='GlucoseDisplayTime', ylabel='Value'>"
      ]
     },
     "execution_count": 24,
     "metadata": {},
     "output_type": "execute_result"
    },
    {
     "data": {
      "image/png": "[encoded data removed]",
      "text/plain": [
       "<Figure size 640x480 with 1 Axes>"
      ]
     },
     "metadata": {},
     "output_type": "display_data"
    }
   ],
   "source": [
    "temp.plot.scatter(x='GlucoseDisplayTime', y='Value')"
   ]
  },
  {
   "cell_type": "markdown",
   "id": "728e440b-6356-468b-adef-91f11c6fe1b4",
   "metadata": {},
   "source": [
    "#### back to pyspark"
   ]
  },
  {
   "cell_type": "code",
   "execution_count": 45,
   "id": "34e4ecd5-dc20-4c0a-9a0a-3359b1833584",
   "metadata": {
    "collapsed": true,
    "jupyter": {
     "outputs_hidden": true
    },
    "tags": []
   },
   "outputs": [
    {
     "data": {
      "text/plain": [
       "[[datetime.datetime(2022, 2, 25, 10, 49)],\n",
       " [datetime.datetime(2022, 2, 25, 10, 54)],\n",
       " [datetime.datetime(2022, 2, 25, 10, 59)],\n",
       " [datetime.datetime(2022, 2, 25, 11, 4)],\n",
       " [datetime.datetime(2022, 2, 25, 11, 9)],\n",
       " [datetime.datetime(2022, 2, 25, 11, 14)],\n",
       " [datetime.datetime(2022, 2, 25, 11, 19)],\n",
       " [datetime.datetime(2022, 2, 25, 11, 24)],\n",
       " [datetime.datetime(2022, 2, 25, 11, 29)],\n",
       " [datetime.datetime(2022, 2, 25, 11, 34)],\n",
       " [datetime.datetime(2022, 2, 25, 11, 39)],\n",
       " [datetime.datetime(2022, 2, 25, 11, 44)],\n",
       " [datetime.datetime(2022, 2, 25, 11, 49)],\n",
       " [datetime.datetime(2022, 2, 25, 11, 54)],\n",
       " [datetime.datetime(2022, 2, 25, 11, 59)],\n",
       " [datetime.datetime(2022, 2, 25, 12, 4)],\n",
       " [datetime.datetime(2022, 2, 25, 12, 9)],\n",
       " [datetime.datetime(2022, 2, 25, 12, 14)],\n",
       " [datetime.datetime(2022, 2, 25, 12, 19)],\n",
       " [datetime.datetime(2022, 2, 25, 12, 24)],\n",
       " [datetime.datetime(2022, 2, 25, 12, 29)],\n",
       " [datetime.datetime(2022, 2, 25, 12, 34)],\n",
       " [datetime.datetime(2022, 2, 25, 12, 39)],\n",
       " [datetime.datetime(2022, 2, 25, 12, 44)],\n",
       " [datetime.datetime(2022, 2, 25, 12, 49)],\n",
       " [datetime.datetime(2022, 2, 25, 12, 54)],\n",
       " [datetime.datetime(2022, 2, 25, 12, 59)],\n",
       " [datetime.datetime(2022, 2, 25, 13, 4)],\n",
       " [datetime.datetime(2022, 2, 25, 13, 9)],\n",
       " [datetime.datetime(2022, 2, 25, 13, 14)],\n",
       " [datetime.datetime(2022, 2, 25, 13, 19)],\n",
       " [datetime.datetime(2022, 2, 25, 13, 24)],\n",
       " [datetime.datetime(2022, 2, 25, 13, 29)],\n",
       " [datetime.datetime(2022, 2, 25, 13, 34)],\n",
       " [datetime.datetime(2022, 2, 25, 13, 39)],\n",
       " [datetime.datetime(2022, 2, 25, 13, 44)],\n",
       " [datetime.datetime(2022, 2, 25, 13, 49)],\n",
       " [datetime.datetime(2022, 2, 25, 13, 54)],\n",
       " [datetime.datetime(2022, 2, 25, 13, 59)],\n",
       " [datetime.datetime(2022, 2, 25, 14, 4)],\n",
       " [datetime.datetime(2022, 2, 25, 14, 9)],\n",
       " [datetime.datetime(2022, 2, 25, 14, 14)],\n",
       " [datetime.datetime(2022, 2, 25, 14, 19)],\n",
       " [datetime.datetime(2022, 2, 25, 14, 24)],\n",
       " [datetime.datetime(2022, 2, 25, 14, 29)],\n",
       " [datetime.datetime(2022, 2, 25, 14, 34)],\n",
       " [datetime.datetime(2022, 2, 25, 14, 39)],\n",
       " [datetime.datetime(2022, 2, 25, 14, 44)],\n",
       " [datetime.datetime(2022, 2, 25, 14, 49)],\n",
       " [datetime.datetime(2022, 2, 25, 14, 54)],\n",
       " [datetime.datetime(2022, 2, 25, 14, 59)],\n",
       " [datetime.datetime(2022, 2, 25, 15, 4)],\n",
       " [datetime.datetime(2022, 2, 25, 15, 9)],\n",
       " [datetime.datetime(2022, 2, 25, 15, 14)],\n",
       " [datetime.datetime(2022, 2, 25, 15, 19)],\n",
       " [datetime.datetime(2022, 2, 25, 15, 24)],\n",
       " [datetime.datetime(2022, 2, 25, 15, 29)],\n",
       " [datetime.datetime(2022, 2, 25, 15, 34)],\n",
       " [datetime.datetime(2022, 2, 25, 15, 39)],\n",
       " [datetime.datetime(2022, 2, 25, 15, 44)],\n",
       " [datetime.datetime(2022, 2, 25, 15, 49)],\n",
       " [datetime.datetime(2022, 2, 25, 15, 54)],\n",
       " [datetime.datetime(2022, 2, 25, 15, 59)],\n",
       " [datetime.datetime(2022, 2, 25, 16, 4)],\n",
       " [datetime.datetime(2022, 2, 25, 16, 9)],\n",
       " [datetime.datetime(2022, 2, 25, 16, 14)],\n",
       " [datetime.datetime(2022, 2, 25, 16, 19)],\n",
       " [datetime.datetime(2022, 2, 25, 16, 24)],\n",
       " [datetime.datetime(2022, 2, 25, 16, 29)],\n",
       " [datetime.datetime(2022, 2, 25, 16, 34)],\n",
       " [datetime.datetime(2022, 2, 25, 16, 39)],\n",
       " [datetime.datetime(2022, 2, 25, 16, 44)],\n",
       " [datetime.datetime(2022, 2, 25, 16, 49)],\n",
       " [datetime.datetime(2022, 2, 25, 16, 54)],\n",
       " [datetime.datetime(2022, 2, 25, 16, 59)],\n",
       " [datetime.datetime(2022, 2, 25, 17, 4)],\n",
       " [datetime.datetime(2022, 2, 25, 17, 9)],\n",
       " [datetime.datetime(2022, 2, 25, 17, 14)],\n",
       " [datetime.datetime(2022, 2, 25, 17, 19)],\n",
       " [datetime.datetime(2022, 2, 25, 17, 24)],\n",
       " [datetime.datetime(2022, 2, 25, 17, 29)],\n",
       " [datetime.datetime(2022, 2, 25, 17, 34)],\n",
       " [datetime.datetime(2022, 2, 25, 17, 39)],\n",
       " [datetime.datetime(2022, 2, 25, 17, 44)],\n",
       " [datetime.datetime(2022, 2, 25, 17, 49)],\n",
       " [datetime.datetime(2022, 2, 25, 17, 54)],\n",
       " [datetime.datetime(2022, 2, 25, 17, 59)],\n",
       " [datetime.datetime(2022, 2, 25, 18, 4)],\n",
       " [datetime.datetime(2022, 2, 25, 18, 9)],\n",
       " [datetime.datetime(2022, 2, 25, 18, 14)],\n",
       " [datetime.datetime(2022, 2, 25, 18, 19)],\n",
       " [datetime.datetime(2022, 2, 25, 18, 24)],\n",
       " [datetime.datetime(2022, 2, 25, 18, 29)],\n",
       " [datetime.datetime(2022, 2, 25, 18, 34)],\n",
       " [datetime.datetime(2022, 2, 25, 18, 39)],\n",
       " [datetime.datetime(2022, 2, 25, 18, 44)],\n",
       " [datetime.datetime(2022, 2, 25, 18, 49)],\n",
       " [datetime.datetime(2022, 2, 25, 18, 54)],\n",
       " [datetime.datetime(2022, 2, 25, 18, 59)],\n",
       " [datetime.datetime(2022, 2, 25, 19, 4)],\n",
       " [datetime.datetime(2022, 2, 25, 19, 9)],\n",
       " [datetime.datetime(2022, 2, 25, 19, 14)],\n",
       " [datetime.datetime(2022, 2, 25, 19, 19)],\n",
       " [datetime.datetime(2022, 2, 25, 19, 24)],\n",
       " [datetime.datetime(2022, 2, 25, 19, 29)],\n",
       " [datetime.datetime(2022, 2, 25, 19, 34)],\n",
       " [datetime.datetime(2022, 2, 25, 19, 39)],\n",
       " [datetime.datetime(2022, 2, 25, 19, 44)],\n",
       " [datetime.datetime(2022, 2, 25, 19, 49)],\n",
       " [datetime.datetime(2022, 2, 25, 19, 54)],\n",
       " [datetime.datetime(2022, 2, 25, 19, 59)],\n",
       " [datetime.datetime(2022, 2, 25, 20, 4)],\n",
       " [datetime.datetime(2022, 2, 25, 20, 9)],\n",
       " [datetime.datetime(2022, 2, 25, 20, 14)],\n",
       " [datetime.datetime(2022, 2, 25, 20, 19)],\n",
       " [datetime.datetime(2022, 2, 25, 20, 24)],\n",
       " [datetime.datetime(2022, 2, 25, 20, 29)],\n",
       " [datetime.datetime(2022, 2, 25, 20, 34)],\n",
       " [datetime.datetime(2022, 2, 25, 20, 39)],\n",
       " [datetime.datetime(2022, 2, 25, 20, 44)],\n",
       " [datetime.datetime(2022, 2, 25, 20, 49)],\n",
       " [datetime.datetime(2022, 2, 25, 20, 54)],\n",
       " [datetime.datetime(2022, 2, 25, 20, 59)],\n",
       " [datetime.datetime(2022, 2, 25, 21, 4)],\n",
       " [datetime.datetime(2022, 2, 25, 21, 9)],\n",
       " [datetime.datetime(2022, 2, 25, 21, 14)],\n",
       " [datetime.datetime(2022, 2, 25, 21, 19)],\n",
       " [datetime.datetime(2022, 2, 25, 21, 24)],\n",
       " [datetime.datetime(2022, 2, 25, 21, 29)],\n",
       " [datetime.datetime(2022, 2, 25, 21, 34)],\n",
       " [datetime.datetime(2022, 2, 25, 21, 39)],\n",
       " [datetime.datetime(2022, 2, 25, 21, 44)],\n",
       " [datetime.datetime(2022, 2, 25, 21, 49)],\n",
       " [datetime.datetime(2022, 2, 25, 21, 54)],\n",
       " [datetime.datetime(2022, 2, 25, 21, 59)],\n",
       " [datetime.datetime(2022, 2, 25, 22, 4)],\n",
       " [datetime.datetime(2022, 2, 25, 22, 9)],\n",
       " [datetime.datetime(2022, 2, 25, 22, 14)],\n",
       " [datetime.datetime(2022, 2, 25, 22, 19)],\n",
       " [datetime.datetime(2022, 2, 25, 22, 24)],\n",
       " [datetime.datetime(2022, 2, 25, 22, 29)],\n",
       " [datetime.datetime(2022, 2, 25, 22, 34)],\n",
       " [datetime.datetime(2022, 2, 25, 22, 39)],\n",
       " [datetime.datetime(2022, 2, 25, 22, 44)],\n",
       " [datetime.datetime(2022, 2, 25, 22, 49)],\n",
       " [datetime.datetime(2022, 2, 25, 22, 54)],\n",
       " [datetime.datetime(2022, 2, 25, 22, 59)],\n",
       " [datetime.datetime(2022, 2, 25, 23, 4)],\n",
       " [datetime.datetime(2022, 2, 25, 23, 9)],\n",
       " [datetime.datetime(2022, 2, 25, 23, 14)],\n",
       " [datetime.datetime(2022, 2, 25, 23, 19)],\n",
       " [datetime.datetime(2022, 2, 25, 23, 24)],\n",
       " [datetime.datetime(2022, 2, 25, 23, 29)],\n",
       " [datetime.datetime(2022, 2, 25, 23, 34)],\n",
       " [datetime.datetime(2022, 2, 25, 23, 39)],\n",
       " [datetime.datetime(2022, 2, 25, 23, 44)],\n",
       " [datetime.datetime(2022, 2, 25, 23, 49)],\n",
       " [datetime.datetime(2022, 2, 25, 23, 54)],\n",
       " [datetime.datetime(2022, 2, 25, 23, 59)],\n",
       " [datetime.datetime(2022, 2, 26, 0, 4)],\n",
       " [datetime.datetime(2022, 2, 26, 0, 9)],\n",
       " [datetime.datetime(2022, 2, 26, 0, 14)],\n",
       " [datetime.datetime(2022, 2, 26, 0, 19)],\n",
       " [datetime.datetime(2022, 2, 26, 0, 24)],\n",
       " [datetime.datetime(2022, 2, 26, 0, 29)],\n",
       " [datetime.datetime(2022, 2, 26, 0, 34)],\n",
       " [datetime.datetime(2022, 2, 26, 0, 39)],\n",
       " [datetime.datetime(2022, 2, 26, 0, 44)],\n",
       " [datetime.datetime(2022, 2, 26, 0, 49)],\n",
       " [datetime.datetime(2022, 2, 26, 0, 54)],\n",
       " [datetime.datetime(2022, 2, 26, 0, 59)],\n",
       " [datetime.datetime(2022, 2, 26, 1, 4)],\n",
       " [datetime.datetime(2022, 2, 26, 1, 9)],\n",
       " [datetime.datetime(2022, 2, 26, 1, 14)],\n",
       " [datetime.datetime(2022, 2, 26, 1, 19)],\n",
       " [datetime.datetime(2022, 2, 26, 1, 24)],\n",
       " [datetime.datetime(2022, 2, 26, 1, 29)],\n",
       " [datetime.datetime(2022, 2, 26, 1, 34)],\n",
       " [datetime.datetime(2022, 2, 26, 1, 39)],\n",
       " [datetime.datetime(2022, 2, 26, 1, 44)],\n",
       " [datetime.datetime(2022, 2, 26, 1, 49)],\n",
       " [datetime.datetime(2022, 2, 26, 1, 54)],\n",
       " [datetime.datetime(2022, 2, 26, 1, 59)],\n",
       " [datetime.datetime(2022, 2, 26, 2, 4)],\n",
       " [datetime.datetime(2022, 2, 26, 2, 9)],\n",
       " [datetime.datetime(2022, 2, 26, 2, 14)],\n",
       " [datetime.datetime(2022, 2, 26, 2, 19)],\n",
       " [datetime.datetime(2022, 2, 26, 2, 24)],\n",
       " [datetime.datetime(2022, 2, 26, 2, 29)],\n",
       " [datetime.datetime(2022, 2, 26, 2, 34)],\n",
       " [datetime.datetime(2022, 2, 26, 2, 39)],\n",
       " [datetime.datetime(2022, 2, 26, 2, 44)],\n",
       " [datetime.datetime(2022, 2, 26, 2, 49)],\n",
       " [datetime.datetime(2022, 2, 26, 2, 54)],\n",
       " [datetime.datetime(2022, 2, 26, 2, 59)],\n",
       " [datetime.datetime(2022, 2, 26, 3, 4)],\n",
       " [datetime.datetime(2022, 2, 26, 3, 9)],\n",
       " [datetime.datetime(2022, 2, 26, 3, 14)],\n",
       " [datetime.datetime(2022, 2, 26, 3, 19)],\n",
       " [datetime.datetime(2022, 2, 26, 3, 24)],\n",
       " [datetime.datetime(2022, 2, 26, 3, 29)],\n",
       " [datetime.datetime(2022, 2, 26, 3, 34)],\n",
       " [datetime.datetime(2022, 2, 26, 3, 39)],\n",
       " [datetime.datetime(2022, 2, 26, 3, 44)],\n",
       " [datetime.datetime(2022, 2, 26, 3, 49)],\n",
       " [datetime.datetime(2022, 2, 26, 3, 54)],\n",
       " [datetime.datetime(2022, 2, 26, 3, 59)],\n",
       " [datetime.datetime(2022, 2, 26, 4, 4)],\n",
       " [datetime.datetime(2022, 2, 26, 4, 9)],\n",
       " [datetime.datetime(2022, 2, 26, 4, 14)],\n",
       " [datetime.datetime(2022, 2, 26, 4, 19)],\n",
       " [datetime.datetime(2022, 2, 26, 4, 24)],\n",
       " [datetime.datetime(2022, 2, 26, 4, 29)],\n",
       " [datetime.datetime(2022, 2, 26, 4, 34)],\n",
       " [datetime.datetime(2022, 2, 26, 4, 39)],\n",
       " [datetime.datetime(2022, 2, 26, 4, 44)],\n",
       " [datetime.datetime(2022, 2, 26, 4, 49)],\n",
       " [datetime.datetime(2022, 2, 26, 4, 54)],\n",
       " [datetime.datetime(2022, 2, 26, 4, 59)],\n",
       " [datetime.datetime(2022, 2, 26, 5, 4)],\n",
       " [datetime.datetime(2022, 2, 26, 5, 9)],\n",
       " [datetime.datetime(2022, 2, 26, 5, 14)],\n",
       " [datetime.datetime(2022, 2, 26, 5, 19)],\n",
       " [datetime.datetime(2022, 2, 26, 5, 24)],\n",
       " [datetime.datetime(2022, 2, 26, 5, 29)],\n",
       " [datetime.datetime(2022, 2, 26, 5, 34)],\n",
       " [datetime.datetime(2022, 2, 26, 5, 39)],\n",
       " [datetime.datetime(2022, 2, 26, 5, 44)],\n",
       " [datetime.datetime(2022, 2, 26, 5, 49)],\n",
       " [datetime.datetime(2022, 2, 26, 5, 54)],\n",
       " [datetime.datetime(2022, 2, 26, 5, 59)],\n",
       " [datetime.datetime(2022, 2, 26, 6, 4)],\n",
       " [datetime.datetime(2022, 2, 26, 6, 9)],\n",
       " [datetime.datetime(2022, 2, 26, 6, 14)],\n",
       " [datetime.datetime(2022, 2, 26, 6, 19)],\n",
       " [datetime.datetime(2022, 2, 26, 6, 24)],\n",
       " [datetime.datetime(2022, 2, 26, 6, 29)],\n",
       " [datetime.datetime(2022, 2, 26, 6, 34)],\n",
       " [datetime.datetime(2022, 2, 26, 6, 39)],\n",
       " [datetime.datetime(2022, 2, 26, 6, 44)],\n",
       " [datetime.datetime(2022, 2, 26, 6, 49)],\n",
       " [datetime.datetime(2022, 2, 26, 6, 54)],\n",
       " [datetime.datetime(2022, 2, 26, 6, 59)],\n",
       " [datetime.datetime(2022, 2, 26, 7, 4)],\n",
       " [datetime.datetime(2022, 2, 26, 7, 9)],\n",
       " [datetime.datetime(2022, 2, 26, 7, 14)],\n",
       " [datetime.datetime(2022, 2, 26, 7, 19)],\n",
       " [datetime.datetime(2022, 2, 26, 7, 24)],\n",
       " [datetime.datetime(2022, 2, 26, 7, 29)],\n",
       " [datetime.datetime(2022, 2, 26, 7, 34)],\n",
       " [datetime.datetime(2022, 2, 26, 7, 39)],\n",
       " [datetime.datetime(2022, 2, 26, 7, 44)],\n",
       " [datetime.datetime(2022, 2, 26, 7, 49)],\n",
       " [datetime.datetime(2022, 2, 26, 7, 54)],\n",
       " [datetime.datetime(2022, 2, 26, 7, 59)],\n",
       " [datetime.datetime(2022, 2, 26, 8, 4)],\n",
       " [datetime.datetime(2022, 2, 26, 8, 9)],\n",
       " [datetime.datetime(2022, 2, 26, 8, 14)],\n",
       " [datetime.datetime(2022, 2, 26, 8, 19)],\n",
       " [datetime.datetime(2022, 2, 26, 8, 24)],\n",
       " [datetime.datetime(2022, 2, 26, 8, 29)],\n",
       " [datetime.datetime(2022, 2, 26, 8, 34)],\n",
       " [datetime.datetime(2022, 2, 26, 8, 39)],\n",
       " [datetime.datetime(2022, 2, 26, 8, 44)],\n",
       " [datetime.datetime(2022, 2, 26, 8, 49)],\n",
       " [datetime.datetime(2022, 2, 26, 8, 54)],\n",
       " [datetime.datetime(2022, 2, 26, 8, 59)],\n",
       " [datetime.datetime(2022, 2, 26, 9, 4)],\n",
       " [datetime.datetime(2022, 2, 26, 9, 9)],\n",
       " [datetime.datetime(2022, 2, 26, 9, 14)],\n",
       " [datetime.datetime(2022, 2, 26, 9, 19)],\n",
       " [datetime.datetime(2022, 2, 26, 9, 24)],\n",
       " [datetime.datetime(2022, 2, 26, 9, 29)],\n",
       " [datetime.datetime(2022, 2, 26, 9, 34)],\n",
       " [datetime.datetime(2022, 2, 26, 9, 39)],\n",
       " [datetime.datetime(2022, 2, 26, 9, 44)],\n",
       " [datetime.datetime(2022, 2, 26, 9, 49)],\n",
       " [datetime.datetime(2022, 2, 26, 9, 54)],\n",
       " [datetime.datetime(2022, 2, 26, 9, 59)],\n",
       " [datetime.datetime(2022, 2, 26, 10, 4)],\n",
       " [datetime.datetime(2022, 2, 26, 10, 9)],\n",
       " [datetime.datetime(2022, 2, 26, 10, 14)],\n",
       " [datetime.datetime(2022, 2, 26, 10, 19)],\n",
       " [datetime.datetime(2022, 2, 26, 10, 24)],\n",
       " [datetime.datetime(2022, 2, 26, 10, 29)],\n",
       " [datetime.datetime(2022, 2, 26, 10, 34)],\n",
       " [datetime.datetime(2022, 2, 26, 10, 39)],\n",
       " [datetime.datetime(2022, 2, 26, 10, 44)],\n",
       " [datetime.datetime(2022, 2, 26, 10, 49)],\n",
       " [datetime.datetime(2022, 2, 26, 10, 54)],\n",
       " [datetime.datetime(2022, 2, 26, 10, 59)],\n",
       " [datetime.datetime(2022, 2, 26, 11, 4)],\n",
       " [datetime.datetime(2022, 2, 26, 11, 9)],\n",
       " [datetime.datetime(2022, 2, 26, 11, 14)],\n",
       " [datetime.datetime(2022, 2, 26, 11, 19)],\n",
       " [datetime.datetime(2022, 2, 26, 11, 24)],\n",
       " [datetime.datetime(2022, 2, 26, 11, 29)],\n",
       " [datetime.datetime(2022, 2, 26, 11, 34)],\n",
       " [datetime.datetime(2022, 2, 26, 11, 39)],\n",
       " [datetime.datetime(2022, 2, 26, 11, 44)],\n",
       " [datetime.datetime(2022, 2, 26, 11, 49)],\n",
       " [datetime.datetime(2022, 2, 26, 11, 54)],\n",
       " [datetime.datetime(2022, 2, 26, 11, 59)],\n",
       " [datetime.datetime(2022, 2, 26, 12, 4)],\n",
       " [datetime.datetime(2022, 2, 26, 12, 9)],\n",
       " [datetime.datetime(2022, 2, 26, 12, 14)],\n",
       " [datetime.datetime(2022, 2, 26, 12, 19)],\n",
       " [datetime.datetime(2022, 2, 26, 12, 24)],\n",
       " [datetime.datetime(2022, 2, 26, 12, 29)],\n",
       " [datetime.datetime(2022, 2, 26, 12, 34)],\n",
       " [datetime.datetime(2022, 2, 26, 12, 39)],\n",
       " [datetime.datetime(2022, 2, 26, 12, 44)],\n",
       " [datetime.datetime(2022, 2, 26, 12, 49)],\n",
       " [datetime.datetime(2022, 2, 26, 12, 54)],\n",
       " [datetime.datetime(2022, 2, 26, 12, 59)],\n",
       " [datetime.datetime(2022, 2, 26, 13, 4)],\n",
       " [datetime.datetime(2022, 2, 26, 13, 9)],\n",
       " [datetime.datetime(2022, 2, 26, 13, 14)],\n",
       " [datetime.datetime(2022, 2, 26, 13, 19)],\n",
       " [datetime.datetime(2022, 2, 26, 13, 24)],\n",
       " [datetime.datetime(2022, 2, 26, 13, 29)],\n",
       " [datetime.datetime(2022, 2, 26, 13, 34)],\n",
       " [datetime.datetime(2022, 2, 26, 13, 39)],\n",
       " [datetime.datetime(2022, 2, 26, 13, 44)],\n",
       " [datetime.datetime(2022, 2, 26, 13, 49)],\n",
       " [datetime.datetime(2022, 2, 26, 13, 54)],\n",
       " [datetime.datetime(2022, 2, 26, 13, 59)],\n",
       " [datetime.datetime(2022, 2, 26, 14, 4)],\n",
       " [datetime.datetime(2022, 2, 26, 14, 9)],\n",
       " [datetime.datetime(2022, 2, 26, 14, 14)],\n",
       " [datetime.datetime(2022, 2, 26, 14, 19)],\n",
       " [datetime.datetime(2022, 2, 26, 14, 24)],\n",
       " [datetime.datetime(2022, 2, 26, 14, 29)],\n",
       " [datetime.datetime(2022, 2, 26, 14, 34)],\n",
       " [datetime.datetime(2022, 2, 26, 14, 39)],\n",
       " [datetime.datetime(2022, 2, 26, 14, 44)],\n",
       " [datetime.datetime(2022, 2, 26, 14, 49)],\n",
       " [datetime.datetime(2022, 2, 26, 14, 54)],\n",
       " [datetime.datetime(2022, 2, 26, 14, 59)],\n",
       " [datetime.datetime(2022, 2, 26, 15, 4)],\n",
       " [datetime.datetime(2022, 2, 26, 15, 9)],\n",
       " [datetime.datetime(2022, 2, 26, 15, 14)],\n",
       " [datetime.datetime(2022, 2, 26, 15, 19)],\n",
       " [datetime.datetime(2022, 2, 26, 15, 24)],\n",
       " [datetime.datetime(2022, 2, 26, 15, 29)],\n",
       " [datetime.datetime(2022, 2, 26, 15, 34)],\n",
       " [datetime.datetime(2022, 2, 26, 15, 39)],\n",
       " [datetime.datetime(2022, 2, 26, 15, 44)],\n",
       " [datetime.datetime(2022, 2, 26, 15, 49)],\n",
       " [datetime.datetime(2022, 2, 26, 15, 54)],\n",
       " [datetime.datetime(2022, 2, 26, 15, 59)],\n",
       " [datetime.datetime(2022, 2, 26, 16, 4)],\n",
       " [datetime.datetime(2022, 2, 26, 16, 9)],\n",
       " [datetime.datetime(2022, 2, 26, 16, 14)],\n",
       " [datetime.datetime(2022, 2, 26, 16, 19)],\n",
       " [datetime.datetime(2022, 2, 26, 16, 24)],\n",
       " [datetime.datetime(2022, 2, 26, 16, 29)],\n",
       " [datetime.datetime(2022, 2, 26, 16, 34)],\n",
       " [datetime.datetime(2022, 2, 26, 16, 39)],\n",
       " [datetime.datetime(2022, 2, 26, 16, 44)],\n",
       " [datetime.datetime(2022, 2, 26, 16, 49)],\n",
       " [datetime.datetime(2022, 2, 26, 16, 54)],\n",
       " [datetime.datetime(2022, 2, 26, 16, 59)],\n",
       " [datetime.datetime(2022, 2, 26, 17, 4)],\n",
       " [datetime.datetime(2022, 2, 26, 17, 9)],\n",
       " [datetime.datetime(2022, 2, 26, 17, 14)],\n",
       " [datetime.datetime(2022, 2, 26, 17, 19)],\n",
       " [datetime.datetime(2022, 2, 26, 17, 24)],\n",
       " [datetime.datetime(2022, 2, 26, 17, 29)],\n",
       " [datetime.datetime(2022, 2, 26, 17, 34)],\n",
       " [datetime.datetime(2022, 2, 26, 17, 39)],\n",
       " [datetime.datetime(2022, 2, 26, 17, 44)],\n",
       " [datetime.datetime(2022, 2, 26, 17, 49)],\n",
       " [datetime.datetime(2022, 2, 26, 17, 54)],\n",
       " [datetime.datetime(2022, 2, 26, 17, 59)],\n",
       " [datetime.datetime(2022, 2, 26, 18, 4)],\n",
       " [datetime.datetime(2022, 2, 26, 18, 9)],\n",
       " [datetime.datetime(2022, 2, 26, 18, 14)],\n",
       " [datetime.datetime(2022, 2, 26, 18, 19)],\n",
       " [datetime.datetime(2022, 2, 26, 18, 24)],\n",
       " [datetime.datetime(2022, 2, 26, 18, 29)],\n",
       " [datetime.datetime(2022, 2, 26, 18, 34)],\n",
       " [datetime.datetime(2022, 2, 26, 18, 39)],\n",
       " [datetime.datetime(2022, 2, 26, 18, 44)],\n",
       " [datetime.datetime(2022, 2, 26, 18, 49)],\n",
       " [datetime.datetime(2022, 2, 26, 18, 54)],\n",
       " [datetime.datetime(2022, 2, 26, 18, 59)],\n",
       " [datetime.datetime(2022, 2, 26, 19, 4)],\n",
       " [datetime.datetime(2022, 2, 26, 19, 9)],\n",
       " [datetime.datetime(2022, 2, 26, 19, 14)],\n",
       " [datetime.datetime(2022, 2, 26, 19, 19)],\n",
       " [datetime.datetime(2022, 2, 26, 19, 24)],\n",
       " [datetime.datetime(2022, 2, 26, 19, 29)],\n",
       " [datetime.datetime(2022, 2, 26, 19, 34)],\n",
       " [datetime.datetime(2022, 2, 26, 19, 39)],\n",
       " [datetime.datetime(2022, 2, 26, 19, 44)],\n",
       " [datetime.datetime(2022, 2, 26, 19, 49)],\n",
       " [datetime.datetime(2022, 2, 26, 19, 54)],\n",
       " [datetime.datetime(2022, 2, 26, 19, 59)],\n",
       " [datetime.datetime(2022, 2, 26, 20, 4)],\n",
       " [datetime.datetime(2022, 2, 26, 20, 9)],\n",
       " [datetime.datetime(2022, 2, 26, 20, 14)],\n",
       " [datetime.datetime(2022, 2, 26, 20, 19)],\n",
       " [datetime.datetime(2022, 2, 26, 20, 24)],\n",
       " [datetime.datetime(2022, 2, 26, 20, 29)],\n",
       " [datetime.datetime(2022, 2, 26, 20, 34)],\n",
       " [datetime.datetime(2022, 2, 26, 20, 39)],\n",
       " [datetime.datetime(2022, 2, 26, 20, 44)],\n",
       " [datetime.datetime(2022, 2, 26, 20, 49)],\n",
       " [datetime.datetime(2022, 2, 26, 20, 54)],\n",
       " [datetime.datetime(2022, 2, 26, 20, 59)],\n",
       " [datetime.datetime(2022, 2, 26, 21, 4)],\n",
       " [datetime.datetime(2022, 2, 26, 21, 9)],\n",
       " [datetime.datetime(2022, 2, 26, 21, 14)],\n",
       " [datetime.datetime(2022, 2, 26, 21, 19)],\n",
       " [datetime.datetime(2022, 2, 26, 21, 24)],\n",
       " [datetime.datetime(2022, 2, 26, 21, 29)],\n",
       " [datetime.datetime(2022, 2, 26, 21, 34)],\n",
       " [datetime.datetime(2022, 2, 26, 21, 39)],\n",
       " [datetime.datetime(2022, 2, 26, 21, 44)],\n",
       " [datetime.datetime(2022, 2, 26, 21, 49)],\n",
       " [datetime.datetime(2022, 2, 26, 21, 54)],\n",
       " [datetime.datetime(2022, 2, 26, 21, 59)],\n",
       " [datetime.datetime(2022, 2, 26, 22, 4)],\n",
       " [datetime.datetime(2022, 2, 26, 22, 9)],\n",
       " [datetime.datetime(2022, 2, 26, 22, 14)],\n",
       " [datetime.datetime(2022, 2, 26, 22, 19)],\n",
       " [datetime.datetime(2022, 2, 26, 22, 24)],\n",
       " [datetime.datetime(2022, 2, 26, 22, 29)],\n",
       " [datetime.datetime(2022, 2, 26, 22, 34)],\n",
       " [datetime.datetime(2022, 2, 26, 22, 39)],\n",
       " [datetime.datetime(2022, 2, 26, 22, 44)],\n",
       " [datetime.datetime(2022, 2, 26, 22, 49)],\n",
       " [datetime.datetime(2022, 2, 26, 22, 54)],\n",
       " [datetime.datetime(2022, 2, 26, 22, 59)],\n",
       " [datetime.datetime(2022, 2, 26, 23, 4)],\n",
       " [datetime.datetime(2022, 2, 26, 23, 9)],\n",
       " [datetime.datetime(2022, 2, 26, 23, 14)],\n",
       " [datetime.datetime(2022, 2, 26, 23, 19)],\n",
       " [datetime.datetime(2022, 2, 26, 23, 24)],\n",
       " [datetime.datetime(2022, 2, 26, 23, 29)],\n",
       " [datetime.datetime(2022, 2, 26, 23, 34)],\n",
       " [datetime.datetime(2022, 2, 26, 23, 39)],\n",
       " [datetime.datetime(2022, 2, 26, 23, 44)],\n",
       " [datetime.datetime(2022, 2, 26, 23, 49)],\n",
       " [datetime.datetime(2022, 2, 26, 23, 54)],\n",
       " [datetime.datetime(2022, 2, 26, 23, 59)],\n",
       " [datetime.datetime(2022, 2, 27, 0, 4)],\n",
       " [datetime.datetime(2022, 2, 27, 0, 9)],\n",
       " [datetime.datetime(2022, 2, 27, 0, 14)],\n",
       " [datetime.datetime(2022, 2, 27, 0, 19)],\n",
       " [datetime.datetime(2022, 2, 27, 0, 24)],\n",
       " [datetime.datetime(2022, 2, 27, 0, 29)],\n",
       " [datetime.datetime(2022, 2, 27, 0, 34)],\n",
       " [datetime.datetime(2022, 2, 27, 0, 39)],\n",
       " [datetime.datetime(2022, 2, 27, 0, 44)],\n",
       " [datetime.datetime(2022, 2, 27, 0, 49)],\n",
       " [datetime.datetime(2022, 2, 27, 0, 54)],\n",
       " [datetime.datetime(2022, 2, 27, 0, 59)],\n",
       " [datetime.datetime(2022, 2, 27, 1, 4)],\n",
       " [datetime.datetime(2022, 2, 27, 1, 9)],\n",
       " [datetime.datetime(2022, 2, 27, 1, 14)],\n",
       " [datetime.datetime(2022, 2, 27, 1, 19)],\n",
       " [datetime.datetime(2022, 2, 27, 1, 24)],\n",
       " [datetime.datetime(2022, 2, 27, 1, 29)],\n",
       " [datetime.datetime(2022, 2, 27, 1, 34)],\n",
       " [datetime.datetime(2022, 2, 27, 1, 39)],\n",
       " [datetime.datetime(2022, 2, 27, 1, 44)],\n",
       " [datetime.datetime(2022, 2, 27, 1, 49)],\n",
       " [datetime.datetime(2022, 2, 27, 1, 54)],\n",
       " [datetime.datetime(2022, 2, 27, 1, 59)],\n",
       " [datetime.datetime(2022, 2, 27, 2, 4)],\n",
       " [datetime.datetime(2022, 2, 27, 2, 9)],\n",
       " [datetime.datetime(2022, 2, 27, 2, 14)],\n",
       " [datetime.datetime(2022, 2, 27, 2, 19)],\n",
       " [datetime.datetime(2022, 2, 27, 2, 24)],\n",
       " [datetime.datetime(2022, 2, 27, 2, 29)],\n",
       " [datetime.datetime(2022, 2, 27, 2, 34)],\n",
       " [datetime.datetime(2022, 2, 27, 2, 39)],\n",
       " [datetime.datetime(2022, 2, 27, 2, 44)],\n",
       " [datetime.datetime(2022, 2, 27, 2, 49)],\n",
       " [datetime.datetime(2022, 2, 27, 2, 54)],\n",
       " [datetime.datetime(2022, 2, 27, 2, 59)],\n",
       " [datetime.datetime(2022, 2, 27, 3, 4)],\n",
       " [datetime.datetime(2022, 2, 27, 3, 9)],\n",
       " [datetime.datetime(2022, 2, 27, 3, 14)],\n",
       " [datetime.datetime(2022, 2, 27, 3, 19)],\n",
       " [datetime.datetime(2022, 2, 27, 3, 24)],\n",
       " [datetime.datetime(2022, 2, 27, 3, 29)],\n",
       " [datetime.datetime(2022, 2, 27, 3, 34)],\n",
       " [datetime.datetime(2022, 2, 27, 3, 39)],\n",
       " [datetime.datetime(2022, 2, 27, 3, 44)],\n",
       " [datetime.datetime(2022, 2, 27, 3, 49)],\n",
       " [datetime.datetime(2022, 2, 27, 3, 54)],\n",
       " [datetime.datetime(2022, 2, 27, 3, 59)],\n",
       " [datetime.datetime(2022, 2, 27, 4, 4)],\n",
       " [datetime.datetime(2022, 2, 27, 4, 9)],\n",
       " [datetime.datetime(2022, 2, 27, 4, 14)],\n",
       " [datetime.datetime(2022, 2, 27, 4, 19)],\n",
       " [datetime.datetime(2022, 2, 27, 4, 24)],\n",
       " [datetime.datetime(2022, 2, 27, 4, 29)],\n",
       " [datetime.datetime(2022, 2, 27, 4, 34)],\n",
       " [datetime.datetime(2022, 2, 27, 4, 39)],\n",
       " [datetime.datetime(2022, 2, 27, 4, 44)],\n",
       " [datetime.datetime(2022, 2, 27, 4, 49)],\n",
       " [datetime.datetime(2022, 2, 27, 4, 54)],\n",
       " [datetime.datetime(2022, 2, 27, 4, 59)],\n",
       " [datetime.datetime(2022, 2, 27, 5, 4)],\n",
       " [datetime.datetime(2022, 2, 27, 5, 9)],\n",
       " [datetime.datetime(2022, 2, 27, 5, 14)],\n",
       " [datetime.datetime(2022, 2, 27, 5, 19)],\n",
       " [datetime.datetime(2022, 2, 27, 5, 24)],\n",
       " [datetime.datetime(2022, 2, 27, 5, 29)],\n",
       " [datetime.datetime(2022, 2, 27, 5, 34)],\n",
       " [datetime.datetime(2022, 2, 27, 5, 39)],\n",
       " [datetime.datetime(2022, 2, 27, 5, 44)],\n",
       " [datetime.datetime(2022, 2, 27, 5, 49)],\n",
       " [datetime.datetime(2022, 2, 27, 5, 54)],\n",
       " [datetime.datetime(2022, 2, 27, 5, 59)],\n",
       " [datetime.datetime(2022, 2, 27, 6, 4)],\n",
       " [datetime.datetime(2022, 2, 27, 6, 9)],\n",
       " [datetime.datetime(2022, 2, 27, 6, 14)],\n",
       " [datetime.datetime(2022, 2, 27, 6, 19)],\n",
       " [datetime.datetime(2022, 2, 27, 6, 24)],\n",
       " [datetime.datetime(2022, 2, 27, 6, 29)],\n",
       " [datetime.datetime(2022, 2, 27, 6, 34)],\n",
       " [datetime.datetime(2022, 2, 27, 6, 39)],\n",
       " [datetime.datetime(2022, 2, 27, 6, 44)],\n",
       " [datetime.datetime(2022, 2, 27, 6, 49)],\n",
       " [datetime.datetime(2022, 2, 27, 6, 54)],\n",
       " [datetime.datetime(2022, 2, 27, 6, 59)],\n",
       " [datetime.datetime(2022, 2, 27, 7, 4)],\n",
       " [datetime.datetime(2022, 2, 27, 7, 9)],\n",
       " [datetime.datetime(2022, 2, 27, 7, 14)],\n",
       " [datetime.datetime(2022, 2, 27, 7, 19)],\n",
       " [datetime.datetime(2022, 2, 27, 7, 24)],\n",
       " [datetime.datetime(2022, 2, 27, 7, 29)],\n",
       " [datetime.datetime(2022, 2, 27, 7, 34)],\n",
       " [datetime.datetime(2022, 2, 27, 7, 39)],\n",
       " [datetime.datetime(2022, 2, 27, 7, 44)],\n",
       " [datetime.datetime(2022, 2, 27, 7, 49)],\n",
       " [datetime.datetime(2022, 2, 27, 7, 54)],\n",
       " [datetime.datetime(2022, 2, 27, 7, 59)],\n",
       " [datetime.datetime(2022, 2, 27, 8, 4)],\n",
       " [datetime.datetime(2022, 2, 27, 8, 9)],\n",
       " [datetime.datetime(2022, 2, 27, 8, 14)],\n",
       " [datetime.datetime(2022, 2, 27, 8, 19)],\n",
       " [datetime.datetime(2022, 2, 27, 8, 24)],\n",
       " [datetime.datetime(2022, 2, 27, 8, 29)],\n",
       " [datetime.datetime(2022, 2, 27, 8, 34)],\n",
       " [datetime.datetime(2022, 2, 27, 8, 39)],\n",
       " [datetime.datetime(2022, 2, 27, 8, 44)],\n",
       " [datetime.datetime(2022, 2, 27, 8, 49)],\n",
       " [datetime.datetime(2022, 2, 27, 8, 54)],\n",
       " [datetime.datetime(2022, 2, 27, 8, 59)],\n",
       " [datetime.datetime(2022, 2, 27, 9, 4)],\n",
       " [datetime.datetime(2022, 2, 27, 9, 9)],\n",
       " [datetime.datetime(2022, 2, 27, 9, 14)],\n",
       " [datetime.datetime(2022, 2, 27, 9, 19)],\n",
       " [datetime.datetime(2022, 2, 27, 9, 24)],\n",
       " [datetime.datetime(2022, 2, 27, 9, 29)],\n",
       " [datetime.datetime(2022, 2, 27, 9, 34)],\n",
       " [datetime.datetime(2022, 2, 27, 9, 39)],\n",
       " [datetime.datetime(2022, 2, 27, 9, 44)],\n",
       " [datetime.datetime(2022, 2, 27, 9, 49)],\n",
       " [datetime.datetime(2022, 2, 27, 9, 54)],\n",
       " [datetime.datetime(2022, 2, 27, 9, 59)],\n",
       " [datetime.datetime(2022, 2, 27, 10, 4)],\n",
       " [datetime.datetime(2022, 2, 27, 10, 9)],\n",
       " [datetime.datetime(2022, 2, 27, 10, 14)],\n",
       " [datetime.datetime(2022, 2, 27, 10, 19)],\n",
       " [datetime.datetime(2022, 2, 27, 10, 24)],\n",
       " [datetime.datetime(2022, 2, 27, 10, 29)],\n",
       " [datetime.datetime(2022, 2, 27, 10, 34)],\n",
       " [datetime.datetime(2022, 2, 27, 10, 39)],\n",
       " [datetime.datetime(2022, 2, 27, 10, 44)],\n",
       " [datetime.datetime(2022, 2, 27, 10, 49)],\n",
       " [datetime.datetime(2022, 2, 27, 10, 54)],\n",
       " [datetime.datetime(2022, 2, 27, 10, 59)],\n",
       " [datetime.datetime(2022, 2, 27, 11, 4)],\n",
       " [datetime.datetime(2022, 2, 27, 11, 9)],\n",
       " [datetime.datetime(2022, 2, 27, 11, 14)],\n",
       " [datetime.datetime(2022, 2, 27, 11, 19)],\n",
       " [datetime.datetime(2022, 2, 27, 11, 24)],\n",
       " [datetime.datetime(2022, 2, 27, 11, 29)],\n",
       " [datetime.datetime(2022, 2, 27, 11, 34)],\n",
       " [datetime.datetime(2022, 2, 27, 11, 39)],\n",
       " [datetime.datetime(2022, 2, 27, 11, 44)],\n",
       " [datetime.datetime(2022, 2, 27, 11, 49)],\n",
       " [datetime.datetime(2022, 2, 27, 11, 54)],\n",
       " [datetime.datetime(2022, 2, 27, 11, 59)],\n",
       " [datetime.datetime(2022, 2, 27, 12, 4)],\n",
       " [datetime.datetime(2022, 2, 27, 12, 9)],\n",
       " [datetime.datetime(2022, 2, 27, 12, 14)],\n",
       " [datetime.datetime(2022, 2, 27, 12, 19)],\n",
       " [datetime.datetime(2022, 2, 27, 12, 24)],\n",
       " [datetime.datetime(2022, 2, 27, 12, 29)],\n",
       " [datetime.datetime(2022, 2, 27, 12, 34)],\n",
       " [datetime.datetime(2022, 2, 27, 12, 39)],\n",
       " [datetime.datetime(2022, 2, 27, 12, 44)],\n",
       " [datetime.datetime(2022, 2, 27, 12, 49)],\n",
       " [datetime.datetime(2022, 2, 27, 12, 54)],\n",
       " [datetime.datetime(2022, 2, 27, 12, 59)],\n",
       " [datetime.datetime(2022, 2, 27, 13, 4)],\n",
       " [datetime.datetime(2022, 2, 27, 13, 9)],\n",
       " [datetime.datetime(2022, 2, 27, 13, 14)],\n",
       " [datetime.datetime(2022, 2, 27, 13, 19)],\n",
       " [datetime.datetime(2022, 2, 27, 13, 24)],\n",
       " [datetime.datetime(2022, 2, 27, 13, 29)],\n",
       " [datetime.datetime(2022, 2, 27, 13, 34)],\n",
       " [datetime.datetime(2022, 2, 27, 13, 39)],\n",
       " [datetime.datetime(2022, 2, 27, 13, 44)],\n",
       " [datetime.datetime(2022, 2, 27, 13, 49)],\n",
       " [datetime.datetime(2022, 2, 27, 13, 54)],\n",
       " [datetime.datetime(2022, 2, 27, 13, 59)],\n",
       " [datetime.datetime(2022, 2, 27, 14, 4)],\n",
       " [datetime.datetime(2022, 2, 27, 14, 9)],\n",
       " [datetime.datetime(2022, 2, 27, 14, 14)],\n",
       " [datetime.datetime(2022, 2, 27, 14, 19)],\n",
       " [datetime.datetime(2022, 2, 27, 14, 24)],\n",
       " [datetime.datetime(2022, 2, 27, 14, 29)],\n",
       " [datetime.datetime(2022, 2, 27, 14, 34)],\n",
       " [datetime.datetime(2022, 2, 27, 14, 39)],\n",
       " [datetime.datetime(2022, 2, 27, 14, 44)],\n",
       " [datetime.datetime(2022, 2, 27, 14, 49)],\n",
       " [datetime.datetime(2022, 2, 27, 14, 54)],\n",
       " [datetime.datetime(2022, 2, 27, 14, 59)],\n",
       " [datetime.datetime(2022, 2, 27, 15, 4)],\n",
       " [datetime.datetime(2022, 2, 27, 15, 9)],\n",
       " [datetime.datetime(2022, 2, 27, 15, 14)],\n",
       " [datetime.datetime(2022, 2, 27, 15, 19)],\n",
       " [datetime.datetime(2022, 2, 27, 15, 24)],\n",
       " [datetime.datetime(2022, 2, 27, 15, 29)],\n",
       " [datetime.datetime(2022, 2, 27, 15, 34)],\n",
       " [datetime.datetime(2022, 2, 27, 15, 39)],\n",
       " [datetime.datetime(2022, 2, 27, 15, 44)],\n",
       " [datetime.datetime(2022, 2, 27, 15, 49)],\n",
       " [datetime.datetime(2022, 2, 27, 15, 54)],\n",
       " [datetime.datetime(2022, 2, 27, 15, 59)],\n",
       " [datetime.datetime(2022, 2, 27, 16, 4)],\n",
       " [datetime.datetime(2022, 2, 27, 16, 9)],\n",
       " [datetime.datetime(2022, 2, 27, 16, 14)],\n",
       " [datetime.datetime(2022, 2, 27, 16, 19)],\n",
       " [datetime.datetime(2022, 2, 27, 16, 24)],\n",
       " [datetime.datetime(2022, 2, 27, 16, 29)],\n",
       " [datetime.datetime(2022, 2, 27, 16, 34)],\n",
       " [datetime.datetime(2022, 2, 27, 16, 39)],\n",
       " [datetime.datetime(2022, 2, 27, 16, 44)],\n",
       " [datetime.datetime(2022, 2, 27, 16, 49)],\n",
       " [datetime.datetime(2022, 2, 27, 16, 54)],\n",
       " [datetime.datetime(2022, 2, 27, 16, 59)],\n",
       " [datetime.datetime(2022, 2, 27, 17, 4)],\n",
       " [datetime.datetime(2022, 2, 27, 17, 9)],\n",
       " [datetime.datetime(2022, 2, 27, 17, 14)],\n",
       " [datetime.datetime(2022, 2, 27, 17, 19)],\n",
       " [datetime.datetime(2022, 2, 27, 17, 24)],\n",
       " [datetime.datetime(2022, 2, 27, 17, 29)],\n",
       " [datetime.datetime(2022, 2, 27, 17, 34)],\n",
       " [datetime.datetime(2022, 2, 27, 17, 39)],\n",
       " [datetime.datetime(2022, 2, 27, 17, 44)],\n",
       " [datetime.datetime(2022, 2, 27, 17, 49)],\n",
       " [datetime.datetime(2022, 2, 27, 17, 54)],\n",
       " [datetime.datetime(2022, 2, 27, 17, 59)],\n",
       " [datetime.datetime(2022, 2, 27, 18, 4)],\n",
       " [datetime.datetime(2022, 2, 27, 18, 9)],\n",
       " [datetime.datetime(2022, 2, 27, 18, 14)],\n",
       " [datetime.datetime(2022, 2, 27, 18, 19)],\n",
       " [datetime.datetime(2022, 2, 27, 18, 24)],\n",
       " [datetime.datetime(2022, 2, 27, 18, 29)],\n",
       " [datetime.datetime(2022, 2, 27, 18, 34)],\n",
       " [datetime.datetime(2022, 2, 27, 18, 39)],\n",
       " [datetime.datetime(2022, 2, 27, 18, 44)],\n",
       " [datetime.datetime(2022, 2, 27, 18, 49)],\n",
       " [datetime.datetime(2022, 2, 27, 18, 54)],\n",
       " [datetime.datetime(2022, 2, 27, 18, 59)],\n",
       " [datetime.datetime(2022, 2, 27, 19, 4)],\n",
       " [datetime.datetime(2022, 2, 27, 19, 9)],\n",
       " [datetime.datetime(2022, 2, 27, 19, 14)],\n",
       " [datetime.datetime(2022, 2, 27, 19, 19)],\n",
       " [datetime.datetime(2022, 2, 27, 19, 24)],\n",
       " [datetime.datetime(2022, 2, 27, 19, 29)],\n",
       " [datetime.datetime(2022, 2, 27, 19, 34)],\n",
       " [datetime.datetime(2022, 2, 27, 19, 39)],\n",
       " [datetime.datetime(2022, 2, 27, 19, 44)],\n",
       " [datetime.datetime(2022, 2, 27, 19, 49)],\n",
       " [datetime.datetime(2022, 2, 27, 19, 54)],\n",
       " [datetime.datetime(2022, 2, 27, 19, 59)],\n",
       " [datetime.datetime(2022, 2, 27, 20, 4)],\n",
       " [datetime.datetime(2022, 2, 27, 20, 9)],\n",
       " [datetime.datetime(2022, 2, 27, 20, 14)],\n",
       " [datetime.datetime(2022, 2, 27, 20, 19)],\n",
       " [datetime.datetime(2022, 2, 27, 20, 24)],\n",
       " [datetime.datetime(2022, 2, 27, 20, 29)],\n",
       " [datetime.datetime(2022, 2, 27, 20, 34)],\n",
       " [datetime.datetime(2022, 2, 27, 20, 39)],\n",
       " [datetime.datetime(2022, 2, 27, 20, 44)],\n",
       " [datetime.datetime(2022, 2, 27, 20, 49)],\n",
       " [datetime.datetime(2022, 2, 27, 20, 54)],\n",
       " [datetime.datetime(2022, 2, 27, 20, 59)],\n",
       " [datetime.datetime(2022, 2, 27, 21, 4)],\n",
       " [datetime.datetime(2022, 2, 27, 21, 9)],\n",
       " [datetime.datetime(2022, 2, 27, 21, 14)],\n",
       " [datetime.datetime(2022, 2, 27, 21, 19)],\n",
       " [datetime.datetime(2022, 2, 27, 21, 24)],\n",
       " [datetime.datetime(2022, 2, 27, 21, 29)],\n",
       " [datetime.datetime(2022, 2, 27, 21, 34)],\n",
       " [datetime.datetime(2022, 2, 27, 21, 39)],\n",
       " [datetime.datetime(2022, 2, 27, 21, 44)],\n",
       " [datetime.datetime(2022, 2, 27, 21, 49)],\n",
       " [datetime.datetime(2022, 2, 27, 21, 54)],\n",
       " [datetime.datetime(2022, 2, 27, 21, 59)],\n",
       " [datetime.datetime(2022, 2, 27, 22, 4)],\n",
       " [datetime.datetime(2022, 2, 27, 22, 9)],\n",
       " [datetime.datetime(2022, 2, 27, 22, 14)],\n",
       " [datetime.datetime(2022, 2, 27, 22, 19)],\n",
       " [datetime.datetime(2022, 2, 27, 22, 24)],\n",
       " [datetime.datetime(2022, 2, 27, 22, 29)],\n",
       " [datetime.datetime(2022, 2, 27, 22, 34)],\n",
       " [datetime.datetime(2022, 2, 27, 22, 39)],\n",
       " [datetime.datetime(2022, 2, 27, 22, 44)],\n",
       " [datetime.datetime(2022, 2, 27, 22, 49)],\n",
       " [datetime.datetime(2022, 2, 27, 22, 54)],\n",
       " [datetime.datetime(2022, 2, 27, 22, 59)],\n",
       " [datetime.datetime(2022, 2, 27, 23, 4)],\n",
       " [datetime.datetime(2022, 2, 27, 23, 9)],\n",
       " [datetime.datetime(2022, 2, 27, 23, 14)],\n",
       " [datetime.datetime(2022, 2, 27, 23, 19)],\n",
       " [datetime.datetime(2022, 2, 27, 23, 24)],\n",
       " [datetime.datetime(2022, 2, 27, 23, 29)],\n",
       " [datetime.datetime(2022, 2, 27, 23, 34)],\n",
       " [datetime.datetime(2022, 2, 27, 23, 39)],\n",
       " [datetime.datetime(2022, 2, 27, 23, 44)],\n",
       " [datetime.datetime(2022, 2, 27, 23, 49)],\n",
       " [datetime.datetime(2022, 2, 27, 23, 54)],\n",
       " [datetime.datetime(2022, 2, 27, 23, 59)],\n",
       " [datetime.datetime(2022, 2, 28, 0, 4)],\n",
       " [datetime.datetime(2022, 2, 28, 0, 9)],\n",
       " [datetime.datetime(2022, 2, 28, 0, 14)],\n",
       " [datetime.datetime(2022, 2, 28, 0, 19)],\n",
       " [datetime.datetime(2022, 2, 28, 0, 24)],\n",
       " [datetime.datetime(2022, 2, 28, 0, 29)],\n",
       " [datetime.datetime(2022, 2, 28, 0, 34)],\n",
       " [datetime.datetime(2022, 2, 28, 0, 39)],\n",
       " [datetime.datetime(2022, 2, 28, 0, 44)],\n",
       " [datetime.datetime(2022, 2, 28, 0, 49)],\n",
       " [datetime.datetime(2022, 2, 28, 0, 54)],\n",
       " [datetime.datetime(2022, 2, 28, 0, 59)],\n",
       " [datetime.datetime(2022, 2, 28, 1, 4)],\n",
       " [datetime.datetime(2022, 2, 28, 1, 9)],\n",
       " [datetime.datetime(2022, 2, 28, 1, 14)],\n",
       " [datetime.datetime(2022, 2, 28, 1, 19)],\n",
       " [datetime.datetime(2022, 2, 28, 1, 24)],\n",
       " [datetime.datetime(2022, 2, 28, 1, 29)],\n",
       " [datetime.datetime(2022, 2, 28, 1, 34)],\n",
       " [datetime.datetime(2022, 2, 28, 1, 39)],\n",
       " [datetime.datetime(2022, 2, 28, 1, 44)],\n",
       " [datetime.datetime(2022, 2, 28, 1, 49)],\n",
       " [datetime.datetime(2022, 2, 28, 1, 54)],\n",
       " [datetime.datetime(2022, 2, 28, 1, 59)],\n",
       " [datetime.datetime(2022, 2, 28, 2, 4)],\n",
       " [datetime.datetime(2022, 2, 28, 2, 9)],\n",
       " [datetime.datetime(2022, 2, 28, 2, 14)],\n",
       " [datetime.datetime(2022, 2, 28, 2, 19)],\n",
       " [datetime.datetime(2022, 2, 28, 2, 24)],\n",
       " [datetime.datetime(2022, 2, 28, 2, 29)],\n",
       " [datetime.datetime(2022, 2, 28, 2, 34)],\n",
       " [datetime.datetime(2022, 2, 28, 2, 39)],\n",
       " [datetime.datetime(2022, 2, 28, 2, 44)],\n",
       " [datetime.datetime(2022, 2, 28, 2, 49)],\n",
       " [datetime.datetime(2022, 2, 28, 2, 54)],\n",
       " [datetime.datetime(2022, 2, 28, 2, 59)],\n",
       " [datetime.datetime(2022, 2, 28, 3, 4)],\n",
       " [datetime.datetime(2022, 2, 28, 3, 9)],\n",
       " [datetime.datetime(2022, 2, 28, 3, 14)],\n",
       " [datetime.datetime(2022, 2, 28, 3, 19)],\n",
       " [datetime.datetime(2022, 2, 28, 3, 24)],\n",
       " [datetime.datetime(2022, 2, 28, 3, 29)],\n",
       " [datetime.datetime(2022, 2, 28, 3, 34)],\n",
       " [datetime.datetime(2022, 2, 28, 3, 39)],\n",
       " [datetime.datetime(2022, 2, 28, 3, 44)],\n",
       " [datetime.datetime(2022, 2, 28, 3, 49)],\n",
       " [datetime.datetime(2022, 2, 28, 3, 54)],\n",
       " [datetime.datetime(2022, 2, 28, 3, 59)],\n",
       " [datetime.datetime(2022, 2, 28, 4, 4)],\n",
       " [datetime.datetime(2022, 2, 28, 4, 9)],\n",
       " [datetime.datetime(2022, 2, 28, 4, 14)],\n",
       " [datetime.datetime(2022, 2, 28, 4, 19)],\n",
       " [datetime.datetime(2022, 2, 28, 4, 24)],\n",
       " [datetime.datetime(2022, 2, 28, 4, 29)],\n",
       " [datetime.datetime(2022, 2, 28, 4, 34)],\n",
       " [datetime.datetime(2022, 2, 28, 4, 39)],\n",
       " [datetime.datetime(2022, 2, 28, 4, 44)],\n",
       " [datetime.datetime(2022, 2, 28, 4, 49)],\n",
       " [datetime.datetime(2022, 2, 28, 4, 54)],\n",
       " [datetime.datetime(2022, 2, 28, 4, 59)],\n",
       " [datetime.datetime(2022, 2, 28, 5, 4)],\n",
       " [datetime.datetime(2022, 2, 28, 5, 9)],\n",
       " [datetime.datetime(2022, 2, 28, 5, 14)],\n",
       " [datetime.datetime(2022, 2, 28, 5, 19)],\n",
       " [datetime.datetime(2022, 2, 28, 5, 24)],\n",
       " [datetime.datetime(2022, 2, 28, 5, 29)],\n",
       " [datetime.datetime(2022, 2, 28, 5, 34)],\n",
       " [datetime.datetime(2022, 2, 28, 5, 39)],\n",
       " [datetime.datetime(2022, 2, 28, 5, 44)],\n",
       " [datetime.datetime(2022, 2, 28, 5, 49)],\n",
       " [datetime.datetime(2022, 2, 28, 5, 54)],\n",
       " [datetime.datetime(2022, 2, 28, 5, 59)],\n",
       " [datetime.datetime(2022, 2, 28, 6, 4)],\n",
       " [datetime.datetime(2022, 2, 28, 6, 9)],\n",
       " [datetime.datetime(2022, 2, 28, 6, 14)],\n",
       " [datetime.datetime(2022, 2, 28, 6, 19)],\n",
       " [datetime.datetime(2022, 2, 28, 6, 24)],\n",
       " [datetime.datetime(2022, 2, 28, 6, 29)],\n",
       " [datetime.datetime(2022, 2, 28, 6, 34)],\n",
       " [datetime.datetime(2022, 2, 28, 6, 39)],\n",
       " [datetime.datetime(2022, 2, 28, 6, 44)],\n",
       " [datetime.datetime(2022, 2, 28, 6, 49)],\n",
       " [datetime.datetime(2022, 2, 28, 6, 54)],\n",
       " [datetime.datetime(2022, 2, 28, 6, 59)],\n",
       " [datetime.datetime(2022, 2, 28, 7, 4)],\n",
       " [datetime.datetime(2022, 2, 28, 7, 9)],\n",
       " [datetime.datetime(2022, 2, 28, 7, 14)],\n",
       " [datetime.datetime(2022, 2, 28, 7, 19)],\n",
       " [datetime.datetime(2022, 2, 28, 7, 24)],\n",
       " [datetime.datetime(2022, 2, 28, 7, 29)],\n",
       " [datetime.datetime(2022, 2, 28, 7, 34)],\n",
       " [datetime.datetime(2022, 2, 28, 7, 39)],\n",
       " [datetime.datetime(2022, 2, 28, 7, 44)],\n",
       " [datetime.datetime(2022, 2, 28, 7, 49)],\n",
       " [datetime.datetime(2022, 2, 28, 7, 54)],\n",
       " [datetime.datetime(2022, 2, 28, 7, 59)],\n",
       " [datetime.datetime(2022, 2, 28, 8, 4)],\n",
       " [datetime.datetime(2022, 2, 28, 8, 9)],\n",
       " [datetime.datetime(2022, 2, 28, 8, 14)],\n",
       " [datetime.datetime(2022, 2, 28, 8, 19)],\n",
       " [datetime.datetime(2022, 2, 28, 8, 24)],\n",
       " [datetime.datetime(2022, 2, 28, 8, 29)],\n",
       " [datetime.datetime(2022, 2, 28, 8, 34)],\n",
       " [datetime.datetime(2022, 2, 28, 8, 39)],\n",
       " [datetime.datetime(2022, 2, 28, 8, 44)],\n",
       " [datetime.datetime(2022, 2, 28, 8, 49)],\n",
       " [datetime.datetime(2022, 2, 28, 8, 54)],\n",
       " [datetime.datetime(2022, 2, 28, 8, 59)],\n",
       " [datetime.datetime(2022, 2, 28, 9, 4)],\n",
       " [datetime.datetime(2022, 2, 28, 9, 9)],\n",
       " [datetime.datetime(2022, 2, 28, 9, 14)],\n",
       " [datetime.datetime(2022, 2, 28, 9, 19)],\n",
       " [datetime.datetime(2022, 2, 28, 9, 24)],\n",
       " [datetime.datetime(2022, 2, 28, 9, 29)],\n",
       " [datetime.datetime(2022, 2, 28, 9, 34)],\n",
       " [datetime.datetime(2022, 2, 28, 9, 39)],\n",
       " [datetime.datetime(2022, 2, 28, 9, 44)],\n",
       " [datetime.datetime(2022, 2, 28, 9, 49)],\n",
       " [datetime.datetime(2022, 2, 28, 9, 54)],\n",
       " [datetime.datetime(2022, 2, 28, 9, 59)],\n",
       " [datetime.datetime(2022, 2, 28, 10, 4)],\n",
       " [datetime.datetime(2022, 2, 28, 10, 9)],\n",
       " [datetime.datetime(2022, 2, 28, 10, 14)],\n",
       " [datetime.datetime(2022, 2, 28, 10, 19)],\n",
       " [datetime.datetime(2022, 2, 28, 10, 24)],\n",
       " [datetime.datetime(2022, 2, 28, 10, 29)],\n",
       " [datetime.datetime(2022, 2, 28, 10, 34)],\n",
       " [datetime.datetime(2022, 2, 28, 10, 39)],\n",
       " [datetime.datetime(2022, 2, 28, 10, 44)],\n",
       " [datetime.datetime(2022, 2, 28, 10, 49)],\n",
       " [datetime.datetime(2022, 2, 28, 10, 54)],\n",
       " [datetime.datetime(2022, 2, 28, 10, 59)],\n",
       " [datetime.datetime(2022, 2, 28, 11, 4)],\n",
       " [datetime.datetime(2022, 2, 28, 11, 9)],\n",
       " [datetime.datetime(2022, 2, 28, 11, 14)],\n",
       " [datetime.datetime(2022, 2, 28, 11, 19)],\n",
       " [datetime.datetime(2022, 2, 28, 11, 24)],\n",
       " [datetime.datetime(2022, 2, 28, 11, 29)],\n",
       " [datetime.datetime(2022, 2, 28, 11, 34)],\n",
       " [datetime.datetime(2022, 2, 28, 11, 39)],\n",
       " [datetime.datetime(2022, 2, 28, 11, 44)],\n",
       " [datetime.datetime(2022, 2, 28, 11, 49)],\n",
       " [datetime.datetime(2022, 2, 28, 11, 54)],\n",
       " [datetime.datetime(2022, 2, 28, 11, 59)],\n",
       " [datetime.datetime(2022, 2, 28, 12, 4)],\n",
       " [datetime.datetime(2022, 2, 28, 12, 9)],\n",
       " [datetime.datetime(2022, 2, 28, 12, 14)],\n",
       " [datetime.datetime(2022, 2, 28, 12, 19)],\n",
       " [datetime.datetime(2022, 2, 28, 12, 24)],\n",
       " [datetime.datetime(2022, 2, 28, 12, 29)],\n",
       " [datetime.datetime(2022, 2, 28, 12, 34)],\n",
       " [datetime.datetime(2022, 2, 28, 12, 39)],\n",
       " [datetime.datetime(2022, 2, 28, 12, 44)],\n",
       " [datetime.datetime(2022, 2, 28, 12, 49)],\n",
       " [datetime.datetime(2022, 2, 28, 12, 54)],\n",
       " [datetime.datetime(2022, 2, 28, 12, 59)],\n",
       " [datetime.datetime(2022, 2, 28, 13, 4)],\n",
       " [datetime.datetime(2022, 2, 28, 13, 9)],\n",
       " [datetime.datetime(2022, 2, 28, 13, 14)],\n",
       " [datetime.datetime(2022, 2, 28, 13, 19)],\n",
       " [datetime.datetime(2022, 2, 28, 13, 24)],\n",
       " [datetime.datetime(2022, 2, 28, 13, 29)],\n",
       " [datetime.datetime(2022, 2, 28, 13, 34)],\n",
       " [datetime.datetime(2022, 2, 28, 13, 39)],\n",
       " [datetime.datetime(2022, 2, 28, 13, 44)],\n",
       " [datetime.datetime(2022, 2, 28, 13, 49)],\n",
       " [datetime.datetime(2022, 2, 28, 13, 54)],\n",
       " [datetime.datetime(2022, 2, 28, 13, 59)],\n",
       " [datetime.datetime(2022, 2, 28, 14, 4)],\n",
       " [datetime.datetime(2022, 2, 28, 14, 9)],\n",
       " [datetime.datetime(2022, 2, 28, 14, 14)],\n",
       " [datetime.datetime(2022, 2, 28, 14, 19)],\n",
       " [datetime.datetime(2022, 2, 28, 14, 24)],\n",
       " [datetime.datetime(2022, 2, 28, 14, 29)],\n",
       " [datetime.datetime(2022, 2, 28, 14, 34)],\n",
       " [datetime.datetime(2022, 2, 28, 14, 39)],\n",
       " [datetime.datetime(2022, 2, 28, 14, 44)],\n",
       " [datetime.datetime(2022, 2, 28, 14, 49)],\n",
       " [datetime.datetime(2022, 2, 28, 14, 54)],\n",
       " [datetime.datetime(2022, 2, 28, 14, 59)]]"
      ]
     },
     "execution_count": 45,
     "metadata": {},
     "output_type": "execute_result"
    }
   ],
   "source": [
    "'''make a range that fills all those in'''\n",
    "\n",
    "from datetime import date, datetime, timedelta\n",
    "\n",
    "def date_range_list(start_date, end_date):\n",
    "    if start_date > end_date:\n",
    "        raise ValueError(\"start_date must come before end_date\")\n",
    "    \n",
    "    datetime_list = []\n",
    "    curr_date = start_date\n",
    "    while curr_date <= end_date:\n",
    "        # yield curr_date\n",
    "        datetime_list.append([curr_date])\n",
    "        curr_date += timedelta(minutes=5)\n",
    "    return datetime_list\n",
    "\n",
    "datetime_list = date_range_list(minimum, maximum)\n",
    "\n",
    "'''~~take out the datetimes that already exist in the dataframe~~\n",
    "this doesn't work because datetime_list.append(curr_date) needs to be datetime_list.append([curr_date])'''\n",
    "# datetime_list = list(set(datetime_list) - set(og_datetimes))\n",
    "\n",
    "datetime_list"
   ]
  },
  {
   "cell_type": "raw",
   "id": "93bf30ef-6d8c-4a78-bf71-1644f2fa0fa0",
   "metadata": {
    "jupyter": {
     "outputs_hidden": true
    },
    "tags": []
   },
   "source": [
    "'''part of the attempt to remove existing timestamps from being re-added to the dataframe'''\n",
    "og_datetimes = [i.GlucoseDisplayTime for i in subset.select('GlucoseDisplayTime').distinct().collect()]\n",
    "# og_datetimes = subset.select('GlucoseDisplayTime').distinct().collect()\n",
    "og_datetimes"
   ]
  },
  {
   "cell_type": "code",
   "execution_count": 46,
   "id": "46419c8c-159b-48cc-9e07-da1753eccc2f",
   "metadata": {
    "tags": []
   },
   "outputs": [
    {
     "name": "stdout",
     "output_type": "stream",
     "text": [
      "root\n",
      " |-- GlucoseDisplayTime: timestamp (nullable = true)\n",
      "\n",
      "row count:  915\n",
      "+-------------------+\n",
      "|GlucoseDisplayTime |\n",
      "+-------------------+\n",
      "|2022-02-25 10:49:00|\n",
      "|2022-02-25 10:54:00|\n",
      "|2022-02-25 10:59:00|\n",
      "|2022-02-25 11:04:00|\n",
      "|2022-02-25 11:09:00|\n",
      "|2022-02-25 11:14:00|\n",
      "|2022-02-25 11:19:00|\n",
      "|2022-02-25 11:24:00|\n",
      "|2022-02-25 11:29:00|\n",
      "|2022-02-25 11:34:00|\n",
      "|2022-02-25 11:39:00|\n",
      "|2022-02-25 11:44:00|\n",
      "|2022-02-25 11:49:00|\n",
      "|2022-02-25 11:54:00|\n",
      "|2022-02-25 11:59:00|\n",
      "|2022-02-25 12:04:00|\n",
      "|2022-02-25 12:09:00|\n",
      "|2022-02-25 12:14:00|\n",
      "|2022-02-25 12:19:00|\n",
      "|2022-02-25 12:24:00|\n",
      "+-------------------+\n",
      "only showing top 20 rows\n",
      "\n"
     ]
    }
   ],
   "source": [
    "'''make a dataframe of those dates'''\n",
    "\n",
    "from pyspark.sql.types import StructType, StructField, TimestampType\n",
    "\n",
    "deptSchema = StructType([       \n",
    "    StructField('GlucoseDisplayTime', TimestampType(), True)\n",
    "])\n",
    "\n",
    "dt_df = spark.createDataFrame(data=datetime_list, schema = deptSchema)\n",
    "dt_df.printSchema()\n",
    "print(\"row count: \", dt_df.count())\n",
    "dt_df.show(truncate=False)"
   ]
  },
  {
   "cell_type": "code",
   "execution_count": 52,
   "id": "10a40835-548b-47f3-a5dc-a7c4975b7a6f",
   "metadata": {
    "tags": []
   },
   "outputs": [
    {
     "name": "stderr",
     "output_type": "stream",
     "text": [
      "                                                                                \r"
     ]
    },
    {
     "name": "stdout",
     "output_type": "stream",
     "text": [
      "row count:  1248\n"
     ]
    },
    {
     "name": "stderr",
     "output_type": "stream",
     "text": [
      "[Stage 190:======================================>                  (2 + 1) / 3]\r"
     ]
    },
    {
     "name": "stdout",
     "output_type": "stream",
     "text": [
      "+--------------------------------------------+-----+-------------------+-----------------------------+------------------+\n",
      "|PatientId                                   |Value|GlucoseDisplayTime |GlucoseDisplayTimeRaw        |GlucoseDisplayDate|\n",
      "+--------------------------------------------+-----+-------------------+-----------------------------+------------------+\n",
      "|UNrE+DKLY8WEQsGhgJWIhSBlMYSn9szanvBQuoGKSjg=|222.0|2022-02-25 10:49:00|2022-02-25T10:49:20.000-08:00|2022-02-25        |\n",
      "|UNrE+DKLY8WEQsGhgJWIhSBlMYSn9szanvBQuoGKSjg=|218.0|2022-02-25 10:54:00|2022-02-25T10:54:19.000-08:00|2022-02-25        |\n",
      "|UNrE+DKLY8WEQsGhgJWIhSBlMYSn9szanvBQuoGKSjg=|216.0|2022-02-25 10:59:00|2022-02-25T10:59:19.000-08:00|2022-02-25        |\n",
      "|UNrE+DKLY8WEQsGhgJWIhSBlMYSn9szanvBQuoGKSjg=|211.0|2022-02-25 11:04:00|2022-02-25T11:04:20.000-08:00|2022-02-25        |\n",
      "|UNrE+DKLY8WEQsGhgJWIhSBlMYSn9szanvBQuoGKSjg=|211.0|2022-02-25 11:09:00|2022-02-25T11:09:19.000-08:00|2022-02-25        |\n",
      "|UNrE+DKLY8WEQsGhgJWIhSBlMYSn9szanvBQuoGKSjg=|205.0|2022-02-25 11:14:00|2022-02-25T11:14:19.000-08:00|2022-02-25        |\n",
      "|UNrE+DKLY8WEQsGhgJWIhSBlMYSn9szanvBQuoGKSjg=|199.0|2022-02-25 11:19:00|2022-02-25T11:19:19.000-08:00|2022-02-25        |\n",
      "|UNrE+DKLY8WEQsGhgJWIhSBlMYSn9szanvBQuoGKSjg=|201.0|2022-02-25 11:24:00|2022-02-25T11:24:20.000-08:00|2022-02-25        |\n",
      "|UNrE+DKLY8WEQsGhgJWIhSBlMYSn9szanvBQuoGKSjg=|195.0|2022-02-25 11:29:00|2022-02-25T11:29:19.000-08:00|2022-02-25        |\n",
      "|UNrE+DKLY8WEQsGhgJWIhSBlMYSn9szanvBQuoGKSjg=|175.0|2022-02-25 11:34:00|2022-02-25T11:34:20.000-08:00|2022-02-25        |\n",
      "|UNrE+DKLY8WEQsGhgJWIhSBlMYSn9szanvBQuoGKSjg=|183.0|2022-02-25 11:39:00|2022-02-25T11:39:20.000-08:00|2022-02-25        |\n",
      "|UNrE+DKLY8WEQsGhgJWIhSBlMYSn9szanvBQuoGKSjg=|177.0|2022-02-25 11:44:00|2022-02-25T11:44:19.000-08:00|2022-02-25        |\n",
      "|UNrE+DKLY8WEQsGhgJWIhSBlMYSn9szanvBQuoGKSjg=|177.0|2022-02-25 11:49:00|2022-02-25T11:49:20.000-08:00|2022-02-25        |\n",
      "|UNrE+DKLY8WEQsGhgJWIhSBlMYSn9szanvBQuoGKSjg=|177.0|2022-02-25 11:54:00|2022-02-25T11:54:19.000-08:00|2022-02-25        |\n",
      "|UNrE+DKLY8WEQsGhgJWIhSBlMYSn9szanvBQuoGKSjg=|171.0|2022-02-25 11:59:00|2022-02-25T11:59:19.000-08:00|2022-02-25        |\n",
      "|UNrE+DKLY8WEQsGhgJWIhSBlMYSn9szanvBQuoGKSjg=|169.0|2022-02-25 12:04:00|2022-02-25T12:04:20.000-08:00|2022-02-25        |\n",
      "|UNrE+DKLY8WEQsGhgJWIhSBlMYSn9szanvBQuoGKSjg=|167.0|2022-02-25 12:09:00|2022-02-25T12:09:20.000-08:00|2022-02-25        |\n",
      "|UNrE+DKLY8WEQsGhgJWIhSBlMYSn9szanvBQuoGKSjg=|169.0|2022-02-25 12:14:00|2022-02-25T12:14:19.000-08:00|2022-02-25        |\n",
      "|UNrE+DKLY8WEQsGhgJWIhSBlMYSn9szanvBQuoGKSjg=|172.0|2022-02-25 12:19:00|2022-02-25T12:19:19.000-08:00|2022-02-25        |\n",
      "|UNrE+DKLY8WEQsGhgJWIhSBlMYSn9szanvBQuoGKSjg=|170.0|2022-02-25 12:24:00|2022-02-25T12:24:19.000-08:00|2022-02-25        |\n",
      "+--------------------------------------------+-----+-------------------+-----------------------------+------------------+\n",
      "only showing top 20 rows\n",
      "\n"
     ]
    },
    {
     "name": "stderr",
     "output_type": "stream",
     "text": [
      "                                                                                \r"
     ]
    }
   ],
   "source": [
    "'''merge og dataframe back into the new one along the dates'''\n",
    "# merged = df_1.union(df_2)\n",
    "merged = subset.unionByName(dt_df, allowMissingColumns=True)\n",
    "\n",
    "print(\"row count: \", merged.count())\n",
    "merged.show(truncate=False)"
   ]
  },
  {
   "cell_type": "code",
   "execution_count": 53,
   "id": "20846af4-e7ae-4305-ae2f-d2108f68a3ba",
   "metadata": {
    "tags": []
   },
   "outputs": [
    {
     "name": "stderr",
     "output_type": "stream",
     "text": [
      "                                                                                \r"
     ]
    },
    {
     "name": "stdout",
     "output_type": "stream",
     "text": [
      "row count:  915\n"
     ]
    },
    {
     "name": "stderr",
     "output_type": "stream",
     "text": [
      "[Stage 203:======================================>                  (2 + 1) / 3]\r"
     ]
    },
    {
     "name": "stdout",
     "output_type": "stream",
     "text": [
      "+--------------------+-----+-------------------+---------------------+------------------+\n",
      "|           PatientId|Value| GlucoseDisplayTime|GlucoseDisplayTimeRaw|GlucoseDisplayDate|\n",
      "+--------------------+-----+-------------------+---------------------+------------------+\n",
      "|UNrE+DKLY8WEQsGhg...|222.0|2022-02-25 10:49:00| 2022-02-25T10:49:...|        2022-02-25|\n",
      "|UNrE+DKLY8WEQsGhg...|218.0|2022-02-25 10:54:00| 2022-02-25T10:54:...|        2022-02-25|\n",
      "|UNrE+DKLY8WEQsGhg...|216.0|2022-02-25 10:59:00| 2022-02-25T10:59:...|        2022-02-25|\n",
      "|UNrE+DKLY8WEQsGhg...|211.0|2022-02-25 11:04:00| 2022-02-25T11:04:...|        2022-02-25|\n",
      "|UNrE+DKLY8WEQsGhg...|211.0|2022-02-25 11:09:00| 2022-02-25T11:09:...|        2022-02-25|\n",
      "|UNrE+DKLY8WEQsGhg...|205.0|2022-02-25 11:14:00| 2022-02-25T11:14:...|        2022-02-25|\n",
      "|UNrE+DKLY8WEQsGhg...|199.0|2022-02-25 11:19:00| 2022-02-25T11:19:...|        2022-02-25|\n",
      "|UNrE+DKLY8WEQsGhg...|201.0|2022-02-25 11:24:00| 2022-02-25T11:24:...|        2022-02-25|\n",
      "|UNrE+DKLY8WEQsGhg...|195.0|2022-02-25 11:29:00| 2022-02-25T11:29:...|        2022-02-25|\n",
      "|UNrE+DKLY8WEQsGhg...|175.0|2022-02-25 11:34:00| 2022-02-25T11:34:...|        2022-02-25|\n",
      "|UNrE+DKLY8WEQsGhg...|183.0|2022-02-25 11:39:00| 2022-02-25T11:39:...|        2022-02-25|\n",
      "|UNrE+DKLY8WEQsGhg...|177.0|2022-02-25 11:44:00| 2022-02-25T11:44:...|        2022-02-25|\n",
      "|UNrE+DKLY8WEQsGhg...|177.0|2022-02-25 11:49:00| 2022-02-25T11:49:...|        2022-02-25|\n",
      "|UNrE+DKLY8WEQsGhg...|177.0|2022-02-25 11:54:00| 2022-02-25T11:54:...|        2022-02-25|\n",
      "|UNrE+DKLY8WEQsGhg...|171.0|2022-02-25 11:59:00| 2022-02-25T11:59:...|        2022-02-25|\n",
      "|UNrE+DKLY8WEQsGhg...|169.0|2022-02-25 12:04:00| 2022-02-25T12:04:...|        2022-02-25|\n",
      "|UNrE+DKLY8WEQsGhg...|167.0|2022-02-25 12:09:00| 2022-02-25T12:09:...|        2022-02-25|\n",
      "|UNrE+DKLY8WEQsGhg...|169.0|2022-02-25 12:14:00| 2022-02-25T12:14:...|        2022-02-25|\n",
      "|UNrE+DKLY8WEQsGhg...|172.0|2022-02-25 12:19:00| 2022-02-25T12:19:...|        2022-02-25|\n",
      "|UNrE+DKLY8WEQsGhg...|170.0|2022-02-25 12:24:00| 2022-02-25T12:24:...|        2022-02-25|\n",
      "+--------------------+-----+-------------------+---------------------+------------------+\n",
      "only showing top 20 rows\n",
      "\n"
     ]
    },
    {
     "name": "stderr",
     "output_type": "stream",
     "text": [
      "                                                                                \r"
     ]
    }
   ],
   "source": [
    "'''get rid of the timestamps we already have (using the exact same method as from \"drop duplicate datetimes for each patient\" above)'''\n",
    "window = Window.partitionBy('GlucoseDisplayTime').orderBy('tiebreak')\n",
    "merged = (merged\n",
    " .withColumn('tiebreak', monotonically_increasing_id())\n",
    " .withColumn('rank', rank().over(window))\n",
    " .filter(col('rank') == 1).drop('rank','tiebreak')\n",
    ")\n",
    "\n",
    "print(\"row count: \", merged.count())\n",
    "merged.show()"
   ]
  },
  {
   "cell_type": "code",
   "execution_count": 60,
   "id": "e4cfe9a0-8eeb-4829-a23b-4216cda4dcd8",
   "metadata": {
    "collapsed": true,
    "jupyter": {
     "outputs_hidden": true
    },
    "tags": []
   },
   "outputs": [
    {
     "name": "stderr",
     "output_type": "stream",
     "text": [
      "                                                                                \r"
     ]
    },
    {
     "name": "stdout",
     "output_type": "stream",
     "text": [
      "row count:  915\n"
     ]
    },
    {
     "name": "stderr",
     "output_type": "stream",
     "text": [
      "                                                                                \r"
     ]
    },
    {
     "data": {
      "text/plain": [
       "[Row(PatientId='UNrE+DKLY8WEQsGhgJWIhSBlMYSn9szanvBQuoGKSjg=', Value=222.0, GlucoseDisplayTime=datetime.datetime(2022, 2, 25, 10, 49), GlucoseDisplayDate=datetime.date(2022, 2, 25)),\n",
       " Row(PatientId='UNrE+DKLY8WEQsGhgJWIhSBlMYSn9szanvBQuoGKSjg=', Value=218.0, GlucoseDisplayTime=datetime.datetime(2022, 2, 25, 10, 54), GlucoseDisplayDate=datetime.date(2022, 2, 25)),\n",
       " Row(PatientId='UNrE+DKLY8WEQsGhgJWIhSBlMYSn9szanvBQuoGKSjg=', Value=216.0, GlucoseDisplayTime=datetime.datetime(2022, 2, 25, 10, 59), GlucoseDisplayDate=datetime.date(2022, 2, 25)),\n",
       " Row(PatientId='UNrE+DKLY8WEQsGhgJWIhSBlMYSn9szanvBQuoGKSjg=', Value=211.0, GlucoseDisplayTime=datetime.datetime(2022, 2, 25, 11, 4), GlucoseDisplayDate=datetime.date(2022, 2, 25)),\n",
       " Row(PatientId='UNrE+DKLY8WEQsGhgJWIhSBlMYSn9szanvBQuoGKSjg=', Value=211.0, GlucoseDisplayTime=datetime.datetime(2022, 2, 25, 11, 9), GlucoseDisplayDate=datetime.date(2022, 2, 25)),\n",
       " Row(PatientId='UNrE+DKLY8WEQsGhgJWIhSBlMYSn9szanvBQuoGKSjg=', Value=205.0, GlucoseDisplayTime=datetime.datetime(2022, 2, 25, 11, 14), GlucoseDisplayDate=datetime.date(2022, 2, 25)),\n",
       " Row(PatientId='UNrE+DKLY8WEQsGhgJWIhSBlMYSn9szanvBQuoGKSjg=', Value=199.0, GlucoseDisplayTime=datetime.datetime(2022, 2, 25, 11, 19), GlucoseDisplayDate=datetime.date(2022, 2, 25)),\n",
       " Row(PatientId='UNrE+DKLY8WEQsGhgJWIhSBlMYSn9szanvBQuoGKSjg=', Value=201.0, GlucoseDisplayTime=datetime.datetime(2022, 2, 25, 11, 24), GlucoseDisplayDate=datetime.date(2022, 2, 25)),\n",
       " Row(PatientId='UNrE+DKLY8WEQsGhgJWIhSBlMYSn9szanvBQuoGKSjg=', Value=195.0, GlucoseDisplayTime=datetime.datetime(2022, 2, 25, 11, 29), GlucoseDisplayDate=datetime.date(2022, 2, 25)),\n",
       " Row(PatientId='UNrE+DKLY8WEQsGhgJWIhSBlMYSn9szanvBQuoGKSjg=', Value=175.0, GlucoseDisplayTime=datetime.datetime(2022, 2, 25, 11, 34), GlucoseDisplayDate=datetime.date(2022, 2, 25)),\n",
       " Row(PatientId='UNrE+DKLY8WEQsGhgJWIhSBlMYSn9szanvBQuoGKSjg=', Value=183.0, GlucoseDisplayTime=datetime.datetime(2022, 2, 25, 11, 39), GlucoseDisplayDate=datetime.date(2022, 2, 25)),\n",
       " Row(PatientId='UNrE+DKLY8WEQsGhgJWIhSBlMYSn9szanvBQuoGKSjg=', Value=177.0, GlucoseDisplayTime=datetime.datetime(2022, 2, 25, 11, 44), GlucoseDisplayDate=datetime.date(2022, 2, 25)),\n",
       " Row(PatientId='UNrE+DKLY8WEQsGhgJWIhSBlMYSn9szanvBQuoGKSjg=', Value=177.0, GlucoseDisplayTime=datetime.datetime(2022, 2, 25, 11, 49), GlucoseDisplayDate=datetime.date(2022, 2, 25)),\n",
       " Row(PatientId='UNrE+DKLY8WEQsGhgJWIhSBlMYSn9szanvBQuoGKSjg=', Value=177.0, GlucoseDisplayTime=datetime.datetime(2022, 2, 25, 11, 54), GlucoseDisplayDate=datetime.date(2022, 2, 25)),\n",
       " Row(PatientId='UNrE+DKLY8WEQsGhgJWIhSBlMYSn9szanvBQuoGKSjg=', Value=171.0, GlucoseDisplayTime=datetime.datetime(2022, 2, 25, 11, 59), GlucoseDisplayDate=datetime.date(2022, 2, 25)),\n",
       " Row(PatientId='UNrE+DKLY8WEQsGhgJWIhSBlMYSn9szanvBQuoGKSjg=', Value=169.0, GlucoseDisplayTime=datetime.datetime(2022, 2, 25, 12, 4), GlucoseDisplayDate=datetime.date(2022, 2, 25)),\n",
       " Row(PatientId='UNrE+DKLY8WEQsGhgJWIhSBlMYSn9szanvBQuoGKSjg=', Value=167.0, GlucoseDisplayTime=datetime.datetime(2022, 2, 25, 12, 9), GlucoseDisplayDate=datetime.date(2022, 2, 25)),\n",
       " Row(PatientId='UNrE+DKLY8WEQsGhgJWIhSBlMYSn9szanvBQuoGKSjg=', Value=169.0, GlucoseDisplayTime=datetime.datetime(2022, 2, 25, 12, 14), GlucoseDisplayDate=datetime.date(2022, 2, 25)),\n",
       " Row(PatientId='UNrE+DKLY8WEQsGhgJWIhSBlMYSn9szanvBQuoGKSjg=', Value=172.0, GlucoseDisplayTime=datetime.datetime(2022, 2, 25, 12, 19), GlucoseDisplayDate=datetime.date(2022, 2, 25)),\n",
       " Row(PatientId='UNrE+DKLY8WEQsGhgJWIhSBlMYSn9szanvBQuoGKSjg=', Value=170.0, GlucoseDisplayTime=datetime.datetime(2022, 2, 25, 12, 24), GlucoseDisplayDate=datetime.date(2022, 2, 25)),\n",
       " Row(PatientId='UNrE+DKLY8WEQsGhgJWIhSBlMYSn9szanvBQuoGKSjg=', Value=177.0, GlucoseDisplayTime=datetime.datetime(2022, 2, 25, 12, 29), GlucoseDisplayDate=datetime.date(2022, 2, 25)),\n",
       " Row(PatientId='UNrE+DKLY8WEQsGhgJWIhSBlMYSn9szanvBQuoGKSjg=', Value=183.0, GlucoseDisplayTime=datetime.datetime(2022, 2, 25, 12, 34), GlucoseDisplayDate=datetime.date(2022, 2, 25)),\n",
       " Row(PatientId='UNrE+DKLY8WEQsGhgJWIhSBlMYSn9szanvBQuoGKSjg=', Value=184.0, GlucoseDisplayTime=datetime.datetime(2022, 2, 25, 12, 39), GlucoseDisplayDate=datetime.date(2022, 2, 25)),\n",
       " Row(PatientId='UNrE+DKLY8WEQsGhgJWIhSBlMYSn9szanvBQuoGKSjg=', Value=180.0, GlucoseDisplayTime=datetime.datetime(2022, 2, 25, 12, 44), GlucoseDisplayDate=datetime.date(2022, 2, 25)),\n",
       " Row(PatientId='UNrE+DKLY8WEQsGhgJWIhSBlMYSn9szanvBQuoGKSjg=', Value=173.0, GlucoseDisplayTime=datetime.datetime(2022, 2, 25, 12, 49), GlucoseDisplayDate=datetime.date(2022, 2, 25)),\n",
       " Row(PatientId='UNrE+DKLY8WEQsGhgJWIhSBlMYSn9szanvBQuoGKSjg=', Value=173.0, GlucoseDisplayTime=datetime.datetime(2022, 2, 25, 12, 54), GlucoseDisplayDate=datetime.date(2022, 2, 25)),\n",
       " Row(PatientId='UNrE+DKLY8WEQsGhgJWIhSBlMYSn9szanvBQuoGKSjg=', Value=174.0, GlucoseDisplayTime=datetime.datetime(2022, 2, 25, 12, 59), GlucoseDisplayDate=datetime.date(2022, 2, 25)),\n",
       " Row(PatientId='UNrE+DKLY8WEQsGhgJWIhSBlMYSn9szanvBQuoGKSjg=', Value=171.0, GlucoseDisplayTime=datetime.datetime(2022, 2, 25, 13, 4), GlucoseDisplayDate=datetime.date(2022, 2, 25)),\n",
       " Row(PatientId='UNrE+DKLY8WEQsGhgJWIhSBlMYSn9szanvBQuoGKSjg=', Value=168.0, GlucoseDisplayTime=datetime.datetime(2022, 2, 25, 13, 9), GlucoseDisplayDate=datetime.date(2022, 2, 25)),\n",
       " Row(PatientId='UNrE+DKLY8WEQsGhgJWIhSBlMYSn9szanvBQuoGKSjg=', Value=164.0, GlucoseDisplayTime=datetime.datetime(2022, 2, 25, 13, 14), GlucoseDisplayDate=datetime.date(2022, 2, 25)),\n",
       " Row(PatientId='UNrE+DKLY8WEQsGhgJWIhSBlMYSn9szanvBQuoGKSjg=', Value=165.0, GlucoseDisplayTime=datetime.datetime(2022, 2, 25, 13, 19), GlucoseDisplayDate=datetime.date(2022, 2, 25)),\n",
       " Row(PatientId='UNrE+DKLY8WEQsGhgJWIhSBlMYSn9szanvBQuoGKSjg=', Value=160.0, GlucoseDisplayTime=datetime.datetime(2022, 2, 25, 13, 24), GlucoseDisplayDate=datetime.date(2022, 2, 25)),\n",
       " Row(PatientId='UNrE+DKLY8WEQsGhgJWIhSBlMYSn9szanvBQuoGKSjg=', Value=158.0, GlucoseDisplayTime=datetime.datetime(2022, 2, 25, 13, 29), GlucoseDisplayDate=datetime.date(2022, 2, 25)),\n",
       " Row(PatientId='UNrE+DKLY8WEQsGhgJWIhSBlMYSn9szanvBQuoGKSjg=', Value=159.0, GlucoseDisplayTime=datetime.datetime(2022, 2, 25, 13, 34), GlucoseDisplayDate=datetime.date(2022, 2, 25)),\n",
       " Row(PatientId='UNrE+DKLY8WEQsGhgJWIhSBlMYSn9szanvBQuoGKSjg=', Value=157.0, GlucoseDisplayTime=datetime.datetime(2022, 2, 25, 13, 39), GlucoseDisplayDate=datetime.date(2022, 2, 25)),\n",
       " Row(PatientId='UNrE+DKLY8WEQsGhgJWIhSBlMYSn9szanvBQuoGKSjg=', Value=152.0, GlucoseDisplayTime=datetime.datetime(2022, 2, 25, 13, 44), GlucoseDisplayDate=datetime.date(2022, 2, 25)),\n",
       " Row(PatientId='UNrE+DKLY8WEQsGhgJWIhSBlMYSn9szanvBQuoGKSjg=', Value=141.0, GlucoseDisplayTime=datetime.datetime(2022, 2, 25, 13, 49), GlucoseDisplayDate=datetime.date(2022, 2, 25)),\n",
       " Row(PatientId='UNrE+DKLY8WEQsGhgJWIhSBlMYSn9szanvBQuoGKSjg=', Value=137.0, GlucoseDisplayTime=datetime.datetime(2022, 2, 25, 13, 54), GlucoseDisplayDate=datetime.date(2022, 2, 25)),\n",
       " Row(PatientId='UNrE+DKLY8WEQsGhgJWIhSBlMYSn9szanvBQuoGKSjg=', Value=137.0, GlucoseDisplayTime=datetime.datetime(2022, 2, 25, 13, 59), GlucoseDisplayDate=datetime.date(2022, 2, 25)),\n",
       " Row(PatientId='UNrE+DKLY8WEQsGhgJWIhSBlMYSn9szanvBQuoGKSjg=', Value=139.0, GlucoseDisplayTime=datetime.datetime(2022, 2, 25, 14, 4), GlucoseDisplayDate=datetime.date(2022, 2, 25)),\n",
       " Row(PatientId='UNrE+DKLY8WEQsGhgJWIhSBlMYSn9szanvBQuoGKSjg=', Value=135.0, GlucoseDisplayTime=datetime.datetime(2022, 2, 25, 14, 9), GlucoseDisplayDate=datetime.date(2022, 2, 25)),\n",
       " Row(PatientId='UNrE+DKLY8WEQsGhgJWIhSBlMYSn9szanvBQuoGKSjg=', Value=139.0, GlucoseDisplayTime=datetime.datetime(2022, 2, 25, 14, 14), GlucoseDisplayDate=datetime.date(2022, 2, 25)),\n",
       " Row(PatientId='UNrE+DKLY8WEQsGhgJWIhSBlMYSn9szanvBQuoGKSjg=', Value=145.0, GlucoseDisplayTime=datetime.datetime(2022, 2, 25, 14, 19), GlucoseDisplayDate=datetime.date(2022, 2, 25)),\n",
       " Row(PatientId='UNrE+DKLY8WEQsGhgJWIhSBlMYSn9szanvBQuoGKSjg=', Value=145.0, GlucoseDisplayTime=datetime.datetime(2022, 2, 25, 14, 24), GlucoseDisplayDate=datetime.date(2022, 2, 25)),\n",
       " Row(PatientId='UNrE+DKLY8WEQsGhgJWIhSBlMYSn9szanvBQuoGKSjg=', Value=138.0, GlucoseDisplayTime=datetime.datetime(2022, 2, 25, 14, 29), GlucoseDisplayDate=datetime.date(2022, 2, 25)),\n",
       " Row(PatientId='UNrE+DKLY8WEQsGhgJWIhSBlMYSn9szanvBQuoGKSjg=', Value=146.0, GlucoseDisplayTime=datetime.datetime(2022, 2, 25, 14, 34), GlucoseDisplayDate=datetime.date(2022, 2, 25)),\n",
       " Row(PatientId='UNrE+DKLY8WEQsGhgJWIhSBlMYSn9szanvBQuoGKSjg=', Value=148.0, GlucoseDisplayTime=datetime.datetime(2022, 2, 25, 14, 39), GlucoseDisplayDate=datetime.date(2022, 2, 25)),\n",
       " Row(PatientId='UNrE+DKLY8WEQsGhgJWIhSBlMYSn9szanvBQuoGKSjg=', Value=154.0, GlucoseDisplayTime=datetime.datetime(2022, 2, 25, 14, 44), GlucoseDisplayDate=datetime.date(2022, 2, 25)),\n",
       " Row(PatientId='UNrE+DKLY8WEQsGhgJWIhSBlMYSn9szanvBQuoGKSjg=', Value=155.0, GlucoseDisplayTime=datetime.datetime(2022, 2, 25, 14, 49), GlucoseDisplayDate=datetime.date(2022, 2, 25)),\n",
       " Row(PatientId='UNrE+DKLY8WEQsGhgJWIhSBlMYSn9szanvBQuoGKSjg=', Value=154.0, GlucoseDisplayTime=datetime.datetime(2022, 2, 25, 14, 54), GlucoseDisplayDate=datetime.date(2022, 2, 25)),\n",
       " Row(PatientId='UNrE+DKLY8WEQsGhgJWIhSBlMYSn9szanvBQuoGKSjg=', Value=161.0, GlucoseDisplayTime=datetime.datetime(2022, 2, 25, 14, 59), GlucoseDisplayDate=datetime.date(2022, 2, 25)),\n",
       " Row(PatientId='UNrE+DKLY8WEQsGhgJWIhSBlMYSn9szanvBQuoGKSjg=', Value=171.0, GlucoseDisplayTime=datetime.datetime(2022, 2, 25, 15, 4), GlucoseDisplayDate=datetime.date(2022, 2, 25)),\n",
       " Row(PatientId='UNrE+DKLY8WEQsGhgJWIhSBlMYSn9szanvBQuoGKSjg=', Value=177.0, GlucoseDisplayTime=datetime.datetime(2022, 2, 25, 15, 9), GlucoseDisplayDate=datetime.date(2022, 2, 25)),\n",
       " Row(PatientId='UNrE+DKLY8WEQsGhgJWIhSBlMYSn9szanvBQuoGKSjg=', Value=172.0, GlucoseDisplayTime=datetime.datetime(2022, 2, 25, 15, 14), GlucoseDisplayDate=datetime.date(2022, 2, 25)),\n",
       " Row(PatientId='UNrE+DKLY8WEQsGhgJWIhSBlMYSn9szanvBQuoGKSjg=', Value=178.0, GlucoseDisplayTime=datetime.datetime(2022, 2, 25, 15, 19), GlucoseDisplayDate=datetime.date(2022, 2, 25)),\n",
       " Row(PatientId='UNrE+DKLY8WEQsGhgJWIhSBlMYSn9szanvBQuoGKSjg=', Value=179.0, GlucoseDisplayTime=datetime.datetime(2022, 2, 25, 15, 24), GlucoseDisplayDate=datetime.date(2022, 2, 25)),\n",
       " Row(PatientId='UNrE+DKLY8WEQsGhgJWIhSBlMYSn9szanvBQuoGKSjg=', Value=None, GlucoseDisplayTime=datetime.datetime(2022, 2, 25, 15, 29), GlucoseDisplayDate=None),\n",
       " Row(PatientId='UNrE+DKLY8WEQsGhgJWIhSBlMYSn9szanvBQuoGKSjg=', Value=None, GlucoseDisplayTime=datetime.datetime(2022, 2, 25, 15, 34), GlucoseDisplayDate=None),\n",
       " Row(PatientId='UNrE+DKLY8WEQsGhgJWIhSBlMYSn9szanvBQuoGKSjg=', Value=None, GlucoseDisplayTime=datetime.datetime(2022, 2, 25, 15, 39), GlucoseDisplayDate=None),\n",
       " Row(PatientId='UNrE+DKLY8WEQsGhgJWIhSBlMYSn9szanvBQuoGKSjg=', Value=None, GlucoseDisplayTime=datetime.datetime(2022, 2, 25, 15, 44), GlucoseDisplayDate=None),\n",
       " Row(PatientId='UNrE+DKLY8WEQsGhgJWIhSBlMYSn9szanvBQuoGKSjg=', Value=None, GlucoseDisplayTime=datetime.datetime(2022, 2, 25, 15, 49), GlucoseDisplayDate=None),\n",
       " Row(PatientId='UNrE+DKLY8WEQsGhgJWIhSBlMYSn9szanvBQuoGKSjg=', Value=None, GlucoseDisplayTime=datetime.datetime(2022, 2, 25, 15, 54), GlucoseDisplayDate=None),\n",
       " Row(PatientId='UNrE+DKLY8WEQsGhgJWIhSBlMYSn9szanvBQuoGKSjg=', Value=None, GlucoseDisplayTime=datetime.datetime(2022, 2, 25, 15, 59), GlucoseDisplayDate=None),\n",
       " Row(PatientId='UNrE+DKLY8WEQsGhgJWIhSBlMYSn9szanvBQuoGKSjg=', Value=None, GlucoseDisplayTime=datetime.datetime(2022, 2, 25, 16, 4), GlucoseDisplayDate=None),\n",
       " Row(PatientId='UNrE+DKLY8WEQsGhgJWIhSBlMYSn9szanvBQuoGKSjg=', Value=None, GlucoseDisplayTime=datetime.datetime(2022, 2, 25, 16, 9), GlucoseDisplayDate=None),\n",
       " Row(PatientId='UNrE+DKLY8WEQsGhgJWIhSBlMYSn9szanvBQuoGKSjg=', Value=None, GlucoseDisplayTime=datetime.datetime(2022, 2, 25, 16, 14), GlucoseDisplayDate=None),\n",
       " Row(PatientId='UNrE+DKLY8WEQsGhgJWIhSBlMYSn9szanvBQuoGKSjg=', Value=None, GlucoseDisplayTime=datetime.datetime(2022, 2, 25, 16, 19), GlucoseDisplayDate=None),\n",
       " Row(PatientId='UNrE+DKLY8WEQsGhgJWIhSBlMYSn9szanvBQuoGKSjg=', Value=None, GlucoseDisplayTime=datetime.datetime(2022, 2, 25, 16, 24), GlucoseDisplayDate=None),\n",
       " Row(PatientId='UNrE+DKLY8WEQsGhgJWIhSBlMYSn9szanvBQuoGKSjg=', Value=None, GlucoseDisplayTime=datetime.datetime(2022, 2, 25, 16, 29), GlucoseDisplayDate=None),\n",
       " Row(PatientId='UNrE+DKLY8WEQsGhgJWIhSBlMYSn9szanvBQuoGKSjg=', Value=None, GlucoseDisplayTime=datetime.datetime(2022, 2, 25, 16, 34), GlucoseDisplayDate=None),\n",
       " Row(PatientId='UNrE+DKLY8WEQsGhgJWIhSBlMYSn9szanvBQuoGKSjg=', Value=None, GlucoseDisplayTime=datetime.datetime(2022, 2, 25, 16, 39), GlucoseDisplayDate=None),\n",
       " Row(PatientId='UNrE+DKLY8WEQsGhgJWIhSBlMYSn9szanvBQuoGKSjg=', Value=None, GlucoseDisplayTime=datetime.datetime(2022, 2, 25, 16, 44), GlucoseDisplayDate=None),\n",
       " Row(PatientId='UNrE+DKLY8WEQsGhgJWIhSBlMYSn9szanvBQuoGKSjg=', Value=None, GlucoseDisplayTime=datetime.datetime(2022, 2, 25, 16, 49), GlucoseDisplayDate=None),\n",
       " Row(PatientId='UNrE+DKLY8WEQsGhgJWIhSBlMYSn9szanvBQuoGKSjg=', Value=None, GlucoseDisplayTime=datetime.datetime(2022, 2, 25, 16, 54), GlucoseDisplayDate=None),\n",
       " Row(PatientId='UNrE+DKLY8WEQsGhgJWIhSBlMYSn9szanvBQuoGKSjg=', Value=None, GlucoseDisplayTime=datetime.datetime(2022, 2, 25, 16, 59), GlucoseDisplayDate=None),\n",
       " Row(PatientId='UNrE+DKLY8WEQsGhgJWIhSBlMYSn9szanvBQuoGKSjg=', Value=None, GlucoseDisplayTime=datetime.datetime(2022, 2, 25, 17, 4), GlucoseDisplayDate=None),\n",
       " Row(PatientId='UNrE+DKLY8WEQsGhgJWIhSBlMYSn9szanvBQuoGKSjg=', Value=None, GlucoseDisplayTime=datetime.datetime(2022, 2, 25, 17, 9), GlucoseDisplayDate=None),\n",
       " Row(PatientId='UNrE+DKLY8WEQsGhgJWIhSBlMYSn9szanvBQuoGKSjg=', Value=None, GlucoseDisplayTime=datetime.datetime(2022, 2, 25, 17, 14), GlucoseDisplayDate=None),\n",
       " Row(PatientId='UNrE+DKLY8WEQsGhgJWIhSBlMYSn9szanvBQuoGKSjg=', Value=None, GlucoseDisplayTime=datetime.datetime(2022, 2, 25, 17, 19), GlucoseDisplayDate=None),\n",
       " Row(PatientId='UNrE+DKLY8WEQsGhgJWIhSBlMYSn9szanvBQuoGKSjg=', Value=None, GlucoseDisplayTime=datetime.datetime(2022, 2, 25, 17, 24), GlucoseDisplayDate=None),\n",
       " Row(PatientId='UNrE+DKLY8WEQsGhgJWIhSBlMYSn9szanvBQuoGKSjg=', Value=None, GlucoseDisplayTime=datetime.datetime(2022, 2, 25, 17, 29), GlucoseDisplayDate=None),\n",
       " Row(PatientId='UNrE+DKLY8WEQsGhgJWIhSBlMYSn9szanvBQuoGKSjg=', Value=None, GlucoseDisplayTime=datetime.datetime(2022, 2, 25, 17, 34), GlucoseDisplayDate=None),\n",
       " Row(PatientId='UNrE+DKLY8WEQsGhgJWIhSBlMYSn9szanvBQuoGKSjg=', Value=None, GlucoseDisplayTime=datetime.datetime(2022, 2, 25, 17, 39), GlucoseDisplayDate=None),\n",
       " Row(PatientId='UNrE+DKLY8WEQsGhgJWIhSBlMYSn9szanvBQuoGKSjg=', Value=None, GlucoseDisplayTime=datetime.datetime(2022, 2, 25, 17, 44), GlucoseDisplayDate=None),\n",
       " Row(PatientId='UNrE+DKLY8WEQsGhgJWIhSBlMYSn9szanvBQuoGKSjg=', Value=None, GlucoseDisplayTime=datetime.datetime(2022, 2, 25, 17, 49), GlucoseDisplayDate=None),\n",
       " Row(PatientId='UNrE+DKLY8WEQsGhgJWIhSBlMYSn9szanvBQuoGKSjg=', Value=None, GlucoseDisplayTime=datetime.datetime(2022, 2, 25, 17, 54), GlucoseDisplayDate=None),\n",
       " Row(PatientId='UNrE+DKLY8WEQsGhgJWIhSBlMYSn9szanvBQuoGKSjg=', Value=None, GlucoseDisplayTime=datetime.datetime(2022, 2, 25, 17, 59), GlucoseDisplayDate=None),\n",
       " Row(PatientId='UNrE+DKLY8WEQsGhgJWIhSBlMYSn9szanvBQuoGKSjg=', Value=None, GlucoseDisplayTime=datetime.datetime(2022, 2, 25, 18, 4), GlucoseDisplayDate=None),\n",
       " Row(PatientId='UNrE+DKLY8WEQsGhgJWIhSBlMYSn9szanvBQuoGKSjg=', Value=None, GlucoseDisplayTime=datetime.datetime(2022, 2, 25, 18, 9), GlucoseDisplayDate=None),\n",
       " Row(PatientId='UNrE+DKLY8WEQsGhgJWIhSBlMYSn9szanvBQuoGKSjg=', Value=None, GlucoseDisplayTime=datetime.datetime(2022, 2, 25, 18, 14), GlucoseDisplayDate=None)]"
      ]
     },
     "execution_count": 60,
     "metadata": {},
     "output_type": "execute_result"
    }
   ],
   "source": [
    "'''filling out the columns as needed:\n",
    "    -PatientId should be all the same string\n",
    "    -GlucoseDisplayTimeRaw should be used for checking the dates here, but that implementation will have to come later\n",
    "    -GlucoseDisplayDate is not filled out at this time\n",
    "'''\n",
    "merged = merged.drop('GlucoseDisplayTimeRaw') #someday i'll have time to use this as the double-checker\n",
    "merged = merged.fillna(patient_str, subset='PatientId')\n",
    "\n",
    "print(\"row count: \", merged.count())\n",
    "merged.head(80)"
   ]
  },
  {
   "cell_type": "code",
   "execution_count": 61,
   "id": "b02b6978-dc2b-49c9-9093-625f135ed327",
   "metadata": {
    "tags": []
   },
   "outputs": [
    {
     "name": "stderr",
     "output_type": "stream",
     "text": [
      "                                                                                \r"
     ]
    },
    {
     "name": "stdout",
     "output_type": "stream",
     "text": [
      "row count:  915\n"
     ]
    },
    {
     "name": "stderr",
     "output_type": "stream",
     "text": [
      "                                                                                \r"
     ]
    },
    {
     "data": {
      "text/plain": [
       "[Row(PatientId='UNrE+DKLY8WEQsGhgJWIhSBlMYSn9szanvBQuoGKSjg=', Value=222.0, GlucoseDisplayTime=datetime.datetime(2022, 2, 25, 10, 49), GlucoseDisplayDate=datetime.date(2022, 2, 25)),\n",
       " Row(PatientId='UNrE+DKLY8WEQsGhgJWIhSBlMYSn9szanvBQuoGKSjg=', Value=218.0, GlucoseDisplayTime=datetime.datetime(2022, 2, 25, 10, 54), GlucoseDisplayDate=datetime.date(2022, 2, 25)),\n",
       " Row(PatientId='UNrE+DKLY8WEQsGhgJWIhSBlMYSn9szanvBQuoGKSjg=', Value=216.0, GlucoseDisplayTime=datetime.datetime(2022, 2, 25, 10, 59), GlucoseDisplayDate=datetime.date(2022, 2, 25)),\n",
       " Row(PatientId='UNrE+DKLY8WEQsGhgJWIhSBlMYSn9szanvBQuoGKSjg=', Value=211.0, GlucoseDisplayTime=datetime.datetime(2022, 2, 25, 11, 4), GlucoseDisplayDate=datetime.date(2022, 2, 25)),\n",
       " Row(PatientId='UNrE+DKLY8WEQsGhgJWIhSBlMYSn9szanvBQuoGKSjg=', Value=211.0, GlucoseDisplayTime=datetime.datetime(2022, 2, 25, 11, 9), GlucoseDisplayDate=datetime.date(2022, 2, 25)),\n",
       " Row(PatientId='UNrE+DKLY8WEQsGhgJWIhSBlMYSn9szanvBQuoGKSjg=', Value=205.0, GlucoseDisplayTime=datetime.datetime(2022, 2, 25, 11, 14), GlucoseDisplayDate=datetime.date(2022, 2, 25)),\n",
       " Row(PatientId='UNrE+DKLY8WEQsGhgJWIhSBlMYSn9szanvBQuoGKSjg=', Value=199.0, GlucoseDisplayTime=datetime.datetime(2022, 2, 25, 11, 19), GlucoseDisplayDate=datetime.date(2022, 2, 25)),\n",
       " Row(PatientId='UNrE+DKLY8WEQsGhgJWIhSBlMYSn9szanvBQuoGKSjg=', Value=201.0, GlucoseDisplayTime=datetime.datetime(2022, 2, 25, 11, 24), GlucoseDisplayDate=datetime.date(2022, 2, 25)),\n",
       " Row(PatientId='UNrE+DKLY8WEQsGhgJWIhSBlMYSn9szanvBQuoGKSjg=', Value=195.0, GlucoseDisplayTime=datetime.datetime(2022, 2, 25, 11, 29), GlucoseDisplayDate=datetime.date(2022, 2, 25)),\n",
       " Row(PatientId='UNrE+DKLY8WEQsGhgJWIhSBlMYSn9szanvBQuoGKSjg=', Value=175.0, GlucoseDisplayTime=datetime.datetime(2022, 2, 25, 11, 34), GlucoseDisplayDate=datetime.date(2022, 2, 25)),\n",
       " Row(PatientId='UNrE+DKLY8WEQsGhgJWIhSBlMYSn9szanvBQuoGKSjg=', Value=183.0, GlucoseDisplayTime=datetime.datetime(2022, 2, 25, 11, 39), GlucoseDisplayDate=datetime.date(2022, 2, 25)),\n",
       " Row(PatientId='UNrE+DKLY8WEQsGhgJWIhSBlMYSn9szanvBQuoGKSjg=', Value=177.0, GlucoseDisplayTime=datetime.datetime(2022, 2, 25, 11, 44), GlucoseDisplayDate=datetime.date(2022, 2, 25)),\n",
       " Row(PatientId='UNrE+DKLY8WEQsGhgJWIhSBlMYSn9szanvBQuoGKSjg=', Value=177.0, GlucoseDisplayTime=datetime.datetime(2022, 2, 25, 11, 49), GlucoseDisplayDate=datetime.date(2022, 2, 25)),\n",
       " Row(PatientId='UNrE+DKLY8WEQsGhgJWIhSBlMYSn9szanvBQuoGKSjg=', Value=177.0, GlucoseDisplayTime=datetime.datetime(2022, 2, 25, 11, 54), GlucoseDisplayDate=datetime.date(2022, 2, 25)),\n",
       " Row(PatientId='UNrE+DKLY8WEQsGhgJWIhSBlMYSn9szanvBQuoGKSjg=', Value=171.0, GlucoseDisplayTime=datetime.datetime(2022, 2, 25, 11, 59), GlucoseDisplayDate=datetime.date(2022, 2, 25)),\n",
       " Row(PatientId='UNrE+DKLY8WEQsGhgJWIhSBlMYSn9szanvBQuoGKSjg=', Value=169.0, GlucoseDisplayTime=datetime.datetime(2022, 2, 25, 12, 4), GlucoseDisplayDate=datetime.date(2022, 2, 25)),\n",
       " Row(PatientId='UNrE+DKLY8WEQsGhgJWIhSBlMYSn9szanvBQuoGKSjg=', Value=167.0, GlucoseDisplayTime=datetime.datetime(2022, 2, 25, 12, 9), GlucoseDisplayDate=datetime.date(2022, 2, 25)),\n",
       " Row(PatientId='UNrE+DKLY8WEQsGhgJWIhSBlMYSn9szanvBQuoGKSjg=', Value=169.0, GlucoseDisplayTime=datetime.datetime(2022, 2, 25, 12, 14), GlucoseDisplayDate=datetime.date(2022, 2, 25)),\n",
       " Row(PatientId='UNrE+DKLY8WEQsGhgJWIhSBlMYSn9szanvBQuoGKSjg=', Value=172.0, GlucoseDisplayTime=datetime.datetime(2022, 2, 25, 12, 19), GlucoseDisplayDate=datetime.date(2022, 2, 25)),\n",
       " Row(PatientId='UNrE+DKLY8WEQsGhgJWIhSBlMYSn9szanvBQuoGKSjg=', Value=170.0, GlucoseDisplayTime=datetime.datetime(2022, 2, 25, 12, 24), GlucoseDisplayDate=datetime.date(2022, 2, 25)),\n",
       " Row(PatientId='UNrE+DKLY8WEQsGhgJWIhSBlMYSn9szanvBQuoGKSjg=', Value=177.0, GlucoseDisplayTime=datetime.datetime(2022, 2, 25, 12, 29), GlucoseDisplayDate=datetime.date(2022, 2, 25)),\n",
       " Row(PatientId='UNrE+DKLY8WEQsGhgJWIhSBlMYSn9szanvBQuoGKSjg=', Value=183.0, GlucoseDisplayTime=datetime.datetime(2022, 2, 25, 12, 34), GlucoseDisplayDate=datetime.date(2022, 2, 25)),\n",
       " Row(PatientId='UNrE+DKLY8WEQsGhgJWIhSBlMYSn9szanvBQuoGKSjg=', Value=184.0, GlucoseDisplayTime=datetime.datetime(2022, 2, 25, 12, 39), GlucoseDisplayDate=datetime.date(2022, 2, 25)),\n",
       " Row(PatientId='UNrE+DKLY8WEQsGhgJWIhSBlMYSn9szanvBQuoGKSjg=', Value=180.0, GlucoseDisplayTime=datetime.datetime(2022, 2, 25, 12, 44), GlucoseDisplayDate=datetime.date(2022, 2, 25)),\n",
       " Row(PatientId='UNrE+DKLY8WEQsGhgJWIhSBlMYSn9szanvBQuoGKSjg=', Value=173.0, GlucoseDisplayTime=datetime.datetime(2022, 2, 25, 12, 49), GlucoseDisplayDate=datetime.date(2022, 2, 25)),\n",
       " Row(PatientId='UNrE+DKLY8WEQsGhgJWIhSBlMYSn9szanvBQuoGKSjg=', Value=173.0, GlucoseDisplayTime=datetime.datetime(2022, 2, 25, 12, 54), GlucoseDisplayDate=datetime.date(2022, 2, 25)),\n",
       " Row(PatientId='UNrE+DKLY8WEQsGhgJWIhSBlMYSn9szanvBQuoGKSjg=', Value=174.0, GlucoseDisplayTime=datetime.datetime(2022, 2, 25, 12, 59), GlucoseDisplayDate=datetime.date(2022, 2, 25)),\n",
       " Row(PatientId='UNrE+DKLY8WEQsGhgJWIhSBlMYSn9szanvBQuoGKSjg=', Value=171.0, GlucoseDisplayTime=datetime.datetime(2022, 2, 25, 13, 4), GlucoseDisplayDate=datetime.date(2022, 2, 25)),\n",
       " Row(PatientId='UNrE+DKLY8WEQsGhgJWIhSBlMYSn9szanvBQuoGKSjg=', Value=168.0, GlucoseDisplayTime=datetime.datetime(2022, 2, 25, 13, 9), GlucoseDisplayDate=datetime.date(2022, 2, 25)),\n",
       " Row(PatientId='UNrE+DKLY8WEQsGhgJWIhSBlMYSn9szanvBQuoGKSjg=', Value=164.0, GlucoseDisplayTime=datetime.datetime(2022, 2, 25, 13, 14), GlucoseDisplayDate=datetime.date(2022, 2, 25)),\n",
       " Row(PatientId='UNrE+DKLY8WEQsGhgJWIhSBlMYSn9szanvBQuoGKSjg=', Value=165.0, GlucoseDisplayTime=datetime.datetime(2022, 2, 25, 13, 19), GlucoseDisplayDate=datetime.date(2022, 2, 25)),\n",
       " Row(PatientId='UNrE+DKLY8WEQsGhgJWIhSBlMYSn9szanvBQuoGKSjg=', Value=160.0, GlucoseDisplayTime=datetime.datetime(2022, 2, 25, 13, 24), GlucoseDisplayDate=datetime.date(2022, 2, 25)),\n",
       " Row(PatientId='UNrE+DKLY8WEQsGhgJWIhSBlMYSn9szanvBQuoGKSjg=', Value=158.0, GlucoseDisplayTime=datetime.datetime(2022, 2, 25, 13, 29), GlucoseDisplayDate=datetime.date(2022, 2, 25)),\n",
       " Row(PatientId='UNrE+DKLY8WEQsGhgJWIhSBlMYSn9szanvBQuoGKSjg=', Value=159.0, GlucoseDisplayTime=datetime.datetime(2022, 2, 25, 13, 34), GlucoseDisplayDate=datetime.date(2022, 2, 25)),\n",
       " Row(PatientId='UNrE+DKLY8WEQsGhgJWIhSBlMYSn9szanvBQuoGKSjg=', Value=157.0, GlucoseDisplayTime=datetime.datetime(2022, 2, 25, 13, 39), GlucoseDisplayDate=datetime.date(2022, 2, 25)),\n",
       " Row(PatientId='UNrE+DKLY8WEQsGhgJWIhSBlMYSn9szanvBQuoGKSjg=', Value=152.0, GlucoseDisplayTime=datetime.datetime(2022, 2, 25, 13, 44), GlucoseDisplayDate=datetime.date(2022, 2, 25)),\n",
       " Row(PatientId='UNrE+DKLY8WEQsGhgJWIhSBlMYSn9szanvBQuoGKSjg=', Value=141.0, GlucoseDisplayTime=datetime.datetime(2022, 2, 25, 13, 49), GlucoseDisplayDate=datetime.date(2022, 2, 25)),\n",
       " Row(PatientId='UNrE+DKLY8WEQsGhgJWIhSBlMYSn9szanvBQuoGKSjg=', Value=137.0, GlucoseDisplayTime=datetime.datetime(2022, 2, 25, 13, 54), GlucoseDisplayDate=datetime.date(2022, 2, 25)),\n",
       " Row(PatientId='UNrE+DKLY8WEQsGhgJWIhSBlMYSn9szanvBQuoGKSjg=', Value=137.0, GlucoseDisplayTime=datetime.datetime(2022, 2, 25, 13, 59), GlucoseDisplayDate=datetime.date(2022, 2, 25)),\n",
       " Row(PatientId='UNrE+DKLY8WEQsGhgJWIhSBlMYSn9szanvBQuoGKSjg=', Value=139.0, GlucoseDisplayTime=datetime.datetime(2022, 2, 25, 14, 4), GlucoseDisplayDate=datetime.date(2022, 2, 25)),\n",
       " Row(PatientId='UNrE+DKLY8WEQsGhgJWIhSBlMYSn9szanvBQuoGKSjg=', Value=135.0, GlucoseDisplayTime=datetime.datetime(2022, 2, 25, 14, 9), GlucoseDisplayDate=datetime.date(2022, 2, 25)),\n",
       " Row(PatientId='UNrE+DKLY8WEQsGhgJWIhSBlMYSn9szanvBQuoGKSjg=', Value=139.0, GlucoseDisplayTime=datetime.datetime(2022, 2, 25, 14, 14), GlucoseDisplayDate=datetime.date(2022, 2, 25)),\n",
       " Row(PatientId='UNrE+DKLY8WEQsGhgJWIhSBlMYSn9szanvBQuoGKSjg=', Value=145.0, GlucoseDisplayTime=datetime.datetime(2022, 2, 25, 14, 19), GlucoseDisplayDate=datetime.date(2022, 2, 25)),\n",
       " Row(PatientId='UNrE+DKLY8WEQsGhgJWIhSBlMYSn9szanvBQuoGKSjg=', Value=145.0, GlucoseDisplayTime=datetime.datetime(2022, 2, 25, 14, 24), GlucoseDisplayDate=datetime.date(2022, 2, 25)),\n",
       " Row(PatientId='UNrE+DKLY8WEQsGhgJWIhSBlMYSn9szanvBQuoGKSjg=', Value=138.0, GlucoseDisplayTime=datetime.datetime(2022, 2, 25, 14, 29), GlucoseDisplayDate=datetime.date(2022, 2, 25)),\n",
       " Row(PatientId='UNrE+DKLY8WEQsGhgJWIhSBlMYSn9szanvBQuoGKSjg=', Value=146.0, GlucoseDisplayTime=datetime.datetime(2022, 2, 25, 14, 34), GlucoseDisplayDate=datetime.date(2022, 2, 25)),\n",
       " Row(PatientId='UNrE+DKLY8WEQsGhgJWIhSBlMYSn9szanvBQuoGKSjg=', Value=148.0, GlucoseDisplayTime=datetime.datetime(2022, 2, 25, 14, 39), GlucoseDisplayDate=datetime.date(2022, 2, 25)),\n",
       " Row(PatientId='UNrE+DKLY8WEQsGhgJWIhSBlMYSn9szanvBQuoGKSjg=', Value=154.0, GlucoseDisplayTime=datetime.datetime(2022, 2, 25, 14, 44), GlucoseDisplayDate=datetime.date(2022, 2, 25)),\n",
       " Row(PatientId='UNrE+DKLY8WEQsGhgJWIhSBlMYSn9szanvBQuoGKSjg=', Value=155.0, GlucoseDisplayTime=datetime.datetime(2022, 2, 25, 14, 49), GlucoseDisplayDate=datetime.date(2022, 2, 25)),\n",
       " Row(PatientId='UNrE+DKLY8WEQsGhgJWIhSBlMYSn9szanvBQuoGKSjg=', Value=154.0, GlucoseDisplayTime=datetime.datetime(2022, 2, 25, 14, 54), GlucoseDisplayDate=datetime.date(2022, 2, 25)),\n",
       " Row(PatientId='UNrE+DKLY8WEQsGhgJWIhSBlMYSn9szanvBQuoGKSjg=', Value=161.0, GlucoseDisplayTime=datetime.datetime(2022, 2, 25, 14, 59), GlucoseDisplayDate=datetime.date(2022, 2, 25)),\n",
       " Row(PatientId='UNrE+DKLY8WEQsGhgJWIhSBlMYSn9szanvBQuoGKSjg=', Value=171.0, GlucoseDisplayTime=datetime.datetime(2022, 2, 25, 15, 4), GlucoseDisplayDate=datetime.date(2022, 2, 25)),\n",
       " Row(PatientId='UNrE+DKLY8WEQsGhgJWIhSBlMYSn9szanvBQuoGKSjg=', Value=177.0, GlucoseDisplayTime=datetime.datetime(2022, 2, 25, 15, 9), GlucoseDisplayDate=datetime.date(2022, 2, 25)),\n",
       " Row(PatientId='UNrE+DKLY8WEQsGhgJWIhSBlMYSn9szanvBQuoGKSjg=', Value=172.0, GlucoseDisplayTime=datetime.datetime(2022, 2, 25, 15, 14), GlucoseDisplayDate=datetime.date(2022, 2, 25)),\n",
       " Row(PatientId='UNrE+DKLY8WEQsGhgJWIhSBlMYSn9szanvBQuoGKSjg=', Value=178.0, GlucoseDisplayTime=datetime.datetime(2022, 2, 25, 15, 19), GlucoseDisplayDate=datetime.date(2022, 2, 25)),\n",
       " Row(PatientId='UNrE+DKLY8WEQsGhgJWIhSBlMYSn9szanvBQuoGKSjg=', Value=179.0, GlucoseDisplayTime=datetime.datetime(2022, 2, 25, 15, 24), GlucoseDisplayDate=datetime.date(2022, 2, 25)),\n",
       " Row(PatientId='UNrE+DKLY8WEQsGhgJWIhSBlMYSn9szanvBQuoGKSjg=', Value=175.35736083984375, GlucoseDisplayTime=datetime.datetime(2022, 2, 25, 15, 29), GlucoseDisplayDate=None),\n",
       " Row(PatientId='UNrE+DKLY8WEQsGhgJWIhSBlMYSn9szanvBQuoGKSjg=', Value=175.35736083984375, GlucoseDisplayTime=datetime.datetime(2022, 2, 25, 15, 34), GlucoseDisplayDate=None),\n",
       " Row(PatientId='UNrE+DKLY8WEQsGhgJWIhSBlMYSn9szanvBQuoGKSjg=', Value=175.35736083984375, GlucoseDisplayTime=datetime.datetime(2022, 2, 25, 15, 39), GlucoseDisplayDate=None),\n",
       " Row(PatientId='UNrE+DKLY8WEQsGhgJWIhSBlMYSn9szanvBQuoGKSjg=', Value=175.35736083984375, GlucoseDisplayTime=datetime.datetime(2022, 2, 25, 15, 44), GlucoseDisplayDate=None),\n",
       " Row(PatientId='UNrE+DKLY8WEQsGhgJWIhSBlMYSn9szanvBQuoGKSjg=', Value=175.35736083984375, GlucoseDisplayTime=datetime.datetime(2022, 2, 25, 15, 49), GlucoseDisplayDate=None),\n",
       " Row(PatientId='UNrE+DKLY8WEQsGhgJWIhSBlMYSn9szanvBQuoGKSjg=', Value=175.35736083984375, GlucoseDisplayTime=datetime.datetime(2022, 2, 25, 15, 54), GlucoseDisplayDate=None),\n",
       " Row(PatientId='UNrE+DKLY8WEQsGhgJWIhSBlMYSn9szanvBQuoGKSjg=', Value=175.35736083984375, GlucoseDisplayTime=datetime.datetime(2022, 2, 25, 15, 59), GlucoseDisplayDate=None),\n",
       " Row(PatientId='UNrE+DKLY8WEQsGhgJWIhSBlMYSn9szanvBQuoGKSjg=', Value=175.35736083984375, GlucoseDisplayTime=datetime.datetime(2022, 2, 25, 16, 4), GlucoseDisplayDate=None),\n",
       " Row(PatientId='UNrE+DKLY8WEQsGhgJWIhSBlMYSn9szanvBQuoGKSjg=', Value=175.35736083984375, GlucoseDisplayTime=datetime.datetime(2022, 2, 25, 16, 9), GlucoseDisplayDate=None),\n",
       " Row(PatientId='UNrE+DKLY8WEQsGhgJWIhSBlMYSn9szanvBQuoGKSjg=', Value=175.35736083984375, GlucoseDisplayTime=datetime.datetime(2022, 2, 25, 16, 14), GlucoseDisplayDate=None),\n",
       " Row(PatientId='UNrE+DKLY8WEQsGhgJWIhSBlMYSn9szanvBQuoGKSjg=', Value=175.35736083984375, GlucoseDisplayTime=datetime.datetime(2022, 2, 25, 16, 19), GlucoseDisplayDate=None),\n",
       " Row(PatientId='UNrE+DKLY8WEQsGhgJWIhSBlMYSn9szanvBQuoGKSjg=', Value=175.35736083984375, GlucoseDisplayTime=datetime.datetime(2022, 2, 25, 16, 24), GlucoseDisplayDate=None),\n",
       " Row(PatientId='UNrE+DKLY8WEQsGhgJWIhSBlMYSn9szanvBQuoGKSjg=', Value=175.35736083984375, GlucoseDisplayTime=datetime.datetime(2022, 2, 25, 16, 29), GlucoseDisplayDate=None),\n",
       " Row(PatientId='UNrE+DKLY8WEQsGhgJWIhSBlMYSn9szanvBQuoGKSjg=', Value=175.35736083984375, GlucoseDisplayTime=datetime.datetime(2022, 2, 25, 16, 34), GlucoseDisplayDate=None),\n",
       " Row(PatientId='UNrE+DKLY8WEQsGhgJWIhSBlMYSn9szanvBQuoGKSjg=', Value=175.35736083984375, GlucoseDisplayTime=datetime.datetime(2022, 2, 25, 16, 39), GlucoseDisplayDate=None),\n",
       " Row(PatientId='UNrE+DKLY8WEQsGhgJWIhSBlMYSn9szanvBQuoGKSjg=', Value=175.35736083984375, GlucoseDisplayTime=datetime.datetime(2022, 2, 25, 16, 44), GlucoseDisplayDate=None),\n",
       " Row(PatientId='UNrE+DKLY8WEQsGhgJWIhSBlMYSn9szanvBQuoGKSjg=', Value=175.35736083984375, GlucoseDisplayTime=datetime.datetime(2022, 2, 25, 16, 49), GlucoseDisplayDate=None),\n",
       " Row(PatientId='UNrE+DKLY8WEQsGhgJWIhSBlMYSn9szanvBQuoGKSjg=', Value=175.35736083984375, GlucoseDisplayTime=datetime.datetime(2022, 2, 25, 16, 54), GlucoseDisplayDate=None),\n",
       " Row(PatientId='UNrE+DKLY8WEQsGhgJWIhSBlMYSn9szanvBQuoGKSjg=', Value=175.35736083984375, GlucoseDisplayTime=datetime.datetime(2022, 2, 25, 16, 59), GlucoseDisplayDate=None),\n",
       " Row(PatientId='UNrE+DKLY8WEQsGhgJWIhSBlMYSn9szanvBQuoGKSjg=', Value=175.35736083984375, GlucoseDisplayTime=datetime.datetime(2022, 2, 25, 17, 4), GlucoseDisplayDate=None),\n",
       " Row(PatientId='UNrE+DKLY8WEQsGhgJWIhSBlMYSn9szanvBQuoGKSjg=', Value=175.35736083984375, GlucoseDisplayTime=datetime.datetime(2022, 2, 25, 17, 9), GlucoseDisplayDate=None),\n",
       " Row(PatientId='UNrE+DKLY8WEQsGhgJWIhSBlMYSn9szanvBQuoGKSjg=', Value=175.35736083984375, GlucoseDisplayTime=datetime.datetime(2022, 2, 25, 17, 14), GlucoseDisplayDate=None),\n",
       " Row(PatientId='UNrE+DKLY8WEQsGhgJWIhSBlMYSn9szanvBQuoGKSjg=', Value=175.35736083984375, GlucoseDisplayTime=datetime.datetime(2022, 2, 25, 17, 19), GlucoseDisplayDate=None),\n",
       " Row(PatientId='UNrE+DKLY8WEQsGhgJWIhSBlMYSn9szanvBQuoGKSjg=', Value=175.35736083984375, GlucoseDisplayTime=datetime.datetime(2022, 2, 25, 17, 24), GlucoseDisplayDate=None),\n",
       " Row(PatientId='UNrE+DKLY8WEQsGhgJWIhSBlMYSn9szanvBQuoGKSjg=', Value=175.35736083984375, GlucoseDisplayTime=datetime.datetime(2022, 2, 25, 17, 29), GlucoseDisplayDate=None),\n",
       " Row(PatientId='UNrE+DKLY8WEQsGhgJWIhSBlMYSn9szanvBQuoGKSjg=', Value=175.35736083984375, GlucoseDisplayTime=datetime.datetime(2022, 2, 25, 17, 34), GlucoseDisplayDate=None),\n",
       " Row(PatientId='UNrE+DKLY8WEQsGhgJWIhSBlMYSn9szanvBQuoGKSjg=', Value=175.35736083984375, GlucoseDisplayTime=datetime.datetime(2022, 2, 25, 17, 39), GlucoseDisplayDate=None),\n",
       " Row(PatientId='UNrE+DKLY8WEQsGhgJWIhSBlMYSn9szanvBQuoGKSjg=', Value=175.35736083984375, GlucoseDisplayTime=datetime.datetime(2022, 2, 25, 17, 44), GlucoseDisplayDate=None),\n",
       " Row(PatientId='UNrE+DKLY8WEQsGhgJWIhSBlMYSn9szanvBQuoGKSjg=', Value=175.35736083984375, GlucoseDisplayTime=datetime.datetime(2022, 2, 25, 17, 49), GlucoseDisplayDate=None),\n",
       " Row(PatientId='UNrE+DKLY8WEQsGhgJWIhSBlMYSn9szanvBQuoGKSjg=', Value=175.35736083984375, GlucoseDisplayTime=datetime.datetime(2022, 2, 25, 17, 54), GlucoseDisplayDate=None),\n",
       " Row(PatientId='UNrE+DKLY8WEQsGhgJWIhSBlMYSn9szanvBQuoGKSjg=', Value=175.35736083984375, GlucoseDisplayTime=datetime.datetime(2022, 2, 25, 17, 59), GlucoseDisplayDate=None),\n",
       " Row(PatientId='UNrE+DKLY8WEQsGhgJWIhSBlMYSn9szanvBQuoGKSjg=', Value=175.35736083984375, GlucoseDisplayTime=datetime.datetime(2022, 2, 25, 18, 4), GlucoseDisplayDate=None),\n",
       " Row(PatientId='UNrE+DKLY8WEQsGhgJWIhSBlMYSn9szanvBQuoGKSjg=', Value=175.35736083984375, GlucoseDisplayTime=datetime.datetime(2022, 2, 25, 18, 9), GlucoseDisplayDate=None),\n",
       " Row(PatientId='UNrE+DKLY8WEQsGhgJWIhSBlMYSn9szanvBQuoGKSjg=', Value=175.35736083984375, GlucoseDisplayTime=datetime.datetime(2022, 2, 25, 18, 14), GlucoseDisplayDate=None)]"
      ]
     },
     "execution_count": 61,
     "metadata": {},
     "output_type": "execute_result"
    }
   ],
   "source": [
    "'''fill in the values'''\n",
    "\n",
    "# filler = subset.agg({'Value': 'median'}).collect()[0][0]\n",
    "filler = subset.agg({'Value': 'avg'}).collect()[0][0]\n",
    "\n",
    "filled_df = merged.fillna(filler, subset='Value')\n",
    "\n",
    "print(\"row count: \", filled_df.count())\n",
    "filled_df.head(60)"
   ]
  },
  {
   "cell_type": "code",
   "execution_count": null,
   "id": "1fad0c8d-5dfe-435d-9def-8a51b01704f8",
   "metadata": {},
   "outputs": [],
   "source": []
  }
 ],
 "metadata": {
  "kernelspec": {
   "display_name": "glucose-venv",
   "language": "python",
   "name": "glucose-venv"
  },
  "language_info": {
   "codemirror_mode": {
    "name": "ipython",
    "version": 3
   },
   "file_extension": ".py",
   "mimetype": "text/x-python",
   "name": "python",
   "nbconvert_exporter": "python",
   "pygments_lexer": "ipython3",
   "version": "3.10.10"
  }
 },
 "nbformat": 4,
 "nbformat_minor": 5
}
