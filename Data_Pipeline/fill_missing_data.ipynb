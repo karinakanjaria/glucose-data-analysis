{
 "cells": [
  {
   "cell_type": "code",
   "execution_count": 15,
   "id": "94a54bc8-7727-4bef-8e2a-1bd918926dca",
   "metadata": {
    "tags": []
   },
   "outputs": [],
   "source": [
    "import numpy as np\n",
    "import pandas as pd\n",
    "import pyspark\n",
    "from pyspark.sql import SparkSession, Window\n",
    "from pyspark.sql.functions import when, col, rank, monotonically_increasing_id\n",
    "\n",
    "# spark.stop()"
   ]
  },
  {
   "cell_type": "code",
   "execution_count": 2,
   "id": "a5c73201-1eb1-49ae-9c47-ebc62789ba6b",
   "metadata": {
    "tags": []
   },
   "outputs": [
    {
     "name": "stderr",
     "output_type": "stream",
     "text": [
      "Setting default log level to \"WARN\".\n",
      "To adjust logging level use sc.setLogLevel(newLevel). For SparkR, use setLogLevel(newLevel).\n"
     ]
    },
    {
     "name": "stdout",
     "output_type": "stream",
     "text": [
      "23/05/02 23:08:28 WARN NativeCodeLoader: Unable to load native-hadoop library for your platform... using builtin-java classes where applicable\n"
     ]
    },
    {
     "data": {
      "text/plain": [
       "'3.3.1'"
      ]
     },
     "execution_count": 2,
     "metadata": {},
     "output_type": "execute_result"
    }
   ],
   "source": [
    "conf = pyspark.SparkConf().setAll([\n",
    "    ('spark.master', 'local[1]'),\n",
    "    ('spark.app.name', 'App Name')])\n",
    "spark = SparkSession.builder.config(conf=conf).getOrCreate()\n",
    "\n",
    "spark.version"
   ]
  },
  {
   "cell_type": "markdown",
   "id": "27fbcd4d-316a-4382-98b3-6e8cd6a0bd6b",
   "metadata": {
    "tags": []
   },
   "source": [
    "# Load in"
   ]
  },
  {
   "cell_type": "code",
   "execution_count": 35,
   "id": "028f02d3-6f73-4d58-848c-fa0fcbff86dc",
   "metadata": {
    "tags": []
   },
   "outputs": [],
   "source": [
    "'''set schema'''\n",
    "# from pyspark.sql.types import StructType, StructField, StringType, IntegerType, FloatType, TimestampType\n",
    "# dfSchema = StructType([       \n",
    "#     StructField('PatientId', StringType(),True),\n",
    "#     StructField('GlucoseDisplayTime', TimestampType(),True),\n",
    "#     StructField('Value', FloatType(),True)\n",
    "# ])\n",
    "\n",
    "'''read in the file'''\n",
    "# df = spark.read\\\n",
    "#     .option(\"mode\", \"DROPMALFORMED\") \\\n",
    "#     .option(\"delimiter\",\",\") \\\n",
    "#     .schema(dfSchema) \\\n",
    "#     .parquet('../../../../cephfs/stepped_glucose_data/step0_load/parquet_0_to_10/part-00000-02ebf86b-8495-41ff-acd3-ee636d696015-c000.snappy.parquet')\n",
    "df = spark.read\\\n",
    "    .parquet('../../../../cephfs/stepped_glucose_data/step0_load/parquet_0_to_10/part-00000-02ebf86b-8495-41ff-acd3-ee636d696015-c000.snappy.parquet')"
   ]
  },
  {
   "cell_type": "code",
   "execution_count": 36,
   "id": "f6382de6-10bd-4c44-9c0b-ab99d60d30e2",
   "metadata": {
    "tags": []
   },
   "outputs": [
    {
     "name": "stdout",
     "output_type": "stream",
     "text": [
      "row count:  16944786\n",
      "root\n",
      " |-- PatientId: string (nullable = true)\n",
      " |-- Value: float (nullable = true)\n",
      " |-- GlucoseDisplayTime: timestamp (nullable = true)\n",
      " |-- GlucoseDisplayTimeRaw: string (nullable = true)\n",
      " |-- GlucoseDisplayDate: date (nullable = true)\n",
      "\n",
      "+--------------------+-----+--------------------+---------------------+------------------+\n",
      "|           PatientId|Value|  GlucoseDisplayTime|GlucoseDisplayTimeRaw|GlucoseDisplayDate|\n",
      "+--------------------+-----+--------------------+---------------------+------------------+\n",
      "|1Jxgxke6R3Uh2c9aR...|  0.0|2022-02-01 14:45:...| 2022-02-01T14:45:...|        2022-02-01|\n",
      "|toBStbTTYI2GU28Yd...|  0.0|2022-02-01 17:46:...| 2022-02-01T17:46:...|        2022-02-01|\n",
      "|+XAhHhm+BkhqusxsZ...|  0.0|2022-02-01 14:58:...| 2022-02-01T14:58:...|        2022-02-01|\n",
      "|+XAhHhm+BkhqusxsZ...|  0.0|2022-01-31 22:53:...| 2022-01-31T22:53:...|        2022-01-31|\n",
      "|+XAhHhm+BkhqusxsZ...|  0.0|2022-01-31 22:38:...| 2022-01-31T22:38:...|        2022-01-31|\n",
      "|+XAhHhm+BkhqusxsZ...|  0.0|2022-02-01 05:03:...| 2022-02-01T05:03:...|        2022-02-01|\n",
      "|+XAhHhm+BkhqusxsZ...|  0.0|2022-02-01 09:33:...| 2022-02-01T09:33:...|        2022-02-01|\n",
      "|+XAhHhm+BkhqusxsZ...|  0.0|2022-02-01 16:38:...| 2022-02-01T16:38:...|        2022-02-01|\n",
      "|+XAhHhm+BkhqusxsZ...|  0.0|2022-01-31 20:58:...| 2022-01-31T20:58:...|        2022-01-31|\n",
      "|+XAhHhm+BkhqusxsZ...|  0.0|2022-01-31 23:29:...| 2022-01-31T23:29:...|        2022-01-31|\n",
      "|+XAhHhm+BkhqusxsZ...|  0.0|2022-02-01 03:48:...| 2022-02-01T03:48:...|        2022-02-01|\n",
      "|+XAhHhm+BkhqusxsZ...|  0.0|2022-02-01 11:28:...| 2022-02-01T11:28:...|        2022-02-01|\n",
      "|+XAhHhm+BkhqusxsZ...|  0.0|2022-01-31 20:08:...| 2022-01-31T20:08:...|        2022-01-31|\n",
      "|+XAhHhm+BkhqusxsZ...|  0.0|2022-02-01 10:43:...| 2022-02-01T10:43:...|        2022-02-01|\n",
      "|+XAhHhm+BkhqusxsZ...|  0.0|2022-02-01 06:43:...| 2022-02-01T06:43:...|        2022-02-01|\n",
      "|+XAhHhm+BkhqusxsZ...|  0.0|2022-02-01 02:13:...| 2022-02-01T02:13:...|        2022-02-01|\n",
      "|+XAhHhm+BkhqusxsZ...|  0.0|2022-01-31 23:08:...| 2022-01-31T23:08:...|        2022-01-31|\n",
      "|+XAhHhm+BkhqusxsZ...|  0.0|2022-01-31 19:48:...| 2022-01-31T19:48:...|        2022-01-31|\n",
      "|+XAhHhm+BkhqusxsZ...|  0.0|2022-02-01 04:28:...| 2022-02-01T04:28:...|        2022-02-01|\n",
      "|+XAhHhm+BkhqusxsZ...|  0.0|2022-02-01 07:53:...| 2022-02-01T07:53:...|        2022-02-01|\n",
      "+--------------------+-----+--------------------+---------------------+------------------+\n",
      "only showing top 20 rows\n",
      "\n"
     ]
    }
   ],
   "source": [
    "print(\"row count: \", df.count())\n",
    "df.printSchema()\n",
    "# df.head(5)\n",
    "df.select(\"*\").show(20)"
   ]
  },
  {
   "cell_type": "code",
   "execution_count": 30,
   "id": "fd7d8b74-bd2a-4857-9140-519398ed4678",
   "metadata": {
    "tags": []
   },
   "outputs": [],
   "source": [
    "spark.stop()"
   ]
  },
  {
   "cell_type": "markdown",
   "id": "6067c6bf-3af1-48ef-a781-996abfe1ebbe",
   "metadata": {},
   "source": [
    "# Prelim cleanup before filling"
   ]
  },
  {
   "cell_type": "code",
   "execution_count": null,
   "id": "71824a14-dc3d-4c97-91c5-fffbf0fb6182",
   "metadata": {},
   "outputs": [],
   "source": []
  },
  {
   "cell_type": "code",
   "execution_count": 37,
   "id": "5ae1109b-abd3-48cb-8c17-0b8947f76930",
   "metadata": {},
   "outputs": [
    {
     "name": "stdout",
     "output_type": "stream",
     "text": [
      "row count:  16467766\n",
      "+--------------------+-----+--------------------+---------------------+------------------+\n",
      "|           PatientId|Value|  GlucoseDisplayTime|GlucoseDisplayTimeRaw|GlucoseDisplayDate|\n",
      "+--------------------+-----+--------------------+---------------------+------------------+\n",
      "|1Jxgxke6R3Uh2c9aR...|  0.0|2022-02-01 14:45:...| 2022-02-01T14:45:...|        2022-02-01|\n",
      "|toBStbTTYI2GU28Yd...|  0.0|2022-02-01 17:46:...| 2022-02-01T17:46:...|        2022-02-01|\n",
      "|+XAhHhm+BkhqusxsZ...|  0.0|2022-02-01 14:58:...| 2022-02-01T14:58:...|        2022-02-01|\n",
      "|+XAhHhm+BkhqusxsZ...|  0.0|2022-02-01 05:03:...| 2022-02-01T05:03:...|        2022-02-01|\n",
      "|+XAhHhm+BkhqusxsZ...|  0.0|2022-02-01 09:33:...| 2022-02-01T09:33:...|        2022-02-01|\n",
      "|+XAhHhm+BkhqusxsZ...|  0.0|2022-02-01 16:38:...| 2022-02-01T16:38:...|        2022-02-01|\n",
      "|+XAhHhm+BkhqusxsZ...|  0.0|2022-02-01 03:48:...| 2022-02-01T03:48:...|        2022-02-01|\n",
      "|+XAhHhm+BkhqusxsZ...|  0.0|2022-02-01 11:28:...| 2022-02-01T11:28:...|        2022-02-01|\n",
      "|+XAhHhm+BkhqusxsZ...|  0.0|2022-02-01 10:43:...| 2022-02-01T10:43:...|        2022-02-01|\n",
      "|+XAhHhm+BkhqusxsZ...|  0.0|2022-02-01 06:43:...| 2022-02-01T06:43:...|        2022-02-01|\n",
      "|+XAhHhm+BkhqusxsZ...|  0.0|2022-02-01 02:13:...| 2022-02-01T02:13:...|        2022-02-01|\n",
      "|+XAhHhm+BkhqusxsZ...|  0.0|2022-02-01 04:28:...| 2022-02-01T04:28:...|        2022-02-01|\n",
      "|+XAhHhm+BkhqusxsZ...|  0.0|2022-02-01 07:53:...| 2022-02-01T07:53:...|        2022-02-01|\n",
      "|+XAhHhm+BkhqusxsZ...|  0.0|2022-02-01 13:03:...| 2022-02-01T13:03:...|        2022-02-01|\n",
      "|+XAhHhm+BkhqusxsZ...|  0.0|2022-02-01 12:18:...| 2022-02-01T12:18:...|        2022-02-01|\n",
      "|+XAhHhm+BkhqusxsZ...|  0.0|2022-02-01 09:18:...| 2022-02-01T09:18:...|        2022-02-01|\n",
      "|+XAhHhm+BkhqusxsZ...|  0.0|2022-02-01 06:23:...| 2022-02-01T06:23:...|        2022-02-01|\n",
      "|+XAhHhm+BkhqusxsZ...|  0.0|2022-02-01 09:08:...| 2022-02-01T09:08:...|        2022-02-01|\n",
      "|+XAhHhm+BkhqusxsZ...|  0.0|2022-02-01 03:28:...| 2022-02-01T03:28:...|        2022-02-01|\n",
      "|+XAhHhm+BkhqusxsZ...|  0.0|2022-02-01 06:38:...| 2022-02-01T06:38:...|        2022-02-01|\n",
      "+--------------------+-----+--------------------+---------------------+------------------+\n",
      "only showing top 20 rows\n",
      "\n"
     ]
    }
   ],
   "source": [
    "'''temp getting rid of any dates from before the actual start-date'''\n",
    "df = df.filter(\"GlucoseDisplayDate > date'2022-01-31'\")\n",
    "\n",
    "print(\"row count: \", df.count())\n",
    "df.show()"
   ]
  },
  {
   "cell_type": "code",
   "execution_count": 28,
   "id": "590dec26-24d8-47ef-9759-136a6523dc6c",
   "metadata": {
    "tags": []
   },
   "outputs": [
    {
     "data": {
      "text/plain": [
       "477020"
      ]
     },
     "execution_count": 28,
     "metadata": {},
     "output_type": "execute_result"
    }
   ],
   "source": [
    "16944786-16467766"
   ]
  },
  {
   "cell_type": "markdown",
   "id": "d3c24385-8c50-4ae3-a74f-fd3c5e501b9d",
   "metadata": {},
   "source": [
    "### replace 0s with NaN \n",
    "(to save a two steps down the line)"
   ]
  },
  {
   "cell_type": "code",
   "execution_count": 38,
   "id": "5db2eccc-e622-42f2-83f0-1f59ee296a0b",
   "metadata": {},
   "outputs": [
    {
     "name": "stdout",
     "output_type": "stream",
     "text": [
      "+--------------------+-----+--------------------+---------------------+------------------+\n",
      "|           PatientId|Value|  GlucoseDisplayTime|GlucoseDisplayTimeRaw|GlucoseDisplayDate|\n",
      "+--------------------+-----+--------------------+---------------------+------------------+\n",
      "|1Jxgxke6R3Uh2c9aR...| null|2022-02-01 14:45:...| 2022-02-01T14:45:...|        2022-02-01|\n",
      "|toBStbTTYI2GU28Yd...| null|2022-02-01 17:46:...| 2022-02-01T17:46:...|        2022-02-01|\n",
      "|+XAhHhm+BkhqusxsZ...| null|2022-02-01 14:58:...| 2022-02-01T14:58:...|        2022-02-01|\n",
      "|+XAhHhm+BkhqusxsZ...| null|2022-02-01 05:03:...| 2022-02-01T05:03:...|        2022-02-01|\n",
      "|+XAhHhm+BkhqusxsZ...| null|2022-02-01 09:33:...| 2022-02-01T09:33:...|        2022-02-01|\n",
      "|+XAhHhm+BkhqusxsZ...| null|2022-02-01 16:38:...| 2022-02-01T16:38:...|        2022-02-01|\n",
      "|+XAhHhm+BkhqusxsZ...| null|2022-02-01 03:48:...| 2022-02-01T03:48:...|        2022-02-01|\n",
      "|+XAhHhm+BkhqusxsZ...| null|2022-02-01 11:28:...| 2022-02-01T11:28:...|        2022-02-01|\n",
      "|+XAhHhm+BkhqusxsZ...| null|2022-02-01 10:43:...| 2022-02-01T10:43:...|        2022-02-01|\n",
      "|+XAhHhm+BkhqusxsZ...| null|2022-02-01 06:43:...| 2022-02-01T06:43:...|        2022-02-01|\n",
      "|+XAhHhm+BkhqusxsZ...| null|2022-02-01 02:13:...| 2022-02-01T02:13:...|        2022-02-01|\n",
      "|+XAhHhm+BkhqusxsZ...| null|2022-02-01 04:28:...| 2022-02-01T04:28:...|        2022-02-01|\n",
      "|+XAhHhm+BkhqusxsZ...| null|2022-02-01 07:53:...| 2022-02-01T07:53:...|        2022-02-01|\n",
      "|+XAhHhm+BkhqusxsZ...| null|2022-02-01 13:03:...| 2022-02-01T13:03:...|        2022-02-01|\n",
      "|+XAhHhm+BkhqusxsZ...| null|2022-02-01 12:18:...| 2022-02-01T12:18:...|        2022-02-01|\n",
      "|+XAhHhm+BkhqusxsZ...| null|2022-02-01 09:18:...| 2022-02-01T09:18:...|        2022-02-01|\n",
      "|+XAhHhm+BkhqusxsZ...| null|2022-02-01 06:23:...| 2022-02-01T06:23:...|        2022-02-01|\n",
      "|+XAhHhm+BkhqusxsZ...| null|2022-02-01 09:08:...| 2022-02-01T09:08:...|        2022-02-01|\n",
      "|+XAhHhm+BkhqusxsZ...| null|2022-02-01 03:28:...| 2022-02-01T03:28:...|        2022-02-01|\n",
      "|+XAhHhm+BkhqusxsZ...| null|2022-02-01 06:38:...| 2022-02-01T06:38:...|        2022-02-01|\n",
      "+--------------------+-----+--------------------+---------------------+------------------+\n",
      "only showing top 20 rows\n",
      "\n"
     ]
    }
   ],
   "source": [
    "df = df.withColumn(\"Value\", \\\n",
    "           when(col(\"Value\")==\"0\", None) \\\n",
    "              .otherwise(col(\"Value\")))\n",
    "df.show()"
   ]
  },
  {
   "cell_type": "markdown",
   "id": "6e87aaf1-b3ec-48a5-b632-bcd864e40685",
   "metadata": {},
   "source": [
    "### drop duplicate datetimes for each patient"
   ]
  },
  {
   "cell_type": "code",
   "execution_count": 39,
   "id": "072d6401-cdf8-4b7a-9876-5a2c5f86166c",
   "metadata": {
    "tags": []
   },
   "outputs": [
    {
     "name": "stderr",
     "output_type": "stream",
     "text": [
      "                                                                                \r"
     ]
    },
    {
     "name": "stdout",
     "output_type": "stream",
     "text": [
      "row count:  16460868\n"
     ]
    },
    {
     "name": "stderr",
     "output_type": "stream",
     "text": [
      "[Stage 66:>                                                         (0 + 1) / 1]\r"
     ]
    },
    {
     "name": "stdout",
     "output_type": "stream",
     "text": [
      "+--------------------+-----+--------------------+---------------------+------------------+\n",
      "|           PatientId|Value|  GlucoseDisplayTime|GlucoseDisplayTimeRaw|GlucoseDisplayDate|\n",
      "+--------------------+-----+--------------------+---------------------+------------------+\n",
      "|IVmA9itXdMZqFgZmJ...| 91.0| 2022-02-01 00:00:03| 2022-02-01T00:00:...|        2022-02-01|\n",
      "|vV3Ky4OUyVFOtJnNt...|189.0| 2022-02-01 00:00:04| 2022-02-01T00:00:...|        2022-02-01|\n",
      "|mLiOlmeiiF7NUYAve...|226.0| 2022-02-01 00:00:06| 2022-02-01T00:00:...|        2022-02-01|\n",
      "|Ny7r+ZhAjaAJ/AIAB...|179.0| 2022-02-01 00:00:07| 2022-02-01T00:00:...|        2022-02-01|\n",
      "|zzsBhAlxlz7fYJJKP...|319.0| 2022-02-01 00:00:08| 2022-02-01T00:00:...|        2022-02-01|\n",
      "|jWqaanjc+jHgt89JL...|207.0| 2022-02-01 00:00:09| 2022-02-01T00:00:...|        2022-02-01|\n",
      "|3uY4Q04R2DZBNqiYU...|145.0| 2022-02-01 00:00:10| 2022-02-01T00:00:...|        2022-02-01|\n",
      "|SgNXAR/3L1cyitYpx...|130.0| 2022-02-01 00:00:10| 2022-02-01T00:00:...|        2022-02-01|\n",
      "|VH1r2/c5XXgobdnzh...|117.0| 2022-02-01 00:00:11| 2022-02-01T00:00:...|        2022-02-01|\n",
      "|sXOAQkQAC8JHtyigd...|130.0| 2022-02-01 00:00:11| 2022-02-01T00:00:...|        2022-02-01|\n",
      "|q+9ndylikANN3nzgQ...|144.0| 2022-02-01 00:00:13| 2022-02-01T00:00:...|        2022-02-01|\n",
      "|6XFapYlTjz1XbhYFV...|119.0| 2022-02-01 00:00:14| 2022-02-01T00:00:...|        2022-02-01|\n",
      "|o/neu67BcOqWPcwiC...|230.0| 2022-02-01 00:00:16| 2022-02-01T00:00:...|        2022-02-01|\n",
      "|9BL8mHBMF1sczIceo...|160.0| 2022-02-01 00:00:17| 2022-02-01T00:00:...|        2022-02-01|\n",
      "|HAmQ0gH6b0FKs3Sd4...|197.0| 2022-02-01 00:00:18| 2022-02-01T00:00:...|        2022-02-01|\n",
      "|aXnXvr3cdIUHN6Zaz...|221.0| 2022-02-01 00:00:19| 2022-02-01T00:00:...|        2022-02-01|\n",
      "|kqVQeXg8lzPWtgdEE...|267.0| 2022-02-01 00:00:19| 2022-02-01T00:00:...|        2022-02-01|\n",
      "|pSQMrtS6jV+1Qa90Q...|213.0| 2022-02-01 00:00:19| 2022-02-01T00:00:...|        2022-02-01|\n",
      "|/WpXQG0sOcqL9UIgs...| null|2022-02-01 00:00:...| 2022-02-01T00:00:...|        2022-02-01|\n",
      "|g3BwjydLYtLC6O2+w...|128.0| 2022-02-01 00:00:21| 2022-02-01T00:00:...|        2022-02-01|\n",
      "+--------------------+-----+--------------------+---------------------+------------------+\n",
      "only showing top 20 rows\n",
      "\n"
     ]
    },
    {
     "name": "stderr",
     "output_type": "stream",
     "text": [
      "                                                                                \r"
     ]
    }
   ],
   "source": [
    "from pyspark.sql import Window\n",
    "from pyspark.sql.functions import rank, col, monotonically_increasing_id\n",
    "\n",
    "window = Window.partitionBy('GlucoseDisplayTime','PatientId').orderBy('tiebreak')\n",
    "temp = (df\n",
    " .withColumn('tiebreak', monotonically_increasing_id())\n",
    " .withColumn('rank', rank().over(window))\n",
    " .filter(col('rank') == 1).drop('rank','tiebreak')\n",
    " # .show()\n",
    ")\n",
    "\n",
    "print(\"row count: \", temp.count())\n",
    "temp.show()"
   ]
  },
  {
   "cell_type": "code",
   "execution_count": 41,
   "id": "0dc06ce1-17d4-455a-bc7e-edbb0aadd83c",
   "metadata": {
    "tags": []
   },
   "outputs": [
    {
     "name": "stdout",
     "output_type": "stream",
     "text": [
      "only lost 6898 rows\n"
     ]
    }
   ],
   "source": [
    "print(\"only lost\", 16467766-16460868, \"rows\")"
   ]
  },
  {
   "cell_type": "code",
   "execution_count": null,
   "id": "e160ff4a-c98c-481b-b637-19f7df298ed1",
   "metadata": {},
   "outputs": [],
   "source": []
  }
 ],
 "metadata": {
  "kernelspec": {
   "display_name": "glucose-venv",
   "language": "python",
   "name": "glucose-venv"
  },
  "language_info": {
   "codemirror_mode": {
    "name": "ipython",
    "version": 3
   },
   "file_extension": ".py",
   "mimetype": "text/x-python",
   "name": "python",
   "nbconvert_exporter": "python",
   "pygments_lexer": "ipython3",
   "version": "3.10.10"
  }
 },
 "nbformat": 4,
 "nbformat_minor": 5
}
