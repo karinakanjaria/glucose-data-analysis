{
 "cells": [
  {
   "cell_type": "markdown",
   "metadata": {},
   "source": [
    "### Current Process\n",
    "1. Read in data --> Done\n",
    "\n",
    "2. Custom Imputation --> Done\n",
    "\n",
    "3. Add Binary Class --> Done, Should Add Binary Class Later\n",
    "\n",
    "4. Summary Statistics Features --> Done\n",
    "\n",
    "5. Wrapper Functions --> Done, Need to Test Though\n",
    "\n",
    "6. Sklearn Pipeline Categorical Features --> One Hot Encoding Done\n",
    "\n",
    "7. Sklearn Pipeline Numerical Features --> StandardScaler Done\n",
    "\n",
    "8. Create Lagged Features --> Done\n",
    "\n",
    "9. Modeling --> Currently XgBoost, (Maybe Try: TensorFlow Decision Tree, TensorFlow Probability Model)\n",
    "\n",
    "10. Model Evaluation --> Accuracy, Precision, Recall, F1, Confusion Matrix (Need to add Variable Importance Based on Variance)\n",
    "\n",
    "11. PySpark: XGBoost Classification Feature Importance"
   ]
  },
  {
   "cell_type": "code",
   "execution_count": 1,
   "metadata": {
    "tags": []
   },
   "outputs": [
    {
     "name": "stdout",
     "output_type": "stream",
     "text": [
      "Requirement already satisfied: pyarrow in /opt/conda/lib/python3.10/site-packages (11.0.0)\n",
      "Requirement already satisfied: numpy>=1.16.6 in /opt/conda/lib/python3.10/site-packages (from pyarrow) (1.24.2)\n",
      "Requirement already satisfied: pandas in /opt/conda/lib/python3.10/site-packages (2.0.0)\n",
      "Requirement already satisfied: tzdata>=2022.1 in /opt/conda/lib/python3.10/site-packages (from pandas) (2023.3)\n",
      "Requirement already satisfied: numpy>=1.21.0 in /opt/conda/lib/python3.10/site-packages (from pandas) (1.24.2)\n",
      "Requirement already satisfied: python-dateutil>=2.8.2 in /opt/conda/lib/python3.10/site-packages (from pandas) (2.8.2)\n",
      "Requirement already satisfied: pytz>=2020.1 in /opt/conda/lib/python3.10/site-packages (from pandas) (2023.3)\n",
      "Requirement already satisfied: six>=1.5 in /opt/conda/lib/python3.10/site-packages (from python-dateutil>=2.8.2->pandas) (1.16.0)\n",
      "Requirement already satisfied: scikit-learn in /opt/conda/lib/python3.10/site-packages (1.2.2)\n",
      "Requirement already satisfied: joblib>=1.1.1 in /opt/conda/lib/python3.10/site-packages (from scikit-learn) (1.2.0)\n",
      "Requirement already satisfied: numpy>=1.17.3 in /opt/conda/lib/python3.10/site-packages (from scikit-learn) (1.24.2)\n",
      "Requirement already satisfied: scipy>=1.3.2 in /opt/conda/lib/python3.10/site-packages (from scikit-learn) (1.10.1)\n",
      "Requirement already satisfied: threadpoolctl>=2.0.0 in /opt/conda/lib/python3.10/site-packages (from scikit-learn) (3.1.0)\n",
      "Requirement already satisfied: pyspark in /opt/conda/lib/python3.10/site-packages (3.4.0)\n",
      "Requirement already satisfied: py4j==0.10.9.7 in /opt/conda/lib/python3.10/site-packages (from pyspark) (0.10.9.7)\n",
      "Requirement already satisfied: xgboost in /opt/conda/lib/python3.10/site-packages (1.7.5)\n",
      "Requirement already satisfied: scipy in /opt/conda/lib/python3.10/site-packages (from xgboost) (1.10.1)\n",
      "Requirement already satisfied: numpy in /opt/conda/lib/python3.10/site-packages (from xgboost) (1.24.2)\n"
     ]
    }
   ],
   "source": [
    "# # Need to Run These in Notebook Version For Pandas UDF\n",
    "! pip install pyarrow\n",
    "! pip install pandas\n",
    "! pip install scikit-learn\n",
    "! pip install pyspark\n",
    "! pip install xgboost"
   ]
  },
  {
   "cell_type": "code",
   "execution_count": 2,
   "metadata": {
    "tags": []
   },
   "outputs": [],
   "source": [
    "from Input_Variables.read_vars import raw_data_storage, \\\n",
    "                                      analysis_group, \\\n",
    "                                      daily_stats_features_lower, daily_stats_features_upper, \\\n",
    "                                      ml_models_train_split, ml_models_test_split, model_storage_location, \\\n",
    "                                      time_series_lag_values_created\n",
    "\n",
    "from Data_Schema.schema import Pandas_UDF_Data_Schema\n",
    "from Read_In_Data.read_data import Reading_Data\n",
    "from Data_Pipeline.sklearn_pipeline import Sklearn_Pipeline\n",
    "from Feature_Generation.create_binary_labels import Create_Binary_Labels\n",
    "from Feature_Generation.summary_stats import Summary_Stats_Features\n",
    "from Feature_Generation.lag_features import Create_Lagged_Features\n",
    "from Model_Evaluation.classification_evaluation import Classification_Evalaution_Metrics\n",
    "from Model_Plots.xgboost_classification_plots import XGBoost_Classification_Plot\n",
    "\n",
    "from Data_Pipeline.encoding_scaling_pipeline import Feature_Transformations\n",
    "\n",
    "from Model_Creation.pyspark_xgboost import Create_PySpark_XGBoost"
   ]
  },
  {
   "cell_type": "markdown",
   "metadata": {},
   "source": [
    "# General Modules"
   ]
  },
  {
   "cell_type": "code",
   "execution_count": 3,
   "metadata": {
    "tags": []
   },
   "outputs": [],
   "source": [
    "# PySpark UDF Schema Activation\n",
    "pandas_udf_data_schema=Pandas_UDF_Data_Schema()\n",
    "\n",
    "# Data Location\n",
    "reading_data=Reading_Data(data_location=raw_data_storage)\n",
    "\n",
    "# Create Binary y Variables\n",
    "create_binary_labels=Create_Binary_Labels()\n",
    "\n",
    "# Sklearn Pipeline\n",
    "pandas_sklearn_pipeline=Sklearn_Pipeline()\n",
    "\n",
    "# Features Daily Stats Module\n",
    "summary_stats_features=Summary_Stats_Features()\n",
    "\n",
    "# Features Lagged Value\n",
    "create_lag_features=Create_Lagged_Features()\n",
    "\n",
    "# PySpark XGBoost Model Module\n",
    "create_pyspark_xgboost=Create_PySpark_XGBoost()\n",
    "\n",
    "# Classification Evaluation\n",
    "classification_evalaution_metrics=Classification_Evalaution_Metrics()\n",
    "\n",
    "# Model Plots Feature Importance\n",
    "xgboost_classification_plot=XGBoost_Classification_Plot()\n",
    "\n",
    "# Feature Transformations\n",
    "feature_transformations=Feature_Transformations()"
   ]
  },
  {
   "cell_type": "markdown",
   "metadata": {},
   "source": [
    "# PySpark"
   ]
  },
  {
   "cell_type": "markdown",
   "metadata": {},
   "source": [
    "### 1. PySpark: Reading In Data"
   ]
  },
  {
   "cell_type": "code",
   "execution_count": 4,
   "metadata": {
    "tags": []
   },
   "outputs": [
    {
     "name": "stderr",
     "output_type": "stream",
     "text": [
      "Setting default log level to \"WARN\".\n",
      "To adjust logging level use sc.setLogLevel(newLevel). For SparkR, use setLogLevel(newLevel).\n"
     ]
    },
    {
     "name": "stdout",
     "output_type": "stream",
     "text": [
      "23/04/20 18:04:13 WARN NativeCodeLoader: Unable to load native-hadoop library for your platform... using builtin-java classes where applicable\n"
     ]
    }
   ],
   "source": [
    "####### PySpark\n",
    "pyspark_df=reading_data.read_in_pyspark()"
   ]
  },
  {
   "cell_type": "code",
   "execution_count": 5,
   "metadata": {
    "tags": []
   },
   "outputs": [
    {
     "name": "stdout",
     "output_type": "stream",
     "text": [
      "(5734, 5)\n"
     ]
    }
   ],
   "source": [
    "print((pyspark_df.count(), len(pyspark_df.columns)))"
   ]
  },
  {
   "cell_type": "code",
   "execution_count": 6,
   "metadata": {
    "tags": []
   },
   "outputs": [],
   "source": [
    "from pyspark.ml.functions import vector_to_array"
   ]
  },
  {
   "cell_type": "code",
   "execution_count": 7,
   "metadata": {
    "tags": []
   },
   "outputs": [],
   "source": [
    "from pyspark.sql.functions import date_trunc, col, udf\n",
    "pyspark_df=pyspark_df.withColumn(\"GlucoseDisplayTime\", date_trunc(\"minute\", col(\"GlucoseDisplayTime\")))"
   ]
  },
  {
   "cell_type": "code",
   "execution_count": 8,
   "metadata": {
    "tags": []
   },
   "outputs": [],
   "source": [
    "pyspark_df=pyspark_df.distinct()"
   ]
  },
  {
   "cell_type": "code",
   "execution_count": 9,
   "metadata": {
    "tags": []
   },
   "outputs": [
    {
     "name": "stdout",
     "output_type": "stream",
     "text": [
      "(5734, 5)\n"
     ]
    }
   ],
   "source": [
    "print((pyspark_df.count(), len(pyspark_df.columns)))"
   ]
  },
  {
   "cell_type": "code",
   "execution_count": 10,
   "metadata": {
    "tags": []
   },
   "outputs": [
    {
     "name": "stdout",
     "output_type": "stream",
     "text": [
      "+--------------------+-----+-------------------+---------------------+------------------+\n",
      "|           PatientId|Value| GlucoseDisplayTime|GlucoseDisplayTimeRaw|GlucoseDisplayDate|\n",
      "+--------------------+-----+-------------------+---------------------+------------------+\n",
      "|vH4j/sVPDk4luo9wf...|157.0|2022-12-28 02:52:00| 2022-12-28T02:52:...|        2022-12-28|\n",
      "+--------------------+-----+-------------------+---------------------+------------------+\n",
      "only showing top 1 row\n",
      "\n"
     ]
    }
   ],
   "source": [
    "pyspark_df.show(1)"
   ]
  },
  {
   "cell_type": "markdown",
   "metadata": {},
   "source": [
    "### 2. PySpark: Custom Imputation Pipeline"
   ]
  },
  {
   "cell_type": "code",
   "execution_count": 11,
   "metadata": {
    "tags": []
   },
   "outputs": [],
   "source": [
    "pyspark_df=pyspark_df.orderBy(\"PatientId\", \n",
    "                              \"GlucoseDisplayTime\",\n",
    "                              ascending=True)"
   ]
  },
  {
   "cell_type": "code",
   "execution_count": 12,
   "metadata": {
    "tags": []
   },
   "outputs": [
    {
     "name": "stderr",
     "output_type": "stream",
     "text": [
      "/home/jovyan/glucose-data-analysis/glucose_venv/lib/python3.10/site-packages/pyspark/sql/pandas/group_ops.py:98: UserWarning: It is preferred to use 'applyInPandas' over this API. This API will be deprecated in the future releases. See SPARK-28264 for more details.\n",
      "  warnings.warn(\n"
     ]
    }
   ],
   "source": [
    "####### PySpark\n",
    "pyspark_custom_imputation_schema=pandas_udf_data_schema.custom_imputation_pyspark_schema()\n",
    "pyspark_custom_imputation_pipeline=pandas_sklearn_pipeline.pyspark_custom_imputation_pipeline(df=pyspark_df, \n",
    "                                                                                              output_schema=pyspark_custom_imputation_schema,\n",
    "                                                                                              analysis_group=analysis_group)\n"
   ]
  },
  {
   "cell_type": "code",
   "execution_count": 13,
   "metadata": {
    "tags": []
   },
   "outputs": [
    {
     "name": "stderr",
     "output_type": "stream",
     "text": [
      "[Stage 24:>                                                         (0 + 1) / 1]\r"
     ]
    },
    {
     "name": "stdout",
     "output_type": "stream",
     "text": [
      "+-------------------+--------------------+-----+\n",
      "| GlucoseDisplayTime|           PatientId|Value|\n",
      "+-------------------+--------------------+-----+\n",
      "|2022-02-18 17:05:00|Zw997clFRcTAHrWiO...|260.0|\n",
      "+-------------------+--------------------+-----+\n",
      "only showing top 1 row\n",
      "\n"
     ]
    },
    {
     "name": "stderr",
     "output_type": "stream",
     "text": [
      "                                                                                \r"
     ]
    }
   ],
   "source": [
    "pyspark_custom_imputation_pipeline.show(1)"
   ]
  },
  {
   "cell_type": "markdown",
   "metadata": {},
   "source": [
    "### 3. PySpark: Adding Binary Labels"
   ]
  },
  {
   "cell_type": "code",
   "execution_count": 14,
   "metadata": {
    "tags": []
   },
   "outputs": [
    {
     "name": "stdout",
     "output_type": "stream",
     "text": [
      "+-------------------+--------------------+-----+--------+\n",
      "| GlucoseDisplayTime|           PatientId|Value|y_Binary|\n",
      "+-------------------+--------------------+-----+--------+\n",
      "|2022-02-18 17:05:00|Zw997clFRcTAHrWiO...|260.0|       1|\n",
      "+-------------------+--------------------+-----+--------+\n",
      "only showing top 1 row\n",
      "\n"
     ]
    },
    {
     "name": "stderr",
     "output_type": "stream",
     "text": [
      "                                                                                \r"
     ]
    }
   ],
   "source": [
    "pyspark_df_added_binary_labels=create_binary_labels.pyspark_binary_labels(df=pyspark_custom_imputation_pipeline, \n",
    "                                                                          lower=daily_stats_features_lower, \n",
    "                                                                          upper=daily_stats_features_upper)\n",
    "\n",
    "pyspark_df_added_binary_labels.show(1)"
   ]
  },
  {
   "cell_type": "markdown",
   "metadata": {},
   "source": [
    "### 4. PySpark: Features: Summary Statistics"
   ]
  },
  {
   "cell_type": "code",
   "execution_count": 15,
   "metadata": {
    "tags": []
   },
   "outputs": [],
   "source": [
    "####### PySpark\n",
    "pyspark_features_summary_stats=summary_stats_features.pyspark_summary_statistics(df=pyspark_df_added_binary_labels,\n",
    "                                                                                 daily_stats_features_lower=daily_stats_features_lower,\n",
    "                                                                                 daily_stats_features_upper=daily_stats_features_upper)\n",
    "\n"
   ]
  },
  {
   "cell_type": "code",
   "execution_count": 16,
   "metadata": {
    "tags": []
   },
   "outputs": [
    {
     "name": "stderr",
     "output_type": "stream",
     "text": [
      "[Stage 58:>                                                         (0 + 1) / 1]\r"
     ]
    },
    {
     "name": "stdout",
     "output_type": "stream",
     "text": [
      "+--------------------+-----+-------------------+-----+--------+-----+----------------+------------------+-----------------+------+-----+-----+----------+----------+---------------+------------------+\n",
      "|           PatientId|Chunk| GlucoseDisplayTime|Value|y_Binary|index|y_summary_binary|              Mean|          Std Dev|Median|  Min|  Max|CountBelow|CountAbove|PercentageBelow|   PercentageAbove|\n",
      "+--------------------+-----+-------------------+-----+--------+-----+----------------+------------------+-----------------+------+-----+-----+----------+----------+---------------+------------------+\n",
      "|Zw997clFRcTAHrWiO...|    0|2022-02-18 17:55:00|271.0|       1|   11|               1|273.45454545454544|8.017027333914188| 272.0|260.0|284.0|         0|        11|            0.0|0.9166666666666666|\n",
      "+--------------------+-----+-------------------+-----+--------+-----+----------------+------------------+-----------------+------+-----+-----+----------+----------+---------------+------------------+\n",
      "only showing top 1 row\n",
      "\n"
     ]
    },
    {
     "name": "stderr",
     "output_type": "stream",
     "text": [
      "                                                                                \r"
     ]
    }
   ],
   "source": [
    "pyspark_features_summary_stats.show(1)"
   ]
  },
  {
   "cell_type": "markdown",
   "metadata": {},
   "source": [
    "### 5. PySpark: Wrapper Functions"
   ]
  },
  {
   "cell_type": "code",
   "execution_count": null,
   "metadata": {},
   "outputs": [],
   "source": []
  },
  {
   "cell_type": "markdown",
   "metadata": {},
   "source": [
    "### 6. PySpark: Lag Features"
   ]
  },
  {
   "cell_type": "code",
   "execution_count": 17,
   "metadata": {
    "tags": []
   },
   "outputs": [
    {
     "name": "stdout",
     "output_type": "stream",
     "text": [
      "23/04/20 18:04:30 WARN package: Truncated the string representation of a plan since it was too large. This behavior can be adjusted by setting 'spark.sql.debug.maxToStringFields'.\n"
     ]
    },
    {
     "name": "stderr",
     "output_type": "stream",
     "text": [
      "[Stage 80:>                                                         (0 + 1) / 1]\r"
     ]
    },
    {
     "name": "stdout",
     "output_type": "stream",
     "text": [
      "+--------------------+-----+-------------------+-----+--------+-----+----------------+------------------+-----------------+------+-----+-----+----------+----------+---------------+------------------+-----------+------------------+-----------------+---------+---------+---------+-------------+-------------+---------------+------------------+-----------+------------------+-----------------+---------+---------+---------+-------------+-------------+---------------+------------------+\n",
      "|           PatientId|Chunk| GlucoseDisplayTime|Value|y_Binary|index|y_summary_binary|              Mean|          Std Dev|Median|  Min|  Max|CountBelow|CountAbove|PercentageBelow|   PercentageAbove|value_lag_1|        mean_lag_1|    std_dev_lag_1|med_lag_1|min_lag_1|max_lag_1|cnt_bel_lag_1|cnt_abv_lag_1|perc_belw_lag_1|    perc_abv_lag_1|value_lag_2|        mean_lag_2|    std_dev_lag_2|med_lag_2|min_lag_2|max_lag_2|cnt_bel_lag_2|cnt_abv_lag_2|perc_belw_lag_2|    perc_abv_lag_2|\n",
      "+--------------------+-----+-------------------+-----+--------+-----+----------------+------------------+-----------------+------+-----+-----+----------+----------+---------------+------------------+-----------+------------------+-----------------+---------+---------+---------+-------------+-------------+---------------+------------------+-----------+------------------+-----------------+---------+---------+---------+-------------+-------------+---------------+------------------+\n",
      "|Zw997clFRcTAHrWiO...|    0|2022-02-18 17:15:00|275.0|       1|    3|               1|273.45454545454544|8.017027333914188| 272.0|260.0|284.0|         0|        11|            0.0|0.9166666666666666|      266.0|273.45454545454544|8.017027333914188|    272.0|    260.0|    284.0|            0|           11|            0.0|0.9166666666666666|      260.0|273.45454545454544|8.017027333914188|    272.0|    260.0|    284.0|            0|           11|            0.0|0.9166666666666666|\n",
      "|Zw997clFRcTAHrWiO...|    0|2022-02-18 17:20:00|283.0|       1|    4|               1|273.45454545454544|8.017027333914188| 272.0|260.0|284.0|         0|        11|            0.0|0.9166666666666666|      275.0|273.45454545454544|8.017027333914188|    272.0|    260.0|    284.0|            0|           11|            0.0|0.9166666666666666|      266.0|273.45454545454544|8.017027333914188|    272.0|    260.0|    284.0|            0|           11|            0.0|0.9166666666666666|\n",
      "|Zw997clFRcTAHrWiO...|    0|2022-02-18 17:25:00|284.0|       1|    5|               1|273.45454545454544|8.017027333914188| 272.0|260.0|284.0|         0|        11|            0.0|0.9166666666666666|      283.0|273.45454545454544|8.017027333914188|    272.0|    260.0|    284.0|            0|           11|            0.0|0.9166666666666666|      275.0|273.45454545454544|8.017027333914188|    272.0|    260.0|    284.0|            0|           11|            0.0|0.9166666666666666|\n",
      "|Zw997clFRcTAHrWiO...|    0|2022-02-18 17:30:00|283.0|       1|    6|               1|273.45454545454544|8.017027333914188| 272.0|260.0|284.0|         0|        11|            0.0|0.9166666666666666|      284.0|273.45454545454544|8.017027333914188|    272.0|    260.0|    284.0|            0|           11|            0.0|0.9166666666666666|      283.0|273.45454545454544|8.017027333914188|    272.0|    260.0|    284.0|            0|           11|            0.0|0.9166666666666666|\n",
      "|Zw997clFRcTAHrWiO...|    0|2022-02-18 17:35:00|279.0|       1|    7|               1|273.45454545454544|8.017027333914188| 272.0|260.0|284.0|         0|        11|            0.0|0.9166666666666666|      283.0|273.45454545454544|8.017027333914188|    272.0|    260.0|    284.0|            0|           11|            0.0|0.9166666666666666|      284.0|273.45454545454544|8.017027333914188|    272.0|    260.0|    284.0|            0|           11|            0.0|0.9166666666666666|\n",
      "+--------------------+-----+-------------------+-----+--------+-----+----------------+------------------+-----------------+------+-----+-----+----------+----------+---------------+------------------+-----------+------------------+-----------------+---------+---------+---------+-------------+-------------+---------------+------------------+-----------+------------------+-----------------+---------+---------+---------+-------------+-------------+---------------+------------------+\n",
      "only showing top 5 rows\n",
      "\n"
     ]
    },
    {
     "name": "stderr",
     "output_type": "stream",
     "text": [
      "                                                                                \r"
     ]
    }
   ],
   "source": [
    "####### PySpark\n",
    "pyspark_lag_features_creation=create_lag_features.pyspark_lag_features(df=pyspark_features_summary_stats,\n",
    "                                                                       time_series_lag_values_created=time_series_lag_values_created)\n",
    "pyspark_lag_features_creation.show(5)"
   ]
  },
  {
   "cell_type": "markdown",
   "metadata": {},
   "source": [
    "### 7. PySpark: Sklearn Categorical Pipeline in PySpark"
   ]
  },
  {
   "cell_type": "code",
   "execution_count": null,
   "metadata": {
    "tags": []
   },
   "outputs": [],
   "source": []
  },
  {
   "cell_type": "markdown",
   "metadata": {},
   "source": [
    "### 8. PySpark: Sklearn Numerical Pipeline in PySpark"
   ]
  },
  {
   "cell_type": "code",
   "execution_count": 18,
   "metadata": {
    "tags": []
   },
   "outputs": [
    {
     "name": "stderr",
     "output_type": "stream",
     "text": [
      "                                                                                \r"
     ]
    },
    {
     "name": "stdout",
     "output_type": "stream",
     "text": [
      "+--------------------+-----+-------------------+-----+--------+-----+----------------+------------------+-----------------+------+-----+-----+----------+----------+---------------+------------------+-----------+------------------+-----------------+---------+---------+---------+-------------+-------------+---------------+------------------+-----------+------------------+-----------------+---------+---------+---------+-------------+-------------+---------------+------------------+-------------------+--------------------+-------------+-------------+--------------------+-------------------+-------------------+-------------+-------------+--------------------+-------------+--------------------+---------------+-------------------+-------------+---------------+--------------------+---------------------+--------------------+--------------------+---------------------+----------------------+--------------------+-------------------+-------------------+--------------------+--------------------+--------------------+-------------------+----------------------+-------------------+-------------------+--------------------+\n",
      "|           PatientId|Chunk| GlucoseDisplayTime|Value|y_Binary|index|y_summary_binary|              Mean|          Std Dev|Median|  Min|  Max|CountBelow|CountAbove|PercentageBelow|   PercentageAbove|value_lag_1|        mean_lag_1|    std_dev_lag_1|med_lag_1|min_lag_1|max_lag_1|cnt_bel_lag_1|cnt_abv_lag_1|perc_belw_lag_1|    perc_abv_lag_1|value_lag_2|        mean_lag_2|    std_dev_lag_2|med_lag_2|min_lag_2|max_lag_2|cnt_bel_lag_2|cnt_abv_lag_2|perc_belw_lag_2|    perc_abv_lag_2|  vec_std_dev_lag_2|  vec_perc_abv_lag_2|vec_min_lag_1|vec_med_lag_2|  vec_perc_abv_lag_1|vec_perc_belw_lag_2|  vec_std_dev_lag_1|vec_max_lag_2|vec_max_lag_1|      vec_mean_lag_1|vec_min_lag_2|      vec_mean_lag_2|vec_value_lag_2|vec_perc_belw_lag_1|vec_med_lag_1|vec_value_lag_1|scaled_std_dev_lag_2|scaled_perc_abv_lag_2|    scaled_min_lag_1|    scaled_med_lag_2|scaled_perc_abv_lag_1|scaled_perc_belw_lag_2|scaled_std_dev_lag_1|   scaled_max_lag_2|   scaled_max_lag_1|   scaled_mean_lag_1|    scaled_min_lag_2|   scaled_mean_lag_2| scaled_value_lag_2|scaled_perc_belw_lag_1|   scaled_med_lag_1| scaled_value_lag_1|            features|\n",
      "+--------------------+-----+-------------------+-----+--------+-----+----------------+------------------+-----------------+------+-----+-----+----------+----------+---------------+------------------+-----------+------------------+-----------------+---------+---------+---------+-------------+-------------+---------------+------------------+-----------+------------------+-----------------+---------+---------+---------+-------------+-------------+---------------+------------------+-------------------+--------------------+-------------+-------------+--------------------+-------------------+-------------------+-------------+-------------+--------------------+-------------+--------------------+---------------+-------------------+-------------+---------------+--------------------+---------------------+--------------------+--------------------+---------------------+----------------------+--------------------+-------------------+-------------------+--------------------+--------------------+--------------------+-------------------+----------------------+-------------------+-------------------+--------------------+\n",
      "|Zw997clFRcTAHrWiO...|    0|2022-02-18 17:15:00|275.0|       1|    3|               1|273.45454545454544|8.017027333914188| 272.0|260.0|284.0|         0|        11|            0.0|0.9166666666666666|      266.0|273.45454545454544|8.017027333914188|    272.0|    260.0|    284.0|            0|           11|            0.0|0.9166666666666666|      260.0|273.45454545454544|8.017027333914188|    272.0|    260.0|    284.0|            0|           11|            0.0|0.9166666666666666|[8.017027333914188]|[0.9166666666666666]|      [260.0]|      [272.0]|[0.9166666666666666]|              [0.0]|[8.017027333914188]|      [284.0]|      [284.0]|[273.45454545454544]|      [260.0]|[273.45454545454544]|        [260.0]|              [0.0]|      [272.0]|        [266.0]|[3.6526453939864494]|  [0.836687300478985]|[3.9142104089406047]|[4.5326239236449934]| [0.8366869875519913]|                 [0.0]| [3.652590494598223]|[5.045267848500061]|[5.045397551332959]|[4.6182447304321075]|[3.9140737549519846]|[4.6181240116873035]|[3.851765938461715]|                 [0.0]|[4.532692434059207]|[4.180612968370758]|[3.65264539398644...|\n",
      "+--------------------+-----+-------------------+-----+--------+-----+----------------+------------------+-----------------+------+-----+-----+----------+----------+---------------+------------------+-----------+------------------+-----------------+---------+---------+---------+-------------+-------------+---------------+------------------+-----------+------------------+-----------------+---------+---------+---------+-------------+-------------+---------------+------------------+-------------------+--------------------+-------------+-------------+--------------------+-------------------+-------------------+-------------+-------------+--------------------+-------------+--------------------+---------------+-------------------+-------------+---------------+--------------------+---------------------+--------------------+--------------------+---------------------+----------------------+--------------------+-------------------+-------------------+--------------------+--------------------+--------------------+-------------------+----------------------+-------------------+-------------------+--------------------+\n",
      "only showing top 1 row\n",
      "\n"
     ]
    }
   ],
   "source": [
    "####### PySpark\n",
    "pyspark_numerical_features=feature_transformations.numerical_scaling(df=pyspark_lag_features_creation)\n",
    "pyspark_numerical_features.show(1)"
   ]
  },
  {
   "cell_type": "markdown",
   "metadata": {},
   "source": [
    "### 9. PySpark: XGBoost Model"
   ]
  },
  {
   "cell_type": "code",
   "execution_count": 19,
   "metadata": {
    "tags": []
   },
   "outputs": [
    {
     "name": "stderr",
     "output_type": "stream",
     "text": [
      "You enabled use_gpu in spark local mode. Please make sure your local node has at least 2 GPUs\n",
      "[18:05:16] task 1 got new rank 0                                    (0 + 2) / 2]\n",
      "[18:05:16] task 0 got new rank 1\n",
      "/home/jovyan/glucose-data-analysis/glucose_venv/lib/python3.10/site-packages/xgboost/sklearn.py:782: UserWarning: Loading a native XGBoost model with Scikit-Learn interface.\n",
      "  warnings.warn(\"Loading a native XGBoost model with Scikit-Learn interface.\")\n",
      "You enabled use_gpu in spark local mode. Please make sure your local node has at least 2 GPUs\n"
     ]
    },
    {
     "name": "stdout",
     "output_type": "stream",
     "text": [
      "[18:05:19] WARNING: ../src/learner.cc:553: \n",
      "  If you are loading a serialized model (like pickle in Python, RDS in R) generated by\n",
      "  older XGBoost, please export the model by calling `Booster.save_model` from that version\n",
      "  first, then load it back in current version. See:\n",
      "\n",
      "    https://xgboost.readthedocs.io/en/latest/tutorials/saving_model.html\n",
      "\n",
      "  for more details about differences between saving model and serializing.\n",
      "\n"
     ]
    }
   ],
   "source": [
    "xgboost_model_creation=create_pyspark_xgboost.xgboost_classifier(ml_df=pyspark_numerical_features,\n",
    "                                                                 model_storage_location=model_storage_location)"
   ]
  },
  {
   "cell_type": "code",
   "execution_count": 23,
   "metadata": {
    "tags": []
   },
   "outputs": [
    {
     "name": "stderr",
     "output_type": "stream",
     "text": [
      "                                                                                \r"
     ]
    },
    {
     "name": "stdout",
     "output_type": "stream",
     "text": [
      "23/04/20 18:14:58 WARN DAGScheduler: Broadcasting large task binary with size 1016.1 KiB\n"
     ]
    },
    {
     "name": "stderr",
     "output_type": "stream",
     "text": [
      "[18:14:59] WARNING: ../src/learner.cc:553: \n",
      "  If you are loading a serialized model (like pickle in Python, RDS in R) generated by\n",
      "  older XGBoost, please export the model by calling `Booster.save_model` from that version\n",
      "  first, then load it back in current version. See:\n",
      "\n",
      "    https://xgboost.readthedocs.io/en/latest/tutorials/saving_model.html\n",
      "\n",
      "  for more details about differences between saving model and serializing.\n",
      "\n",
      "[Stage 685:>                                                        (0 + 1) / 1]\r"
     ]
    },
    {
     "name": "stdout",
     "output_type": "stream",
     "text": [
      "+------------------+\n",
      "|        prediction|\n",
      "+------------------+\n",
      "|1.0005996227264404|\n",
      "|1.0005996227264404|\n",
      "+------------------+\n",
      "only showing top 2 rows\n",
      "\n"
     ]
    },
    {
     "name": "stderr",
     "output_type": "stream",
     "text": [
      "                                                                                \r"
     ]
    }
   ],
   "source": [
    "xgboost_model_creation.select('prediction').show(2)"
   ]
  },
  {
   "cell_type": "code",
   "execution_count": 22,
   "metadata": {
    "tags": []
   },
   "outputs": [
    {
     "name": "stderr",
     "output_type": "stream",
     "text": [
      "                                                                                \r"
     ]
    },
    {
     "name": "stdout",
     "output_type": "stream",
     "text": [
      "23/04/20 18:14:31 WARN DAGScheduler: Broadcasting large task binary with size 1008.0 KiB\n"
     ]
    },
    {
     "name": "stderr",
     "output_type": "stream",
     "text": [
      "[18:14:32] WARNING: ../src/learner.cc:553:                          (0 + 1) / 1]\n",
      "  If you are loading a serialized model (like pickle in Python, RDS in R) generated by\n",
      "  older XGBoost, please export the model by calling `Booster.save_model` from that version\n",
      "  first, then load it back in current version. See:\n",
      "\n",
      "    https://xgboost.readthedocs.io/en/latest/tutorials/saving_model.html\n",
      "\n",
      "  for more details about differences between saving model and serializing.\n",
      "\n"
     ]
    },
    {
     "name": "stdout",
     "output_type": "stream",
     "text": [
      "+--------------------+-----+-------------------+-----+--------+-----+----------------+------------------+------------------+------+-----+-----+----------+----------+---------------+------------------+-----------+------------------+------------------+---------+---------+---------+-------------+-------------+---------------+------------------+-----------+------------------+------------------+---------+---------+---------+-------------+-------------+---------------+------------------+--------------------+--------------------+-------------+-------------+--------------------+-------------------+--------------------+-------------+-------------+--------------------+-------------+--------------------+---------------+-------------------+-------------+---------------+--------------------+---------------------+--------------------+--------------------+---------------------+----------------------+--------------------+-------------------+-------------------+--------------------+--------------------+--------------------+--------------------+----------------------+-------------------+--------------------+--------------------+------------------+\n",
      "|           PatientId|Chunk| GlucoseDisplayTime|Value|y_Binary|index|y_summary_binary|              Mean|           Std Dev|Median|  Min|  Max|CountBelow|CountAbove|PercentageBelow|   PercentageAbove|value_lag_1|        mean_lag_1|     std_dev_lag_1|med_lag_1|min_lag_1|max_lag_1|cnt_bel_lag_1|cnt_abv_lag_1|perc_belw_lag_1|    perc_abv_lag_1|value_lag_2|        mean_lag_2|     std_dev_lag_2|med_lag_2|min_lag_2|max_lag_2|cnt_bel_lag_2|cnt_abv_lag_2|perc_belw_lag_2|    perc_abv_lag_2|   vec_std_dev_lag_2|  vec_perc_abv_lag_2|vec_min_lag_1|vec_med_lag_2|  vec_perc_abv_lag_1|vec_perc_belw_lag_2|   vec_std_dev_lag_1|vec_max_lag_2|vec_max_lag_1|      vec_mean_lag_1|vec_min_lag_2|      vec_mean_lag_2|vec_value_lag_2|vec_perc_belw_lag_1|vec_med_lag_1|vec_value_lag_1|scaled_std_dev_lag_2|scaled_perc_abv_lag_2|    scaled_min_lag_1|    scaled_med_lag_2|scaled_perc_abv_lag_1|scaled_perc_belw_lag_2|scaled_std_dev_lag_1|   scaled_max_lag_2|   scaled_max_lag_1|   scaled_mean_lag_1|    scaled_min_lag_2|   scaled_mean_lag_2|  scaled_value_lag_2|scaled_perc_belw_lag_1|   scaled_med_lag_1|  scaled_value_lag_1|            features|        prediction|\n",
      "+--------------------+-----+-------------------+-----+--------+-----+----------------+------------------+------------------+------+-----+-----+----------+----------+---------------+------------------+-----------+------------------+------------------+---------+---------+---------+-------------+-------------+---------------+------------------+-----------+------------------+------------------+---------+---------+---------+-------------+-------------+---------------+------------------+--------------------+--------------------+-------------+-------------+--------------------+-------------------+--------------------+-------------+-------------+--------------------+-------------+--------------------+---------------+-------------------+-------------+---------------+--------------------+---------------------+--------------------+--------------------+---------------------+----------------------+--------------------+-------------------+-------------------+--------------------+--------------------+--------------------+--------------------+----------------------+-------------------+--------------------+--------------------+------------------+\n",
      "|Zw997clFRcTAHrWiO...|    0|2022-02-18 17:15:00|275.0|       1|    3|               1|273.45454545454544| 8.017027333914188| 272.0|260.0|284.0|         0|        11|            0.0|0.9166666666666666|      266.0|273.45454545454544| 8.017027333914188|    272.0|    260.0|    284.0|            0|           11|            0.0|0.9166666666666666|      260.0|273.45454545454544| 8.017027333914188|    272.0|    260.0|    284.0|            0|           11|            0.0|0.9166666666666666| [8.017027333914188]|[0.9166666666666666]|      [260.0]|      [272.0]|[0.9166666666666666]|              [0.0]| [8.017027333914188]|      [284.0]|      [284.0]|[273.45454545454544]|      [260.0]|[273.45454545454544]|        [260.0]|              [0.0]|      [272.0]|        [266.0]|[3.6526453939864494]|  [0.836687300478985]|[3.9142104089406047]|[4.5326239236449934]| [0.8366869875519913]|                 [0.0]| [3.652590494598223]|[5.045267848500061]|[5.045397551332959]|[4.6182447304321075]|[3.9140737549519846]|[4.6181240116873035]| [3.851765938461715]|                 [0.0]|[4.532692434059207]| [4.180612968370758]|[3.65264539398644...|1.0005996227264404|\n",
      "|Zw997clFRcTAHrWiO...|    0|2022-02-18 17:20:00|283.0|       1|    4|               1|273.45454545454544| 8.017027333914188| 272.0|260.0|284.0|         0|        11|            0.0|0.9166666666666666|      275.0|273.45454545454544| 8.017027333914188|    272.0|    260.0|    284.0|            0|           11|            0.0|0.9166666666666666|      266.0|273.45454545454544| 8.017027333914188|    272.0|    260.0|    284.0|            0|           11|            0.0|0.9166666666666666| [8.017027333914188]|[0.9166666666666666]|      [260.0]|      [272.0]|[0.9166666666666666]|              [0.0]| [8.017027333914188]|      [284.0]|      [284.0]|[273.45454545454544]|      [260.0]|[273.45454545454544]|        [266.0]|              [0.0]|      [272.0]|        [275.0]|[3.6526453939864494]|  [0.836687300478985]|[3.9142104089406047]|[4.5326239236449934]| [0.8366869875519913]|                 [0.0]| [3.652590494598223]|[5.045267848500061]|[5.045397551332959]|[4.6182447304321075]|[3.9140737549519846]|[4.6181240116873035]| [4.180505217373131]|                 [0.0]|[4.532692434059207]| [4.673734137138785]|[3.65264539398644...|1.0005996227264404|\n",
      "|Zw997clFRcTAHrWiO...|    0|2022-02-18 17:25:00|284.0|       1|    5|               1|273.45454545454544| 8.017027333914188| 272.0|260.0|284.0|         0|        11|            0.0|0.9166666666666666|      283.0|273.45454545454544| 8.017027333914188|    272.0|    260.0|    284.0|            0|           11|            0.0|0.9166666666666666|      275.0|273.45454545454544| 8.017027333914188|    272.0|    260.0|    284.0|            0|           11|            0.0|0.9166666666666666| [8.017027333914188]|[0.9166666666666666]|      [260.0]|      [272.0]|[0.9166666666666666]|              [0.0]| [8.017027333914188]|      [284.0]|      [284.0]|[273.45454545454544]|      [260.0]|[273.45454545454544]|        [275.0]|              [0.0]|      [272.0]|        [283.0]|[3.6526453939864494]|  [0.836687300478985]|[3.9142104089406047]|[4.5326239236449934]| [0.8366869875519913]|                 [0.0]| [3.652590494598223]|[5.045267848500061]|[5.045397551332959]|[4.6182447304321075]|[3.9140737549519846]|[4.6181240116873035]| [4.673614135740254]|                 [0.0]|[4.532692434059207]| [5.112064064932588]|[3.65264539398644...|1.0005996227264404|\n",
      "|Zw997clFRcTAHrWiO...|    0|2022-02-18 17:30:00|283.0|       1|    6|               1|273.45454545454544| 8.017027333914188| 272.0|260.0|284.0|         0|        11|            0.0|0.9166666666666666|      284.0|273.45454545454544| 8.017027333914188|    272.0|    260.0|    284.0|            0|           11|            0.0|0.9166666666666666|      283.0|273.45454545454544| 8.017027333914188|    272.0|    260.0|    284.0|            0|           11|            0.0|0.9166666666666666| [8.017027333914188]|[0.9166666666666666]|      [260.0]|      [272.0]|[0.9166666666666666]|              [0.0]| [8.017027333914188]|      [284.0]|      [284.0]|[273.45454545454544]|      [260.0]|[273.45454545454544]|        [283.0]|              [0.0]|      [272.0]|        [284.0]|[3.6526453939864494]|  [0.836687300478985]|[3.9142104089406047]|[4.5326239236449934]| [0.8366869875519913]|                 [0.0]| [3.652590494598223]|[5.045267848500061]|[5.045397551332959]|[4.6182447304321075]|[3.9140737549519846]|[4.6181240116873035]| [5.111933174288809]|                 [0.0]|[4.532692434059207]| [5.166855305906814]|[3.65264539398644...|1.0005996227264404|\n",
      "|Zw997clFRcTAHrWiO...|    0|2022-02-18 17:35:00|279.0|       1|    7|               1|273.45454545454544| 8.017027333914188| 272.0|260.0|284.0|         0|        11|            0.0|0.9166666666666666|      283.0|273.45454545454544| 8.017027333914188|    272.0|    260.0|    284.0|            0|           11|            0.0|0.9166666666666666|      284.0|273.45454545454544| 8.017027333914188|    272.0|    260.0|    284.0|            0|           11|            0.0|0.9166666666666666| [8.017027333914188]|[0.9166666666666666]|      [260.0]|      [272.0]|[0.9166666666666666]|              [0.0]| [8.017027333914188]|      [284.0]|      [284.0]|[273.45454545454544]|      [260.0]|[273.45454545454544]|        [284.0]|              [0.0]|      [272.0]|        [283.0]|[3.6526453939864494]|  [0.836687300478985]|[3.9142104089406047]|[4.5326239236449934]| [0.8366869875519913]|                 [0.0]| [3.652590494598223]|[5.045267848500061]|[5.045397551332959]|[4.6182447304321075]|[3.9140737549519846]|[4.6181240116873035]| [5.166723054107378]|                 [0.0]|[4.532692434059207]| [5.112064064932588]|[3.65264539398644...|1.0005996227264404|\n",
      "|Zw997clFRcTAHrWiO...|    0|2022-02-18 17:40:00|272.0|       1|    8|               1|273.45454545454544| 8.017027333914188| 272.0|260.0|284.0|         0|        11|            0.0|0.9166666666666666|      279.0|273.45454545454544| 8.017027333914188|    272.0|    260.0|    284.0|            0|           11|            0.0|0.9166666666666666|      283.0|273.45454545454544| 8.017027333914188|    272.0|    260.0|    284.0|            0|           11|            0.0|0.9166666666666666| [8.017027333914188]|[0.9166666666666666]|      [260.0]|      [272.0]|[0.9166666666666666]|              [0.0]| [8.017027333914188]|      [284.0]|      [284.0]|[273.45454545454544]|      [260.0]|[273.45454545454544]|        [283.0]|              [0.0]|      [272.0]|        [279.0]|[3.6526453939864494]|  [0.836687300478985]|[3.9142104089406047]|[4.5326239236449934]| [0.8366869875519913]|                 [0.0]| [3.652590494598223]|[5.045267848500061]|[5.045397551332959]|[4.6182447304321075]|[3.9140737549519846]|[4.6181240116873035]| [5.111933174288809]|                 [0.0]|[4.532692434059207]| [4.892899101035687]|[3.65264539398644...|1.0005996227264404|\n",
      "|Zw997clFRcTAHrWiO...|    0|2022-02-18 17:45:00|267.0|       1|    9|               1|273.45454545454544| 8.017027333914188| 272.0|260.0|284.0|         0|        11|            0.0|0.9166666666666666|      272.0|273.45454545454544| 8.017027333914188|    272.0|    260.0|    284.0|            0|           11|            0.0|0.9166666666666666|      279.0|273.45454545454544| 8.017027333914188|    272.0|    260.0|    284.0|            0|           11|            0.0|0.9166666666666666| [8.017027333914188]|[0.9166666666666666]|      [260.0]|      [272.0]|[0.9166666666666666]|              [0.0]| [8.017027333914188]|      [284.0]|      [284.0]|[273.45454545454544]|      [260.0]|[273.45454545454544]|        [279.0]|              [0.0]|      [272.0]|        [272.0]|[3.6526453939864494]|  [0.836687300478985]|[3.9142104089406047]|[4.5326239236449934]| [0.8366869875519913]|                 [0.0]| [3.652590494598223]|[5.045267848500061]|[5.045397551332959]|[4.6182447304321075]|[3.9140737549519846]|[4.6181240116873035]|[4.8927736550145315]|                 [0.0]|[4.532692434059207]|[4.5093604142161094]|[3.65264539398644...|1.0005996227264404|\n",
      "|Zw997clFRcTAHrWiO...|    0|2022-02-18 17:50:00|268.0|       1|   10|               1|273.45454545454544| 8.017027333914188| 272.0|260.0|284.0|         0|        11|            0.0|0.9166666666666666|      267.0|273.45454545454544| 8.017027333914188|    272.0|    260.0|    284.0|            0|           11|            0.0|0.9166666666666666|      272.0|273.45454545454544| 8.017027333914188|    272.0|    260.0|    284.0|            0|           11|            0.0|0.9166666666666666| [8.017027333914188]|[0.9166666666666666]|      [260.0]|      [272.0]|[0.9166666666666666]|              [0.0]| [8.017027333914188]|      [284.0]|      [284.0]|[273.45454545454544]|      [260.0]|[273.45454545454544]|        [272.0]|              [0.0]|      [272.0]|        [267.0]|[3.6526453939864494]|  [0.836687300478985]|[3.9142104089406047]|[4.5326239236449934]| [0.8366869875519913]|                 [0.0]| [3.652590494598223]|[5.045267848500061]|[5.045397551332959]|[4.6182447304321075]|[3.9140737549519846]|[4.6181240116873035]| [4.509244496284547]|                 [0.0]|[4.532692434059207]| [4.235404209344983]|[3.65264539398644...|1.0005996227264404|\n",
      "|Zw997clFRcTAHrWiO...|    0|2022-02-18 17:55:00|271.0|       1|   11|               1|273.45454545454544| 8.017027333914188| 272.0|260.0|284.0|         0|        11|            0.0|0.9166666666666666|      268.0|273.45454545454544| 8.017027333914188|    272.0|    260.0|    284.0|            0|           11|            0.0|0.9166666666666666|      267.0|273.45454545454544| 8.017027333914188|    272.0|    260.0|    284.0|            0|           11|            0.0|0.9166666666666666| [8.017027333914188]|[0.9166666666666666]|      [260.0]|      [272.0]|[0.9166666666666666]|              [0.0]| [8.017027333914188]|      [284.0]|      [284.0]|[273.45454545454544]|      [260.0]|[273.45454545454544]|        [267.0]|              [0.0]|      [272.0]|        [268.0]|[3.6526453939864494]|  [0.836687300478985]|[3.9142104089406047]|[4.5326239236449934]| [0.8366869875519913]|                 [0.0]| [3.652590494598223]|[5.045267848500061]|[5.045397551332959]|[4.6182447304321075]|[3.9140737549519846]|[4.6181240116873035]|   [4.2352950971917]|                 [0.0]|[4.532692434059207]| [4.290195450319208]|[3.65264539398644...|1.0005996227264404|\n",
      "|Zw997clFRcTAHrWiO...|    1|2022-02-18 18:00:00|281.0|       1|   12|               1| 334.8333333333333|26.377791393289137| 347.0|281.0|356.0|         0|        12|            0.0|               1.0|      271.0|273.45454545454544| 8.017027333914188|    272.0|    260.0|    284.0|            0|           11|            0.0|0.9166666666666666|      268.0|273.45454545454544| 8.017027333914188|    272.0|    260.0|    284.0|            0|           11|            0.0|0.9166666666666666| [8.017027333914188]|[0.9166666666666666]|      [260.0]|      [272.0]|[0.9166666666666666]|              [0.0]| [8.017027333914188]|      [284.0]|      [284.0]|[273.45454545454544]|      [260.0]|[273.45454545454544]|        [268.0]|              [0.0]|      [272.0]|        [271.0]|[3.6526453939864494]|  [0.836687300478985]|[3.9142104089406047]|[4.5326239236449934]| [0.8366869875519913]|                 [0.0]| [3.652590494598223]|[5.045267848500061]|[5.045397551332959]|[4.6182447304321075]|[3.9140737549519846]|[4.6181240116873035]| [4.290084977010269]|                 [0.0]|[4.532692434059207]| [4.454569173241884]|[3.65264539398644...|1.0005996227264404|\n",
      "|Zw997clFRcTAHrWiO...|    1|2022-02-18 18:05:00|296.0|       1|   13|               1| 334.8333333333333|26.377791393289137| 347.0|281.0|356.0|         0|        12|            0.0|               1.0|      281.0| 334.8333333333333|26.377791393289137|    347.0|    281.0|    356.0|            0|           12|            0.0|               1.0|      271.0|273.45454545454544| 8.017027333914188|    272.0|    260.0|    284.0|            0|           11|            0.0|0.9166666666666666| [8.017027333914188]|[0.9166666666666666]|      [281.0]|      [272.0]|               [1.0]|              [0.0]|[26.377791393289137]|      [284.0]|      [356.0]| [334.8333333333333]|      [260.0]|[273.45454545454544]|        [271.0]|              [0.0]|      [347.0]|        [281.0]|[3.6526453939864494]|  [0.836687300478985]| [5.076427275156824]|[4.5326239236449934]| [1.0037865378383468]|                 [0.0]|[12.334277185375244]|[5.045267848500061]|[8.915265645965446]| [8.002652620197798]|[3.9140737549519846]|[4.6181240116873035]| [4.454454616465977]|                 [0.0]|[8.661441946222698]| [5.002481582984138]|[3.65264539398644...|0.9997255206108093|\n",
      "|Zw997clFRcTAHrWiO...|    1|2022-02-18 18:10:00|304.0|       1|   14|               1| 334.8333333333333|26.377791393289137| 347.0|281.0|356.0|         0|        12|            0.0|               1.0|      296.0| 334.8333333333333|26.377791393289137|    347.0|    281.0|    356.0|            0|           12|            0.0|               1.0|      281.0| 334.8333333333333|26.377791393289137|    347.0|    281.0|    356.0|            0|           12|            0.0|               1.0|[26.377791393289137]|               [1.0]|      [281.0]|      [347.0]|               [1.0]|              [0.0]|[26.377791393289137]|      [356.0]|      [356.0]| [334.8333333333333]|      [281.0]| [334.8333333333333]|        [281.0]|              [0.0]|      [347.0]|        [296.0]|[12.334456479491141]| [1.0037862356347285]| [5.076427275156824]| [8.661311794505131]| [1.0037865378383468]|                 [0.0]|[12.334277185375244]|[8.915036669087067]|[8.915265645965446]| [8.002652620197798]| [5.076250295776828]| [8.002444247842828]| [5.002353414651671]|                 [0.0]|[8.661441946222698]| [5.824350197597517]|[12.3344564794911...| 1.000043272972107|\n",
      "|Zw997clFRcTAHrWiO...|    1|2022-02-18 18:15:00|328.0|       1|   15|               1| 334.8333333333333|26.377791393289137| 347.0|281.0|356.0|         0|        12|            0.0|               1.0|      304.0| 334.8333333333333|26.377791393289137|    347.0|    281.0|    356.0|            0|           12|            0.0|               1.0|      296.0| 334.8333333333333|26.377791393289137|    347.0|    281.0|    356.0|            0|           12|            0.0|               1.0|[26.377791393289137]|               [1.0]|      [281.0]|      [347.0]|               [1.0]|              [0.0]|[26.377791393289137]|      [356.0]|      [356.0]| [334.8333333333333]|      [281.0]| [334.8333333333333]|        [296.0]|              [0.0]|      [347.0]|        [304.0]|[12.334456479491141]| [1.0037862356347285]| [5.076427275156824]| [8.661311794505131]| [1.0037865378383468]|                 [0.0]|[12.334277185375244]|[8.915036669087067]|[8.915265645965446]| [8.002652620197798]| [5.076250295776828]| [8.002444247842828]|  [5.82420161193021]|                 [0.0]|[8.661441946222698]|  [6.26268012539132]|[12.3344564794911...| 1.000043272972107|\n",
      "|Zw997clFRcTAHrWiO...|    1|2022-02-18 18:20:00|349.0|       1|   16|               1| 334.8333333333333|26.377791393289137| 347.0|281.0|356.0|         0|        12|            0.0|               1.0|      328.0| 334.8333333333333|26.377791393289137|    347.0|    281.0|    356.0|            0|           12|            0.0|               1.0|      304.0| 334.8333333333333|26.377791393289137|    347.0|    281.0|    356.0|            0|           12|            0.0|               1.0|[26.377791393289137]|               [1.0]|      [281.0]|      [347.0]|               [1.0]|              [0.0]|[26.377791393289137]|      [356.0]|      [356.0]| [334.8333333333333]|      [281.0]| [334.8333333333333]|        [304.0]|              [0.0]|      [347.0]|        [328.0]|[12.334456479491141]| [1.0037862356347285]| [5.076427275156824]| [8.661311794505131]| [1.0037865378383468]|                 [0.0]|[12.334277185375244]|[8.915036669087067]|[8.915265645965446]| [8.002652620197798]| [5.076250295776828]| [8.002444247842828]|[6.2625206504787645]|                 [0.0]|[8.661441946222698]|[7.5776699087727275]|[12.3344564794911...| 1.000043272972107|\n",
      "|Zw997clFRcTAHrWiO...|    1|2022-02-18 18:25:00|355.0|       1|   17|               1| 334.8333333333333|26.377791393289137| 347.0|281.0|356.0|         0|        12|            0.0|               1.0|      349.0| 334.8333333333333|26.377791393289137|    347.0|    281.0|    356.0|            0|           12|            0.0|               1.0|      328.0| 334.8333333333333|26.377791393289137|    347.0|    281.0|    356.0|            0|           12|            0.0|               1.0|[26.377791393289137]|               [1.0]|      [281.0]|      [347.0]|               [1.0]|              [0.0]|[26.377791393289137]|      [356.0]|      [356.0]| [334.8333333333333]|      [281.0]| [334.8333333333333]|        [328.0]|              [0.0]|      [347.0]|        [349.0]|[12.334456479491141]| [1.0037862356347285]| [5.076427275156824]| [8.661311794505131]| [1.0037865378383468]|                 [0.0]|[12.334277185375244]|[8.915036669087067]|[8.915265645965446]| [8.002652620197798]| [5.076250295776828]| [8.002444247842828]| [7.577477766124428]|                 [0.0]|[8.661441946222698]|  [8.72828596923146]|[12.3344564794911...| 1.000043272972107|\n",
      "|Zw997clFRcTAHrWiO...|    1|2022-02-18 18:30:00|351.0|       1|   18|               1| 334.8333333333333|26.377791393289137| 347.0|281.0|356.0|         0|        12|            0.0|               1.0|      355.0| 334.8333333333333|26.377791393289137|    347.0|    281.0|    356.0|            0|           12|            0.0|               1.0|      349.0| 334.8333333333333|26.377791393289137|    347.0|    281.0|    356.0|            0|           12|            0.0|               1.0|[26.377791393289137]|               [1.0]|      [281.0]|      [347.0]|               [1.0]|              [0.0]|[26.377791393289137]|      [356.0]|      [356.0]| [334.8333333333333]|      [281.0]| [334.8333333333333]|        [349.0]|              [0.0]|      [347.0]|        [355.0]|[12.334456479491141]| [1.0037862356347285]| [5.076427275156824]| [8.661311794505131]| [1.0037865378383468]|                 [0.0]|[12.334277185375244]|[8.915036669087067]|[8.915265645965446]| [8.002652620197798]| [5.076250295776828]| [8.002444247842828]| [8.728065242314383]|                 [0.0]|[8.661441946222698]|  [9.05703341507681]|[12.3344564794911...| 1.000043272972107|\n",
      "|Zw997clFRcTAHrWiO...|    1|2022-02-18 18:35:00|344.0|       1|   19|               1| 334.8333333333333|26.377791393289137| 347.0|281.0|356.0|         0|        12|            0.0|               1.0|      351.0| 334.8333333333333|26.377791393289137|    347.0|    281.0|    356.0|            0|           12|            0.0|               1.0|      355.0| 334.8333333333333|26.377791393289137|    347.0|    281.0|    356.0|            0|           12|            0.0|               1.0|[26.377791393289137]|               [1.0]|      [281.0]|      [347.0]|               [1.0]|              [0.0]|[26.377791393289137]|      [356.0]|      [356.0]| [334.8333333333333]|      [281.0]| [334.8333333333333]|        [355.0]|              [0.0]|      [347.0]|        [351.0]|[12.334456479491141]| [1.0037862356347285]| [5.076427275156824]| [8.661311794505131]| [1.0037865378383468]|                 [0.0]|[12.334277185375244]|[8.915036669087067]|[8.915265645965446]| [8.002652620197798]| [5.076250295776828]| [8.002444247842828]|   [9.0568045212258]|                 [0.0]|[8.661441946222698]|  [8.83786845117991]|[12.3344564794911...| 1.000043272972107|\n",
      "|Zw997clFRcTAHrWiO...|    1|2022-02-18 18:40:00|347.0|       1|   20|               1| 334.8333333333333|26.377791393289137| 347.0|281.0|356.0|         0|        12|            0.0|               1.0|      344.0| 334.8333333333333|26.377791393289137|    347.0|    281.0|    356.0|            0|           12|            0.0|               1.0|      351.0| 334.8333333333333|26.377791393289137|    347.0|    281.0|    356.0|            0|           12|            0.0|               1.0|[26.377791393289137]|               [1.0]|      [281.0]|      [347.0]|               [1.0]|              [0.0]|[26.377791393289137]|      [356.0]|      [356.0]| [334.8333333333333]|      [281.0]| [334.8333333333333]|        [351.0]|              [0.0]|      [347.0]|        [344.0]|[12.334456479491141]| [1.0037862356347285]| [5.076427275156824]| [8.661311794505131]| [1.0037865378383468]|                 [0.0]|[12.334277185375244]|[8.915036669087067]|[8.915265645965446]| [8.002652620197798]| [5.076250295776828]| [8.002444247842828]| [8.837645001951522]|                 [0.0]|[8.661441946222698]| [8.454329764360333]|[12.3344564794911...| 1.000043272972107|\n",
      "|Zw997clFRcTAHrWiO...|    1|2022-02-18 18:45:00|352.0|       1|   21|               1| 334.8333333333333|26.377791393289137| 347.0|281.0|356.0|         0|        12|            0.0|               1.0|      347.0| 334.8333333333333|26.377791393289137|    347.0|    281.0|    356.0|            0|           12|            0.0|               1.0|      344.0| 334.8333333333333|26.377791393289137|    347.0|    281.0|    356.0|            0|           12|            0.0|               1.0|[26.377791393289137]|               [1.0]|      [281.0]|      [347.0]|               [1.0]|              [0.0]|[26.377791393289137]|      [356.0]|      [356.0]| [334.8333333333333]|      [281.0]| [334.8333333333333]|        [344.0]|              [0.0]|      [347.0]|        [347.0]|[12.334456479491141]| [1.0037862356347285]| [5.076427275156824]| [8.661311794505131]| [1.0037865378383468]|                 [0.0]|[12.334277185375244]|[8.915036669087067]|[8.915265645965446]| [8.002652620197798]| [5.076250295776828]| [8.002444247842828]| [8.454115843221537]|                 [0.0]|[8.661441946222698]| [8.618703487283009]|[12.3344564794911...| 1.000043272972107|\n",
      "|Zw997clFRcTAHrWiO...|    1|2022-02-18 18:50:00|355.0|       1|   22|               1| 334.8333333333333|26.377791393289137| 347.0|281.0|356.0|         0|        12|            0.0|               1.0|      352.0| 334.8333333333333|26.377791393289137|    347.0|    281.0|    356.0|            0|           12|            0.0|               1.0|      347.0| 334.8333333333333|26.377791393289137|    347.0|    281.0|    356.0|            0|           12|            0.0|               1.0|[26.377791393289137]|               [1.0]|      [281.0]|      [347.0]|               [1.0]|              [0.0]|[26.377791393289137]|      [356.0]|      [356.0]| [334.8333333333333]|      [281.0]| [334.8333333333333]|        [347.0]|              [0.0]|      [347.0]|        [352.0]|[12.334456479491141]| [1.0037862356347285]| [5.076427275156824]| [8.661311794505131]| [1.0037865378383468]|                 [0.0]|[12.334277185375244]|[8.915036669087067]|[8.915265645965446]| [8.002652620197798]| [5.076250295776828]| [8.002444247842828]| [8.618485482677245]|                 [0.0]|[8.661441946222698]| [8.892659692154135]|[12.3344564794911...| 1.000043272972107|\n",
      "+--------------------+-----+-------------------+-----+--------+-----+----------------+------------------+------------------+------+-----+-----+----------+----------+---------------+------------------+-----------+------------------+------------------+---------+---------+---------+-------------+-------------+---------------+------------------+-----------+------------------+------------------+---------+---------+---------+-------------+-------------+---------------+------------------+--------------------+--------------------+-------------+-------------+--------------------+-------------------+--------------------+-------------+-------------+--------------------+-------------+--------------------+---------------+-------------------+-------------+---------------+--------------------+---------------------+--------------------+--------------------+---------------------+----------------------+--------------------+-------------------+-------------------+--------------------+--------------------+--------------------+--------------------+----------------------+-------------------+--------------------+--------------------+------------------+\n",
      "only showing top 20 rows\n",
      "\n"
     ]
    },
    {
     "name": "stderr",
     "output_type": "stream",
     "text": [
      "                                                                                \r"
     ]
    }
   ],
   "source": [
    "xgboost_model_creation.show()"
   ]
  },
  {
   "cell_type": "markdown",
   "metadata": {},
   "source": [
    "### 10. PySpark: Model Evaluation"
   ]
  },
  {
   "cell_type": "code",
   "execution_count": null,
   "metadata": {},
   "outputs": [],
   "source": [
    "####### PySpark\n",
    "pyspark_classification_metric_schema=pandas_udf_data_schema.classification_metric_schema()\n",
    "\n",
    "classification_metric_df=classification_evalaution_metrics.pyspark_classification_model_evaluation_metrics(df=classification_model_outputs, \n",
    "                                                                                                           output_schema=pyspark_classification_metric_schema)\n",
    "classification_metric_df.show()                    "
   ]
  },
  {
   "cell_type": "markdown",
   "metadata": {},
   "source": [
    "### 11. PySpark: XGBoost Classification Feature Importance"
   ]
  },
  {
   "cell_type": "code",
   "execution_count": null,
   "metadata": {},
   "outputs": [],
   "source": [
    "xgboost_classification_plot.read_model_plot_variance(model_storage_location=model_storage_location)"
   ]
  },
  {
   "cell_type": "markdown",
   "metadata": {},
   "source": [
    "# Pandas"
   ]
  },
  {
   "cell_type": "markdown",
   "metadata": {},
   "source": [
    "### Pandas: Reading in Data"
   ]
  },
  {
   "cell_type": "code",
   "execution_count": null,
   "metadata": {},
   "outputs": [],
   "source": [
    "####### Pandas\n",
    "pandas_df=reading_data.read_in_pandas()\n",
    "pandas_df.head(1)"
   ]
  },
  {
   "cell_type": "markdown",
   "metadata": {},
   "source": [
    "### Pandas: Custom Imputation Pipeline"
   ]
  },
  {
   "cell_type": "code",
   "execution_count": null,
   "metadata": {},
   "outputs": [],
   "source": [
    "test_pat=pandas_df[pandas_df['PatientId']=='tHu8WPnIffml5CL+AbOBkXcbFApQnP06KdrHbjinta4=']"
   ]
  },
  {
   "cell_type": "code",
   "execution_count": null,
   "metadata": {},
   "outputs": [],
   "source": [
    "pandas_custom_imputation_pipeline=pandas_sklearn_pipeline.pandas_custom_imputation_pipeline(df=pandas_df)\n",
    "pandas_custom_imputation_pipeline.head(1)"
   ]
  },
  {
   "cell_type": "code",
   "execution_count": null,
   "metadata": {},
   "outputs": [],
   "source": [
    "####### Pandas\n",
    "pandas_custom_imputation_pipeline=pandas_sklearn_pipeline.pandas_custom_imputation_pipeline(df=pandas_df)\n",
    "pandas_custom_imputation_pipeline.head(1)"
   ]
  },
  {
   "cell_type": "markdown",
   "metadata": {},
   "source": [
    "### Pandas: Aggregate Data at Level"
   ]
  },
  {
   "cell_type": "code",
   "execution_count": null,
   "metadata": {},
   "outputs": [],
   "source": []
  },
  {
   "cell_type": "markdown",
   "metadata": {},
   "source": [
    "### Pandas: Adding Binary Labels"
   ]
  },
  {
   "cell_type": "code",
   "execution_count": null,
   "metadata": {},
   "outputs": [],
   "source": [
    "pandas_df_added_binary_labels=create_binary_labels.pandas_binary_labels(df=pandas_custom_imputation_pipeline, \n",
    "                                                                        lower=daily_stats_features_lower, \n",
    "                                                                        upper=daily_stats_features_upper)\n",
    "pandas_df_added_binary_labels.head(1)"
   ]
  },
  {
   "cell_type": "markdown",
   "metadata": {},
   "source": [
    "### Pandas: Features: Summary Statistics"
   ]
  },
  {
   "cell_type": "code",
   "execution_count": null,
   "metadata": {},
   "outputs": [],
   "source": [
    "pandas_features_summary_stats=summary_stats_features.pandas_compressDailyValues(data=pandas_df_added_binary_labels, \n",
    "                                                                                lower=daily_stats_features_lower, \n",
    "                                                                                upper=daily_stats_features_upper)\n",
    "pandas_features_summary_stats.head(1)"
   ]
  },
  {
   "cell_type": "markdown",
   "metadata": {},
   "source": [
    "### Pandas: Wrapper Functions"
   ]
  },
  {
   "cell_type": "code",
   "execution_count": null,
   "metadata": {},
   "outputs": [],
   "source": []
  },
  {
   "cell_type": "markdown",
   "metadata": {},
   "source": [
    "### Pandas: Sklearn Categorical Pipeline in Pandas"
   ]
  },
  {
   "cell_type": "code",
   "execution_count": null,
   "metadata": {},
   "outputs": [],
   "source": [
    "import pandas as pd\n",
    "import numpy as np\n",
    "from sklearn.pipeline import Pipeline\n",
    "from sklearn.preprocessing import StandardScaler\n",
    "from sklearn.compose import ColumnTransformer\n",
    "from sklearn.impute import SimpleImputer\n",
    "from sklearn.preprocessing import OneHotEncoder\n",
    "df=pandas_features_summary_stats[['PatientId', 'Value', 'GlucoseDisplayTime', 'GlucoseDisplayDate', 'inserted', \n",
    "        'missing', 'y_Binary', 'Median', 'Mean', 'Std Dev', 'Max', 'Min', 'AreaBelow', 'AreaAbove']]"
   ]
  },
  {
   "cell_type": "code",
   "execution_count": null,
   "metadata": {},
   "outputs": [],
   "source": [
    "df.head()"
   ]
  },
  {
   "cell_type": "code",
   "execution_count": null,
   "metadata": {},
   "outputs": [],
   "source": [
    "for patient_id in df['PatientId'].unique():\n",
    "    # Categorical Features\n",
    "    categorical_features=['inserted', 'missing']\n",
    "    categorical_transformer=Pipeline([('imputer_cat', SimpleImputer(strategy='constant', fill_value=np.nan)),\n",
    "                                        ('onehot', OneHotEncoder(handle_unknown='ignore'))])\n",
    "\n",
    "    preprocessor_2=ColumnTransformer([('categorical', categorical_transformer, categorical_features)],\n",
    "                                    remainder = 'passthrough')\n",
    "\n",
    "    cat_pipe_pipeline=Pipeline([('preprocessing_2', preprocessor_2)])\n",
    "\n",
    "    transformed_data1=cat_pipe_pipeline.fit_transform(df)\n",
    "\n",
    "    transformed_data_df=pd.DataFrame(transformed_data1)\n",
    "\n",
    "    transformed_data_df['combine_inserted']=transformed_data_df[[0,1]].values.tolist()\n",
    "    transformed_data_df['combine_missing']=transformed_data_df[[2,3]].values.tolist()\n",
    "    transformed_data_df=transformed_data_df.drop(transformed_data_df.iloc[:, 0:4],axis = 1)\n",
    "\n",
    "    transformed_data_df.columns=['PatientId', 'Value', 'GlucoseDisplayTime', 'GlucoseDisplayDate', \n",
    "                                    'y_Binary', 'Median', 'Mean', 'Std Dev', 'Max', 'Min', 'AreaBelow', \n",
    "                                    'AreaAbove', 'inserted', 'missing']"
   ]
  },
  {
   "cell_type": "code",
   "execution_count": null,
   "metadata": {},
   "outputs": [],
   "source": [
    "transformed_data_df.columns"
   ]
  },
  {
   "cell_type": "code",
   "execution_count": null,
   "metadata": {},
   "outputs": [],
   "source": []
  },
  {
   "cell_type": "code",
   "execution_count": null,
   "metadata": {},
   "outputs": [],
   "source": [
    "####### Pandas\n",
    "pandas_custom_categorical_pipeline=pandas_sklearn_pipeline.pandas_transform_categorical_features(df=pandas_features_summary_stats)\n",
    "pandas_custom_categorical_pipeline.head(1)"
   ]
  },
  {
   "cell_type": "markdown",
   "metadata": {},
   "source": [
    "### Pandas: Sklearn Numerical Pipeline in Pandas"
   ]
  },
  {
   "cell_type": "code",
   "execution_count": null,
   "metadata": {},
   "outputs": [],
   "source": [
    "####### Pandas\n",
    "pandas_custom_numerical_pipeline=pandas_sklearn_pipeline.pandas_transform_numerical_features(df=pandas_custom_categorical_pipeline)\n",
    "pandas_custom_numerical_pipeline.head(1)"
   ]
  },
  {
   "cell_type": "markdown",
   "metadata": {},
   "source": [
    "### Pandas: Models"
   ]
  },
  {
   "cell_type": "code",
   "execution_count": null,
   "metadata": {},
   "outputs": [],
   "source": []
  },
  {
   "cell_type": "code",
   "execution_count": null,
   "metadata": {},
   "outputs": [],
   "source": []
  }
 ],
 "metadata": {
  "kernelspec": {
   "display_name": "glucose-venv",
   "language": "python",
   "name": "glucose-venv"
  },
  "language_info": {
   "codemirror_mode": {
    "name": "ipython",
    "version": 3
   },
   "file_extension": ".py",
   "mimetype": "text/x-python",
   "name": "python",
   "nbconvert_exporter": "python",
   "pygments_lexer": "ipython3",
   "version": "3.10.10"
  },
  "vscode": {
   "interpreter": {
    "hash": "e282f9bbb605e17ec33c138684786f2c6a0e45a19b318784bb5671e7a7934052"
   }
  }
 },
 "nbformat": 4,
 "nbformat_minor": 4
}
