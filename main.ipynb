{
 "cells": [
  {
   "cell_type": "code",
   "execution_count": 1,
   "metadata": {},
   "outputs": [],
   "source": [
    "import numpy as np\n",
    "\n",
    "# from Input_Variables.read_vars import raw_data_storage, \\\n",
    "#                                       mfdfa_wins, mfdfa_q_list, mfdfa_rev_seg, mfdfa_pol_order, \\\n",
    "#                                       fpca_min_time\n",
    "\n",
    "from Input_Variables.read_vars import raw_data_storage, \\\n",
    "                                      daily_stats_features_lower, daily_stats_features_upper, \\\n",
    "                                      ml_models_train_split, ml_models_test_split\n",
    "\n",
    "from Data_Schema.schema import Pandas_UDF_Data_Schema\n",
    "from Read_In_Data.read_data import Reading_Data\n",
    "from Feature_Generation.create_binary_labels import Create_Binary_Labels\n",
    "from Data_Pipeline.sklearn_pipeline import Sklearn_Pipeline\n",
    "from Feature_Generation.daily_stats import Daily_Stats_Features\n",
    "from Models.xgboost_model import XGBoost_Classification\n",
    "# from Feature_Generation.time_series_feature_creation import TS_Feature_Creation"
   ]
  },
  {
   "cell_type": "markdown",
   "metadata": {},
   "source": [
    "# General Modules"
   ]
  },
  {
   "cell_type": "code",
   "execution_count": 2,
   "metadata": {},
   "outputs": [],
   "source": [
    "# PySpark UDF Schema Activation\n",
    "pandas_udf_data_schema=Pandas_UDF_Data_Schema()\n",
    "\n",
    "# Data Location\n",
    "reading_data=Reading_Data(data_location=raw_data_storage)\n",
    "\n",
    "# Create Binary y Variables\n",
    "create_binary_labels=Create_Binary_Labels()\n",
    "\n",
    "# Sklearn Pipeline\n",
    "pandas_sklearn_pipeline=Sklearn_Pipeline()\n",
    "\n",
    "# Features Daily Stats Module\n",
    "daily_stats_features=Daily_Stats_Features()\n",
    "\n",
    "# XGBoost Model Module\n",
    "xgboost_classification=XGBoost_Classification()\n"
   ]
  },
  {
   "cell_type": "markdown",
   "metadata": {},
   "source": [
    "# PySpark"
   ]
  },
  {
   "attachments": {},
   "cell_type": "markdown",
   "metadata": {},
   "source": [
    "### PySpark: Reading In Data"
   ]
  },
  {
   "cell_type": "code",
   "execution_count": 3,
   "metadata": {},
   "outputs": [],
   "source": [
    "####### PySpark\n",
    "pyspark_df=reading_data.read_in_pyspark()"
   ]
  },
  {
   "attachments": {},
   "cell_type": "markdown",
   "metadata": {},
   "source": [
    "### PySpark: Adding Binary Labels"
   ]
  },
  {
   "cell_type": "code",
   "execution_count": null,
   "metadata": {},
   "outputs": [],
   "source": [
    "pyspark_df_added_binary_labels=create_binary_labels.pyspark_binary_labels(df=pyspark_df, \n",
    "                                                                          lower=daily_stats_features_lower, \n",
    "                                                                          upper=daily_stats_features_upper)"
   ]
  },
  {
   "cell_type": "code",
   "execution_count": null,
   "metadata": {},
   "outputs": [],
   "source": [
    "pyspark_df_added_binary_labels.show(1)"
   ]
  },
  {
   "attachments": {},
   "cell_type": "markdown",
   "metadata": {},
   "source": [
    "### PySpark: Sklearn Pipeline in PySpark"
   ]
  },
  {
   "cell_type": "code",
   "execution_count": null,
   "metadata": {},
   "outputs": [],
   "source": [
    "####### PySpark\n",
    "pyspark_transform_schema=pandas_udf_data_schema.sklearn_pyspark_schema()\n",
    "pyspark_transformations=pandas_sklearn_pipeline.pyspark_sklearn_pipeline(df=pyspark_df_added_binary_labels, \n",
    "                                                                         output_schema=pyspark_transform_schema)"
   ]
  },
  {
   "cell_type": "code",
   "execution_count": null,
   "metadata": {
    "collapsed": true,
    "jupyter": {
     "outputs_hidden": true
    },
    "tags": []
   },
   "outputs": [],
   "source": [
    "pyspark_transformations.show(1)"
   ]
  },
  {
   "attachments": {},
   "cell_type": "markdown",
   "metadata": {},
   "source": [
    "### PySpark: Features: Daily Stats"
   ]
  },
  {
   "cell_type": "code",
   "execution_count": null,
   "metadata": {},
   "outputs": [],
   "source": [
    "####### PySpark\n",
    "pyspark_features_daily_stats_schema=pandas_udf_data_schema.daily_stats_schema()\n",
    "\n",
    "pyspark_features_daily_stats=daily_stats_features.pyspark_sklearn_pipeline(df=pyspark_transformations, \n",
    "                                                                           output_schema=pyspark_features_daily_stats_schema, \n",
    "                                                                           lower=daily_stats_features_lower, \n",
    "                                                                           upper=daily_stats_features_upper)"
   ]
  },
  {
   "cell_type": "code",
   "execution_count": null,
   "metadata": {},
   "outputs": [],
   "source": [
    "pyspark_features_daily_stats.show(1)"
   ]
  },
  {
   "attachments": {},
   "cell_type": "markdown",
   "metadata": {},
   "source": [
    "### PySpark: XGBoost Model --> Trash model output --> Tester"
   ]
  },
  {
   "cell_type": "code",
   "execution_count": null,
   "metadata": {},
   "outputs": [],
   "source": [
    "####### PySpark\n",
    "pyspark_xgboost_schema=pandas_udf_data_schema.XGBoost_schema()\n",
    "\n",
    "xgboost_classification.pyspark_xgboost(df=pyspark_features_daily_stats, \n",
    "                                       output_schema=pyspark_xgboost_schema, \n",
    "                                       train_split=ml_models_train_split, \n",
    "                                       test_split=ml_models_test_split)"
   ]
  },
  {
   "cell_type": "code",
   "execution_count": null,
   "metadata": {},
   "outputs": [],
   "source": []
  },
  {
   "cell_type": "markdown",
   "metadata": {},
   "source": [
    "# Pandas"
   ]
  },
  {
   "attachments": {},
   "cell_type": "markdown",
   "metadata": {},
   "source": [
    "### Pandas: Reading in Data"
   ]
  },
  {
   "cell_type": "code",
   "execution_count": null,
   "metadata": {},
   "outputs": [],
   "source": [
    "####### Pandas\n",
    "pandas_df=reading_data.read_in_pandas()"
   ]
  },
  {
   "cell_type": "code",
   "execution_count": null,
   "metadata": {},
   "outputs": [],
   "source": [
    "pandas_df.head(1)"
   ]
  },
  {
   "attachments": {},
   "cell_type": "markdown",
   "metadata": {},
   "source": [
    "### Pandas: Adding Binary Labels"
   ]
  },
  {
   "cell_type": "code",
   "execution_count": null,
   "metadata": {},
   "outputs": [],
   "source": [
    "pandas_df_added_binary_labels=create_binary_labels.pandas_binary_labels(df=pandas_df, \n",
    "                                                                        lower=daily_stats_features_lower, \n",
    "                                                                        upper=daily_stats_features_upper)"
   ]
  },
  {
   "cell_type": "code",
   "execution_count": null,
   "metadata": {},
   "outputs": [],
   "source": [
    "pandas_df_added_binary_labels.head(1)"
   ]
  },
  {
   "attachments": {},
   "cell_type": "markdown",
   "metadata": {},
   "source": [
    "### Pandas: Sklearn Pipeline in Pandas"
   ]
  },
  {
   "cell_type": "code",
   "execution_count": null,
   "metadata": {
    "collapsed": true,
    "jupyter": {
     "outputs_hidden": true
    },
    "tags": []
   },
   "outputs": [],
   "source": [
    "####### Pandas\n",
    "pandas_transformations=pandas_sklearn_pipeline.pandas_transform_features(df=pandas_df_added_binary_labels)"
   ]
  },
  {
   "cell_type": "code",
   "execution_count": null,
   "metadata": {},
   "outputs": [],
   "source": [
    "pandas_transformations.head(1)"
   ]
  },
  {
   "attachments": {},
   "cell_type": "markdown",
   "metadata": {},
   "source": [
    "### Pandas: Features: Daily Stats"
   ]
  },
  {
   "cell_type": "code",
   "execution_count": null,
   "metadata": {},
   "outputs": [],
   "source": [
    "pandas_features_daily_stats=daily_stats_features.pandas_compressDailyValues(data=pandas_transformations, \n",
    "                                                                            lower=daily_stats_features_lower, \n",
    "                                                                            upper=daily_stats_features_upper)"
   ]
  },
  {
   "cell_type": "code",
   "execution_count": null,
   "metadata": {},
   "outputs": [],
   "source": [
    "pandas_features_daily_stats.head(1)"
   ]
  },
  {
   "attachments": {},
   "cell_type": "markdown",
   "metadata": {},
   "source": [
    "### Pandas: Models"
   ]
  },
  {
   "cell_type": "code",
   "execution_count": null,
   "metadata": {},
   "outputs": [],
   "source": [
    "pat_1=pandas_features_daily_stats[pandas_features_daily_stats['PatientId']=='tHu8WPnIffml5CL+AbOBkXcbFApQnP06KdrHbjinta4=']\n",
    "pat_1"
   ]
  },
  {
   "cell_type": "code",
   "execution_count": null,
   "metadata": {},
   "outputs": [],
   "source": []
  },
  {
   "cell_type": "markdown",
   "metadata": {
    "tags": []
   },
   "source": [
    "### Not Ready, Do Not Run\n",
    "### Need to add Summary statistics to Features\n",
    "### Multifractal Detrended Fluctuation Analysis, Poincare Analysis, Functional Principal Component Analysis, Entropy"
   ]
  },
  {
   "cell_type": "code",
   "execution_count": null,
   "metadata": {},
   "outputs": [],
   "source": [
    "ts_feature_creation=TS_Feature_Creation()\n",
    "\n",
    "# Need to import variables from file\n",
    "mfdfa=ts_feature_creation.mfdfa_extraction(data=pandas_transformations,\n",
    "                                   win_sizes=mfdfa_wins,\n",
    "                                   q_list=mfdfa_q_list,\n",
    "                                   rev_seg=mfdfa_rev_seg,\n",
    "                                   pol_order=mfdfa_pol_order)\n",
    "print(mfdfa)\n",
    "\n",
    "poincare=ts_feature_creation.poincare_extraction(data=pandas_transformations)\n",
    "print(poincare)\n",
    "\n",
    "# Fuction Works\n",
    "entropy=ts_feature_creation.entropy_extraction(data=pandas_transformations)\n",
    "print(entropy)"
   ]
  },
  {
   "cell_type": "markdown",
   "metadata": {},
   "source": [
    "### Modeling"
   ]
  },
  {
   "cell_type": "markdown",
   "metadata": {},
   "source": [
    "### TensorFlow Time Series Probability Models: [TensorFlow](https://www.tensorflow.org/probability/examples/Structural_Time_Series_Modeling_Case_Studies_Atmospheric_CO2_and_Electricity_Demand)\n",
    "### PySpark XGBoost: [PySpark](https://xgboost.readthedocs.io/en/stable/tutorials/spark_estimator.html)"
   ]
  },
  {
   "cell_type": "code",
   "execution_count": null,
   "metadata": {},
   "outputs": [],
   "source": []
  }
 ],
 "metadata": {
  "kernelspec": {
   "display_name": "Python 3 (ipykernel)",
   "language": "python",
   "name": "python3"
  },
  "language_info": {
   "codemirror_mode": {
    "name": "ipython",
    "version": 3
   },
   "file_extension": ".py",
   "mimetype": "text/x-python",
   "name": "python",
   "nbconvert_exporter": "python",
   "pygments_lexer": "ipython3",
   "version": "3.10.8"
  },
  "vscode": {
   "interpreter": {
    "hash": "e282f9bbb605e17ec33c138684786f2c6a0e45a19b318784bb5671e7a7934052"
   }
  }
 },
 "nbformat": 4,
 "nbformat_minor": 4
}
