{
 "cells": [
  {
   "cell_type": "markdown",
   "metadata": {},
   "source": [
    "### Current Process\n",
    "1. Read in data --> Done\n",
    "\n",
    "2. Custom Imputation --> Done\n",
    "\n",
    "3. Add Binary Class --> Done, Should Add Binary Class Later\n",
    "\n",
    "4. Summary Statistics Features --> Done\n",
    "\n",
    "5. Wrapper Functions --> Done, Need to Test Though\n",
    "\n",
    "6. Sklearn Pipeline Categorical Features --> One Hot Encoding Done\n",
    "\n",
    "7. Sklearn Pipeline Numerical Features --> StandardScaler Done\n",
    "\n",
    "8. Create Lagged Features --> Done\n",
    "\n",
    "9. Modeling --> Currently XgBoost, (Maybe Try: TensorFlow Decision Tree, TensorFlow Probability Model)\n",
    "\n",
    "10. Model Evaluation --> Accuracy, Precision, Recall, F1, Confusion Matrix (Need to add Variable Importance Based on Variance)\n",
    "\n",
    "11. PySpark: XGBoost Classification Feature Importance"
   ]
  },
  {
   "cell_type": "code",
   "execution_count": 1,
   "metadata": {
    "tags": []
   },
   "outputs": [
    {
     "name": "stdout",
     "output_type": "stream",
     "text": [
      "Requirement already satisfied: pyarrow in /opt/conda/lib/python3.10/site-packages (11.0.0)\n",
      "Requirement already satisfied: numpy>=1.16.6 in /opt/conda/lib/python3.10/site-packages (from pyarrow) (1.24.2)\n",
      "Requirement already satisfied: pandas in /opt/conda/lib/python3.10/site-packages (2.0.0)\n",
      "Requirement already satisfied: numpy>=1.21.0 in /opt/conda/lib/python3.10/site-packages (from pandas) (1.24.2)\n",
      "Requirement already satisfied: pytz>=2020.1 in /opt/conda/lib/python3.10/site-packages (from pandas) (2023.3)\n",
      "Requirement already satisfied: tzdata>=2022.1 in /opt/conda/lib/python3.10/site-packages (from pandas) (2023.3)\n",
      "Requirement already satisfied: python-dateutil>=2.8.2 in /opt/conda/lib/python3.10/site-packages (from pandas) (2.8.2)\n",
      "Requirement already satisfied: six>=1.5 in /opt/conda/lib/python3.10/site-packages (from python-dateutil>=2.8.2->pandas) (1.16.0)\n",
      "Requirement already satisfied: scikit-learn in /opt/conda/lib/python3.10/site-packages (1.2.2)\n",
      "Requirement already satisfied: scipy>=1.3.2 in /opt/conda/lib/python3.10/site-packages (from scikit-learn) (1.10.1)\n",
      "Requirement already satisfied: numpy>=1.17.3 in /opt/conda/lib/python3.10/site-packages (from scikit-learn) (1.24.2)\n",
      "Requirement already satisfied: threadpoolctl>=2.0.0 in /opt/conda/lib/python3.10/site-packages (from scikit-learn) (3.1.0)\n",
      "Requirement already satisfied: joblib>=1.1.1 in /opt/conda/lib/python3.10/site-packages (from scikit-learn) (1.2.0)\n",
      "Requirement already satisfied: pyspark in /opt/conda/lib/python3.10/site-packages (3.4.0)\n",
      "Requirement already satisfied: py4j==0.10.9.7 in /opt/conda/lib/python3.10/site-packages (from pyspark) (0.10.9.7)\n"
     ]
    }
   ],
   "source": [
    "# # Need to Run These in Notebook Version For Pandas UDF\n",
    "! pip install pyarrow\n",
    "! pip install pandas\n",
    "! pip install scikit-learn\n",
    "! pip install pyspark"
   ]
  },
  {
   "cell_type": "code",
   "execution_count": 2,
   "metadata": {
    "tags": []
   },
   "outputs": [],
   "source": [
    "from Input_Variables.read_vars import raw_data_storage, \\\n",
    "                                      analysis_group, \\\n",
    "                                      daily_stats_features_lower, daily_stats_features_upper, \\\n",
    "                                      ml_models_train_split, ml_models_test_split, model_storage_location, \\\n",
    "                                      time_series_lag_values_created\n",
    "\n",
    "from Data_Schema.schema import Pandas_UDF_Data_Schema\n",
    "from Read_In_Data.read_data import Reading_Data\n",
    "from Data_Pipeline.sklearn_pipeline import Sklearn_Pipeline\n",
    "from Feature_Generation.create_binary_labels import Create_Binary_Labels\n",
    "from Feature_Generation.summary_stats import Summary_Stats_Features\n",
    "from Feature_Generation.lag_features import Create_Lagged_Features\n",
    "from Model_Creation.xgboost_model import XGBoost_Classification\n",
    "from Model_Evaluation.classification_evaluation import Classification_Evalaution_Metrics\n",
    "from Model_Plots.xgboost_classification_plots import XGBoost_Classification_Plot\n",
    "\n",
    "from Data_Pipeline.encoding_scaling_pipeline import Feature_Transformations"
   ]
  },
  {
   "cell_type": "markdown",
   "metadata": {},
   "source": [
    "# General Modules"
   ]
  },
  {
   "cell_type": "code",
   "execution_count": 3,
   "metadata": {
    "tags": []
   },
   "outputs": [],
   "source": [
    "# PySpark UDF Schema Activation\n",
    "pandas_udf_data_schema=Pandas_UDF_Data_Schema()\n",
    "\n",
    "# Data Location\n",
    "reading_data=Reading_Data(data_location=raw_data_storage)\n",
    "\n",
    "# Create Binary y Variables\n",
    "create_binary_labels=Create_Binary_Labels()\n",
    "\n",
    "# Sklearn Pipeline\n",
    "pandas_sklearn_pipeline=Sklearn_Pipeline()\n",
    "\n",
    "# Features Daily Stats Module\n",
    "summary_stats_features=Summary_Stats_Features()\n",
    "\n",
    "# Features Lagged Value\n",
    "create_lag_features=Create_Lagged_Features()\n",
    "\n",
    "# XGBoost Model Module\n",
    "xgboost_classification=XGBoost_Classification()\n",
    "\n",
    "# Classification Evaluation\n",
    "classification_evalaution_metrics=Classification_Evalaution_Metrics()\n",
    "\n",
    "# Model Plots Feature Importance\n",
    "xgboost_classification_plot=XGBoost_Classification_Plot()\n",
    "\n",
    "# Feature Transformations\n",
    "feature_transformations=Feature_Transformations()"
   ]
  },
  {
   "cell_type": "markdown",
   "metadata": {},
   "source": [
    "# PySpark"
   ]
  },
  {
   "cell_type": "markdown",
   "metadata": {},
   "source": [
    "### 1. PySpark: Reading In Data"
   ]
  },
  {
   "cell_type": "code",
   "execution_count": null,
   "metadata": {
    "tags": []
   },
   "outputs": [],
   "source": [
    "####### PySpark\n",
    "pyspark_df=reading_data.read_in_pyspark()"
   ]
  },
  {
   "cell_type": "code",
   "execution_count": 5,
   "metadata": {
    "tags": []
   },
   "outputs": [
    {
     "name": "stdout",
     "output_type": "stream",
     "text": [
      "(5734, 5)\n"
     ]
    }
   ],
   "source": [
    "print((pyspark_df.count(), len(pyspark_df.columns)))"
   ]
  },
  {
   "cell_type": "code",
   "execution_count": 33,
   "metadata": {
    "tags": []
   },
   "outputs": [],
   "source": [
    "from pyspark.ml.functions import vector_to_array"
   ]
  },
  {
   "cell_type": "code",
   "execution_count": 32,
   "metadata": {
    "tags": []
   },
   "outputs": [
    {
     "ename": "ImportError",
     "evalue": "cannot import name 'vector_to_array' from 'pyspark.sql.functions' (/home/jovyan/glucose-data-analysis/glucose_venv/lib/python3.10/site-packages/pyspark/sql/functions.py)",
     "output_type": "error",
     "traceback": [
      "\u001b[0;31m---------------------------------------------------------------------------\u001b[0m",
      "\u001b[0;31mImportError\u001b[0m                               Traceback (most recent call last)",
      "Cell \u001b[0;32mIn[32], line 1\u001b[0m\n\u001b[0;32m----> 1\u001b[0m \u001b[38;5;28;01mfrom\u001b[39;00m \u001b[38;5;21;01mpyspark\u001b[39;00m\u001b[38;5;21;01m.\u001b[39;00m\u001b[38;5;21;01msql\u001b[39;00m\u001b[38;5;21;01m.\u001b[39;00m\u001b[38;5;21;01mfunctions\u001b[39;00m \u001b[38;5;28;01mimport\u001b[39;00m date_trunc, col, udf, vector_to_array\n\u001b[1;32m      2\u001b[0m pyspark_df\u001b[38;5;241m=\u001b[39mpyspark_df\u001b[38;5;241m.\u001b[39mwithColumn(\u001b[38;5;124m\"\u001b[39m\u001b[38;5;124mGlucoseDisplayTime\u001b[39m\u001b[38;5;124m\"\u001b[39m, date_trunc(\u001b[38;5;124m\"\u001b[39m\u001b[38;5;124mminute\u001b[39m\u001b[38;5;124m\"\u001b[39m, col(\u001b[38;5;124m\"\u001b[39m\u001b[38;5;124mGlucoseDisplayTime\u001b[39m\u001b[38;5;124m\"\u001b[39m)))\n",
      "\u001b[0;31mImportError\u001b[0m: cannot import name 'vector_to_array' from 'pyspark.sql.functions' (/home/jovyan/glucose-data-analysis/glucose_venv/lib/python3.10/site-packages/pyspark/sql/functions.py)"
     ]
    }
   ],
   "source": [
    "from pyspark.sql.functions import date_trunc, col, udf\n",
    "pyspark_df=pyspark_df.withColumn(\"GlucoseDisplayTime\", date_trunc(\"minute\", col(\"GlucoseDisplayTime\")))"
   ]
  },
  {
   "cell_type": "code",
   "execution_count": 7,
   "metadata": {
    "tags": []
   },
   "outputs": [],
   "source": [
    "pyspark_df=pyspark_df.distinct()"
   ]
  },
  {
   "cell_type": "code",
   "execution_count": 8,
   "metadata": {
    "tags": []
   },
   "outputs": [
    {
     "name": "stderr",
     "output_type": "stream",
     "text": [
      "[Stage 4:>                                                          (0 + 1) / 1]\r"
     ]
    },
    {
     "name": "stdout",
     "output_type": "stream",
     "text": [
      "(5734, 5)\n"
     ]
    },
    {
     "name": "stderr",
     "output_type": "stream",
     "text": [
      "                                                                                \r"
     ]
    }
   ],
   "source": [
    "print((pyspark_df.count(), len(pyspark_df.columns)))"
   ]
  },
  {
   "cell_type": "code",
   "execution_count": 9,
   "metadata": {
    "tags": []
   },
   "outputs": [
    {
     "name": "stdout",
     "output_type": "stream",
     "text": [
      "+--------------------+-----+-------------------+---------------------+------------------+\n",
      "|           PatientId|Value| GlucoseDisplayTime|GlucoseDisplayTimeRaw|GlucoseDisplayDate|\n",
      "+--------------------+-----+-------------------+---------------------+------------------+\n",
      "|vH4j/sVPDk4luo9wf...|157.0|2022-12-28 02:52:00| 2022-12-28T02:52:...|        2022-12-28|\n",
      "+--------------------+-----+-------------------+---------------------+------------------+\n",
      "only showing top 1 row\n",
      "\n"
     ]
    }
   ],
   "source": [
    "pyspark_df.show(1)"
   ]
  },
  {
   "cell_type": "markdown",
   "metadata": {},
   "source": [
    "### 2. PySpark: Custom Imputation Pipeline"
   ]
  },
  {
   "cell_type": "code",
   "execution_count": 10,
   "metadata": {
    "tags": []
   },
   "outputs": [],
   "source": [
    "pyspark_df=pyspark_df.orderBy(\"PatientId\", \n",
    "                              \"GlucoseDisplayTime\",\n",
    "                              ascending=True)"
   ]
  },
  {
   "cell_type": "code",
   "execution_count": null,
   "metadata": {
    "tags": []
   },
   "outputs": [
    {
     "name": "stderr",
     "output_type": "stream",
     "text": [
      "/home/jovyan/glucose-data-analysis/glucose_venv/lib/python3.10/site-packages/pyspark/sql/pandas/group_ops.py:98: UserWarning: It is preferred to use 'applyInPandas' over this API. This API will be deprecated in the future releases. See SPARK-28264 for more details.\n",
      "  warnings.warn(\n"
     ]
    }
   ],
   "source": [
    "####### PySpark\n",
    "pyspark_custom_imputation_schema=pandas_udf_data_schema.custom_imputation_pyspark_schema()\n",
    "pyspark_custom_imputation_pipeline=pandas_sklearn_pipeline.pyspark_custom_imputation_pipeline(df=pyspark_df, \n",
    "                                                                                              output_schema=pyspark_custom_imputation_schema,\n",
    "                                                                                              analysis_group=analysis_group)\n"
   ]
  },
  {
   "cell_type": "code",
   "execution_count": null,
   "metadata": {
    "tags": []
   },
   "outputs": [
    {
     "name": "stderr",
     "output_type": "stream",
     "text": [
      "[Stage 24:>                                                         (0 + 1) / 1]\r"
     ]
    },
    {
     "name": "stdout",
     "output_type": "stream",
     "text": [
      "+-------------------+--------------------+-----+\n",
      "| GlucoseDisplayTime|           PatientId|Value|\n",
      "+-------------------+--------------------+-----+\n",
      "|2022-02-18 17:05:00|Zw997clFRcTAHrWiO...|260.0|\n",
      "+-------------------+--------------------+-----+\n",
      "only showing top 1 row\n",
      "\n"
     ]
    },
    {
     "name": "stderr",
     "output_type": "stream",
     "text": [
      "                                                                                \r"
     ]
    }
   ],
   "source": [
    "pyspark_custom_imputation_pipeline.show(1)"
   ]
  },
  {
   "cell_type": "markdown",
   "metadata": {},
   "source": [
    "### 3. PySpark: Adding Binary Labels"
   ]
  },
  {
   "cell_type": "code",
   "execution_count": null,
   "metadata": {
    "tags": []
   },
   "outputs": [
    {
     "name": "stderr",
     "output_type": "stream",
     "text": [
      "[Stage 36:>                                                         (0 + 1) / 1]\r"
     ]
    },
    {
     "name": "stdout",
     "output_type": "stream",
     "text": [
      "+-------------------+--------------------+-----+--------+\n",
      "| GlucoseDisplayTime|           PatientId|Value|y_Binary|\n",
      "+-------------------+--------------------+-----+--------+\n",
      "|2022-02-18 17:05:00|Zw997clFRcTAHrWiO...|260.0|       1|\n",
      "+-------------------+--------------------+-----+--------+\n",
      "only showing top 1 row\n",
      "\n"
     ]
    },
    {
     "name": "stderr",
     "output_type": "stream",
     "text": [
      "                                                                                \r"
     ]
    }
   ],
   "source": [
    "pyspark_df_added_binary_labels=create_binary_labels.pyspark_binary_labels(df=pyspark_custom_imputation_pipeline, \n",
    "                                                                          lower=daily_stats_features_lower, \n",
    "                                                                          upper=daily_stats_features_upper)\n",
    "\n",
    "pyspark_df_added_binary_labels.show(1)"
   ]
  },
  {
   "cell_type": "markdown",
   "metadata": {},
   "source": [
    "### 4. PySpark: Features: Summary Statistics"
   ]
  },
  {
   "cell_type": "code",
   "execution_count": null,
   "metadata": {
    "tags": []
   },
   "outputs": [],
   "source": [
    "####### PySpark\n",
    "pyspark_features_summary_stats=summary_stats_features.pyspark_summary_statistics(df=pyspark_df_added_binary_labels,\n",
    "                                                                                 daily_stats_features_lower=daily_stats_features_lower,\n",
    "                                                                                 daily_stats_features_upper=daily_stats_features_upper)\n",
    "\n"
   ]
  },
  {
   "cell_type": "code",
   "execution_count": null,
   "metadata": {
    "tags": []
   },
   "outputs": [
    {
     "name": "stderr",
     "output_type": "stream",
     "text": [
      "[Stage 58:>                                                         (0 + 1) / 1]\r"
     ]
    },
    {
     "name": "stdout",
     "output_type": "stream",
     "text": [
      "+--------------------+-----+-------------------+-----+--------+-----+----------------+------------------+-----------------+------+-----+-----+----------+----------+---------------+------------------+\n",
      "|           PatientId|Chunk| GlucoseDisplayTime|Value|y_Binary|index|y_summary_binary|              Mean|          Std Dev|Median|  Min|  Max|CountBelow|CountAbove|PercentageBelow|   PercentageAbove|\n",
      "+--------------------+-----+-------------------+-----+--------+-----+----------------+------------------+-----------------+------+-----+-----+----------+----------+---------------+------------------+\n",
      "|Zw997clFRcTAHrWiO...|    0|2022-02-18 17:55:00|271.0|       1|   11|               1|273.45454545454544|8.017027333914188| 272.0|260.0|284.0|         0|        11|            0.0|0.9166666666666666|\n",
      "+--------------------+-----+-------------------+-----+--------+-----+----------------+------------------+-----------------+------+-----+-----+----------+----------+---------------+------------------+\n",
      "only showing top 1 row\n",
      "\n"
     ]
    },
    {
     "name": "stderr",
     "output_type": "stream",
     "text": [
      "                                                                                \r"
     ]
    }
   ],
   "source": [
    "pyspark_features_summary_stats.show(1)"
   ]
  },
  {
   "cell_type": "markdown",
   "metadata": {},
   "source": [
    "### 5. PySpark: Wrapper Functions"
   ]
  },
  {
   "cell_type": "code",
   "execution_count": null,
   "metadata": {},
   "outputs": [],
   "source": []
  },
  {
   "cell_type": "markdown",
   "metadata": {},
   "source": [
    "### 6. PySpark: Lag Features"
   ]
  },
  {
   "cell_type": "code",
   "execution_count": null,
   "metadata": {
    "tags": []
   },
   "outputs": [
    {
     "name": "stdout",
     "output_type": "stream",
     "text": [
      "23/04/20 06:05:32 WARN package: Truncated the string representation of a plan since it was too large. This behavior can be adjusted by setting 'spark.sql.debug.maxToStringFields'.\n"
     ]
    },
    {
     "name": "stderr",
     "output_type": "stream",
     "text": [
      "[Stage 80:>                                                         (0 + 1) / 1]\r"
     ]
    },
    {
     "name": "stdout",
     "output_type": "stream",
     "text": [
      "+--------------------+-----+-------------------+-----+--------+-----+----------------+------------------+-----------------+------+-----+-----+----------+----------+---------------+------------------+-----------+------------------+-----------------+---------+---------+---------+-------------+-------------+---------------+------------------+-----------+------------------+-----------------+---------+---------+---------+-------------+-------------+---------------+------------------+\n",
      "|           PatientId|Chunk| GlucoseDisplayTime|Value|y_Binary|index|y_summary_binary|              Mean|          Std Dev|Median|  Min|  Max|CountBelow|CountAbove|PercentageBelow|   PercentageAbove|value_lag_1|        mean_lag_1|    std_dev_lag_1|med_lag_1|min_lag_1|max_lag_1|cnt_bel_lag_1|cnt_abv_lag_1|perc_belw_lag_1|    perc_abv_lag_1|value_lag_2|        mean_lag_2|    std_dev_lag_2|med_lag_2|min_lag_2|max_lag_2|cnt_bel_lag_2|cnt_abv_lag_2|perc_belw_lag_2|    perc_abv_lag_2|\n",
      "+--------------------+-----+-------------------+-----+--------+-----+----------------+------------------+-----------------+------+-----+-----+----------+----------+---------------+------------------+-----------+------------------+-----------------+---------+---------+---------+-------------+-------------+---------------+------------------+-----------+------------------+-----------------+---------+---------+---------+-------------+-------------+---------------+------------------+\n",
      "|Zw997clFRcTAHrWiO...|    0|2022-02-18 17:15:00|275.0|       1|    3|               1|273.45454545454544|8.017027333914188| 272.0|260.0|284.0|         0|        11|            0.0|0.9166666666666666|      266.0|273.45454545454544|8.017027333914188|    272.0|    260.0|    284.0|            0|           11|            0.0|0.9166666666666666|      260.0|273.45454545454544|8.017027333914188|    272.0|    260.0|    284.0|            0|           11|            0.0|0.9166666666666666|\n",
      "|Zw997clFRcTAHrWiO...|    0|2022-02-18 17:20:00|283.0|       1|    4|               1|273.45454545454544|8.017027333914188| 272.0|260.0|284.0|         0|        11|            0.0|0.9166666666666666|      275.0|273.45454545454544|8.017027333914188|    272.0|    260.0|    284.0|            0|           11|            0.0|0.9166666666666666|      266.0|273.45454545454544|8.017027333914188|    272.0|    260.0|    284.0|            0|           11|            0.0|0.9166666666666666|\n",
      "|Zw997clFRcTAHrWiO...|    0|2022-02-18 17:25:00|284.0|       1|    5|               1|273.45454545454544|8.017027333914188| 272.0|260.0|284.0|         0|        11|            0.0|0.9166666666666666|      283.0|273.45454545454544|8.017027333914188|    272.0|    260.0|    284.0|            0|           11|            0.0|0.9166666666666666|      275.0|273.45454545454544|8.017027333914188|    272.0|    260.0|    284.0|            0|           11|            0.0|0.9166666666666666|\n",
      "|Zw997clFRcTAHrWiO...|    0|2022-02-18 17:30:00|283.0|       1|    6|               1|273.45454545454544|8.017027333914188| 272.0|260.0|284.0|         0|        11|            0.0|0.9166666666666666|      284.0|273.45454545454544|8.017027333914188|    272.0|    260.0|    284.0|            0|           11|            0.0|0.9166666666666666|      283.0|273.45454545454544|8.017027333914188|    272.0|    260.0|    284.0|            0|           11|            0.0|0.9166666666666666|\n",
      "|Zw997clFRcTAHrWiO...|    0|2022-02-18 17:35:00|279.0|       1|    7|               1|273.45454545454544|8.017027333914188| 272.0|260.0|284.0|         0|        11|            0.0|0.9166666666666666|      283.0|273.45454545454544|8.017027333914188|    272.0|    260.0|    284.0|            0|           11|            0.0|0.9166666666666666|      284.0|273.45454545454544|8.017027333914188|    272.0|    260.0|    284.0|            0|           11|            0.0|0.9166666666666666|\n",
      "+--------------------+-----+-------------------+-----+--------+-----+----------------+------------------+-----------------+------+-----+-----+----------+----------+---------------+------------------+-----------+------------------+-----------------+---------+---------+---------+-------------+-------------+---------------+------------------+-----------+------------------+-----------------+---------+---------+---------+-------------+-------------+---------------+------------------+\n",
      "only showing top 5 rows\n",
      "\n"
     ]
    },
    {
     "name": "stderr",
     "output_type": "stream",
     "text": [
      "                                                                                \r"
     ]
    }
   ],
   "source": [
    "####### PySpark\n",
    "pyspark_lag_features_creation=create_lag_features.pyspark_lag_features(df=pyspark_features_summary_stats,\n",
    "                                                                       time_series_lag_values_created=time_series_lag_values_created)\n",
    "pyspark_lag_features_creation.show(5)"
   ]
  },
  {
   "cell_type": "markdown",
   "metadata": {},
   "source": [
    "### 8. PySpark: Sklearn Categorical Pipeline in PySpark"
   ]
  },
  {
   "cell_type": "code",
   "execution_count": null,
   "metadata": {},
   "outputs": [],
   "source": [
    "####### PySpark\n",
    "pyspark_categorical_schema=pandas_udf_data_schema.sklearn_pyspark_categorical_schema()\n",
    "pyspark_transformations_categorical=pandas_sklearn_pipeline.pyspark_sklearn_pipeline_categorical(df=pyspark_features_summary_stats, \n",
    "                                                                                                 output_schema=pyspark_categorical_schema,\n",
    "                                                                                                 analysis_group=analysis_group)\n",
    "pyspark_transformations_categorical.show(1)"
   ]
  },
  {
   "cell_type": "markdown",
   "metadata": {},
   "source": [
    "### 9. PySpark: Sklearn Numerical Pipeline in PySpark"
   ]
  },
  {
   "cell_type": "code",
   "execution_count": 26,
   "metadata": {},
   "outputs": [
    {
     "name": "stderr",
     "output_type": "stream",
     "text": [
      "[Stage 1020:>                                                       (0 + 1) / 1]\r"
     ]
    },
    {
     "name": "stdout",
     "output_type": "stream",
     "text": [
      "+--------------------+-----+-------------------+-----+--------+-----+----------------+------------------+-----------------+------+-----+-----+----------+----------+---------------+------------------+-----------+------------------+-----------------+---------+---------+---------+-------------+-------------+---------------+------------------+-----------+------------------+-----------------+---------+---------+---------+-------------+-------------+---------------+------------------+--------------------+-------------------+-------------+-------------------+-------------+---------------+-------------------+-------------+-------------+-------------------+--------------------+-------------+-------------+--------------------+--------------------+---------------+--------------------+----------------------+--------------------+--------------------+--------------------+--------------------+----------------------+--------------------+-------------------+--------------------+--------------------+-------------------+--------------------+---------------------+---------------------+--------------------+\n",
      "|           PatientId|Chunk| GlucoseDisplayTime|Value|y_Binary|index|y_summary_binary|              Mean|          Std Dev|Median|  Min|  Max|CountBelow|CountAbove|PercentageBelow|   PercentageAbove|value_lag_1|        mean_lag_1|    std_dev_lag_1|med_lag_1|min_lag_1|max_lag_1|cnt_bel_lag_1|cnt_abv_lag_1|perc_belw_lag_1|    perc_abv_lag_1|value_lag_2|        mean_lag_2|    std_dev_lag_2|med_lag_2|min_lag_2|max_lag_2|cnt_bel_lag_2|cnt_abv_lag_2|perc_belw_lag_2|    perc_abv_lag_2|      mean_lag_1_vec|perc_belw_lag_2_vec|med_lag_2_vec|  std_dev_lag_1_vec|min_lag_1_vec|value_lag_1_vec|perc_belw_lag_1_vec|med_lag_1_vec|max_lag_1_vec|  std_dev_lag_2_vec|      mean_lag_2_vec|max_lag_2_vec|min_lag_2_vec|  perc_abv_lag_2_vec|  perc_abv_lag_1_vec|value_lag_2_vec|   mean_lag_1_scaled|perc_belw_lag_2_scaled|    med_lag_2_scaled|std_dev_lag_1_scaled|    min_lag_1_scaled|  value_lag_1_scaled|perc_belw_lag_1_scaled|    med_lag_1_scaled|   max_lag_1_scaled|std_dev_lag_2_scaled|   mean_lag_2_scaled|   max_lag_2_scaled|    min_lag_2_scaled|perc_abv_lag_2_scaled|perc_abv_lag_1_scaled|  value_lag_2_scaled|\n",
      "+--------------------+-----+-------------------+-----+--------+-----+----------------+------------------+-----------------+------+-----+-----+----------+----------+---------------+------------------+-----------+------------------+-----------------+---------+---------+---------+-------------+-------------+---------------+------------------+-----------+------------------+-----------------+---------+---------+---------+-------------+-------------+---------------+------------------+--------------------+-------------------+-------------+-------------------+-------------+---------------+-------------------+-------------+-------------+-------------------+--------------------+-------------+-------------+--------------------+--------------------+---------------+--------------------+----------------------+--------------------+--------------------+--------------------+--------------------+----------------------+--------------------+-------------------+--------------------+--------------------+-------------------+--------------------+---------------------+---------------------+--------------------+\n",
      "|Zw997clFRcTAHrWiO...|    0|2022-02-18 17:15:00|275.0|       1|    3|               1|273.45454545454544|8.017027333914188| 272.0|260.0|284.0|         0|        11|            0.0|0.9166666666666666|      266.0|273.45454545454544|8.017027333914188|    272.0|    260.0|    284.0|            0|           11|            0.0|0.9166666666666666|      260.0|273.45454545454544|8.017027333914188|    272.0|    260.0|    284.0|            0|           11|            0.0|0.9166666666666666|[273.45454545454544]|              [0.0]|      [272.0]|[8.017027333914188]|      [260.0]|        [266.0]|              [0.0]|      [272.0]|      [284.0]|[8.017027333914188]|[273.45454545454544]|      [284.0]|      [260.0]|[0.9166666666666666]|[0.9166666666666666]|        [260.0]|[15.078201331644328]|                 [0.0]|[14.973374678319434]|  [3.79076378735449]|[14.389351676962718]|[14.574470099143936]|                 [0.0]|[14.973598230779592]|[15.26447970660592]| [3.790818102955339]|[15.077810817609206]|[15.26408812564875]|[14.388852410212348]| [1.8380882867131774]|  [1.838095053149909]|[14.245368752828021]|\n",
      "+--------------------+-----+-------------------+-----+--------+-----+----------------+------------------+-----------------+------+-----+-----+----------+----------+---------------+------------------+-----------+------------------+-----------------+---------+---------+---------+-------------+-------------+---------------+------------------+-----------+------------------+-----------------+---------+---------+---------+-------------+-------------+---------------+------------------+--------------------+-------------------+-------------+-------------------+-------------+---------------+-------------------+-------------+-------------+-------------------+--------------------+-------------+-------------+--------------------+--------------------+---------------+--------------------+----------------------+--------------------+--------------------+--------------------+--------------------+----------------------+--------------------+-------------------+--------------------+--------------------+-------------------+--------------------+---------------------+---------------------+--------------------+\n",
      "only showing top 1 row\n",
      "\n"
     ]
    },
    {
     "name": "stderr",
     "output_type": "stream",
     "text": [
      "                                                                                \r"
     ]
    }
   ],
   "source": [
    "####### PySpark\n",
    "pyspark_numerical_features=feature_transformations.numerical_scaling(df=pyspark_lag_features_creation)\n",
    "pyspark_numerical_features.show(1)"
   ]
  },
  {
   "cell_type": "markdown",
   "metadata": {},
   "source": [
    "### 11. PySpark: XGBoost Model"
   ]
  },
  {
   "cell_type": "code",
   "execution_count": 27,
   "metadata": {
    "tags": []
   },
   "outputs": [],
   "source": [
    "scaled_vals=pyspark_numerical_features.columns\n",
    "scaled_feats=[x for x in scaled_vals if \"scaled\" in x]\n",
    "\n"
   ]
  },
  {
   "cell_type": "code",
   "execution_count": 28,
   "metadata": {
    "tags": []
   },
   "outputs": [
    {
     "data": {
      "text/plain": [
       "['mean_lag_1_scaled',\n",
       " 'perc_belw_lag_2_scaled',\n",
       " 'med_lag_2_scaled',\n",
       " 'std_dev_lag_1_scaled',\n",
       " 'min_lag_1_scaled',\n",
       " 'value_lag_1_scaled',\n",
       " 'perc_belw_lag_1_scaled',\n",
       " 'med_lag_1_scaled',\n",
       " 'max_lag_1_scaled',\n",
       " 'std_dev_lag_2_scaled',\n",
       " 'mean_lag_2_scaled',\n",
       " 'max_lag_2_scaled',\n",
       " 'min_lag_2_scaled',\n",
       " 'perc_abv_lag_2_scaled',\n",
       " 'perc_abv_lag_1_scaled',\n",
       " 'value_lag_2_scaled']"
      ]
     },
     "execution_count": 28,
     "metadata": {},
     "output_type": "execute_result"
    }
   ],
   "source": [
    "scaled_feats"
   ]
  },
  {
   "cell_type": "code",
   "execution_count": 34,
   "metadata": {
    "tags": []
   },
   "outputs": [
    {
     "ename": "AnalysisException",
     "evalue": "Column 'perc_belw_lag_2_scaled' does not exist. Did you mean one of the following? [mean_lag_1_scaled];\n'Project [cast(UDF('perc_belw_lag_2_scaled)[0] as float) AS perc_belw_lag_2_scaled#18211]\n+- Project [cast(UDF(mean_lag_1_scaled#16805)[0] as float) AS mean_lag_1_scaled#18209]\n   +- Project [PatientId#65, Chunk#119, GlucoseDisplayTime#64, Value#66, y_Binary#83, index#107, y_summary_binary#133, Mean#135, Std Dev#145, Median#147, Min#149, Max#151, CountBelow#153L, CountAbove#155L, PercentageBelow#157, PercentageAbove#159, value_lag_1#376, mean_lag_1#394, std_dev_lag_1#413, med_lag_1#433, min_lag_1#454, max_lag_1#476, cnt_bel_lag_1#499L, cnt_abv_lag_1#523L, ... 44 more fields]\n      +- Project [PatientId#65, Chunk#119, GlucoseDisplayTime#64, Value#66, y_Binary#83, index#107, y_summary_binary#133, Mean#135, Std Dev#145, Median#147, Min#149, Max#151, CountBelow#153L, CountAbove#155L, PercentageBelow#157, PercentageAbove#159, value_lag_1#376, mean_lag_1#394, std_dev_lag_1#413, med_lag_1#433, min_lag_1#454, max_lag_1#476, cnt_bel_lag_1#499L, cnt_abv_lag_1#523L, ... 43 more fields]\n         +- Project [PatientId#65, Chunk#119, GlucoseDisplayTime#64, Value#66, y_Binary#83, index#107, y_summary_binary#133, Mean#135, Std Dev#145, Median#147, Min#149, Max#151, CountBelow#153L, CountAbove#155L, PercentageBelow#157, PercentageAbove#159, value_lag_1#376, mean_lag_1#394, std_dev_lag_1#413, med_lag_1#433, min_lag_1#454, max_lag_1#476, cnt_bel_lag_1#499L, cnt_abv_lag_1#523L, ... 42 more fields]\n            +- Project [PatientId#65, Chunk#119, GlucoseDisplayTime#64, Value#66, y_Binary#83, index#107, y_summary_binary#133, Mean#135, Std Dev#145, Median#147, Min#149, Max#151, CountBelow#153L, CountAbove#155L, PercentageBelow#157, PercentageAbove#159, value_lag_1#376, mean_lag_1#394, std_dev_lag_1#413, med_lag_1#433, min_lag_1#454, max_lag_1#476, cnt_bel_lag_1#499L, cnt_abv_lag_1#523L, ... 41 more fields]\n               +- Project [PatientId#65, Chunk#119, GlucoseDisplayTime#64, Value#66, y_Binary#83, index#107, y_summary_binary#133, Mean#135, Std Dev#145, Median#147, Min#149, Max#151, CountBelow#153L, CountAbove#155L, PercentageBelow#157, PercentageAbove#159, value_lag_1#376, mean_lag_1#394, std_dev_lag_1#413, med_lag_1#433, min_lag_1#454, max_lag_1#476, cnt_bel_lag_1#499L, cnt_abv_lag_1#523L, ... 40 more fields]\n                  +- Project [PatientId#65, Chunk#119, GlucoseDisplayTime#64, Value#66, y_Binary#83, index#107, y_summary_binary#133, Mean#135, Std Dev#145, Median#147, Min#149, Max#151, CountBelow#153L, CountAbove#155L, PercentageBelow#157, PercentageAbove#159, value_lag_1#376, mean_lag_1#394, std_dev_lag_1#413, med_lag_1#433, min_lag_1#454, max_lag_1#476, cnt_bel_lag_1#499L, cnt_abv_lag_1#523L, ... 39 more fields]\n                     +- Project [PatientId#65, Chunk#119, GlucoseDisplayTime#64, Value#66, y_Binary#83, index#107, y_summary_binary#133, Mean#135, Std Dev#145, Median#147, Min#149, Max#151, CountBelow#153L, CountAbove#155L, PercentageBelow#157, PercentageAbove#159, value_lag_1#376, mean_lag_1#394, std_dev_lag_1#413, med_lag_1#433, min_lag_1#454, max_lag_1#476, cnt_bel_lag_1#499L, cnt_abv_lag_1#523L, ... 38 more fields]\n                        +- Project [PatientId#65, Chunk#119, GlucoseDisplayTime#64, Value#66, y_Binary#83, index#107, y_summary_binary#133, Mean#135, Std Dev#145, Median#147, Min#149, Max#151, CountBelow#153L, CountAbove#155L, PercentageBelow#157, PercentageAbove#159, value_lag_1#376, mean_lag_1#394, std_dev_lag_1#413, med_lag_1#433, min_lag_1#454, max_lag_1#476, cnt_bel_lag_1#499L, cnt_abv_lag_1#523L, ... 37 more fields]\n                           +- Project [PatientId#65, Chunk#119, GlucoseDisplayTime#64, Value#66, y_Binary#83, index#107, y_summary_binary#133, Mean#135, Std Dev#145, Median#147, Min#149, Max#151, CountBelow#153L, CountAbove#155L, PercentageBelow#157, PercentageAbove#159, value_lag_1#376, mean_lag_1#394, std_dev_lag_1#413, med_lag_1#433, min_lag_1#454, max_lag_1#476, cnt_bel_lag_1#499L, cnt_abv_lag_1#523L, ... 36 more fields]\n                              +- Project [PatientId#65, Chunk#119, GlucoseDisplayTime#64, Value#66, y_Binary#83, index#107, y_summary_binary#133, Mean#135, Std Dev#145, Median#147, Min#149, Max#151, CountBelow#153L, CountAbove#155L, PercentageBelow#157, PercentageAbove#159, value_lag_1#376, mean_lag_1#394, std_dev_lag_1#413, med_lag_1#433, min_lag_1#454, max_lag_1#476, cnt_bel_lag_1#499L, cnt_abv_lag_1#523L, ... 35 more fields]\n                                 +- Project [PatientId#65, Chunk#119, GlucoseDisplayTime#64, Value#66, y_Binary#83, index#107, y_summary_binary#133, Mean#135, Std Dev#145, Median#147, Min#149, Max#151, CountBelow#153L, CountAbove#155L, PercentageBelow#157, PercentageAbove#159, value_lag_1#376, mean_lag_1#394, std_dev_lag_1#413, med_lag_1#433, min_lag_1#454, max_lag_1#476, cnt_bel_lag_1#499L, cnt_abv_lag_1#523L, ... 34 more fields]\n                                    +- Project [PatientId#65, Chunk#119, GlucoseDisplayTime#64, Value#66, y_Binary#83, index#107, y_summary_binary#133, Mean#135, Std Dev#145, Median#147, Min#149, Max#151, CountBelow#153L, CountAbove#155L, PercentageBelow#157, PercentageAbove#159, value_lag_1#376, mean_lag_1#394, std_dev_lag_1#413, med_lag_1#433, min_lag_1#454, max_lag_1#476, cnt_bel_lag_1#499L, cnt_abv_lag_1#523L, ... 33 more fields]\n                                       +- Project [PatientId#65, Chunk#119, GlucoseDisplayTime#64, Value#66, y_Binary#83, index#107, y_summary_binary#133, Mean#135, Std Dev#145, Median#147, Min#149, Max#151, CountBelow#153L, CountAbove#155L, PercentageBelow#157, PercentageAbove#159, value_lag_1#376, mean_lag_1#394, std_dev_lag_1#413, med_lag_1#433, min_lag_1#454, max_lag_1#476, cnt_bel_lag_1#499L, cnt_abv_lag_1#523L, ... 32 more fields]\n                                          +- Project [PatientId#65, Chunk#119, GlucoseDisplayTime#64, Value#66, y_Binary#83, index#107, y_summary_binary#133, Mean#135, Std Dev#145, Median#147, Min#149, Max#151, CountBelow#153L, CountAbove#155L, PercentageBelow#157, PercentageAbove#159, value_lag_1#376, mean_lag_1#394, std_dev_lag_1#413, med_lag_1#433, min_lag_1#454, max_lag_1#476, cnt_bel_lag_1#499L, cnt_abv_lag_1#523L, ... 31 more fields]\n                                             +- Project [PatientId#65, Chunk#119, GlucoseDisplayTime#64, Value#66, y_Binary#83, index#107, y_summary_binary#133, Mean#135, Std Dev#145, Median#147, Min#149, Max#151, CountBelow#153L, CountAbove#155L, PercentageBelow#157, PercentageAbove#159, value_lag_1#376, mean_lag_1#394, std_dev_lag_1#413, med_lag_1#433, min_lag_1#454, max_lag_1#476, cnt_bel_lag_1#499L, cnt_abv_lag_1#523L, ... 30 more fields]\n                                                +- Project [PatientId#65, Chunk#119, GlucoseDisplayTime#64, Value#66, y_Binary#83, index#107, y_summary_binary#133, Mean#135, Std Dev#145, Median#147, Min#149, Max#151, CountBelow#153L, CountAbove#155L, PercentageBelow#157, PercentageAbove#159, value_lag_1#376, mean_lag_1#394, std_dev_lag_1#413, med_lag_1#433, min_lag_1#454, max_lag_1#476, cnt_bel_lag_1#499L, cnt_abv_lag_1#523L, ... 29 more fields]\n                                                   +- Project [PatientId#65, Chunk#119, GlucoseDisplayTime#64, Value#66, y_Binary#83, index#107, y_summary_binary#133, Mean#135, Std Dev#145, Median#147, Min#149, Max#151, CountBelow#153L, CountAbove#155L, PercentageBelow#157, PercentageAbove#159, value_lag_1#376, mean_lag_1#394, std_dev_lag_1#413, med_lag_1#433, min_lag_1#454, max_lag_1#476, cnt_bel_lag_1#499L, cnt_abv_lag_1#523L, ... 28 more fields]\n                                                      +- Project [PatientId#65, Chunk#119, GlucoseDisplayTime#64, Value#66, y_Binary#83, index#107, y_summary_binary#133, Mean#135, Std Dev#145, Median#147, Min#149, Max#151, CountBelow#153L, CountAbove#155L, PercentageBelow#157, PercentageAbove#159, value_lag_1#376, mean_lag_1#394, std_dev_lag_1#413, med_lag_1#433, min_lag_1#454, max_lag_1#476, cnt_bel_lag_1#499L, cnt_abv_lag_1#523L, ... 27 more fields]\n                                                         +- Project [PatientId#65, Chunk#119, GlucoseDisplayTime#64, Value#66, y_Binary#83, index#107, y_summary_binary#133, Mean#135, Std Dev#145, Median#147, Min#149, Max#151, CountBelow#153L, CountAbove#155L, PercentageBelow#157, PercentageAbove#159, value_lag_1#376, mean_lag_1#394, std_dev_lag_1#413, med_lag_1#433, min_lag_1#454, max_lag_1#476, cnt_bel_lag_1#499L, cnt_abv_lag_1#523L, ... 26 more fields]\n                                                            +- Project [PatientId#65, Chunk#119, GlucoseDisplayTime#64, Value#66, y_Binary#83, index#107, y_summary_binary#133, Mean#135, Std Dev#145, Median#147, Min#149, Max#151, CountBelow#153L, CountAbove#155L, PercentageBelow#157, PercentageAbove#159, value_lag_1#376, mean_lag_1#394, std_dev_lag_1#413, med_lag_1#433, min_lag_1#454, max_lag_1#476, cnt_bel_lag_1#499L, cnt_abv_lag_1#523L, ... 25 more fields]\n                                                               +- Project [PatientId#65, Chunk#119, GlucoseDisplayTime#64, Value#66, y_Binary#83, index#107, y_summary_binary#133, Mean#135, Std Dev#145, Median#147, Min#149, Max#151, CountBelow#153L, CountAbove#155L, PercentageBelow#157, PercentageAbove#159, value_lag_1#376, mean_lag_1#394, std_dev_lag_1#413, med_lag_1#433, min_lag_1#454, max_lag_1#476, cnt_bel_lag_1#499L, cnt_abv_lag_1#523L, ... 24 more fields]\n                                                                  +- Project [PatientId#65, Chunk#119, GlucoseDisplayTime#64, Value#66, y_Binary#83, index#107, y_summary_binary#133, Mean#135, Std Dev#145, Median#147, Min#149, Max#151, CountBelow#153L, CountAbove#155L, PercentageBelow#157, PercentageAbove#159, value_lag_1#376, mean_lag_1#394, std_dev_lag_1#413, med_lag_1#433, min_lag_1#454, max_lag_1#476, cnt_bel_lag_1#499L, cnt_abv_lag_1#523L, ... 23 more fields]\n                                                                     +- Project [PatientId#65, Chunk#119, GlucoseDisplayTime#64, Value#66, y_Binary#83, index#107, y_summary_binary#133, Mean#135, Std Dev#145, Median#147, Min#149, Max#151, CountBelow#153L, CountAbove#155L, PercentageBelow#157, PercentageAbove#159, value_lag_1#376, mean_lag_1#394, std_dev_lag_1#413, med_lag_1#433, min_lag_1#454, max_lag_1#476, cnt_bel_lag_1#499L, cnt_abv_lag_1#523L, ... 22 more fields]\n                                                                        +- Project [PatientId#65, Chunk#119, GlucoseDisplayTime#64, Value#66, y_Binary#83, index#107, y_summary_binary#133, Mean#135, Std Dev#145, Median#147, Min#149, Max#151, CountBelow#153L, CountAbove#155L, PercentageBelow#157, PercentageAbove#159, value_lag_1#376, mean_lag_1#394, std_dev_lag_1#413, med_lag_1#433, min_lag_1#454, max_lag_1#476, cnt_bel_lag_1#499L, cnt_abv_lag_1#523L, ... 21 more fields]\n                                                                           +- Project [PatientId#65, Chunk#119, GlucoseDisplayTime#64, Value#66, y_Binary#83, index#107, y_summary_binary#133, Mean#135, Std Dev#145, Median#147, Min#149, Max#151, CountBelow#153L, CountAbove#155L, PercentageBelow#157, PercentageAbove#159, value_lag_1#376, mean_lag_1#394, std_dev_lag_1#413, med_lag_1#433, min_lag_1#454, max_lag_1#476, cnt_bel_lag_1#499L, cnt_abv_lag_1#523L, ... 20 more fields]\n                                                                              +- Project [PatientId#65, Chunk#119, GlucoseDisplayTime#64, Value#66, y_Binary#83, index#107, y_summary_binary#133, Mean#135, Std Dev#145, Median#147, Min#149, Max#151, CountBelow#153L, CountAbove#155L, PercentageBelow#157, PercentageAbove#159, value_lag_1#376, mean_lag_1#394, std_dev_lag_1#413, med_lag_1#433, min_lag_1#454, max_lag_1#476, cnt_bel_lag_1#499L, cnt_abv_lag_1#523L, ... 19 more fields]\n                                                                                 +- Project [PatientId#65, Chunk#119, GlucoseDisplayTime#64, Value#66, y_Binary#83, index#107, y_summary_binary#133, Mean#135, Std Dev#145, Median#147, Min#149, Max#151, CountBelow#153L, CountAbove#155L, PercentageBelow#157, PercentageAbove#159, value_lag_1#376, mean_lag_1#394, std_dev_lag_1#413, med_lag_1#433, min_lag_1#454, max_lag_1#476, cnt_bel_lag_1#499L, cnt_abv_lag_1#523L, ... 18 more fields]\n                                                                                    +- Project [PatientId#65, Chunk#119, GlucoseDisplayTime#64, Value#66, y_Binary#83, index#107, y_summary_binary#133, Mean#135, Std Dev#145, Median#147, Min#149, Max#151, CountBelow#153L, CountAbove#155L, PercentageBelow#157, PercentageAbove#159, value_lag_1#376, mean_lag_1#394, std_dev_lag_1#413, med_lag_1#433, min_lag_1#454, max_lag_1#476, cnt_bel_lag_1#499L, cnt_abv_lag_1#523L, ... 17 more fields]\n                                                                                       +- Project [PatientId#65, Chunk#119, GlucoseDisplayTime#64, Value#66, y_Binary#83, index#107, y_summary_binary#133, Mean#135, Std Dev#145, Median#147, Min#149, Max#151, CountBelow#153L, CountAbove#155L, PercentageBelow#157, PercentageAbove#159, value_lag_1#376, mean_lag_1#394, std_dev_lag_1#413, med_lag_1#433, min_lag_1#454, max_lag_1#476, cnt_bel_lag_1#499L, cnt_abv_lag_1#523L, ... 16 more fields]\n                                                                                          +- Project [PatientId#65, Chunk#119, GlucoseDisplayTime#64, Value#66, y_Binary#83, index#107, y_summary_binary#133, Mean#135, Std Dev#145, Median#147, Min#149, Max#151, CountBelow#153L, CountAbove#155L, PercentageBelow#157, PercentageAbove#159, value_lag_1#376, mean_lag_1#394, std_dev_lag_1#413, med_lag_1#433, min_lag_1#454, max_lag_1#476, cnt_bel_lag_1#499L, cnt_abv_lag_1#523L, ... 15 more fields]\n                                                                                             +- Project [PatientId#65, Chunk#119, GlucoseDisplayTime#64, Value#66, y_Binary#83, index#107, y_summary_binary#133, Mean#135, Std Dev#145, Median#147, Min#149, Max#151, CountBelow#153L, CountAbove#155L, PercentageBelow#157, PercentageAbove#159, value_lag_1#376, mean_lag_1#394, std_dev_lag_1#413, med_lag_1#433, min_lag_1#454, max_lag_1#476, cnt_bel_lag_1#499L, cnt_abv_lag_1#523L, ... 14 more fields]\n                                                                                                +- Project [PatientId#65, Chunk#119, GlucoseDisplayTime#64, Value#66, y_Binary#83, index#107, y_summary_binary#133, Mean#135, Std Dev#145, Median#147, Min#149, Max#151, CountBelow#153L, CountAbove#155L, PercentageBelow#157, PercentageAbove#159, value_lag_1#376, mean_lag_1#394, std_dev_lag_1#413, med_lag_1#433, min_lag_1#454, max_lag_1#476, cnt_bel_lag_1#499L, cnt_abv_lag_1#523L, ... 13 more fields]\n                                                                                                   +- Filter atleastnnonnulls(36, PatientId#65, Chunk#119, GlucoseDisplayTime#64, Value#66, y_Binary#83, index#107, y_summary_binary#133, Mean#135, Std Dev#145, Median#147, Min#149, Max#151, CountBelow#153L, CountAbove#155L, PercentageBelow#157, PercentageAbove#159, value_lag_1#376, mean_lag_1#394, std_dev_lag_1#413, med_lag_1#433, min_lag_1#454, max_lag_1#476, cnt_bel_lag_1#499L, ... 13 more fields)\n                                                                                                      +- Project [PatientId#65, Chunk#119, GlucoseDisplayTime#64, Value#66, y_Binary#83, index#107, y_summary_binary#133, Mean#135, Std Dev#145, Median#147, Min#149, Max#151, CountBelow#153L, CountAbove#155L, PercentageBelow#157, PercentageAbove#159, value_lag_1#376, mean_lag_1#394, std_dev_lag_1#413, med_lag_1#433, min_lag_1#454, max_lag_1#476, cnt_bel_lag_1#499L, cnt_abv_lag_1#523L, ... 12 more fields]\n                                                                                                         +- Project [PatientId#65, Chunk#119, GlucoseDisplayTime#64, Value#66, y_Binary#83, index#107, y_summary_binary#133, Mean#135, Std Dev#145, Median#147, Min#149, Max#151, CountBelow#153L, CountAbove#155L, PercentageBelow#157, PercentageAbove#159, value_lag_1#376, mean_lag_1#394, std_dev_lag_1#413, med_lag_1#433, min_lag_1#454, max_lag_1#476, cnt_bel_lag_1#499L, cnt_abv_lag_1#523L, ... 13 more fields]\n                                                                                                            +- Window [lag(PercentageAbove#159, -2, null) windowspecdefinition(PatientId#65, GlucoseDisplayTime#64 ASC NULLS FIRST, specifiedwindowframe(RowFrame, -2, -2)) AS perc_abv_lag_2#889], [PatientId#65], [GlucoseDisplayTime#64 ASC NULLS FIRST]\n                                                                                                               +- Project [PatientId#65, Chunk#119, GlucoseDisplayTime#64, Value#66, y_Binary#83, index#107, y_summary_binary#133, Mean#135, Std Dev#145, Median#147, Min#149, Max#151, CountBelow#153L, CountAbove#155L, PercentageBelow#157, PercentageAbove#159, value_lag_1#376, mean_lag_1#394, std_dev_lag_1#413, med_lag_1#433, min_lag_1#454, max_lag_1#476, cnt_bel_lag_1#499L, cnt_abv_lag_1#523L, ... 11 more fields]\n                                                                                                                  +- Project [PatientId#65, Chunk#119, GlucoseDisplayTime#64, Value#66, y_Binary#83, index#107, y_summary_binary#133, Mean#135, Std Dev#145, Median#147, Min#149, Max#151, CountBelow#153L, CountAbove#155L, PercentageBelow#157, PercentageAbove#159, value_lag_1#376, mean_lag_1#394, std_dev_lag_1#413, med_lag_1#433, min_lag_1#454, max_lag_1#476, cnt_bel_lag_1#499L, cnt_abv_lag_1#523L, ... 11 more fields]\n                                                                                                                     +- Project [PatientId#65, Chunk#119, GlucoseDisplayTime#64, Value#66, y_Binary#83, index#107, y_summary_binary#133, Mean#135, Std Dev#145, Median#147, Min#149, Max#151, CountBelow#153L, CountAbove#155L, PercentageBelow#157, PercentageAbove#159, value_lag_1#376, mean_lag_1#394, std_dev_lag_1#413, med_lag_1#433, min_lag_1#454, max_lag_1#476, cnt_bel_lag_1#499L, cnt_abv_lag_1#523L, ... 12 more fields]\n                                                                                                                        +- Window [lag(PercentageBelow#157, -2, null) windowspecdefinition(PatientId#65, GlucoseDisplayTime#64 ASC NULLS FIRST, specifiedwindowframe(RowFrame, -2, -2)) AS perc_belw_lag_2#853], [PatientId#65], [GlucoseDisplayTime#64 ASC NULLS FIRST]\n                                                                                                                           +- Project [PatientId#65, Chunk#119, GlucoseDisplayTime#64, Value#66, y_Binary#83, index#107, y_summary_binary#133, Mean#135, Std Dev#145, Median#147, Min#149, Max#151, CountBelow#153L, CountAbove#155L, PercentageBelow#157, PercentageAbove#159, value_lag_1#376, mean_lag_1#394, std_dev_lag_1#413, med_lag_1#433, min_lag_1#454, max_lag_1#476, cnt_bel_lag_1#499L, cnt_abv_lag_1#523L, ... 10 more fields]\n                                                                                                                              +- Project [PatientId#65, Chunk#119, GlucoseDisplayTime#64, Value#66, y_Binary#83, index#107, y_summary_binary#133, Mean#135, Std Dev#145, Median#147, Min#149, Max#151, CountBelow#153L, CountAbove#155L, PercentageBelow#157, PercentageAbove#159, value_lag_1#376, mean_lag_1#394, std_dev_lag_1#413, med_lag_1#433, min_lag_1#454, max_lag_1#476, cnt_bel_lag_1#499L, cnt_abv_lag_1#523L, ... 10 more fields]\n                                                                                                                                 +- Project [PatientId#65, Chunk#119, GlucoseDisplayTime#64, Value#66, y_Binary#83, index#107, y_summary_binary#133, Mean#135, Std Dev#145, Median#147, Min#149, Max#151, CountBelow#153L, CountAbove#155L, PercentageBelow#157, PercentageAbove#159, value_lag_1#376, mean_lag_1#394, std_dev_lag_1#413, med_lag_1#433, min_lag_1#454, max_lag_1#476, cnt_bel_lag_1#499L, cnt_abv_lag_1#523L, ... 11 more fields]\n                                                                                                                                    +- Window [lag(CountAbove#155L, -2, null) windowspecdefinition(PatientId#65, GlucoseDisplayTime#64 ASC NULLS FIRST, specifiedwindowframe(RowFrame, -2, -2)) AS cnt_abv_lag_2#818L], [PatientId#65], [GlucoseDisplayTime#64 ASC NULLS FIRST]\n                                                                                                                                       +- Project [PatientId#65, Chunk#119, GlucoseDisplayTime#64, Value#66, y_Binary#83, index#107, y_summary_binary#133, Mean#135, Std Dev#145, Median#147, Min#149, Max#151, CountBelow#153L, CountAbove#155L, PercentageBelow#157, PercentageAbove#159, value_lag_1#376, mean_lag_1#394, std_dev_lag_1#413, med_lag_1#433, min_lag_1#454, max_lag_1#476, cnt_bel_lag_1#499L, cnt_abv_lag_1#523L, ... 9 more fields]\n                                                                                                                                          +- Project [PatientId#65, Chunk#119, GlucoseDisplayTime#64, Value#66, y_Binary#83, index#107, y_summary_binary#133, Mean#135, Std Dev#145, Median#147, Min#149, Max#151, CountBelow#153L, CountAbove#155L, PercentageBelow#157, PercentageAbove#159, value_lag_1#376, mean_lag_1#394, std_dev_lag_1#413, med_lag_1#433, min_lag_1#454, max_lag_1#476, cnt_bel_lag_1#499L, cnt_abv_lag_1#523L, ... 9 more fields]\n                                                                                                                                             +- Project [PatientId#65, Chunk#119, GlucoseDisplayTime#64, Value#66, y_Binary#83, index#107, y_summary_binary#133, Mean#135, Std Dev#145, Median#147, Min#149, Max#151, CountBelow#153L, CountAbove#155L, PercentageBelow#157, PercentageAbove#159, value_lag_1#376, mean_lag_1#394, std_dev_lag_1#413, med_lag_1#433, min_lag_1#454, max_lag_1#476, cnt_bel_lag_1#499L, cnt_abv_lag_1#523L, ... 10 more fields]\n                                                                                                                                                +- Window [lag(CountBelow#153L, -2, null) windowspecdefinition(PatientId#65, GlucoseDisplayTime#64 ASC NULLS FIRST, specifiedwindowframe(RowFrame, -2, -2)) AS cnt_bel_lag_2#784L], [PatientId#65], [GlucoseDisplayTime#64 ASC NULLS FIRST]\n                                                                                                                                                   +- Project [PatientId#65, Chunk#119, GlucoseDisplayTime#64, Value#66, y_Binary#83, index#107, y_summary_binary#133, Mean#135, Std Dev#145, Median#147, Min#149, Max#151, CountBelow#153L, CountAbove#155L, PercentageBelow#157, PercentageAbove#159, value_lag_1#376, mean_lag_1#394, std_dev_lag_1#413, med_lag_1#433, min_lag_1#454, max_lag_1#476, cnt_bel_lag_1#499L, cnt_abv_lag_1#523L, ... 8 more fields]\n                                                                                                                                                      +- Project [PatientId#65, Chunk#119, GlucoseDisplayTime#64, Value#66, y_Binary#83, index#107, y_summary_binary#133, Mean#135, Std Dev#145, Median#147, Min#149, Max#151, CountBelow#153L, CountAbove#155L, PercentageBelow#157, PercentageAbove#159, value_lag_1#376, mean_lag_1#394, std_dev_lag_1#413, med_lag_1#433, min_lag_1#454, max_lag_1#476, cnt_bel_lag_1#499L, cnt_abv_lag_1#523L, ... 8 more fields]\n                                                                                                                                                         +- Project [PatientId#65, Chunk#119, GlucoseDisplayTime#64, Value#66, y_Binary#83, index#107, y_summary_binary#133, Mean#135, Std Dev#145, Median#147, Min#149, Max#151, CountBelow#153L, CountAbove#155L, PercentageBelow#157, PercentageAbove#159, value_lag_1#376, mean_lag_1#394, std_dev_lag_1#413, med_lag_1#433, min_lag_1#454, max_lag_1#476, cnt_bel_lag_1#499L, cnt_abv_lag_1#523L, ... 9 more fields]\n                                                                                                                                                            +- Window [lag(Max#151, -2, null) windowspecdefinition(PatientId#65, GlucoseDisplayTime#64 ASC NULLS FIRST, specifiedwindowframe(RowFrame, -2, -2)) AS max_lag_2#751], [PatientId#65], [GlucoseDisplayTime#64 ASC NULLS FIRST]\n                                                                                                                                                               +- Project [PatientId#65, Chunk#119, GlucoseDisplayTime#64, Value#66, y_Binary#83, index#107, y_summary_binary#133, Mean#135, Std Dev#145, Median#147, Min#149, Max#151, CountBelow#153L, CountAbove#155L, PercentageBelow#157, PercentageAbove#159, value_lag_1#376, mean_lag_1#394, std_dev_lag_1#413, med_lag_1#433, min_lag_1#454, max_lag_1#476, cnt_bel_lag_1#499L, cnt_abv_lag_1#523L, ... 7 more fields]\n                                                                                                                                                                  +- Project [PatientId#65, Chunk#119, GlucoseDisplayTime#64, Value#66, y_Binary#83, index#107, y_summary_binary#133, Mean#135, Std Dev#145, Median#147, Min#149, Max#151, CountBelow#153L, CountAbove#155L, PercentageBelow#157, PercentageAbove#159, value_lag_1#376, mean_lag_1#394, std_dev_lag_1#413, med_lag_1#433, min_lag_1#454, max_lag_1#476, cnt_bel_lag_1#499L, cnt_abv_lag_1#523L, ... 7 more fields]\n                                                                                                                                                                     +- Project [PatientId#65, Chunk#119, GlucoseDisplayTime#64, Value#66, y_Binary#83, index#107, y_summary_binary#133, Mean#135, Std Dev#145, Median#147, Min#149, Max#151, CountBelow#153L, CountAbove#155L, PercentageBelow#157, PercentageAbove#159, value_lag_1#376, mean_lag_1#394, std_dev_lag_1#413, med_lag_1#433, min_lag_1#454, max_lag_1#476, cnt_bel_lag_1#499L, cnt_abv_lag_1#523L, ... 8 more fields]\n                                                                                                                                                                        +- Window [lag(Min#149, -2, null) windowspecdefinition(PatientId#65, GlucoseDisplayTime#64 ASC NULLS FIRST, specifiedwindowframe(RowFrame, -2, -2)) AS min_lag_2#719], [PatientId#65], [GlucoseDisplayTime#64 ASC NULLS FIRST]\n                                                                                                                                                                           +- Project [PatientId#65, Chunk#119, GlucoseDisplayTime#64, Value#66, y_Binary#83, index#107, y_summary_binary#133, Mean#135, Std Dev#145, Median#147, Min#149, Max#151, CountBelow#153L, CountAbove#155L, PercentageBelow#157, PercentageAbove#159, value_lag_1#376, mean_lag_1#394, std_dev_lag_1#413, med_lag_1#433, min_lag_1#454, max_lag_1#476, cnt_bel_lag_1#499L, cnt_abv_lag_1#523L, ... 6 more fields]\n                                                                                                                                                                              +- Project [PatientId#65, Chunk#119, GlucoseDisplayTime#64, Value#66, y_Binary#83, index#107, y_summary_binary#133, Mean#135, Std Dev#145, Median#147, Min#149, Max#151, CountBelow#153L, CountAbove#155L, PercentageBelow#157, PercentageAbove#159, value_lag_1#376, mean_lag_1#394, std_dev_lag_1#413, med_lag_1#433, min_lag_1#454, max_lag_1#476, cnt_bel_lag_1#499L, cnt_abv_lag_1#523L, ... 6 more fields]\n                                                                                                                                                                                 +- Project [PatientId#65, Chunk#119, GlucoseDisplayTime#64, Value#66, y_Binary#83, index#107, y_summary_binary#133, Mean#135, Std Dev#145, Median#147, Min#149, Max#151, CountBelow#153L, CountAbove#155L, PercentageBelow#157, PercentageAbove#159, value_lag_1#376, mean_lag_1#394, std_dev_lag_1#413, med_lag_1#433, min_lag_1#454, max_lag_1#476, cnt_bel_lag_1#499L, cnt_abv_lag_1#523L, ... 7 more fields]\n                                                                                                                                                                                    +- Window [lag(Median#147, -2, null) windowspecdefinition(PatientId#65, GlucoseDisplayTime#64 ASC NULLS FIRST, specifiedwindowframe(RowFrame, -2, -2)) AS med_lag_2#688], [PatientId#65], [GlucoseDisplayTime#64 ASC NULLS FIRST]\n                                                                                                                                                                                       +- Project [PatientId#65, Chunk#119, GlucoseDisplayTime#64, Value#66, y_Binary#83, index#107, y_summary_binary#133, Mean#135, Std Dev#145, Median#147, Min#149, Max#151, CountBelow#153L, CountAbove#155L, PercentageBelow#157, PercentageAbove#159, value_lag_1#376, mean_lag_1#394, std_dev_lag_1#413, med_lag_1#433, min_lag_1#454, max_lag_1#476, cnt_bel_lag_1#499L, cnt_abv_lag_1#523L, ... 5 more fields]\n                                                                                                                                                                                          +- Project [PatientId#65, Chunk#119, GlucoseDisplayTime#64, Value#66, y_Binary#83, index#107, y_summary_binary#133, Mean#135, Std Dev#145, Median#147, Min#149, Max#151, CountBelow#153L, CountAbove#155L, PercentageBelow#157, PercentageAbove#159, value_lag_1#376, mean_lag_1#394, std_dev_lag_1#413, med_lag_1#433, min_lag_1#454, max_lag_1#476, cnt_bel_lag_1#499L, cnt_abv_lag_1#523L, ... 5 more fields]\n                                                                                                                                                                                             +- Project [PatientId#65, Chunk#119, GlucoseDisplayTime#64, Value#66, y_Binary#83, index#107, y_summary_binary#133, Mean#135, Std Dev#145, Median#147, Min#149, Max#151, CountBelow#153L, CountAbove#155L, PercentageBelow#157, PercentageAbove#159, value_lag_1#376, mean_lag_1#394, std_dev_lag_1#413, med_lag_1#433, min_lag_1#454, max_lag_1#476, cnt_bel_lag_1#499L, cnt_abv_lag_1#523L, ... 6 more fields]\n                                                                                                                                                                                                +- Window [lag(Std Dev#145, -2, null) windowspecdefinition(PatientId#65, GlucoseDisplayTime#64 ASC NULLS FIRST, specifiedwindowframe(RowFrame, -2, -2)) AS std_dev_lag_2#658], [PatientId#65], [GlucoseDisplayTime#64 ASC NULLS FIRST]\n                                                                                                                                                                                                   +- Project [PatientId#65, Chunk#119, GlucoseDisplayTime#64, Value#66, y_Binary#83, index#107, y_summary_binary#133, Mean#135, Std Dev#145, Median#147, Min#149, Max#151, CountBelow#153L, CountAbove#155L, PercentageBelow#157, PercentageAbove#159, value_lag_1#376, mean_lag_1#394, std_dev_lag_1#413, med_lag_1#433, min_lag_1#454, max_lag_1#476, cnt_bel_lag_1#499L, cnt_abv_lag_1#523L, ... 4 more fields]\n                                                                                                                                                                                                      +- Project [PatientId#65, Chunk#119, GlucoseDisplayTime#64, Value#66, y_Binary#83, index#107, y_summary_binary#133, Mean#135, Std Dev#145, Median#147, Min#149, Max#151, CountBelow#153L, CountAbove#155L, PercentageBelow#157, PercentageAbove#159, value_lag_1#376, mean_lag_1#394, std_dev_lag_1#413, med_lag_1#433, min_lag_1#454, max_lag_1#476, cnt_bel_lag_1#499L, cnt_abv_lag_1#523L, ... 4 more fields]\n                                                                                                                                                                                                         +- Project [PatientId#65, Chunk#119, GlucoseDisplayTime#64, Value#66, y_Binary#83, index#107, y_summary_binary#133, Mean#135, Std Dev#145, Median#147, Min#149, Max#151, CountBelow#153L, CountAbove#155L, PercentageBelow#157, PercentageAbove#159, value_lag_1#376, mean_lag_1#394, std_dev_lag_1#413, med_lag_1#433, min_lag_1#454, max_lag_1#476, cnt_bel_lag_1#499L, cnt_abv_lag_1#523L, ... 5 more fields]\n                                                                                                                                                                                                            +- Window [lag(Mean#135, -2, null) windowspecdefinition(PatientId#65, GlucoseDisplayTime#64 ASC NULLS FIRST, specifiedwindowframe(RowFrame, -2, -2)) AS mean_lag_2#629], [PatientId#65], [GlucoseDisplayTime#64 ASC NULLS FIRST]\n                                                                                                                                                                                                               +- Project [PatientId#65, Chunk#119, GlucoseDisplayTime#64, Value#66, y_Binary#83, index#107, y_summary_binary#133, Mean#135, Std Dev#145, Median#147, Min#149, Max#151, CountBelow#153L, CountAbove#155L, PercentageBelow#157, PercentageAbove#159, value_lag_1#376, mean_lag_1#394, std_dev_lag_1#413, med_lag_1#433, min_lag_1#454, max_lag_1#476, cnt_bel_lag_1#499L, cnt_abv_lag_1#523L, ... 3 more fields]\n                                                                                                                                                                                                                  +- Project [PatientId#65, Chunk#119, GlucoseDisplayTime#64, Value#66, y_Binary#83, index#107, y_summary_binary#133, Mean#135, Std Dev#145, Median#147, Min#149, Max#151, CountBelow#153L, CountAbove#155L, PercentageBelow#157, PercentageAbove#159, value_lag_1#376, mean_lag_1#394, std_dev_lag_1#413, med_lag_1#433, min_lag_1#454, max_lag_1#476, cnt_bel_lag_1#499L, cnt_abv_lag_1#523L, ... 3 more fields]\n                                                                                                                                                                                                                     +- Project [PatientId#65, Chunk#119, GlucoseDisplayTime#64, Value#66, y_Binary#83, index#107, y_summary_binary#133, Mean#135, Std Dev#145, Median#147, Min#149, Max#151, CountBelow#153L, CountAbove#155L, PercentageBelow#157, PercentageAbove#159, value_lag_1#376, mean_lag_1#394, std_dev_lag_1#413, med_lag_1#433, min_lag_1#454, max_lag_1#476, cnt_bel_lag_1#499L, cnt_abv_lag_1#523L, ... 4 more fields]\n                                                                                                                                                                                                                        +- Window [lag(Value#66, -2, null) windowspecdefinition(PatientId#65, GlucoseDisplayTime#64 ASC NULLS FIRST, specifiedwindowframe(RowFrame, -2, -2)) AS value_lag_2#601], [PatientId#65], [GlucoseDisplayTime#64 ASC NULLS FIRST]\n                                                                                                                                                                                                                           +- Project [PatientId#65, Chunk#119, GlucoseDisplayTime#64, Value#66, y_Binary#83, index#107, y_summary_binary#133, Mean#135, Std Dev#145, Median#147, Min#149, Max#151, CountBelow#153L, CountAbove#155L, PercentageBelow#157, PercentageAbove#159, value_lag_1#376, mean_lag_1#394, std_dev_lag_1#413, med_lag_1#433, min_lag_1#454, max_lag_1#476, cnt_bel_lag_1#499L, cnt_abv_lag_1#523L, ... 2 more fields]\n                                                                                                                                                                                                                              +- Project [PatientId#65, Chunk#119, GlucoseDisplayTime#64, Value#66, y_Binary#83, index#107, y_summary_binary#133, Mean#135, Std Dev#145, Median#147, Min#149, Max#151, CountBelow#153L, CountAbove#155L, PercentageBelow#157, PercentageAbove#159, value_lag_1#376, mean_lag_1#394, std_dev_lag_1#413, med_lag_1#433, min_lag_1#454, max_lag_1#476, cnt_bel_lag_1#499L, cnt_abv_lag_1#523L, ... 2 more fields]\n                                                                                                                                                                                                                                 +- Project [PatientId#65, Chunk#119, GlucoseDisplayTime#64, Value#66, y_Binary#83, index#107, y_summary_binary#133, Mean#135, Std Dev#145, Median#147, Min#149, Max#151, CountBelow#153L, CountAbove#155L, PercentageBelow#157, PercentageAbove#159, value_lag_1#376, mean_lag_1#394, std_dev_lag_1#413, med_lag_1#433, min_lag_1#454, max_lag_1#476, cnt_bel_lag_1#499L, cnt_abv_lag_1#523L, ... 3 more fields]\n                                                                                                                                                                                                                                    +- Window [lag(PercentageAbove#159, -1, null) windowspecdefinition(PatientId#65, GlucoseDisplayTime#64 ASC NULLS FIRST, specifiedwindowframe(RowFrame, -1, -1)) AS perc_abv_lag_1#574], [PatientId#65], [GlucoseDisplayTime#64 ASC NULLS FIRST]\n                                                                                                                                                                                                                                       +- Project [PatientId#65, Chunk#119, GlucoseDisplayTime#64, Value#66, y_Binary#83, index#107, y_summary_binary#133, Mean#135, Std Dev#145, Median#147, Min#149, Max#151, CountBelow#153L, CountAbove#155L, PercentageBelow#157, PercentageAbove#159, value_lag_1#376, mean_lag_1#394, std_dev_lag_1#413, med_lag_1#433, min_lag_1#454, max_lag_1#476, cnt_bel_lag_1#499L, cnt_abv_lag_1#523L, perc_belw_lag_1#548]\n                                                                                                                                                                                                                                          +- Project [PatientId#65, Chunk#119, GlucoseDisplayTime#64, Value#66, y_Binary#83, index#107, y_summary_binary#133, Mean#135, Std Dev#145, Median#147, Min#149, Max#151, CountBelow#153L, CountAbove#155L, PercentageBelow#157, PercentageAbove#159, value_lag_1#376, mean_lag_1#394, std_dev_lag_1#413, med_lag_1#433, min_lag_1#454, max_lag_1#476, cnt_bel_lag_1#499L, cnt_abv_lag_1#523L, perc_belw_lag_1#548]\n                                                                                                                                                                                                                                             +- Project [PatientId#65, Chunk#119, GlucoseDisplayTime#64, Value#66, y_Binary#83, index#107, y_summary_binary#133, Mean#135, Std Dev#145, Median#147, Min#149, Max#151, CountBelow#153L, CountAbove#155L, PercentageBelow#157, PercentageAbove#159, value_lag_1#376, mean_lag_1#394, std_dev_lag_1#413, med_lag_1#433, min_lag_1#454, max_lag_1#476, cnt_bel_lag_1#499L, cnt_abv_lag_1#523L, ... 2 more fields]\n                                                                                                                                                                                                                                                +- Window [lag(PercentageBelow#157, -1, null) windowspecdefinition(PatientId#65, GlucoseDisplayTime#64 ASC NULLS FIRST, specifiedwindowframe(RowFrame, -1, -1)) AS perc_belw_lag_1#548], [PatientId#65], [GlucoseDisplayTime#64 ASC NULLS FIRST]\n                                                                                                                                                                                                                                                   +- Project [PatientId#65, Chunk#119, GlucoseDisplayTime#64, Value#66, y_Binary#83, index#107, y_summary_binary#133, Mean#135, Std Dev#145, Median#147, Min#149, Max#151, CountBelow#153L, CountAbove#155L, PercentageBelow#157, PercentageAbove#159, value_lag_1#376, mean_lag_1#394, std_dev_lag_1#413, med_lag_1#433, min_lag_1#454, max_lag_1#476, cnt_bel_lag_1#499L, cnt_abv_lag_1#523L]\n                                                                                                                                                                                                                                                      +- Project [PatientId#65, Chunk#119, GlucoseDisplayTime#64, Value#66, y_Binary#83, index#107, y_summary_binary#133, Mean#135, Std Dev#145, Median#147, Min#149, Max#151, CountBelow#153L, CountAbove#155L, PercentageBelow#157, PercentageAbove#159, value_lag_1#376, mean_lag_1#394, std_dev_lag_1#413, med_lag_1#433, min_lag_1#454, max_lag_1#476, cnt_bel_lag_1#499L, cnt_abv_lag_1#523L]\n                                                                                                                                                                                                                                                         +- Project [PatientId#65, Chunk#119, GlucoseDisplayTime#64, Value#66, y_Binary#83, index#107, y_summary_binary#133, Mean#135, Std Dev#145, Median#147, Min#149, Max#151, CountBelow#153L, CountAbove#155L, PercentageBelow#157, PercentageAbove#159, value_lag_1#376, mean_lag_1#394, std_dev_lag_1#413, med_lag_1#433, min_lag_1#454, max_lag_1#476, cnt_bel_lag_1#499L, cnt_abv_lag_1#523L, cnt_abv_lag_1#523L]\n                                                                                                                                                                                                                                                            +- Window [lag(CountAbove#155L, -1, null) windowspecdefinition(PatientId#65, GlucoseDisplayTime#64 ASC NULLS FIRST, specifiedwindowframe(RowFrame, -1, -1)) AS cnt_abv_lag_1#523L], [PatientId#65], [GlucoseDisplayTime#64 ASC NULLS FIRST]\n                                                                                                                                                                                                                                                               +- Project [PatientId#65, Chunk#119, GlucoseDisplayTime#64, Value#66, y_Binary#83, index#107, y_summary_binary#133, Mean#135, Std Dev#145, Median#147, Min#149, Max#151, CountBelow#153L, CountAbove#155L, PercentageBelow#157, PercentageAbove#159, value_lag_1#376, mean_lag_1#394, std_dev_lag_1#413, med_lag_1#433, min_lag_1#454, max_lag_1#476, cnt_bel_lag_1#499L]\n                                                                                                                                                                                                                                                                  +- Project [PatientId#65, Chunk#119, GlucoseDisplayTime#64, Value#66, y_Binary#83, index#107, y_summary_binary#133, Mean#135, Std Dev#145, Median#147, Min#149, Max#151, CountBelow#153L, CountAbove#155L, PercentageBelow#157, PercentageAbove#159, value_lag_1#376, mean_lag_1#394, std_dev_lag_1#413, med_lag_1#433, min_lag_1#454, max_lag_1#476, cnt_bel_lag_1#499L]\n                                                                                                                                                                                                                                                                     +- Project [PatientId#65, Chunk#119, GlucoseDisplayTime#64, Value#66, y_Binary#83, index#107, y_summary_binary#133, Mean#135, Std Dev#145, Median#147, Min#149, Max#151, CountBelow#153L, CountAbove#155L, PercentageBelow#157, PercentageAbove#159, value_lag_1#376, mean_lag_1#394, std_dev_lag_1#413, med_lag_1#433, min_lag_1#454, max_lag_1#476, cnt_bel_lag_1#499L, cnt_bel_lag_1#499L]\n                                                                                                                                                                                                                                                                        +- Window [lag(CountBelow#153L, -1, null) windowspecdefinition(PatientId#65, GlucoseDisplayTime#64 ASC NULLS FIRST, specifiedwindowframe(RowFrame, -1, -1)) AS cnt_bel_lag_1#499L], [PatientId#65], [GlucoseDisplayTime#64 ASC NULLS FIRST]\n                                                                                                                                                                                                                                                                           +- Project [PatientId#65, Chunk#119, GlucoseDisplayTime#64, Value#66, y_Binary#83, index#107, y_summary_binary#133, Mean#135, Std Dev#145, Median#147, Min#149, Max#151, CountBelow#153L, CountAbove#155L, PercentageBelow#157, PercentageAbove#159, value_lag_1#376, mean_lag_1#394, std_dev_lag_1#413, med_lag_1#433, min_lag_1#454, max_lag_1#476]\n                                                                                                                                                                                                                                                                              +- Project [PatientId#65, Chunk#119, GlucoseDisplayTime#64, Value#66, y_Binary#83, index#107, y_summary_binary#133, Mean#135, Std Dev#145, Median#147, Min#149, Max#151, CountBelow#153L, CountAbove#155L, PercentageBelow#157, PercentageAbove#159, value_lag_1#376, mean_lag_1#394, std_dev_lag_1#413, med_lag_1#433, min_lag_1#454, max_lag_1#476]\n                                                                                                                                                                                                                                                                                 +- Project [PatientId#65, Chunk#119, GlucoseDisplayTime#64, Value#66, y_Binary#83, index#107, y_summary_binary#133, Mean#135, Std Dev#145, Median#147, Min#149, Max#151, CountBelow#153L, CountAbove#155L, PercentageBelow#157, PercentageAbove#159, value_lag_1#376, mean_lag_1#394, std_dev_lag_1#413, med_lag_1#433, min_lag_1#454, max_lag_1#476, max_lag_1#476]\n                                                                                                                                                                                                                                                                                    +- Window [lag(Max#151, -1, null) windowspecdefinition(PatientId#65, GlucoseDisplayTime#64 ASC NULLS FIRST, specifiedwindowframe(RowFrame, -1, -1)) AS max_lag_1#476], [PatientId#65], [GlucoseDisplayTime#64 ASC NULLS FIRST]\n                                                                                                                                                                                                                                                                                       +- Project [PatientId#65, Chunk#119, GlucoseDisplayTime#64, Value#66, y_Binary#83, index#107, y_summary_binary#133, Mean#135, Std Dev#145, Median#147, Min#149, Max#151, CountBelow#153L, CountAbove#155L, PercentageBelow#157, PercentageAbove#159, value_lag_1#376, mean_lag_1#394, std_dev_lag_1#413, med_lag_1#433, min_lag_1#454]\n                                                                                                                                                                                                                                                                                          +- Project [PatientId#65, Chunk#119, GlucoseDisplayTime#64, Value#66, y_Binary#83, index#107, y_summary_binary#133, Mean#135, Std Dev#145, Median#147, Min#149, Max#151, CountBelow#153L, CountAbove#155L, PercentageBelow#157, PercentageAbove#159, value_lag_1#376, mean_lag_1#394, std_dev_lag_1#413, med_lag_1#433, min_lag_1#454]\n                                                                                                                                                                                                                                                                                             +- Project [PatientId#65, Chunk#119, GlucoseDisplayTime#64, Value#66, y_Binary#83, index#107, y_summary_binary#133, Mean#135, Std Dev#145, Median#147, Min#149, Max#151, CountBelow#153L, CountAbove#155L, PercentageBelow#157, PercentageAbove#159, value_lag_1#376, mean_lag_1#394, std_dev_lag_1#413, med_lag_1#433, min_lag_1#454, min_lag_1#454]\n                                                                                                                                                                                                                                                                                                +- Window [lag(Min#149, -1, null) windowspecdefinition(PatientId#65, GlucoseDisplayTime#64 ASC NULLS FIRST, specifiedwindowframe(RowFrame, -1, -1)) AS min_lag_1#454], [PatientId#65], [GlucoseDisplayTime#64 ASC NULLS FIRST]\n                                                                                                                                                                                                                                                                                                   +- Project [PatientId#65, Chunk#119, GlucoseDisplayTime#64, Value#66, y_Binary#83, index#107, y_summary_binary#133, Mean#135, Std Dev#145, Median#147, Min#149, Max#151, CountBelow#153L, CountAbove#155L, PercentageBelow#157, PercentageAbove#159, value_lag_1#376, mean_lag_1#394, std_dev_lag_1#413, med_lag_1#433]\n                                                                                                                                                                                                                                                                                                      +- Project [PatientId#65, Chunk#119, GlucoseDisplayTime#64, Value#66, y_Binary#83, index#107, y_summary_binary#133, Mean#135, Std Dev#145, Median#147, Min#149, Max#151, CountBelow#153L, CountAbove#155L, PercentageBelow#157, PercentageAbove#159, value_lag_1#376, mean_lag_1#394, std_dev_lag_1#413, med_lag_1#433]\n                                                                                                                                                                                                                                                                                                         +- Project [PatientId#65, Chunk#119, GlucoseDisplayTime#64, Value#66, y_Binary#83, index#107, y_summary_binary#133, Mean#135, Std Dev#145, Median#147, Min#149, Max#151, CountBelow#153L, CountAbove#155L, PercentageBelow#157, PercentageAbove#159, value_lag_1#376, mean_lag_1#394, std_dev_lag_1#413, med_lag_1#433, med_lag_1#433]\n                                                                                                                                                                                                                                                                                                            +- Window [lag(Median#147, -1, null) windowspecdefinition(PatientId#65, GlucoseDisplayTime#64 ASC NULLS FIRST, specifiedwindowframe(RowFrame, -1, -1)) AS med_lag_1#433], [PatientId#65], [GlucoseDisplayTime#64 ASC NULLS FIRST]\n                                                                                                                                                                                                                                                                                                               +- Project [PatientId#65, Chunk#119, GlucoseDisplayTime#64, Value#66, y_Binary#83, index#107, y_summary_binary#133, Mean#135, Std Dev#145, Median#147, Min#149, Max#151, CountBelow#153L, CountAbove#155L, PercentageBelow#157, PercentageAbove#159, value_lag_1#376, mean_lag_1#394, std_dev_lag_1#413]\n                                                                                                                                                                                                                                                                                                                  +- Project [PatientId#65, Chunk#119, GlucoseDisplayTime#64, Value#66, y_Binary#83, index#107, y_summary_binary#133, Mean#135, Std Dev#145, Median#147, Min#149, Max#151, CountBelow#153L, CountAbove#155L, PercentageBelow#157, PercentageAbove#159, value_lag_1#376, mean_lag_1#394, std_dev_lag_1#413]\n                                                                                                                                                                                                                                                                                                                     +- Project [PatientId#65, Chunk#119, GlucoseDisplayTime#64, Value#66, y_Binary#83, index#107, y_summary_binary#133, Mean#135, Std Dev#145, Median#147, Min#149, Max#151, CountBelow#153L, CountAbove#155L, PercentageBelow#157, PercentageAbove#159, value_lag_1#376, mean_lag_1#394, std_dev_lag_1#413, std_dev_lag_1#413]\n                                                                                                                                                                                                                                                                                                                        +- Window [lag(Std Dev#145, -1, null) windowspecdefinition(PatientId#65, GlucoseDisplayTime#64 ASC NULLS FIRST, specifiedwindowframe(RowFrame, -1, -1)) AS std_dev_lag_1#413], [PatientId#65], [GlucoseDisplayTime#64 ASC NULLS FIRST]\n                                                                                                                                                                                                                                                                                                                           +- Project [PatientId#65, Chunk#119, GlucoseDisplayTime#64, Value#66, y_Binary#83, index#107, y_summary_binary#133, Mean#135, Std Dev#145, Median#147, Min#149, Max#151, CountBelow#153L, CountAbove#155L, PercentageBelow#157, PercentageAbove#159, value_lag_1#376, mean_lag_1#394]\n                                                                                                                                                                                                                                                                                                                              +- Project [PatientId#65, Chunk#119, GlucoseDisplayTime#64, Value#66, y_Binary#83, index#107, y_summary_binary#133, Mean#135, Std Dev#145, Median#147, Min#149, Max#151, CountBelow#153L, CountAbove#155L, PercentageBelow#157, PercentageAbove#159, value_lag_1#376, mean_lag_1#394]\n                                                                                                                                                                                                                                                                                                                                 +- Project [PatientId#65, Chunk#119, GlucoseDisplayTime#64, Value#66, y_Binary#83, index#107, y_summary_binary#133, Mean#135, Std Dev#145, Median#147, Min#149, Max#151, CountBelow#153L, CountAbove#155L, PercentageBelow#157, PercentageAbove#159, value_lag_1#376, mean_lag_1#394, mean_lag_1#394]\n                                                                                                                                                                                                                                                                                                                                    +- Window [lag(Mean#135, -1, null) windowspecdefinition(PatientId#65, GlucoseDisplayTime#64 ASC NULLS FIRST, specifiedwindowframe(RowFrame, -1, -1)) AS mean_lag_1#394], [PatientId#65], [GlucoseDisplayTime#64 ASC NULLS FIRST]\n                                                                                                                                                                                                                                                                                                                                       +- Project [PatientId#65, Chunk#119, GlucoseDisplayTime#64, Value#66, y_Binary#83, index#107, y_summary_binary#133, Mean#135, Std Dev#145, Median#147, Min#149, Max#151, CountBelow#153L, CountAbove#155L, PercentageBelow#157, PercentageAbove#159, value_lag_1#376]\n                                                                                                                                                                                                                                                                                                                                          +- Project [PatientId#65, Chunk#119, GlucoseDisplayTime#64, Value#66, y_Binary#83, index#107, y_summary_binary#133, Mean#135, Std Dev#145, Median#147, Min#149, Max#151, CountBelow#153L, CountAbove#155L, PercentageBelow#157, PercentageAbove#159, value_lag_1#376]\n                                                                                                                                                                                                                                                                                                                                             +- Project [PatientId#65, Chunk#119, GlucoseDisplayTime#64, Value#66, y_Binary#83, index#107, y_summary_binary#133, Mean#135, Std Dev#145, Median#147, Min#149, Max#151, CountBelow#153L, CountAbove#155L, PercentageBelow#157, PercentageAbove#159, value_lag_1#376, value_lag_1#376]\n                                                                                                                                                                                                                                                                                                                                                +- Window [lag(Value#66, -1, null) windowspecdefinition(PatientId#65, GlucoseDisplayTime#64 ASC NULLS FIRST, specifiedwindowframe(RowFrame, -1, -1)) AS value_lag_1#376], [PatientId#65], [GlucoseDisplayTime#64 ASC NULLS FIRST]\n                                                                                                                                                                                                                                                                                                                                                   +- Project [PatientId#65, Chunk#119, GlucoseDisplayTime#64, Value#66, y_Binary#83, index#107, y_summary_binary#133, Mean#135, Std Dev#145, Median#147, Min#149, Max#151, CountBelow#153L, CountAbove#155L, PercentageBelow#157, PercentageAbove#159]\n                                                                                                                                                                                                                                                                                                                                                      +- Project [PatientId#65, Chunk#119, GlucoseDisplayTime#64, Value#66, y_Binary#83, index#107, y_summary_binary#133, Mean#135, Std Dev#145, Median#147, Min#149, Max#151, CountBelow#153L, CountAbove#155L, PercentageBelow#157, PercentageAbove#159]\n                                                                                                                                                                                                                                                                                                                                                         +- Join Inner, ((PatientId#65 = PatientId#212) AND (Chunk#119 = Chunk#209))\n                                                                                                                                                                                                                                                                                                                                                            :- Project [GlucoseDisplayTime#64, PatientId#65, Value#66, y_Binary#83, index#107, cast((cast(index#107 as double) / cast(12 as double)) as int) AS Chunk#119]\n                                                                                                                                                                                                                                                                                                                                                            :  +- Project [GlucoseDisplayTime#64, PatientId#65, Value#66, y_Binary#83, index#107]\n                                                                                                                                                                                                                                                                                                                                                            :     +- Project [GlucoseDisplayTime#64, PatientId#65, Value#66, y_Binary#83, index#107, index#107]\n                                                                                                                                                                                                                                                                                                                                                            :        +- Window [rank(GlucoseDisplayTime#64) windowspecdefinition(PatientId#65, GlucoseDisplayTime#64 ASC NULLS FIRST, specifiedwindowframe(RowFrame, unboundedpreceding$(), currentrow$())) AS index#107], [PatientId#65], [GlucoseDisplayTime#64 ASC NULLS FIRST]\n                                                                                                                                                                                                                                                                                                                                                            :           +- Project [GlucoseDisplayTime#64, PatientId#65, Value#66, y_Binary#83]\n                                                                                                                                                                                                                                                                                                                                                            :              +- Project [GlucoseDisplayTime#64, PatientId#65, Value#66, CASE WHEN (Value#66 > cast(180 as float)) THEN 1 WHEN (Value#66 < cast(70 as float)) THEN 1 ELSE 0 END AS y_Binary#83]\n                                                                                                                                                                                                                                                                                                                                                            :                 +- FlatMapGroupsInPandas [PatientId#0], transform_features(PatientId#0, Value#1, GlucoseDisplayTime#20, GlucoseDisplayTimeRaw#3, GlucoseDisplayDate#4)#63, [GlucoseDisplayTime#64, PatientId#65, Value#66]\n                                                                                                                                                                                                                                                                                                                                                            :                    +- Project [PatientId#0, PatientId#0, Value#1, GlucoseDisplayTime#20, GlucoseDisplayTimeRaw#3, GlucoseDisplayDate#4]\n                                                                                                                                                                                                                                                                                                                                                            :                       +- Sort [PatientId#0 ASC NULLS FIRST, GlucoseDisplayTime#20 ASC NULLS FIRST], true\n                                                                                                                                                                                                                                                                                                                                                            :                          +- Deduplicate [Value#1, GlucoseDisplayTime#20, GlucoseDisplayTimeRaw#3, GlucoseDisplayDate#4, PatientId#0]\n                                                                                                                                                                                                                                                                                                                                                            :                             +- Project [PatientId#0, Value#1, date_trunc(minute, GlucoseDisplayTime#2, Some(Etc/UTC)) AS GlucoseDisplayTime#20, GlucoseDisplayTimeRaw#3, GlucoseDisplayDate#4]\n                                                                                                                                                                                                                                                                                                                                                            :                                +- Relation [PatientId#0,Value#1,GlucoseDisplayTime#2,GlucoseDisplayTimeRaw#3,GlucoseDisplayDate#4] parquet\n                                                                                                                                                                                                                                                                                                                                                            +- Aggregate [PatientId#212, Chunk#209], [PatientId#212, Chunk#209, max(y_binary#83) AS y_summary_binary#133, avg(Value#213) AS Mean#135, stddev_samp(cast(Value#213 as double)) AS Std Dev#145, percentile_approx(Value#213, 0.5, 10000, 0, 0) AS Median#147, min(Value#213) AS Min#149, max(Value#213) AS Max#151, count(CASE WHEN (Value#213 < cast(70 as float)) THEN 1 END) AS CountBelow#153L, count(CASE WHEN (Value#213 > cast(180 as float)) THEN 1 END) AS CountAbove#155L, (cast(count(CASE WHEN (Value#213 < cast(70 as float)) THEN 1 END) as double) / cast(12 as double)) AS PercentageBelow#157, (cast(count(CASE WHEN (Value#213 > cast(180 as float)) THEN 1 END) as double) / cast(12 as double)) AS PercentageAbove#159]\n                                                                                                                                                                                                                                                                                                                                                               +- Project [GlucoseDisplayTime#211, PatientId#212, Value#213, y_Binary#83, index#107, cast((cast(index#107 as double) / cast(12 as double)) as int) AS Chunk#209]\n                                                                                                                                                                                                                                                                                                                                                                  +- Project [GlucoseDisplayTime#211, PatientId#212, Value#213, y_Binary#83, index#107]\n                                                                                                                                                                                                                                                                                                                                                                     +- Project [GlucoseDisplayTime#211, PatientId#212, Value#213, y_Binary#83, index#107, index#107]\n                                                                                                                                                                                                                                                                                                                                                                        +- Window [rank(GlucoseDisplayTime#211) windowspecdefinition(PatientId#212, GlucoseDisplayTime#211 ASC NULLS FIRST, specifiedwindowframe(RowFrame, unboundedpreceding$(), currentrow$())) AS index#107], [PatientId#212], [GlucoseDisplayTime#211 ASC NULLS FIRST]\n                                                                                                                                                                                                                                                                                                                                                                           +- Project [GlucoseDisplayTime#211, PatientId#212, Value#213, y_Binary#83]\n                                                                                                                                                                                                                                                                                                                                                                              +- Project [GlucoseDisplayTime#211, PatientId#212, Value#213, CASE WHEN (Value#213 > cast(180 as float)) THEN 1 WHEN (Value#213 < cast(70 as float)) THEN 1 ELSE 0 END AS y_Binary#83]\n                                                                                                                                                                                                                                                                                                                                                                                 +- FlatMapGroupsInPandas [PatientId#204], transform_features(PatientId#204, Value#205, GlucoseDisplayTime#20, GlucoseDisplayTimeRaw#207, GlucoseDisplayDate#208)#63, [GlucoseDisplayTime#211, PatientId#212, Value#213]\n                                                                                                                                                                                                                                                                                                                                                                                    +- Project [PatientId#204, PatientId#204, Value#205, GlucoseDisplayTime#20, GlucoseDisplayTimeRaw#207, GlucoseDisplayDate#208]\n                                                                                                                                                                                                                                                                                                                                                                                       +- Sort [PatientId#204 ASC NULLS FIRST, GlucoseDisplayTime#20 ASC NULLS FIRST], true\n                                                                                                                                                                                                                                                                                                                                                                                          +- Deduplicate [Value#205, GlucoseDisplayTime#20, GlucoseDisplayTimeRaw#207, GlucoseDisplayDate#208, PatientId#204]\n                                                                                                                                                                                                                                                                                                                                                                                             +- Project [PatientId#204, Value#205, date_trunc(minute, GlucoseDisplayTime#206, Some(Etc/UTC)) AS GlucoseDisplayTime#20, GlucoseDisplayTimeRaw#207, GlucoseDisplayDate#208]\n                                                                                                                                                                                                                                                                                                                                                                                                +- Relation [PatientId#204,Value#205,GlucoseDisplayTime#206,GlucoseDisplayTimeRaw#207,GlucoseDisplayDate#208] parquet\n",
     "output_type": "error",
     "traceback": [
      "\u001b[0;31m---------------------------------------------------------------------------\u001b[0m",
      "\u001b[0;31mAnalysisException\u001b[0m                         Traceback (most recent call last)",
      "Cell \u001b[0;32mIn[34], line 2\u001b[0m\n\u001b[1;32m      1\u001b[0m \u001b[38;5;28;01mfor\u001b[39;00m num_feature \u001b[38;5;129;01min\u001b[39;00m scaled_feats:\n\u001b[0;32m----> 2\u001b[0m     pyspark_numerical_features\u001b[38;5;241m=\u001b[39m\u001b[43mpyspark_numerical_features\u001b[49m\u001b[38;5;241;43m.\u001b[39;49m\u001b[43mselect\u001b[49m\u001b[43m(\u001b[49m\u001b[43mvector_to_array\u001b[49m\u001b[43m(\u001b[49m\u001b[43mnum_feature\u001b[49m\u001b[43m)\u001b[49m\u001b[43m[\u001b[49m\u001b[38;5;241;43m0\u001b[39;49m\u001b[43m]\u001b[49m\u001b[38;5;241;43m.\u001b[39;49m\u001b[43mcast\u001b[49m\u001b[43m(\u001b[49m\u001b[38;5;124;43m'\u001b[39;49m\u001b[38;5;124;43mfloat\u001b[39;49m\u001b[38;5;124;43m'\u001b[39;49m\u001b[43m)\u001b[49m\u001b[38;5;241;43m.\u001b[39;49m\u001b[43malias\u001b[49m\u001b[43m(\u001b[49m\u001b[43mnum_feature\u001b[49m\u001b[43m)\u001b[49m\u001b[43m)\u001b[49m\n",
      "File \u001b[0;32m~/glucose-data-analysis/glucose_venv/lib/python3.10/site-packages/pyspark/sql/dataframe.py:2023\u001b[0m, in \u001b[0;36mDataFrame.select\u001b[0;34m(self, *cols)\u001b[0m\n\u001b[1;32m   2002\u001b[0m \u001b[38;5;28;01mdef\u001b[39;00m \u001b[38;5;21mselect\u001b[39m(\u001b[38;5;28mself\u001b[39m, \u001b[38;5;241m*\u001b[39mcols: \u001b[38;5;124m\"\u001b[39m\u001b[38;5;124mColumnOrName\u001b[39m\u001b[38;5;124m\"\u001b[39m) \u001b[38;5;241m-\u001b[39m\u001b[38;5;241m>\u001b[39m \u001b[38;5;124m\"\u001b[39m\u001b[38;5;124mDataFrame\u001b[39m\u001b[38;5;124m\"\u001b[39m:  \u001b[38;5;66;03m# type: ignore[misc]\u001b[39;00m\n\u001b[1;32m   2003\u001b[0m \u001b[38;5;250m    \u001b[39m\u001b[38;5;124;03m\"\"\"Projects a set of expressions and returns a new :class:`DataFrame`.\u001b[39;00m\n\u001b[1;32m   2004\u001b[0m \n\u001b[1;32m   2005\u001b[0m \u001b[38;5;124;03m    .. versionadded:: 1.3.0\u001b[39;00m\n\u001b[0;32m   (...)\u001b[0m\n\u001b[1;32m   2021\u001b[0m \u001b[38;5;124;03m    [Row(name='Alice', age=12), Row(name='Bob', age=15)]\u001b[39;00m\n\u001b[1;32m   2022\u001b[0m \u001b[38;5;124;03m    \"\"\"\u001b[39;00m\n\u001b[0;32m-> 2023\u001b[0m     jdf \u001b[38;5;241m=\u001b[39m \u001b[38;5;28;43mself\u001b[39;49m\u001b[38;5;241;43m.\u001b[39;49m\u001b[43m_jdf\u001b[49m\u001b[38;5;241;43m.\u001b[39;49m\u001b[43mselect\u001b[49m\u001b[43m(\u001b[49m\u001b[38;5;28;43mself\u001b[39;49m\u001b[38;5;241;43m.\u001b[39;49m\u001b[43m_jcols\u001b[49m\u001b[43m(\u001b[49m\u001b[38;5;241;43m*\u001b[39;49m\u001b[43mcols\u001b[49m\u001b[43m)\u001b[49m\u001b[43m)\u001b[49m\n\u001b[1;32m   2024\u001b[0m     \u001b[38;5;28;01mreturn\u001b[39;00m DataFrame(jdf, \u001b[38;5;28mself\u001b[39m\u001b[38;5;241m.\u001b[39msparkSession)\n",
      "File \u001b[0;32m~/glucose-data-analysis/glucose_venv/lib/python3.10/site-packages/py4j/java_gateway.py:1321\u001b[0m, in \u001b[0;36mJavaMember.__call__\u001b[0;34m(self, *args)\u001b[0m\n\u001b[1;32m   1315\u001b[0m command \u001b[38;5;241m=\u001b[39m proto\u001b[38;5;241m.\u001b[39mCALL_COMMAND_NAME \u001b[38;5;241m+\u001b[39m\\\n\u001b[1;32m   1316\u001b[0m     \u001b[38;5;28mself\u001b[39m\u001b[38;5;241m.\u001b[39mcommand_header \u001b[38;5;241m+\u001b[39m\\\n\u001b[1;32m   1317\u001b[0m     args_command \u001b[38;5;241m+\u001b[39m\\\n\u001b[1;32m   1318\u001b[0m     proto\u001b[38;5;241m.\u001b[39mEND_COMMAND_PART\n\u001b[1;32m   1320\u001b[0m answer \u001b[38;5;241m=\u001b[39m \u001b[38;5;28mself\u001b[39m\u001b[38;5;241m.\u001b[39mgateway_client\u001b[38;5;241m.\u001b[39msend_command(command)\n\u001b[0;32m-> 1321\u001b[0m return_value \u001b[38;5;241m=\u001b[39m \u001b[43mget_return_value\u001b[49m\u001b[43m(\u001b[49m\n\u001b[1;32m   1322\u001b[0m \u001b[43m    \u001b[49m\u001b[43manswer\u001b[49m\u001b[43m,\u001b[49m\u001b[43m \u001b[49m\u001b[38;5;28;43mself\u001b[39;49m\u001b[38;5;241;43m.\u001b[39;49m\u001b[43mgateway_client\u001b[49m\u001b[43m,\u001b[49m\u001b[43m \u001b[49m\u001b[38;5;28;43mself\u001b[39;49m\u001b[38;5;241;43m.\u001b[39;49m\u001b[43mtarget_id\u001b[49m\u001b[43m,\u001b[49m\u001b[43m \u001b[49m\u001b[38;5;28;43mself\u001b[39;49m\u001b[38;5;241;43m.\u001b[39;49m\u001b[43mname\u001b[49m\u001b[43m)\u001b[49m\n\u001b[1;32m   1324\u001b[0m \u001b[38;5;28;01mfor\u001b[39;00m temp_arg \u001b[38;5;129;01min\u001b[39;00m temp_args:\n\u001b[1;32m   1325\u001b[0m     temp_arg\u001b[38;5;241m.\u001b[39m_detach()\n",
      "File \u001b[0;32m~/glucose-data-analysis/glucose_venv/lib/python3.10/site-packages/pyspark/sql/utils.py:196\u001b[0m, in \u001b[0;36mcapture_sql_exception.<locals>.deco\u001b[0;34m(*a, **kw)\u001b[0m\n\u001b[1;32m    192\u001b[0m converted \u001b[38;5;241m=\u001b[39m convert_exception(e\u001b[38;5;241m.\u001b[39mjava_exception)\n\u001b[1;32m    193\u001b[0m \u001b[38;5;28;01mif\u001b[39;00m \u001b[38;5;129;01mnot\u001b[39;00m \u001b[38;5;28misinstance\u001b[39m(converted, UnknownException):\n\u001b[1;32m    194\u001b[0m     \u001b[38;5;66;03m# Hide where the exception came from that shows a non-Pythonic\u001b[39;00m\n\u001b[1;32m    195\u001b[0m     \u001b[38;5;66;03m# JVM exception message.\u001b[39;00m\n\u001b[0;32m--> 196\u001b[0m     \u001b[38;5;28;01mraise\u001b[39;00m converted \u001b[38;5;28;01mfrom\u001b[39;00m \u001b[38;5;28mNone\u001b[39m\n\u001b[1;32m    197\u001b[0m \u001b[38;5;28;01melse\u001b[39;00m:\n\u001b[1;32m    198\u001b[0m     \u001b[38;5;28;01mraise\u001b[39;00m\n",
      "\u001b[0;31mAnalysisException\u001b[0m: Column 'perc_belw_lag_2_scaled' does not exist. Did you mean one of the following? [mean_lag_1_scaled];\n'Project [cast(UDF('perc_belw_lag_2_scaled)[0] as float) AS perc_belw_lag_2_scaled#18211]\n+- Project [cast(UDF(mean_lag_1_scaled#16805)[0] as float) AS mean_lag_1_scaled#18209]\n   +- Project [PatientId#65, Chunk#119, GlucoseDisplayTime#64, Value#66, y_Binary#83, index#107, y_summary_binary#133, Mean#135, Std Dev#145, Median#147, Min#149, Max#151, CountBelow#153L, CountAbove#155L, PercentageBelow#157, PercentageAbove#159, value_lag_1#376, mean_lag_1#394, std_dev_lag_1#413, med_lag_1#433, min_lag_1#454, max_lag_1#476, cnt_bel_lag_1#499L, cnt_abv_lag_1#523L, ... 44 more fields]\n      +- Project [PatientId#65, Chunk#119, GlucoseDisplayTime#64, Value#66, y_Binary#83, index#107, y_summary_binary#133, Mean#135, Std Dev#145, Median#147, Min#149, Max#151, CountBelow#153L, CountAbove#155L, PercentageBelow#157, PercentageAbove#159, value_lag_1#376, mean_lag_1#394, std_dev_lag_1#413, med_lag_1#433, min_lag_1#454, max_lag_1#476, cnt_bel_lag_1#499L, cnt_abv_lag_1#523L, ... 43 more fields]\n         +- Project [PatientId#65, Chunk#119, GlucoseDisplayTime#64, Value#66, y_Binary#83, index#107, y_summary_binary#133, Mean#135, Std Dev#145, Median#147, Min#149, Max#151, CountBelow#153L, CountAbove#155L, PercentageBelow#157, PercentageAbove#159, value_lag_1#376, mean_lag_1#394, std_dev_lag_1#413, med_lag_1#433, min_lag_1#454, max_lag_1#476, cnt_bel_lag_1#499L, cnt_abv_lag_1#523L, ... 42 more fields]\n            +- Project [PatientId#65, Chunk#119, GlucoseDisplayTime#64, Value#66, y_Binary#83, index#107, y_summary_binary#133, Mean#135, Std Dev#145, Median#147, Min#149, Max#151, CountBelow#153L, CountAbove#155L, PercentageBelow#157, PercentageAbove#159, value_lag_1#376, mean_lag_1#394, std_dev_lag_1#413, med_lag_1#433, min_lag_1#454, max_lag_1#476, cnt_bel_lag_1#499L, cnt_abv_lag_1#523L, ... 41 more fields]\n               +- Project [PatientId#65, Chunk#119, GlucoseDisplayTime#64, Value#66, y_Binary#83, index#107, y_summary_binary#133, Mean#135, Std Dev#145, Median#147, Min#149, Max#151, CountBelow#153L, CountAbove#155L, PercentageBelow#157, PercentageAbove#159, value_lag_1#376, mean_lag_1#394, std_dev_lag_1#413, med_lag_1#433, min_lag_1#454, max_lag_1#476, cnt_bel_lag_1#499L, cnt_abv_lag_1#523L, ... 40 more fields]\n                  +- Project [PatientId#65, Chunk#119, GlucoseDisplayTime#64, Value#66, y_Binary#83, index#107, y_summary_binary#133, Mean#135, Std Dev#145, Median#147, Min#149, Max#151, CountBelow#153L, CountAbove#155L, PercentageBelow#157, PercentageAbove#159, value_lag_1#376, mean_lag_1#394, std_dev_lag_1#413, med_lag_1#433, min_lag_1#454, max_lag_1#476, cnt_bel_lag_1#499L, cnt_abv_lag_1#523L, ... 39 more fields]\n                     +- Project [PatientId#65, Chunk#119, GlucoseDisplayTime#64, Value#66, y_Binary#83, index#107, y_summary_binary#133, Mean#135, Std Dev#145, Median#147, Min#149, Max#151, CountBelow#153L, CountAbove#155L, PercentageBelow#157, PercentageAbove#159, value_lag_1#376, mean_lag_1#394, std_dev_lag_1#413, med_lag_1#433, min_lag_1#454, max_lag_1#476, cnt_bel_lag_1#499L, cnt_abv_lag_1#523L, ... 38 more fields]\n                        +- Project [PatientId#65, Chunk#119, GlucoseDisplayTime#64, Value#66, y_Binary#83, index#107, y_summary_binary#133, Mean#135, Std Dev#145, Median#147, Min#149, Max#151, CountBelow#153L, CountAbove#155L, PercentageBelow#157, PercentageAbove#159, value_lag_1#376, mean_lag_1#394, std_dev_lag_1#413, med_lag_1#433, min_lag_1#454, max_lag_1#476, cnt_bel_lag_1#499L, cnt_abv_lag_1#523L, ... 37 more fields]\n                           +- Project [PatientId#65, Chunk#119, GlucoseDisplayTime#64, Value#66, y_Binary#83, index#107, y_summary_binary#133, Mean#135, Std Dev#145, Median#147, Min#149, Max#151, CountBelow#153L, CountAbove#155L, PercentageBelow#157, PercentageAbove#159, value_lag_1#376, mean_lag_1#394, std_dev_lag_1#413, med_lag_1#433, min_lag_1#454, max_lag_1#476, cnt_bel_lag_1#499L, cnt_abv_lag_1#523L, ... 36 more fields]\n                              +- Project [PatientId#65, Chunk#119, GlucoseDisplayTime#64, Value#66, y_Binary#83, index#107, y_summary_binary#133, Mean#135, Std Dev#145, Median#147, Min#149, Max#151, CountBelow#153L, CountAbove#155L, PercentageBelow#157, PercentageAbove#159, value_lag_1#376, mean_lag_1#394, std_dev_lag_1#413, med_lag_1#433, min_lag_1#454, max_lag_1#476, cnt_bel_lag_1#499L, cnt_abv_lag_1#523L, ... 35 more fields]\n                                 +- Project [PatientId#65, Chunk#119, GlucoseDisplayTime#64, Value#66, y_Binary#83, index#107, y_summary_binary#133, Mean#135, Std Dev#145, Median#147, Min#149, Max#151, CountBelow#153L, CountAbove#155L, PercentageBelow#157, PercentageAbove#159, value_lag_1#376, mean_lag_1#394, std_dev_lag_1#413, med_lag_1#433, min_lag_1#454, max_lag_1#476, cnt_bel_lag_1#499L, cnt_abv_lag_1#523L, ... 34 more fields]\n                                    +- Project [PatientId#65, Chunk#119, GlucoseDisplayTime#64, Value#66, y_Binary#83, index#107, y_summary_binary#133, Mean#135, Std Dev#145, Median#147, Min#149, Max#151, CountBelow#153L, CountAbove#155L, PercentageBelow#157, PercentageAbove#159, value_lag_1#376, mean_lag_1#394, std_dev_lag_1#413, med_lag_1#433, min_lag_1#454, max_lag_1#476, cnt_bel_lag_1#499L, cnt_abv_lag_1#523L, ... 33 more fields]\n                                       +- Project [PatientId#65, Chunk#119, GlucoseDisplayTime#64, Value#66, y_Binary#83, index#107, y_summary_binary#133, Mean#135, Std Dev#145, Median#147, Min#149, Max#151, CountBelow#153L, CountAbove#155L, PercentageBelow#157, PercentageAbove#159, value_lag_1#376, mean_lag_1#394, std_dev_lag_1#413, med_lag_1#433, min_lag_1#454, max_lag_1#476, cnt_bel_lag_1#499L, cnt_abv_lag_1#523L, ... 32 more fields]\n                                          +- Project [PatientId#65, Chunk#119, GlucoseDisplayTime#64, Value#66, y_Binary#83, index#107, y_summary_binary#133, Mean#135, Std Dev#145, Median#147, Min#149, Max#151, CountBelow#153L, CountAbove#155L, PercentageBelow#157, PercentageAbove#159, value_lag_1#376, mean_lag_1#394, std_dev_lag_1#413, med_lag_1#433, min_lag_1#454, max_lag_1#476, cnt_bel_lag_1#499L, cnt_abv_lag_1#523L, ... 31 more fields]\n                                             +- Project [PatientId#65, Chunk#119, GlucoseDisplayTime#64, Value#66, y_Binary#83, index#107, y_summary_binary#133, Mean#135, Std Dev#145, Median#147, Min#149, Max#151, CountBelow#153L, CountAbove#155L, PercentageBelow#157, PercentageAbove#159, value_lag_1#376, mean_lag_1#394, std_dev_lag_1#413, med_lag_1#433, min_lag_1#454, max_lag_1#476, cnt_bel_lag_1#499L, cnt_abv_lag_1#523L, ... 30 more fields]\n                                                +- Project [PatientId#65, Chunk#119, GlucoseDisplayTime#64, Value#66, y_Binary#83, index#107, y_summary_binary#133, Mean#135, Std Dev#145, Median#147, Min#149, Max#151, CountBelow#153L, CountAbove#155L, PercentageBelow#157, PercentageAbove#159, value_lag_1#376, mean_lag_1#394, std_dev_lag_1#413, med_lag_1#433, min_lag_1#454, max_lag_1#476, cnt_bel_lag_1#499L, cnt_abv_lag_1#523L, ... 29 more fields]\n                                                   +- Project [PatientId#65, Chunk#119, GlucoseDisplayTime#64, Value#66, y_Binary#83, index#107, y_summary_binary#133, Mean#135, Std Dev#145, Median#147, Min#149, Max#151, CountBelow#153L, CountAbove#155L, PercentageBelow#157, PercentageAbove#159, value_lag_1#376, mean_lag_1#394, std_dev_lag_1#413, med_lag_1#433, min_lag_1#454, max_lag_1#476, cnt_bel_lag_1#499L, cnt_abv_lag_1#523L, ... 28 more fields]\n                                                      +- Project [PatientId#65, Chunk#119, GlucoseDisplayTime#64, Value#66, y_Binary#83, index#107, y_summary_binary#133, Mean#135, Std Dev#145, Median#147, Min#149, Max#151, CountBelow#153L, CountAbove#155L, PercentageBelow#157, PercentageAbove#159, value_lag_1#376, mean_lag_1#394, std_dev_lag_1#413, med_lag_1#433, min_lag_1#454, max_lag_1#476, cnt_bel_lag_1#499L, cnt_abv_lag_1#523L, ... 27 more fields]\n                                                         +- Project [PatientId#65, Chunk#119, GlucoseDisplayTime#64, Value#66, y_Binary#83, index#107, y_summary_binary#133, Mean#135, Std Dev#145, Median#147, Min#149, Max#151, CountBelow#153L, CountAbove#155L, PercentageBelow#157, PercentageAbove#159, value_lag_1#376, mean_lag_1#394, std_dev_lag_1#413, med_lag_1#433, min_lag_1#454, max_lag_1#476, cnt_bel_lag_1#499L, cnt_abv_lag_1#523L, ... 26 more fields]\n                                                            +- Project [PatientId#65, Chunk#119, GlucoseDisplayTime#64, Value#66, y_Binary#83, index#107, y_summary_binary#133, Mean#135, Std Dev#145, Median#147, Min#149, Max#151, CountBelow#153L, CountAbove#155L, PercentageBelow#157, PercentageAbove#159, value_lag_1#376, mean_lag_1#394, std_dev_lag_1#413, med_lag_1#433, min_lag_1#454, max_lag_1#476, cnt_bel_lag_1#499L, cnt_abv_lag_1#523L, ... 25 more fields]\n                                                               +- Project [PatientId#65, Chunk#119, GlucoseDisplayTime#64, Value#66, y_Binary#83, index#107, y_summary_binary#133, Mean#135, Std Dev#145, Median#147, Min#149, Max#151, CountBelow#153L, CountAbove#155L, PercentageBelow#157, PercentageAbove#159, value_lag_1#376, mean_lag_1#394, std_dev_lag_1#413, med_lag_1#433, min_lag_1#454, max_lag_1#476, cnt_bel_lag_1#499L, cnt_abv_lag_1#523L, ... 24 more fields]\n                                                                  +- Project [PatientId#65, Chunk#119, GlucoseDisplayTime#64, Value#66, y_Binary#83, index#107, y_summary_binary#133, Mean#135, Std Dev#145, Median#147, Min#149, Max#151, CountBelow#153L, CountAbove#155L, PercentageBelow#157, PercentageAbove#159, value_lag_1#376, mean_lag_1#394, std_dev_lag_1#413, med_lag_1#433, min_lag_1#454, max_lag_1#476, cnt_bel_lag_1#499L, cnt_abv_lag_1#523L, ... 23 more fields]\n                                                                     +- Project [PatientId#65, Chunk#119, GlucoseDisplayTime#64, Value#66, y_Binary#83, index#107, y_summary_binary#133, Mean#135, Std Dev#145, Median#147, Min#149, Max#151, CountBelow#153L, CountAbove#155L, PercentageBelow#157, PercentageAbove#159, value_lag_1#376, mean_lag_1#394, std_dev_lag_1#413, med_lag_1#433, min_lag_1#454, max_lag_1#476, cnt_bel_lag_1#499L, cnt_abv_lag_1#523L, ... 22 more fields]\n                                                                        +- Project [PatientId#65, Chunk#119, GlucoseDisplayTime#64, Value#66, y_Binary#83, index#107, y_summary_binary#133, Mean#135, Std Dev#145, Median#147, Min#149, Max#151, CountBelow#153L, CountAbove#155L, PercentageBelow#157, PercentageAbove#159, value_lag_1#376, mean_lag_1#394, std_dev_lag_1#413, med_lag_1#433, min_lag_1#454, max_lag_1#476, cnt_bel_lag_1#499L, cnt_abv_lag_1#523L, ... 21 more fields]\n                                                                           +- Project [PatientId#65, Chunk#119, GlucoseDisplayTime#64, Value#66, y_Binary#83, index#107, y_summary_binary#133, Mean#135, Std Dev#145, Median#147, Min#149, Max#151, CountBelow#153L, CountAbove#155L, PercentageBelow#157, PercentageAbove#159, value_lag_1#376, mean_lag_1#394, std_dev_lag_1#413, med_lag_1#433, min_lag_1#454, max_lag_1#476, cnt_bel_lag_1#499L, cnt_abv_lag_1#523L, ... 20 more fields]\n                                                                              +- Project [PatientId#65, Chunk#119, GlucoseDisplayTime#64, Value#66, y_Binary#83, index#107, y_summary_binary#133, Mean#135, Std Dev#145, Median#147, Min#149, Max#151, CountBelow#153L, CountAbove#155L, PercentageBelow#157, PercentageAbove#159, value_lag_1#376, mean_lag_1#394, std_dev_lag_1#413, med_lag_1#433, min_lag_1#454, max_lag_1#476, cnt_bel_lag_1#499L, cnt_abv_lag_1#523L, ... 19 more fields]\n                                                                                 +- Project [PatientId#65, Chunk#119, GlucoseDisplayTime#64, Value#66, y_Binary#83, index#107, y_summary_binary#133, Mean#135, Std Dev#145, Median#147, Min#149, Max#151, CountBelow#153L, CountAbove#155L, PercentageBelow#157, PercentageAbove#159, value_lag_1#376, mean_lag_1#394, std_dev_lag_1#413, med_lag_1#433, min_lag_1#454, max_lag_1#476, cnt_bel_lag_1#499L, cnt_abv_lag_1#523L, ... 18 more fields]\n                                                                                    +- Project [PatientId#65, Chunk#119, GlucoseDisplayTime#64, Value#66, y_Binary#83, index#107, y_summary_binary#133, Mean#135, Std Dev#145, Median#147, Min#149, Max#151, CountBelow#153L, CountAbove#155L, PercentageBelow#157, PercentageAbove#159, value_lag_1#376, mean_lag_1#394, std_dev_lag_1#413, med_lag_1#433, min_lag_1#454, max_lag_1#476, cnt_bel_lag_1#499L, cnt_abv_lag_1#523L, ... 17 more fields]\n                                                                                       +- Project [PatientId#65, Chunk#119, GlucoseDisplayTime#64, Value#66, y_Binary#83, index#107, y_summary_binary#133, Mean#135, Std Dev#145, Median#147, Min#149, Max#151, CountBelow#153L, CountAbove#155L, PercentageBelow#157, PercentageAbove#159, value_lag_1#376, mean_lag_1#394, std_dev_lag_1#413, med_lag_1#433, min_lag_1#454, max_lag_1#476, cnt_bel_lag_1#499L, cnt_abv_lag_1#523L, ... 16 more fields]\n                                                                                          +- Project [PatientId#65, Chunk#119, GlucoseDisplayTime#64, Value#66, y_Binary#83, index#107, y_summary_binary#133, Mean#135, Std Dev#145, Median#147, Min#149, Max#151, CountBelow#153L, CountAbove#155L, PercentageBelow#157, PercentageAbove#159, value_lag_1#376, mean_lag_1#394, std_dev_lag_1#413, med_lag_1#433, min_lag_1#454, max_lag_1#476, cnt_bel_lag_1#499L, cnt_abv_lag_1#523L, ... 15 more fields]\n                                                                                             +- Project [PatientId#65, Chunk#119, GlucoseDisplayTime#64, Value#66, y_Binary#83, index#107, y_summary_binary#133, Mean#135, Std Dev#145, Median#147, Min#149, Max#151, CountBelow#153L, CountAbove#155L, PercentageBelow#157, PercentageAbove#159, value_lag_1#376, mean_lag_1#394, std_dev_lag_1#413, med_lag_1#433, min_lag_1#454, max_lag_1#476, cnt_bel_lag_1#499L, cnt_abv_lag_1#523L, ... 14 more fields]\n                                                                                                +- Project [PatientId#65, Chunk#119, GlucoseDisplayTime#64, Value#66, y_Binary#83, index#107, y_summary_binary#133, Mean#135, Std Dev#145, Median#147, Min#149, Max#151, CountBelow#153L, CountAbove#155L, PercentageBelow#157, PercentageAbove#159, value_lag_1#376, mean_lag_1#394, std_dev_lag_1#413, med_lag_1#433, min_lag_1#454, max_lag_1#476, cnt_bel_lag_1#499L, cnt_abv_lag_1#523L, ... 13 more fields]\n                                                                                                   +- Filter atleastnnonnulls(36, PatientId#65, Chunk#119, GlucoseDisplayTime#64, Value#66, y_Binary#83, index#107, y_summary_binary#133, Mean#135, Std Dev#145, Median#147, Min#149, Max#151, CountBelow#153L, CountAbove#155L, PercentageBelow#157, PercentageAbove#159, value_lag_1#376, mean_lag_1#394, std_dev_lag_1#413, med_lag_1#433, min_lag_1#454, max_lag_1#476, cnt_bel_lag_1#499L, ... 13 more fields)\n                                                                                                      +- Project [PatientId#65, Chunk#119, GlucoseDisplayTime#64, Value#66, y_Binary#83, index#107, y_summary_binary#133, Mean#135, Std Dev#145, Median#147, Min#149, Max#151, CountBelow#153L, CountAbove#155L, PercentageBelow#157, PercentageAbove#159, value_lag_1#376, mean_lag_1#394, std_dev_lag_1#413, med_lag_1#433, min_lag_1#454, max_lag_1#476, cnt_bel_lag_1#499L, cnt_abv_lag_1#523L, ... 12 more fields]\n                                                                                                         +- Project [PatientId#65, Chunk#119, GlucoseDisplayTime#64, Value#66, y_Binary#83, index#107, y_summary_binary#133, Mean#135, Std Dev#145, Median#147, Min#149, Max#151, CountBelow#153L, CountAbove#155L, PercentageBelow#157, PercentageAbove#159, value_lag_1#376, mean_lag_1#394, std_dev_lag_1#413, med_lag_1#433, min_lag_1#454, max_lag_1#476, cnt_bel_lag_1#499L, cnt_abv_lag_1#523L, ... 13 more fields]\n                                                                                                            +- Window [lag(PercentageAbove#159, -2, null) windowspecdefinition(PatientId#65, GlucoseDisplayTime#64 ASC NULLS FIRST, specifiedwindowframe(RowFrame, -2, -2)) AS perc_abv_lag_2#889], [PatientId#65], [GlucoseDisplayTime#64 ASC NULLS FIRST]\n                                                                                                               +- Project [PatientId#65, Chunk#119, GlucoseDisplayTime#64, Value#66, y_Binary#83, index#107, y_summary_binary#133, Mean#135, Std Dev#145, Median#147, Min#149, Max#151, CountBelow#153L, CountAbove#155L, PercentageBelow#157, PercentageAbove#159, value_lag_1#376, mean_lag_1#394, std_dev_lag_1#413, med_lag_1#433, min_lag_1#454, max_lag_1#476, cnt_bel_lag_1#499L, cnt_abv_lag_1#523L, ... 11 more fields]\n                                                                                                                  +- Project [PatientId#65, Chunk#119, GlucoseDisplayTime#64, Value#66, y_Binary#83, index#107, y_summary_binary#133, Mean#135, Std Dev#145, Median#147, Min#149, Max#151, CountBelow#153L, CountAbove#155L, PercentageBelow#157, PercentageAbove#159, value_lag_1#376, mean_lag_1#394, std_dev_lag_1#413, med_lag_1#433, min_lag_1#454, max_lag_1#476, cnt_bel_lag_1#499L, cnt_abv_lag_1#523L, ... 11 more fields]\n                                                                                                                     +- Project [PatientId#65, Chunk#119, GlucoseDisplayTime#64, Value#66, y_Binary#83, index#107, y_summary_binary#133, Mean#135, Std Dev#145, Median#147, Min#149, Max#151, CountBelow#153L, CountAbove#155L, PercentageBelow#157, PercentageAbove#159, value_lag_1#376, mean_lag_1#394, std_dev_lag_1#413, med_lag_1#433, min_lag_1#454, max_lag_1#476, cnt_bel_lag_1#499L, cnt_abv_lag_1#523L, ... 12 more fields]\n                                                                                                                        +- Window [lag(PercentageBelow#157, -2, null) windowspecdefinition(PatientId#65, GlucoseDisplayTime#64 ASC NULLS FIRST, specifiedwindowframe(RowFrame, -2, -2)) AS perc_belw_lag_2#853], [PatientId#65], [GlucoseDisplayTime#64 ASC NULLS FIRST]\n                                                                                                                           +- Project [PatientId#65, Chunk#119, GlucoseDisplayTime#64, Value#66, y_Binary#83, index#107, y_summary_binary#133, Mean#135, Std Dev#145, Median#147, Min#149, Max#151, CountBelow#153L, CountAbove#155L, PercentageBelow#157, PercentageAbove#159, value_lag_1#376, mean_lag_1#394, std_dev_lag_1#413, med_lag_1#433, min_lag_1#454, max_lag_1#476, cnt_bel_lag_1#499L, cnt_abv_lag_1#523L, ... 10 more fields]\n                                                                                                                              +- Project [PatientId#65, Chunk#119, GlucoseDisplayTime#64, Value#66, y_Binary#83, index#107, y_summary_binary#133, Mean#135, Std Dev#145, Median#147, Min#149, Max#151, CountBelow#153L, CountAbove#155L, PercentageBelow#157, PercentageAbove#159, value_lag_1#376, mean_lag_1#394, std_dev_lag_1#413, med_lag_1#433, min_lag_1#454, max_lag_1#476, cnt_bel_lag_1#499L, cnt_abv_lag_1#523L, ... 10 more fields]\n                                                                                                                                 +- Project [PatientId#65, Chunk#119, GlucoseDisplayTime#64, Value#66, y_Binary#83, index#107, y_summary_binary#133, Mean#135, Std Dev#145, Median#147, Min#149, Max#151, CountBelow#153L, CountAbove#155L, PercentageBelow#157, PercentageAbove#159, value_lag_1#376, mean_lag_1#394, std_dev_lag_1#413, med_lag_1#433, min_lag_1#454, max_lag_1#476, cnt_bel_lag_1#499L, cnt_abv_lag_1#523L, ... 11 more fields]\n                                                                                                                                    +- Window [lag(CountAbove#155L, -2, null) windowspecdefinition(PatientId#65, GlucoseDisplayTime#64 ASC NULLS FIRST, specifiedwindowframe(RowFrame, -2, -2)) AS cnt_abv_lag_2#818L], [PatientId#65], [GlucoseDisplayTime#64 ASC NULLS FIRST]\n                                                                                                                                       +- Project [PatientId#65, Chunk#119, GlucoseDisplayTime#64, Value#66, y_Binary#83, index#107, y_summary_binary#133, Mean#135, Std Dev#145, Median#147, Min#149, Max#151, CountBelow#153L, CountAbove#155L, PercentageBelow#157, PercentageAbove#159, value_lag_1#376, mean_lag_1#394, std_dev_lag_1#413, med_lag_1#433, min_lag_1#454, max_lag_1#476, cnt_bel_lag_1#499L, cnt_abv_lag_1#523L, ... 9 more fields]\n                                                                                                                                          +- Project [PatientId#65, Chunk#119, GlucoseDisplayTime#64, Value#66, y_Binary#83, index#107, y_summary_binary#133, Mean#135, Std Dev#145, Median#147, Min#149, Max#151, CountBelow#153L, CountAbove#155L, PercentageBelow#157, PercentageAbove#159, value_lag_1#376, mean_lag_1#394, std_dev_lag_1#413, med_lag_1#433, min_lag_1#454, max_lag_1#476, cnt_bel_lag_1#499L, cnt_abv_lag_1#523L, ... 9 more fields]\n                                                                                                                                             +- Project [PatientId#65, Chunk#119, GlucoseDisplayTime#64, Value#66, y_Binary#83, index#107, y_summary_binary#133, Mean#135, Std Dev#145, Median#147, Min#149, Max#151, CountBelow#153L, CountAbove#155L, PercentageBelow#157, PercentageAbove#159, value_lag_1#376, mean_lag_1#394, std_dev_lag_1#413, med_lag_1#433, min_lag_1#454, max_lag_1#476, cnt_bel_lag_1#499L, cnt_abv_lag_1#523L, ... 10 more fields]\n                                                                                                                                                +- Window [lag(CountBelow#153L, -2, null) windowspecdefinition(PatientId#65, GlucoseDisplayTime#64 ASC NULLS FIRST, specifiedwindowframe(RowFrame, -2, -2)) AS cnt_bel_lag_2#784L], [PatientId#65], [GlucoseDisplayTime#64 ASC NULLS FIRST]\n                                                                                                                                                   +- Project [PatientId#65, Chunk#119, GlucoseDisplayTime#64, Value#66, y_Binary#83, index#107, y_summary_binary#133, Mean#135, Std Dev#145, Median#147, Min#149, Max#151, CountBelow#153L, CountAbove#155L, PercentageBelow#157, PercentageAbove#159, value_lag_1#376, mean_lag_1#394, std_dev_lag_1#413, med_lag_1#433, min_lag_1#454, max_lag_1#476, cnt_bel_lag_1#499L, cnt_abv_lag_1#523L, ... 8 more fields]\n                                                                                                                                                      +- Project [PatientId#65, Chunk#119, GlucoseDisplayTime#64, Value#66, y_Binary#83, index#107, y_summary_binary#133, Mean#135, Std Dev#145, Median#147, Min#149, Max#151, CountBelow#153L, CountAbove#155L, PercentageBelow#157, PercentageAbove#159, value_lag_1#376, mean_lag_1#394, std_dev_lag_1#413, med_lag_1#433, min_lag_1#454, max_lag_1#476, cnt_bel_lag_1#499L, cnt_abv_lag_1#523L, ... 8 more fields]\n                                                                                                                                                         +- Project [PatientId#65, Chunk#119, GlucoseDisplayTime#64, Value#66, y_Binary#83, index#107, y_summary_binary#133, Mean#135, Std Dev#145, Median#147, Min#149, Max#151, CountBelow#153L, CountAbove#155L, PercentageBelow#157, PercentageAbove#159, value_lag_1#376, mean_lag_1#394, std_dev_lag_1#413, med_lag_1#433, min_lag_1#454, max_lag_1#476, cnt_bel_lag_1#499L, cnt_abv_lag_1#523L, ... 9 more fields]\n                                                                                                                                                            +- Window [lag(Max#151, -2, null) windowspecdefinition(PatientId#65, GlucoseDisplayTime#64 ASC NULLS FIRST, specifiedwindowframe(RowFrame, -2, -2)) AS max_lag_2#751], [PatientId#65], [GlucoseDisplayTime#64 ASC NULLS FIRST]\n                                                                                                                                                               +- Project [PatientId#65, Chunk#119, GlucoseDisplayTime#64, Value#66, y_Binary#83, index#107, y_summary_binary#133, Mean#135, Std Dev#145, Median#147, Min#149, Max#151, CountBelow#153L, CountAbove#155L, PercentageBelow#157, PercentageAbove#159, value_lag_1#376, mean_lag_1#394, std_dev_lag_1#413, med_lag_1#433, min_lag_1#454, max_lag_1#476, cnt_bel_lag_1#499L, cnt_abv_lag_1#523L, ... 7 more fields]\n                                                                                                                                                                  +- Project [PatientId#65, Chunk#119, GlucoseDisplayTime#64, Value#66, y_Binary#83, index#107, y_summary_binary#133, Mean#135, Std Dev#145, Median#147, Min#149, Max#151, CountBelow#153L, CountAbove#155L, PercentageBelow#157, PercentageAbove#159, value_lag_1#376, mean_lag_1#394, std_dev_lag_1#413, med_lag_1#433, min_lag_1#454, max_lag_1#476, cnt_bel_lag_1#499L, cnt_abv_lag_1#523L, ... 7 more fields]\n                                                                                                                                                                     +- Project [PatientId#65, Chunk#119, GlucoseDisplayTime#64, Value#66, y_Binary#83, index#107, y_summary_binary#133, Mean#135, Std Dev#145, Median#147, Min#149, Max#151, CountBelow#153L, CountAbove#155L, PercentageBelow#157, PercentageAbove#159, value_lag_1#376, mean_lag_1#394, std_dev_lag_1#413, med_lag_1#433, min_lag_1#454, max_lag_1#476, cnt_bel_lag_1#499L, cnt_abv_lag_1#523L, ... 8 more fields]\n                                                                                                                                                                        +- Window [lag(Min#149, -2, null) windowspecdefinition(PatientId#65, GlucoseDisplayTime#64 ASC NULLS FIRST, specifiedwindowframe(RowFrame, -2, -2)) AS min_lag_2#719], [PatientId#65], [GlucoseDisplayTime#64 ASC NULLS FIRST]\n                                                                                                                                                                           +- Project [PatientId#65, Chunk#119, GlucoseDisplayTime#64, Value#66, y_Binary#83, index#107, y_summary_binary#133, Mean#135, Std Dev#145, Median#147, Min#149, Max#151, CountBelow#153L, CountAbove#155L, PercentageBelow#157, PercentageAbove#159, value_lag_1#376, mean_lag_1#394, std_dev_lag_1#413, med_lag_1#433, min_lag_1#454, max_lag_1#476, cnt_bel_lag_1#499L, cnt_abv_lag_1#523L, ... 6 more fields]\n                                                                                                                                                                              +- Project [PatientId#65, Chunk#119, GlucoseDisplayTime#64, Value#66, y_Binary#83, index#107, y_summary_binary#133, Mean#135, Std Dev#145, Median#147, Min#149, Max#151, CountBelow#153L, CountAbove#155L, PercentageBelow#157, PercentageAbove#159, value_lag_1#376, mean_lag_1#394, std_dev_lag_1#413, med_lag_1#433, min_lag_1#454, max_lag_1#476, cnt_bel_lag_1#499L, cnt_abv_lag_1#523L, ... 6 more fields]\n                                                                                                                                                                                 +- Project [PatientId#65, Chunk#119, GlucoseDisplayTime#64, Value#66, y_Binary#83, index#107, y_summary_binary#133, Mean#135, Std Dev#145, Median#147, Min#149, Max#151, CountBelow#153L, CountAbove#155L, PercentageBelow#157, PercentageAbove#159, value_lag_1#376, mean_lag_1#394, std_dev_lag_1#413, med_lag_1#433, min_lag_1#454, max_lag_1#476, cnt_bel_lag_1#499L, cnt_abv_lag_1#523L, ... 7 more fields]\n                                                                                                                                                                                    +- Window [lag(Median#147, -2, null) windowspecdefinition(PatientId#65, GlucoseDisplayTime#64 ASC NULLS FIRST, specifiedwindowframe(RowFrame, -2, -2)) AS med_lag_2#688], [PatientId#65], [GlucoseDisplayTime#64 ASC NULLS FIRST]\n                                                                                                                                                                                       +- Project [PatientId#65, Chunk#119, GlucoseDisplayTime#64, Value#66, y_Binary#83, index#107, y_summary_binary#133, Mean#135, Std Dev#145, Median#147, Min#149, Max#151, CountBelow#153L, CountAbove#155L, PercentageBelow#157, PercentageAbove#159, value_lag_1#376, mean_lag_1#394, std_dev_lag_1#413, med_lag_1#433, min_lag_1#454, max_lag_1#476, cnt_bel_lag_1#499L, cnt_abv_lag_1#523L, ... 5 more fields]\n                                                                                                                                                                                          +- Project [PatientId#65, Chunk#119, GlucoseDisplayTime#64, Value#66, y_Binary#83, index#107, y_summary_binary#133, Mean#135, Std Dev#145, Median#147, Min#149, Max#151, CountBelow#153L, CountAbove#155L, PercentageBelow#157, PercentageAbove#159, value_lag_1#376, mean_lag_1#394, std_dev_lag_1#413, med_lag_1#433, min_lag_1#454, max_lag_1#476, cnt_bel_lag_1#499L, cnt_abv_lag_1#523L, ... 5 more fields]\n                                                                                                                                                                                             +- Project [PatientId#65, Chunk#119, GlucoseDisplayTime#64, Value#66, y_Binary#83, index#107, y_summary_binary#133, Mean#135, Std Dev#145, Median#147, Min#149, Max#151, CountBelow#153L, CountAbove#155L, PercentageBelow#157, PercentageAbove#159, value_lag_1#376, mean_lag_1#394, std_dev_lag_1#413, med_lag_1#433, min_lag_1#454, max_lag_1#476, cnt_bel_lag_1#499L, cnt_abv_lag_1#523L, ... 6 more fields]\n                                                                                                                                                                                                +- Window [lag(Std Dev#145, -2, null) windowspecdefinition(PatientId#65, GlucoseDisplayTime#64 ASC NULLS FIRST, specifiedwindowframe(RowFrame, -2, -2)) AS std_dev_lag_2#658], [PatientId#65], [GlucoseDisplayTime#64 ASC NULLS FIRST]\n                                                                                                                                                                                                   +- Project [PatientId#65, Chunk#119, GlucoseDisplayTime#64, Value#66, y_Binary#83, index#107, y_summary_binary#133, Mean#135, Std Dev#145, Median#147, Min#149, Max#151, CountBelow#153L, CountAbove#155L, PercentageBelow#157, PercentageAbove#159, value_lag_1#376, mean_lag_1#394, std_dev_lag_1#413, med_lag_1#433, min_lag_1#454, max_lag_1#476, cnt_bel_lag_1#499L, cnt_abv_lag_1#523L, ... 4 more fields]\n                                                                                                                                                                                                      +- Project [PatientId#65, Chunk#119, GlucoseDisplayTime#64, Value#66, y_Binary#83, index#107, y_summary_binary#133, Mean#135, Std Dev#145, Median#147, Min#149, Max#151, CountBelow#153L, CountAbove#155L, PercentageBelow#157, PercentageAbove#159, value_lag_1#376, mean_lag_1#394, std_dev_lag_1#413, med_lag_1#433, min_lag_1#454, max_lag_1#476, cnt_bel_lag_1#499L, cnt_abv_lag_1#523L, ... 4 more fields]\n                                                                                                                                                                                                         +- Project [PatientId#65, Chunk#119, GlucoseDisplayTime#64, Value#66, y_Binary#83, index#107, y_summary_binary#133, Mean#135, Std Dev#145, Median#147, Min#149, Max#151, CountBelow#153L, CountAbove#155L, PercentageBelow#157, PercentageAbove#159, value_lag_1#376, mean_lag_1#394, std_dev_lag_1#413, med_lag_1#433, min_lag_1#454, max_lag_1#476, cnt_bel_lag_1#499L, cnt_abv_lag_1#523L, ... 5 more fields]\n                                                                                                                                                                                                            +- Window [lag(Mean#135, -2, null) windowspecdefinition(PatientId#65, GlucoseDisplayTime#64 ASC NULLS FIRST, specifiedwindowframe(RowFrame, -2, -2)) AS mean_lag_2#629], [PatientId#65], [GlucoseDisplayTime#64 ASC NULLS FIRST]\n                                                                                                                                                                                                               +- Project [PatientId#65, Chunk#119, GlucoseDisplayTime#64, Value#66, y_Binary#83, index#107, y_summary_binary#133, Mean#135, Std Dev#145, Median#147, Min#149, Max#151, CountBelow#153L, CountAbove#155L, PercentageBelow#157, PercentageAbove#159, value_lag_1#376, mean_lag_1#394, std_dev_lag_1#413, med_lag_1#433, min_lag_1#454, max_lag_1#476, cnt_bel_lag_1#499L, cnt_abv_lag_1#523L, ... 3 more fields]\n                                                                                                                                                                                                                  +- Project [PatientId#65, Chunk#119, GlucoseDisplayTime#64, Value#66, y_Binary#83, index#107, y_summary_binary#133, Mean#135, Std Dev#145, Median#147, Min#149, Max#151, CountBelow#153L, CountAbove#155L, PercentageBelow#157, PercentageAbove#159, value_lag_1#376, mean_lag_1#394, std_dev_lag_1#413, med_lag_1#433, min_lag_1#454, max_lag_1#476, cnt_bel_lag_1#499L, cnt_abv_lag_1#523L, ... 3 more fields]\n                                                                                                                                                                                                                     +- Project [PatientId#65, Chunk#119, GlucoseDisplayTime#64, Value#66, y_Binary#83, index#107, y_summary_binary#133, Mean#135, Std Dev#145, Median#147, Min#149, Max#151, CountBelow#153L, CountAbove#155L, PercentageBelow#157, PercentageAbove#159, value_lag_1#376, mean_lag_1#394, std_dev_lag_1#413, med_lag_1#433, min_lag_1#454, max_lag_1#476, cnt_bel_lag_1#499L, cnt_abv_lag_1#523L, ... 4 more fields]\n                                                                                                                                                                                                                        +- Window [lag(Value#66, -2, null) windowspecdefinition(PatientId#65, GlucoseDisplayTime#64 ASC NULLS FIRST, specifiedwindowframe(RowFrame, -2, -2)) AS value_lag_2#601], [PatientId#65], [GlucoseDisplayTime#64 ASC NULLS FIRST]\n                                                                                                                                                                                                                           +- Project [PatientId#65, Chunk#119, GlucoseDisplayTime#64, Value#66, y_Binary#83, index#107, y_summary_binary#133, Mean#135, Std Dev#145, Median#147, Min#149, Max#151, CountBelow#153L, CountAbove#155L, PercentageBelow#157, PercentageAbove#159, value_lag_1#376, mean_lag_1#394, std_dev_lag_1#413, med_lag_1#433, min_lag_1#454, max_lag_1#476, cnt_bel_lag_1#499L, cnt_abv_lag_1#523L, ... 2 more fields]\n                                                                                                                                                                                                                              +- Project [PatientId#65, Chunk#119, GlucoseDisplayTime#64, Value#66, y_Binary#83, index#107, y_summary_binary#133, Mean#135, Std Dev#145, Median#147, Min#149, Max#151, CountBelow#153L, CountAbove#155L, PercentageBelow#157, PercentageAbove#159, value_lag_1#376, mean_lag_1#394, std_dev_lag_1#413, med_lag_1#433, min_lag_1#454, max_lag_1#476, cnt_bel_lag_1#499L, cnt_abv_lag_1#523L, ... 2 more fields]\n                                                                                                                                                                                                                                 +- Project [PatientId#65, Chunk#119, GlucoseDisplayTime#64, Value#66, y_Binary#83, index#107, y_summary_binary#133, Mean#135, Std Dev#145, Median#147, Min#149, Max#151, CountBelow#153L, CountAbove#155L, PercentageBelow#157, PercentageAbove#159, value_lag_1#376, mean_lag_1#394, std_dev_lag_1#413, med_lag_1#433, min_lag_1#454, max_lag_1#476, cnt_bel_lag_1#499L, cnt_abv_lag_1#523L, ... 3 more fields]\n                                                                                                                                                                                                                                    +- Window [lag(PercentageAbove#159, -1, null) windowspecdefinition(PatientId#65, GlucoseDisplayTime#64 ASC NULLS FIRST, specifiedwindowframe(RowFrame, -1, -1)) AS perc_abv_lag_1#574], [PatientId#65], [GlucoseDisplayTime#64 ASC NULLS FIRST]\n                                                                                                                                                                                                                                       +- Project [PatientId#65, Chunk#119, GlucoseDisplayTime#64, Value#66, y_Binary#83, index#107, y_summary_binary#133, Mean#135, Std Dev#145, Median#147, Min#149, Max#151, CountBelow#153L, CountAbove#155L, PercentageBelow#157, PercentageAbove#159, value_lag_1#376, mean_lag_1#394, std_dev_lag_1#413, med_lag_1#433, min_lag_1#454, max_lag_1#476, cnt_bel_lag_1#499L, cnt_abv_lag_1#523L, perc_belw_lag_1#548]\n                                                                                                                                                                                                                                          +- Project [PatientId#65, Chunk#119, GlucoseDisplayTime#64, Value#66, y_Binary#83, index#107, y_summary_binary#133, Mean#135, Std Dev#145, Median#147, Min#149, Max#151, CountBelow#153L, CountAbove#155L, PercentageBelow#157, PercentageAbove#159, value_lag_1#376, mean_lag_1#394, std_dev_lag_1#413, med_lag_1#433, min_lag_1#454, max_lag_1#476, cnt_bel_lag_1#499L, cnt_abv_lag_1#523L, perc_belw_lag_1#548]\n                                                                                                                                                                                                                                             +- Project [PatientId#65, Chunk#119, GlucoseDisplayTime#64, Value#66, y_Binary#83, index#107, y_summary_binary#133, Mean#135, Std Dev#145, Median#147, Min#149, Max#151, CountBelow#153L, CountAbove#155L, PercentageBelow#157, PercentageAbove#159, value_lag_1#376, mean_lag_1#394, std_dev_lag_1#413, med_lag_1#433, min_lag_1#454, max_lag_1#476, cnt_bel_lag_1#499L, cnt_abv_lag_1#523L, ... 2 more fields]\n                                                                                                                                                                                                                                                +- Window [lag(PercentageBelow#157, -1, null) windowspecdefinition(PatientId#65, GlucoseDisplayTime#64 ASC NULLS FIRST, specifiedwindowframe(RowFrame, -1, -1)) AS perc_belw_lag_1#548], [PatientId#65], [GlucoseDisplayTime#64 ASC NULLS FIRST]\n                                                                                                                                                                                                                                                   +- Project [PatientId#65, Chunk#119, GlucoseDisplayTime#64, Value#66, y_Binary#83, index#107, y_summary_binary#133, Mean#135, Std Dev#145, Median#147, Min#149, Max#151, CountBelow#153L, CountAbove#155L, PercentageBelow#157, PercentageAbove#159, value_lag_1#376, mean_lag_1#394, std_dev_lag_1#413, med_lag_1#433, min_lag_1#454, max_lag_1#476, cnt_bel_lag_1#499L, cnt_abv_lag_1#523L]\n                                                                                                                                                                                                                                                      +- Project [PatientId#65, Chunk#119, GlucoseDisplayTime#64, Value#66, y_Binary#83, index#107, y_summary_binary#133, Mean#135, Std Dev#145, Median#147, Min#149, Max#151, CountBelow#153L, CountAbove#155L, PercentageBelow#157, PercentageAbove#159, value_lag_1#376, mean_lag_1#394, std_dev_lag_1#413, med_lag_1#433, min_lag_1#454, max_lag_1#476, cnt_bel_lag_1#499L, cnt_abv_lag_1#523L]\n                                                                                                                                                                                                                                                         +- Project [PatientId#65, Chunk#119, GlucoseDisplayTime#64, Value#66, y_Binary#83, index#107, y_summary_binary#133, Mean#135, Std Dev#145, Median#147, Min#149, Max#151, CountBelow#153L, CountAbove#155L, PercentageBelow#157, PercentageAbove#159, value_lag_1#376, mean_lag_1#394, std_dev_lag_1#413, med_lag_1#433, min_lag_1#454, max_lag_1#476, cnt_bel_lag_1#499L, cnt_abv_lag_1#523L, cnt_abv_lag_1#523L]\n                                                                                                                                                                                                                                                            +- Window [lag(CountAbove#155L, -1, null) windowspecdefinition(PatientId#65, GlucoseDisplayTime#64 ASC NULLS FIRST, specifiedwindowframe(RowFrame, -1, -1)) AS cnt_abv_lag_1#523L], [PatientId#65], [GlucoseDisplayTime#64 ASC NULLS FIRST]\n                                                                                                                                                                                                                                                               +- Project [PatientId#65, Chunk#119, GlucoseDisplayTime#64, Value#66, y_Binary#83, index#107, y_summary_binary#133, Mean#135, Std Dev#145, Median#147, Min#149, Max#151, CountBelow#153L, CountAbove#155L, PercentageBelow#157, PercentageAbove#159, value_lag_1#376, mean_lag_1#394, std_dev_lag_1#413, med_lag_1#433, min_lag_1#454, max_lag_1#476, cnt_bel_lag_1#499L]\n                                                                                                                                                                                                                                                                  +- Project [PatientId#65, Chunk#119, GlucoseDisplayTime#64, Value#66, y_Binary#83, index#107, y_summary_binary#133, Mean#135, Std Dev#145, Median#147, Min#149, Max#151, CountBelow#153L, CountAbove#155L, PercentageBelow#157, PercentageAbove#159, value_lag_1#376, mean_lag_1#394, std_dev_lag_1#413, med_lag_1#433, min_lag_1#454, max_lag_1#476, cnt_bel_lag_1#499L]\n                                                                                                                                                                                                                                                                     +- Project [PatientId#65, Chunk#119, GlucoseDisplayTime#64, Value#66, y_Binary#83, index#107, y_summary_binary#133, Mean#135, Std Dev#145, Median#147, Min#149, Max#151, CountBelow#153L, CountAbove#155L, PercentageBelow#157, PercentageAbove#159, value_lag_1#376, mean_lag_1#394, std_dev_lag_1#413, med_lag_1#433, min_lag_1#454, max_lag_1#476, cnt_bel_lag_1#499L, cnt_bel_lag_1#499L]\n                                                                                                                                                                                                                                                                        +- Window [lag(CountBelow#153L, -1, null) windowspecdefinition(PatientId#65, GlucoseDisplayTime#64 ASC NULLS FIRST, specifiedwindowframe(RowFrame, -1, -1)) AS cnt_bel_lag_1#499L], [PatientId#65], [GlucoseDisplayTime#64 ASC NULLS FIRST]\n                                                                                                                                                                                                                                                                           +- Project [PatientId#65, Chunk#119, GlucoseDisplayTime#64, Value#66, y_Binary#83, index#107, y_summary_binary#133, Mean#135, Std Dev#145, Median#147, Min#149, Max#151, CountBelow#153L, CountAbove#155L, PercentageBelow#157, PercentageAbove#159, value_lag_1#376, mean_lag_1#394, std_dev_lag_1#413, med_lag_1#433, min_lag_1#454, max_lag_1#476]\n                                                                                                                                                                                                                                                                              +- Project [PatientId#65, Chunk#119, GlucoseDisplayTime#64, Value#66, y_Binary#83, index#107, y_summary_binary#133, Mean#135, Std Dev#145, Median#147, Min#149, Max#151, CountBelow#153L, CountAbove#155L, PercentageBelow#157, PercentageAbove#159, value_lag_1#376, mean_lag_1#394, std_dev_lag_1#413, med_lag_1#433, min_lag_1#454, max_lag_1#476]\n                                                                                                                                                                                                                                                                                 +- Project [PatientId#65, Chunk#119, GlucoseDisplayTime#64, Value#66, y_Binary#83, index#107, y_summary_binary#133, Mean#135, Std Dev#145, Median#147, Min#149, Max#151, CountBelow#153L, CountAbove#155L, PercentageBelow#157, PercentageAbove#159, value_lag_1#376, mean_lag_1#394, std_dev_lag_1#413, med_lag_1#433, min_lag_1#454, max_lag_1#476, max_lag_1#476]\n                                                                                                                                                                                                                                                                                    +- Window [lag(Max#151, -1, null) windowspecdefinition(PatientId#65, GlucoseDisplayTime#64 ASC NULLS FIRST, specifiedwindowframe(RowFrame, -1, -1)) AS max_lag_1#476], [PatientId#65], [GlucoseDisplayTime#64 ASC NULLS FIRST]\n                                                                                                                                                                                                                                                                                       +- Project [PatientId#65, Chunk#119, GlucoseDisplayTime#64, Value#66, y_Binary#83, index#107, y_summary_binary#133, Mean#135, Std Dev#145, Median#147, Min#149, Max#151, CountBelow#153L, CountAbove#155L, PercentageBelow#157, PercentageAbove#159, value_lag_1#376, mean_lag_1#394, std_dev_lag_1#413, med_lag_1#433, min_lag_1#454]\n                                                                                                                                                                                                                                                                                          +- Project [PatientId#65, Chunk#119, GlucoseDisplayTime#64, Value#66, y_Binary#83, index#107, y_summary_binary#133, Mean#135, Std Dev#145, Median#147, Min#149, Max#151, CountBelow#153L, CountAbove#155L, PercentageBelow#157, PercentageAbove#159, value_lag_1#376, mean_lag_1#394, std_dev_lag_1#413, med_lag_1#433, min_lag_1#454]\n                                                                                                                                                                                                                                                                                             +- Project [PatientId#65, Chunk#119, GlucoseDisplayTime#64, Value#66, y_Binary#83, index#107, y_summary_binary#133, Mean#135, Std Dev#145, Median#147, Min#149, Max#151, CountBelow#153L, CountAbove#155L, PercentageBelow#157, PercentageAbove#159, value_lag_1#376, mean_lag_1#394, std_dev_lag_1#413, med_lag_1#433, min_lag_1#454, min_lag_1#454]\n                                                                                                                                                                                                                                                                                                +- Window [lag(Min#149, -1, null) windowspecdefinition(PatientId#65, GlucoseDisplayTime#64 ASC NULLS FIRST, specifiedwindowframe(RowFrame, -1, -1)) AS min_lag_1#454], [PatientId#65], [GlucoseDisplayTime#64 ASC NULLS FIRST]\n                                                                                                                                                                                                                                                                                                   +- Project [PatientId#65, Chunk#119, GlucoseDisplayTime#64, Value#66, y_Binary#83, index#107, y_summary_binary#133, Mean#135, Std Dev#145, Median#147, Min#149, Max#151, CountBelow#153L, CountAbove#155L, PercentageBelow#157, PercentageAbove#159, value_lag_1#376, mean_lag_1#394, std_dev_lag_1#413, med_lag_1#433]\n                                                                                                                                                                                                                                                                                                      +- Project [PatientId#65, Chunk#119, GlucoseDisplayTime#64, Value#66, y_Binary#83, index#107, y_summary_binary#133, Mean#135, Std Dev#145, Median#147, Min#149, Max#151, CountBelow#153L, CountAbove#155L, PercentageBelow#157, PercentageAbove#159, value_lag_1#376, mean_lag_1#394, std_dev_lag_1#413, med_lag_1#433]\n                                                                                                                                                                                                                                                                                                         +- Project [PatientId#65, Chunk#119, GlucoseDisplayTime#64, Value#66, y_Binary#83, index#107, y_summary_binary#133, Mean#135, Std Dev#145, Median#147, Min#149, Max#151, CountBelow#153L, CountAbove#155L, PercentageBelow#157, PercentageAbove#159, value_lag_1#376, mean_lag_1#394, std_dev_lag_1#413, med_lag_1#433, med_lag_1#433]\n                                                                                                                                                                                                                                                                                                            +- Window [lag(Median#147, -1, null) windowspecdefinition(PatientId#65, GlucoseDisplayTime#64 ASC NULLS FIRST, specifiedwindowframe(RowFrame, -1, -1)) AS med_lag_1#433], [PatientId#65], [GlucoseDisplayTime#64 ASC NULLS FIRST]\n                                                                                                                                                                                                                                                                                                               +- Project [PatientId#65, Chunk#119, GlucoseDisplayTime#64, Value#66, y_Binary#83, index#107, y_summary_binary#133, Mean#135, Std Dev#145, Median#147, Min#149, Max#151, CountBelow#153L, CountAbove#155L, PercentageBelow#157, PercentageAbove#159, value_lag_1#376, mean_lag_1#394, std_dev_lag_1#413]\n                                                                                                                                                                                                                                                                                                                  +- Project [PatientId#65, Chunk#119, GlucoseDisplayTime#64, Value#66, y_Binary#83, index#107, y_summary_binary#133, Mean#135, Std Dev#145, Median#147, Min#149, Max#151, CountBelow#153L, CountAbove#155L, PercentageBelow#157, PercentageAbove#159, value_lag_1#376, mean_lag_1#394, std_dev_lag_1#413]\n                                                                                                                                                                                                                                                                                                                     +- Project [PatientId#65, Chunk#119, GlucoseDisplayTime#64, Value#66, y_Binary#83, index#107, y_summary_binary#133, Mean#135, Std Dev#145, Median#147, Min#149, Max#151, CountBelow#153L, CountAbove#155L, PercentageBelow#157, PercentageAbove#159, value_lag_1#376, mean_lag_1#394, std_dev_lag_1#413, std_dev_lag_1#413]\n                                                                                                                                                                                                                                                                                                                        +- Window [lag(Std Dev#145, -1, null) windowspecdefinition(PatientId#65, GlucoseDisplayTime#64 ASC NULLS FIRST, specifiedwindowframe(RowFrame, -1, -1)) AS std_dev_lag_1#413], [PatientId#65], [GlucoseDisplayTime#64 ASC NULLS FIRST]\n                                                                                                                                                                                                                                                                                                                           +- Project [PatientId#65, Chunk#119, GlucoseDisplayTime#64, Value#66, y_Binary#83, index#107, y_summary_binary#133, Mean#135, Std Dev#145, Median#147, Min#149, Max#151, CountBelow#153L, CountAbove#155L, PercentageBelow#157, PercentageAbove#159, value_lag_1#376, mean_lag_1#394]\n                                                                                                                                                                                                                                                                                                                              +- Project [PatientId#65, Chunk#119, GlucoseDisplayTime#64, Value#66, y_Binary#83, index#107, y_summary_binary#133, Mean#135, Std Dev#145, Median#147, Min#149, Max#151, CountBelow#153L, CountAbove#155L, PercentageBelow#157, PercentageAbove#159, value_lag_1#376, mean_lag_1#394]\n                                                                                                                                                                                                                                                                                                                                 +- Project [PatientId#65, Chunk#119, GlucoseDisplayTime#64, Value#66, y_Binary#83, index#107, y_summary_binary#133, Mean#135, Std Dev#145, Median#147, Min#149, Max#151, CountBelow#153L, CountAbove#155L, PercentageBelow#157, PercentageAbove#159, value_lag_1#376, mean_lag_1#394, mean_lag_1#394]\n                                                                                                                                                                                                                                                                                                                                    +- Window [lag(Mean#135, -1, null) windowspecdefinition(PatientId#65, GlucoseDisplayTime#64 ASC NULLS FIRST, specifiedwindowframe(RowFrame, -1, -1)) AS mean_lag_1#394], [PatientId#65], [GlucoseDisplayTime#64 ASC NULLS FIRST]\n                                                                                                                                                                                                                                                                                                                                       +- Project [PatientId#65, Chunk#119, GlucoseDisplayTime#64, Value#66, y_Binary#83, index#107, y_summary_binary#133, Mean#135, Std Dev#145, Median#147, Min#149, Max#151, CountBelow#153L, CountAbove#155L, PercentageBelow#157, PercentageAbove#159, value_lag_1#376]\n                                                                                                                                                                                                                                                                                                                                          +- Project [PatientId#65, Chunk#119, GlucoseDisplayTime#64, Value#66, y_Binary#83, index#107, y_summary_binary#133, Mean#135, Std Dev#145, Median#147, Min#149, Max#151, CountBelow#153L, CountAbove#155L, PercentageBelow#157, PercentageAbove#159, value_lag_1#376]\n                                                                                                                                                                                                                                                                                                                                             +- Project [PatientId#65, Chunk#119, GlucoseDisplayTime#64, Value#66, y_Binary#83, index#107, y_summary_binary#133, Mean#135, Std Dev#145, Median#147, Min#149, Max#151, CountBelow#153L, CountAbove#155L, PercentageBelow#157, PercentageAbove#159, value_lag_1#376, value_lag_1#376]\n                                                                                                                                                                                                                                                                                                                                                +- Window [lag(Value#66, -1, null) windowspecdefinition(PatientId#65, GlucoseDisplayTime#64 ASC NULLS FIRST, specifiedwindowframe(RowFrame, -1, -1)) AS value_lag_1#376], [PatientId#65], [GlucoseDisplayTime#64 ASC NULLS FIRST]\n                                                                                                                                                                                                                                                                                                                                                   +- Project [PatientId#65, Chunk#119, GlucoseDisplayTime#64, Value#66, y_Binary#83, index#107, y_summary_binary#133, Mean#135, Std Dev#145, Median#147, Min#149, Max#151, CountBelow#153L, CountAbove#155L, PercentageBelow#157, PercentageAbove#159]\n                                                                                                                                                                                                                                                                                                                                                      +- Project [PatientId#65, Chunk#119, GlucoseDisplayTime#64, Value#66, y_Binary#83, index#107, y_summary_binary#133, Mean#135, Std Dev#145, Median#147, Min#149, Max#151, CountBelow#153L, CountAbove#155L, PercentageBelow#157, PercentageAbove#159]\n                                                                                                                                                                                                                                                                                                                                                         +- Join Inner, ((PatientId#65 = PatientId#212) AND (Chunk#119 = Chunk#209))\n                                                                                                                                                                                                                                                                                                                                                            :- Project [GlucoseDisplayTime#64, PatientId#65, Value#66, y_Binary#83, index#107, cast((cast(index#107 as double) / cast(12 as double)) as int) AS Chunk#119]\n                                                                                                                                                                                                                                                                                                                                                            :  +- Project [GlucoseDisplayTime#64, PatientId#65, Value#66, y_Binary#83, index#107]\n                                                                                                                                                                                                                                                                                                                                                            :     +- Project [GlucoseDisplayTime#64, PatientId#65, Value#66, y_Binary#83, index#107, index#107]\n                                                                                                                                                                                                                                                                                                                                                            :        +- Window [rank(GlucoseDisplayTime#64) windowspecdefinition(PatientId#65, GlucoseDisplayTime#64 ASC NULLS FIRST, specifiedwindowframe(RowFrame, unboundedpreceding$(), currentrow$())) AS index#107], [PatientId#65], [GlucoseDisplayTime#64 ASC NULLS FIRST]\n                                                                                                                                                                                                                                                                                                                                                            :           +- Project [GlucoseDisplayTime#64, PatientId#65, Value#66, y_Binary#83]\n                                                                                                                                                                                                                                                                                                                                                            :              +- Project [GlucoseDisplayTime#64, PatientId#65, Value#66, CASE WHEN (Value#66 > cast(180 as float)) THEN 1 WHEN (Value#66 < cast(70 as float)) THEN 1 ELSE 0 END AS y_Binary#83]\n                                                                                                                                                                                                                                                                                                                                                            :                 +- FlatMapGroupsInPandas [PatientId#0], transform_features(PatientId#0, Value#1, GlucoseDisplayTime#20, GlucoseDisplayTimeRaw#3, GlucoseDisplayDate#4)#63, [GlucoseDisplayTime#64, PatientId#65, Value#66]\n                                                                                                                                                                                                                                                                                                                                                            :                    +- Project [PatientId#0, PatientId#0, Value#1, GlucoseDisplayTime#20, GlucoseDisplayTimeRaw#3, GlucoseDisplayDate#4]\n                                                                                                                                                                                                                                                                                                                                                            :                       +- Sort [PatientId#0 ASC NULLS FIRST, GlucoseDisplayTime#20 ASC NULLS FIRST], true\n                                                                                                                                                                                                                                                                                                                                                            :                          +- Deduplicate [Value#1, GlucoseDisplayTime#20, GlucoseDisplayTimeRaw#3, GlucoseDisplayDate#4, PatientId#0]\n                                                                                                                                                                                                                                                                                                                                                            :                             +- Project [PatientId#0, Value#1, date_trunc(minute, GlucoseDisplayTime#2, Some(Etc/UTC)) AS GlucoseDisplayTime#20, GlucoseDisplayTimeRaw#3, GlucoseDisplayDate#4]\n                                                                                                                                                                                                                                                                                                                                                            :                                +- Relation [PatientId#0,Value#1,GlucoseDisplayTime#2,GlucoseDisplayTimeRaw#3,GlucoseDisplayDate#4] parquet\n                                                                                                                                                                                                                                                                                                                                                            +- Aggregate [PatientId#212, Chunk#209], [PatientId#212, Chunk#209, max(y_binary#83) AS y_summary_binary#133, avg(Value#213) AS Mean#135, stddev_samp(cast(Value#213 as double)) AS Std Dev#145, percentile_approx(Value#213, 0.5, 10000, 0, 0) AS Median#147, min(Value#213) AS Min#149, max(Value#213) AS Max#151, count(CASE WHEN (Value#213 < cast(70 as float)) THEN 1 END) AS CountBelow#153L, count(CASE WHEN (Value#213 > cast(180 as float)) THEN 1 END) AS CountAbove#155L, (cast(count(CASE WHEN (Value#213 < cast(70 as float)) THEN 1 END) as double) / cast(12 as double)) AS PercentageBelow#157, (cast(count(CASE WHEN (Value#213 > cast(180 as float)) THEN 1 END) as double) / cast(12 as double)) AS PercentageAbove#159]\n                                                                                                                                                                                                                                                                                                                                                               +- Project [GlucoseDisplayTime#211, PatientId#212, Value#213, y_Binary#83, index#107, cast((cast(index#107 as double) / cast(12 as double)) as int) AS Chunk#209]\n                                                                                                                                                                                                                                                                                                                                                                  +- Project [GlucoseDisplayTime#211, PatientId#212, Value#213, y_Binary#83, index#107]\n                                                                                                                                                                                                                                                                                                                                                                     +- Project [GlucoseDisplayTime#211, PatientId#212, Value#213, y_Binary#83, index#107, index#107]\n                                                                                                                                                                                                                                                                                                                                                                        +- Window [rank(GlucoseDisplayTime#211) windowspecdefinition(PatientId#212, GlucoseDisplayTime#211 ASC NULLS FIRST, specifiedwindowframe(RowFrame, unboundedpreceding$(), currentrow$())) AS index#107], [PatientId#212], [GlucoseDisplayTime#211 ASC NULLS FIRST]\n                                                                                                                                                                                                                                                                                                                                                                           +- Project [GlucoseDisplayTime#211, PatientId#212, Value#213, y_Binary#83]\n                                                                                                                                                                                                                                                                                                                                                                              +- Project [GlucoseDisplayTime#211, PatientId#212, Value#213, CASE WHEN (Value#213 > cast(180 as float)) THEN 1 WHEN (Value#213 < cast(70 as float)) THEN 1 ELSE 0 END AS y_Binary#83]\n                                                                                                                                                                                                                                                                                                                                                                                 +- FlatMapGroupsInPandas [PatientId#204], transform_features(PatientId#204, Value#205, GlucoseDisplayTime#20, GlucoseDisplayTimeRaw#207, GlucoseDisplayDate#208)#63, [GlucoseDisplayTime#211, PatientId#212, Value#213]\n                                                                                                                                                                                                                                                                                                                                                                                    +- Project [PatientId#204, PatientId#204, Value#205, GlucoseDisplayTime#20, GlucoseDisplayTimeRaw#207, GlucoseDisplayDate#208]\n                                                                                                                                                                                                                                                                                                                                                                                       +- Sort [PatientId#204 ASC NULLS FIRST, GlucoseDisplayTime#20 ASC NULLS FIRST], true\n                                                                                                                                                                                                                                                                                                                                                                                          +- Deduplicate [Value#205, GlucoseDisplayTime#20, GlucoseDisplayTimeRaw#207, GlucoseDisplayDate#208, PatientId#204]\n                                                                                                                                                                                                                                                                                                                                                                                             +- Project [PatientId#204, Value#205, date_trunc(minute, GlucoseDisplayTime#206, Some(Etc/UTC)) AS GlucoseDisplayTime#20, GlucoseDisplayTimeRaw#207, GlucoseDisplayDate#208]\n                                                                                                                                                                                                                                                                                                                                                                                                +- Relation [PatientId#204,Value#205,GlucoseDisplayTime#206,GlucoseDisplayTimeRaw#207,GlucoseDisplayDate#208] parquet\n"
     ]
    }
   ],
   "source": [
    "for num_feature in scaled_feats:\n",
    "    pyspark_numerical_features=pyspark_numerical_features.select(vector_to_array(num_feature)[0].cast('float').alias(num_feature))"
   ]
  },
  {
   "cell_type": "code",
   "execution_count": 20,
   "metadata": {
    "tags": []
   },
   "outputs": [],
   "source": [
    "from pyspark.sql.types import DoubleType, FloatType"
   ]
  },
  {
   "cell_type": "code",
   "execution_count": 25,
   "metadata": {
    "tags": []
   },
   "outputs": [
    {
     "ename": "AnalysisException",
     "evalue": "Reference 'mean_lag_1_scaled' is ambiguous, could be: mean_lag_1_scaled, mean_lag_1_scaled.",
     "output_type": "error",
     "traceback": [
      "\u001b[0;31m---------------------------------------------------------------------------\u001b[0m",
      "\u001b[0;31mAnalysisException\u001b[0m                         Traceback (most recent call last)",
      "Cell \u001b[0;32mIn[25], line 4\u001b[0m\n\u001b[1;32m      1\u001b[0m udf1 \u001b[38;5;241m=\u001b[39m udf(\u001b[38;5;28;01mlambda\u001b[39;00m x : \u001b[38;5;28mint\u001b[39m(x[\u001b[38;5;241m0\u001b[39m]),FloatType())\n\u001b[1;32m      3\u001b[0m \u001b[38;5;28;01mfor\u001b[39;00m num_feature \u001b[38;5;129;01min\u001b[39;00m scaled_feats:\n\u001b[0;32m----> 4\u001b[0m     pyspark_numerical_features\u001b[38;5;241m=\u001b[39m\u001b[43mpyspark_numerical_features\u001b[49m\u001b[38;5;241;43m.\u001b[39;49m\u001b[43mwithColumn\u001b[49m\u001b[43m(\u001b[49m\u001b[43mnum_feature\u001b[49m\u001b[43m,\u001b[49m\u001b[43m \u001b[49m\u001b[43mudf1\u001b[49m\u001b[43m(\u001b[49m\u001b[43mcol\u001b[49m\u001b[43m(\u001b[49m\u001b[43mnum_feature\u001b[49m\u001b[43m)\u001b[49m\u001b[43m)\u001b[49m\u001b[43m)\u001b[49m\n",
      "File \u001b[0;32m~/glucose-data-analysis/glucose_venv/lib/python3.10/site-packages/pyspark/sql/dataframe.py:3036\u001b[0m, in \u001b[0;36mDataFrame.withColumn\u001b[0;34m(self, colName, col)\u001b[0m\n\u001b[1;32m   3034\u001b[0m \u001b[38;5;28;01mif\u001b[39;00m \u001b[38;5;129;01mnot\u001b[39;00m \u001b[38;5;28misinstance\u001b[39m(col, Column):\n\u001b[1;32m   3035\u001b[0m     \u001b[38;5;28;01mraise\u001b[39;00m \u001b[38;5;167;01mTypeError\u001b[39;00m(\u001b[38;5;124m\"\u001b[39m\u001b[38;5;124mcol should be Column\u001b[39m\u001b[38;5;124m\"\u001b[39m)\n\u001b[0;32m-> 3036\u001b[0m \u001b[38;5;28;01mreturn\u001b[39;00m DataFrame(\u001b[38;5;28;43mself\u001b[39;49m\u001b[38;5;241;43m.\u001b[39;49m\u001b[43m_jdf\u001b[49m\u001b[38;5;241;43m.\u001b[39;49m\u001b[43mwithColumn\u001b[49m\u001b[43m(\u001b[49m\u001b[43mcolName\u001b[49m\u001b[43m,\u001b[49m\u001b[43m \u001b[49m\u001b[43mcol\u001b[49m\u001b[38;5;241;43m.\u001b[39;49m\u001b[43m_jc\u001b[49m\u001b[43m)\u001b[49m, \u001b[38;5;28mself\u001b[39m\u001b[38;5;241m.\u001b[39msparkSession)\n",
      "File \u001b[0;32m~/glucose-data-analysis/glucose_venv/lib/python3.10/site-packages/py4j/java_gateway.py:1321\u001b[0m, in \u001b[0;36mJavaMember.__call__\u001b[0;34m(self, *args)\u001b[0m\n\u001b[1;32m   1315\u001b[0m command \u001b[38;5;241m=\u001b[39m proto\u001b[38;5;241m.\u001b[39mCALL_COMMAND_NAME \u001b[38;5;241m+\u001b[39m\\\n\u001b[1;32m   1316\u001b[0m     \u001b[38;5;28mself\u001b[39m\u001b[38;5;241m.\u001b[39mcommand_header \u001b[38;5;241m+\u001b[39m\\\n\u001b[1;32m   1317\u001b[0m     args_command \u001b[38;5;241m+\u001b[39m\\\n\u001b[1;32m   1318\u001b[0m     proto\u001b[38;5;241m.\u001b[39mEND_COMMAND_PART\n\u001b[1;32m   1320\u001b[0m answer \u001b[38;5;241m=\u001b[39m \u001b[38;5;28mself\u001b[39m\u001b[38;5;241m.\u001b[39mgateway_client\u001b[38;5;241m.\u001b[39msend_command(command)\n\u001b[0;32m-> 1321\u001b[0m return_value \u001b[38;5;241m=\u001b[39m \u001b[43mget_return_value\u001b[49m\u001b[43m(\u001b[49m\n\u001b[1;32m   1322\u001b[0m \u001b[43m    \u001b[49m\u001b[43manswer\u001b[49m\u001b[43m,\u001b[49m\u001b[43m \u001b[49m\u001b[38;5;28;43mself\u001b[39;49m\u001b[38;5;241;43m.\u001b[39;49m\u001b[43mgateway_client\u001b[49m\u001b[43m,\u001b[49m\u001b[43m \u001b[49m\u001b[38;5;28;43mself\u001b[39;49m\u001b[38;5;241;43m.\u001b[39;49m\u001b[43mtarget_id\u001b[49m\u001b[43m,\u001b[49m\u001b[43m \u001b[49m\u001b[38;5;28;43mself\u001b[39;49m\u001b[38;5;241;43m.\u001b[39;49m\u001b[43mname\u001b[49m\u001b[43m)\u001b[49m\n\u001b[1;32m   1324\u001b[0m \u001b[38;5;28;01mfor\u001b[39;00m temp_arg \u001b[38;5;129;01min\u001b[39;00m temp_args:\n\u001b[1;32m   1325\u001b[0m     temp_arg\u001b[38;5;241m.\u001b[39m_detach()\n",
      "File \u001b[0;32m~/glucose-data-analysis/glucose_venv/lib/python3.10/site-packages/pyspark/sql/utils.py:196\u001b[0m, in \u001b[0;36mcapture_sql_exception.<locals>.deco\u001b[0;34m(*a, **kw)\u001b[0m\n\u001b[1;32m    192\u001b[0m converted \u001b[38;5;241m=\u001b[39m convert_exception(e\u001b[38;5;241m.\u001b[39mjava_exception)\n\u001b[1;32m    193\u001b[0m \u001b[38;5;28;01mif\u001b[39;00m \u001b[38;5;129;01mnot\u001b[39;00m \u001b[38;5;28misinstance\u001b[39m(converted, UnknownException):\n\u001b[1;32m    194\u001b[0m     \u001b[38;5;66;03m# Hide where the exception came from that shows a non-Pythonic\u001b[39;00m\n\u001b[1;32m    195\u001b[0m     \u001b[38;5;66;03m# JVM exception message.\u001b[39;00m\n\u001b[0;32m--> 196\u001b[0m     \u001b[38;5;28;01mraise\u001b[39;00m converted \u001b[38;5;28;01mfrom\u001b[39;00m \u001b[38;5;28mNone\u001b[39m\n\u001b[1;32m    197\u001b[0m \u001b[38;5;28;01melse\u001b[39;00m:\n\u001b[1;32m    198\u001b[0m     \u001b[38;5;28;01mraise\u001b[39;00m\n",
      "\u001b[0;31mAnalysisException\u001b[0m: Reference 'mean_lag_1_scaled' is ambiguous, could be: mean_lag_1_scaled, mean_lag_1_scaled."
     ]
    }
   ],
   "source": [
    "udf1 = udf(lambda x : int(x[0]),FloatType())\n",
    "\n",
    "for num_feature in scaled_feats:\n",
    "    pyspark_numerical_features=pyspark_numerical_features.withColumn(num_feature, udf1(col(num_feature)))"
   ]
  },
  {
   "cell_type": "code",
   "execution_count": null,
   "metadata": {},
   "outputs": [],
   "source": []
  },
  {
   "cell_type": "code",
   "execution_count": null,
   "metadata": {},
   "outputs": [],
   "source": []
  },
  {
   "cell_type": "code",
   "execution_count": null,
   "metadata": {
    "tags": []
   },
   "outputs": [],
   "source": [
    "from Model_Creation.pyspark_xgboost import Create_PySpark_XGBoost\n",
    "create_pyspark_xgboost=Create_PySpark_XGBoost()"
   ]
  },
  {
   "cell_type": "code",
   "execution_count": null,
   "metadata": {
    "tags": []
   },
   "outputs": [],
   "source": [
    "pyspark_numerical_features.schema"
   ]
  },
  {
   "cell_type": "code",
   "execution_count": null,
   "metadata": {
    "tags": []
   },
   "outputs": [],
   "source": [
    "test_model=create_pyspark_xgboost.xgboost_classifier(ml_df=pyspark_numerical_features)"
   ]
  },
  {
   "cell_type": "code",
   "execution_count": null,
   "metadata": {},
   "outputs": [],
   "source": []
  },
  {
   "cell_type": "code",
   "execution_count": null,
   "metadata": {},
   "outputs": [],
   "source": []
  },
  {
   "cell_type": "code",
   "execution_count": null,
   "metadata": {},
   "outputs": [],
   "source": [
    "####### PySpark\n",
    "pyspark_xgboost_classsification_schema=pandas_udf_data_schema.xgboost_classification_schema()\n",
    "\n",
    "classification_model_outputs=xgboost_classification.pyspark_xgboost(df=pyspark_lag_features_creation, \n",
    "                                                                    output_schema=pyspark_xgboost_classsification_schema, \n",
    "                                                                    train_split=ml_models_train_split, \n",
    "                                                                    test_split=ml_models_test_split)\n",
    "\n",
    "classification_model_outputs.show()"
   ]
  },
  {
   "cell_type": "markdown",
   "metadata": {},
   "source": [
    "### 12. PySpark: Model Evaluation"
   ]
  },
  {
   "cell_type": "code",
   "execution_count": null,
   "metadata": {},
   "outputs": [],
   "source": [
    "####### PySpark\n",
    "pyspark_classification_metric_schema=pandas_udf_data_schema.classification_metric_schema()\n",
    "\n",
    "classification_metric_df=classification_evalaution_metrics.pyspark_classification_model_evaluation_metrics(df=classification_model_outputs, \n",
    "                                                                                                           output_schema=pyspark_classification_metric_schema)\n",
    "classification_metric_df.show()                    "
   ]
  },
  {
   "cell_type": "markdown",
   "metadata": {},
   "source": [
    "### 13. PySpark: XGBoost Classification Feature Importance"
   ]
  },
  {
   "cell_type": "code",
   "execution_count": null,
   "metadata": {},
   "outputs": [],
   "source": [
    "xgboost_classification_plot.read_model_plot_variance(model_storage_location=model_storage_location)"
   ]
  },
  {
   "cell_type": "markdown",
   "metadata": {},
   "source": [
    "# Pandas"
   ]
  },
  {
   "cell_type": "markdown",
   "metadata": {},
   "source": [
    "### Pandas: Reading in Data"
   ]
  },
  {
   "cell_type": "code",
   "execution_count": null,
   "metadata": {},
   "outputs": [],
   "source": [
    "####### Pandas\n",
    "pandas_df=reading_data.read_in_pandas()\n",
    "pandas_df.head(1)"
   ]
  },
  {
   "cell_type": "markdown",
   "metadata": {},
   "source": [
    "### Pandas: Custom Imputation Pipeline"
   ]
  },
  {
   "cell_type": "code",
   "execution_count": null,
   "metadata": {},
   "outputs": [],
   "source": [
    "test_pat=pandas_df[pandas_df['PatientId']=='tHu8WPnIffml5CL+AbOBkXcbFApQnP06KdrHbjinta4=']"
   ]
  },
  {
   "cell_type": "code",
   "execution_count": null,
   "metadata": {},
   "outputs": [],
   "source": [
    "pandas_custom_imputation_pipeline=pandas_sklearn_pipeline.pandas_custom_imputation_pipeline(df=pandas_df)\n",
    "pandas_custom_imputation_pipeline.head(1)"
   ]
  },
  {
   "cell_type": "code",
   "execution_count": null,
   "metadata": {},
   "outputs": [],
   "source": [
    "####### Pandas\n",
    "pandas_custom_imputation_pipeline=pandas_sklearn_pipeline.pandas_custom_imputation_pipeline(df=pandas_df)\n",
    "pandas_custom_imputation_pipeline.head(1)"
   ]
  },
  {
   "cell_type": "markdown",
   "metadata": {},
   "source": [
    "### Pandas: Aggregate Data at Level"
   ]
  },
  {
   "cell_type": "code",
   "execution_count": null,
   "metadata": {},
   "outputs": [],
   "source": []
  },
  {
   "cell_type": "markdown",
   "metadata": {},
   "source": [
    "### Pandas: Adding Binary Labels"
   ]
  },
  {
   "cell_type": "code",
   "execution_count": null,
   "metadata": {},
   "outputs": [],
   "source": [
    "pandas_df_added_binary_labels=create_binary_labels.pandas_binary_labels(df=pandas_custom_imputation_pipeline, \n",
    "                                                                        lower=daily_stats_features_lower, \n",
    "                                                                        upper=daily_stats_features_upper)\n",
    "pandas_df_added_binary_labels.head(1)"
   ]
  },
  {
   "cell_type": "markdown",
   "metadata": {},
   "source": [
    "### Pandas: Features: Summary Statistics"
   ]
  },
  {
   "cell_type": "code",
   "execution_count": null,
   "metadata": {},
   "outputs": [],
   "source": [
    "pandas_features_summary_stats=summary_stats_features.pandas_compressDailyValues(data=pandas_df_added_binary_labels, \n",
    "                                                                                lower=daily_stats_features_lower, \n",
    "                                                                                upper=daily_stats_features_upper)\n",
    "pandas_features_summary_stats.head(1)"
   ]
  },
  {
   "cell_type": "markdown",
   "metadata": {},
   "source": [
    "### Pandas: Wrapper Functions"
   ]
  },
  {
   "cell_type": "code",
   "execution_count": null,
   "metadata": {},
   "outputs": [],
   "source": []
  },
  {
   "cell_type": "markdown",
   "metadata": {},
   "source": [
    "### Pandas: Sklearn Categorical Pipeline in Pandas"
   ]
  },
  {
   "cell_type": "code",
   "execution_count": null,
   "metadata": {},
   "outputs": [],
   "source": [
    "import pandas as pd\n",
    "import numpy as np\n",
    "from sklearn.pipeline import Pipeline\n",
    "from sklearn.preprocessing import StandardScaler\n",
    "from sklearn.compose import ColumnTransformer\n",
    "from sklearn.impute import SimpleImputer\n",
    "from sklearn.preprocessing import OneHotEncoder\n",
    "df=pandas_features_summary_stats[['PatientId', 'Value', 'GlucoseDisplayTime', 'GlucoseDisplayDate', 'inserted', \n",
    "        'missing', 'y_Binary', 'Median', 'Mean', 'Std Dev', 'Max', 'Min', 'AreaBelow', 'AreaAbove']]"
   ]
  },
  {
   "cell_type": "code",
   "execution_count": null,
   "metadata": {},
   "outputs": [],
   "source": [
    "df.head()"
   ]
  },
  {
   "cell_type": "code",
   "execution_count": null,
   "metadata": {},
   "outputs": [],
   "source": [
    "for patient_id in df['PatientId'].unique():\n",
    "    # Categorical Features\n",
    "    categorical_features=['inserted', 'missing']\n",
    "    categorical_transformer=Pipeline([('imputer_cat', SimpleImputer(strategy='constant', fill_value=np.nan)),\n",
    "                                        ('onehot', OneHotEncoder(handle_unknown='ignore'))])\n",
    "\n",
    "    preprocessor_2=ColumnTransformer([('categorical', categorical_transformer, categorical_features)],\n",
    "                                    remainder = 'passthrough')\n",
    "\n",
    "    cat_pipe_pipeline=Pipeline([('preprocessing_2', preprocessor_2)])\n",
    "\n",
    "    transformed_data1=cat_pipe_pipeline.fit_transform(df)\n",
    "\n",
    "    transformed_data_df=pd.DataFrame(transformed_data1)\n",
    "\n",
    "    transformed_data_df['combine_inserted']=transformed_data_df[[0,1]].values.tolist()\n",
    "    transformed_data_df['combine_missing']=transformed_data_df[[2,3]].values.tolist()\n",
    "    transformed_data_df=transformed_data_df.drop(transformed_data_df.iloc[:, 0:4],axis = 1)\n",
    "\n",
    "    transformed_data_df.columns=['PatientId', 'Value', 'GlucoseDisplayTime', 'GlucoseDisplayDate', \n",
    "                                    'y_Binary', 'Median', 'Mean', 'Std Dev', 'Max', 'Min', 'AreaBelow', \n",
    "                                    'AreaAbove', 'inserted', 'missing']"
   ]
  },
  {
   "cell_type": "code",
   "execution_count": null,
   "metadata": {},
   "outputs": [],
   "source": [
    "transformed_data_df.columns"
   ]
  },
  {
   "cell_type": "code",
   "execution_count": null,
   "metadata": {},
   "outputs": [],
   "source": []
  },
  {
   "cell_type": "code",
   "execution_count": null,
   "metadata": {},
   "outputs": [],
   "source": [
    "####### Pandas\n",
    "pandas_custom_categorical_pipeline=pandas_sklearn_pipeline.pandas_transform_categorical_features(df=pandas_features_summary_stats)\n",
    "pandas_custom_categorical_pipeline.head(1)"
   ]
  },
  {
   "cell_type": "markdown",
   "metadata": {},
   "source": [
    "### Pandas: Sklearn Numerical Pipeline in Pandas"
   ]
  },
  {
   "cell_type": "code",
   "execution_count": null,
   "metadata": {},
   "outputs": [],
   "source": [
    "####### Pandas\n",
    "pandas_custom_numerical_pipeline=pandas_sklearn_pipeline.pandas_transform_numerical_features(df=pandas_custom_categorical_pipeline)\n",
    "pandas_custom_numerical_pipeline.head(1)"
   ]
  },
  {
   "cell_type": "markdown",
   "metadata": {},
   "source": [
    "### Pandas: Models"
   ]
  },
  {
   "cell_type": "code",
   "execution_count": null,
   "metadata": {},
   "outputs": [],
   "source": []
  },
  {
   "cell_type": "code",
   "execution_count": null,
   "metadata": {},
   "outputs": [],
   "source": []
  }
 ],
 "metadata": {
  "kernelspec": {
   "display_name": "glucose-venv",
   "language": "python",
   "name": "glucose-venv"
  },
  "language_info": {
   "codemirror_mode": {
    "name": "ipython",
    "version": 3
   },
   "file_extension": ".py",
   "mimetype": "text/x-python",
   "name": "python",
   "nbconvert_exporter": "python",
   "pygments_lexer": "ipython3",
   "version": "3.10.10"
  },
  "vscode": {
   "interpreter": {
    "hash": "e282f9bbb605e17ec33c138684786f2c6a0e45a19b318784bb5671e7a7934052"
   }
  }
 },
 "nbformat": 4,
 "nbformat_minor": 4
}
