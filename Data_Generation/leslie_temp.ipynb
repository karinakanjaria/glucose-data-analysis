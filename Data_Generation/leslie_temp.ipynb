{
 "cells": [
  {
   "cell_type": "code",
   "execution_count": 1,
   "id": "663e7975-e71e-4b62-a585-984047ad1fff",
   "metadata": {
    "tags": []
   },
   "outputs": [],
   "source": [
    "import time\n",
    "import numpy as np\n",
    "import pathlib\n",
    "import pandas as pd\n",
    "import pyspark\n",
    "from pyspark.sql import SparkSession, Window\n",
    "from pyspark.sql.functions import when, col, rank, monotonically_increasing_id, date_trunc, min, max\n",
    "from pyspark.sql.types import StructType, StructField, TimestampType, StringType, IntegerType, FloatType, DateType\n",
    "from datetime import date, datetime, timedelta\n",
    "\n",
    "# spark.stop()"
   ]
  },
  {
   "cell_type": "code",
   "execution_count": 2,
   "id": "7bae2e36-a1a4-4615-b42c-a9d1a8e771af",
   "metadata": {
    "tags": []
   },
   "outputs": [
    {
     "name": "stderr",
     "output_type": "stream",
     "text": [
      "Setting default log level to \"WARN\".\n",
      "To adjust logging level use sc.setLogLevel(newLevel). For SparkR, use setLogLevel(newLevel).\n"
     ]
    },
    {
     "name": "stdout",
     "output_type": "stream",
     "text": [
      "23/05/16 11:35:03 WARN NativeCodeLoader: Unable to load native-hadoop library for your platform... using builtin-java classes where applicable\n"
     ]
    },
    {
     "data": {
      "text/plain": [
       "'3.3.1'"
      ]
     },
     "execution_count": 2,
     "metadata": {},
     "output_type": "execute_result"
    }
   ],
   "source": [
    "conf = pyspark.SparkConf().setAll([\\\n",
    "    ('spark.app.name', 'ReduceData')])\n",
    "spark = SparkSession.builder.config(conf=conf)\\\n",
    "    .getOrCreate()\n",
    "\n",
    "spark.version"
   ]
  },
  {
   "cell_type": "code",
   "execution_count": 27,
   "id": "f7801704-e38a-4047-b61e-d66d278c5ba7",
   "metadata": {
    "tags": []
   },
   "outputs": [],
   "source": [
    "glucose_data_schema=StructType([StructField('NumId', IntegerType(), True),\n",
    "                                StructField('PatientId', StringType(), True),\n",
    "                                StructField('Value', FloatType(), True),\n",
    "                                StructField('GlucoseDisplayTime', TimestampType(), True),\n",
    "                                StructField('GlucoseDisplayTimeRaw', StringType(), True),\n",
    "                                StructField('GlucoseDisplayDate', DateType(), True)])\n",
    "\n",
    "temp_schema = StructType([StructField('PatientId', StringType(), True),\n",
    "                          StructField('count', IntegerType(), True)])"
   ]
  },
  {
   "cell_type": "markdown",
   "id": "03885f9a-ea34-4dea-9e2d-b5b1c5aaa6fe",
   "metadata": {},
   "source": [
    "# read things in"
   ]
  },
  {
   "cell_type": "code",
   "execution_count": 35,
   "id": "6e25d136-8a25-495e-ba1f-d75e5a1d3d07",
   "metadata": {
    "tags": []
   },
   "outputs": [
    {
     "name": "stdout",
     "output_type": "stream",
     "text": [
      "row count:  7957\n",
      "root\n",
      " |-- UserId: string (nullable = true)\n",
      " |-- count: integer (nullable = true)\n",
      "\n",
      "+--------------------+------+\n",
      "|              UserId| count|\n",
      "+--------------------+------+\n",
      "|+Gr/1qOf9OWMa4LOL...| 94433|\n",
      "|+TH+y0M8bQb2EpRVJ...| 84416|\n",
      "|+UJpU9Owd5VBvkNtJ...| 99362|\n",
      "|+PvW5D8b0wZANElHi...|101336|\n",
      "|+9Rtj/cdJMLF2raCJ...| 89139|\n",
      "|+JcspO9meT7uENVtz...| 97617|\n",
      "|+BPY2YsPzI4b+DwiN...| 82083|\n",
      "|+Ld/+ikzUehNOZ5f+...|100467|\n",
      "|+VCEKhqF9R2oI0VGv...| 91595|\n",
      "|+UgMn9AIL2d78WOS4...| 94862|\n",
      "|+M7reUgRS+P3suzYg...| 86859|\n",
      "|+O6WjkJ9Gb5esPEgG...|101657|\n",
      "|+9ipwJiIRcZTJrck+...|103118|\n",
      "|+F5NQV8YRae91R0Og...|100282|\n",
      "|+XcQw7Zbj9WPeWsDq...| 99547|\n",
      "|+DkuZFXuoapNjKE9g...| 85436|\n",
      "|+HzKQWGJels56+L6u...| 95393|\n",
      "|+8cP93h83g3DYhiXN...| 83085|\n",
      "|+7nbCvVCmsMWaCjcH...| 92185|\n",
      "|+XHDtL8igY38vN48Q...|102874|\n",
      "+--------------------+------+\n",
      "only showing top 20 rows\n",
      "\n"
     ]
    },
    {
     "data": {
      "text/plain": [
       "7957"
      ]
     },
     "execution_count": 35,
     "metadata": {},
     "output_type": "execute_result"
    }
   ],
   "source": [
    "df = spark.read\\\n",
    "    .parquet('temp_data/part-00000-bcc637a6-2bd8-4c20-bc2c-42de80cad98b-c000.snappy.parquet')\n",
    "\n",
    "df = df.withColumnRenamed('PatientId','UserId')\n",
    "df = df.withColumn('count',col('count').cast(IntegerType()))\n",
    "\n",
    "print(\"row count: \", df.count())\n",
    "df.printSchema()\n",
    "df.show()\n",
    "patIds = [i.UserId for i in df.select('UserId').distinct().collect()]\n",
    "len(patIds)"
   ]
  },
  {
   "cell_type": "markdown",
   "id": "6f3bcbf1-471e-4e5b-ba1f-bced141d923e",
   "metadata": {},
   "source": [
    "### all the training data"
   ]
  },
  {
   "cell_type": "code",
   "execution_count": 6,
   "id": "6d3a790e-6100-4da4-a93e-109911263548",
   "metadata": {
    "tags": []
   },
   "outputs": [],
   "source": [
    "\"\"\"replicate step1: read in the data\"\"\"\n",
    "data_location = \"/cephfs/train_test_val/train\"\n",
    "allPaths = [str(x) for x in list(pathlib.Path(data_location).glob('*.parquet')) if 'part-00' in str(x)]\n",
    "allPaths.sort()"
   ]
  },
  {
   "cell_type": "code",
   "execution_count": 67,
   "id": "57901daa-f524-469e-9c10-96b343c4787c",
   "metadata": {
    "tags": []
   },
   "outputs": [
    {
     "name": "stdout",
     "output_type": "stream",
     "text": [
      "1 :  39\n",
      "0.1841890811920166\n"
     ]
    }
   ],
   "source": [
    "startTime = time.time()\n",
    "\n",
    "# for j in range(len(allPaths)):\n",
    "j = 1\n",
    "\n",
    "pyspark_glucose_data = spark.read \\\n",
    "                       .schema(glucose_data_schema) \\\n",
    "                       .format('parquet') \\\n",
    "                       .load(allPaths[j])\n",
    "patIds = [i.NumId for i in pyspark_glucose_data.select('NumId').distinct().collect()]\n",
    "print(j,\": \",len(patIds))\n",
    "\n",
    "print(time.time()-startTime)"
   ]
  },
  {
   "cell_type": "code",
   "execution_count": 68,
   "id": "0a0a4fb1-c438-4065-8f48-b05121749d33",
   "metadata": {
    "tags": []
   },
   "outputs": [
    {
     "name": "stdout",
     "output_type": "stream",
     "text": [
      "starting row count:  39\n",
      "ending row count:  39\n",
      "+--------------------------------------------+---------------+------+------------------+\n",
      "|PatientId                                   |ExpectedRecords|count |discrepancy%      |\n",
      "+--------------------------------------------+---------------+------+------------------+\n",
      "|aRcdptX0j0XO5JiZjvcRhh/2hhLNDeIFccfFLPKXYG4=|104988.4       |71212 |47.430208391844076|\n",
      "|Z9bKeYamn2rfzIvygFMtUMAnmvNWlLv5i0L6F491CDE=|94616.0        |71093 |33.08764575977946 |\n",
      "|R8bQL1K4vkc1t1A1LppgK7zgjOQ3aApOV635AZaXzo8=|105041.8       |80634 |30.268869211498867|\n",
      "|rWBn04Ywl5IV9Dnzg2UrZr2hv0znnTM9TZAcYnxrnKQ=|101467.0       |80818 |25.550001237348113|\n",
      "|O3bOa6QuOQxus7y6YAwm/GYJMKbHIkQQ8mvhTRapn3Y=|105009.2       |83691 |25.472273004265688|\n",
      "|XYvnckGwCuSRi9d72KltoyJAQoKj0ae1HC5WgqfgEjQ=|104311.4       |87478 |19.24255241317816 |\n",
      "|uU3BWosfaHwu6vcHPMpXI1A8WrJIFJrOSrG+wo4Q6xk=|100855.8       |84924 |18.75912580660355 |\n",
      "|kcnYD5XlN/B3VCJLdEgkjayJ8bRiCinjDwxJe2vmPs0=|104379.6       |88800 |17.543918918918905|\n",
      "|o8WMaAurDU4tJrIIYGb1ADEHuBjFuVK/98+FObmNRDs=|104786.0       |89279 |17.369146159791214|\n",
      "|p9JRtKlY2v924IseaXt92j80ZfUKLqTN+4c9QEoWzeU=|99304.4        |85155 |16.61558334801245 |\n",
      "|rCfrwIEkQH4dPxbSCoWpubOFAC3iKOfrnkZJn9u2KLY=|105045.6       |91009 |15.422650507092712|\n",
      "|rvkZ4kJr1rWU+GOCd+KjOngv2/YDp6ji0qFawrE3vCE=|105017.2       |91407 |14.88945047972257 |\n",
      "|v+4M2pIJbwcKRVmd/txpsSfjbA/YS+ZLQP6vxjRwR/U=|102169.4       |89129 |14.630479417473552|\n",
      "|W2/hBJAHoH4PJvbP2ITJh26Ymr35qJqXxGACOsLUiSg=|98900.6        |87406 |13.15012699357024 |\n",
      "|CRKv5RZLkXCcEbi2U3fpVIHHO4ecII0qOqVby3dJNUo=|104142.6       |92407 |12.699254385490264|\n",
      "|Z8qblIsmVC+nMZ+34hD/sjt9T395p7ycBUb9ZsU8XbM=|105026.2       |93668 |12.125806038348202|\n",
      "|7kPqsySMjlirv+OPq7ihUb0aORTUl600vLYajZSy9eI=|105036.4       |94266 |11.425116160651783|\n",
      "|nQ0g/W3csb7d7dJChhWZjEdghS4uEgL9YaXXThHYAjU=|94337.0        |85524 |10.304709789065058|\n",
      "|EC5qtbe14yQnnWGOyMLHhXy6bJmS2qW4Lzl2UWvvf98=|105021.2       |95245 |10.264055855950446|\n",
      "|hWmAOub6fZ9w4OJJi4NsJ/O4e6AAVjBOUxV0ly5vW3s=|104771.4       |95866 |9.289007573070734 |\n",
      "|Mn+yU0oX8kliaXkvF91At/4LyJR8+uWGTvXLTqae17s=|105054.0       |97269 |8.003577707183169 |\n",
      "|9WtZ7/CBQaPXkqnT4bxefNUjnBTnk/68WslVf6shaAQ=|101768.8       |94931 |7.202073084661492 |\n",
      "|2nxMXfSGe0B3VHr7EDONAYMorsew9mJutGi1Q9gfB7Q=|95032.2        |88665 |7.18096204815879  |\n",
      "|lsq28m44c5HVVJYUFc8kRuQGljZyJheHfTZKC9OHQKo=|98967.8        |92465 |7.031849889147253 |\n",
      "|dme+Dq0xFRtR0yPfYOqL1HWy+plN8WCCQAP2k8p6Qbc=|97884.8        |92166 |6.20402317557452  |\n",
      "|A6wCKzCbwFMVcUuYPtc7JzNxP4+WxtsOFTamXI+DE4g=|105049.6       |99770 |5.29116969028766  |\n",
      "|wd9BbmxRtbsqNNISsz7MOMXgdsWvMUwTKsyoJW6n830=|96839.6        |92002 |5.257494402295592 |\n",
      "|USQEIhpO/Ej55SOQ4y8IAbOqyTRVl+yJagnnJyz3o0g=|105037.8       |100120|4.911106671993622 |\n",
      "|7hKNkuvhd2EetlJh51m4EcvlXolrZmtATD5YWI4O/E0=|98591.2        |94852 |3.941930586598062 |\n",
      "|xssJMTsj99IkaEV9uI8oncsaTxziLE+MoimnZFz7SBE=|105045.6       |101199|3.8004328106008956|\n",
      "|eAyzTaAuUHrAh0wP73pjyRreb4uNK2ubFvE/YWusNjo=|105046.8       |101283|3.7153322867608694|\n",
      "|vnXMqj6s8qsNdvgm1lbg2xbpxAL/suOWs+dUVOn6+hs=|97160.8        |94105 |3.2463737314701575|\n",
      "|xXxIoA0hqM6ftrMluab1Izd0Q6CJWGCoa86lM2hUG5g=|105054.6       |102106|2.8871956594127823|\n",
      "|kQrqfJ14FcqhRjYuXptz+jkSTSgtlKCINfWsjMhcme8=|98857.0        |96373 |2.577485395287056 |\n",
      "|qiMReOD720xA5dA6x0J4uGVR4+R2ZvfCbPe/OT8BoX0=|105050.8       |103348|1.6468630258930972|\n",
      "|DcXDqBRe4CX74ijyCwUTKWkJwIsldGY5dl1bnwb1VA0=|105055.4       |103439|1.5622734171830643|\n",
      "|vh4AmrXGYAhxHePH5SVReAloMcWpDFIjXCFq55LUk1c=|105051.4       |103600|1.4005791505791336|\n",
      "|yO1brdMh69I0VKw/Jy3egzpfnUgJ0BK6iurcoq8vKGY=|98392.4        |97073 |1.3587712340197555|\n",
      "|6om+VEDv9mzyY2TrdHxssnu7q2/D5ucxA6GPqTbqMyQ=|105010.8       |103746|1.2183602259364221|\n",
      "+--------------------------------------------+---------------+------+------------------+\n",
      "\n"
     ]
    }
   ],
   "source": [
    "min_max = pyspark_glucose_data.groupby('PatientId')\\\n",
    "            .agg(min(\"GlucoseDisplayTime\").alias(\"Min\"),\\\n",
    "                 max(\"GlucoseDisplayTime\").alias(\"Max\"))\n",
    "print(\"starting row count: \", min_max.count())\n",
    "\n",
    "min_max = min_max.withColumn('ExpectedRecords',(col(\"Max\").cast(\"long\") - col('Min').cast(\"long\"))/(60*5))\n",
    "\n",
    "temp = min_max.join(df, min_max.PatientId == df.UserId)#.select(min_max.PatientId, min_max.ExpectedRecords, df.count)\n",
    "temp = temp.drop(\"Min\",\"Max\",\"UserId\")\n",
    "\n",
    "temp = temp.withColumn('discrepancy%',100*(col(\"ExpectedRecords\").cast(\"integer\") / col('count'))-100)\n",
    "temp = temp.orderBy('discrepancy%', ascending=False)\n",
    "\n",
    "length = temp.count()\n",
    "print(\"ending row count: \", length)\n",
    "temp.show(length, truncate=False)"
   ]
  },
  {
   "cell_type": "code",
   "execution_count": null,
   "id": "fd9a6447-536a-4c2c-a007-0e40de6c726b",
   "metadata": {},
   "outputs": [],
   "source": []
  }
 ],
 "metadata": {
  "kernelspec": {
   "display_name": "glucose-venv",
   "language": "python",
   "name": "glucose-venv"
  },
  "language_info": {
   "codemirror_mode": {
    "name": "ipython",
    "version": 3
   },
   "file_extension": ".py",
   "mimetype": "text/x-python",
   "name": "python",
   "nbconvert_exporter": "python",
   "pygments_lexer": "ipython3",
   "version": "3.10.10"
  }
 },
 "nbformat": 4,
 "nbformat_minor": 5
}
