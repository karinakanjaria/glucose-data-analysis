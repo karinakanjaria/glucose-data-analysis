{
 "cells": [
  {
   "cell_type": "code",
   "execution_count": 1,
   "id": "663e7975-e71e-4b62-a585-984047ad1fff",
   "metadata": {
    "tags": []
   },
   "outputs": [],
   "source": [
    "from datetime import datetime, timedelta\n",
    "import time\n",
    "import pathlib\n",
    "import pyspark\n",
    "from pyspark.sql import SparkSession, Window\n",
    "from pyspark.sql.functions import when, col, to_date, date_trunc, rank, monotonically_increasing_id, date_trunc, min, max\n",
    "from pyspark.sql.types import StructType, StructField, StringType, IntegerType, TimestampType, DateType, FloatType, BooleanType\n",
    "\n",
    "# spark.stop()"
   ]
  },
  {
   "cell_type": "code",
   "execution_count": 2,
   "id": "7bae2e36-a1a4-4615-b42c-a9d1a8e771af",
   "metadata": {
    "tags": []
   },
   "outputs": [
    {
     "name": "stderr",
     "output_type": "stream",
     "text": [
      "Setting default log level to \"WARN\".\n",
      "To adjust logging level use sc.setLogLevel(newLevel). For SparkR, use setLogLevel(newLevel).\n"
     ]
    },
    {
     "name": "stdout",
     "output_type": "stream",
     "text": [
      "23/05/17 01:38:21 WARN NativeCodeLoader: Unable to load native-hadoop library for your platform... using builtin-java classes where applicable\n"
     ]
    },
    {
     "data": {
      "text/plain": [
       "'3.3.1'"
      ]
     },
     "execution_count": 2,
     "metadata": {},
     "output_type": "execute_result"
    }
   ],
   "source": [
    "conf = pyspark.SparkConf().setAll([\\\n",
    "    ('spark.app.name', 'ReduceData')])\n",
    "spark = SparkSession.builder.config(conf=conf)\\\n",
    "    .getOrCreate()\n",
    "\n",
    "spark.version"
   ]
  },
  {
   "cell_type": "code",
   "execution_count": 3,
   "id": "339cf7fc-db28-4469-a282-2698549da44d",
   "metadata": {
    "collapsed": true,
    "jupyter": {
     "outputs_hidden": true
    },
    "tags": []
   },
   "outputs": [
    {
     "name": "stdout",
     "output_type": "stream",
     "text": [
      "+----------------------------------------------------------------------------------------------------------------------------------------------------------------------------------------------------------------------------------------------------------------------------------------------------------------------------------------------------------------------------------------------------------------------------------------------------------------------------------------------------------------------------------------------------------------------------------------------------------------------------------------------------------------------------------------------------------------------------------------------------------------------------------------------------------------------------------------------------+--------------------------------------------------------------------------+-------------------------+\n",
      "|description                                                                                                                                                                                                                                                                                                                                                                                                                                                                                                                                                                                                                                                                                                                                                                                                                                         |key                                                                       |title                    |\n",
      "+----------------------------------------------------------------------------------------------------------------------------------------------------------------------------------------------------------------------------------------------------------------------------------------------------------------------------------------------------------------------------------------------------------------------------------------------------------------------------------------------------------------------------------------------------------------------------------------------------------------------------------------------------------------------------------------------------------------------------------------------------------------------------------------------------------------------------------------------------+--------------------------------------------------------------------------+-------------------------+\n",
      "|<div><p><strong>Glucose record</strong> contains the core health data which is produced from the transmitter.  This record communicates the patients glucose value and trending information.  </p><p>Depending on how the customer uses the product, or which version of the product they use, these recorded values are posted to Dexcom cloud infrastructure in batches. The size and content of a batch is dependent on several variables. In most cases, these are in the control of the customer: whether they are connected to the Internet, whether they are within Bluetooth distance of their technology, whether they physically plug in a receiver, and so on. All records collected within the same batch are called a POST and are given the same postId and postTime. The number of records in a post is therefore variable.</p></div>|g5-datascience-prod-1-197420.cgm_did.glucose_record                       |Glucose Record           |\n",
      "|The Time (ISO-8601, UTC base) that the display device recorded the EGV event as occurring                                                                                                                                                                                                                                                                                                                                                                                                                                                                                                                                                                                                                                                                                                                                                           |g5-datascience-prod-1-197420.cgm_did.glucose_record.recordedsystemtime    |Recordedsystemtime       |\n",
      "|<p>The glucose record is somewhat unique because the transmitter is generating the rows – most records (e.g. phone_user_activity_record) are generated by the app, and don’t necessarily have an associated TransmitterID.  However they will always have an associated TransmitterNumber, because that gets appended as part of the post header.</p>                                                                                                                                                                                                                                                                                                                                                                                                                                                                                               |g5-datascience-prod-1-197420.cgm_did.glucose_record.transmitternumber     |                         |\n",
      "|                                                                                                                                                                                                                                                                                                                                                                                                                                                                                                                                                                                                                                                                                                                                                                                                                                                    |g5-datascience-prod-1-197420.cgm_did.glucose_record.receivernumber        |Receiver Number          |\n",
      "|<div><p>Good = empty string, null, status low (below 39), status high (above 401)</p><p>Bad = lots of codes, e.g. SensorNoise, OutOfCalibration, SensorWarmup, etc.</p></div>                                                                                                                                                                                                                                                                                                                                                                                                                                                                                                                                                                                                                                                                       |g5-datascience-prod-1-197420.cgm_did.glucose_record.status                |Status                   |\n",
      "|                                                                                                                                                                                                                                                                                                                                                                                                                                                                                                                                                                                                                                                                                                                                                                                                                                                    |g5-datascience-prod-1-197420.cgm_did.glucose_record.ingestiondate         |Ingestion Date           |\n",
      "|<p>More details on the status (enum)</p>                                                                                                                                                                                                                                                                                                                                                                                                                                                                                                                                                                                                                                                                                                                                                                                                            |g5-datascience-prod-1-197420.cgm_did.glucose_record.internalstatus        |Internal Status          |\n",
      "|<div><p>Glucose values are computed on the transmitter and broadcast/transmitted to the display device every 5 minute.  If a display device is out of bluetooth range when that transmission occurs, then that transmission is missed and the data will be stored up on the transmitter and backfilled to the display device when it comes back in range.  The transmitter has very limited storage so display devices can not be out of range for longer than 3 hours.</p><p>This boolean field indicates if this specific glucose value was available on the display device for the patient when it occurred, or if they were unable to see their value because they were out of range and only saw the value at a later time (can determine this from the recordedDisplayTime)</p></div>                                                         |g5-datascience-prod-1-197420.cgm_did.glucose_record.isbackfilled          |                         |\n",
      "|                                                                                                                                                                                                                                                                                                                                                                                                                                                                                                                                                                                                                                                                                                                                                                                                                                                    |g5-datascience-prod-1-197420.cgm_did.glucose_record.stream                |Stream                   |\n",
      "|                                                                                                                                                                                                                                                                                                                                                                                                                                                                                                                                                                                                                                                                                                                                                                                                                                                    |g5-datascience-prod-1-197420.cgm_did.glucose_record.posttime              |Posttime                 |\n",
      "|                                                                                                                                                                                                                                                                                                                                                                                                                                                                                                                                                                                                                                                                                                                                                                                                                                                    |g5-datascience-prod-1-197420.cgm_did.glucose_record.patientid             |                         |\n",
      "|<p>To see the user’s time zone/offset, refer to the tail of the GlucoseDisplayTimeRaw string.</p>                                                                                                                                                                                                                                                                                                                                                                                                                                                                                                                                                                                                                                                                                                                                                   |g5-datascience-prod-1-197420.cgm_did.glucose_record.glucosedisplaytimeraw |                         |\n",
      "|                                                                                                                                                                                                                                                                                                                                                                                                                                                                                                                                                                                                                                                                                                                                                                                                                                                    |g5-datascience-prod-1-197420.cgm_did.glucose_record.postdate              |Postdate                 |\n",
      "|The Time (ISO-8601, Local base) that the display device recorded the EGV event as occurring                                                                                                                                                                                                                                                                                                                                                                                                                                                                                                                                                                                                                                                                                                                                                         |g5-datascience-prod-1-197420.cgm_did.glucose_record.recordeddisplaytimeraw|Recorded Display Time Raw|\n",
      "|The 5 or 6 digit transmitter id that was used to transmit this EGV event                                                                                                                                                                                                                                                                                                                                                                                                                                                                                                                                                                                                                                                                                                                                                                            |g5-datascience-prod-1-197420.cgm_did.glucose_record.transmitterid         |Transmitterid            |\n",
      "|This field enumerates the visibility status and direction of the trend arrow. The direction of the arrow is based on the Trend Rate. Note: you must have a valid glucose value or LOW or HIGH in order to have a valid trend arrow. It is also possible to have a valid glucose value and no trend arrow.                                                                                                                                                                                                                                                                                                                                                                                                                                                                                                                                           |g5-datascience-prod-1-197420.cgm_did.glucose_record.trendarrow            |                         |\n",
      "|                                                                                                                                                                                                                                                                                                                                                                                                                                                                                                                                                                                                                                                                                                                                                                                                                                                    |g5-datascience-prod-1-197420.cgm_did.glucose_record.postid                |                         |\n",
      "|<p>When the phone/receiver got the message (from the transmitter), in the local timezone for the user. Note: DisplayTime may include timezone changes! If this is an issue, use the RecordedSystemTime, GlucoseSystemTime (in UTC) or TransmitterTime (in seconds) instead.</p>                                                                                                                                                                                                                                                                                                                                                                                                                                                                                                                                                                     |g5-datascience-prod-1-197420.cgm_did.glucose_record.recordeddisplaytime   |Recorded Display Time    |\n",
      "|<table border=\"0\" cellpadding=\"0\" cellspacing=\"0\"><tbody><tr><td valign=\"top\" width=\"593\"><p>Number of seconds since the transmitter woke up</p></td></tr></tbody></table>                                                                                                                                                                                                                                                                                                                                                                                                                                                                                                                                                                                                                                                                          |g5-datascience-prod-1-197420.cgm_did.glucose_record.transmittertime       |Transmittertime          |\n",
      "|<p>Glucose time in UTC. Simple transformation of TransmitterTime.</p>                                                                                                                                                                                                                                                                                                                                                                                                                                                                                                                                                                                                                                                                                                                                                                               |g5-datascience-prod-1-197420.cgm_did.glucose_record.glucosesystemtime     |                         |\n",
      "|The Time (ISO-8601, Local base) representing the time that the transmitter calculated the EGV value (on G4 systems, this value is the same as the RecordedDisplayTime)                                                                                                                                                                                                                                                                                                                                                                                                                                                                                                                                                                                                                                                                              |g5-datascience-prod-1-197420.cgm_did.glucose_record.glucosedisplaytime    |                         |\n",
      "|<p>EGV value, between 39 and 401 (error code otherwise)</p>                                                                                                                                                                                                                                                                                                                                                                                                                                                                                                                                                                                                                                                                                                                                                                                         |g5-datascience-prod-1-197420.cgm_did.glucose_record.value                 |Value                    |\n",
      "|<div><p>SessionStartTime should represent the “transmitterTime” the session was started, on the display device. E.g. a user hits “start session” on their app, and the sessionStartTime for all glucose events in that session will the transmitterTime at that moment. </p><p>Note this value will appear as null (0xFFFFFFFF = 4294967295) for some types of records, e.g. backfill.</p></div>                                                                                                                                                                                                                                                                                                                                                                                                                                                    |g5-datascience-prod-1-197420.cgm_did.glucose_record.sessionstarttime      |Sessionstarttime         |\n",
      "|This field represents a range of values indicating the range. The value can be null, or a numeric value between -8.0 and 8.0.<p>Note that Android inserts placeholder values when the trend arrow is not computable (as indicated by TrendArrow = 'NotComputable'): for G5 Android, the TrendRate is set to 12.7, and for G6 Android, TrendRate is set to 0.0.</p>                                                                                                                                                                                                                                                                                                                                                                                                                                                                                  |g5-datascience-prod-1-197420.cgm_did.glucose_record.trendrate             |                         |\n",
      "+----------------------------------------------------------------------------------------------------------------------------------------------------------------------------------------------------------------------------------------------------------------------------------------------------------------------------------------------------------------------------------------------------------------------------------------------------------------------------------------------------------------------------------------------------------------------------------------------------------------------------------------------------------------------------------------------------------------------------------------------------------------------------------------------------------------------------------------------------+--------------------------------------------------------------------------+-------------------------+\n",
      "\n"
     ]
    }
   ],
   "source": [
    "\"\"\"the raw data's column descriptions\"\"\"\n",
    "test = spark.read.option(\"multiline\",\"true\").json('/cephfs/data/glucose_records.json')\n",
    "# test = test.filter(col('title')==\"GlucoseSystemTime\")\n",
    "test.show(24,truncate=False)"
   ]
  },
  {
   "cell_type": "markdown",
   "id": "38190ac9-d16b-4a9c-b21f-72705221cf8d",
   "metadata": {
    "jp-MarkdownHeadingCollapsed": true,
    "tags": []
   },
   "source": [
    "### Structs we might need"
   ]
  },
  {
   "cell_type": "code",
   "execution_count": 5,
   "id": "f7801704-e38a-4047-b61e-d66d278c5ba7",
   "metadata": {
    "tags": []
   },
   "outputs": [],
   "source": [
    "glucose_data_schema=StructType([StructField('NumId', IntegerType(), True),\n",
    "                                StructField('PatientId', StringType(), True),\n",
    "                                StructField('Value', FloatType(), True),\n",
    "                                StructField('GlucoseDisplayTime', TimestampType(), True),\n",
    "                                StructField('GlucoseDisplayTimeRaw', StringType(), True),\n",
    "                                StructField('GlucoseDisplayDate', DateType(), True)])\n",
    "\n",
    "temp_schema = StructType([StructField('PatientId', StringType(), True),\n",
    "                          StructField('count', IntegerType(), True)])\n",
    "\n",
    "\n",
    "# glucose_data_schema=StructType([StructField('PatientId', StringType(), True),\n",
    "#                                 StructField('Value', FloatType(), True),\n",
    "#                                 StructField('GlucoseDisplayTime', TimestampType(), True),\n",
    "#                                 StructField('GlucoseDisplayTimeRaw', StringType(), True),\n",
    "#                                 StructField('GlucoseDisplayDate', DateType(), True),\n",
    "#                                 StructField('NumId', IntegerType(), True)\n",
    "#                                 ])\n",
    "\n",
    "raw_schema=StructType([StructField('_c0', IntegerType(),True),\n",
    "                                StructField('PostDate', TimestampType(),True),\n",
    "                                StructField('IngestionDate', TimestampType(),True),\n",
    "                                StructField('PostId', StringType(),True),\n",
    "                                StructField('PostTime', TimestampType(), True),\n",
    "                                StructField('PatientId', StringType(), True),\n",
    "                                StructField('Stream', StringType(), True),\n",
    "                                StructField('SequenceNumber', StringType(), True),\n",
    "                                StructField('TransmitterNumber', StringType(), True),\n",
    "                                StructField('ReceiverNumber', StringType(), True),\n",
    "                                StructField('RecordedSystemTime', TimestampType(), True),\n",
    "                                StructField('RecordedDisplayTime', TimestampType(), True),\n",
    "                                StructField('RecordedDisplayTimeRaw', TimestampType(), True),\n",
    "                                StructField('TransmitterId', StringType(), True),\n",
    "                                StructField('TransmitterTime', StringType(), True),\n",
    "                                StructField('GlucoseSystemTime', TimestampType(), True),\n",
    "                                StructField('GlucoseDisplayTime', TimestampType(), True),\n",
    "                                StructField('GlucoseDisplayTimeRaw', StringType(), True),\n",
    "                                StructField('Value', FloatType(), True),\n",
    "                                StructField('Status', StringType(), True),\n",
    "                                StructField('TrendArrow', StringType(), True),\n",
    "                                StructField('TrendRate', FloatType(), True),\n",
    "                                StructField('IsBackFilled', BooleanType(), True),\n",
    "                                StructField('InternalStatus', StringType(), True),\n",
    "                                StructField('SessionStartTime', StringType(), True)])\n",
    "\n",
    "cohortSchema = StructType([StructField('', IntegerType(), True),\n",
    "                        StructField('UserId', StringType(), True),\n",
    "                        StructField('Gender', StringType(), True),\n",
    "                        StructField('DOB', TimestampType(), True),\n",
    "                        StructField('Age', IntegerType(), True),\n",
    "                        StructField('DiabetesType', StringType(), True),\n",
    "                        StructField('Treatment', StringType(), True)\n",
    "                        ])"
   ]
  },
  {
   "cell_type": "markdown",
   "id": "e65d9f2e-ae1c-4218-b417-7c7765e07132",
   "metadata": {},
   "source": [
    "### Get all paths in to read from"
   ]
  },
  {
   "cell_type": "code",
   "execution_count": 6,
   "id": "9ed60db4-567e-49f9-9a54-313a0ec24b42",
   "metadata": {
    "tags": []
   },
   "outputs": [
    {
     "data": {
      "text/plain": [
       "365"
      ]
     },
     "execution_count": 6,
     "metadata": {},
     "output_type": "execute_result"
    }
   ],
   "source": [
    "'''all CSVs of the raw data'''\n",
    "allCSVPaths = [str(x) for x in list(pathlib.Path('/cephfs/data').glob('*.csv')) if 'glucose_records' in str(x)]\n",
    "\n",
    "allCSVPaths.sort()\n",
    "\n",
    "len(allCSVPaths)"
   ]
  },
  {
   "cell_type": "markdown",
   "id": "03885f9a-ea34-4dea-9e2d-b5b1c5aaa6fe",
   "metadata": {
    "jp-MarkdownHeadingCollapsed": true,
    "tags": []
   },
   "source": [
    "# Load in"
   ]
  },
  {
   "cell_type": "markdown",
   "id": "867f1ee4-4ee4-4a54-b3f7-0c83f7560777",
   "metadata": {},
   "source": [
    "## Read in the Cohort dataframe"
   ]
  },
  {
   "cell_type": "code",
   "execution_count": 10,
   "id": "d70c1f07-3094-4194-8a68-08c0ecba9586",
   "metadata": {
    "tags": []
   },
   "outputs": [
    {
     "name": "stdout",
     "output_type": "stream",
     "text": [
      "[('NumId', 'int'), ('UserId', 'string'), ('Gender', 'string'), ('DOB', 'timestamp'), ('Age', 'int'), ('DiabetesType', 'string'), ('Treatment', 'string')]\n"
     ]
    },
    {
     "name": "stderr",
     "output_type": "stream",
     "text": [
      "[Stage 0:>                                                          (0 + 1) / 1]\r"
     ]
    },
    {
     "name": "stdout",
     "output_type": "stream",
     "text": [
      "+-----+--------------------+------+-------------------+---+------------+---------+\n",
      "|NumId|              UserId|Gender|                DOB|Age|DiabetesType|Treatment|\n",
      "+-----+--------------------+------+-------------------+---+------------+---------+\n",
      "|    0|5lZPrCk6qk8L6Jw+S...|Female|1931-01-01 00:00:00| 92|    type-two|       no|\n",
      "|    1|9qY9mZ+GV5Kd/O/NB...|  Male|1937-01-01 00:00:00| 86|    type-two|       no|\n",
      "|    2|uhsyLhr4Zl6NfGbNB...|Female|1938-01-01 00:00:00| 85|    type-two|       no|\n",
      "|    3|9uAVHBOgoCJ9hfcrL...|  Male|1938-01-01 00:00:00| 85|    type-two|       no|\n",
      "|    4|Fyb156jU1edGykL7N...|Female|1939-01-01 00:00:00| 84|    type-two|       no|\n",
      "|    5|86XfZ0fNI0VWOzWrl...|Female|1939-01-01 00:00:00| 84|    type-two|       no|\n",
      "|    6|JfJMH1qCpiYNuPOp/...|Female|1940-01-01 00:00:00| 83|    type-two|       no|\n",
      "|    7|EkW0PD80req7mL/5S...|  Male|1940-01-01 00:00:00| 83|    type-two|       no|\n",
      "|    8|OyqSKorAj1OPZaevj...|Female|1941-01-01 00:00:00| 82|    type-two|       no|\n",
      "|    9|4n03YE5Q5c2Ge1O4+...|Female|1941-01-01 00:00:00| 82|    type-two|       no|\n",
      "+-----+--------------------+------+-------------------+---+------------+---------+\n",
      "only showing top 10 rows\n",
      "\n",
      "30.23725914955139\n"
     ]
    },
    {
     "name": "stderr",
     "output_type": "stream",
     "text": [
      "                                                                                \r"
     ]
    }
   ],
   "source": [
    "# read in cohort dataframe, with Number ID properly labeled\n",
    "startTime = time.time()\n",
    "\n",
    "cohortDf = spark.read.options(delimiter=',')\\\n",
    "        .csv('/cephfs/data/cohort.csv', header=True, schema=cohortSchema)\\\n",
    "        .withColumnRenamed('', 'NumId')\n",
    "\n",
    "print(cohortDf.dtypes)\n",
    "cohortDf.show(10)\n",
    "\n",
    "# make mini dataframe of the string IDs and number IDs\n",
    "patientIds = cohortDf.select(col('UserId'), col('NumId')).distinct()\n",
    "\n",
    "print(time.time() - startTime)"
   ]
  },
  {
   "cell_type": "markdown",
   "id": "24532917-fb3c-44df-84e8-f0ee701e0ecf",
   "metadata": {},
   "source": [
    "## Read in the CSVs"
   ]
  },
  {
   "cell_type": "code",
   "execution_count": null,
   "id": "59ab30c9-8346-45e3-a644-40342b1df49e",
   "metadata": {},
   "outputs": [],
   "source": []
  },
  {
   "cell_type": "markdown",
   "id": "e1368fd2-fb30-461c-9ca4-7028426baa08",
   "metadata": {},
   "source": [
    "## Read in the counter parquet (temp_data)"
   ]
  },
  {
   "cell_type": "code",
   "execution_count": null,
   "id": "6e25d136-8a25-495e-ba1f-d75e5a1d3d07",
   "metadata": {
    "tags": []
   },
   "outputs": [
    {
     "name": "stdout",
     "output_type": "stream",
     "text": [
      "row count:  7957\n",
      "root\n",
      " |-- UserId: string (nullable = true)\n",
      " |-- count: integer (nullable = true)\n",
      "\n",
      "+--------------------+------+\n",
      "|              UserId| count|\n",
      "+--------------------+------+\n",
      "|+Gr/1qOf9OWMa4LOL...| 94433|\n",
      "|+TH+y0M8bQb2EpRVJ...| 84416|\n",
      "|+UJpU9Owd5VBvkNtJ...| 99362|\n",
      "|+PvW5D8b0wZANElHi...|101336|\n",
      "|+9Rtj/cdJMLF2raCJ...| 89139|\n",
      "|+JcspO9meT7uENVtz...| 97617|\n",
      "|+BPY2YsPzI4b+DwiN...| 82083|\n",
      "|+Ld/+ikzUehNOZ5f+...|100467|\n",
      "|+VCEKhqF9R2oI0VGv...| 91595|\n",
      "|+UgMn9AIL2d78WOS4...| 94862|\n",
      "|+M7reUgRS+P3suzYg...| 86859|\n",
      "|+O6WjkJ9Gb5esPEgG...|101657|\n",
      "|+9ipwJiIRcZTJrck+...|103118|\n",
      "|+F5NQV8YRae91R0Og...|100282|\n",
      "|+XcQw7Zbj9WPeWsDq...| 99547|\n",
      "|+DkuZFXuoapNjKE9g...| 85436|\n",
      "|+HzKQWGJels56+L6u...| 95393|\n",
      "|+8cP93h83g3DYhiXN...| 83085|\n",
      "|+7nbCvVCmsMWaCjcH...| 92185|\n",
      "|+XHDtL8igY38vN48Q...|102874|\n",
      "+--------------------+------+\n",
      "only showing top 20 rows\n",
      "\n"
     ]
    },
    {
     "data": {
      "text/plain": [
       "7957"
      ]
     },
     "execution_count": 35,
     "metadata": {},
     "output_type": "execute_result"
    }
   ],
   "source": [
    "startTime = time.time()\n",
    "\n",
    "df = spark.read\\\n",
    "    .parquet('temp_data/part-00000-bcc637a6-2bd8-4c20-bc2c-42de80cad98b-c000.snappy.parquet')\n",
    "\n",
    "df = df.withColumnRenamed('PatientId','UserId')\n",
    "df = df.withColumn('count',col('count').cast(IntegerType()))\n",
    "\n",
    "print(\"row count: \", df.count())\n",
    "df.printSchema()\n",
    "df.show()\n",
    "patIds = [i.UserId for i in df.select('UserId').distinct().collect()]\n",
    "len(patIds)\n",
    "\n",
    "print(time.time() - startTime)"
   ]
  },
  {
   "cell_type": "markdown",
   "id": "4073f692-39be-429b-a338-60e0bb75d6b1",
   "metadata": {},
   "source": [
    "# EDA"
   ]
  },
  {
   "cell_type": "markdown",
   "id": "6f3bcbf1-471e-4e5b-ba1f-bced141d923e",
   "metadata": {
    "jp-MarkdownHeadingCollapsed": true,
    "tags": []
   },
   "source": [
    "## see % of the data to be interpolated\n",
    "\n",
    "can go through all the training data (in `/cephfs/train_test_val/train`) and check what % of the data is getting interpolated"
   ]
  },
  {
   "cell_type": "code",
   "execution_count": 6,
   "id": "6d3a790e-6100-4da4-a93e-109911263548",
   "metadata": {
    "tags": []
   },
   "outputs": [
    {
     "data": {
      "text/plain": [
       "199"
      ]
     },
     "execution_count": 6,
     "metadata": {},
     "output_type": "execute_result"
    }
   ],
   "source": [
    "\"\"\"read in the training parquets\"\"\"\n",
    "data_location = \"/cephfs/train_test_val/train\"\n",
    "allPaths = [str(x) for x in list(pathlib.Path(data_location).glob('*.parquet')) if 'part-00' in str(x)]\n",
    "allPaths.sort()\n",
    "len(allPaths)"
   ]
  },
  {
   "cell_type": "code",
   "execution_count": null,
   "id": "57901daa-f524-469e-9c10-96b343c4787c",
   "metadata": {
    "tags": []
   },
   "outputs": [
    {
     "name": "stdout",
     "output_type": "stream",
     "text": [
      "1 :  39\n",
      "0.1841890811920166\n"
     ]
    }
   ],
   "source": [
    "\"\"\"rerun this cell and change j (=0 to =199) and run the next cell too\"\"\"\n",
    "startTime = time.time()\n",
    "\n",
    "# for j in range(len(allPaths)):\n",
    "j = 1\n",
    "\n",
    "pyspark_glucose_data = spark.read \\\n",
    "                       .schema(glucose_data_schema) \\\n",
    "                       .format('parquet') \\\n",
    "                       .load(allPaths[j])\n",
    "patIds = [i.NumId for i in pyspark_glucose_data.select('NumId').distinct().collect()]\n",
    "print(j,\": \",len(patIds))\n",
    "\n",
    "print(time.time()-startTime)"
   ]
  },
  {
   "cell_type": "code",
   "execution_count": 68,
   "id": "0a0a4fb1-c438-4065-8f48-b05121749d33",
   "metadata": {
    "tags": []
   },
   "outputs": [
    {
     "name": "stdout",
     "output_type": "stream",
     "text": [
      "starting row count:  39\n",
      "ending row count:  39\n",
      "+--------------------------------------------+---------------+------+------------------+\n",
      "|PatientId                                   |ExpectedRecords|count |discrepancy%      |\n",
      "+--------------------------------------------+---------------+------+------------------+\n",
      "|aRcdptX0j0XO5JiZjvcRhh/2hhLNDeIFccfFLPKXYG4=|104988.4       |71212 |47.430208391844076|\n",
      "|Z9bKeYamn2rfzIvygFMtUMAnmvNWlLv5i0L6F491CDE=|94616.0        |71093 |33.08764575977946 |\n",
      "|R8bQL1K4vkc1t1A1LppgK7zgjOQ3aApOV635AZaXzo8=|105041.8       |80634 |30.268869211498867|\n",
      "|rWBn04Ywl5IV9Dnzg2UrZr2hv0znnTM9TZAcYnxrnKQ=|101467.0       |80818 |25.550001237348113|\n",
      "|O3bOa6QuOQxus7y6YAwm/GYJMKbHIkQQ8mvhTRapn3Y=|105009.2       |83691 |25.472273004265688|\n",
      "|XYvnckGwCuSRi9d72KltoyJAQoKj0ae1HC5WgqfgEjQ=|104311.4       |87478 |19.24255241317816 |\n",
      "|uU3BWosfaHwu6vcHPMpXI1A8WrJIFJrOSrG+wo4Q6xk=|100855.8       |84924 |18.75912580660355 |\n",
      "|kcnYD5XlN/B3VCJLdEgkjayJ8bRiCinjDwxJe2vmPs0=|104379.6       |88800 |17.543918918918905|\n",
      "|o8WMaAurDU4tJrIIYGb1ADEHuBjFuVK/98+FObmNRDs=|104786.0       |89279 |17.369146159791214|\n",
      "|p9JRtKlY2v924IseaXt92j80ZfUKLqTN+4c9QEoWzeU=|99304.4        |85155 |16.61558334801245 |\n",
      "|rCfrwIEkQH4dPxbSCoWpubOFAC3iKOfrnkZJn9u2KLY=|105045.6       |91009 |15.422650507092712|\n",
      "|rvkZ4kJr1rWU+GOCd+KjOngv2/YDp6ji0qFawrE3vCE=|105017.2       |91407 |14.88945047972257 |\n",
      "|v+4M2pIJbwcKRVmd/txpsSfjbA/YS+ZLQP6vxjRwR/U=|102169.4       |89129 |14.630479417473552|\n",
      "|W2/hBJAHoH4PJvbP2ITJh26Ymr35qJqXxGACOsLUiSg=|98900.6        |87406 |13.15012699357024 |\n",
      "|CRKv5RZLkXCcEbi2U3fpVIHHO4ecII0qOqVby3dJNUo=|104142.6       |92407 |12.699254385490264|\n",
      "|Z8qblIsmVC+nMZ+34hD/sjt9T395p7ycBUb9ZsU8XbM=|105026.2       |93668 |12.125806038348202|\n",
      "|7kPqsySMjlirv+OPq7ihUb0aORTUl600vLYajZSy9eI=|105036.4       |94266 |11.425116160651783|\n",
      "|nQ0g/W3csb7d7dJChhWZjEdghS4uEgL9YaXXThHYAjU=|94337.0        |85524 |10.304709789065058|\n",
      "|EC5qtbe14yQnnWGOyMLHhXy6bJmS2qW4Lzl2UWvvf98=|105021.2       |95245 |10.264055855950446|\n",
      "|hWmAOub6fZ9w4OJJi4NsJ/O4e6AAVjBOUxV0ly5vW3s=|104771.4       |95866 |9.289007573070734 |\n",
      "|Mn+yU0oX8kliaXkvF91At/4LyJR8+uWGTvXLTqae17s=|105054.0       |97269 |8.003577707183169 |\n",
      "|9WtZ7/CBQaPXkqnT4bxefNUjnBTnk/68WslVf6shaAQ=|101768.8       |94931 |7.202073084661492 |\n",
      "|2nxMXfSGe0B3VHr7EDONAYMorsew9mJutGi1Q9gfB7Q=|95032.2        |88665 |7.18096204815879  |\n",
      "|lsq28m44c5HVVJYUFc8kRuQGljZyJheHfTZKC9OHQKo=|98967.8        |92465 |7.031849889147253 |\n",
      "|dme+Dq0xFRtR0yPfYOqL1HWy+plN8WCCQAP2k8p6Qbc=|97884.8        |92166 |6.20402317557452  |\n",
      "|A6wCKzCbwFMVcUuYPtc7JzNxP4+WxtsOFTamXI+DE4g=|105049.6       |99770 |5.29116969028766  |\n",
      "|wd9BbmxRtbsqNNISsz7MOMXgdsWvMUwTKsyoJW6n830=|96839.6        |92002 |5.257494402295592 |\n",
      "|USQEIhpO/Ej55SOQ4y8IAbOqyTRVl+yJagnnJyz3o0g=|105037.8       |100120|4.911106671993622 |\n",
      "|7hKNkuvhd2EetlJh51m4EcvlXolrZmtATD5YWI4O/E0=|98591.2        |94852 |3.941930586598062 |\n",
      "|xssJMTsj99IkaEV9uI8oncsaTxziLE+MoimnZFz7SBE=|105045.6       |101199|3.8004328106008956|\n",
      "|eAyzTaAuUHrAh0wP73pjyRreb4uNK2ubFvE/YWusNjo=|105046.8       |101283|3.7153322867608694|\n",
      "|vnXMqj6s8qsNdvgm1lbg2xbpxAL/suOWs+dUVOn6+hs=|97160.8        |94105 |3.2463737314701575|\n",
      "|xXxIoA0hqM6ftrMluab1Izd0Q6CJWGCoa86lM2hUG5g=|105054.6       |102106|2.8871956594127823|\n",
      "|kQrqfJ14FcqhRjYuXptz+jkSTSgtlKCINfWsjMhcme8=|98857.0        |96373 |2.577485395287056 |\n",
      "|qiMReOD720xA5dA6x0J4uGVR4+R2ZvfCbPe/OT8BoX0=|105050.8       |103348|1.6468630258930972|\n",
      "|DcXDqBRe4CX74ijyCwUTKWkJwIsldGY5dl1bnwb1VA0=|105055.4       |103439|1.5622734171830643|\n",
      "|vh4AmrXGYAhxHePH5SVReAloMcWpDFIjXCFq55LUk1c=|105051.4       |103600|1.4005791505791336|\n",
      "|yO1brdMh69I0VKw/Jy3egzpfnUgJ0BK6iurcoq8vKGY=|98392.4        |97073 |1.3587712340197555|\n",
      "|6om+VEDv9mzyY2TrdHxssnu7q2/D5ucxA6GPqTbqMyQ=|105010.8       |103746|1.2183602259364221|\n",
      "+--------------------------------------------+---------------+------+------------------+\n",
      "\n"
     ]
    }
   ],
   "source": [
    "\"\"\"use the min and max GlucoseDisplayTime values and see how much is gonna get interpolated\"\"\"\n",
    "startTime = time.time()\n",
    "\n",
    "min_max = pyspark_glucose_data.groupby('PatientId')\\\n",
    "            .agg(min(\"GlucoseDisplayTime\").alias(\"Min\"),\\\n",
    "                 max(\"GlucoseDisplayTime\").alias(\"Max\"))\n",
    "print(\"starting row count: \", min_max.count())\n",
    "\n",
    "min_max = min_max.withColumn('ExpectedRecords',(col(\"Max\").cast(\"long\") - col('Min').cast(\"long\"))/(60*5))\n",
    "\n",
    "temp = min_max.join(df, min_max.PatientId == df.UserId)#.select(min_max.PatientId, min_max.ExpectedRecords, df.count)\n",
    "temp = temp.drop(\"Min\",\"Max\",\"UserId\")\n",
    "\n",
    "temp = temp.withColumn('discrepancy%',100*(col(\"ExpectedRecords\").cast(\"integer\") / col('count'))-100)\n",
    "temp = temp.orderBy('discrepancy%', ascending=False)\n",
    "\n",
    "length = temp.count()\n",
    "print(\"ending row count: \", length)\n",
    "temp.show(length, truncate=False)\n",
    "\n",
    "print(time.time()-startTime)"
   ]
  },
  {
   "cell_type": "markdown",
   "id": "eff956ef-c089-4df6-acbe-0b5eb321b621",
   "metadata": {},
   "source": [
    "## is it a good idea to truncate CSVs by their date?"
   ]
  },
  {
   "cell_type": "code",
   "execution_count": 7,
   "id": "ad8df13f-b99e-481a-9b01-bc45d82f1312",
   "metadata": {
    "tags": []
   },
   "outputs": [
    {
     "name": "stderr",
     "output_type": "stream",
     "text": [
      "                                                                                \r"
     ]
    },
    {
     "name": "stdout",
     "output_type": "stream",
     "text": [
      "5708 total patients\n"
     ]
    },
    {
     "name": "stderr",
     "output_type": "stream",
     "text": [
      "                                                                                \r"
     ]
    },
    {
     "name": "stdout",
     "output_type": "stream",
     "text": [
      "row count:  1578582\n",
      "+--------------------------------------------+-----+-------------------+-------------------+\n",
      "|PatientId                                   |Value|GlucoseDisplayTime |GlucoseSystemTime  |\n",
      "+--------------------------------------------+-----+-------------------+-------------------+\n",
      "|d0dv9A8no1AasCnoLNVfbrtVIQ5FjWrqiLvf0NOZLFQ=|134.0|2022-02-01 00:39:42|2022-02-01 05:39:42|\n",
      "|d0dv9A8no1AasCnoLNVfbrtVIQ5FjWrqiLvf0NOZLFQ=|103.0|2022-02-01 04:19:42|2022-02-01 09:19:42|\n",
      "|d0dv9A8no1AasCnoLNVfbrtVIQ5FjWrqiLvf0NOZLFQ=|126.0|2022-02-01 02:29:41|2022-02-01 07:29:41|\n",
      "|d0dv9A8no1AasCnoLNVfbrtVIQ5FjWrqiLvf0NOZLFQ=|93.0 |2022-02-01 08:24:43|2022-02-01 13:24:43|\n",
      "|d0dv9A8no1AasCnoLNVfbrtVIQ5FjWrqiLvf0NOZLFQ=|94.0 |2022-02-01 05:54:42|2022-02-01 10:54:42|\n",
      "|d0dv9A8no1AasCnoLNVfbrtVIQ5FjWrqiLvf0NOZLFQ=|103.0|2022-02-01 12:24:45|2022-02-01 17:24:45|\n",
      "|d0dv9A8no1AasCnoLNVfbrtVIQ5FjWrqiLvf0NOZLFQ=|90.0 |2022-02-01 11:59:45|2022-02-01 16:59:45|\n",
      "|d0dv9A8no1AasCnoLNVfbrtVIQ5FjWrqiLvf0NOZLFQ=|102.0|2022-02-01 08:54:43|2022-02-01 13:54:43|\n",
      "|d0dv9A8no1AasCnoLNVfbrtVIQ5FjWrqiLvf0NOZLFQ=|95.0 |2022-02-01 05:49:42|2022-02-01 10:49:42|\n",
      "|d0dv9A8no1AasCnoLNVfbrtVIQ5FjWrqiLvf0NOZLFQ=|201.0|2022-01-31 20:19:41|2022-02-01 01:19:41|\n",
      "|d0dv9A8no1AasCnoLNVfbrtVIQ5FjWrqiLvf0NOZLFQ=|115.0|2022-02-01 03:54:42|2022-02-01 08:54:42|\n",
      "|d0dv9A8no1AasCnoLNVfbrtVIQ5FjWrqiLvf0NOZLFQ=|87.0 |2022-02-01 17:19:45|2022-02-01 22:19:45|\n",
      "|d0dv9A8no1AasCnoLNVfbrtVIQ5FjWrqiLvf0NOZLFQ=|119.0|2022-02-01 02:59:42|2022-02-01 07:59:42|\n",
      "|d0dv9A8no1AasCnoLNVfbrtVIQ5FjWrqiLvf0NOZLFQ=|186.0|2022-01-31 20:29:41|2022-02-01 01:29:41|\n",
      "|d0dv9A8no1AasCnoLNVfbrtVIQ5FjWrqiLvf0NOZLFQ=|92.0 |2022-02-01 11:09:44|2022-02-01 16:09:44|\n",
      "|d0dv9A8no1AasCnoLNVfbrtVIQ5FjWrqiLvf0NOZLFQ=|124.0|2022-02-01 02:19:42|2022-02-01 07:19:42|\n",
      "|d0dv9A8no1AasCnoLNVfbrtVIQ5FjWrqiLvf0NOZLFQ=|96.0 |2022-02-01 17:59:45|2022-02-01 22:59:45|\n",
      "|d0dv9A8no1AasCnoLNVfbrtVIQ5FjWrqiLvf0NOZLFQ=|93.0 |2022-02-01 11:39:45|2022-02-01 16:39:45|\n",
      "|d0dv9A8no1AasCnoLNVfbrtVIQ5FjWrqiLvf0NOZLFQ=|98.0 |2022-02-01 16:14:45|2022-02-01 21:14:45|\n",
      "|d0dv9A8no1AasCnoLNVfbrtVIQ5FjWrqiLvf0NOZLFQ=|98.0 |2022-02-01 09:34:43|2022-02-01 14:34:43|\n",
      "+--------------------------------------------+-----+-------------------+-------------------+\n",
      "only showing top 20 rows\n",
      "\n",
      "time:  5.191801071166992\n"
     ]
    }
   ],
   "source": [
    "startTime = time.time()\n",
    "\n",
    "path_i = allCSVPaths[0]\n",
    "\n",
    "df = spark.read\\\n",
    "    .format('csv')\\\n",
    "    .option('delimiter', ',')\\\n",
    "    .option(\"mode\", \"DROPMALFORMED\")\\\n",
    "    .option(\"header\", True)\\\n",
    "    .schema(raw_schema)\\\n",
    "    .load(path_i)\\\n",
    "    .select(col(\"PatientId\"), col(\"Value\"), \\\n",
    "            col(\"GlucoseDisplayTime\"), col(\"GlucoseSystemTime\"))\n",
    "\n",
    "df = df.where(\"Value > 0\")\n",
    "df = df.na.drop(subset=['PatientId','Value','GlucoseDisplayTime'])\n",
    "\n",
    "patIds = [i.PatientId for i in df.select('PatientId').distinct().collect()]\n",
    "print(len(patIds), \"total patients\")\n",
    "print(\"row count: \", df.count())\n",
    "df.show(truncate=False)\n",
    "\n",
    "print(\"time: \", time.time()-startTime)"
   ]
  },
  {
   "cell_type": "code",
   "execution_count": 8,
   "id": "5c4fa830-c2da-4067-8761-03f71adc8401",
   "metadata": {
    "tags": []
   },
   "outputs": [
    {
     "data": {
      "text/plain": [
       "'2022-01-31 23:00:00'"
      ]
     },
     "execution_count": 8,
     "metadata": {},
     "output_type": "execute_result"
    }
   ],
   "source": [
    "dt_start= datetime.strptime(path_i[29:39] + \" 00:00:00\", '%Y-%m-%d %H:%M:%S') - timedelta(hours=1)\n",
    "dt_end  = datetime.strptime(path_i[29:39] + \" 23:59:59\", '%Y-%m-%d %H:%M:%S')\n",
    "str(dt_start)"
   ]
  },
  {
   "cell_type": "code",
   "execution_count": 9,
   "id": "2e31390c-6f94-4fa8-9419-0aa981cebef7",
   "metadata": {
    "tags": []
   },
   "outputs": [
    {
     "name": "stderr",
     "output_type": "stream",
     "text": [
      "                                                                                \r"
     ]
    },
    {
     "name": "stdout",
     "output_type": "stream",
     "text": [
      "5708 total patients\n"
     ]
    },
    {
     "name": "stderr",
     "output_type": "stream",
     "text": [
      "                                                                                \r"
     ]
    },
    {
     "name": "stdout",
     "output_type": "stream",
     "text": [
      "row count:  1578582\n",
      "+--------------------+-----+-------------------+-------------------+\n",
      "|           PatientId|Value| GlucoseDisplayTime|  GlucoseSystemTime|\n",
      "+--------------------+-----+-------------------+-------------------+\n",
      "|d0dv9A8no1AasCnoL...|134.0|2022-02-01 00:39:42|2022-02-01 05:39:42|\n",
      "|d0dv9A8no1AasCnoL...|103.0|2022-02-01 04:19:42|2022-02-01 09:19:42|\n",
      "|d0dv9A8no1AasCnoL...|126.0|2022-02-01 02:29:41|2022-02-01 07:29:41|\n",
      "|d0dv9A8no1AasCnoL...| 93.0|2022-02-01 08:24:43|2022-02-01 13:24:43|\n",
      "|d0dv9A8no1AasCnoL...| 94.0|2022-02-01 05:54:42|2022-02-01 10:54:42|\n",
      "|d0dv9A8no1AasCnoL...|103.0|2022-02-01 12:24:45|2022-02-01 17:24:45|\n",
      "|d0dv9A8no1AasCnoL...| 90.0|2022-02-01 11:59:45|2022-02-01 16:59:45|\n",
      "|d0dv9A8no1AasCnoL...|102.0|2022-02-01 08:54:43|2022-02-01 13:54:43|\n",
      "|d0dv9A8no1AasCnoL...| 95.0|2022-02-01 05:49:42|2022-02-01 10:49:42|\n",
      "|d0dv9A8no1AasCnoL...|201.0|2022-01-31 20:19:41|2022-02-01 01:19:41|\n",
      "|d0dv9A8no1AasCnoL...|115.0|2022-02-01 03:54:42|2022-02-01 08:54:42|\n",
      "|d0dv9A8no1AasCnoL...| 87.0|2022-02-01 17:19:45|2022-02-01 22:19:45|\n",
      "|d0dv9A8no1AasCnoL...|119.0|2022-02-01 02:59:42|2022-02-01 07:59:42|\n",
      "|d0dv9A8no1AasCnoL...|186.0|2022-01-31 20:29:41|2022-02-01 01:29:41|\n",
      "|d0dv9A8no1AasCnoL...| 92.0|2022-02-01 11:09:44|2022-02-01 16:09:44|\n",
      "|d0dv9A8no1AasCnoL...|124.0|2022-02-01 02:19:42|2022-02-01 07:19:42|\n",
      "|d0dv9A8no1AasCnoL...| 96.0|2022-02-01 17:59:45|2022-02-01 22:59:45|\n",
      "|d0dv9A8no1AasCnoL...| 93.0|2022-02-01 11:39:45|2022-02-01 16:39:45|\n",
      "|d0dv9A8no1AasCnoL...| 98.0|2022-02-01 16:14:45|2022-02-01 21:14:45|\n",
      "|d0dv9A8no1AasCnoL...| 98.0|2022-02-01 09:34:43|2022-02-01 14:34:43|\n",
      "+--------------------+-----+-------------------+-------------------+\n",
      "only showing top 20 rows\n",
      "\n",
      "time:  3.50921368598938\n"
     ]
    }
   ],
   "source": [
    "startTime = time.time()\n",
    "\n",
    "# save the \"overflow\"\n",
    "before = df.where(\"GlucoseSystemTime <= '\" + str(dt_start) + \"'\")\n",
    "after = df.where(\"GlucoseSystemTime >= '\" + path_i[29:39] + \" 23:59:59'\")\n",
    "\n",
    "# actually filter the df\n",
    "df0 = df.where(\"GlucoseSystemTime >= '\" + path_i[29:39] + \" 00:00:00'\")\n",
    "df0 = df.where(\"GlucoseSystemTime <= '\" + path_i[29:39] + \" 23:59:59'\")\n",
    "\n",
    "patIds = [i.PatientId for i in df0.select('PatientId').distinct().collect()]\n",
    "print(len(patIds), \"total patients\")\n",
    "print(\"row count: \", df0.count())\n",
    "df0.show()\n",
    "\n",
    "print(\"time: \", time.time()-startTime)"
   ]
  },
  {
   "cell_type": "code",
   "execution_count": 16,
   "id": "571c54a2-c0c1-4d8d-b763-a32e6f97d29e",
   "metadata": {
    "tags": []
   },
   "outputs": [
    {
     "name": "stdout",
     "output_type": "stream",
     "text": [
      "row count:  26143\n",
      "+--------------------------------------------+-----+-------------------+-------------------+\n",
      "|PatientId                                   |Value|GlucoseDisplayTime |GlucoseSystemTime  |\n",
      "+--------------------------------------------+-----+-------------------+-------------------+\n",
      "|f/odpYRZXAvqV2R8ACkoBHIuhYQZeBf3HWPwTldya4Q=|138.0|2022-02-01 16:19:16|2022-02-01 23:19:16|\n",
      "|f/odpYRZXAvqV2R8ACkoBHIuhYQZeBf3HWPwTldya4Q=|144.0|2022-02-01 16:09:16|2022-02-01 23:09:16|\n",
      "|3rbpIFNw48RfNHesImaGrV7qlOKuvu82Qtruj8arChs=|150.0|2022-02-01 17:00:24|2022-02-01 23:00:24|\n",
      "|b7vxHPEbZUCsAduByMXg3jaCG29POUCICc3jdyW6HAw=|214.0|2022-02-01 15:02:33|2022-02-01 23:02:33|\n",
      "|zAJ4HtjLqb8RGL12tYWk8f2KxgnZa5lC0B4yyb0ggDk=|92.0 |2022-02-01 18:17:48|2022-02-01 23:17:48|\n",
      "|nST9cqhaXsuhZbe/9SAjRdQLLtNZ1BU4qS6aSsdShhA=|130.0|2022-02-01 17:20:54|2022-02-01 23:20:54|\n",
      "|pmxSamcIl3qpJF5zN0s+H8Fuqg6T3ElqPBkDVW7EIdc=|123.0|2022-02-01 17:09:43|2022-02-01 23:09:43|\n",
      "|Rjp5oXD4KpRyaN/DMiA4PcmBSDY+3HG7Af2hT3MCdfA=|142.0|2022-02-01 17:23:40|2022-02-01 23:23:40|\n",
      "|Rjp5oXD4KpRyaN/DMiA4PcmBSDY+3HG7Af2hT3MCdfA=|132.0|2022-02-01 17:08:41|2022-02-01 23:08:41|\n",
      "|Rjp5oXD4KpRyaN/DMiA4PcmBSDY+3HG7Af2hT3MCdfA=|133.0|2022-02-01 17:13:40|2022-02-01 23:13:40|\n",
      "|RjUmRlEZlmCxVgHG/z/e36kXoknqW26HfmdhbkxUGN8=|96.0 |2022-02-01 18:08:25|2022-02-01 23:08:25|\n",
      "|x1+yAGacgCmVgg06TrnwwubAae78GrYgQrV3YGyxGDE=|134.0|2022-02-01 18:41:34|2022-02-01 23:41:34|\n",
      "|x1+yAGacgCmVgg06TrnwwubAae78GrYgQrV3YGyxGDE=|146.0|2022-02-01 18:26:34|2022-02-01 23:26:34|\n",
      "|x1+yAGacgCmVgg06TrnwwubAae78GrYgQrV3YGyxGDE=|175.0|2022-02-01 18:11:34|2022-02-01 23:11:34|\n",
      "|bNqbKDCMEtcO8NOsHYCKcX7jsEZ2HYFhq3/Cx17/b68=|274.0|2022-02-01 17:21:55|2022-02-01 23:21:55|\n",
      "|bNqbKDCMEtcO8NOsHYCKcX7jsEZ2HYFhq3/Cx17/b68=|267.0|2022-02-01 17:36:55|2022-02-01 23:36:55|\n",
      "|bNqbKDCMEtcO8NOsHYCKcX7jsEZ2HYFhq3/Cx17/b68=|265.0|2022-02-01 17:51:55|2022-02-01 23:51:55|\n",
      "|vm9y3oLDYt5qUsDAyx66wXutTYVCsj50XKUz+L0ae3Q=|123.0|2022-02-01 18:01:37|2022-02-01 23:01:37|\n",
      "|vm9y3oLDYt5qUsDAyx66wXutTYVCsj50XKUz+L0ae3Q=|110.0|2022-02-01 18:26:38|2022-02-01 23:26:38|\n",
      "|oMOO6O5M5qPZEjVWoTT0Uooh9Do2ZHgPFmCmAOmCh5o=|197.0|2022-02-01 17:51:44|2022-02-01 23:51:44|\n",
      "+--------------------------------------------+-----+-------------------+-------------------+\n",
      "only showing top 20 rows\n",
      "\n"
     ]
    }
   ],
   "source": [
    "after = df.where(\"GlucoseSystemTime >= '\" + path_i[29:39] + \" 23:00:00'\")\n",
    "# after = after.orderBy(\"PatientId\", \"GlucoseDisplayTime\", ascending=True)\n",
    "print(\"row count: \", after.count())\n",
    "after.show(truncate=False)"
   ]
  },
  {
   "cell_type": "code",
   "execution_count": 29,
   "id": "a8070f6c-4366-4645-b1b8-e6b96c0b33e7",
   "metadata": {
    "tags": []
   },
   "outputs": [
    {
     "name": "stdout",
     "output_type": "stream",
     "text": [
      "time:  0.042630910873413086\n"
     ]
    }
   ],
   "source": [
    "startTime = time.time()\n",
    "\n",
    "path_i = allCSVPaths[1]\n",
    "\n",
    "df1 = spark.read\\\n",
    "    .format('csv')\\\n",
    "    .option('delimiter', ',')\\\n",
    "    .option(\"mode\", \"DROPMALFORMED\")\\\n",
    "    .option(\"header\", True)\\\n",
    "    .schema(raw_schema)\\\n",
    "    .load(path_i)\\\n",
    "    .select(col(\"PatientId\"), col(\"Value\"), \\\n",
    "            col(\"GlucoseDisplayTime\"), col(\"GlucoseSystemTime\"))\n",
    "\n",
    "df1 = df1.where(\"Value > 0\")\n",
    "df1 = df1.na.drop(subset=['PatientId','Value','GlucoseDisplayTime'])\n",
    "before = df1.where(\"GlucoseSystemTime <= '\" + path_i[29:39] + \" 00:00:00'\")\n",
    "\n",
    "print(\"time: \", time.time()-startTime)"
   ]
  },
  {
   "cell_type": "code",
   "execution_count": 30,
   "id": "0338d5fb-6f66-47b6-98cf-2fd375af8bd2",
   "metadata": {
    "tags": []
   },
   "outputs": [
    {
     "name": "stderr",
     "output_type": "stream",
     "text": [
      "                                                                                \r"
     ]
    },
    {
     "name": "stdout",
     "output_type": "stream",
     "text": [
      "row count:  3646\n",
      "+--------------------------------------------+-----+-------------------+-------------------+\n",
      "|PatientId                                   |Value|GlucoseDisplayTime |GlucoseSystemTime  |\n",
      "+--------------------------------------------+-----+-------------------+-------------------+\n",
      "|//JnO/6idyeOwAonWuEoNJ3JoK06f6km20B7FxqZ38w=|222.0|2022-02-01 11:18:11|2022-02-01 16:18:11|\n",
      "|//JnO/6idyeOwAonWuEoNJ3JoK06f6km20B7FxqZ38w=|223.0|2022-02-01 11:23:11|2022-02-01 16:23:11|\n",
      "|//JnO/6idyeOwAonWuEoNJ3JoK06f6km20B7FxqZ38w=|226.0|2022-02-01 11:28:11|2022-02-01 16:28:11|\n",
      "|//JnO/6idyeOwAonWuEoNJ3JoK06f6km20B7FxqZ38w=|231.0|2022-02-01 11:33:11|2022-02-01 16:33:11|\n",
      "|//JnO/6idyeOwAonWuEoNJ3JoK06f6km20B7FxqZ38w=|227.0|2022-02-01 11:38:11|2022-02-01 16:38:11|\n",
      "|//JnO/6idyeOwAonWuEoNJ3JoK06f6km20B7FxqZ38w=|223.0|2022-02-01 11:43:11|2022-02-01 16:43:11|\n",
      "|//JnO/6idyeOwAonWuEoNJ3JoK06f6km20B7FxqZ38w=|221.0|2022-02-01 11:48:11|2022-02-01 16:48:11|\n",
      "|//JnO/6idyeOwAonWuEoNJ3JoK06f6km20B7FxqZ38w=|218.0|2022-02-01 11:53:11|2022-02-01 16:53:11|\n",
      "|//JnO/6idyeOwAonWuEoNJ3JoK06f6km20B7FxqZ38w=|211.0|2022-02-01 11:58:11|2022-02-01 16:58:11|\n",
      "|//JnO/6idyeOwAonWuEoNJ3JoK06f6km20B7FxqZ38w=|209.0|2022-02-01 12:03:11|2022-02-01 17:03:11|\n",
      "|//JnO/6idyeOwAonWuEoNJ3JoK06f6km20B7FxqZ38w=|219.0|2022-02-01 12:08:11|2022-02-01 17:08:11|\n",
      "|//JnO/6idyeOwAonWuEoNJ3JoK06f6km20B7FxqZ38w=|223.0|2022-02-01 12:13:10|2022-02-01 17:13:10|\n",
      "|//JnO/6idyeOwAonWuEoNJ3JoK06f6km20B7FxqZ38w=|222.0|2022-02-01 12:18:10|2022-02-01 17:18:10|\n",
      "|//JnO/6idyeOwAonWuEoNJ3JoK06f6km20B7FxqZ38w=|226.0|2022-02-01 12:23:10|2022-02-01 17:23:10|\n",
      "|//JnO/6idyeOwAonWuEoNJ3JoK06f6km20B7FxqZ38w=|230.0|2022-02-01 12:28:10|2022-02-01 17:28:10|\n",
      "|//JnO/6idyeOwAonWuEoNJ3JoK06f6km20B7FxqZ38w=|229.0|2022-02-01 12:33:10|2022-02-01 17:33:10|\n",
      "|/6wd4JFwVeZBxA3oAuhFEjozh5dAxiFSNNGT2NcwwWs=|225.0|2022-02-01 16:04:48|2022-02-01 21:04:48|\n",
      "|/6wd4JFwVeZBxA3oAuhFEjozh5dAxiFSNNGT2NcwwWs=|225.0|2022-02-01 16:09:48|2022-02-01 21:09:48|\n",
      "|/6wd4JFwVeZBxA3oAuhFEjozh5dAxiFSNNGT2NcwwWs=|216.0|2022-02-01 16:14:48|2022-02-01 21:14:48|\n",
      "|/6wd4JFwVeZBxA3oAuhFEjozh5dAxiFSNNGT2NcwwWs=|210.0|2022-02-01 16:19:48|2022-02-01 21:19:48|\n",
      "+--------------------------------------------+-----+-------------------+-------------------+\n",
      "only showing top 20 rows\n",
      "\n"
     ]
    }
   ],
   "source": [
    "# dt_start = datetime.strptime(path_i[29:39] + \" 00:00:00\", '%Y-%m-%d %H:%M:%S') - timedelta(hours=2)\n",
    "# print(dt_start)\n",
    "\n",
    "before = df1.where(\"GlucoseSystemTime <= '\" + str(dt_start) + \"'\")\n",
    "beforePatIds = [i.PatientId for i in before.select('PatientId').distinct().collect()]\n",
    "\n",
    "before = before.orderBy(\"PatientId\", \"GlucoseDisplayTime\", ascending=True)\n",
    "print(\"row count: \", before.count())\n",
    "before.show(truncate=False)"
   ]
  },
  {
   "cell_type": "code",
   "execution_count": 28,
   "id": "56f0b49b-68ac-483b-b4cd-f4f8b8575449",
   "metadata": {
    "tags": []
   },
   "outputs": [
    {
     "name": "stderr",
     "output_type": "stream",
     "text": [
      "                                                                                \r"
     ]
    },
    {
     "name": "stdout",
     "output_type": "stream",
     "text": [
      "row count:  158\n"
     ]
    },
    {
     "name": "stderr",
     "output_type": "stream",
     "text": [
      "[Stage 131:=================>                                     (5 + 11) / 16]\r"
     ]
    },
    {
     "name": "stdout",
     "output_type": "stream",
     "text": [
      "+--------------------------------------------+-------------------+-------------------+\n",
      "|PatientId                                   |Max                |Min                |\n",
      "+--------------------------------------------+-------------------+-------------------+\n",
      "|iVzLmZ0qiAgQKiLQFCa6k/+JdcLocroJyd72B22g8JM=|2022-02-01 23:45:44|2022-01-31 12:05:36|\n",
      "|VKK+9Qh5AlToREMUNotiFavFRULltG9rQIZWbxupHZA=|2022-02-01 23:28:42|2022-01-31 23:18:40|\n",
      "|bXGY4Py7dkiNVyDNdaTuKM5OhY9Et38RslaHKUuR6wk=|2022-02-01 23:06:09|2022-01-31 23:36:09|\n",
      "|bs2bLcu34yK/GLeKhiuSznWumaaz1xcIz1wdrQoOVkw=|2022-02-01 22:57:00|2022-02-01 00:16:56|\n",
      "|T7Hsczc1+Sl9OVIJYqPp2/pfOwnKB3/cjR1ozu/KBsc=|2022-02-01 22:48:03|2022-01-31 19:58:00|\n",
      "|kpy290WrhyMebRMPHIphFpuSMGF+DNJyd/SgjyEcyAY=|2022-02-01 22:41:04|2022-01-31 23:06:01|\n",
      "|PxgR1NdvahfzxzNspwMY2hoeYRukylhCQFlLvfICGOY=|2022-02-01 21:54:56|2022-01-31 23:04:58|\n",
      "|q87E2PL8eeQdaxxkFR9zuDylYwxeUly+I/3sSObEm4I=|2022-02-01 21:53:31|2022-01-31 21:33:29|\n",
      "|gC37IFDH+MySu7RVLp5tX+oz5E83842n2UxX3qB+J8s=|2022-02-01 21:53:05|2022-01-31 23:38:05|\n",
      "|F5NEQ51oC6+t+JfWDh+t3KRqHeqkECAnrQjwNMR9HZI=|2022-02-01 21:52:48|2022-01-31 23:22:48|\n",
      "|Dneo9aYPNzLIy9JKsxEyDShDzZRcKKpIuRIpefayXAc=|2022-02-01 21:52:22|2022-01-31 23:42:18|\n",
      "|dIWc1P2HHxxbgUbCwuL9jpdb1ot1T2opqOkcXkjG3ew=|2022-02-01 21:51:53|2022-01-31 22:56:53|\n",
      "|gan8PKo2PC4yvBl7Sh+oqrB4fOYW/maDN759mvrKa/E=|2022-02-01 21:50:54|2022-01-31 23:30:51|\n",
      "|qb+iQYi+JuVsoEkCzVl7Ol8VmyaEdVYB8vu0dm71b7g=|2022-02-01 21:50:37|2022-01-31 22:15:34|\n",
      "|nX13V1WtLP0ebhwJppGNsIDHCtY0h+88YT5LPIFG0V4=|2022-02-01 21:49:21|2022-01-31 23:19:21|\n",
      "|G5hUxmA+TIJ04WHEFWu/EcPjLtwJ2gvOB4jnMGJYiFA=|2022-02-01 21:48:30|2022-01-31 23:28:28|\n",
      "|KLpkib4WfIBGE0p0sW/UwWW67zFog41rN8Jjr6+c2qE=|2022-02-01 21:48:29|2022-01-31 19:58:28|\n",
      "|OtD8ZcX/GkxiHeLFDmb8g14/WsV03pPglMcROIT0t3k=|2022-02-01 21:47:31|2022-01-31 23:07:25|\n",
      "|If2/F4Z1JF1rPy3v+t13WncM5ita/6eIKZDB9lGqFAU=|2022-02-01 21:46:17|2022-01-31 23:01:14|\n",
      "|dgvYnptQ/2OpLZCXhr0yE2A2pxl0Fl51rPcNGpL0ynU=|2022-02-01 21:46:02|2022-01-31 22:50:58|\n",
      "+--------------------------------------------+-------------------+-------------------+\n",
      "only showing top 20 rows\n",
      "\n"
     ]
    },
    {
     "name": "stderr",
     "output_type": "stream",
     "text": [
      "                                                                                \r"
     ]
    }
   ],
   "source": [
    "temp = df.filter(col('PatientId').isin(beforePatIds))\n",
    "temp = temp.groupby('PatientId')\\\n",
    "            .agg(max(\"GlucoseSystemTime\").alias(\"Max\"),\n",
    "                min(\"GlucoseSystemTime\").alias(\"Min\"))\n",
    "print(\"row count: \", temp.count())\n",
    "temp.orderBy(\"Max\", ascending=False).show(truncate=False)\n",
    "# temp.show(truncate=False)"
   ]
  },
  {
   "cell_type": "code",
   "execution_count": 46,
   "id": "29634272-bd47-41ec-98df-25df83fb3501",
   "metadata": {
    "tags": []
   },
   "outputs": [
    {
     "name": "stderr",
     "output_type": "stream",
     "text": [
      "[Stage 233:>                                                      (0 + 16) / 16]\r"
     ]
    },
    {
     "name": "stdout",
     "output_type": "stream",
     "text": [
      "+--------------------------------------------+-----+\n",
      "|PatientId                                   |count|\n",
      "+--------------------------------------------+-----+\n",
      "|pVBBAjbTS/cd0ljowyrdwDAc3fRs/XeR/CfKq0l9T68=|6421 |\n",
      "|hG3tNW2bodpcbOAnwKtv18XZt51yglPzifxOeFkNrVU=|5945 |\n",
      "|MnfwjA6zL88a59KEDg1InBqNcBdIyhrCGry4K3Fq5rU=|1509 |\n",
      "|lZ7UDPuO7YAmDrNzKK0Rt+s9AdskMlZR5KcLVecSgC0=|1404 |\n",
      "|7hkFsZsZAZ7saYIlL1npE9ZDNs5rEkFMrWYZDMZOygQ=|975  |\n",
      "|NYUV/N1W962H7viwGPL3wNrelpf6jQeUEwYrkY9zJyg=|631  |\n",
      "|4s5/P5SKdaWqlBunmNE5Q8xSsa766t33qJyJRB86934=|489  |\n",
      "|8u4jp/2u+jXZkJMirv2FPMSCNqxshT3NPT89A2YGgQU=|449  |\n",
      "|TXIctmUxSWkHCjPnK4XovmJx64Ko3ohEs/hbpPTjxEA=|406  |\n",
      "|wU8jt4ZqpMq5G9ED7x7SjYgYMJEazqSh5o0ZCS+jgKM=|391  |\n",
      "|WiUIAEyMCn4ZeStqSbexT5fyDXOVXwqvVpgJ3NLObGY=|385  |\n",
      "|+4EbSpcZWBDKPKDwTpg6vuvLgiaezxG+E4854g1svkY=|371  |\n",
      "|iUWj8ymH9HoRVbzikJ/eS1EXpLR8VFxVTF9hnuxt5X0=|358  |\n",
      "|u7PZ+G3SOg5m014I8H++7/4KnwIkDxl//zle+RaGGx0=|344  |\n",
      "|eWVHxpju3wcHOOIXeEFDMOQUtXVzWFMOV/Jchrgp0VY=|342  |\n",
      "|rCfrwIEkQH4dPxbSCoWpubOFAC3iKOfrnkZJn9u2KLY=|341  |\n",
      "|owS3AJVabX97NQeIiKf87wvqf/cGU9MeIEwlLB5oq7g=|337  |\n",
      "|8oSoMoQRTTwFyBNbradSSNldDQk+iE2bUgF6DrrwH/w=|329  |\n",
      "|pmp6LX7Pp4zRtkU4lTJf5mLsXtHzQd+kM7yqQtR/79c=|328  |\n",
      "|OSBBD9FBprxmu6oKQBYhf8GWAeGfR4+PnU/s0AgApik=|327  |\n",
      "+--------------------------------------------+-----+\n",
      "only showing top 20 rows\n",
      "\n"
     ]
    },
    {
     "name": "stderr",
     "output_type": "stream",
     "text": [
      "                                                                                \r"
     ]
    }
   ],
   "source": [
    "# temp = df.filter(col('PatientId').isin(patIds))\n",
    "temp = before.groupby('PatientId').count()\n",
    "temp = temp.orderBy(\"count\", ascending=False)\n",
    "temp.show(truncate=False)"
   ]
  },
  {
   "cell_type": "code",
   "execution_count": 47,
   "id": "8624aaa4-6363-486e-a882-49f32b6d4d11",
   "metadata": {
    "tags": []
   },
   "outputs": [
    {
     "name": "stderr",
     "output_type": "stream",
     "text": [
      "                                                                                \r"
     ]
    },
    {
     "data": {
      "text/plain": [
       "['pVBBAjbTS/cd0ljowyrdwDAc3fRs/XeR/CfKq0l9T68=',\n",
       " 'hG3tNW2bodpcbOAnwKtv18XZt51yglPzifxOeFkNrVU=',\n",
       " 'MnfwjA6zL88a59KEDg1InBqNcBdIyhrCGry4K3Fq5rU=',\n",
       " 'lZ7UDPuO7YAmDrNzKK0Rt+s9AdskMlZR5KcLVecSgC0=',\n",
       " '7hkFsZsZAZ7saYIlL1npE9ZDNs5rEkFMrWYZDMZOygQ=',\n",
       " 'NYUV/N1W962H7viwGPL3wNrelpf6jQeUEwYrkY9zJyg=']"
      ]
     },
     "execution_count": 47,
     "metadata": {},
     "output_type": "execute_result"
    }
   ],
   "source": [
    "orderedPatIds = [i.PatientId for i in temp.select('PatientId').distinct().collect()]\n",
    "orderedPatIds[:6]"
   ]
  },
  {
   "cell_type": "code",
   "execution_count": 48,
   "id": "62cd7c63-7500-4cb4-b563-d9e0c574f706",
   "metadata": {
    "tags": []
   },
   "outputs": [
    {
     "name": "stdout",
     "output_type": "stream",
     "text": [
      "+--------------------+-----+-------------------+-------------------+\n",
      "|           PatientId|Value| GlucoseDisplayTime|  GlucoseSystemTime|\n",
      "+--------------------+-----+-------------------+-------------------+\n",
      "|pVBBAjbTS/cd0ljow...|180.0|2022-01-26 10:53:29|2022-01-26 18:53:29|\n",
      "|pVBBAjbTS/cd0ljow...|176.0|2022-01-14 07:42:32|2022-01-14 15:42:32|\n",
      "|pVBBAjbTS/cd0ljow...|152.0|2022-01-21 11:43:06|2022-01-21 19:43:06|\n",
      "|pVBBAjbTS/cd0ljow...|202.0|2022-01-28 16:13:40|2022-01-29 00:13:40|\n",
      "|pVBBAjbTS/cd0ljow...|139.0|2022-01-26 15:58:29|2022-01-26 23:58:29|\n",
      "|pVBBAjbTS/cd0ljow...|144.0|2022-01-31 05:43:52|2022-01-31 13:43:52|\n",
      "|pVBBAjbTS/cd0ljow...|155.0|2022-01-11 11:52:17|2022-01-11 19:52:17|\n",
      "|pVBBAjbTS/cd0ljow...|168.0|2022-01-12 22:32:25|2022-01-13 06:32:25|\n",
      "|pVBBAjbTS/cd0ljow...|214.0|2022-01-23 18:43:15|2022-01-24 02:43:15|\n",
      "|pVBBAjbTS/cd0ljow...|201.0|2022-01-31 21:33:54|2022-02-01 05:33:54|\n",
      "|pVBBAjbTS/cd0ljow...|205.0|2022-01-27 13:33:34|2022-01-27 21:33:34|\n",
      "|pVBBAjbTS/cd0ljow...| 96.0|2022-01-18 04:47:50|2022-01-18 12:47:50|\n",
      "|pVBBAjbTS/cd0ljow...|153.0|2022-01-11 19:32:19|2022-01-12 03:32:19|\n",
      "|pVBBAjbTS/cd0ljow...|137.0|2022-01-15 06:07:35|2022-01-15 14:07:35|\n",
      "|pVBBAjbTS/cd0ljow...|172.0|2022-01-20 02:17:58|2022-01-20 10:17:58|\n",
      "|pVBBAjbTS/cd0ljow...| 93.0|2022-01-25 00:48:23|2022-01-25 08:48:23|\n",
      "|pVBBAjbTS/cd0ljow...|103.0|2022-01-16 18:12:43|2022-01-17 02:12:43|\n",
      "|pVBBAjbTS/cd0ljow...|227.0|2022-01-28 19:58:40|2022-01-29 03:58:40|\n",
      "|pVBBAjbTS/cd0ljow...|193.0|2022-01-15 14:07:38|2022-01-15 22:07:38|\n",
      "|pVBBAjbTS/cd0ljow...|193.0|2022-01-24 14:53:20|2022-01-24 22:53:20|\n",
      "+--------------------+-----+-------------------+-------------------+\n",
      "only showing top 20 rows\n",
      "\n"
     ]
    }
   ],
   "source": [
    "df0.filter(col('PatientId')==orderedPatIds[0]).show()"
   ]
  },
  {
   "cell_type": "code",
   "execution_count": 44,
   "id": "d28dddce-d292-4527-ac32-50b87bd38d16",
   "metadata": {
    "tags": []
   },
   "outputs": [
    {
     "name": "stderr",
     "output_type": "stream",
     "text": [
      "                                                                                \r"
     ]
    }
   ],
   "source": [
    "before = df.where(\"GlucoseSystemTime <= '\" + path_i[29:39] + \" 00:00:00'\")\n",
    "beforePatIds = [i.PatientId for i in before.select('PatientId').distinct().collect()]"
   ]
  },
  {
   "cell_type": "code",
   "execution_count": 50,
   "id": "3c8140b3-5be2-4027-996d-d13a5944a57b",
   "metadata": {
    "tags": []
   },
   "outputs": [
    {
     "name": "stdout",
     "output_type": "stream",
     "text": [
      "+--------------------+-----+-------------------+-------------------+\n",
      "|           PatientId|Value| GlucoseDisplayTime|  GlucoseSystemTime|\n",
      "+--------------------+-----+-------------------+-------------------+\n",
      "|Iogq4UiEDRMJIIq4b...|202.0|2022-01-29 19:05:17|2022-01-30 03:05:17|\n",
      "|Iogq4UiEDRMJIIq4b...|204.0|2022-01-29 19:10:17|2022-01-30 03:10:17|\n",
      "|Iogq4UiEDRMJIIq4b...|206.0|2022-01-29 19:15:17|2022-01-30 03:15:17|\n",
      "|Iogq4UiEDRMJIIq4b...|208.0|2022-01-29 19:20:18|2022-01-30 03:20:18|\n",
      "|Iogq4UiEDRMJIIq4b...|202.0|2022-01-29 19:25:17|2022-01-30 03:25:17|\n",
      "|Iogq4UiEDRMJIIq4b...|201.0|2022-01-29 19:30:17|2022-01-30 03:30:17|\n",
      "|Iogq4UiEDRMJIIq4b...|203.0|2022-01-29 19:35:17|2022-01-30 03:35:17|\n",
      "+--------------------+-----+-------------------+-------------------+\n",
      "\n",
      "+--------------------+-----+-------------------+-------------------+\n",
      "|           PatientId|Value| GlucoseDisplayTime|  GlucoseSystemTime|\n",
      "+--------------------+-----+-------------------+-------------------+\n",
      "|ZG81vJ8iDhbaI1Goz...| 76.0|2022-02-01 16:26:10|2022-02-01 22:26:10|\n",
      "|ZG81vJ8iDhbaI1Goz...| 74.0|2022-02-01 16:31:09|2022-02-01 22:31:09|\n",
      "|ZG81vJ8iDhbaI1Goz...| 71.0|2022-02-01 16:36:10|2022-02-01 22:36:10|\n",
      "|ZG81vJ8iDhbaI1Goz...| 71.0|2022-02-01 16:41:09|2022-02-01 22:41:09|\n",
      "|ZG81vJ8iDhbaI1Goz...| 75.0|2022-02-01 16:46:09|2022-02-01 22:46:09|\n",
      "|ZG81vJ8iDhbaI1Goz...| 80.0|2022-02-01 16:51:09|2022-02-01 22:51:09|\n",
      "|ZG81vJ8iDhbaI1Goz...| 84.0|2022-02-01 16:56:09|2022-02-01 22:56:09|\n",
      "+--------------------+-----+-------------------+-------------------+\n",
      "\n",
      "+--------------------+-----+-------------------+-------------------+\n",
      "|           PatientId|Value| GlucoseDisplayTime|  GlucoseSystemTime|\n",
      "+--------------------+-----+-------------------+-------------------+\n",
      "|P46XQzHSVHKryfwy1...|275.0|2022-01-31 15:53:19|2022-01-31 20:53:19|\n",
      "|P46XQzHSVHKryfwy1...|283.0|2022-01-31 15:58:19|2022-01-31 20:58:19|\n",
      "|P46XQzHSVHKryfwy1...|282.0|2022-01-31 16:03:20|2022-01-31 21:03:20|\n",
      "|P46XQzHSVHKryfwy1...|274.0|2022-01-31 16:08:19|2022-01-31 21:08:19|\n",
      "|P46XQzHSVHKryfwy1...|256.0|2022-01-31 16:13:19|2022-01-31 21:13:19|\n",
      "|P46XQzHSVHKryfwy1...|264.0|2022-01-31 16:18:19|2022-01-31 21:18:19|\n",
      "+--------------------+-----+-------------------+-------------------+\n",
      "\n",
      "+--------------------+-----+-------------------+-------------------+\n",
      "|           PatientId|Value| GlucoseDisplayTime|  GlucoseSystemTime|\n",
      "+--------------------+-----+-------------------+-------------------+\n",
      "|yQGaD9QBlo+Gb7PLW...| 68.0|2022-01-31 20:17:19|2022-02-01 01:17:19|\n",
      "|yQGaD9QBlo+Gb7PLW...| 63.0|2022-01-31 20:22:19|2022-02-01 01:22:19|\n",
      "|yQGaD9QBlo+Gb7PLW...| 60.0|2022-01-31 20:27:19|2022-02-01 01:27:19|\n",
      "|yQGaD9QBlo+Gb7PLW...| 55.0|2022-01-31 20:32:19|2022-02-01 01:32:19|\n",
      "|yQGaD9QBlo+Gb7PLW...| 48.0|2022-01-31 20:37:19|2022-02-01 01:37:19|\n",
      "|yQGaD9QBlo+Gb7PLW...| 62.0|2022-01-31 20:42:18|2022-02-01 01:42:18|\n",
      "+--------------------+-----+-------------------+-------------------+\n",
      "\n",
      "+--------------------+-----+-------------------+-------------------+\n",
      "|           PatientId|Value| GlucoseDisplayTime|  GlucoseSystemTime|\n",
      "+--------------------+-----+-------------------+-------------------+\n",
      "|Jr6HkjpzhC9sych0b...|163.0|2022-01-31 17:52:35|2022-01-31 22:52:35|\n",
      "|Jr6HkjpzhC9sych0b...|165.0|2022-01-31 17:57:36|2022-01-31 22:57:36|\n",
      "|Jr6HkjpzhC9sych0b...|169.0|2022-01-31 18:02:36|2022-01-31 23:02:36|\n",
      "|Jr6HkjpzhC9sych0b...|180.0|2022-01-31 18:07:35|2022-01-31 23:07:35|\n",
      "|Jr6HkjpzhC9sych0b...|191.0|2022-01-31 18:12:36|2022-01-31 23:12:36|\n",
      "+--------------------+-----+-------------------+-------------------+\n",
      "\n",
      "+--------------------+-----+-------------------+-------------------+\n",
      "|           PatientId|Value| GlucoseDisplayTime|  GlucoseSystemTime|\n",
      "+--------------------+-----+-------------------+-------------------+\n",
      "|zFqyiPyOEk12Rfr5T...|143.0|2022-01-31 17:57:51|2022-01-31 23:57:51|\n",
      "|zFqyiPyOEk12Rfr5T...|140.0|2022-01-31 18:02:51|2022-02-01 00:02:51|\n",
      "|zFqyiPyOEk12Rfr5T...|136.0|2022-01-31 18:07:51|2022-02-01 00:07:51|\n",
      "|zFqyiPyOEk12Rfr5T...|136.0|2022-01-31 18:12:51|2022-02-01 00:12:51|\n",
      "+--------------------+-----+-------------------+-------------------+\n",
      "\n",
      "+--------------------+-----+-------------------+-------------------+\n",
      "|           PatientId|Value| GlucoseDisplayTime|  GlucoseSystemTime|\n",
      "+--------------------+-----+-------------------+-------------------+\n",
      "|imdyEy+FOLwW28SjJ...|207.0|2022-01-31 17:20:38|2022-01-31 23:20:38|\n",
      "|imdyEy+FOLwW28SjJ...|207.0|2022-01-31 17:25:38|2022-01-31 23:25:38|\n",
      "|imdyEy+FOLwW28SjJ...|212.0|2022-01-31 17:30:38|2022-01-31 23:30:38|\n",
      "+--------------------+-----+-------------------+-------------------+\n",
      "\n",
      "+--------------------+-----+-------------------+-------------------+\n",
      "|           PatientId|Value| GlucoseDisplayTime|  GlucoseSystemTime|\n",
      "+--------------------+-----+-------------------+-------------------+\n",
      "|CApXz4zwllgoLmxe9...|132.0|2022-01-31 18:49:43|2022-01-31 23:49:43|\n",
      "+--------------------+-----+-------------------+-------------------+\n",
      "\n",
      "+--------------------+-----+-------------------+-------------------+\n",
      "|           PatientId|Value| GlucoseDisplayTime|  GlucoseSystemTime|\n",
      "+--------------------+-----+-------------------+-------------------+\n",
      "|LIiZ5O+ILVZ/XOd0h...|147.0|2022-01-23 17:41:44|2022-01-23 22:41:44|\n",
      "+--------------------+-----+-------------------+-------------------+\n",
      "\n",
      "+--------------------+-----+-------------------+-------------------+\n",
      "|           PatientId|Value| GlucoseDisplayTime|  GlucoseSystemTime|\n",
      "+--------------------+-----+-------------------+-------------------+\n",
      "|CxtDpXUmDtFKt6fPQ...|115.0|2022-01-31 18:47:59|2022-01-31 23:47:59|\n",
      "+--------------------+-----+-------------------+-------------------+\n",
      "\n",
      "23/05/17 03:32:32 WARN JavaUtils: Attempt to delete using native Unix OS command failed for path = /tmp/blockmgr-adfd935a-abf5-4b2b-a04e-1252c5b5cda6. Falling back to Java IO way\n",
      "java.io.IOException: Failed to delete: /tmp/blockmgr-adfd935a-abf5-4b2b-a04e-1252c5b5cda6\n",
      "\tat org.apache.spark.network.util.JavaUtils.deleteRecursivelyUsingUnixNative(JavaUtils.java:171)\n",
      "\tat org.apache.spark.network.util.JavaUtils.deleteRecursively(JavaUtils.java:110)\n",
      "\tat org.apache.spark.network.util.JavaUtils.deleteRecursively(JavaUtils.java:91)\n",
      "\tat org.apache.spark.util.Utils$.deleteRecursively(Utils.scala:1206)\n",
      "\tat org.apache.spark.storage.DiskBlockManager.$anonfun$doStop$1(DiskBlockManager.scala:374)\n",
      "\tat org.apache.spark.storage.DiskBlockManager.$anonfun$doStop$1$adapted(DiskBlockManager.scala:370)\n",
      "\tat scala.collection.IndexedSeqOptimized.foreach(IndexedSeqOptimized.scala:36)\n",
      "\tat scala.collection.IndexedSeqOptimized.foreach$(IndexedSeqOptimized.scala:33)\n",
      "\tat scala.collection.mutable.ArrayOps$ofRef.foreach(ArrayOps.scala:198)\n",
      "\tat org.apache.spark.storage.DiskBlockManager.doStop(DiskBlockManager.scala:370)\n",
      "\tat org.apache.spark.storage.DiskBlockManager.stop(DiskBlockManager.scala:365)\n",
      "\tat org.apache.spark.storage.BlockManager.stop(BlockManager.scala:2026)\n",
      "\tat org.apache.spark.SparkEnv.stop(SparkEnv.scala:95)\n",
      "\tat org.apache.spark.SparkContext.$anonfun$stop$23(SparkContext.scala:2140)\n",
      "\tat org.apache.spark.util.Utils$.tryLogNonFatalError(Utils.scala:1484)\n",
      "\tat org.apache.spark.SparkContext.stop(SparkContext.scala:2140)\n",
      "\tat org.apache.spark.SparkContext.$anonfun$new$35(SparkContext.scala:660)\n",
      "\tat org.apache.spark.util.SparkShutdownHook.run(ShutdownHookManager.scala:214)\n",
      "\tat org.apache.spark.util.SparkShutdownHookManager.$anonfun$runAll$2(ShutdownHookManager.scala:188)\n",
      "\tat scala.runtime.java8.JFunction0$mcV$sp.apply(JFunction0$mcV$sp.java:23)\n",
      "\tat org.apache.spark.util.Utils$.logUncaughtExceptions(Utils.scala:2066)\n",
      "\tat org.apache.spark.util.SparkShutdownHookManager.$anonfun$runAll$1(ShutdownHookManager.scala:188)\n",
      "\tat scala.runtime.java8.JFunction0$mcV$sp.apply(JFunction0$mcV$sp.java:23)\n",
      "\tat scala.util.Try$.apply(Try.scala:213)\n",
      "\tat org.apache.spark.util.SparkShutdownHookManager.runAll(ShutdownHookManager.scala:188)\n",
      "\tat org.apache.spark.util.SparkShutdownHookManager$$anon$2.run(ShutdownHookManager.scala:178)\n",
      "\tat java.base/java.util.concurrent.Executors$RunnableAdapter.call(Executors.java:539)\n",
      "\tat java.base/java.util.concurrent.FutureTask.run(FutureTask.java:264)\n",
      "\tat java.base/java.util.concurrent.ThreadPoolExecutor.runWorker(ThreadPoolExecutor.java:1136)\n",
      "\tat java.base/java.util.concurrent.ThreadPoolExecutor$Worker.run(ThreadPoolExecutor.java:635)\n",
      "\tat java.base/java.lang.Thread.run(Thread.java:833)\n"
     ]
    }
   ],
   "source": [
    "n = len(orderedPatIds)\n",
    "for i in range(n-10,n):\n",
    "    before.filter(col('PatientId')==orderedPatIds[i]).orderBy(\"GlucoseSystemTime\", ascending=True).show()\n",
    "    \n",
    "    # if i==10:\n",
    "    #     break"
   ]
  },
  {
   "cell_type": "code",
   "execution_count": null,
   "id": "21fca95e-eeb9-42fe-a91c-0df1313fae8f",
   "metadata": {},
   "outputs": [],
   "source": []
  }
 ],
 "metadata": {
  "kernelspec": {
   "display_name": "glucose-venv",
   "language": "python",
   "name": "glucose-venv"
  },
  "language_info": {
   "codemirror_mode": {
    "name": "ipython",
    "version": 3
   },
   "file_extension": ".py",
   "mimetype": "text/x-python",
   "name": "python",
   "nbconvert_exporter": "python",
   "pygments_lexer": "ipython3",
   "version": "3.10.10"
  }
 },
 "nbformat": 4,
 "nbformat_minor": 5
}
