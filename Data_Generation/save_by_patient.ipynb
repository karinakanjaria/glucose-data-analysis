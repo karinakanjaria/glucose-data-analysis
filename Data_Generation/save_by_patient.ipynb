{
 "cells": [
  {
   "cell_type": "markdown",
   "id": "c959bf19-46c2-45fc-b392-c684ced31a08",
   "metadata": {},
   "source": [
    "### Save Raw Data to Patient Specific Storage"
   ]
  },
  {
   "cell_type": "code",
   "execution_count": 1,
   "id": "cff0f2f1-13d9-4797-96b8-81bb54fcd6e1",
   "metadata": {
    "tags": []
   },
   "outputs": [],
   "source": [
    "# load in imports\n",
    "#!sudo apt-get update\n",
    "#!sudo apt-get install openjdk-8-jdk\n",
    "import pyspark\n",
    "from pyspark.sql import SparkSession\n",
    "from pyspark.sql import SQLContext\n",
    "from pyspark import SparkContext, SparkConf\n",
    "from pyspark.sql.types import StructType, StructField, \\\n",
    "StringType, IntegerType, TimestampType, DateType, FloatType\n",
    "import time\n",
    "from pyspark.sql.functions import col, lag, when, isnull, lit\n",
    "import pathlib\n",
    "from pyspark.sql.functions import col, to_date\n",
    "from pyspark.sql.window import Window\n",
    "\n",
    "#from DifferenceFeature import add_difference_features"
   ]
  },
  {
   "cell_type": "code",
   "execution_count": 2,
   "id": "9f6f0a32-af0e-4004-a3d0-db3eca003397",
   "metadata": {
    "tags": []
   },
   "outputs": [
    {
     "name": "stderr",
     "output_type": "stream",
     "text": [
      "Setting default log level to \"WARN\".\n",
      "To adjust logging level use sc.setLogLevel(newLevel). For SparkR, use setLogLevel(newLevel).\n"
     ]
    },
    {
     "name": "stdout",
     "output_type": "stream",
     "text": [
      "23/05/03 21:51:06 WARN NativeCodeLoader: Unable to load native-hadoop library for your platform... using builtin-java classes where applicable\n",
      "23/05/03 21:51:06 WARN Utils: Service 'SparkUI' could not bind on port 4040. Attempting port 4041.\n"
     ]
    }
   ],
   "source": [
    "conf = pyspark.SparkConf().setAll([\\\n",
    "    ('spark.app.name', 'ReduceData')])\n",
    "spark = SparkSession.builder.config(conf=conf)\\\n",
    "    .getOrCreate()"
   ]
  },
  {
   "cell_type": "code",
   "execution_count": 3,
   "id": "12dbb31f-41df-4e29-98fc-d70f71e1c780",
   "metadata": {
    "tags": []
   },
   "outputs": [],
   "source": [
    "glucose_data_schema=StructType([StructField('PatientId', StringType(), True),\n",
    "                                StructField('GlucoseDisplayTime', TimestampType(), True),\n",
    "                                StructField('GlucoseDisplayTimeRaw', StringType(), True),\n",
    "                                StructField('Value', FloatType(), True)\n",
    "                                ])"
   ]
  },
  {
   "cell_type": "markdown",
   "id": "1f327abb-5516-4fbe-850d-ab7ea1537224",
   "metadata": {},
   "source": [
    "grab from raw csv"
   ]
  },
  {
   "cell_type": "code",
   "execution_count": 4,
   "id": "61cd1ef4-7cad-4df5-92c6-d03064bb3f99",
   "metadata": {
    "tags": []
   },
   "outputs": [],
   "source": [
    "# get all csvs to load in\n",
    "allPaths = [str(x) for x in list(pathlib.Path('/cephfs/data').glob('*.csv')) if 'glucose_records' in str(x)]\n",
    "allPaths.sort()"
   ]
  },
  {
   "cell_type": "code",
   "execution_count": 5,
   "id": "3d0ad855-2c02-4638-b2b0-5900ffa3a560",
   "metadata": {
    "tags": []
   },
   "outputs": [],
   "source": [
    "raw_schema=StructType([StructField('_c0', IntegerType(),True),\n",
    "                                StructField('PostDate', TimestampType(),True),\n",
    "                                StructField('IngestionDate', TimestampType(),True),\n",
    "                                StructField('PostId', StringType(),True),\n",
    "                                StructField('PostTime', TimestampType(), True),\n",
    "                                StructField('PatientId', StringType(), True),\n",
    "                                StructField('Stream', StringType(), True),\n",
    "                                StructField('SequenceNumber', StringType(), True),\n",
    "                                StructField('TransmitterNumber', StringType(), True),\n",
    "                                StructField('ReceiverNumber', StringType(), True),\n",
    "                                StructField('RecordedSystemTime', TimestampType(), True),\n",
    "                                StructField('RecordedDisplayTime', TimestampType(), True),\n",
    "                                StructField('RecordedDisplayTimeRaw', TimestampType(), True),\n",
    "                                StructField('TransmitterId', StringType(), True),\n",
    "                                StructField('TransmitterTime', StringType(), True),\n",
    "                                StructField('GlucoseSystemTime', TimestampType(), True),\n",
    "                                StructField('GlucoseDisplayTime', TimestampType(), True),\n",
    "                                StructField('GlucoseDisplayTimeRaw', StringType(), True),\n",
    "                                StructField('Value', FloatType(), True),\n",
    "                                StructField('Status', StringType(), True),\n",
    "                                StructField('TrendArrow', StringType(), True),\n",
    "                                StructField('TrendRate', FloatType(), True),\n",
    "                                StructField('IsBackFilled', StringType(), True),\n",
    "                                StructField('InternalStatus', StringType(), True),\n",
    "                                StructField('SessionStartTime', StringType(), True)])"
   ]
  },
  {
   "cell_type": "code",
   "execution_count": 6,
   "id": "2b4d91b9-02f8-4c4d-87a2-0209a5666a9a",
   "metadata": {
    "tags": []
   },
   "outputs": [],
   "source": [
    "cohortSchema = StructType([StructField('', IntegerType(), True),\n",
    "                        StructField('UserId', StringType(), True),\n",
    "                        StructField('Gender', StringType(), True),\n",
    "                        StructField('DOB', TimestampType(), True),\n",
    "                        StructField('Age', IntegerType(), True),\n",
    "                        StructField('DiabetesType', StringType(), True),\n",
    "                        StructField('Treatment', StringType(), True)\n",
    "                        ])"
   ]
  },
  {
   "cell_type": "code",
   "execution_count": 7,
   "id": "cbf27b11-910a-469c-ba47-4b05d1687e93",
   "metadata": {
    "tags": []
   },
   "outputs": [],
   "source": [
    "cohortDf = spark.read.options(delimiter=',')\\\n",
    "        .csv('/cephfs/data/cohort.csv', header=True, schema=cohortSchema)\\\n",
    "        .withColumnRenamed('', 'NumId')"
   ]
  },
  {
   "cell_type": "code",
   "execution_count": 8,
   "id": "02a00daf-be66-4788-848f-30b3065eb3ac",
   "metadata": {
    "tags": []
   },
   "outputs": [
    {
     "data": {
      "text/plain": [
       "[('NumId', 'int'),\n",
       " ('UserId', 'string'),\n",
       " ('Gender', 'string'),\n",
       " ('DOB', 'timestamp'),\n",
       " ('Age', 'int'),\n",
       " ('DiabetesType', 'string'),\n",
       " ('Treatment', 'string')]"
      ]
     },
     "execution_count": 8,
     "metadata": {},
     "output_type": "execute_result"
    }
   ],
   "source": [
    "cohortDf.dtypes"
   ]
  },
  {
   "cell_type": "code",
   "execution_count": 9,
   "id": "71b8386b-2161-4269-bcd5-3c7a28c8ed40",
   "metadata": {
    "tags": []
   },
   "outputs": [],
   "source": [
    "cohortDf = cohortDf.withColumnRenamed('', 'NumId')"
   ]
  },
  {
   "cell_type": "code",
   "execution_count": 16,
   "id": "8605145d-cb95-4bb6-b5fe-9677efe1c045",
   "metadata": {
    "tags": []
   },
   "outputs": [],
   "source": [
    "patientIds = cohortDf.select(col('UserId'), col('NumId')).distinct()"
   ]
  },
  {
   "cell_type": "code",
   "execution_count": 11,
   "id": "ab04e97c-3adb-4766-b330-614759c82039",
   "metadata": {
    "tags": []
   },
   "outputs": [
    {
     "name": "stdout",
     "output_type": "stream",
     "text": [
      "+-----+--------------------+------+-------------------+---+------------+---------+\n",
      "|NumId|              UserId|Gender|                DOB|Age|DiabetesType|Treatment|\n",
      "+-----+--------------------+------+-------------------+---+------------+---------+\n",
      "|    0|5lZPrCk6qk8L6Jw+S...|Female|1931-01-01 00:00:00| 92|    type-two|       no|\n",
      "|    1|9qY9mZ+GV5Kd/O/NB...|  Male|1937-01-01 00:00:00| 86|    type-two|       no|\n",
      "|    2|uhsyLhr4Zl6NfGbNB...|Female|1938-01-01 00:00:00| 85|    type-two|       no|\n",
      "|    3|9uAVHBOgoCJ9hfcrL...|  Male|1938-01-01 00:00:00| 85|    type-two|       no|\n",
      "|    4|Fyb156jU1edGykL7N...|Female|1939-01-01 00:00:00| 84|    type-two|       no|\n",
      "|    5|86XfZ0fNI0VWOzWrl...|Female|1939-01-01 00:00:00| 84|    type-two|       no|\n",
      "|    6|JfJMH1qCpiYNuPOp/...|Female|1940-01-01 00:00:00| 83|    type-two|       no|\n",
      "|    7|EkW0PD80req7mL/5S...|  Male|1940-01-01 00:00:00| 83|    type-two|       no|\n",
      "|    8|OyqSKorAj1OPZaevj...|Female|1941-01-01 00:00:00| 82|    type-two|       no|\n",
      "|    9|4n03YE5Q5c2Ge1O4+...|Female|1941-01-01 00:00:00| 82|    type-two|       no|\n",
      "+-----+--------------------+------+-------------------+---+------------+---------+\n",
      "only showing top 10 rows\n",
      "\n"
     ]
    }
   ],
   "source": [
    "cohortDf.show(10)"
   ]
  },
  {
   "cell_type": "code",
   "execution_count": 13,
   "id": "0a4f0c29-988b-4652-98c5-394d78c5a719",
   "metadata": {
    "tags": []
   },
   "outputs": [
    {
     "name": "stderr",
     "output_type": "stream",
     "text": [
      "                                                                                \r"
     ]
    },
    {
     "name": "stdout",
     "output_type": "stream",
     "text": [
      "1.3498187065124512\n"
     ]
    }
   ],
   "source": [
    "#read in all paths\n",
    "startTime = time.time()\n",
    "df = spark.read\\\n",
    "    .format('csv')\\\n",
    "    .option('delimiter', ',')\\\n",
    "    .option(\"mode\", \"DROPMALFORMED\")\\\n",
    "    .option(\"header\", True)\\\n",
    "    .schema(raw_schema)\\\n",
    "    .load(allPaths)\\\n",
    "    .select(col(\"PatientId\"), col(\"Value\"), \\\n",
    "            col(\"GlucoseDisplayTime\"), col(\"GlucoseDisplayTimeRaw\"))\n",
    "print(time.time() - startTime)"
   ]
  },
  {
   "cell_type": "code",
   "execution_count": 14,
   "id": "d45a2041-1e7f-412a-9cca-943c14bc7192",
   "metadata": {
    "tags": []
   },
   "outputs": [],
   "source": [
    "#add date\n",
    "df = df.withColumn('GlucoseDisplayDate',\n",
    "                       to_date(col('GlucoseDisplayTime')))\n"
   ]
  },
  {
   "cell_type": "code",
   "execution_count": 21,
   "id": "4df30b06-e475-4d86-9121-d5661bfbecd6",
   "metadata": {
    "tags": []
   },
   "outputs": [
    {
     "name": "stdout",
     "output_type": "stream",
     "text": [
      "+--------------------+-----+--------------------+---------------------+------------------+-----+\n",
      "|           PatientId|Value|  GlucoseDisplayTime|GlucoseDisplayTimeRaw|GlucoseDisplayDate|NumId|\n",
      "+--------------------+-----+--------------------+---------------------+------------------+-----+\n",
      "|1Jxgxke6R3Uh2c9aR...|  0.0|2022-02-01 14:45:...| 2022-02-01T14:45:...|        2022-02-01| 1560|\n",
      "|toBStbTTYI2GU28Yd...|  0.0|2022-02-01 17:46:...| 2022-02-01T17:46:...|        2022-02-01| 6802|\n",
      "|+XAhHhm+BkhqusxsZ...|  0.0|2022-02-01 14:58:...| 2022-02-01T14:58:...|        2022-02-01|  988|\n",
      "|+XAhHhm+BkhqusxsZ...|  0.0|2022-01-31 22:53:...| 2022-01-31T22:53:...|        2022-01-31|  988|\n",
      "+--------------------+-----+--------------------+---------------------+------------------+-----+\n",
      "only showing top 4 rows\n",
      "\n"
     ]
    }
   ],
   "source": [
    "#add numId to df\n",
    "joined = df.join(patientIds, df.PatientId == patientIds.UserId)\\\n",
    "            .select(df.PatientId, df.Value, df.GlucoseDisplayTime, df.GlucoseDisplayTimeRaw, \\\n",
    "                    df.GlucoseDisplayDate, patientIds.NumId)\n",
    "joined.show(4)"
   ]
  },
  {
   "cell_type": "code",
   "execution_count": 22,
   "id": "5c3900ec-9055-4b50-90d8-68a31e92c33a",
   "metadata": {
    "tags": []
   },
   "outputs": [
    {
     "data": {
      "text/plain": [
       "pyspark.sql.dataframe.DataFrame"
      ]
     },
     "execution_count": 22,
     "metadata": {},
     "output_type": "execute_result"
    }
   ],
   "source": [
    "type(joined)"
   ]
  },
  {
   "cell_type": "code",
   "execution_count": 25,
   "id": "d6143617-5c4e-4245-936e-4e82d3f10d02",
   "metadata": {
    "tags": []
   },
   "outputs": [
    {
     "name": "stderr",
     "output_type": "stream",
     "text": [
      "                                                                                \r"
     ]
    },
    {
     "name": "stdout",
     "output_type": "stream",
     "text": [
      "4661.077612400055\n"
     ]
    }
   ],
   "source": [
    "startTime = time.time()\n",
    "\n",
    "joined.repartition('PatientId')\\\n",
    "    .write.parquet('/cephfs/data_by_patient/') \n",
    "\n",
    "print(time.time()-startTime)"
   ]
  },
  {
   "cell_type": "raw",
   "id": "2e72e3d7-9376-430a-a4a3-f7d3808fc1d8",
   "metadata": {
    "tags": []
   },
   "source": [
    "pathRange = spark.sparkContext.range(20, len(allPaths), 20).collect()\n",
    "pathRange.append(365)"
   ]
  },
  {
   "cell_type": "raw",
   "id": "777fc93a-106e-41aa-a021-8baf2367c03f",
   "metadata": {
    "tags": []
   },
   "source": [
    "# load in data, select columns to save, create date column, save to parquet format\n",
    "#!rm -r /cephfs/patient_data/ \n",
    "#bc we are appending, we want to delete before we do a full run to remove duplicates\n",
    "\n",
    "startTime = time.time()\n",
    "prevId = 0\n",
    "for idx in pathRange:\n",
    "    paths = allPaths[prevId:idx]\n",
    "    \n",
    "    print(len(allPaths))\n",
    "   \n",
    "    df = spark.read\\\n",
    "            .format('csv')\\\n",
    "            .option('delimiter', ',')\\\n",
    "            .option(\"mode\", \"DROPMALFORMED\")\\\n",
    "            .option(\"header\", True)\\\n",
    "            .schema(raw_schema)\\\n",
    "            .load(allPaths)\\\n",
    "            .select(col(\"PatientId\"), col(\"Value\"), \\\n",
    "                    col(\"GlucoseDisplayTime\"), col(\"GlucoseDisplayTimeRaw\"))\n",
    "          \n",
    "    print('read')\n",
    "\n",
    "    df = df.withColumn('GlucoseDisplayDate',\n",
    "                           to_date(col('GlucoseDisplayTime')))\n",
    "    \n",
    "    for patIds in patientIds:\n",
    "        patId = patIds.UserId\n",
    "        numId = patIds.NumId\n",
    "        \n",
    "        print('filter')\n",
    "        filterTime = time.time()\n",
    "        patData = df.filter(df.PatientId == patId)\n",
    "        print(time.time() - filterTime)\n",
    "        patData = patData.withColumn('Num_Id', lit(numId))\n",
    "        writetime = time.time()\n",
    "        patData.write.mode('append')\\\n",
    "                    .parquet('/cephfs/patient_data/patient_' + str(numId)) \n",
    "        print('write')\n",
    "        print(time.time() - writeTime)\n",
    "        patData.unpersist()\n",
    "        \n",
    "        break;\n",
    "    \n",
    "    break;\n",
    "    df.unpersist()\n",
    "    prevId = idx\n",
    "        \n",
    "endTime = time.time()\n",
    "print(endTime-startTime)"
   ]
  },
  {
   "cell_type": "raw",
   "id": "e3ef1580-f953-4cd7-9818-39837f967d30",
   "metadata": {
    "tags": []
   },
   "source": [
    "patData.show(4)"
   ]
  },
  {
   "cell_type": "code",
   "execution_count": null,
   "id": "ab2b1bea-8006-4599-8123-eea15db62066",
   "metadata": {},
   "outputs": [],
   "source": []
  }
 ],
 "metadata": {
  "kernelspec": {
   "display_name": "glucose-venv",
   "language": "python",
   "name": "glucose-venv"
  },
  "language_info": {
   "codemirror_mode": {
    "name": "ipython",
    "version": 3
   },
   "file_extension": ".py",
   "mimetype": "text/x-python",
   "name": "python",
   "nbconvert_exporter": "python",
   "pygments_lexer": "ipython3",
   "version": "3.10.10"
  }
 },
 "nbformat": 4,
 "nbformat_minor": 5
}
