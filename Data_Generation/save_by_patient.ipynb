{
 "cells": [
  {
   "cell_type": "markdown",
   "id": "c959bf19-46c2-45fc-b392-c684ced31a08",
   "metadata": {},
   "source": [
    "### Save Raw Data to Patient Specific Storage"
   ]
  },
  {
   "cell_type": "code",
   "execution_count": 107,
   "id": "cff0f2f1-13d9-4797-96b8-81bb54fcd6e1",
   "metadata": {
    "tags": []
   },
   "outputs": [],
   "source": [
    "# load in imports\n",
    "#!sudo apt-get update\n",
    "#!sudo apt-get install openjdk-8-jdk\n",
    "import pyspark\n",
    "from pyspark.sql import SparkSession\n",
    "from pyspark.sql import SQLContext\n",
    "from pyspark import SparkContext, SparkConf\n",
    "from pyspark.sql.types import StructType, StructField, \\\n",
    "StringType, IntegerType, TimestampType, DateType, FloatType\n",
    "import time\n",
    "from pyspark.sql.functions import col, lag, when, isnull, lit\n",
    "import pathlib\n",
    "from pyspark.sql.functions import col, to_date\n",
    "from pyspark.sql.window import Window\n",
    "\n",
    "#from DifferenceFeature import add_difference_features"
   ]
  },
  {
   "cell_type": "code",
   "execution_count": 3,
   "id": "9f6f0a32-af0e-4004-a3d0-db3eca003397",
   "metadata": {
    "tags": []
   },
   "outputs": [
    {
     "name": "stderr",
     "output_type": "stream",
     "text": [
      "Setting default log level to \"WARN\".\n",
      "To adjust logging level use sc.setLogLevel(newLevel). For SparkR, use setLogLevel(newLevel).\n"
     ]
    },
    {
     "name": "stdout",
     "output_type": "stream",
     "text": [
      "23/05/01 20:20:42 WARN NativeCodeLoader: Unable to load native-hadoop library for your platform... using builtin-java classes where applicable\n",
      "23/05/01 20:20:43 WARN Utils: Service 'SparkUI' could not bind on port 4040. Attempting port 4041.\n"
     ]
    }
   ],
   "source": [
    "conf = pyspark.SparkConf().setAll([\\\n",
    "    ('spark.app.name', 'ReduceData')])\n",
    "spark = SparkSession.builder.config(conf=conf)\\\n",
    "    .getOrCreate()"
   ]
  },
  {
   "cell_type": "markdown",
   "id": "34e0ab03-606a-4c8d-bae5-8a14de9b7472",
   "metadata": {},
   "source": [
    "grab from parquet files"
   ]
  },
  {
   "cell_type": "code",
   "execution_count": 29,
   "id": "cd4d65d5-87ef-4bcb-b7d5-405fac9f6e2c",
   "metadata": {
    "collapsed": true,
    "jupyter": {
     "outputs_hidden": true
    },
    "tags": []
   },
   "outputs": [
    {
     "name": "stdout",
     "output_type": "stream",
     "text": [
      "[['/cephfs/stepped_glucose_data/step0_load_daily/parquet_69/part-00000-3307b135-e04e-4652-9347-5b6570ce6af4-c000.snappy.parquet'], ['/cephfs/stepped_glucose_data/step0_load_daily/parquet_45/part-00000-1289f826-6f4a-4aef-9685-ebb35eefa1bc-c000.snappy.parquet'], ['/cephfs/stepped_glucose_data/step0_load_daily/parquet_118/part-00000-1c3d35f8-215c-4024-bebd-c9722ce2f656-c000.snappy.parquet'], ['/cephfs/stepped_glucose_data/step0_load_daily/parquet_60/part-00000-9f07ca32-193d-4c25-a0de-68639b872326-c000.snappy.parquet'], ['/cephfs/stepped_glucose_data/step0_load_daily/parquet_18/part-00000-e714659e-da18-43bc-814f-eb0b4da693b6-c000.snappy.parquet'], ['/cephfs/stepped_glucose_data/step0_load_daily/parquet_235/part-00000-8ef146cc-9f02-44dc-b4b2-700e970c070b-c000.snappy.parquet'], ['/cephfs/stepped_glucose_data/step0_load_daily/parquet_221/part-00000-55cf3904-ae54-4c46-9fba-fc882d0b3225-c000.snappy.parquet'], ['/cephfs/stepped_glucose_data/step0_load_daily/parquet_32/part-00000-2bd378d7-01cb-4850-b2a4-27f41772b11e-c000.snappy.parquet'], ['/cephfs/stepped_glucose_data/step0_load_daily/parquet_38/part-00000-88236ad2-9352-47bb-ac58-6a8415b67b9b-c000.snappy.parquet'], ['/cephfs/stepped_glucose_data/step0_load_daily/parquet_226/part-00000-a0aeed8a-b38b-479c-82a9-9ee51a9c5561-c000.snappy.parquet'], ['/cephfs/stepped_glucose_data/step0_load_daily/parquet_47/part-00000-bb0b5982-cd62-4bb5-8978-ebf8103f7167-c000.snappy.parquet'], ['/cephfs/stepped_glucose_data/step0_load_daily/parquet_51/part-00000-255f7c17-a442-4841-8a33-526d23dcc42c-c000.snappy.parquet'], ['/cephfs/stepped_glucose_data/step0_load_daily/parquet_89/part-00000-701d3cb1-4f0f-4c25-8593-086494e14d45-c000.snappy.parquet'], ['/cephfs/stepped_glucose_data/step0_load_daily/parquet_6/part-00000-546aac88-eef6-4084-9ac7-82fa966ada78-c000.snappy.parquet'], ['/cephfs/stepped_glucose_data/step0_load_daily/parquet_17/part-00000-7db71e78-0599-4caa-a92d-1b38b5690e23-c000.snappy.parquet'], ['/cephfs/stepped_glucose_data/step0_load_daily/parquet_5/part-00000-41874141-f832-4177-b6cf-857d3d8c0b57-c000.snappy.parquet'], ['/cephfs/stepped_glucose_data/step0_load_daily/parquet_144/part-00000-da9375fa-f493-416c-b6ab-b1f16dae7776-c000.snappy.parquet'], ['/cephfs/stepped_glucose_data/step0_load_daily/parquet_263/part-00000-101a348b-f1e0-4850-b4e3-5448045be1b8-c000.snappy.parquet'], ['/cephfs/stepped_glucose_data/step0_load_daily/parquet_125/part-00000-d1684db1-7f0a-4385-ab25-9443c0a71562-c000.snappy.parquet'], ['/cephfs/stepped_glucose_data/step0_load_daily/parquet_188/part-00000-d36c2d7a-376a-4c69-95a6-f299cbf51500-c000.snappy.parquet'], ['/cephfs/stepped_glucose_data/step0_load_daily/parquet_59/part-00000-34b4d11c-2c35-4ed0-93d4-ce8f128ffee8-c000.snappy.parquet'], ['/cephfs/stepped_glucose_data/step0_load_daily/parquet_206/part-00000-8de2bf21-7e1c-4e15-bff6-7a401dd17987-c000.snappy.parquet'], ['/cephfs/stepped_glucose_data/step0_load_daily/parquet_193/part-00000-88f88606-25c3-44e6-a745-5bf19f35eec6-c000.snappy.parquet'], ['/cephfs/stepped_glucose_data/step0_load_daily/parquet_191/part-00000-76d02ae1-1ced-4d2f-8505-ce84dc261eed-c000.snappy.parquet'], ['/cephfs/stepped_glucose_data/step0_load_daily/parquet_216/part-00000-3951f62c-9429-40b6-a6f6-3ba67778dbd1-c000.snappy.parquet'], ['/cephfs/stepped_glucose_data/step0_load_daily/parquet_227/part-00000-46f80a20-f1d7-496c-bb24-a6dfd80994b3-c000.snappy.parquet'], ['/cephfs/stepped_glucose_data/step0_load_daily/parquet_99/part-00000-4ad733db-f98c-47b0-a542-7acde6e3577d-c000.snappy.parquet'], ['/cephfs/stepped_glucose_data/step0_load_daily/parquet_178/part-00000-330bbfaf-f7e8-44a0-a207-dda3c005dbbd-c000.snappy.parquet'], ['/cephfs/stepped_glucose_data/step0_load_daily/parquet_11/part-00000-5adb1b7c-18a6-4788-aefc-5280f1512d83-c000.snappy.parquet'], ['/cephfs/stepped_glucose_data/step0_load_daily/parquet_101/part-00000-19f26390-abda-4393-a95c-bd3a2eaf20c9-c000.snappy.parquet'], ['/cephfs/stepped_glucose_data/step0_load_daily/parquet_161/part-00000-778befd0-d0ee-4801-a7f5-c725a92bd31f-c000.snappy.parquet'], ['/cephfs/stepped_glucose_data/step0_load_daily/parquet_214/part-00000-f13af079-d5fa-4085-bc5a-3f4adbfcdc85-c000.snappy.parquet'], ['/cephfs/stepped_glucose_data/step0_load_daily/parquet_186/part-00000-bae15729-1781-4f7e-8499-75d0cdee8ff2-c000.snappy.parquet'], ['/cephfs/stepped_glucose_data/step0_load_daily/parquet_209/part-00000-03227333-aec3-41d0-ac9a-e968a0a4f9e9-c000.snappy.parquet'], ['/cephfs/stepped_glucose_data/step0_load_daily/parquet_54/part-00000-a405769c-76ea-44e7-930f-9ec190b76006-c000.snappy.parquet'], ['/cephfs/stepped_glucose_data/step0_load_daily/parquet_94/part-00000-29b51315-7e48-42dc-904a-875aa0034f83-c000.snappy.parquet'], ['/cephfs/stepped_glucose_data/step0_load_daily/parquet_113/part-00000-2e5b65b3-01be-4cc4-8b4f-a8fdea2e26c6-c000.snappy.parquet'], ['/cephfs/stepped_glucose_data/step0_load_daily/parquet_75/part-00000-9fd1d593-6dfa-46fb-bb8e-7954b3925009-c000.snappy.parquet'], ['/cephfs/stepped_glucose_data/step0_load_daily/parquet_194/part-00000-ae08b980-72fb-4a88-a644-2a2d23793e79-c000.snappy.parquet'], ['/cephfs/stepped_glucose_data/step0_load_daily/parquet_53/part-00000-9c9a8c90-e6a0-44a6-9781-622740a5152a-c000.snappy.parquet'], ['/cephfs/stepped_glucose_data/step0_load_daily/parquet_219/part-00000-c28547c6-49c5-4d1d-8999-fc3a30609d9d-c000.snappy.parquet'], ['/cephfs/stepped_glucose_data/step0_load_daily/parquet_82/part-00000-045e08ce-590c-4780-a9cc-d5e74591575d-c000.snappy.parquet'], ['/cephfs/stepped_glucose_data/step0_load_daily/parquet_222/part-00000-ad57d408-34a2-4dff-b661-5d05ba207988-c000.snappy.parquet'], ['/cephfs/stepped_glucose_data/step0_load_daily/parquet_37/part-00000-9da1e667-c659-4942-aca4-09bb1501ca2d-c000.snappy.parquet'], ['/cephfs/stepped_glucose_data/step0_load_daily/parquet_120/part-00000-3317324b-c210-41d2-a718-212171841d3d-c000.snappy.parquet'], ['/cephfs/stepped_glucose_data/step0_load_daily/parquet_128/part-00000-384c7db7-f7f8-4b47-9865-c26dddf602b0-c000.snappy.parquet'], ['/cephfs/stepped_glucose_data/step0_load_daily/parquet_33/part-00000-a292d3f3-c473-4789-a932-ab8765d025dc-c000.snappy.parquet'], ['/cephfs/stepped_glucose_data/step0_load_daily/parquet_157/part-00000-abf4f158-5542-4c05-a2b9-538bb847eaf3-c000.snappy.parquet'], ['/cephfs/stepped_glucose_data/step0_load_daily/parquet_129/part-00000-8febbaea-6b6d-47ae-81a0-6089b322ee8e-c000.snappy.parquet'], ['/cephfs/stepped_glucose_data/step0_load_daily/parquet_142/part-00000-3bb8bcf2-dff5-4c35-8bba-7722af488e76-c000.snappy.parquet'], ['/cephfs/stepped_glucose_data/step0_load_daily/parquet_92/part-00000-dcc280bf-76b1-432f-a028-e0baf089cc2e-c000.snappy.parquet'], ['/cephfs/stepped_glucose_data/step0_load_daily/parquet_174/part-00000-093d61e1-8843-4ac4-a9ef-e9d8bed9e6ca-c000.snappy.parquet'], ['/cephfs/stepped_glucose_data/step0_load_daily/parquet_9/part-00000-35f9c5b8-b15f-498e-a148-9701b5c8e45f-c000.snappy.parquet'], ['/cephfs/stepped_glucose_data/step0_load_daily/parquet_121/part-00000-fb08c4dd-025f-4306-a03f-7f5934932f7c-c000.snappy.parquet'], ['/cephfs/stepped_glucose_data/step0_load_daily/parquet_8/part-00000-44b1bf68-9d62-497c-96b7-1ae1a9220d7b-c000.snappy.parquet'], ['/cephfs/stepped_glucose_data/step0_load_daily/parquet_218/part-00000-4cb7a565-bd40-463f-b32b-9a8520509d97-c000.snappy.parquet'], ['/cephfs/stepped_glucose_data/step0_load_daily/parquet_100/part-00000-b89d2952-8d6f-4446-8123-2a3b56ea302e-c000.snappy.parquet'], ['/cephfs/stepped_glucose_data/step0_load_daily/parquet_149/part-00000-b5480bfe-b221-4d34-99c8-9e2bc43e6932-c000.snappy.parquet'], ['/cephfs/stepped_glucose_data/step0_load_daily/parquet_104/part-00000-d2bf82ed-e671-4ea5-a9f2-4209a854e8fb-c000.snappy.parquet'], ['/cephfs/stepped_glucose_data/step0_load_daily/parquet_196/part-00000-bb12c656-719a-41ae-a45c-b5c5d02825bb-c000.snappy.parquet'], ['/cephfs/stepped_glucose_data/step0_load_daily/parquet_225/part-00000-050b1a66-4a64-440b-816a-2ba26ab8d58a-c000.snappy.parquet'], ['/cephfs/stepped_glucose_data/step0_load_daily/parquet_114/part-00000-ba0e1b1d-ed79-4723-8323-59c200ad73ea-c000.snappy.parquet'], ['/cephfs/stepped_glucose_data/step0_load_daily/parquet_251/part-00000-12ca3651-4bd9-42bd-849b-8baa767d2a1b-c000.snappy.parquet'], ['/cephfs/stepped_glucose_data/step0_load_daily/parquet_102/part-00000-a9ed457c-110d-47c1-bf87-52744369762d-c000.snappy.parquet'], ['/cephfs/stepped_glucose_data/step0_load_daily/parquet_64/part-00000-90e53491-8477-427d-b2bf-6e7047a028b4-c000.snappy.parquet'], ['/cephfs/stepped_glucose_data/step0_load_daily/parquet_164/part-00000-77b8de0d-84fb-4f38-a17f-03b6ac31162c-c000.snappy.parquet'], ['/cephfs/stepped_glucose_data/step0_load_daily/parquet_0/part-00000-1c9c2511-4c2e-40c2-b7d1-7827039567e8-c000.snappy.parquet'], ['/cephfs/stepped_glucose_data/step0_load_daily/parquet_268/part-00000-9a3769dd-3ae9-4985-8e20-a0797ed1f2cf-c000.snappy.parquet'], ['/cephfs/stepped_glucose_data/step0_load_daily/parquet_170/part-00000-b3354857-6c4c-4c27-b855-63c2d5537a4d-c000.snappy.parquet'], ['/cephfs/stepped_glucose_data/step0_load_daily/parquet_141/part-00000-b281819b-34b5-4292-9b97-ed7ffb80a566-c000.snappy.parquet'], ['/cephfs/stepped_glucose_data/step0_load_daily/parquet_43/part-00000-e187d7d4-1668-40be-9e58-70497393657f-c000.snappy.parquet'], ['/cephfs/stepped_glucose_data/step0_load_daily/parquet_197/part-00000-feb2e3a5-c286-44c2-94f4-5e874755f9ca-c000.snappy.parquet'], ['/cephfs/stepped_glucose_data/step0_load_daily/parquet_258/part-00000-0f7f2cd4-97e7-41bd-9fbb-34c6a2f8018e-c000.snappy.parquet'], ['/cephfs/stepped_glucose_data/step0_load_daily/parquet_14/part-00000-03be46a6-2b99-4e75-8f9e-b2c971aa2ddf-c000.snappy.parquet'], ['/cephfs/stepped_glucose_data/step0_load_daily/parquet_243/part-00000-60f4abcd-a00f-41d8-a726-f48e7bb4ba89-c000.snappy.parquet'], ['/cephfs/stepped_glucose_data/step0_load_daily/parquet_70/part-00000-55d99e0f-9ff2-41fd-8c0d-a00b4ca22ad6-c000.snappy.parquet'], ['/cephfs/stepped_glucose_data/step0_load_daily/parquet_267/part-00000-a9673755-d4a6-4a8a-9731-11e85baad257-c000.snappy.parquet'], ['/cephfs/stepped_glucose_data/step0_load_daily/parquet_253/part-00000-7add9fd5-6d22-41c7-9596-c7204b7266fb-c000.snappy.parquet'], ['/cephfs/stepped_glucose_data/step0_load_daily/parquet_79/part-00000-7ae89c5d-f6a8-492e-9b10-648c94c7c836-c000.snappy.parquet'], ['/cephfs/stepped_glucose_data/step0_load_daily/parquet_41/part-00000-1dc27b7c-acad-4c82-a961-7a19ef82590f-c000.snappy.parquet'], ['/cephfs/stepped_glucose_data/step0_load_daily/parquet_200/part-00000-14b5e32d-6c0f-4099-aade-c71a94882e33-c000.snappy.parquet'], ['/cephfs/stepped_glucose_data/step0_load_daily/parquet_236/part-00000-db9c68f7-e8d9-4734-9616-8c72c1895ee3-c000.snappy.parquet'], ['/cephfs/stepped_glucose_data/step0_load_daily/parquet_203/part-00000-48152580-5bd9-400d-ac26-db981d0d405e-c000.snappy.parquet'], ['/cephfs/stepped_glucose_data/step0_load_daily/parquet_259/part-00000-86a4b5d8-cf7f-4222-981f-2c1dc6278bc0-c000.snappy.parquet'], ['/cephfs/stepped_glucose_data/step0_load_daily/parquet_111/part-00000-edfdb392-bd13-44c4-859c-c8074c3a9990-c000.snappy.parquet'], ['/cephfs/stepped_glucose_data/step0_load_daily/parquet_103/part-00000-1c56349b-247b-4aa2-bfa7-ba651bad121f-c000.snappy.parquet'], ['/cephfs/stepped_glucose_data/step0_load_daily/parquet_204/part-00000-e453baf5-7b43-4633-93ae-3fcf392f763f-c000.snappy.parquet'], ['/cephfs/stepped_glucose_data/step0_load_daily/parquet_201/part-00000-375903b0-1079-40a0-a510-5cef44a93cbd-c000.snappy.parquet'], ['/cephfs/stepped_glucose_data/step0_load_daily/parquet_96/part-00000-fa493998-3146-4fb0-939e-df5493516bce-c000.snappy.parquet'], ['/cephfs/stepped_glucose_data/step0_load_daily/parquet_93/part-00000-84791480-bfdf-4e0d-8abf-ace853dc7396-c000.snappy.parquet'], ['/cephfs/stepped_glucose_data/step0_load_daily/parquet_46/part-00000-be7f24a5-0434-4010-b15f-3e31a4c4980e-c000.snappy.parquet'], ['/cephfs/stepped_glucose_data/step0_load_daily/parquet_134/part-00000-eef71606-8236-4c50-bd7e-fc44d020ce71-c000.snappy.parquet'], ['/cephfs/stepped_glucose_data/step0_load_daily/parquet_42/part-00000-57f09e31-698b-465f-b5de-729181eab583-c000.snappy.parquet'], ['/cephfs/stepped_glucose_data/step0_load_daily/parquet_36/part-00000-99bb7304-0f6d-4e5a-8a84-4bd7777b69b1-c000.snappy.parquet'], ['/cephfs/stepped_glucose_data/step0_load_daily/parquet_57/part-00000-980f5b9c-7b10-4106-a029-ee607e634085-c000.snappy.parquet'], ['/cephfs/stepped_glucose_data/step0_load_daily/parquet_66/part-00000-d3acb40f-d9aa-4692-8d92-1abf34eb03b0-c000.snappy.parquet'], ['/cephfs/stepped_glucose_data/step0_load_daily/parquet_12/part-00000-449272f2-0287-422e-a29a-cc0b3dfe223d-c000.snappy.parquet'], ['/cephfs/stepped_glucose_data/step0_load_daily/parquet_213/part-00000-f3bedde4-c81f-4ed6-9663-ae812a2317bf-c000.snappy.parquet'], ['/cephfs/stepped_glucose_data/step0_load_daily/parquet_40/part-00000-f1d67fdc-28c9-46d3-a690-0944c05b11ad-c000.snappy.parquet'], ['/cephfs/stepped_glucose_data/step0_load_daily/parquet_265/part-00000-7521569f-dfef-4527-a1fd-2e8f2f6288ce-c000.snappy.parquet'], ['/cephfs/stepped_glucose_data/step0_load_daily/parquet_261/part-00000-6a13a9d9-730b-40b3-9f57-5cdc417ee133-c000.snappy.parquet'], ['/cephfs/stepped_glucose_data/step0_load_daily/parquet_152/part-00000-8504d12a-a5af-415f-bec9-19226a943f8a-c000.snappy.parquet'], ['/cephfs/stepped_glucose_data/step0_load_daily/parquet_135/part-00000-9d55d8cc-265f-49e0-8c26-cc32f9fa8401-c000.snappy.parquet'], ['/cephfs/stepped_glucose_data/step0_load_daily/parquet_25/part-00000-5398a1f4-8c55-44aa-bfa8-5dd4de2b4b95-c000.snappy.parquet'], ['/cephfs/stepped_glucose_data/step0_load_daily/parquet_165/part-00000-72238c24-5e75-4506-9721-89ef8d264564-c000.snappy.parquet'], ['/cephfs/stepped_glucose_data/step0_load_daily/parquet_257/part-00000-2d8f01d0-a210-46b8-93af-dc99b7721b22-c000.snappy.parquet'], ['/cephfs/stepped_glucose_data/step0_load_daily/parquet_231/part-00000-770154d2-5f42-475f-a56a-64cfa0d45e56-c000.snappy.parquet'], ['/cephfs/stepped_glucose_data/step0_load_daily/parquet_240/part-00000-659e6b2a-73f6-4d50-bc40-e6857145c2bc-c000.snappy.parquet'], ['/cephfs/stepped_glucose_data/step0_load_daily/parquet_44/part-00000-5330f857-ab53-40cd-9336-89d59538f50a-c000.snappy.parquet'], ['/cephfs/stepped_glucose_data/step0_load_daily/parquet_29/part-00000-95e18f59-a12c-474c-aabc-97102d83884c-c000.snappy.parquet'], ['/cephfs/stepped_glucose_data/step0_load_daily/parquet_233/part-00000-ad900f3e-9898-4369-bc24-db9017a41a7d-c000.snappy.parquet'], ['/cephfs/stepped_glucose_data/step0_load_daily/parquet_237/part-00000-98821e01-8ace-4536-8e85-d09204a5659c-c000.snappy.parquet'], ['/cephfs/stepped_glucose_data/step0_load_daily/parquet_172/part-00000-1a5fb597-efb2-464f-96e3-dfb89c24daab-c000.snappy.parquet'], ['/cephfs/stepped_glucose_data/step0_load_daily/parquet_154/part-00000-89c65038-c79c-4293-9743-3317800182a7-c000.snappy.parquet'], ['/cephfs/stepped_glucose_data/step0_load_daily/parquet_122/part-00000-1c2256a0-8c71-4c3d-b78b-faacca7d748d-c000.snappy.parquet'], ['/cephfs/stepped_glucose_data/step0_load_daily/parquet_229/part-00000-077f0e99-3b7c-45a7-a5f0-25a3b8f0f726-c000.snappy.parquet'], ['/cephfs/stepped_glucose_data/step0_load_daily/parquet_155/part-00000-aab1ca23-7a93-4714-9f73-8c323a401545-c000.snappy.parquet'], ['/cephfs/stepped_glucose_data/step0_load_daily/parquet_97/part-00000-a965b3c2-40e1-437f-adbb-8d6edb0b2790-c000.snappy.parquet'], ['/cephfs/stepped_glucose_data/step0_load_daily/parquet_175/part-00000-cf713573-a441-4a1b-80ef-c6219e135785-c000.snappy.parquet'], ['/cephfs/stepped_glucose_data/step0_load_daily/parquet_145/part-00000-ce13abb3-efc1-4dc6-bcfa-66c9d6312325-c000.snappy.parquet'], ['/cephfs/stepped_glucose_data/step0_load_daily/parquet_217/part-00000-b2079e97-d8a1-43d3-aba5-b381a44d4a0f-c000.snappy.parquet'], ['/cephfs/stepped_glucose_data/step0_load_daily/parquet_10/part-00000-959cb1bc-6659-4724-a3b4-bd76b18ae2d9-c000.snappy.parquet'], ['/cephfs/stepped_glucose_data/step0_load_daily/parquet_115/part-00000-e7c76436-c8e1-43e5-b5ac-4ee1308742a5-c000.snappy.parquet'], ['/cephfs/stepped_glucose_data/step0_load_daily/parquet_35/part-00000-fd5acd3f-c0c8-4701-98c9-e82d4ecf4c09-c000.snappy.parquet'], ['/cephfs/stepped_glucose_data/step0_load_daily/parquet_80/part-00000-7681e333-5658-4fb9-94e5-69bfc5d3bb33-c000.snappy.parquet'], ['/cephfs/stepped_glucose_data/step0_load_daily/parquet_264/part-00000-5c044c9a-6dee-49d1-9760-f1ede43260d7-c000.snappy.parquet'], ['/cephfs/stepped_glucose_data/step0_load_daily/parquet_31/part-00000-31223ac1-6be1-461e-ac0b-59f0953e7d70-c000.snappy.parquet'], ['/cephfs/stepped_glucose_data/step0_load_daily/parquet_242/part-00000-be0189bd-e301-4555-9dce-cd00650a456b-c000.snappy.parquet'], ['/cephfs/stepped_glucose_data/step0_load_daily/parquet_224/part-00000-10ff410e-db4f-43a7-a2ca-edb7acaefd48-c000.snappy.parquet'], ['/cephfs/stepped_glucose_data/step0_load_daily/parquet_21/part-00000-a6fa037c-7246-4926-8900-3a2c86c3da94-c000.snappy.parquet'], ['/cephfs/stepped_glucose_data/step0_load_daily/parquet_49/part-00000-aa5a4ebd-2afd-4e4f-8799-e92ecc15ad2f-c000.snappy.parquet'], ['/cephfs/stepped_glucose_data/step0_load_daily/parquet_77/part-00000-b7f1bc84-a63b-4113-a370-15397af5e787-c000.snappy.parquet'], ['/cephfs/stepped_glucose_data/step0_load_daily/parquet_90/part-00000-64805d2b-bc70-4af1-bc77-72d1c98b42de-c000.snappy.parquet'], ['/cephfs/stepped_glucose_data/step0_load_daily/parquet_132/part-00000-8899be96-db7d-4d27-844c-4a6f3dbcf9a0-c000.snappy.parquet'], ['/cephfs/stepped_glucose_data/step0_load_daily/parquet_185/part-00000-e60b0d82-8574-48b0-8282-57f28bf2e243-c000.snappy.parquet'], ['/cephfs/stepped_glucose_data/step0_load_daily/parquet_109/part-00000-b78a3fcd-0137-4a09-9594-b17d5a93377c-c000.snappy.parquet'], ['/cephfs/stepped_glucose_data/step0_load_daily/parquet_86/part-00000-81d3337d-e10f-4fe3-a5e3-b2390fe34483-c000.snappy.parquet'], ['/cephfs/stepped_glucose_data/step0_load_daily/parquet_24/part-00000-a3ffb71e-f20a-4264-80d8-14f83f9b0f8b-c000.snappy.parquet'], ['/cephfs/stepped_glucose_data/step0_load_daily/parquet_117/part-00000-022a65d5-eaf2-4a60-a880-9db65b515f20-c000.snappy.parquet'], ['/cephfs/stepped_glucose_data/step0_load_daily/parquet_148/part-00000-b39696fa-ad72-4cb8-923e-5da34e372118-c000.snappy.parquet'], ['/cephfs/stepped_glucose_data/step0_load_daily/parquet_230/part-00000-61ace169-590d-4ae4-841a-963aa763cb63-c000.snappy.parquet'], ['/cephfs/stepped_glucose_data/step0_load_daily/parquet_182/part-00000-69b4ed6f-7598-466a-814c-1fb057b6b33f-c000.snappy.parquet'], ['/cephfs/stepped_glucose_data/step0_load_daily/parquet_116/part-00000-78eb0d3e-121c-4ddc-9147-a575261f20a1-c000.snappy.parquet'], ['/cephfs/stepped_glucose_data/step0_load_daily/parquet_83/part-00000-e208a535-5e5c-4646-85ee-6d49d7e58fb8-c000.snappy.parquet'], ['/cephfs/stepped_glucose_data/step0_load_daily/parquet_153/part-00000-a2e80aeb-be95-4ab5-af0a-40f63aab8da9-c000.snappy.parquet'], ['/cephfs/stepped_glucose_data/step0_load_daily/parquet_256/part-00000-e827b2ff-37d8-4caa-a341-e6763a6f14d6-c000.snappy.parquet'], ['/cephfs/stepped_glucose_data/step0_load_daily/parquet_177/part-00000-33ab63de-be54-43f6-8a67-80fdb09112e9-c000.snappy.parquet'], ['/cephfs/stepped_glucose_data/step0_load_daily/parquet_3/part-00000-d1107d1c-3c4a-431a-86e0-a108c5e7634d-c000.snappy.parquet'], ['/cephfs/stepped_glucose_data/step0_load_daily/parquet_15/part-00000-917bf913-5c97-455b-9aaa-f2530deaf9cc-c000.snappy.parquet'], ['/cephfs/stepped_glucose_data/step0_load_daily/parquet_98/part-00000-dda0d6d5-82c8-45fe-a905-7e877c4ad097-c000.snappy.parquet'], ['/cephfs/stepped_glucose_data/step0_load_daily/parquet_127/part-00000-af38847c-af91-4153-a470-985f66b2f3c7-c000.snappy.parquet'], ['/cephfs/stepped_glucose_data/step0_load_daily/parquet_78/part-00000-f2237b8b-1d70-47fa-a4ed-d11bc31ada20-c000.snappy.parquet'], ['/cephfs/stepped_glucose_data/step0_load_daily/parquet_212/part-00000-7100a27d-2d39-4ba6-a331-6f6373c5aec9-c000.snappy.parquet'], ['/cephfs/stepped_glucose_data/step0_load_daily/parquet_55/part-00000-798a89ea-04f2-4ac1-8cb2-d1b4db454902-c000.snappy.parquet'], ['/cephfs/stepped_glucose_data/step0_load_daily/parquet_171/part-00000-dff5be6a-3dde-40c3-ac81-3eaadb04c39d-c000.snappy.parquet'], ['/cephfs/stepped_glucose_data/step0_load_daily/parquet_48/part-00000-1e5a2c91-1312-4e29-a4fb-e05d48a5fe50-c000.snappy.parquet'], ['/cephfs/stepped_glucose_data/step0_load_daily/parquet_228/part-00000-90db456a-a4dc-4a4d-9725-50f93af37b1b-c000.snappy.parquet'], ['/cephfs/stepped_glucose_data/step0_load_daily/parquet_195/part-00000-68fa0d5f-a70a-4529-982f-f1d552435df7-c000.snappy.parquet'], ['/cephfs/stepped_glucose_data/step0_load_daily/parquet_71/part-00000-c042c37e-9731-4aee-8e73-798951f0726e-c000.snappy.parquet'], ['/cephfs/stepped_glucose_data/step0_load_daily/parquet_143/part-00000-5fa537a8-c8a5-4fd4-97e7-83840aa8749e-c000.snappy.parquet'], ['/cephfs/stepped_glucose_data/step0_load_daily/parquet_124/part-00000-8c8d6b3b-a93d-4dca-a471-434abde8950d-c000.snappy.parquet'], ['/cephfs/stepped_glucose_data/step0_load_daily/parquet_245/part-00000-8ba2631a-cabc-4913-9c20-7990fec6b7ed-c000.snappy.parquet'], ['/cephfs/stepped_glucose_data/step0_load_daily/parquet_202/part-00000-ba913617-26c5-49cb-8ae7-abe095fd2d15-c000.snappy.parquet'], ['/cephfs/stepped_glucose_data/step0_load_daily/parquet_108/part-00000-5b463591-fea7-4525-9633-1fd4a9792c50-c000.snappy.parquet'], ['/cephfs/stepped_glucose_data/step0_load_daily/parquet_192/part-00000-407d9bdc-1a1a-4ce3-a9e3-e1987521a79b-c000.snappy.parquet'], ['/cephfs/stepped_glucose_data/step0_load_daily/parquet_166/part-00000-59823d14-6cc9-46ab-920a-753a5f39bb94-c000.snappy.parquet'], ['/cephfs/stepped_glucose_data/step0_load_daily/parquet_249/part-00000-f8998154-5d77-4dc8-af52-7cce7136c4b4-c000.snappy.parquet'], ['/cephfs/stepped_glucose_data/step0_load_daily/parquet_105/part-00000-f2e5812f-e3c1-4802-bb50-085d2bec3137-c000.snappy.parquet'], ['/cephfs/stepped_glucose_data/step0_load_daily/parquet_74/part-00000-db98a8e2-fc42-4156-bb4c-2a87dd0857b9-c000.snappy.parquet'], ['/cephfs/stepped_glucose_data/step0_load_daily/parquet_61/part-00000-1f634c67-a92c-4753-ae71-62388b1aaf27-c000.snappy.parquet'], ['/cephfs/stepped_glucose_data/step0_load_daily/parquet_16/part-00000-ea8d5d67-9df7-4c65-8ce9-7d28faa73480-c000.snappy.parquet'], ['/cephfs/stepped_glucose_data/step0_load_daily/parquet_181/part-00000-a51d021f-969d-4362-8a63-adf82bbf42a8-c000.snappy.parquet'], ['/cephfs/stepped_glucose_data/step0_load_daily/parquet_139/part-00000-53cae59e-ea6c-4fe0-be35-1e2dec73c4c7-c000.snappy.parquet'], ['/cephfs/stepped_glucose_data/step0_load_daily/parquet_56/part-00000-12ebedee-4675-4fae-9217-5a3edab3efc3-c000.snappy.parquet'], ['/cephfs/stepped_glucose_data/step0_load_daily/parquet_19/part-00000-9bf4de0b-0914-4a82-804d-4ac67f47b9c5-c000.snappy.parquet'], ['/cephfs/stepped_glucose_data/step0_load_daily/parquet_87/part-00000-0fc16652-c691-4bef-81ba-d06d8da9a7ae-c000.snappy.parquet'], ['/cephfs/stepped_glucose_data/step0_load_daily/parquet_50/part-00000-b5abede6-9168-4277-b977-933a9a28e7dc-c000.snappy.parquet'], ['/cephfs/stepped_glucose_data/step0_load_daily/parquet_160/part-00000-13dfdd7e-d360-4222-8989-46438b5fa3d6-c000.snappy.parquet'], ['/cephfs/stepped_glucose_data/step0_load_daily/parquet_4/part-00000-a4a2a76b-9b8f-4906-8dcc-eefeae8b5141-c000.snappy.parquet'], ['/cephfs/stepped_glucose_data/step0_load_daily/parquet_39/part-00000-2bdde708-253a-4db7-a90d-14f290e8c241-c000.snappy.parquet'], ['/cephfs/stepped_glucose_data/step0_load_daily/parquet_85/part-00000-a9b02801-8bec-4a8d-bc47-38dacbfa95f3-c000.snappy.parquet'], ['/cephfs/stepped_glucose_data/step0_load_daily/parquet_110/part-00000-b4a26427-4092-47a5-a9d8-a8e86e367846-c000.snappy.parquet'], ['/cephfs/stepped_glucose_data/step0_load_daily/parquet_52/part-00000-a25ed86e-90e8-4008-9406-9934a9f18b30-c000.snappy.parquet'], ['/cephfs/stepped_glucose_data/step0_load_daily/parquet_168/part-00000-37546fe3-c025-4bf1-a622-e1ef42082d05-c000.snappy.parquet'], ['/cephfs/stepped_glucose_data/step0_load_daily/parquet_266/part-00000-cd233628-c854-4048-9913-e008c33cf9c7-c000.snappy.parquet'], ['/cephfs/stepped_glucose_data/step0_load_daily/parquet_241/part-00000-b2630fd4-65dd-4133-affb-e863c7fc3f7f-c000.snappy.parquet'], ['/cephfs/stepped_glucose_data/step0_load_daily/parquet_162/part-00000-eb508bd2-bb99-4f8c-a807-ef06c849f786-c000.snappy.parquet'], ['/cephfs/stepped_glucose_data/step0_load_daily/parquet_73/part-00000-8a3af72a-7a2b-4982-8ee4-9440629299cf-c000.snappy.parquet'], ['/cephfs/stepped_glucose_data/step0_load_daily/parquet_220/part-00000-f3b4a597-7642-492e-b2fe-3bef3108ff13-c000.snappy.parquet'], ['/cephfs/stepped_glucose_data/step0_load_daily/parquet_254/part-00000-01a2b378-e286-4313-b1e2-4b217686ac6f-c000.snappy.parquet'], ['/cephfs/stepped_glucose_data/step0_load_daily/parquet_244/part-00000-4b5f1581-9715-4fac-a966-0a666335fbcf-c000.snappy.parquet'], ['/cephfs/stepped_glucose_data/step0_load_daily/parquet_88/part-00000-da121137-076f-4bb3-9f79-9de0878b1ca8-c000.snappy.parquet'], ['/cephfs/stepped_glucose_data/step0_load_daily/parquet_84/part-00000-5d5fa4a9-d885-4da6-9deb-22295ede28d6-c000.snappy.parquet'], ['/cephfs/stepped_glucose_data/step0_load_daily/parquet_138/part-00000-d19912cb-1c1b-4bb0-971d-520ca9951eab-c000.snappy.parquet'], ['/cephfs/stepped_glucose_data/step0_load_daily/parquet_106/part-00000-4d6e155b-f776-419e-a68a-1a359c99d0bf-c000.snappy.parquet'], ['/cephfs/stepped_glucose_data/step0_load_daily/parquet_2/part-00000-3e6c7b86-4f88-442e-b562-7e364d98c860-c000.snappy.parquet'], [], ['/cephfs/stepped_glucose_data/step0_load_daily/parquet_158/part-00000-8002a331-8d06-4e08-b25a-98c615c03c9a-c000.snappy.parquet'], ['/cephfs/stepped_glucose_data/step0_load_daily/parquet_189/part-00000-23f31f79-3e14-47d8-9a64-ec4b57a8a641-c000.snappy.parquet'], ['/cephfs/stepped_glucose_data/step0_load_daily/parquet_26/part-00000-c389cea3-535c-49b8-9d26-9566a915f99f-c000.snappy.parquet'], ['/cephfs/stepped_glucose_data/step0_load_daily/parquet_27/part-00000-7543f5bf-92fa-47b8-aa08-01eb548ebb8f-c000.snappy.parquet'], ['/cephfs/stepped_glucose_data/step0_load_daily/parquet_151/part-00000-3d483516-0dae-42e1-a832-d85f8e49cb7d-c000.snappy.parquet'], ['/cephfs/stepped_glucose_data/step0_load_daily/parquet_30/part-00000-f0d609d5-74ef-407f-8692-d6424a4bca6b-c000.snappy.parquet'], ['/cephfs/stepped_glucose_data/step0_load_daily/parquet_190/part-00000-be4b5571-7116-41e7-8ab1-ecdd91fe2d34-c000.snappy.parquet'], ['/cephfs/stepped_glucose_data/step0_load_daily/parquet_169/part-00000-a2b8256e-cace-4326-8fe7-cdac9bbe716c-c000.snappy.parquet'], ['/cephfs/stepped_glucose_data/step0_load_daily/parquet_239/part-00000-355434e1-228e-4983-bab1-001214844611-c000.snappy.parquet'], ['/cephfs/stepped_glucose_data/step0_load_daily/parquet_223/part-00000-6105129c-31b8-4372-aa0c-58ff5d9dde76-c000.snappy.parquet'], ['/cephfs/stepped_glucose_data/step0_load_daily/parquet_133/part-00000-3a89056e-0a84-4a01-8a04-30a26066b340-c000.snappy.parquet'], ['/cephfs/stepped_glucose_data/step0_load_daily/parquet_159/part-00000-25f2cdff-5293-4a51-9bbb-2f9a68eb6fb0-c000.snappy.parquet'], ['/cephfs/stepped_glucose_data/step0_load_daily/parquet_131/part-00000-30840e38-3639-4766-b60b-b38a8e8060d1-c000.snappy.parquet'], ['/cephfs/stepped_glucose_data/step0_load_daily/parquet_72/part-00000-e874b7b3-067b-4507-b954-8a69717f5a69-c000.snappy.parquet'], ['/cephfs/stepped_glucose_data/step0_load_daily/parquet_176/part-00000-8cdd4a5d-2fa4-44b0-bb90-94481bef492d-c000.snappy.parquet'], ['/cephfs/stepped_glucose_data/step0_load_daily/parquet_199/part-00000-18db0a03-edc7-4d94-8278-26c08df1e436-c000.snappy.parquet'], ['/cephfs/stepped_glucose_data/step0_load_daily/parquet_126/part-00000-d7a47b71-a801-4d46-b2da-51e7e58e7080-c000.snappy.parquet'], ['/cephfs/stepped_glucose_data/step0_load_daily/parquet_68/part-00000-12ed1a6f-32d2-42ef-be4a-349448e89f54-c000.snappy.parquet'], ['/cephfs/stepped_glucose_data/step0_load_daily/parquet_137/part-00000-b64cc40a-cc9e-42dd-818f-3fb8f872f440-c000.snappy.parquet'], ['/cephfs/stepped_glucose_data/step0_load_daily/parquet_215/part-00000-c6bd2026-7598-4989-b60f-d28cd3fef8e9-c000.snappy.parquet'], ['/cephfs/stepped_glucose_data/step0_load_daily/parquet_180/part-00000-fa495e5a-9770-4fc8-aff6-f4507bee43bf-c000.snappy.parquet'], ['/cephfs/stepped_glucose_data/step0_load_daily/parquet_146/part-00000-b8877ff7-c9cb-434e-b293-34e5d2eae66d-c000.snappy.parquet'], ['/cephfs/stepped_glucose_data/step0_load_daily/parquet_173/part-00000-5229c1ce-4d04-4a8d-ae4f-cda71db3daee-c000.snappy.parquet'], ['/cephfs/stepped_glucose_data/step0_load_daily/parquet_255/part-00000-510f86ba-f678-43f5-84ad-043286c4c328-c000.snappy.parquet'], ['/cephfs/stepped_glucose_data/step0_load_daily/parquet_248/part-00000-eb93d831-22e4-4804-85de-adcb9ae2be07-c000.snappy.parquet'], ['/cephfs/stepped_glucose_data/step0_load_daily/parquet_23/part-00000-fc9b1b2a-48c7-47ac-aa76-f82e4fd3ea00-c000.snappy.parquet'], ['/cephfs/stepped_glucose_data/step0_load_daily/parquet_58/part-00000-e8c81ebe-605a-41e0-a436-b49d035a3216-c000.snappy.parquet'], ['/cephfs/stepped_glucose_data/step0_load_daily/parquet_136/part-00000-98f32eb1-a16d-4c7d-bbf1-838dddaef656-c000.snappy.parquet'], ['/cephfs/stepped_glucose_data/step0_load_daily/parquet_62/part-00000-dd87dc8c-2489-4a2b-93f3-e8e682a3a5f6-c000.snappy.parquet'], ['/cephfs/stepped_glucose_data/step0_load_daily/parquet_184/part-00000-c74d1e83-95f6-4ebc-ac63-24b0d10d5f8a-c000.snappy.parquet'], ['/cephfs/stepped_glucose_data/step0_load_daily/parquet_7/part-00000-32409b12-1a95-48e3-bc96-cf72550409a1-c000.snappy.parquet'], ['/cephfs/stepped_glucose_data/step0_load_daily/parquet_65/part-00000-30ac6238-2d88-4d94-9b73-8c4c329536ea-c000.snappy.parquet'], ['/cephfs/stepped_glucose_data/step0_load_daily/parquet_187/part-00000-f0cadcba-0d3d-40d0-954b-67dff5d845b4-c000.snappy.parquet'], ['/cephfs/stepped_glucose_data/step0_load_daily/parquet_252/part-00000-eab5d2ab-7e8c-493e-aa27-277c94e22edf-c000.snappy.parquet'], ['/cephfs/stepped_glucose_data/step0_load_daily/parquet_207/part-00000-c0e042e5-1f7b-4f44-9888-d4d9a3ead917-c000.snappy.parquet'], ['/cephfs/stepped_glucose_data/step0_load_daily/parquet_67/part-00000-bc9e6fc1-0853-43b6-a2b2-467737726ca8-c000.snappy.parquet'], ['/cephfs/stepped_glucose_data/step0_load_daily/parquet_123/part-00000-9762859c-0884-4e89-addc-e238392e1228-c000.snappy.parquet'], ['/cephfs/stepped_glucose_data/step0_load_daily/parquet_260/part-00000-fc2a8063-d9c9-470d-8812-a9a22b4f355f-c000.snappy.parquet'], ['/cephfs/stepped_glucose_data/step0_load_daily/parquet_81/part-00000-5990e330-9b69-46cc-b4f6-742ca0f7d0cd-c000.snappy.parquet'], ['/cephfs/stepped_glucose_data/step0_load_daily/parquet_163/part-00000-15f0a410-1ef3-4b78-b199-3d36f2caa31e-c000.snappy.parquet'], ['/cephfs/stepped_glucose_data/step0_load_daily/parquet_238/part-00000-f8cb0eb1-8c46-45cb-b9fe-55a1915d0f0d-c000.snappy.parquet'], ['/cephfs/stepped_glucose_data/step0_load_daily/parquet_112/part-00000-82c361cc-402a-4c14-9444-f63737bf5bb0-c000.snappy.parquet'], ['/cephfs/stepped_glucose_data/step0_load_daily/parquet_234/part-00000-e855b61b-3de0-4c16-84ae-5f5a449e1d44-c000.snappy.parquet'], ['/cephfs/stepped_glucose_data/step0_load_daily/parquet_205/part-00000-bf59f86d-9bf1-48b5-ad25-a5fa45caf3eb-c000.snappy.parquet'], ['/cephfs/stepped_glucose_data/step0_load_daily/parquet_95/part-00000-0f15591d-856e-45e2-ae5f-0eaaf6e2bf79-c000.snappy.parquet'], ['/cephfs/stepped_glucose_data/step0_load_daily/parquet_22/part-00000-86192eee-27cc-4eda-9596-c49c8317e4f8-c000.snappy.parquet'], ['/cephfs/stepped_glucose_data/step0_load_daily/parquet_179/part-00000-becfaf80-08b7-4882-9bcc-4350bc9ca74c-c000.snappy.parquet'], ['/cephfs/stepped_glucose_data/step0_load_daily/parquet_211/part-00000-459969ce-6660-4467-9ef9-d614e61e19c0-c000.snappy.parquet'], ['/cephfs/stepped_glucose_data/step0_load_daily/parquet_247/part-00000-70df7311-3072-421c-82f8-b7d4e3629714-c000.snappy.parquet'], ['/cephfs/stepped_glucose_data/step0_load_daily/parquet_13/part-00000-211f1499-17ad-4ee7-8699-cef35b0300e1-c000.snappy.parquet'], ['/cephfs/stepped_glucose_data/step0_load_daily/parquet_28/part-00000-d7f3a5c4-15f9-4ca5-b80a-a81627eb7ba0-c000.snappy.parquet'], ['/cephfs/stepped_glucose_data/step0_load_daily/parquet_34/part-00000-93d1a2b9-bdcc-4768-b9df-a1c02e029762-c000.snappy.parquet'], ['/cephfs/stepped_glucose_data/step0_load_daily/parquet_262/part-00000-0dc0749f-f294-412a-ab67-50d74cbd0bb7-c000.snappy.parquet'], ['/cephfs/stepped_glucose_data/step0_load_daily/parquet_150/part-00000-bce3f9cc-685f-4232-9590-2770509e8b38-c000.snappy.parquet'], ['/cephfs/stepped_glucose_data/step0_load_daily/parquet_119/part-00000-1cf06419-8527-4e56-9e65-585cf9fb7d6f-c000.snappy.parquet'], ['/cephfs/stepped_glucose_data/step0_load_daily/parquet_198/part-00000-d499aee0-bd32-4ac9-84e8-6f890c851ea5-c000.snappy.parquet'], ['/cephfs/stepped_glucose_data/step0_load_daily/parquet_232/part-00000-6271bdcb-d23e-4b34-a0d0-155408ebc946-c000.snappy.parquet'], ['/cephfs/stepped_glucose_data/step0_load_daily/parquet_130/part-00000-0ff0020f-63e7-42c7-833e-11bd0a0a79d0-c000.snappy.parquet'], ['/cephfs/stepped_glucose_data/step0_load_daily/parquet_140/part-00000-8010aed4-13f7-491a-acc0-2ced24276e9d-c000.snappy.parquet'], ['/cephfs/stepped_glucose_data/step0_load_daily/parquet_76/part-00000-948c07a9-73fa-44bd-a51c-7e689eb55c12-c000.snappy.parquet'], ['/cephfs/stepped_glucose_data/step0_load_daily/parquet_210/part-00000-48d4084f-f334-4aa8-9d10-8352a93d9206-c000.snappy.parquet'], ['/cephfs/stepped_glucose_data/step0_load_daily/parquet_20/part-00000-f92d3a98-9123-4111-9c88-f0d2dd7581ca-c000.snappy.parquet'], ['/cephfs/stepped_glucose_data/step0_load_daily/parquet_246/part-00000-a45a0671-b9b2-498b-8f10-bc86c99e4acf-c000.snappy.parquet'], ['/cephfs/stepped_glucose_data/step0_load_daily/parquet_208/part-00000-9f18d1f6-55f5-43a0-a66d-0e5cceeb6daa-c000.snappy.parquet'], ['/cephfs/stepped_glucose_data/step0_load_daily/parquet_183/part-00000-a3ab52da-93a4-4723-83ba-40be7ef2812d-c000.snappy.parquet'], ['/cephfs/stepped_glucose_data/step0_load_daily/parquet_147/part-00000-ef45f88e-27a1-42c5-a583-397dd9b25790-c000.snappy.parquet'], ['/cephfs/stepped_glucose_data/step0_load_daily/parquet_250/part-00000-900c9e2e-735c-4f7b-b3af-f821a11a6934-c000.snappy.parquet'], ['/cephfs/stepped_glucose_data/step0_load_daily/parquet_91/part-00000-ffeeb197-f1d9-4e04-b1ea-f89944321087-c000.snappy.parquet'], ['/cephfs/stepped_glucose_data/step0_load_daily/parquet_1/part-00000-b3205d4a-5e8a-46a8-814b-1b2dd035abbf-c000.snappy.parquet'], ['/cephfs/stepped_glucose_data/step0_load_daily/parquet_107/part-00000-6faf1830-94ab-4776-a15c-83f6b20bd7ad-c000.snappy.parquet'], ['/cephfs/stepped_glucose_data/step0_load_daily/parquet_63/part-00000-de65e6b5-d01e-49fc-aca7-f6b6cb7abc47-c000.snappy.parquet'], ['/cephfs/stepped_glucose_data/step0_load_daily/parquet_167/part-00000-4ccfd788-5ce6-4953-89f2-93b22f28d11e-c000.snappy.parquet'], ['/cephfs/stepped_glucose_data/step0_load_daily/parquet_156/part-00000-68cc727f-6f17-4eba-a3c8-415b6f2991a1-c000.snappy.parquet']]\n"
     ]
    }
   ],
   "source": [
    "allPaths = []\n",
    "for x in list(pathlib.Path('/cephfs/stepped_glucose_data/step0_load_daily').iterdir()):\n",
    "    allPaths.append([str(f) for f in list(x.iterdir()) if str(f).endswith('.parquet')])"
   ]
  },
  {
   "cell_type": "code",
   "execution_count": 30,
   "id": "7774efe1-f537-4898-8f7b-d514eb119701",
   "metadata": {
    "tags": []
   },
   "outputs": [
    {
     "data": {
      "text/plain": [
       "270"
      ]
     },
     "execution_count": 30,
     "metadata": {},
     "output_type": "execute_result"
    }
   ],
   "source": [
    "# get all csvs to load in\n",
    "len(allPaths)"
   ]
  },
  {
   "cell_type": "code",
   "execution_count": 33,
   "id": "12dbb31f-41df-4e29-98fc-d70f71e1c780",
   "metadata": {
    "tags": []
   },
   "outputs": [],
   "source": [
    "glucose_data_schema=StructType([StructField('PatientId', StringType(), True),\n",
    "                                StructField('GlucoseDisplayTime', TimestampType(), True),\n",
    "                                StructField('GlucoseDisplayTimeRaw', StringType(), True),\n",
    "                                StructField('Value', FloatType(), True)\n",
    "                                ])"
   ]
  },
  {
   "cell_type": "markdown",
   "id": "1f327abb-5516-4fbe-850d-ab7ea1537224",
   "metadata": {},
   "source": [
    "grab from raw csv"
   ]
  },
  {
   "cell_type": "code",
   "execution_count": 114,
   "id": "61cd1ef4-7cad-4df5-92c6-d03064bb3f99",
   "metadata": {
    "tags": []
   },
   "outputs": [],
   "source": [
    "# get all csvs to load in\n",
    "allPaths = [str(x) for x in list(pathlib.Path('/cephfs/data').glob('*.csv')) if 'glucose_records' in str(x)]\n",
    "allPaths.sort()"
   ]
  },
  {
   "cell_type": "code",
   "execution_count": 115,
   "id": "3d0ad855-2c02-4638-b2b0-5900ffa3a560",
   "metadata": {
    "tags": []
   },
   "outputs": [],
   "source": [
    "raw_schema=StructType([StructField('_c0', IntegerType(),True),\n",
    "                                StructField('PostDate', TimestampType(),True),\n",
    "                                StructField('IngestionDate', TimestampType(),True),\n",
    "                                StructField('PostId', StringType(),True),\n",
    "                                StructField('PostTime', TimestampType(), True),\n",
    "                                StructField('PatientId', StringType(), True),\n",
    "                                StructField('Stream', StringType(), True),\n",
    "                                StructField('SequenceNumber', StringType(), True),\n",
    "                                StructField('TransmitterNumber', StringType(), True),\n",
    "                                StructField('ReceiverNumber', StringType(), True),\n",
    "                                StructField('RecordedSystemTime', TimestampType(), True),\n",
    "                                StructField('RecordedDisplayTime', TimestampType(), True),\n",
    "                                StructField('RecordedDisplayTimeRaw', TimestampType(), True),\n",
    "                                StructField('TransmitterId', StringType(), True),\n",
    "                                StructField('TransmitterTime', StringType(), True),\n",
    "                                StructField('GlucoseSystemTime', TimestampType(), True),\n",
    "                                StructField('GlucoseDisplayTime', TimestampType(), True),\n",
    "                                StructField('GlucoseDisplayTimeRaw', StringType(), True),\n",
    "                                StructField('Value', FloatType(), True),\n",
    "                                StructField('Status', StringType(), True),\n",
    "                                StructField('TrendArrow', StringType(), True),\n",
    "                                StructField('TrendRate', FloatType(), True),\n",
    "                                StructField('IsBackFilled', StringType(), True),\n",
    "                                StructField('InternalStatus', StringType(), True),\n",
    "                                StructField('SessionStartTime', StringType(), True)])"
   ]
  },
  {
   "cell_type": "code",
   "execution_count": null,
   "id": "da867368-da09-482d-9fbf-124c94fc15fb",
   "metadata": {},
   "outputs": [],
   "source": []
  },
  {
   "cell_type": "code",
   "execution_count": null,
   "id": "f2b465c4-14d0-4f3d-83e6-34222384d632",
   "metadata": {},
   "outputs": [],
   "source": []
  },
  {
   "cell_type": "code",
   "execution_count": 44,
   "id": "2807bfbb-aaf0-494d-a1ba-4eccc6b45782",
   "metadata": {
    "tags": []
   },
   "outputs": [],
   "source": [
    "def add_difference_features(df):\n",
    "        my_window = Window.partitionBy('PatientId').orderBy(\"GlucoseDisplayTime\")\n",
    "        df = df.withColumn(\"prev_value\", lag(df.Value).over(my_window))\n",
    "        df = df.withColumn(\"FirstDiff\", when(isnull(df.Value - df.prev_value), 0)\n",
    "                                  .otherwise(df.Value - df.prev_value))\n",
    "\n",
    "        df = df.withColumn(\"prev_val_sec\", lag(df.FirstDiff).over(my_window))\n",
    "        df = df.withColumn(\"SecDiff\", when(isnull(df.FirstDiff - df.prev_val_sec), 0)\n",
    "                                  .otherwise(df.FirstDiff - df.prev_val_sec))\n",
    "\n",
    "        df = df.drop('prev_value', 'prev_val_sec')\n",
    "        \n",
    "        return df"
   ]
  },
  {
   "cell_type": "code",
   "execution_count": 99,
   "id": "2b4d91b9-02f8-4c4d-87a2-0209a5666a9a",
   "metadata": {
    "tags": []
   },
   "outputs": [],
   "source": [
    "cohortSchema = StructType([StructField('', IntegerType(), True),\n",
    "                        StructField('UserId', StringType(), True),\n",
    "                        StructField('Gender', StringType(), True),\n",
    "                        StructField('DOB', TimestampType(), True),\n",
    "                        StructField('Age', IntegerType(), True),\n",
    "                        StructField('DiabetesType', StringType(), True),\n",
    "                        StructField('Treatment', StringType(), True)\n",
    "                        ])"
   ]
  },
  {
   "cell_type": "code",
   "execution_count": 128,
   "id": "cbf27b11-910a-469c-ba47-4b05d1687e93",
   "metadata": {
    "tags": []
   },
   "outputs": [],
   "source": [
    "cohortDf = spark.read.options(delimiter=',')\\\n",
    "        .csv('/cephfs/data/cohort.csv', header=True, schema=cohortSchema)\\\n",
    "        .withColumnRenamed('', 'NumId')"
   ]
  },
  {
   "cell_type": "code",
   "execution_count": 129,
   "id": "02a00daf-be66-4788-848f-30b3065eb3ac",
   "metadata": {
    "tags": []
   },
   "outputs": [
    {
     "data": {
      "text/plain": [
       "[('NumId', 'int'),\n",
       " ('UserId', 'string'),\n",
       " ('Gender', 'string'),\n",
       " ('DOB', 'timestamp'),\n",
       " ('Age', 'int'),\n",
       " ('DiabetesType', 'string'),\n",
       " ('Treatment', 'string')]"
      ]
     },
     "execution_count": 129,
     "metadata": {},
     "output_type": "execute_result"
    }
   ],
   "source": [
    "cohortDf.dtypes"
   ]
  },
  {
   "cell_type": "code",
   "execution_count": 103,
   "id": "71b8386b-2161-4269-bcd5-3c7a28c8ed40",
   "metadata": {
    "tags": []
   },
   "outputs": [],
   "source": [
    "cohortDf = cohortDf.withColumnRenamed('', 'NumId')"
   ]
  },
  {
   "cell_type": "code",
   "execution_count": 104,
   "id": "ab04e97c-3adb-4766-b330-614759c82039",
   "metadata": {
    "tags": []
   },
   "outputs": [
    {
     "name": "stdout",
     "output_type": "stream",
     "text": [
      "+-----+--------------------+------+-------------------+---+------------+---------+\n",
      "|NumId|              UserId|Gender|                DOB|Age|DiabetesType|Treatment|\n",
      "+-----+--------------------+------+-------------------+---+------------+---------+\n",
      "|    0|5lZPrCk6qk8L6Jw+S...|Female|1931-01-01 00:00:00| 92|    type-two|       no|\n",
      "|    1|9qY9mZ+GV5Kd/O/NB...|  Male|1937-01-01 00:00:00| 86|    type-two|       no|\n",
      "|    2|uhsyLhr4Zl6NfGbNB...|Female|1938-01-01 00:00:00| 85|    type-two|       no|\n",
      "|    3|9uAVHBOgoCJ9hfcrL...|  Male|1938-01-01 00:00:00| 85|    type-two|       no|\n",
      "|    4|Fyb156jU1edGykL7N...|Female|1939-01-01 00:00:00| 84|    type-two|       no|\n",
      "|    5|86XfZ0fNI0VWOzWrl...|Female|1939-01-01 00:00:00| 84|    type-two|       no|\n",
      "|    6|JfJMH1qCpiYNuPOp/...|Female|1940-01-01 00:00:00| 83|    type-two|       no|\n",
      "|    7|EkW0PD80req7mL/5S...|  Male|1940-01-01 00:00:00| 83|    type-two|       no|\n",
      "|    8|OyqSKorAj1OPZaevj...|Female|1941-01-01 00:00:00| 82|    type-two|       no|\n",
      "|    9|4n03YE5Q5c2Ge1O4+...|Female|1941-01-01 00:00:00| 82|    type-two|       no|\n",
      "+-----+--------------------+------+-------------------+---+------------+---------+\n",
      "only showing top 10 rows\n",
      "\n"
     ]
    }
   ],
   "source": [
    "cohortDf.show(10)"
   ]
  },
  {
   "cell_type": "code",
   "execution_count": 125,
   "id": "63f220fb-ec3a-4369-b3ef-305e792d48d6",
   "metadata": {
    "tags": []
   },
   "outputs": [
    {
     "name": "stderr",
     "output_type": "stream",
     "text": [
      "                                                                                \r"
     ]
    },
    {
     "name": "stdout",
     "output_type": "stream",
     "text": [
      "+--------------------+-----+-------------------+---------------------+------------------+---------+-------+------+\n",
      "|           PatientId|Value| GlucoseDisplayTime|GlucoseDisplayTimeRaw|GlucoseDisplayDate|FirstDiff|SecDiff|Num_Id|\n",
      "+--------------------+-----+-------------------+---------------------+------------------+---------+-------+------+\n",
      "|++4U2++WbRmSmSRv+...|142.0|2022-01-31 17:42:33| 2022-01-31T17:42:...|        2022-01-31|      0.0|    0.0|  6452|\n",
      "|++4U2++WbRmSmSRv+...|138.0|2022-01-31 17:47:33| 2022-01-31T17:47:...|        2022-01-31|     -4.0|   -4.0|  6452|\n",
      "|++4U2++WbRmSmSRv+...|150.0|2022-01-31 17:52:32| 2022-01-31T17:52:...|        2022-01-31|     12.0|   16.0|  6452|\n",
      "|++4U2++WbRmSmSRv+...|148.0|2022-01-31 17:57:32| 2022-01-31T17:57:...|        2022-01-31|     -2.0|  -14.0|  6452|\n",
      "+--------------------+-----+-------------------+---------------------+------------------+---------+-------+------+\n",
      "only showing top 4 rows\n",
      "\n"
     ]
    },
    {
     "name": "stderr",
     "output_type": "stream",
     "text": [
      "[Stage 4858:>                                                       (0 + 1) / 1]\r"
     ]
    },
    {
     "name": "stdout",
     "output_type": "stream",
     "text": [
      "20.970186710357666\n"
     ]
    },
    {
     "name": "stderr",
     "output_type": "stream",
     "text": [
      "                                                                                \r"
     ]
    }
   ],
   "source": [
    "# load in data, select columns to save, create date column, save to parquet format\n",
    "#!rm -r /cephfs/patient_data/ \n",
    "#bc we are appending, we want to delete before we do a full run to remove duplicates\n",
    "\n",
    "startTime = time.time()\n",
    "for idx in range(len(allPaths)):\n",
    "    path = allPaths[idx]\n",
    "    \n",
    "    df = spark.read\\\n",
    "            .format('csv')\\\n",
    "            .option('delimiter', ',')\\\n",
    "            .option(\"mode\", \"DROPMALFORMED\")\\\n",
    "            .option(\"header\", True)\\\n",
    "            .schema(raw_schema)\\\n",
    "            .load(path)\\\n",
    "            .select(col(\"PatientId\"), col(\"Value\"), \\\n",
    "                    col(\"GlucoseDisplayTime\"), col(\"GlucoseDisplayTimeRaw\"))\n",
    "            \n",
    "    df = df.withColumn('GlucoseDisplayDate',\n",
    "                           to_date(col('GlucoseDisplayTime')))\n",
    "    \n",
    "    patientIds = df.select('PatientId').distinct().select(col('PatientId')).collect()\n",
    "    \n",
    "    for patIds in patientIds:\n",
    "        numId = cohortDf.filter(cohortDf.UserId == patIds.PatientId)\\\n",
    "            .first()\\\n",
    "            .NumId\n",
    "        \n",
    "        patData = df.filter(df.PatientId == patIds.PatientId)\n",
    "        #patData = add_difference_features(df)\n",
    "        patData = patData.withColumn('Num_Id', lit(numId))\n",
    "        \n",
    "        patData.show(4)\n",
    "        patData.repartition(1).write\\\n",
    "                    .mode('append')\\\n",
    "                    .parquet('/cephfs/patient_data/patient_' + str(numId)) \n",
    "        \n",
    "        break;\n",
    "        \n",
    "    break;\n",
    "\n",
    "endTime = time.time()\n",
    "print(endTime-startTime)\n",
    "\n",
    "#one parquet files == 167 sec... without saving"
   ]
  },
  {
   "cell_type": "code",
   "execution_count": null,
   "id": "c9ac1e76-246b-4ade-84ea-55c4936ca844",
   "metadata": {},
   "outputs": [],
   "source": []
  }
 ],
 "metadata": {
  "kernelspec": {
   "display_name": "glucose-venv",
   "language": "python",
   "name": "glucose-venv"
  },
  "language_info": {
   "codemirror_mode": {
    "name": "ipython",
    "version": 3
   },
   "file_extension": ".py",
   "mimetype": "text/x-python",
   "name": "python",
   "nbconvert_exporter": "python",
   "pygments_lexer": "ipython3",
   "version": "3.10.10"
  }
 },
 "nbformat": 4,
 "nbformat_minor": 5
}
