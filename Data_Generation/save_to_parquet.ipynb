{
 "cells": [
  {
   "cell_type": "markdown",
   "id": "f4fb3c61-0feb-460d-a82e-6852340326a3",
   "metadata": {},
   "source": [
    "### Save Raw Data to Filtered Parquet Files"
   ]
  },
  {
   "cell_type": "code",
   "execution_count": 6,
   "id": "161d65c5-7f92-4109-88d9-b69c782d53b7",
   "metadata": {
    "tags": []
   },
   "outputs": [],
   "source": [
    "# load in imports\n",
    "#!sudo apt-get update\n",
    "#!sudo apt-get install openjdk-8-jdk\n",
    "import pyspark\n",
    "from pyspark.sql import SparkSession\n",
    "from pyspark.sql import SQLContext\n",
    "from pyspark import SparkContext, SparkConf\n",
    "from pyspark.sql.types import StructType, StructField, \\\n",
    "StringType, IntegerType, TimestampType, DateType, FloatType\n",
    "import time\n",
    "import pathlib\n",
    "from pyspark.sql.functions import col, to_date"
   ]
  },
  {
   "cell_type": "code",
   "execution_count": 10,
   "id": "dae85672-3335-4786-adab-a164e22ac6f8",
   "metadata": {
    "tags": []
   },
   "outputs": [],
   "source": [
    "conf = pyspark.SparkConf().setAll([\\\n",
    "    ('spark.app.name', 'ReduceData')])\n",
    "spark = SparkSession.builder.config(conf=conf)\\\n",
    "    .getOrCreate()"
   ]
  },
  {
   "cell_type": "code",
   "execution_count": 21,
   "id": "78ac5177-9511-4044-a660-dda2c7950a5a",
   "metadata": {
    "tags": []
   },
   "outputs": [],
   "source": [
    "# get all csvs to load in\n",
    "allPaths = [str(x) for x in list(pathlib.Path('/cephfs/data').glob('*.csv')) if 'glucose_records' in str(x)]\n",
    "allPaths.sort()"
   ]
  },
  {
   "cell_type": "raw",
   "id": "3040a5f9-047b-4ffd-9f36-76e4eb4aa499",
   "metadata": {
    "tags": []
   },
   "source": [
    "# create date range to iterate over\n",
    "pathRange = spark.sparkContext.range(0, len(allPaths)).collect()\n",
    "pathRange.append(365) "
   ]
  },
  {
   "cell_type": "code",
   "execution_count": 23,
   "id": "148a0d65-05e6-4b08-85ce-52ee9b0aa5a5",
   "metadata": {
    "tags": []
   },
   "outputs": [
    {
     "name": "stderr",
     "output_type": "stream",
     "text": [
      "[Stage 0:=============================>                             (1 + 1) / 2]\r"
     ]
    }
   ],
   "source": [
    "glucose_data_schema=StructType([StructField('_c0', IntegerType(),True),\n",
    "                                StructField('PostDate', TimestampType(),True),\n",
    "                                StructField('IngestionDate', TimestampType(),True),\n",
    "                                StructField('PostId', StringType(),True),\n",
    "                                StructField('PostTime', TimestampType(), True),\n",
    "                                StructField('PatientId', StringType(), True),\n",
    "                                StructField('Stream', StringType(), True),\n",
    "                                StructField('SequenceNumber', StringType(), True),\n",
    "                                StructField('TransmitterNumber', StringType(), True),\n",
    "                                StructField('ReceiverNumber', StringType(), True),\n",
    "                                StructField('RecordedSystemTime', TimestampType(), True),\n",
    "                                StructField('RecordedDisplayTime', TimestampType(), True),\n",
    "                                StructField('RecordedDisplayTimeRaw', TimestampType(), True),\n",
    "                                StructField('TransmitterId', StringType(), True),\n",
    "                                StructField('TransmitterTime', StringType(), True),\n",
    "                                StructField('GlucoseSystemTime', TimestampType(), True),\n",
    "                                StructField('GlucoseDisplayTime', TimestampType(), True),\n",
    "                                StructField('GlucoseDisplayTimeRaw', StringType(), True),\n",
    "                                StructField('Value', FloatType(), True),\n",
    "                                StructField('Status', StringType(), True),\n",
    "                                StructField('TrendArrow', StringType(), True),\n",
    "                                StructField('TrendRate', FloatType(), True),\n",
    "                                StructField('IsBackFilled', StringType(), True),\n",
    "                                StructField('InternalStatus', StringType(), True),\n",
    "                                StructField('SessionStartTime', StringType(), True)])"
   ]
  },
  {
   "cell_type": "code",
   "execution_count": null,
   "id": "354924da-f40f-4cef-855a-d95fd9a68b47",
   "metadata": {
    "tags": []
   },
   "outputs": [
    {
     "name": "stderr",
     "output_type": "stream",
     "text": [
      "[Stage 548:============================>                            (4 + 2) / 8]\r"
     ]
    }
   ],
   "source": [
    "# load in data, select columns to save, create date column, save to parquet format\n",
    "prevIdx = 0\n",
    "\n",
    "startTime = time.time()\n",
    "for idx in range(len(allPaths)):\n",
    "    path = allPaths[idx]\n",
    "    \n",
    "    df = spark.read\\\n",
    "            .format('csv')\\\n",
    "            .option('delimiter', ',')\\\n",
    "            .option(\"mode\", \"DROPMALFORMED\")\\\n",
    "            .option(\"header\", True)\\\n",
    "            .schema(glucose_data_schema)\\\n",
    "            .load(path)\\\n",
    "            .select(col(\"PatientId\"), col(\"Value\"), \\\n",
    "                    col(\"GlucoseDisplayTime\"), col(\"GlucoseDisplayTimeRaw\"))\n",
    "            \n",
    "    df_toParq = df.withColumn('GlucoseDisplayDate',\n",
    "                           to_date(col('GlucoseDisplayTime')))\n",
    "    \n",
    "    df_toParq.repartition(1).write\\\n",
    "                .mode('overwrite')\\\n",
    "                .parquet('/cephfs/stepped_glucose_data/step0_load_daily/parquet_' + str(idx)) \n",
    "\n",
    "    prevIdx = idx    \n",
    "\n",
    "endTime = time.time()\n",
    "print(endTime-startTime)"
   ]
  },
  {
   "cell_type": "code",
   "execution_count": 27,
   "id": "336aa1f7-c144-48e2-a146-5bcd289e6545",
   "metadata": {
    "tags": []
   },
   "outputs": [
    {
     "data": {
      "text/plain": [
       "'/cephfs/data/glucose_records_2022-02-01.csv'"
      ]
     },
     "execution_count": 27,
     "metadata": {},
     "output_type": "execute_result"
    }
   ],
   "source": [
    "path"
   ]
  },
  {
   "cell_type": "code",
   "execution_count": 48,
   "id": "2451ba43-9464-4e6c-b978-e9c7a3aef91b",
   "metadata": {
    "tags": []
   },
   "outputs": [
    {
     "ename": "ModuleNotFoundError",
     "evalue": "No module named 'save_to_parquet'",
     "output_type": "error",
     "traceback": [
      "\u001b[0;31m---------------------------------------------------------------------------\u001b[0m",
      "\u001b[0;31mModuleNotFoundError\u001b[0m                       Traceback (most recent call last)",
      "Cell \u001b[0;32mIn[48], line 1\u001b[0m\n\u001b[0;32m----> 1\u001b[0m \u001b[38;5;28;01mfrom\u001b[39;00m \u001b[38;5;21;01msave_to_parquet\u001b[39;00m \u001b[38;5;28;01mimport\u001b[39;00m \u001b[38;5;241m*\u001b[39m\n",
      "\u001b[0;31mModuleNotFoundError\u001b[0m: No module named 'save_to_parquet'"
     ]
    }
   ],
   "source": [
    "from save_to_parquet import *"
   ]
  },
  {
   "cell_type": "code",
   "execution_count": null,
   "id": "5993f0b7-dad3-4fa5-b824-6deea4e94228",
   "metadata": {},
   "outputs": [],
   "source": []
  }
 ],
 "metadata": {
  "kernelspec": {
   "display_name": "glucose-venv",
   "language": "python",
   "name": "glucose-venv"
  },
  "language_info": {
   "codemirror_mode": {
    "name": "ipython",
    "version": 3
   },
   "file_extension": ".py",
   "mimetype": "text/x-python",
   "name": "python",
   "nbconvert_exporter": "python",
   "pygments_lexer": "ipython3",
   "version": "3.10.10"
  }
 },
 "nbformat": 4,
 "nbformat_minor": 5
}
