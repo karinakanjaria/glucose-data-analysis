{
 "cells": [
  {
   "cell_type": "code",
   "execution_count": 1,
   "id": "b32000ea-4b25-43b4-a6bc-eb93eb8fc24a",
   "metadata": {
    "collapsed": true,
    "jupyter": {
     "outputs_hidden": true
    },
    "tags": []
   },
   "outputs": [
    {
     "name": "stdout",
     "output_type": "stream",
     "text": [
      "Requirement already satisfied: numpy==1.23.5 in /opt/conda/lib/python3.10/site-packages (1.23.5)\n",
      "Requirement already satisfied: pandas==1.5.3 in /opt/conda/lib/python3.10/site-packages (1.5.3)\n",
      "Requirement already satisfied: seaborn in /opt/conda/lib/python3.10/site-packages (0.12.2)\n",
      "Requirement already satisfied: pytz>=2020.1 in /opt/conda/lib/python3.10/site-packages (from pandas==1.5.3) (2023.3)\n",
      "Requirement already satisfied: python-dateutil>=2.8.1 in /opt/conda/lib/python3.10/site-packages (from pandas==1.5.3) (2.8.2)\n",
      "Requirement already satisfied: matplotlib!=3.6.1,>=3.1 in /opt/conda/lib/python3.10/site-packages (from seaborn) (3.7.1)\n",
      "Requirement already satisfied: contourpy>=1.0.1 in /opt/conda/lib/python3.10/site-packages (from matplotlib!=3.6.1,>=3.1->seaborn) (1.0.7)\n",
      "Requirement already satisfied: pyparsing>=2.3.1 in /opt/conda/lib/python3.10/site-packages (from matplotlib!=3.6.1,>=3.1->seaborn) (3.0.9)\n",
      "Requirement already satisfied: fonttools>=4.22.0 in /opt/conda/lib/python3.10/site-packages (from matplotlib!=3.6.1,>=3.1->seaborn) (4.39.4)\n",
      "Requirement already satisfied: packaging>=20.0 in /opt/conda/lib/python3.10/site-packages (from matplotlib!=3.6.1,>=3.1->seaborn) (23.0)\n",
      "Requirement already satisfied: kiwisolver>=1.0.1 in /opt/conda/lib/python3.10/site-packages (from matplotlib!=3.6.1,>=3.1->seaborn) (1.4.4)\n",
      "Requirement already satisfied: pillow>=6.2.0 in /opt/conda/lib/python3.10/site-packages (from matplotlib!=3.6.1,>=3.1->seaborn) (9.5.0)\n",
      "Requirement already satisfied: cycler>=0.10 in /opt/conda/lib/python3.10/site-packages (from matplotlib!=3.6.1,>=3.1->seaborn) (0.11.0)\n",
      "Requirement already satisfied: six>=1.5 in /opt/conda/lib/python3.10/site-packages (from python-dateutil>=2.8.1->pandas==1.5.3) (1.16.0)\n",
      "Note: you may need to restart the kernel to use updated packages.\n",
      "Requirement already satisfied: matplotlib in /opt/conda/lib/python3.10/site-packages (3.7.1)\n",
      "Requirement already satisfied: pyparsing>=2.3.1 in /opt/conda/lib/python3.10/site-packages (from matplotlib) (3.0.9)\n",
      "Requirement already satisfied: kiwisolver>=1.0.1 in /opt/conda/lib/python3.10/site-packages (from matplotlib) (1.4.4)\n",
      "Requirement already satisfied: contourpy>=1.0.1 in /opt/conda/lib/python3.10/site-packages (from matplotlib) (1.0.7)\n",
      "Requirement already satisfied: fonttools>=4.22.0 in /opt/conda/lib/python3.10/site-packages (from matplotlib) (4.39.4)\n",
      "Requirement already satisfied: numpy>=1.20 in /opt/conda/lib/python3.10/site-packages (from matplotlib) (1.23.5)\n",
      "Requirement already satisfied: packaging>=20.0 in /opt/conda/lib/python3.10/site-packages (from matplotlib) (23.0)\n",
      "Requirement already satisfied: pillow>=6.2.0 in /opt/conda/lib/python3.10/site-packages (from matplotlib) (9.5.0)\n",
      "Requirement already satisfied: python-dateutil>=2.7 in /opt/conda/lib/python3.10/site-packages (from matplotlib) (2.8.2)\n",
      "Requirement already satisfied: cycler>=0.10 in /opt/conda/lib/python3.10/site-packages (from matplotlib) (0.11.0)\n",
      "Requirement already satisfied: six>=1.5 in /opt/conda/lib/python3.10/site-packages (from python-dateutil>=2.7->matplotlib) (1.16.0)\n",
      "Note: you may need to restart the kernel to use updated packages.\n"
     ]
    }
   ],
   "source": [
    "%pip install numpy==1.23.5 pandas==1.5.3 seaborn\n",
    "%pip install -U matplotlib"
   ]
  },
  {
   "cell_type": "code",
   "execution_count": 1,
   "id": "8c4e0a0b-c8c9-4a6a-8931-da90216b4bce",
   "metadata": {
    "tags": []
   },
   "outputs": [],
   "source": [
    "import pandas as pd\n",
    "import numpy as np\n",
    "import matplotlib.pyplot as plt\n",
    "import seaborn as sns"
   ]
  },
  {
   "cell_type": "code",
   "execution_count": 12,
   "id": "9b91cfac-f6aa-4786-9667-58ab2f7c7d35",
   "metadata": {
    "tags": []
   },
   "outputs": [],
   "source": [
    "k=3"
   ]
  },
  {
   "cell_type": "markdown",
   "id": "323e7502-7f88-458c-834d-3edd22683a07",
   "metadata": {},
   "source": [
    "# Checking how the demographic spread looks by $k$ groups\n",
    "\n",
    "for cross-val"
   ]
  },
  {
   "cell_type": "code",
   "execution_count": 13,
   "id": "ab437e44-8ab1-42ac-ac5e-d181b86b2532",
   "metadata": {
    "tags": []
   },
   "outputs": [
    {
     "data": {
      "text/html": [
       "<div>\n",
       "<style scoped>\n",
       "    .dataframe tbody tr th:only-of-type {\n",
       "        vertical-align: middle;\n",
       "    }\n",
       "\n",
       "    .dataframe tbody tr th {\n",
       "        vertical-align: top;\n",
       "    }\n",
       "\n",
       "    .dataframe thead th {\n",
       "        text-align: right;\n",
       "    }\n",
       "</style>\n",
       "<table border=\"1\" class=\"dataframe\">\n",
       "  <thead>\n",
       "    <tr style=\"text-align: right;\">\n",
       "      <th></th>\n",
       "      <th>NumId</th>\n",
       "      <th>UserId</th>\n",
       "      <th>Gender</th>\n",
       "      <th>DOB</th>\n",
       "      <th>Age</th>\n",
       "      <th>DiabetesType</th>\n",
       "      <th>Treatment</th>\n",
       "      <th>AgeBin</th>\n",
       "      <th>Zodiac</th>\n",
       "    </tr>\n",
       "  </thead>\n",
       "  <tbody>\n",
       "    <tr>\n",
       "      <th>0</th>\n",
       "      <td>0</td>\n",
       "      <td>5lZPrCk6qk8L6Jw+SU+NYDjP2u3hF6JNASttkRUi6Vc=</td>\n",
       "      <td>Female</td>\n",
       "      <td>1931-01-01</td>\n",
       "      <td>92</td>\n",
       "      <td>type-two</td>\n",
       "      <td>no</td>\n",
       "      <td>age&gt;=90</td>\n",
       "      <td>goat</td>\n",
       "    </tr>\n",
       "    <tr>\n",
       "      <th>1</th>\n",
       "      <td>1</td>\n",
       "      <td>9qY9mZ+GV5Kd/O/NB1FuD4JqCUg2etZvhhFLwGTZfbY=</td>\n",
       "      <td>Male</td>\n",
       "      <td>1937-01-01</td>\n",
       "      <td>86</td>\n",
       "      <td>type-two</td>\n",
       "      <td>no</td>\n",
       "      <td>80&lt;=age&lt;90</td>\n",
       "      <td>ox</td>\n",
       "    </tr>\n",
       "    <tr>\n",
       "      <th>2</th>\n",
       "      <td>2</td>\n",
       "      <td>uhsyLhr4Zl6NfGbNBOXBvLo6ZD9OnFVF297de5/SrfE=</td>\n",
       "      <td>Female</td>\n",
       "      <td>1938-01-01</td>\n",
       "      <td>85</td>\n",
       "      <td>type-two</td>\n",
       "      <td>no</td>\n",
       "      <td>80&lt;=age&lt;90</td>\n",
       "      <td>tiger</td>\n",
       "    </tr>\n",
       "    <tr>\n",
       "      <th>3</th>\n",
       "      <td>3</td>\n",
       "      <td>9uAVHBOgoCJ9hfcrLJvRxkwT/VpWZOFZ5iqAtRY3YH8=</td>\n",
       "      <td>Male</td>\n",
       "      <td>1938-01-01</td>\n",
       "      <td>85</td>\n",
       "      <td>type-two</td>\n",
       "      <td>no</td>\n",
       "      <td>80&lt;=age&lt;90</td>\n",
       "      <td>tiger</td>\n",
       "    </tr>\n",
       "    <tr>\n",
       "      <th>4</th>\n",
       "      <td>4</td>\n",
       "      <td>Fyb156jU1edGykL7NCQBK+uTMpT7hNkq+/H1wwG1eeE=</td>\n",
       "      <td>Female</td>\n",
       "      <td>1939-01-01</td>\n",
       "      <td>84</td>\n",
       "      <td>type-two</td>\n",
       "      <td>no</td>\n",
       "      <td>80&lt;=age&lt;90</td>\n",
       "      <td>rabbit</td>\n",
       "    </tr>\n",
       "    <tr>\n",
       "      <th>...</th>\n",
       "      <td>...</td>\n",
       "      <td>...</td>\n",
       "      <td>...</td>\n",
       "      <td>...</td>\n",
       "      <td>...</td>\n",
       "      <td>...</td>\n",
       "      <td>...</td>\n",
       "      <td>...</td>\n",
       "      <td>...</td>\n",
       "    </tr>\n",
       "    <tr>\n",
       "      <th>7995</th>\n",
       "      <td>7995</td>\n",
       "      <td>y7iPpTOpOsK0Xx8V6oNYmyrhB5XclbVy7vNRugo2YH0=</td>\n",
       "      <td>Female</td>\n",
       "      <td>1992-01-01</td>\n",
       "      <td>31</td>\n",
       "      <td>type-two</td>\n",
       "      <td>yes-long-acting</td>\n",
       "      <td>30&lt;=age&lt;40</td>\n",
       "      <td>monkey</td>\n",
       "    </tr>\n",
       "    <tr>\n",
       "      <th>7996</th>\n",
       "      <td>7996</td>\n",
       "      <td>KbLjey5zQXaIFNFgconzI5c9FJtIpzPR36YzWVICmpM=</td>\n",
       "      <td>Female</td>\n",
       "      <td>1993-01-01</td>\n",
       "      <td>30</td>\n",
       "      <td>type-two</td>\n",
       "      <td>yes-long-acting</td>\n",
       "      <td>30&lt;=age&lt;40</td>\n",
       "      <td>rooster</td>\n",
       "    </tr>\n",
       "    <tr>\n",
       "      <th>7997</th>\n",
       "      <td>7997</td>\n",
       "      <td>JKatRtvvKlFbWRE7ewo4vaFM8c2HST13KhVKOZ7oz9U=</td>\n",
       "      <td>Female</td>\n",
       "      <td>1993-01-01</td>\n",
       "      <td>30</td>\n",
       "      <td>type-two</td>\n",
       "      <td>yes-long-acting</td>\n",
       "      <td>30&lt;=age&lt;40</td>\n",
       "      <td>rooster</td>\n",
       "    </tr>\n",
       "    <tr>\n",
       "      <th>7998</th>\n",
       "      <td>7998</td>\n",
       "      <td>saW1uk+rYwjh90Jv26OS65cgJsY6LXs90C4tt0oGXWQ=</td>\n",
       "      <td>Female</td>\n",
       "      <td>1993-01-01</td>\n",
       "      <td>30</td>\n",
       "      <td>type-two</td>\n",
       "      <td>yes-long-acting</td>\n",
       "      <td>30&lt;=age&lt;40</td>\n",
       "      <td>rooster</td>\n",
       "    </tr>\n",
       "    <tr>\n",
       "      <th>7999</th>\n",
       "      <td>7999</td>\n",
       "      <td>FPH3VltQBOik/k3P2VxqbQR7o4NBivg8753seWF9bEY=</td>\n",
       "      <td>Female</td>\n",
       "      <td>1993-01-01</td>\n",
       "      <td>30</td>\n",
       "      <td>type-two</td>\n",
       "      <td>yes-long-acting</td>\n",
       "      <td>30&lt;=age&lt;40</td>\n",
       "      <td>rooster</td>\n",
       "    </tr>\n",
       "  </tbody>\n",
       "</table>\n",
       "<p>8000 rows × 9 columns</p>\n",
       "</div>"
      ],
      "text/plain": [
       "      NumId                                        UserId  Gender         DOB  \\\n",
       "0         0  5lZPrCk6qk8L6Jw+SU+NYDjP2u3hF6JNASttkRUi6Vc=  Female  1931-01-01   \n",
       "1         1  9qY9mZ+GV5Kd/O/NB1FuD4JqCUg2etZvhhFLwGTZfbY=    Male  1937-01-01   \n",
       "2         2  uhsyLhr4Zl6NfGbNBOXBvLo6ZD9OnFVF297de5/SrfE=  Female  1938-01-01   \n",
       "3         3  9uAVHBOgoCJ9hfcrLJvRxkwT/VpWZOFZ5iqAtRY3YH8=    Male  1938-01-01   \n",
       "4         4  Fyb156jU1edGykL7NCQBK+uTMpT7hNkq+/H1wwG1eeE=  Female  1939-01-01   \n",
       "...     ...                                           ...     ...         ...   \n",
       "7995   7995  y7iPpTOpOsK0Xx8V6oNYmyrhB5XclbVy7vNRugo2YH0=  Female  1992-01-01   \n",
       "7996   7996  KbLjey5zQXaIFNFgconzI5c9FJtIpzPR36YzWVICmpM=  Female  1993-01-01   \n",
       "7997   7997  JKatRtvvKlFbWRE7ewo4vaFM8c2HST13KhVKOZ7oz9U=  Female  1993-01-01   \n",
       "7998   7998  saW1uk+rYwjh90Jv26OS65cgJsY6LXs90C4tt0oGXWQ=  Female  1993-01-01   \n",
       "7999   7999  FPH3VltQBOik/k3P2VxqbQR7o4NBivg8753seWF9bEY=  Female  1993-01-01   \n",
       "\n",
       "      Age DiabetesType        Treatment      AgeBin   Zodiac  \n",
       "0      92     type-two               no     age>=90     goat  \n",
       "1      86     type-two               no  80<=age<90       ox  \n",
       "2      85     type-two               no  80<=age<90    tiger  \n",
       "3      85     type-two               no  80<=age<90    tiger  \n",
       "4      84     type-two               no  80<=age<90   rabbit  \n",
       "...   ...          ...              ...         ...      ...  \n",
       "7995   31     type-two  yes-long-acting  30<=age<40   monkey  \n",
       "7996   30     type-two  yes-long-acting  30<=age<40  rooster  \n",
       "7997   30     type-two  yes-long-acting  30<=age<40  rooster  \n",
       "7998   30     type-two  yes-long-acting  30<=age<40  rooster  \n",
       "7999   30     type-two  yes-long-acting  30<=age<40  rooster  \n",
       "\n",
       "[8000 rows x 9 columns]"
      ]
     },
     "execution_count": 13,
     "metadata": {},
     "output_type": "execute_result"
    }
   ],
   "source": [
    "cohort = pd.read_csv(\"/cephfs/cleanedData/cohort.csv\")\n",
    "cohort"
   ]
  },
  {
   "cell_type": "code",
   "execution_count": 14,
   "id": "46ee6874-d947-4683-b740-8612bdb771b2",
   "metadata": {
    "tags": []
   },
   "outputs": [
    {
     "data": {
      "text/plain": [
       "2666"
      ]
     },
     "execution_count": 14,
     "metadata": {},
     "output_type": "execute_result"
    }
   ],
   "source": [
    "k_lengths = int(len(cohort['NumId'].unique())/k)\n",
    "k_lengths"
   ]
  },
  {
   "cell_type": "code",
   "execution_count": 15,
   "id": "4d32a53a-ad3e-4e80-bf2b-560842881d05",
   "metadata": {
    "tags": []
   },
   "outputs": [
    {
     "name": "stdout",
     "output_type": "stream",
     "text": [
      "0 to 2666\n",
      "2666 to 5332\n"
     ]
    },
    {
     "data": {
      "text/html": [
       "<div>\n",
       "<style scoped>\n",
       "    .dataframe tbody tr th:only-of-type {\n",
       "        vertical-align: middle;\n",
       "    }\n",
       "\n",
       "    .dataframe tbody tr th {\n",
       "        vertical-align: top;\n",
       "    }\n",
       "\n",
       "    .dataframe thead th {\n",
       "        text-align: right;\n",
       "    }\n",
       "</style>\n",
       "<table border=\"1\" class=\"dataframe\">\n",
       "  <thead>\n",
       "    <tr style=\"text-align: right;\">\n",
       "      <th></th>\n",
       "      <th>NumId</th>\n",
       "      <th>UserId</th>\n",
       "      <th>Gender</th>\n",
       "      <th>DOB</th>\n",
       "      <th>Age</th>\n",
       "      <th>DiabetesType</th>\n",
       "      <th>Treatment</th>\n",
       "      <th>AgeBin</th>\n",
       "      <th>Zodiac</th>\n",
       "      <th>foldCol</th>\n",
       "    </tr>\n",
       "  </thead>\n",
       "  <tbody>\n",
       "    <tr>\n",
       "      <th>0</th>\n",
       "      <td>0</td>\n",
       "      <td>5lZPrCk6qk8L6Jw+SU+NYDjP2u3hF6JNASttkRUi6Vc=</td>\n",
       "      <td>Female</td>\n",
       "      <td>1931-01-01</td>\n",
       "      <td>92</td>\n",
       "      <td>type-two</td>\n",
       "      <td>no</td>\n",
       "      <td>age&gt;=90</td>\n",
       "      <td>goat</td>\n",
       "      <td>0</td>\n",
       "    </tr>\n",
       "    <tr>\n",
       "      <th>1</th>\n",
       "      <td>1</td>\n",
       "      <td>9qY9mZ+GV5Kd/O/NB1FuD4JqCUg2etZvhhFLwGTZfbY=</td>\n",
       "      <td>Male</td>\n",
       "      <td>1937-01-01</td>\n",
       "      <td>86</td>\n",
       "      <td>type-two</td>\n",
       "      <td>no</td>\n",
       "      <td>80&lt;=age&lt;90</td>\n",
       "      <td>ox</td>\n",
       "      <td>1</td>\n",
       "    </tr>\n",
       "    <tr>\n",
       "      <th>2</th>\n",
       "      <td>2</td>\n",
       "      <td>uhsyLhr4Zl6NfGbNBOXBvLo6ZD9OnFVF297de5/SrfE=</td>\n",
       "      <td>Female</td>\n",
       "      <td>1938-01-01</td>\n",
       "      <td>85</td>\n",
       "      <td>type-two</td>\n",
       "      <td>no</td>\n",
       "      <td>80&lt;=age&lt;90</td>\n",
       "      <td>tiger</td>\n",
       "      <td>2</td>\n",
       "    </tr>\n",
       "    <tr>\n",
       "      <th>3</th>\n",
       "      <td>3</td>\n",
       "      <td>9uAVHBOgoCJ9hfcrLJvRxkwT/VpWZOFZ5iqAtRY3YH8=</td>\n",
       "      <td>Male</td>\n",
       "      <td>1938-01-01</td>\n",
       "      <td>85</td>\n",
       "      <td>type-two</td>\n",
       "      <td>no</td>\n",
       "      <td>80&lt;=age&lt;90</td>\n",
       "      <td>tiger</td>\n",
       "      <td>0</td>\n",
       "    </tr>\n",
       "    <tr>\n",
       "      <th>4</th>\n",
       "      <td>4</td>\n",
       "      <td>Fyb156jU1edGykL7NCQBK+uTMpT7hNkq+/H1wwG1eeE=</td>\n",
       "      <td>Female</td>\n",
       "      <td>1939-01-01</td>\n",
       "      <td>84</td>\n",
       "      <td>type-two</td>\n",
       "      <td>no</td>\n",
       "      <td>80&lt;=age&lt;90</td>\n",
       "      <td>rabbit</td>\n",
       "      <td>1</td>\n",
       "    </tr>\n",
       "    <tr>\n",
       "      <th>...</th>\n",
       "      <td>...</td>\n",
       "      <td>...</td>\n",
       "      <td>...</td>\n",
       "      <td>...</td>\n",
       "      <td>...</td>\n",
       "      <td>...</td>\n",
       "      <td>...</td>\n",
       "      <td>...</td>\n",
       "      <td>...</td>\n",
       "      <td>...</td>\n",
       "    </tr>\n",
       "    <tr>\n",
       "      <th>7995</th>\n",
       "      <td>7995</td>\n",
       "      <td>y7iPpTOpOsK0Xx8V6oNYmyrhB5XclbVy7vNRugo2YH0=</td>\n",
       "      <td>Female</td>\n",
       "      <td>1992-01-01</td>\n",
       "      <td>31</td>\n",
       "      <td>type-two</td>\n",
       "      <td>yes-long-acting</td>\n",
       "      <td>30&lt;=age&lt;40</td>\n",
       "      <td>monkey</td>\n",
       "      <td>0</td>\n",
       "    </tr>\n",
       "    <tr>\n",
       "      <th>7996</th>\n",
       "      <td>7996</td>\n",
       "      <td>KbLjey5zQXaIFNFgconzI5c9FJtIpzPR36YzWVICmpM=</td>\n",
       "      <td>Female</td>\n",
       "      <td>1993-01-01</td>\n",
       "      <td>30</td>\n",
       "      <td>type-two</td>\n",
       "      <td>yes-long-acting</td>\n",
       "      <td>30&lt;=age&lt;40</td>\n",
       "      <td>rooster</td>\n",
       "      <td>1</td>\n",
       "    </tr>\n",
       "    <tr>\n",
       "      <th>7997</th>\n",
       "      <td>7997</td>\n",
       "      <td>JKatRtvvKlFbWRE7ewo4vaFM8c2HST13KhVKOZ7oz9U=</td>\n",
       "      <td>Female</td>\n",
       "      <td>1993-01-01</td>\n",
       "      <td>30</td>\n",
       "      <td>type-two</td>\n",
       "      <td>yes-long-acting</td>\n",
       "      <td>30&lt;=age&lt;40</td>\n",
       "      <td>rooster</td>\n",
       "      <td>2</td>\n",
       "    </tr>\n",
       "    <tr>\n",
       "      <th>7998</th>\n",
       "      <td>7998</td>\n",
       "      <td>saW1uk+rYwjh90Jv26OS65cgJsY6LXs90C4tt0oGXWQ=</td>\n",
       "      <td>Female</td>\n",
       "      <td>1993-01-01</td>\n",
       "      <td>30</td>\n",
       "      <td>type-two</td>\n",
       "      <td>yes-long-acting</td>\n",
       "      <td>30&lt;=age&lt;40</td>\n",
       "      <td>rooster</td>\n",
       "      <td>0</td>\n",
       "    </tr>\n",
       "    <tr>\n",
       "      <th>7999</th>\n",
       "      <td>7999</td>\n",
       "      <td>FPH3VltQBOik/k3P2VxqbQR7o4NBivg8753seWF9bEY=</td>\n",
       "      <td>Female</td>\n",
       "      <td>1993-01-01</td>\n",
       "      <td>30</td>\n",
       "      <td>type-two</td>\n",
       "      <td>yes-long-acting</td>\n",
       "      <td>30&lt;=age&lt;40</td>\n",
       "      <td>rooster</td>\n",
       "      <td>1</td>\n",
       "    </tr>\n",
       "  </tbody>\n",
       "</table>\n",
       "<p>8000 rows × 10 columns</p>\n",
       "</div>"
      ],
      "text/plain": [
       "      NumId                                        UserId  Gender         DOB  \\\n",
       "0         0  5lZPrCk6qk8L6Jw+SU+NYDjP2u3hF6JNASttkRUi6Vc=  Female  1931-01-01   \n",
       "1         1  9qY9mZ+GV5Kd/O/NB1FuD4JqCUg2etZvhhFLwGTZfbY=    Male  1937-01-01   \n",
       "2         2  uhsyLhr4Zl6NfGbNBOXBvLo6ZD9OnFVF297de5/SrfE=  Female  1938-01-01   \n",
       "3         3  9uAVHBOgoCJ9hfcrLJvRxkwT/VpWZOFZ5iqAtRY3YH8=    Male  1938-01-01   \n",
       "4         4  Fyb156jU1edGykL7NCQBK+uTMpT7hNkq+/H1wwG1eeE=  Female  1939-01-01   \n",
       "...     ...                                           ...     ...         ...   \n",
       "7995   7995  y7iPpTOpOsK0Xx8V6oNYmyrhB5XclbVy7vNRugo2YH0=  Female  1992-01-01   \n",
       "7996   7996  KbLjey5zQXaIFNFgconzI5c9FJtIpzPR36YzWVICmpM=  Female  1993-01-01   \n",
       "7997   7997  JKatRtvvKlFbWRE7ewo4vaFM8c2HST13KhVKOZ7oz9U=  Female  1993-01-01   \n",
       "7998   7998  saW1uk+rYwjh90Jv26OS65cgJsY6LXs90C4tt0oGXWQ=  Female  1993-01-01   \n",
       "7999   7999  FPH3VltQBOik/k3P2VxqbQR7o4NBivg8753seWF9bEY=  Female  1993-01-01   \n",
       "\n",
       "      Age DiabetesType        Treatment      AgeBin   Zodiac  foldCol  \n",
       "0      92     type-two               no     age>=90     goat        0  \n",
       "1      86     type-two               no  80<=age<90       ox        1  \n",
       "2      85     type-two               no  80<=age<90    tiger        2  \n",
       "3      85     type-two               no  80<=age<90    tiger        0  \n",
       "4      84     type-two               no  80<=age<90   rabbit        1  \n",
       "...   ...          ...              ...         ...      ...      ...  \n",
       "7995   31     type-two  yes-long-acting  30<=age<40   monkey        0  \n",
       "7996   30     type-two  yes-long-acting  30<=age<40  rooster        1  \n",
       "7997   30     type-two  yes-long-acting  30<=age<40  rooster        2  \n",
       "7998   30     type-two  yes-long-acting  30<=age<40  rooster        0  \n",
       "7999   30     type-two  yes-long-acting  30<=age<40  rooster        1  \n",
       "\n",
       "[8000 rows x 10 columns]"
      ]
     },
     "execution_count": 15,
     "metadata": {},
     "output_type": "execute_result"
    }
   ],
   "source": [
    "cohort['foldCol'] = k-1\n",
    "for i in range(0,k-1):\n",
    "    print(k_lengths*i, \"to\", k_lengths*(i+1))\n",
    "    # cohort.loc[(cohort['NumId'] >= k_lengths*i) & (cohort['NumId'] < k_lengths*(i+1)), 'foldCol'] = i\n",
    "    cohort['foldCol'] = cohort['NumId'] % k\n",
    "cohort"
   ]
  },
  {
   "cell_type": "code",
   "execution_count": 16,
   "id": "615ef3a2-dfa4-4e14-90c7-14321e9a5ef0",
   "metadata": {
    "tags": []
   },
   "outputs": [
    {
     "data": {
      "image/png": "[encoded data removed]",
      "text/plain": [
       "<Figure size 640x480 with 1 Axes>"
      ]
     },
     "metadata": {},
     "output_type": "display_data"
    }
   ],
   "source": [
    "# cols = ['Gender','Treatment','AgeBin']\n",
    "sns.histplot(cohort, x='Gender', hue='foldCol', palette='viridis')\n",
    "plt.show()"
   ]
  },
  {
   "cell_type": "code",
   "execution_count": 17,
   "id": "b3ae1cfd-594f-4187-9028-3145c4b30e93",
   "metadata": {
    "tags": []
   },
   "outputs": [
    {
     "data": {
      "image/png": "[encoded data removed]",
      "text/plain": [
       "<Figure size 640x480 with 1 Axes>"
      ]
     },
     "metadata": {},
     "output_type": "display_data"
    }
   ],
   "source": [
    "sns.histplot(cohort, x='Treatment', hue='foldCol', palette='viridis')\n",
    "plt.show()"
   ]
  },
  {
   "cell_type": "code",
   "execution_count": 18,
   "id": "6c7eaecc-8427-4be7-9deb-ce674926d84e",
   "metadata": {
    "tags": []
   },
   "outputs": [
    {
     "data": {
      "image/png": "[encoded data removed]",
      "text/plain": [
       "<Figure size 640x480 with 1 Axes>"
      ]
     },
     "metadata": {},
     "output_type": "display_data"
    }
   ],
   "source": [
    "sns.histplot(cohort, x='AgeBin', hue='foldCol', palette='viridis')\n",
    "plt.show()"
   ]
  },
  {
   "cell_type": "code",
   "execution_count": 19,
   "id": "6c138dcb-ac22-43c3-9796-2fa781dd6e12",
   "metadata": {
    "tags": []
   },
   "outputs": [
    {
     "data": {
      "image/png": "[encoded data removed]",
      "text/plain": [
       "<Figure size 640x480 with 1 Axes>"
      ]
     },
     "metadata": {},
     "output_type": "display_data"
    }
   ],
   "source": [
    "sns.histplot(cohort, x='Zodiac', hue='foldCol', palette='viridis')\n",
    "plt.show()"
   ]
  },
  {
   "cell_type": "markdown",
   "id": "5e9b7308-7f18-431f-a367-5a23ca66255f",
   "metadata": {},
   "source": [
    "# Testing the code in spark"
   ]
  },
  {
   "cell_type": "code",
   "execution_count": 4,
   "id": "37988621-d51f-46c0-a41b-a1c7332b22d4",
   "metadata": {
    "tags": []
   },
   "outputs": [],
   "source": [
    "cohortSchema = StructType([StructField('NumId', IntegerType(), True),\n",
    "                        StructField('UserId', StringType(), True),\n",
    "                        StructField('Gender', StringType(), True),\n",
    "                        StructField('DOB', TimestampType(), True),\n",
    "                        StructField('Age', IntegerType(), True),\n",
    "                        StructField('DiabetesType', StringType(), True),\n",
    "                        StructField('Treatment', StringType(), True),\n",
    "                        StructField('AgeBin', StringType(), True),\n",
    "                        StructField('Zodiac', StringType(), True)\n",
    "                        ])"
   ]
  },
  {
   "cell_type": "code",
   "execution_count": 5,
   "id": "6c3aaff7-0033-4cd5-ac07-86364727d334",
   "metadata": {
    "tags": []
   },
   "outputs": [
    {
     "name": "stdout",
     "output_type": "stream",
     "text": [
      "[('NumId', 'int'), ('UserId', 'string'), ('Gender', 'string'), ('DOB', 'timestamp'), ('Age', 'int'), ('DiabetesType', 'string'), ('Treatment', 'string'), ('AgeBin', 'string'), ('Zodiac', 'string')]\n",
      "+-----+--------------------+------+-------------------+---+------------+---------+----------+------+\n",
      "|NumId|              UserId|Gender|                DOB|Age|DiabetesType|Treatment|    AgeBin|Zodiac|\n",
      "+-----+--------------------+------+-------------------+---+------------+---------+----------+------+\n",
      "|    0|5lZPrCk6qk8L6Jw+S...|Female|1931-01-01 00:00:00| 92|    type-two|       no|   age>=90|  goat|\n",
      "|    1|9qY9mZ+GV5Kd/O/NB...|  Male|1937-01-01 00:00:00| 86|    type-two|       no|80<=age<90|    ox|\n",
      "|    2|uhsyLhr4Zl6NfGbNB...|Female|1938-01-01 00:00:00| 85|    type-two|       no|80<=age<90| tiger|\n",
      "|    3|9uAVHBOgoCJ9hfcrL...|  Male|1938-01-01 00:00:00| 85|    type-two|       no|80<=age<90| tiger|\n",
      "|    4|Fyb156jU1edGykL7N...|Female|1939-01-01 00:00:00| 84|    type-two|       no|80<=age<90|rabbit|\n",
      "|    5|86XfZ0fNI0VWOzWrl...|Female|1939-01-01 00:00:00| 84|    type-two|       no|80<=age<90|rabbit|\n",
      "|    6|JfJMH1qCpiYNuPOp/...|Female|1940-01-01 00:00:00| 83|    type-two|       no|80<=age<90|dragon|\n",
      "|    7|EkW0PD80req7mL/5S...|  Male|1940-01-01 00:00:00| 83|    type-two|       no|80<=age<90|dragon|\n",
      "|    8|OyqSKorAj1OPZaevj...|Female|1941-01-01 00:00:00| 82|    type-two|       no|80<=age<90| snake|\n",
      "|    9|4n03YE5Q5c2Ge1O4+...|Female|1941-01-01 00:00:00| 82|    type-two|       no|80<=age<90| snake|\n",
      "+-----+--------------------+------+-------------------+---+------------+---------+----------+------+\n",
      "only showing top 10 rows\n",
      "\n",
      "5.732265472412109\n"
     ]
    },
    {
     "name": "stderr",
     "output_type": "stream",
     "text": [
      "                                                                                \r"
     ]
    }
   ],
   "source": [
    "# read in cohort dataframe, with Number ID properly labeled\n",
    "startTime = time.time()\n",
    "\n",
    "df = spark.read.options(delimiter=',')\\\n",
    "        .csv('/cephfs/cleanedData/cohort.csv', header=True, schema=cohortSchema)\\\n",
    "        .withColumnRenamed('', 'NumId')\n",
    "\n",
    "print(df.dtypes)\n",
    "df.show(10)\n",
    "\n",
    "# make mini dataframe of the string IDs and number IDs\n",
    "patientIds = df.select(col('UserId'), col('NumId')).distinct()\n",
    "\n",
    "print(time.time() - startTime)"
   ]
  },
  {
   "cell_type": "code",
   "execution_count": 6,
   "id": "d8e53f39-3251-472a-ab0a-53026a8be2cb",
   "metadata": {
    "tags": []
   },
   "outputs": [
    {
     "data": {
      "text/plain": [
       "8000"
      ]
     },
     "execution_count": 6,
     "metadata": {},
     "output_type": "execute_result"
    }
   ],
   "source": [
    "patIds = [i.NumId for i in df.select('NumId').distinct().collect()]\n",
    "len(patIds)"
   ]
  },
  {
   "cell_type": "code",
   "execution_count": 8,
   "id": "0b08d919-0791-48bb-b1c0-6804520de1d8",
   "metadata": {
    "tags": []
   },
   "outputs": [
    {
     "name": "stdout",
     "output_type": "stream",
     "text": [
      "+-----+--------------------+------+-------------------+---+------------+---------+----------+------+-------+\n",
      "|NumId|              UserId|Gender|                DOB|Age|DiabetesType|Treatment|    AgeBin|Zodiac|foldCol|\n",
      "+-----+--------------------+------+-------------------+---+------------+---------+----------+------+-------+\n",
      "|    0|5lZPrCk6qk8L6Jw+S...|Female|1931-01-01 00:00:00| 92|    type-two|       no|   age>=90|  goat|      0|\n",
      "|    1|9qY9mZ+GV5Kd/O/NB...|  Male|1937-01-01 00:00:00| 86|    type-two|       no|80<=age<90|    ox|      1|\n",
      "|    2|uhsyLhr4Zl6NfGbNB...|Female|1938-01-01 00:00:00| 85|    type-two|       no|80<=age<90| tiger|      2|\n",
      "|    3|9uAVHBOgoCJ9hfcrL...|  Male|1938-01-01 00:00:00| 85|    type-two|       no|80<=age<90| tiger|      3|\n",
      "|    4|Fyb156jU1edGykL7N...|Female|1939-01-01 00:00:00| 84|    type-two|       no|80<=age<90|rabbit|      0|\n",
      "|    5|86XfZ0fNI0VWOzWrl...|Female|1939-01-01 00:00:00| 84|    type-two|       no|80<=age<90|rabbit|      1|\n",
      "|    6|JfJMH1qCpiYNuPOp/...|Female|1940-01-01 00:00:00| 83|    type-two|       no|80<=age<90|dragon|      2|\n",
      "|    7|EkW0PD80req7mL/5S...|  Male|1940-01-01 00:00:00| 83|    type-two|       no|80<=age<90|dragon|      3|\n",
      "|    8|OyqSKorAj1OPZaevj...|Female|1941-01-01 00:00:00| 82|    type-two|       no|80<=age<90| snake|      0|\n",
      "|    9|4n03YE5Q5c2Ge1O4+...|Female|1941-01-01 00:00:00| 82|    type-two|       no|80<=age<90| snake|      1|\n",
      "|   10|uAMPYMNKPbpZUYFRa...|  Male|1941-01-01 00:00:00| 82|    type-two|       no|80<=age<90| snake|      2|\n",
      "|   11|HN0cXF7eu32av2B7t...|  Male|1941-01-01 00:00:00| 82|    type-two|       no|80<=age<90| snake|      3|\n",
      "|   12|aTY0dn2ojwufciqoT...|  Male|1942-01-01 00:00:00| 81|    type-two|       no|80<=age<90| horse|      0|\n",
      "|   13|OMfjTKNcJTpWf6lvz...|  Male|1942-01-01 00:00:00| 81|    type-two|       no|80<=age<90| horse|      1|\n",
      "|   14|Vns5tiWlfPr9ZAOIr...|Female|1942-01-01 00:00:00| 81|    type-two|       no|80<=age<90| horse|      2|\n",
      "|   15|3yR+rNyx89hQ6BVD7...|Female|1942-01-01 00:00:00| 81|    type-two|       no|80<=age<90| horse|      3|\n",
      "|   16|A0gx8UZPDrWZex0XH...|  Male|1942-01-01 00:00:00| 81|    type-two|       no|80<=age<90| horse|      0|\n",
      "|   17|DPjfSVNYKu8gy19Pt...|Female|1942-01-01 00:00:00| 81|    type-two|       no|80<=age<90| horse|      1|\n",
      "|   18|RCBM42DpSLdBF0MJx...|Female|1943-01-01 00:00:00| 80|    type-two|       no|80<=age<90|  goat|      2|\n",
      "|   19|If2/F4Z1JF1rPy3v+...|Female|1944-01-01 00:00:00| 79|    type-two|       no|70<=age<80|monkey|      3|\n",
      "+-----+--------------------+------+-------------------+---+------------+---------+----------+------+-------+\n",
      "only showing top 20 rows\n",
      "\n"
     ]
    }
   ],
   "source": [
    "k_lengths = int(len(patIds)/k)\n",
    "df = df.withColumn(\"foldCol\", df.NumId%k)\n",
    "df.show()"
   ]
  }
 ],
 "metadata": {
  "kernelspec": {
   "display_name": "Python 3 (ipykernel)",
   "language": "python",
   "name": "python3"
  },
  "language_info": {
   "codemirror_mode": {
    "name": "ipython",
    "version": 3
   },
   "file_extension": ".py",
   "mimetype": "text/x-python",
   "name": "python",
   "nbconvert_exporter": "python",
   "pygments_lexer": "ipython3",
   "version": "3.10.10"
  }
 },
 "nbformat": 4,
 "nbformat_minor": 5
}
