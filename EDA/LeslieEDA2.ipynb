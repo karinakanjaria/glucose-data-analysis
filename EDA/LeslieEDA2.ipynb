{
 "cells": [
  {
   "cell_type": "code",
   "execution_count": null,
   "id": "63ad8865-6035-4c49-923b-6f78dd3b8dda",
   "metadata": {},
   "outputs": [],
   "source": [
    "%pip install numpy==1.23.5 pandas==1.5.3\n",
    "# %pip install -U matplotlib==3.6.3"
   ]
  },
  {
   "cell_type": "code",
   "execution_count": 1,
   "id": "aa72c6b8-7f21-4614-8509-6761376f026a",
   "metadata": {},
   "outputs": [],
   "source": [
    "import pandas as pd\n",
    "import numpy as np\n",
    "import matplotlib.pyplot as plt"
   ]
  },
  {
   "cell_type": "markdown",
   "id": "dd0b2ffc-93c1-4178-a6cc-0635c4c159d2",
   "metadata": {
    "jp-MarkdownHeadingCollapsed": true,
    "tags": []
   },
   "source": [
    "# attempting spark"
   ]
  },
  {
   "cell_type": "code",
   "execution_count": null,
   "id": "715ea2b2-ab41-4665-9772-8533c7bd5264",
   "metadata": {},
   "outputs": [],
   "source": [
    "# %pip install pyspark==3.3.1"
   ]
  },
  {
   "cell_type": "markdown",
   "id": "92be4bea-f6fc-48c9-b2ca-d01079743942",
   "metadata": {
    "tags": []
   },
   "source": [
    "# just 1 csv in pandas"
   ]
  },
  {
   "cell_type": "markdown",
   "id": "649ed7e7-9e80-4e4c-8085-6410f9c2bb77",
   "metadata": {
    "tags": []
   },
   "source": [
    "### just the very first day"
   ]
  },
  {
   "cell_type": "code",
   "execution_count": 6,
   "id": "73291bd5-fb32-4694-8a2c-1f3760d3a042",
   "metadata": {},
   "outputs": [
    {
     "name": "stdout",
     "output_type": "stream",
     "text": [
      "CPU times: user 3 µs, sys: 1 µs, total: 4 µs\n",
      "Wall time: 6.91 µs\n",
      "0 rows with missing patient ID or timestamp have been removed\n"
     ]
    }
   ],
   "source": [
    "'''bonus step: dropping any rows where the PatientId or timestamp is missing'''\n",
    "initRows = day1.shape[0]\n",
    "day1 = day1.dropna(subset=['PatientId','GlucoseDisplayTime'], how='any')\n",
    "print(initRows - day1.shape[0], \"rows with missing patient ID or timestamp have been removed\")"
   ]
  },
  {
   "cell_type": "markdown",
   "id": "ed5d9748-5819-4042-9ef3-616c7cbe2e62",
   "metadata": {},
   "source": [
    "next is to change PatientIDs to ints. this is for saving memory space and for our own sanity.\n",
    "\n",
    "#### read in the cohort data"
   ]
  },
  {
   "cell_type": "code",
   "execution_count": null,
   "id": "244c3f3e-e662-4481-9202-50832fb53a64",
   "metadata": {},
   "outputs": [],
   "source": [
    "'''the index col wasn't removed before saving this csv, so repurpose it to the int ID column'''\n",
    "cohort = pd.read_csv(\"../../cephfs/data/cohort.csv\")\n",
    "cohort = cohort.rename(columns={'Unnamed: 0':'intPatientId','UserId':'PatientId'})\n",
    "\n",
    "'''check for duplicates'''\n",
    "if len(cohort['intPatientId'].unique()) != len(cohort['PatientId'].unique()) \\\n",
    "    and len(cohort['PatientId'].unique()) != cohort.shape[0]:\n",
    "    raise NameError(\"ERROR: duplicate patients found in cohort.csv file\")\n",
    "\n",
    "cohort"
   ]
  },
  {
   "cell_type": "code",
   "execution_count": null,
   "id": "8668feac-ee75-4469-868f-ebe80fa4ce6e",
   "metadata": {},
   "outputs": [],
   "source": [
    "#probably worth adding a function in here that just automatically checks for if any rows are missing data and then deal with that"
   ]
  },
  {
   "cell_type": "markdown",
   "id": "5a3ec9d1-640c-43ac-a377-9c64e69c73f6",
   "metadata": {
    "tags": []
   },
   "source": [
    "## replace string IDs with int IDs\n",
    "\n",
    "next steps: replace 'PatientId' in `day1` dataframe using the key of {'UserId' : 'PatientIdInt'} from `cohort` dataframe\n",
    "<br>\n",
    "(not sure if a \"merge + drop col + rename col\" will be more economical, or if \"replace\" with dicts will be.)"
   ]
  },
  {
   "cell_type": "code",
   "execution_count": 9,
   "id": "72012786-8b69-4a66-a78a-59461c17eef6",
   "metadata": {},
   "outputs": [
    {
     "name": "stdout",
     "output_type": "stream",
     "text": [
      "CPU times: user 3 µs, sys: 0 ns, total: 3 µs\n",
      "Wall time: 10 µs\n"
     ]
    },
    {
     "data": {
      "text/html": [
       "<div>\n",
       "<style scoped>\n",
       "    .dataframe tbody tr th:only-of-type {\n",
       "        vertical-align: middle;\n",
       "    }\n",
       "\n",
       "    .dataframe tbody tr th {\n",
       "        vertical-align: top;\n",
       "    }\n",
       "\n",
       "    .dataframe thead th {\n",
       "        text-align: right;\n",
       "    }\n",
       "</style>\n",
       "<table border=\"1\" class=\"dataframe\">\n",
       "  <thead>\n",
       "    <tr style=\"text-align: right;\">\n",
       "      <th></th>\n",
       "      <th>PatientId</th>\n",
       "      <th>GlucoseDisplayTime</th>\n",
       "      <th>Value</th>\n",
       "    </tr>\n",
       "  </thead>\n",
       "  <tbody>\n",
       "    <tr>\n",
       "      <th>0</th>\n",
       "      <td>1560</td>\n",
       "      <td>2022-02-01 14:45:00</td>\n",
       "      <td>0</td>\n",
       "    </tr>\n",
       "    <tr>\n",
       "      <th>1</th>\n",
       "      <td>1560</td>\n",
       "      <td>2022-02-01 04:15:00</td>\n",
       "      <td>155</td>\n",
       "    </tr>\n",
       "    <tr>\n",
       "      <th>2</th>\n",
       "      <td>1560</td>\n",
       "      <td>2022-02-01 06:45:00</td>\n",
       "      <td>114</td>\n",
       "    </tr>\n",
       "    <tr>\n",
       "      <th>3</th>\n",
       "      <td>1560</td>\n",
       "      <td>2022-02-01 12:15:00</td>\n",
       "      <td>207</td>\n",
       "    </tr>\n",
       "    <tr>\n",
       "      <th>4</th>\n",
       "      <td>1560</td>\n",
       "      <td>2022-01-31 21:30:00</td>\n",
       "      <td>156</td>\n",
       "    </tr>\n",
       "    <tr>\n",
       "      <th>...</th>\n",
       "      <td>...</td>\n",
       "      <td>...</td>\n",
       "      <td>...</td>\n",
       "    </tr>\n",
       "    <tr>\n",
       "      <th>1663020</th>\n",
       "      <td>3735</td>\n",
       "      <td>2022-02-01 00:21:00</td>\n",
       "      <td>0</td>\n",
       "    </tr>\n",
       "    <tr>\n",
       "      <th>1663021</th>\n",
       "      <td>3735</td>\n",
       "      <td>2022-02-01 06:07:00</td>\n",
       "      <td>0</td>\n",
       "    </tr>\n",
       "    <tr>\n",
       "      <th>1663022</th>\n",
       "      <td>3735</td>\n",
       "      <td>2022-01-31 21:17:00</td>\n",
       "      <td>0</td>\n",
       "    </tr>\n",
       "    <tr>\n",
       "      <th>1663023</th>\n",
       "      <td>3735</td>\n",
       "      <td>2022-01-31 20:51:00</td>\n",
       "      <td>0</td>\n",
       "    </tr>\n",
       "    <tr>\n",
       "      <th>1663024</th>\n",
       "      <td>3735</td>\n",
       "      <td>2022-02-01 03:36:00</td>\n",
       "      <td>0</td>\n",
       "    </tr>\n",
       "  </tbody>\n",
       "</table>\n",
       "<p>1663025 rows × 3 columns</p>\n",
       "</div>"
      ],
      "text/plain": [
       "         PatientId  GlucoseDisplayTime  Value\n",
       "0             1560 2022-02-01 14:45:00      0\n",
       "1             1560 2022-02-01 04:15:00    155\n",
       "2             1560 2022-02-01 06:45:00    114\n",
       "3             1560 2022-02-01 12:15:00    207\n",
       "4             1560 2022-01-31 21:30:00    156\n",
       "...            ...                 ...    ...\n",
       "1663020       3735 2022-02-01 00:21:00      0\n",
       "1663021       3735 2022-02-01 06:07:00      0\n",
       "1663022       3735 2022-01-31 21:17:00      0\n",
       "1663023       3735 2022-01-31 20:51:00      0\n",
       "1663024       3735 2022-02-01 03:36:00      0\n",
       "\n",
       "[1663025 rows x 3 columns]"
      ]
     },
     "execution_count": 9,
     "metadata": {},
     "output_type": "execute_result"
    }
   ],
   "source": [
    "day1Merged = day1.merge(cohort[['PatientId','intPatientId']],\n",
    "                         how = \"inner\",\n",
    "                         on = \"PatientId\") \\\n",
    "        .drop(columns=\"PatientId\") \\\n",
    "        .rename(columns={'intPatientId':'PatientId'})\n",
    "day1Merged = day1Merged[['PatientId','GlucoseDisplayTime','Value']] #reorder columns for aesthetics\n",
    "#maybe right merge? it'd eliminate any day1.PatientId's that don't appear in cohort.csv ?\n",
    "day1Merged"
   ]
  },
  {
   "cell_type": "markdown",
   "id": "6f4bedd7-1609-4080-a1f3-8e047f3c910a",
   "metadata": {
    "tags": []
   },
   "source": [
    "# multiple days"
   ]
  },
  {
   "cell_type": "code",
   "execution_count": null,
   "id": "b83ebec4-b7a8-43c1-bcb7-9c065bd2ba32",
   "metadata": {},
   "outputs": [],
   "source": [
    "#import the patient ID dataframe\n",
    "\n",
    "'''the index col wasn't removed before saving this csv, so repurpose it to the int ID column'''\n",
    "cohort = pd.read_csv(\"../../cephfs/data/cohort.csv\")\n",
    "cohort = cohort.rename(columns={'Unnamed: 0':'intPatientId','UserId':'PatientId'})\n",
    "\n",
    "'''check for duplicates'''\n",
    "if len(cohort['intPatientId'].unique()) != len(cohort['PatientId'].unique()) \\\n",
    "    and len(cohort['PatientId'].unique()) != cohort.shape[0]:\n",
    "    raise NameError(\"ERROR: duplicate patients found in cohort.csv file\")\n",
    "\n",
    "# cohort.to_csv(\"../../cephfs/cleanedData/cohort.csv\", index=False)\n",
    "cohort"
   ]
  },
  {
   "cell_type": "code",
   "execution_count": null,
   "id": "7445bddf-0a22-4a71-b96e-ae3e95ac47ad",
   "metadata": {},
   "outputs": [],
   "source": [
    "'''import everything'''"
   ]
  },
  {
   "cell_type": "code",
   "execution_count": null,
   "id": "aff0c223",
   "metadata": {},
   "outputs": [],
   "source": [
    "# data.to_csv(\"../../cephfs/cleanedData/2022-02_temp.csv\", index=False)"
   ]
  },
  {
   "attachments": {},
   "cell_type": "markdown",
   "id": "5a53abfc",
   "metadata": {},
   "source": [
    "## can pick up from here"
   ]
  },
  {
   "cell_type": "code",
   "execution_count": 2,
   "id": "a0e1b2e3-0ed1-4052-a387-a6dca4aa9ca0",
   "metadata": {},
   "outputs": [
    {
     "name": "stdout",
     "output_type": "stream",
     "text": [
      "<class 'pandas.core.frame.DataFrame'>\n",
      "RangeIndex: 49217137 entries, 0 to 49217136\n",
      "Data columns (total 3 columns):\n",
      " #   Column              Dtype         \n",
      "---  ------              -----         \n",
      " 0   PatientId           int64         \n",
      " 1   GlucoseDisplayTime  datetime64[ns]\n",
      " 2   Value               int64         \n",
      "dtypes: datetime64[ns](1), int64(2)\n",
      "memory usage: 1.1 GB\n",
      "CPU times: user 21.9 s, sys: 3.01 s, total: 24.9 s\n",
      "Wall time: 14min 45s\n"
     ]
    }
   ],
   "source": [
    "# data = pd.read_csv(\"../../cephfs/cleanedData/2022-02_temp.csv\", low_memory=False, parse_dates=['GlucoseDisplayTime'])\n",
    "data.info(show_counts=True)"
   ]
  },
  {
   "cell_type": "code",
   "execution_count": 13,
   "id": "c1bd777a-81fe-43eb-a15d-37d1fe3710f3",
   "metadata": {},
   "outputs": [
    {
     "name": "stderr",
     "output_type": "stream",
     "text": [
      "/tmp/ipykernel_219/3753550574.py:1: FutureWarning: Comparison of Timestamp with datetime.date is deprecated in order to match the standard library behavior. In a future version these will be considered non-comparable. Use 'ts == pd.Timestamp(date)' or 'ts.date() == date' instead.\n",
      "  data = data[data['GlucoseDisplayTime'].dt.date >= pd.Timestamp(year=2022, month=2, day=1)]\n"
     ]
    },
    {
     "data": {
      "text/plain": [
       "array([datetime.date(2022, 2, 1), datetime.date(2022, 2, 2),\n",
       "       datetime.date(2022, 2, 3), datetime.date(2022, 2, 4),\n",
       "       datetime.date(2022, 2, 5), datetime.date(2022, 2, 6),\n",
       "       datetime.date(2022, 2, 7), datetime.date(2022, 2, 8),\n",
       "       datetime.date(2022, 2, 9), datetime.date(2022, 2, 10),\n",
       "       datetime.date(2022, 2, 11), datetime.date(2022, 2, 12),\n",
       "       datetime.date(2022, 2, 13), datetime.date(2022, 2, 14),\n",
       "       datetime.date(2022, 2, 15), datetime.date(2022, 2, 16),\n",
       "       datetime.date(2022, 2, 17), datetime.date(2022, 2, 18),\n",
       "       datetime.date(2022, 2, 19), datetime.date(2022, 2, 20),\n",
       "       datetime.date(2022, 2, 21), datetime.date(2022, 2, 22),\n",
       "       datetime.date(2022, 2, 23), datetime.date(2022, 2, 24),\n",
       "       datetime.date(2022, 2, 25), datetime.date(2022, 2, 26),\n",
       "       datetime.date(2022, 2, 27), datetime.date(2022, 2, 28),\n",
       "       datetime.date(2022, 3, 1)], dtype=object)"
      ]
     },
     "execution_count": 13,
     "metadata": {},
     "output_type": "execute_result"
    }
   ],
   "source": [
    "'''only wanted to do this for the first month (feb 2022) to get rid of jan 2022 and 2021 data'''\n",
    "data = data[data['GlucoseDisplayTime'].dt.date >= pd.Timestamp(year=2022, month=2, day=1)]\n",
    "data['GlucoseDisplayTime'].dt.date.unique()"
   ]
  },
  {
   "cell_type": "code",
   "execution_count": 15,
   "id": "f9c01696-97ae-48f0-9fd0-befd551b241f",
   "metadata": {},
   "outputs": [],
   "source": [
    "data.to_csv(\"../../cephfs/cleanedData/2022-02_temp.csv\", index=False)"
   ]
  },
  {
   "cell_type": "markdown",
   "id": "42a03cb3-0b5b-4198-9d87-73ec5287b768",
   "metadata": {
    "tags": []
   },
   "source": [
    "# 100 patients"
   ]
  },
  {
   "cell_type": "markdown",
   "id": "2c635cab-d8f0-4178-bf8b-11f4324fb243",
   "metadata": {
    "tags": []
   },
   "source": [
    "## making the sample"
   ]
  },
  {
   "cell_type": "markdown",
   "id": "9782203f-4d2c-4484-b5cc-49d17410ea3a",
   "metadata": {
    "tags": []
   },
   "source": [
    "### get patients with enough data in february"
   ]
  },
  {
   "cell_type": "code",
   "execution_count": 2,
   "id": "550766b2-5279-4162-815e-7e0ceb8fd2b4",
   "metadata": {
    "tags": []
   },
   "outputs": [],
   "source": [
    "usableValues = pd.read_csv(\"../../cephfs/cleanedData/2022-02_temp.csv\", low_memory=False, parse_dates=['GlucoseDisplayTime'])"
   ]
  },
  {
   "cell_type": "code",
   "execution_count": 3,
   "id": "e0f032ec-b416-4b0b-988c-c6f1d753ca68",
   "metadata": {
    "tags": []
   },
   "outputs": [
    {
     "data": {
      "text/html": [
       "<div>\n",
       "<style scoped>\n",
       "    .dataframe tbody tr th:only-of-type {\n",
       "        vertical-align: middle;\n",
       "    }\n",
       "\n",
       "    .dataframe tbody tr th {\n",
       "        vertical-align: top;\n",
       "    }\n",
       "\n",
       "    .dataframe thead th {\n",
       "        text-align: right;\n",
       "    }\n",
       "</style>\n",
       "<table border=\"1\" class=\"dataframe\">\n",
       "  <thead>\n",
       "    <tr style=\"text-align: right;\">\n",
       "      <th></th>\n",
       "      <th>PatientId</th>\n",
       "      <th>GlucoseDisplayTime</th>\n",
       "      <th>Value</th>\n",
       "    </tr>\n",
       "  </thead>\n",
       "  <tbody>\n",
       "    <tr>\n",
       "      <th>0</th>\n",
       "      <td>0</td>\n",
       "      <td>8058</td>\n",
       "      <td>7982</td>\n",
       "    </tr>\n",
       "    <tr>\n",
       "      <th>1</th>\n",
       "      <td>2</td>\n",
       "      <td>5771</td>\n",
       "      <td>5661</td>\n",
       "    </tr>\n",
       "    <tr>\n",
       "      <th>2</th>\n",
       "      <td>3</td>\n",
       "      <td>6133</td>\n",
       "      <td>5965</td>\n",
       "    </tr>\n",
       "    <tr>\n",
       "      <th>3</th>\n",
       "      <td>4</td>\n",
       "      <td>5154</td>\n",
       "      <td>4242</td>\n",
       "    </tr>\n",
       "    <tr>\n",
       "      <th>4</th>\n",
       "      <td>5</td>\n",
       "      <td>521</td>\n",
       "      <td>506</td>\n",
       "    </tr>\n",
       "    <tr>\n",
       "      <th>...</th>\n",
       "      <td>...</td>\n",
       "      <td>...</td>\n",
       "      <td>...</td>\n",
       "    </tr>\n",
       "    <tr>\n",
       "      <th>6904</th>\n",
       "      <td>7993</td>\n",
       "      <td>8018</td>\n",
       "      <td>7729</td>\n",
       "    </tr>\n",
       "    <tr>\n",
       "      <th>6905</th>\n",
       "      <td>7994</td>\n",
       "      <td>6945</td>\n",
       "      <td>4755</td>\n",
       "    </tr>\n",
       "    <tr>\n",
       "      <th>6906</th>\n",
       "      <td>7997</td>\n",
       "      <td>7761</td>\n",
       "      <td>7640</td>\n",
       "    </tr>\n",
       "    <tr>\n",
       "      <th>6907</th>\n",
       "      <td>7998</td>\n",
       "      <td>8016</td>\n",
       "      <td>7529</td>\n",
       "    </tr>\n",
       "    <tr>\n",
       "      <th>6908</th>\n",
       "      <td>7999</td>\n",
       "      <td>8065</td>\n",
       "      <td>7952</td>\n",
       "    </tr>\n",
       "  </tbody>\n",
       "</table>\n",
       "<p>6909 rows × 3 columns</p>\n",
       "</div>"
      ],
      "text/plain": [
       "      PatientId  GlucoseDisplayTime  Value\n",
       "0             0                8058   7982\n",
       "1             2                5771   5661\n",
       "2             3                6133   5965\n",
       "3             4                5154   4242\n",
       "4             5                 521    506\n",
       "...         ...                 ...    ...\n",
       "6904       7993                8018   7729\n",
       "6905       7994                6945   4755\n",
       "6906       7997                7761   7640\n",
       "6907       7998                8016   7529\n",
       "6908       7999                8065   7952\n",
       "\n",
       "[6909 rows x 3 columns]"
      ]
     },
     "execution_count": 3,
     "metadata": {},
     "output_type": "execute_result"
    }
   ],
   "source": [
    "usableValues['Value'] = usableValues['Value'].replace(0, np.nan)\n",
    "usableValues = usableValues.groupby('PatientId') \\\n",
    "                            .agg({'GlucoseDisplayTime': 'nunique', 'Value': 'count'}) \\\n",
    "                            .reset_index()\n",
    "# usableValues = usableValues[(usableValues['GlucoseDisplayTime']>=6452) & (usableValues['Value']>=6452)]\n",
    "usableValues"
   ]
  },
  {
   "cell_type": "code",
   "execution_count": 4,
   "id": "9996d999-9938-4d87-899a-ffa11868cff7",
   "metadata": {
    "tags": []
   },
   "outputs": [
    {
     "data": {
      "text/html": [
       "<div>\n",
       "<style scoped>\n",
       "    .dataframe tbody tr th:only-of-type {\n",
       "        vertical-align: middle;\n",
       "    }\n",
       "\n",
       "    .dataframe tbody tr th {\n",
       "        vertical-align: top;\n",
       "    }\n",
       "\n",
       "    .dataframe thead th {\n",
       "        text-align: right;\n",
       "    }\n",
       "</style>\n",
       "<table border=\"1\" class=\"dataframe\">\n",
       "  <thead>\n",
       "    <tr style=\"text-align: right;\">\n",
       "      <th></th>\n",
       "      <th>PatientId</th>\n",
       "      <th>GlucoseDisplayTime</th>\n",
       "      <th>Value</th>\n",
       "    </tr>\n",
       "  </thead>\n",
       "  <tbody>\n",
       "    <tr>\n",
       "      <th>0</th>\n",
       "      <td>0</td>\n",
       "      <td>8058</td>\n",
       "      <td>7982</td>\n",
       "    </tr>\n",
       "    <tr>\n",
       "      <th>5</th>\n",
       "      <td>7</td>\n",
       "      <td>7810</td>\n",
       "      <td>7453</td>\n",
       "    </tr>\n",
       "    <tr>\n",
       "      <th>6</th>\n",
       "      <td>9</td>\n",
       "      <td>8070</td>\n",
       "      <td>7978</td>\n",
       "    </tr>\n",
       "    <tr>\n",
       "      <th>7</th>\n",
       "      <td>11</td>\n",
       "      <td>8016</td>\n",
       "      <td>7877</td>\n",
       "    </tr>\n",
       "    <tr>\n",
       "      <th>8</th>\n",
       "      <td>12</td>\n",
       "      <td>7847</td>\n",
       "      <td>6818</td>\n",
       "    </tr>\n",
       "    <tr>\n",
       "      <th>...</th>\n",
       "      <td>...</td>\n",
       "      <td>...</td>\n",
       "      <td>...</td>\n",
       "    </tr>\n",
       "    <tr>\n",
       "      <th>6903</th>\n",
       "      <td>7990</td>\n",
       "      <td>8026</td>\n",
       "      <td>7287</td>\n",
       "    </tr>\n",
       "    <tr>\n",
       "      <th>6904</th>\n",
       "      <td>7993</td>\n",
       "      <td>8018</td>\n",
       "      <td>7729</td>\n",
       "    </tr>\n",
       "    <tr>\n",
       "      <th>6906</th>\n",
       "      <td>7997</td>\n",
       "      <td>7761</td>\n",
       "      <td>7640</td>\n",
       "    </tr>\n",
       "    <tr>\n",
       "      <th>6907</th>\n",
       "      <td>7998</td>\n",
       "      <td>8016</td>\n",
       "      <td>7529</td>\n",
       "    </tr>\n",
       "    <tr>\n",
       "      <th>6908</th>\n",
       "      <td>7999</td>\n",
       "      <td>8065</td>\n",
       "      <td>7952</td>\n",
       "    </tr>\n",
       "  </tbody>\n",
       "</table>\n",
       "<p>5265 rows × 3 columns</p>\n",
       "</div>"
      ],
      "text/plain": [
       "      PatientId  GlucoseDisplayTime  Value\n",
       "0             0                8058   7982\n",
       "5             7                7810   7453\n",
       "6             9                8070   7978\n",
       "7            11                8016   7877\n",
       "8            12                7847   6818\n",
       "...         ...                 ...    ...\n",
       "6903       7990                8026   7287\n",
       "6904       7993                8018   7729\n",
       "6906       7997                7761   7640\n",
       "6907       7998                8016   7529\n",
       "6908       7999                8065   7952\n",
       "\n",
       "[5265 rows x 3 columns]"
      ]
     },
     "execution_count": 4,
     "metadata": {},
     "output_type": "execute_result"
    }
   ],
   "source": [
    "minPercent = 28*(60/5)*24 * 0.80\n",
    "usableValues = usableValues[(usableValues['GlucoseDisplayTime']>=minPercent) & (usableValues['Value']>=minPercent)]\n",
    "usableValues"
   ]
  },
  {
   "cell_type": "code",
   "execution_count": 10,
   "id": "9f18413a-1dcb-41e6-9db6-4d253c7366d7",
   "metadata": {
    "tags": []
   },
   "outputs": [
    {
     "data": {
      "image/png": "[encoded data removed]",
      "text/plain": [
       "<Figure size 640x480 with 1 Axes>"
      ]
     },
     "metadata": {},
     "output_type": "display_data"
    }
   ],
   "source": [
    "plt.hist(usableValues['Value'], bins=10)\n",
    "plt.show()"
   ]
  },
  {
   "cell_type": "markdown",
   "id": "b39ba03a-3ba5-4723-b9f3-e9c5e48d488d",
   "metadata": {
    "tags": []
   },
   "source": [
    "### back to the cohort data"
   ]
  },
  {
   "cell_type": "code",
   "execution_count": null,
   "id": "c2e9c947-0f82-465c-9e21-23e97bbd8333",
   "metadata": {
    "tags": []
   },
   "outputs": [],
   "source": [
    "cohort = pd.read_csv(\"../../cephfs/cleanedData/cohort.csv\")\n",
    "cohort"
   ]
  },
  {
   "cell_type": "code",
   "execution_count": 6,
   "id": "e5dfbc9d-f46e-4dd3-a5ce-2e63f36119ff",
   "metadata": {
    "tags": []
   },
   "outputs": [],
   "source": [
    "cohort['AgeBin'] = \"age>=90\"\n",
    "\n",
    "ageRanges = np.linspace(30,90,7, dtype=int)\n",
    "for i in range(0,len(ageRanges)-1):\n",
    "        cohort.loc[(cohort['Age']>=ageRanges[i]) & (cohort['Age']<ageRanges[i+1]), 'AgeBin'] = \"%i<=age<%i\"%(ageRanges[i],ageRanges[i+1])"
   ]
  },
  {
   "cell_type": "code",
   "execution_count": 7,
   "id": "85a5a391-d629-4117-94b4-7e8da003d37b",
   "metadata": {
    "tags": []
   },
   "outputs": [
    {
     "name": "stdout",
     "output_type": "stream",
     "text": [
      "        how many to sample\n",
      "Gender                    \n",
      "Female                50.0\n",
      "Male                  50.0\n",
      "                 how many to sample\n",
      "Treatment                          \n",
      "no                             15.0\n",
      "yes-both                       61.0\n",
      "yes-fast-acting                 9.0\n",
      "yes-long-acting                15.0\n",
      "            how many to sample\n",
      "AgeBin                        \n",
      "30<=age<40                 6.0\n",
      "40<=age<50                19.0\n",
      "50<=age<60                25.0\n",
      "60<=age<70                25.0\n",
      "70<=age<80                20.0\n",
      "80<=age<90                 4.0\n",
      "age>=90                    0.0\n",
      "round age>=90 up to 1\n"
     ]
    }
   ],
   "source": [
    "cols = ['Gender','Treatment','AgeBin']\n",
    "\n",
    "for c in cols:\n",
    "    temp = cohort[[c,'PatientId']] \\\n",
    "                .groupby(c) \\\n",
    "                .count() \\\n",
    "                .rename(columns={'PatientId':'how many to sample'}) \\\n",
    "                /8000*100\n",
    "    print(temp.round(0))\n",
    "print(\"round age>=90 up to 1\")"
   ]
  },
  {
   "cell_type": "code",
   "execution_count": 56,
   "id": "6f0f2f36-ba3f-449d-b29e-208a3c4b40c7",
   "metadata": {
    "tags": []
   },
   "outputs": [
    {
     "name": "stdout",
     "output_type": "stream",
     "text": [
      "        number sampled\n",
      "Gender                \n",
      "Female              50\n",
      "Male                50\n",
      "                 number sampled\n",
      "Treatment                      \n",
      "no                           15\n",
      "yes-both                     61\n",
      "yes-fast-acting               9\n",
      "yes-long-acting              15\n",
      "            number sampled\n",
      "AgeBin                    \n",
      "30<=age<40               6\n",
      "40<=age<50              18\n",
      "50<=age<60              25\n",
      "60<=age<70              25\n",
      "70<=age<80              21\n",
      "80<=age<90               4\n",
      "age>=90                  1\n"
     ]
    }
   ],
   "source": [
    "cohortSample = cohort[cohort['intPatientId'].isin(usableValues['PatientId'].values)]\n",
    "cohortSample = cohortSample.sample(n=100, random_state=16)\n",
    "cohortSample = cohortSample.drop(index=[1340,387,1390,1328,2158]) #1526\n",
    "cohortSample = pd.concat([cohortSample, cohort.iloc[[7990,7937,7993,7989,1180]]])\n",
    "\n",
    "for c in cols:\n",
    "    temp = cohortSample[[c,'PatientId']].groupby(c).count() \\\n",
    "                .rename(columns={'PatientId':'number sampled'})\n",
    "    print(temp)"
   ]
  },
  {
   "cell_type": "code",
   "execution_count": 60,
   "id": "5b3d2203-f42d-4c1a-aeaa-4ef5860aff72",
   "metadata": {
    "tags": []
   },
   "outputs": [],
   "source": [
    "cohortSample.to_csv(\"../../cephfs/cleanedData/cohortSample.csv\", index=False)"
   ]
  },
  {
   "cell_type": "code",
   "execution_count": 59,
   "id": "d5bfa197-dda5-4deb-9a87-1ac8882a71a4",
   "metadata": {
    "tags": []
   },
   "outputs": [
    {
     "data": {
      "image/png": "[encoded data removed]",
      "text/plain": [
       "<Figure size 640x480 with 1 Axes>"
      ]
     },
     "metadata": {},
     "output_type": "display_data"
    }
   ],
   "source": [
    "temp = cohortSample.merge(usableValues, how=\"inner\", left_on=\"intPatientId\", right_on=\"PatientId\")\n",
    "plt.hist(temp['Value'], bins=10)\n",
    "plt.xlabel(\"number of usable datapoints (per patient)\")\n",
    "plt.ylabel(\"how many patients have that much usable data\")\n",
    "del temp"
   ]
  },
  {
   "cell_type": "markdown",
   "id": "c1028c3f-bcef-429f-a7fc-6762f158ff2b",
   "metadata": {
    "tags": []
   },
   "source": [
    "## loading in the sample"
   ]
  },
  {
   "cell_type": "markdown",
   "id": "cecf4f4e-9db8-4b40-9843-ae83944c0cb8",
   "metadata": {},
   "source": [
    "### creating the glucose data sample set"
   ]
  },
  {
   "cell_type": "code",
   "execution_count": null,
   "id": "581fe59c-3120-4db9-b935-59961f787f03",
   "metadata": {
    "tags": []
   },
   "outputs": [],
   "source": [
    "cohort = pd.read_csv(\"../../cephfs/cleanedData/cohortSample.csv\")\n",
    "cohort"
   ]
  },
  {
   "cell_type": "code",
   "execution_count": 4,
   "id": "aaa42311-473e-4ec6-b39a-e7c9f76be499",
   "metadata": {
    "tags": []
   },
   "outputs": [],
   "source": [
    "data = pd.read_csv(\"../../cephfs/cleanedData/2022-02_temp.csv\", low_memory=False, parse_dates=['GlucoseDisplayTime'])"
   ]
  },
  {
   "cell_type": "code",
   "execution_count": null,
   "id": "be7414d0-3ee9-434c-bb84-7d1e91c2f37e",
   "metadata": {
    "tags": []
   },
   "outputs": [],
   "source": [
    "data = data[data['PatientId'].isin(cohort['intPatientId'].values)]\n",
    "data"
   ]
  },
  {
   "cell_type": "code",
   "execution_count": 6,
   "id": "3265affb-a2cd-4c3b-aa90-c159eb1bf758",
   "metadata": {
    "tags": []
   },
   "outputs": [],
   "source": [
    "data.to_csv(\"../../cephfs/cleanedData/2022-02_sample.csv\", index=False)"
   ]
  },
  {
   "cell_type": "markdown",
   "id": "8f8c92a5-9e99-4a34-b9c1-eaf861fc6229",
   "metadata": {},
   "source": [
    "# load in the glucose data sample set"
   ]
  },
  {
   "cell_type": "code",
   "execution_count": null,
   "id": "181bc558-0ef1-47a6-9100-b29e3261c46f",
   "metadata": {
    "tags": []
   },
   "outputs": [],
   "source": [
    "data = pd.read_csv(\"../../cephfs/cleanedData/2022-02_sample.csv\", parse_dates=['GlucoseDisplayTime'])\n",
    "data = data.rename(columns={\"GlucoseDisplayTime\":\"GlucoseDisplayDateTime\"})\n",
    "#\"GlucoseDisplayTime\" is not renamed in Jamie's notebook\n",
    "data"
   ]
  },
  {
   "cell_type": "code",
   "execution_count": null,
   "id": "e83ab601-c0ce-4f86-85a3-032d1d8ec183",
   "metadata": {
    "tags": []
   },
   "outputs": [],
   "source": [
    "data['GlucoseDisplayHour'] = data['GlucoseDisplayDateTime'].dt.hour \\\n",
    "                            + data['GlucoseDisplayDateTime'].dt.minute/60\n",
    "                            # + data['GlucoseDisplayDateTime'].dt.second/3600 #there are no seconds saved in this version of the data\n",
    "#'GlucoseDisplayHour' is named 'GlucoseDisplayTimeNoDay' in Jamie's notebook\n",
    "data['GlucoseDisplayDate'] = data['GlucoseDisplayDateTime'].dt.date\n",
    "data"
   ]
  },
  {
   "cell_type": "code",
   "execution_count": 6,
   "id": "6af258b9-8514-4a05-9129-a8cce9f750c5",
   "metadata": {
    "tags": []
   },
   "outputs": [
    {
     "name": "stdout",
     "output_type": "stream",
     "text": [
      "<class 'pandas.core.frame.DataFrame'>\n",
      "RangeIndex: 782079 entries, 0 to 782078\n",
      "Data columns (total 5 columns):\n",
      " #   Column                  Non-Null Count   Dtype         \n",
      "---  ------                  --------------   -----         \n",
      " 0   PatientId               782079 non-null  int64         \n",
      " 1   GlucoseDisplayDateTime  782079 non-null  datetime64[ns]\n",
      " 2   Value                   782079 non-null  int64         \n",
      " 3   GlucoseDisplayHour      782079 non-null  float64       \n",
      " 4   GlucoseDisplayDate      782079 non-null  object        \n",
      "dtypes: datetime64[ns](1), float64(1), int64(2), object(1)\n",
      "memory usage: 29.8+ MB\n"
     ]
    }
   ],
   "source": [
    "data.info()"
   ]
  }
 ],
 "metadata": {
  "kernelspec": {
   "display_name": "Python 3 (ipykernel)",
   "language": "python",
   "name": "python3"
  },
  "language_info": {
   "codemirror_mode": {
    "name": "ipython",
    "version": 3
   },
   "file_extension": ".py",
   "mimetype": "text/x-python",
   "name": "python",
   "nbconvert_exporter": "python",
   "pygments_lexer": "ipython3",
   "version": "3.10.9"
  }
 },
 "nbformat": 4,
 "nbformat_minor": 5
}
