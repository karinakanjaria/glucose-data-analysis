{
 "cells": [
  {
   "cell_type": "code",
   "execution_count": 6,
   "id": "63ad8865-6035-4c49-923b-6f78dd3b8dda",
   "metadata": {},
   "outputs": [
    {
     "name": "stdout",
     "output_type": "stream",
     "text": [
      "Collecting matplotlib\n",
      "  Downloading matplotlib-3.7.0-cp310-cp310-manylinux_2_17_x86_64.manylinux2014_x86_64.whl (11.6 MB)\n",
      "\u001b[2K     \u001b[90m━━━━━━━━━━━━━━━━━━━━━━━━━━━━━━━━━━━━━━━━\u001b[0m \u001b[32m11.6/11.6 MB\u001b[0m \u001b[31m8.8 MB/s\u001b[0m eta \u001b[36m0:00:00\u001b[0m:00:01\u001b[0m00:01\u001b[0m\n",
      "\u001b[?25hRequirement already satisfied: packaging>=20.0 in /opt/conda/lib/python3.10/site-packages (from matplotlib) (23.0)\n",
      "Requirement already satisfied: python-dateutil>=2.7 in /opt/conda/lib/python3.10/site-packages (from matplotlib) (2.8.2)\n",
      "Collecting fonttools>=4.22.0\n",
      "  Downloading fonttools-4.38.0-py3-none-any.whl (965 kB)\n",
      "\u001b[2K     \u001b[90m━━━━━━━━━━━━━━━━━━━━━━━━━━━━━━━━━━━━━━━\u001b[0m \u001b[32m965.4/965.4 kB\u001b[0m \u001b[31m1.5 MB/s\u001b[0m eta \u001b[36m0:00:00\u001b[0m00:01\u001b[0m\n",
      "\u001b[?25hRequirement already satisfied: numpy>=1.20 in /opt/conda/lib/python3.10/site-packages (from matplotlib) (1.23.5)\n",
      "Collecting kiwisolver>=1.0.1\n",
      "  Downloading kiwisolver-1.4.4-cp310-cp310-manylinux_2_12_x86_64.manylinux2010_x86_64.whl (1.6 MB)\n",
      "\u001b[2K     \u001b[90m━━━━━━━━━━━━━━━━━━━━━━━━━━━━━━━━━━━━━━━━\u001b[0m \u001b[32m1.6/1.6 MB\u001b[0m \u001b[31m3.1 MB/s\u001b[0m eta \u001b[36m0:00:00\u001b[0m:00:01\u001b[0m\n",
      "\u001b[?25hCollecting pillow>=6.2.0\n",
      "  Downloading Pillow-9.4.0-cp310-cp310-manylinux_2_28_x86_64.whl (3.4 MB)\n",
      "\u001b[2K     \u001b[90m━━━━━━━━━━━━━━━━━━━━━━━━━━━━━━━━━━━━━━━━\u001b[0m \u001b[32m3.4/3.4 MB\u001b[0m \u001b[31m11.7 MB/s\u001b[0m eta \u001b[36m0:00:00\u001b[0m00:01\u001b[0m00:01\u001b[0m\n",
      "\u001b[?25hCollecting cycler>=0.10\n",
      "  Downloading cycler-0.11.0-py3-none-any.whl (6.4 kB)\n",
      "Collecting pyparsing>=2.3.1\n",
      "  Downloading pyparsing-3.0.9-py3-none-any.whl (98 kB)\n",
      "\u001b[2K     \u001b[90m━━━━━━━━━━━━━━━━━━━━━━━━━━━━━━━━━━━━━━━━\u001b[0m \u001b[32m98.3/98.3 kB\u001b[0m \u001b[31m1.0 MB/s\u001b[0m eta \u001b[36m0:00:00\u001b[0mta \u001b[36m0:00:01\u001b[0m\n",
      "\u001b[?25hCollecting contourpy>=1.0.1\n",
      "  Downloading contourpy-1.0.7-cp310-cp310-manylinux_2_17_x86_64.manylinux2014_x86_64.whl (300 kB)\n",
      "\u001b[2K     \u001b[90m━━━━━━━━━━━━━━━━━━━━━━━━━━━━━━━━━━━━━━━\u001b[0m \u001b[32m300.3/300.3 kB\u001b[0m \u001b[31m2.0 MB/s\u001b[0m eta \u001b[36m0:00:00\u001b[0m00:01\u001b[0m\n",
      "\u001b[?25hRequirement already satisfied: six>=1.5 in /opt/conda/lib/python3.10/site-packages (from python-dateutil>=2.7->matplotlib) (1.16.0)\n",
      "Installing collected packages: pyparsing, pillow, kiwisolver, fonttools, cycler, contourpy, matplotlib\n",
      "Successfully installed contourpy-1.0.7 cycler-0.11.0 fonttools-4.38.0 kiwisolver-1.4.4 matplotlib-3.7.0 pillow-9.4.0 pyparsing-3.0.9\n",
      "Note: you may need to restart the kernel to use updated packages.\n"
     ]
    }
   ],
   "source": [
    "# %pip install numpy==1.23.5 pandas==1.5.3\n",
    "%pip install -U matplotlib==3.6.3"
   ]
  },
  {
   "cell_type": "code",
   "execution_count": 7,
   "id": "aa72c6b8-7f21-4614-8509-6761376f026a",
   "metadata": {},
   "outputs": [],
   "source": [
    "import pandas as pd\n",
    "import numpy as np\n",
    "import matplotlib.pyplot as plt"
   ]
  },
  {
   "cell_type": "markdown",
   "id": "dd0b2ffc-93c1-4178-a6cc-0635c4c159d2",
   "metadata": {
    "jp-MarkdownHeadingCollapsed": true,
    "tags": []
   },
   "source": [
    "# attempting spark"
   ]
  },
  {
   "cell_type": "code",
   "execution_count": null,
   "id": "715ea2b2-ab41-4665-9772-8533c7bd5264",
   "metadata": {},
   "outputs": [
    {
     "name": "stdout",
     "output_type": "stream",
     "text": [
      "Collecting pyspark==3.3.1\n",
      "  Downloading pyspark-3.3.1.tar.gz (281.4 MB)\n",
      "\u001b[2K     \u001b[90m━━━━━━━━━━━━━━━━━━━━━━━━━━━━━━━━━━━━━━━\u001b[0m \u001b[32m281.4/281.4 MB\u001b[0m \u001b[31m1.9 MB/s\u001b[0m eta \u001b[36m0:00:00\u001b[0m00:01\u001b[0m00:01\u001b[0m\n",
      "\u001b[?25h  Preparing metadata (setup.py) ... \u001b[?25ldone\n",
      "\u001b[?25hCollecting py4j==0.10.9.5\n",
      "  Downloading py4j-0.10.9.5-py2.py3-none-any.whl (199 kB)\n",
      "\u001b[2K     \u001b[90m━━━━━━━━━━━━━━━━━━━━━━━━━━━━━━━━━━━━━\u001b[0m \u001b[32m199.7/199.7 kB\u001b[0m \u001b[31m172.1 kB/s\u001b[0m eta \u001b[36m0:00:00\u001b[0m00:01\u001b[0m\n",
      "\u001b[?25hBuilding wheels for collected packages: pyspark\n",
      "  Building wheel for pyspark (setup.py) ... \u001b[?25ldone\n",
      "\u001b[?25h  Created wheel for pyspark: filename=pyspark-3.3.1-py2.py3-none-any.whl size=281845499 sha256=54272e21876125e31df4a9ab51a051822ce20de29308ac76e7999ddb56233447\n",
      "  Stored in directory: /home/jovyan/.cache/pip/wheels/9c/aa/b1/8433fd8b1afe7eb31196cc74a42cd778bcb52636a428da079d\n",
      "Successfully built pyspark\n",
      "Installing collected packages: py4j, pyspark\n",
      "Successfully installed py4j-0.10.9.5 pyspark-3.3.1\n",
      "Note: you may need to restart the kernel to use updated packages.\n"
     ]
    }
   ],
   "source": [
    "# %pip install pyspark==3.3.1\n",
    "# need to install java next"
   ]
  },
  {
   "cell_type": "code",
   "execution_count": 16,
   "id": "8dbff96d-7220-4101-8880-c729ced0f9b4",
   "metadata": {},
   "outputs": [],
   "source": [
    "from pyspark.sql import SparkSession"
   ]
  },
  {
   "cell_type": "code",
   "execution_count": 18,
   "id": "8a7e16c7-ff1b-4b8c-aeb7-8c20c5dcc0a9",
   "metadata": {},
   "outputs": [
    {
     "name": "stderr",
     "output_type": "stream",
     "text": [
      "JAVA_HOME is not set\n"
     ]
    },
    {
     "ename": "RuntimeError",
     "evalue": "Java gateway process exited before sending its port number",
     "output_type": "error",
     "traceback": [
      "\u001b[0;31m---------------------------------------------------------------------------\u001b[0m",
      "\u001b[0;31mRuntimeError\u001b[0m                              Traceback (most recent call last)",
      "Cell \u001b[0;32mIn [18], line 4\u001b[0m\n\u001b[1;32m      1\u001b[0m data_location\u001b[38;5;241m=\u001b[39m \u001b[38;5;124m\"\u001b[39m\u001b[38;5;124m../../cephfs/data/glucose_records_2022-02-01.csv\u001b[39m\u001b[38;5;124m\"\u001b[39m\n\u001b[1;32m      2\u001b[0m spark\u001b[38;5;241m=\u001b[39m\u001b[43mSparkSession\u001b[49m\u001b[38;5;241;43m.\u001b[39;49m\u001b[43mbuilder\u001b[49m\u001b[38;5;241;43m.\u001b[39;49m\u001b[43mmaster\u001b[49m\u001b[43m(\u001b[49m\u001b[38;5;124;43m\"\u001b[39;49m\u001b[38;5;124;43mlocal\u001b[39;49m\u001b[38;5;124;43m\"\u001b[39;49m\u001b[43m)\u001b[49m\u001b[38;5;241;43m.\u001b[39;49m\u001b[43m \u001b[49m\u001b[43m\\\u001b[49m\n\u001b[1;32m      3\u001b[0m \u001b[43m                           \u001b[49m\u001b[43mappName\u001b[49m\u001b[43m(\u001b[49m\u001b[38;5;124;43m'\u001b[39;49m\u001b[38;5;124;43mResd_Glucose_Data\u001b[39;49m\u001b[38;5;124;43m'\u001b[39;49m\u001b[43m)\u001b[49m\u001b[38;5;241;43m.\u001b[39;49m\u001b[43m \u001b[49m\u001b[43m\\\u001b[49m\n\u001b[0;32m----> 4\u001b[0m \u001b[43m                           \u001b[49m\u001b[43mgetOrCreate\u001b[49m\u001b[43m(\u001b[49m\u001b[43m)\u001b[49m\n\u001b[1;32m      5\u001b[0m pyspark_glucose_data\u001b[38;5;241m=\u001b[39mspark\u001b[38;5;241m.\u001b[39mread\u001b[38;5;241m.\u001b[39mcsv(data_location, \n\u001b[1;32m      6\u001b[0m                                             header\u001b[38;5;241m=\u001b[39m\u001b[38;5;28;01mTrue\u001b[39;00m,\n\u001b[1;32m      7\u001b[0m                                             sep\u001b[38;5;241m=\u001b[39m\u001b[38;5;124m'\u001b[39m\u001b[38;5;124m,\u001b[39m\u001b[38;5;124m'\u001b[39m)\n",
      "File \u001b[0;32m/opt/conda/lib/python3.10/site-packages/pyspark/sql/session.py:269\u001b[0m, in \u001b[0;36mSparkSession.Builder.getOrCreate\u001b[0;34m(self)\u001b[0m\n\u001b[1;32m    267\u001b[0m     sparkConf\u001b[38;5;241m.\u001b[39mset(key, value)\n\u001b[1;32m    268\u001b[0m \u001b[38;5;66;03m# This SparkContext may be an existing one.\u001b[39;00m\n\u001b[0;32m--> 269\u001b[0m sc \u001b[38;5;241m=\u001b[39m \u001b[43mSparkContext\u001b[49m\u001b[38;5;241;43m.\u001b[39;49m\u001b[43mgetOrCreate\u001b[49m\u001b[43m(\u001b[49m\u001b[43msparkConf\u001b[49m\u001b[43m)\u001b[49m\n\u001b[1;32m    270\u001b[0m \u001b[38;5;66;03m# Do not update `SparkConf` for existing `SparkContext`, as it's shared\u001b[39;00m\n\u001b[1;32m    271\u001b[0m \u001b[38;5;66;03m# by all sessions.\u001b[39;00m\n\u001b[1;32m    272\u001b[0m session \u001b[38;5;241m=\u001b[39m SparkSession(sc, options\u001b[38;5;241m=\u001b[39m\u001b[38;5;28mself\u001b[39m\u001b[38;5;241m.\u001b[39m_options)\n",
      "File \u001b[0;32m/opt/conda/lib/python3.10/site-packages/pyspark/context.py:483\u001b[0m, in \u001b[0;36mSparkContext.getOrCreate\u001b[0;34m(cls, conf)\u001b[0m\n\u001b[1;32m    481\u001b[0m \u001b[38;5;28;01mwith\u001b[39;00m SparkContext\u001b[38;5;241m.\u001b[39m_lock:\n\u001b[1;32m    482\u001b[0m     \u001b[38;5;28;01mif\u001b[39;00m SparkContext\u001b[38;5;241m.\u001b[39m_active_spark_context \u001b[38;5;129;01mis\u001b[39;00m \u001b[38;5;28;01mNone\u001b[39;00m:\n\u001b[0;32m--> 483\u001b[0m         \u001b[43mSparkContext\u001b[49m\u001b[43m(\u001b[49m\u001b[43mconf\u001b[49m\u001b[38;5;241;43m=\u001b[39;49m\u001b[43mconf\u001b[49m\u001b[43m \u001b[49m\u001b[38;5;129;43;01mor\u001b[39;49;00m\u001b[43m \u001b[49m\u001b[43mSparkConf\u001b[49m\u001b[43m(\u001b[49m\u001b[43m)\u001b[49m\u001b[43m)\u001b[49m\n\u001b[1;32m    484\u001b[0m     \u001b[38;5;28;01massert\u001b[39;00m SparkContext\u001b[38;5;241m.\u001b[39m_active_spark_context \u001b[38;5;129;01mis\u001b[39;00m \u001b[38;5;129;01mnot\u001b[39;00m \u001b[38;5;28;01mNone\u001b[39;00m\n\u001b[1;32m    485\u001b[0m     \u001b[38;5;28;01mreturn\u001b[39;00m SparkContext\u001b[38;5;241m.\u001b[39m_active_spark_context\n",
      "File \u001b[0;32m/opt/conda/lib/python3.10/site-packages/pyspark/context.py:195\u001b[0m, in \u001b[0;36mSparkContext.__init__\u001b[0;34m(self, master, appName, sparkHome, pyFiles, environment, batchSize, serializer, conf, gateway, jsc, profiler_cls, udf_profiler_cls)\u001b[0m\n\u001b[1;32m    189\u001b[0m \u001b[38;5;28;01mif\u001b[39;00m gateway \u001b[38;5;129;01mis\u001b[39;00m \u001b[38;5;129;01mnot\u001b[39;00m \u001b[38;5;28;01mNone\u001b[39;00m \u001b[38;5;129;01mand\u001b[39;00m gateway\u001b[38;5;241m.\u001b[39mgateway_parameters\u001b[38;5;241m.\u001b[39mauth_token \u001b[38;5;129;01mis\u001b[39;00m \u001b[38;5;28;01mNone\u001b[39;00m:\n\u001b[1;32m    190\u001b[0m     \u001b[38;5;28;01mraise\u001b[39;00m \u001b[38;5;167;01mValueError\u001b[39;00m(\n\u001b[1;32m    191\u001b[0m         \u001b[38;5;124m\"\u001b[39m\u001b[38;5;124mYou are trying to pass an insecure Py4j gateway to Spark. This\u001b[39m\u001b[38;5;124m\"\u001b[39m\n\u001b[1;32m    192\u001b[0m         \u001b[38;5;124m\"\u001b[39m\u001b[38;5;124m is not allowed as it is a security risk.\u001b[39m\u001b[38;5;124m\"\u001b[39m\n\u001b[1;32m    193\u001b[0m     )\n\u001b[0;32m--> 195\u001b[0m \u001b[43mSparkContext\u001b[49m\u001b[38;5;241;43m.\u001b[39;49m\u001b[43m_ensure_initialized\u001b[49m\u001b[43m(\u001b[49m\u001b[38;5;28;43mself\u001b[39;49m\u001b[43m,\u001b[49m\u001b[43m \u001b[49m\u001b[43mgateway\u001b[49m\u001b[38;5;241;43m=\u001b[39;49m\u001b[43mgateway\u001b[49m\u001b[43m,\u001b[49m\u001b[43m \u001b[49m\u001b[43mconf\u001b[49m\u001b[38;5;241;43m=\u001b[39;49m\u001b[43mconf\u001b[49m\u001b[43m)\u001b[49m\n\u001b[1;32m    196\u001b[0m \u001b[38;5;28;01mtry\u001b[39;00m:\n\u001b[1;32m    197\u001b[0m     \u001b[38;5;28mself\u001b[39m\u001b[38;5;241m.\u001b[39m_do_init(\n\u001b[1;32m    198\u001b[0m         master,\n\u001b[1;32m    199\u001b[0m         appName,\n\u001b[0;32m   (...)\u001b[0m\n\u001b[1;32m    208\u001b[0m         udf_profiler_cls,\n\u001b[1;32m    209\u001b[0m     )\n",
      "File \u001b[0;32m/opt/conda/lib/python3.10/site-packages/pyspark/context.py:417\u001b[0m, in \u001b[0;36mSparkContext._ensure_initialized\u001b[0;34m(cls, instance, gateway, conf)\u001b[0m\n\u001b[1;32m    415\u001b[0m \u001b[38;5;28;01mwith\u001b[39;00m SparkContext\u001b[38;5;241m.\u001b[39m_lock:\n\u001b[1;32m    416\u001b[0m     \u001b[38;5;28;01mif\u001b[39;00m \u001b[38;5;129;01mnot\u001b[39;00m SparkContext\u001b[38;5;241m.\u001b[39m_gateway:\n\u001b[0;32m--> 417\u001b[0m         SparkContext\u001b[38;5;241m.\u001b[39m_gateway \u001b[38;5;241m=\u001b[39m gateway \u001b[38;5;129;01mor\u001b[39;00m \u001b[43mlaunch_gateway\u001b[49m\u001b[43m(\u001b[49m\u001b[43mconf\u001b[49m\u001b[43m)\u001b[49m\n\u001b[1;32m    418\u001b[0m         SparkContext\u001b[38;5;241m.\u001b[39m_jvm \u001b[38;5;241m=\u001b[39m SparkContext\u001b[38;5;241m.\u001b[39m_gateway\u001b[38;5;241m.\u001b[39mjvm\n\u001b[1;32m    420\u001b[0m     \u001b[38;5;28;01mif\u001b[39;00m instance:\n",
      "File \u001b[0;32m/opt/conda/lib/python3.10/site-packages/pyspark/java_gateway.py:106\u001b[0m, in \u001b[0;36mlaunch_gateway\u001b[0;34m(conf, popen_kwargs)\u001b[0m\n\u001b[1;32m    103\u001b[0m     time\u001b[38;5;241m.\u001b[39msleep(\u001b[38;5;241m0.1\u001b[39m)\n\u001b[1;32m    105\u001b[0m \u001b[38;5;28;01mif\u001b[39;00m \u001b[38;5;129;01mnot\u001b[39;00m os\u001b[38;5;241m.\u001b[39mpath\u001b[38;5;241m.\u001b[39misfile(conn_info_file):\n\u001b[0;32m--> 106\u001b[0m     \u001b[38;5;28;01mraise\u001b[39;00m \u001b[38;5;167;01mRuntimeError\u001b[39;00m(\u001b[38;5;124m\"\u001b[39m\u001b[38;5;124mJava gateway process exited before sending its port number\u001b[39m\u001b[38;5;124m\"\u001b[39m)\n\u001b[1;32m    108\u001b[0m \u001b[38;5;28;01mwith\u001b[39;00m \u001b[38;5;28mopen\u001b[39m(conn_info_file, \u001b[38;5;124m\"\u001b[39m\u001b[38;5;124mrb\u001b[39m\u001b[38;5;124m\"\u001b[39m) \u001b[38;5;28;01mas\u001b[39;00m info:\n\u001b[1;32m    109\u001b[0m     gateway_port \u001b[38;5;241m=\u001b[39m read_int(info)\n",
      "\u001b[0;31mRuntimeError\u001b[0m: Java gateway process exited before sending its port number"
     ]
    }
   ],
   "source": [
    "data_location= \"../../cephfs/data/glucose_records_2022-02-01.csv\" #only reading 1 day of data\n",
    "spark=SparkSession.builder.master(\"local\"). \\\n",
    "                           appName('Resd_Glucose_Data'). \\\n",
    "                           getOrCreate()\n",
    "pyspark_glucose_data=spark.read.csv(data_location, \n",
    "                                            header=True,\n",
    "                                            sep=',')\n",
    "# return pyspark_glucose_data"
   ]
  },
  {
   "cell_type": "code",
   "execution_count": null,
   "id": "2c888809-839d-4cd0-b925-934ec8a2f667",
   "metadata": {},
   "outputs": [],
   "source": [
    "spark = pyspark.sql.SparkSession\\\n",
    "    .builder \\\n",
    "    .appName(“GlucoseAnalysis) \\\n",
    "    .getOrCreate()\n",
    "df = spark.read.csv(‘path_to_folder_with_all_csv’, header=True)"
   ]
  },
  {
   "cell_type": "markdown",
   "id": "92be4bea-f6fc-48c9-b2ca-d01079743942",
   "metadata": {},
   "source": [
    "# just 1 csv in pandas"
   ]
  },
  {
   "cell_type": "markdown",
   "id": "649ed7e7-9e80-4e4c-8085-6410f9c2bb77",
   "metadata": {
    "jp-MarkdownHeadingCollapsed": true,
    "tags": []
   },
   "source": [
    "### just the very first day"
   ]
  },
  {
   "cell_type": "code",
   "execution_count": 4,
   "id": "ef539219-1447-4bf1-b915-cc5429f386e1",
   "metadata": {},
   "outputs": [
    {
     "name": "stdout",
     "output_type": "stream",
     "text": [
      "CPU times: user 4 µs, sys: 1 µs, total: 5 µs\n",
      "Wall time: 11 µs\n"
     ]
    },
    {
     "data": {
      "text/html": [
       "<div>\n",
       "<style scoped>\n",
       "    .dataframe tbody tr th:only-of-type {\n",
       "        vertical-align: middle;\n",
       "    }\n",
       "\n",
       "    .dataframe tbody tr th {\n",
       "        vertical-align: top;\n",
       "    }\n",
       "\n",
       "    .dataframe thead th {\n",
       "        text-align: right;\n",
       "    }\n",
       "</style>\n",
       "<table border=\"1\" class=\"dataframe\">\n",
       "  <thead>\n",
       "    <tr style=\"text-align: right;\">\n",
       "      <th></th>\n",
       "      <th>PatientId</th>\n",
       "      <th>GlucoseDisplayTime</th>\n",
       "      <th>Value</th>\n",
       "    </tr>\n",
       "  </thead>\n",
       "  <tbody>\n",
       "    <tr>\n",
       "      <th>0</th>\n",
       "      <td>1Jxgxke6R3Uh2c9aRnMUF425ILTOg+t30nSUxUhiKqk=</td>\n",
       "      <td>2022-02-01 14:45:24.971</td>\n",
       "      <td>0</td>\n",
       "    </tr>\n",
       "    <tr>\n",
       "      <th>1</th>\n",
       "      <td>toBStbTTYI2GU28YdTryjNwSM/+HkkafNCkxar3xKD0=</td>\n",
       "      <td>2022-02-01 17:46:26.437</td>\n",
       "      <td>0</td>\n",
       "    </tr>\n",
       "    <tr>\n",
       "      <th>2</th>\n",
       "      <td>+XAhHhm+BkhqusxsZjnyQdS9CmRTmSvyJ16FyAoQbB4=</td>\n",
       "      <td>2022-02-01 14:58:52.229</td>\n",
       "      <td>0</td>\n",
       "    </tr>\n",
       "    <tr>\n",
       "      <th>3</th>\n",
       "      <td>+XAhHhm+BkhqusxsZjnyQdS9CmRTmSvyJ16FyAoQbB4=</td>\n",
       "      <td>2022-01-31 22:53:48.883</td>\n",
       "      <td>0</td>\n",
       "    </tr>\n",
       "    <tr>\n",
       "      <th>4</th>\n",
       "      <td>+XAhHhm+BkhqusxsZjnyQdS9CmRTmSvyJ16FyAoQbB4=</td>\n",
       "      <td>2022-01-31 22:38:44.655</td>\n",
       "      <td>0</td>\n",
       "    </tr>\n",
       "    <tr>\n",
       "      <th>...</th>\n",
       "      <td>...</td>\n",
       "      <td>...</td>\n",
       "      <td>...</td>\n",
       "    </tr>\n",
       "    <tr>\n",
       "      <th>1663020</th>\n",
       "      <td>VikQW3TwZOcHzKA7UFAIjJg7KfHAgb6h3heX6OQL3Qg=</td>\n",
       "      <td>2022-02-01 05:10:16.000</td>\n",
       "      <td>0</td>\n",
       "    </tr>\n",
       "    <tr>\n",
       "      <th>1663021</th>\n",
       "      <td>VikQW3TwZOcHzKA7UFAIjJg7KfHAgb6h3heX6OQL3Qg=</td>\n",
       "      <td>2022-02-01 08:15:16.000</td>\n",
       "      <td>0</td>\n",
       "    </tr>\n",
       "    <tr>\n",
       "      <th>1663022</th>\n",
       "      <td>VikQW3TwZOcHzKA7UFAIjJg7KfHAgb6h3heX6OQL3Qg=</td>\n",
       "      <td>2022-01-31 23:30:14.000</td>\n",
       "      <td>0</td>\n",
       "    </tr>\n",
       "    <tr>\n",
       "      <th>1663023</th>\n",
       "      <td>VikQW3TwZOcHzKA7UFAIjJg7KfHAgb6h3heX6OQL3Qg=</td>\n",
       "      <td>2022-01-31 23:35:15.000</td>\n",
       "      <td>0</td>\n",
       "    </tr>\n",
       "    <tr>\n",
       "      <th>1663024</th>\n",
       "      <td>VikQW3TwZOcHzKA7UFAIjJg7KfHAgb6h3heX6OQL3Qg=</td>\n",
       "      <td>2022-02-01 07:20:16.000</td>\n",
       "      <td>0</td>\n",
       "    </tr>\n",
       "  </tbody>\n",
       "</table>\n",
       "<p>1663025 rows × 3 columns</p>\n",
       "</div>"
      ],
      "text/plain": [
       "                                            PatientId      GlucoseDisplayTime  \\\n",
       "0        1Jxgxke6R3Uh2c9aRnMUF425ILTOg+t30nSUxUhiKqk= 2022-02-01 14:45:24.971   \n",
       "1        toBStbTTYI2GU28YdTryjNwSM/+HkkafNCkxar3xKD0= 2022-02-01 17:46:26.437   \n",
       "2        +XAhHhm+BkhqusxsZjnyQdS9CmRTmSvyJ16FyAoQbB4= 2022-02-01 14:58:52.229   \n",
       "3        +XAhHhm+BkhqusxsZjnyQdS9CmRTmSvyJ16FyAoQbB4= 2022-01-31 22:53:48.883   \n",
       "4        +XAhHhm+BkhqusxsZjnyQdS9CmRTmSvyJ16FyAoQbB4= 2022-01-31 22:38:44.655   \n",
       "...                                               ...                     ...   \n",
       "1663020  VikQW3TwZOcHzKA7UFAIjJg7KfHAgb6h3heX6OQL3Qg= 2022-02-01 05:10:16.000   \n",
       "1663021  VikQW3TwZOcHzKA7UFAIjJg7KfHAgb6h3heX6OQL3Qg= 2022-02-01 08:15:16.000   \n",
       "1663022  VikQW3TwZOcHzKA7UFAIjJg7KfHAgb6h3heX6OQL3Qg= 2022-01-31 23:30:14.000   \n",
       "1663023  VikQW3TwZOcHzKA7UFAIjJg7KfHAgb6h3heX6OQL3Qg= 2022-01-31 23:35:15.000   \n",
       "1663024  VikQW3TwZOcHzKA7UFAIjJg7KfHAgb6h3heX6OQL3Qg= 2022-02-01 07:20:16.000   \n",
       "\n",
       "         Value  \n",
       "0            0  \n",
       "1            0  \n",
       "2            0  \n",
       "3            0  \n",
       "4            0  \n",
       "...        ...  \n",
       "1663020      0  \n",
       "1663021      0  \n",
       "1663022      0  \n",
       "1663023      0  \n",
       "1663024      0  \n",
       "\n",
       "[1663025 rows x 3 columns]"
      ]
     },
     "execution_count": 4,
     "metadata": {},
     "output_type": "execute_result"
    }
   ],
   "source": [
    "'''initial read-in of 1 day of data, and saving-out a csv of just the cols we want'''\n",
    "%time\n",
    "# usableCols = [\"PatientId\",\"GlucoseDisplayTime\",\"Value\"]\n",
    "# df = pd.read_csv(data_location, low_memory=False, usecols=usableCols)\n",
    "# df.to_csv(\"../cleanedData/2022-02-01 temp.csv\", index=False)\n",
    "day1 = pd.read_csv(\"../../cephfs/cleanedData/2022-02-01 temp.csv\", parse_dates=['GlucoseDisplayTime'])\n",
    "day1"
   ]
  },
  {
   "cell_type": "code",
   "execution_count": 5,
   "id": "5df28d62-4a74-4e59-a2bd-14b5f7f14431",
   "metadata": {},
   "outputs": [
    {
     "name": "stdout",
     "output_type": "stream",
     "text": [
      "<class 'pandas.core.frame.DataFrame'>\n",
      "RangeIndex: 1663025 entries, 0 to 1663024\n",
      "Data columns (total 3 columns):\n",
      " #   Column              Non-Null Count    Dtype         \n",
      "---  ------              --------------    -----         \n",
      " 0   PatientId           1663025 non-null  object        \n",
      " 1   GlucoseDisplayTime  1663025 non-null  datetime64[ns]\n",
      " 2   Value               1663025 non-null  int64         \n",
      "dtypes: datetime64[ns](1), int64(1), object(1)\n",
      "memory usage: 38.1+ MB\n"
     ]
    }
   ],
   "source": [
    "day1.info()"
   ]
  },
  {
   "cell_type": "code",
   "execution_count": 6,
   "id": "73291bd5-fb32-4694-8a2c-1f3760d3a042",
   "metadata": {},
   "outputs": [
    {
     "name": "stdout",
     "output_type": "stream",
     "text": [
      "CPU times: user 3 µs, sys: 1 µs, total: 4 µs\n",
      "Wall time: 6.91 µs\n",
      "0 rows with missing patient ID or timestamp have been removed\n"
     ]
    }
   ],
   "source": [
    "'''bonus step: dropping any rows where the PatientId or timestamp is missing'''\n",
    "%time\n",
    "initRows = day1.shape[0]\n",
    "day1 = day1.dropna(subset=['PatientId','GlucoseDisplayTime'], how='any')\n",
    "print(initRows - day1.shape[0], \"rows with missing patient ID or timestamp have been removed\")"
   ]
  },
  {
   "cell_type": "markdown",
   "id": "7e1c779a-c965-480d-9ae8-ef4f94446e40",
   "metadata": {
    "jp-MarkdownHeadingCollapsed": true,
    "tags": []
   },
   "source": [
    "### quick detour for datetime exploration"
   ]
  },
  {
   "cell_type": "code",
   "execution_count": 5,
   "id": "4f9a6fa8-530b-440b-b6cd-af17956fc93d",
   "metadata": {},
   "outputs": [
    {
     "data": {
      "text/plain": [
       "Timestamp('2022-02-01 17:46:26.437000')"
      ]
     },
     "execution_count": 5,
     "metadata": {},
     "output_type": "execute_result"
    }
   ],
   "source": [
    "timestamp = day1['GlucoseDisplayTime'].loc[1]\n",
    "timestamp"
   ]
  },
  {
   "cell_type": "code",
   "execution_count": 6,
   "id": "1d853d0e-b680-4380-adff-4058713d617d",
   "metadata": {},
   "outputs": [
    {
     "name": "stdout",
     "output_type": "stream",
     "text": [
      "2022\n",
      "2\n",
      "1\n",
      "17\n",
      "46\n",
      "26\n"
     ]
    }
   ],
   "source": [
    "print(timestamp.year)\n",
    "print(timestamp.month)\n",
    "print(timestamp.day)\n",
    "print(timestamp.hour)\n",
    "print(timestamp.minute)\n",
    "print(timestamp.second)"
   ]
  },
  {
   "cell_type": "markdown",
   "id": "7977cd30-26ef-4500-aa18-6ef1023a5420",
   "metadata": {
    "tags": []
   },
   "source": [
    "### back to EDA"
   ]
  },
  {
   "cell_type": "code",
   "execution_count": 7,
   "id": "463779a5-3734-4834-bbe5-80cf285ca5ba",
   "metadata": {},
   "outputs": [
    {
     "data": {
      "text/html": [
       "<div>\n",
       "<style scoped>\n",
       "    .dataframe tbody tr th:only-of-type {\n",
       "        vertical-align: middle;\n",
       "    }\n",
       "\n",
       "    .dataframe tbody tr th {\n",
       "        vertical-align: top;\n",
       "    }\n",
       "\n",
       "    .dataframe thead th {\n",
       "        text-align: right;\n",
       "    }\n",
       "</style>\n",
       "<table border=\"1\" class=\"dataframe\">\n",
       "  <thead>\n",
       "    <tr style=\"text-align: right;\">\n",
       "      <th></th>\n",
       "      <th>PatientId</th>\n",
       "      <th>GlucoseDisplayTime</th>\n",
       "      <th>Value</th>\n",
       "    </tr>\n",
       "  </thead>\n",
       "  <tbody>\n",
       "    <tr>\n",
       "      <th>0</th>\n",
       "      <td>1Jxgxke6R3Uh2c9aRnMUF425ILTOg+t30nSUxUhiKqk=</td>\n",
       "      <td>2022-02-01 14:45:00</td>\n",
       "      <td>0</td>\n",
       "    </tr>\n",
       "    <tr>\n",
       "      <th>1</th>\n",
       "      <td>toBStbTTYI2GU28YdTryjNwSM/+HkkafNCkxar3xKD0=</td>\n",
       "      <td>2022-02-01 17:46:00</td>\n",
       "      <td>0</td>\n",
       "    </tr>\n",
       "    <tr>\n",
       "      <th>2</th>\n",
       "      <td>+XAhHhm+BkhqusxsZjnyQdS9CmRTmSvyJ16FyAoQbB4=</td>\n",
       "      <td>2022-02-01 14:58:00</td>\n",
       "      <td>0</td>\n",
       "    </tr>\n",
       "    <tr>\n",
       "      <th>3</th>\n",
       "      <td>+XAhHhm+BkhqusxsZjnyQdS9CmRTmSvyJ16FyAoQbB4=</td>\n",
       "      <td>2022-01-31 22:53:00</td>\n",
       "      <td>0</td>\n",
       "    </tr>\n",
       "    <tr>\n",
       "      <th>4</th>\n",
       "      <td>+XAhHhm+BkhqusxsZjnyQdS9CmRTmSvyJ16FyAoQbB4=</td>\n",
       "      <td>2022-01-31 22:38:00</td>\n",
       "      <td>0</td>\n",
       "    </tr>\n",
       "    <tr>\n",
       "      <th>...</th>\n",
       "      <td>...</td>\n",
       "      <td>...</td>\n",
       "      <td>...</td>\n",
       "    </tr>\n",
       "    <tr>\n",
       "      <th>1663020</th>\n",
       "      <td>VikQW3TwZOcHzKA7UFAIjJg7KfHAgb6h3heX6OQL3Qg=</td>\n",
       "      <td>2022-02-01 05:10:00</td>\n",
       "      <td>0</td>\n",
       "    </tr>\n",
       "    <tr>\n",
       "      <th>1663021</th>\n",
       "      <td>VikQW3TwZOcHzKA7UFAIjJg7KfHAgb6h3heX6OQL3Qg=</td>\n",
       "      <td>2022-02-01 08:15:00</td>\n",
       "      <td>0</td>\n",
       "    </tr>\n",
       "    <tr>\n",
       "      <th>1663022</th>\n",
       "      <td>VikQW3TwZOcHzKA7UFAIjJg7KfHAgb6h3heX6OQL3Qg=</td>\n",
       "      <td>2022-01-31 23:30:00</td>\n",
       "      <td>0</td>\n",
       "    </tr>\n",
       "    <tr>\n",
       "      <th>1663023</th>\n",
       "      <td>VikQW3TwZOcHzKA7UFAIjJg7KfHAgb6h3heX6OQL3Qg=</td>\n",
       "      <td>2022-01-31 23:35:00</td>\n",
       "      <td>0</td>\n",
       "    </tr>\n",
       "    <tr>\n",
       "      <th>1663024</th>\n",
       "      <td>VikQW3TwZOcHzKA7UFAIjJg7KfHAgb6h3heX6OQL3Qg=</td>\n",
       "      <td>2022-02-01 07:20:00</td>\n",
       "      <td>0</td>\n",
       "    </tr>\n",
       "  </tbody>\n",
       "</table>\n",
       "<p>1663025 rows × 3 columns</p>\n",
       "</div>"
      ],
      "text/plain": [
       "                                            PatientId  GlucoseDisplayTime  \\\n",
       "0        1Jxgxke6R3Uh2c9aRnMUF425ILTOg+t30nSUxUhiKqk= 2022-02-01 14:45:00   \n",
       "1        toBStbTTYI2GU28YdTryjNwSM/+HkkafNCkxar3xKD0= 2022-02-01 17:46:00   \n",
       "2        +XAhHhm+BkhqusxsZjnyQdS9CmRTmSvyJ16FyAoQbB4= 2022-02-01 14:58:00   \n",
       "3        +XAhHhm+BkhqusxsZjnyQdS9CmRTmSvyJ16FyAoQbB4= 2022-01-31 22:53:00   \n",
       "4        +XAhHhm+BkhqusxsZjnyQdS9CmRTmSvyJ16FyAoQbB4= 2022-01-31 22:38:00   \n",
       "...                                               ...                 ...   \n",
       "1663020  VikQW3TwZOcHzKA7UFAIjJg7KfHAgb6h3heX6OQL3Qg= 2022-02-01 05:10:00   \n",
       "1663021  VikQW3TwZOcHzKA7UFAIjJg7KfHAgb6h3heX6OQL3Qg= 2022-02-01 08:15:00   \n",
       "1663022  VikQW3TwZOcHzKA7UFAIjJg7KfHAgb6h3heX6OQL3Qg= 2022-01-31 23:30:00   \n",
       "1663023  VikQW3TwZOcHzKA7UFAIjJg7KfHAgb6h3heX6OQL3Qg= 2022-01-31 23:35:00   \n",
       "1663024  VikQW3TwZOcHzKA7UFAIjJg7KfHAgb6h3heX6OQL3Qg= 2022-02-01 07:20:00   \n",
       "\n",
       "         Value  \n",
       "0            0  \n",
       "1            0  \n",
       "2            0  \n",
       "3            0  \n",
       "4            0  \n",
       "...        ...  \n",
       "1663020      0  \n",
       "1663021      0  \n",
       "1663022      0  \n",
       "1663023      0  \n",
       "1663024      0  \n",
       "\n",
       "[1663025 rows x 3 columns]"
      ]
     },
     "execution_count": 7,
     "metadata": {},
     "output_type": "execute_result"
    }
   ],
   "source": [
    "'''round down to the minute so seconds = 0'''\n",
    "day1['GlucoseDisplayTime'] = day1['GlucoseDisplayTime'].dt.floor('min') #'min' means 'minute' ('min' can be substituted with 'T' and 'Min' for literally the same effect\n",
    "day1"
   ]
  },
  {
   "cell_type": "markdown",
   "id": "ed5d9748-5819-4042-9ef3-616c7cbe2e62",
   "metadata": {},
   "source": [
    "next is to change PatientIDs to ints. this is for saving memory space and for our own sanity.\n",
    "\n",
    "#### read in the cohort data"
   ]
  },
  {
   "cell_type": "code",
   "execution_count": 8,
   "id": "244c3f3e-e662-4481-9202-50832fb53a64",
   "metadata": {},
   "outputs": [
    {
     "name": "stdout",
     "output_type": "stream",
     "text": [
      "CPU times: user 4 µs, sys: 0 ns, total: 4 µs\n",
      "Wall time: 8.34 µs\n"
     ]
    },
    {
     "data": {
      "text/html": [
       "<div>\n",
       "<style scoped>\n",
       "    .dataframe tbody tr th:only-of-type {\n",
       "        vertical-align: middle;\n",
       "    }\n",
       "\n",
       "    .dataframe tbody tr th {\n",
       "        vertical-align: top;\n",
       "    }\n",
       "\n",
       "    .dataframe thead th {\n",
       "        text-align: right;\n",
       "    }\n",
       "</style>\n",
       "<table border=\"1\" class=\"dataframe\">\n",
       "  <thead>\n",
       "    <tr style=\"text-align: right;\">\n",
       "      <th></th>\n",
       "      <th>intPatientId</th>\n",
       "      <th>PatientId</th>\n",
       "      <th>Gender</th>\n",
       "      <th>DOB</th>\n",
       "      <th>Age</th>\n",
       "      <th>DiabetesType</th>\n",
       "      <th>Treatment</th>\n",
       "    </tr>\n",
       "  </thead>\n",
       "  <tbody>\n",
       "    <tr>\n",
       "      <th>0</th>\n",
       "      <td>0</td>\n",
       "      <td>5lZPrCk6qk8L6Jw+SU+NYDjP2u3hF6JNASttkRUi6Vc=</td>\n",
       "      <td>Female</td>\n",
       "      <td>1931-01-01</td>\n",
       "      <td>92</td>\n",
       "      <td>type-two</td>\n",
       "      <td>no</td>\n",
       "    </tr>\n",
       "    <tr>\n",
       "      <th>1</th>\n",
       "      <td>1</td>\n",
       "      <td>9qY9mZ+GV5Kd/O/NB1FuD4JqCUg2etZvhhFLwGTZfbY=</td>\n",
       "      <td>Male</td>\n",
       "      <td>1937-01-01</td>\n",
       "      <td>86</td>\n",
       "      <td>type-two</td>\n",
       "      <td>no</td>\n",
       "    </tr>\n",
       "    <tr>\n",
       "      <th>2</th>\n",
       "      <td>2</td>\n",
       "      <td>uhsyLhr4Zl6NfGbNBOXBvLo6ZD9OnFVF297de5/SrfE=</td>\n",
       "      <td>Female</td>\n",
       "      <td>1938-01-01</td>\n",
       "      <td>85</td>\n",
       "      <td>type-two</td>\n",
       "      <td>no</td>\n",
       "    </tr>\n",
       "    <tr>\n",
       "      <th>3</th>\n",
       "      <td>3</td>\n",
       "      <td>9uAVHBOgoCJ9hfcrLJvRxkwT/VpWZOFZ5iqAtRY3YH8=</td>\n",
       "      <td>Male</td>\n",
       "      <td>1938-01-01</td>\n",
       "      <td>85</td>\n",
       "      <td>type-two</td>\n",
       "      <td>no</td>\n",
       "    </tr>\n",
       "    <tr>\n",
       "      <th>4</th>\n",
       "      <td>4</td>\n",
       "      <td>Fyb156jU1edGykL7NCQBK+uTMpT7hNkq+/H1wwG1eeE=</td>\n",
       "      <td>Female</td>\n",
       "      <td>1939-01-01</td>\n",
       "      <td>84</td>\n",
       "      <td>type-two</td>\n",
       "      <td>no</td>\n",
       "    </tr>\n",
       "    <tr>\n",
       "      <th>...</th>\n",
       "      <td>...</td>\n",
       "      <td>...</td>\n",
       "      <td>...</td>\n",
       "      <td>...</td>\n",
       "      <td>...</td>\n",
       "      <td>...</td>\n",
       "      <td>...</td>\n",
       "    </tr>\n",
       "    <tr>\n",
       "      <th>7995</th>\n",
       "      <td>7995</td>\n",
       "      <td>y7iPpTOpOsK0Xx8V6oNYmyrhB5XclbVy7vNRugo2YH0=</td>\n",
       "      <td>Female</td>\n",
       "      <td>1992-01-01</td>\n",
       "      <td>31</td>\n",
       "      <td>type-two</td>\n",
       "      <td>yes-long-acting</td>\n",
       "    </tr>\n",
       "    <tr>\n",
       "      <th>7996</th>\n",
       "      <td>7996</td>\n",
       "      <td>KbLjey5zQXaIFNFgconzI5c9FJtIpzPR36YzWVICmpM=</td>\n",
       "      <td>Female</td>\n",
       "      <td>1993-01-01</td>\n",
       "      <td>30</td>\n",
       "      <td>type-two</td>\n",
       "      <td>yes-long-acting</td>\n",
       "    </tr>\n",
       "    <tr>\n",
       "      <th>7997</th>\n",
       "      <td>7997</td>\n",
       "      <td>JKatRtvvKlFbWRE7ewo4vaFM8c2HST13KhVKOZ7oz9U=</td>\n",
       "      <td>Female</td>\n",
       "      <td>1993-01-01</td>\n",
       "      <td>30</td>\n",
       "      <td>type-two</td>\n",
       "      <td>yes-long-acting</td>\n",
       "    </tr>\n",
       "    <tr>\n",
       "      <th>7998</th>\n",
       "      <td>7998</td>\n",
       "      <td>saW1uk+rYwjh90Jv26OS65cgJsY6LXs90C4tt0oGXWQ=</td>\n",
       "      <td>Female</td>\n",
       "      <td>1993-01-01</td>\n",
       "      <td>30</td>\n",
       "      <td>type-two</td>\n",
       "      <td>yes-long-acting</td>\n",
       "    </tr>\n",
       "    <tr>\n",
       "      <th>7999</th>\n",
       "      <td>7999</td>\n",
       "      <td>FPH3VltQBOik/k3P2VxqbQR7o4NBivg8753seWF9bEY=</td>\n",
       "      <td>Female</td>\n",
       "      <td>1993-01-01</td>\n",
       "      <td>30</td>\n",
       "      <td>type-two</td>\n",
       "      <td>yes-long-acting</td>\n",
       "    </tr>\n",
       "  </tbody>\n",
       "</table>\n",
       "<p>8000 rows × 7 columns</p>\n",
       "</div>"
      ],
      "text/plain": [
       "      intPatientId                                     PatientId  Gender  \\\n",
       "0                0  5lZPrCk6qk8L6Jw+SU+NYDjP2u3hF6JNASttkRUi6Vc=  Female   \n",
       "1                1  9qY9mZ+GV5Kd/O/NB1FuD4JqCUg2etZvhhFLwGTZfbY=    Male   \n",
       "2                2  uhsyLhr4Zl6NfGbNBOXBvLo6ZD9OnFVF297de5/SrfE=  Female   \n",
       "3                3  9uAVHBOgoCJ9hfcrLJvRxkwT/VpWZOFZ5iqAtRY3YH8=    Male   \n",
       "4                4  Fyb156jU1edGykL7NCQBK+uTMpT7hNkq+/H1wwG1eeE=  Female   \n",
       "...            ...                                           ...     ...   \n",
       "7995          7995  y7iPpTOpOsK0Xx8V6oNYmyrhB5XclbVy7vNRugo2YH0=  Female   \n",
       "7996          7996  KbLjey5zQXaIFNFgconzI5c9FJtIpzPR36YzWVICmpM=  Female   \n",
       "7997          7997  JKatRtvvKlFbWRE7ewo4vaFM8c2HST13KhVKOZ7oz9U=  Female   \n",
       "7998          7998  saW1uk+rYwjh90Jv26OS65cgJsY6LXs90C4tt0oGXWQ=  Female   \n",
       "7999          7999  FPH3VltQBOik/k3P2VxqbQR7o4NBivg8753seWF9bEY=  Female   \n",
       "\n",
       "             DOB  Age DiabetesType        Treatment  \n",
       "0     1931-01-01   92     type-two               no  \n",
       "1     1937-01-01   86     type-two               no  \n",
       "2     1938-01-01   85     type-two               no  \n",
       "3     1938-01-01   85     type-two               no  \n",
       "4     1939-01-01   84     type-two               no  \n",
       "...          ...  ...          ...              ...  \n",
       "7995  1992-01-01   31     type-two  yes-long-acting  \n",
       "7996  1993-01-01   30     type-two  yes-long-acting  \n",
       "7997  1993-01-01   30     type-two  yes-long-acting  \n",
       "7998  1993-01-01   30     type-two  yes-long-acting  \n",
       "7999  1993-01-01   30     type-two  yes-long-acting  \n",
       "\n",
       "[8000 rows x 7 columns]"
      ]
     },
     "execution_count": 8,
     "metadata": {},
     "output_type": "execute_result"
    }
   ],
   "source": [
    "'''the index col wasn't removed before saving this csv, so repurpose it to the int ID column'''\n",
    "cohort = pd.read_csv(\"../../cephfs/data/cohort.csv\")\n",
    "cohort = cohort.rename(columns={'Unnamed: 0':'intPatientId','UserId':'PatientId'})\n",
    "\n",
    "'''check for duplicates'''\n",
    "if len(cohort['intPatientId'].unique()) != len(cohort['PatientId'].unique()) \\\n",
    "    and len(cohort['PatientId'].unique()) != cohort.shape[0]:\n",
    "    raise NameError(\"ERROR: duplicate patients found in cohort.csv file\")\n",
    "\n",
    "%time\n",
    "cohort"
   ]
  },
  {
   "cell_type": "markdown",
   "id": "db10c8e9-7227-4975-a360-d73e74ba3a3c",
   "metadata": {},
   "source": [
    "probably not worth saving this \"cleaned\" `cohort` dataframe, since i'm assuming it's more economical to just read in the data and do these two steps when we need it again"
   ]
  },
  {
   "cell_type": "code",
   "execution_count": null,
   "id": "8668feac-ee75-4469-868f-ebe80fa4ce6e",
   "metadata": {},
   "outputs": [],
   "source": [
    "#probably worth adding a function in here that just automatically checks for if any rows are missing data and then deal with that"
   ]
  },
  {
   "cell_type": "markdown",
   "id": "5a3ec9d1-640c-43ac-a377-9c64e69c73f6",
   "metadata": {
    "jp-MarkdownHeadingCollapsed": true,
    "tags": []
   },
   "source": [
    "## replace string IDs with int IDs\n",
    "\n",
    "next steps: replace 'PatientId' in `day1` dataframe using the key of {'UserId' : 'PatientIdInt'} from `cohort` dataframe\n",
    "<br>\n",
    "(not sure if a \"merge + drop col + rename col\" will be more economical, or if \"replace\" with dicts will be.)"
   ]
  },
  {
   "cell_type": "markdown",
   "id": "0eb60cf5-a569-4e47-8c2c-02331c1bef7e",
   "metadata": {},
   "source": [
    "#### with merge()"
   ]
  },
  {
   "cell_type": "code",
   "execution_count": 9,
   "id": "72012786-8b69-4a66-a78a-59461c17eef6",
   "metadata": {},
   "outputs": [
    {
     "name": "stdout",
     "output_type": "stream",
     "text": [
      "CPU times: user 3 µs, sys: 0 ns, total: 3 µs\n",
      "Wall time: 10 µs\n"
     ]
    },
    {
     "data": {
      "text/html": [
       "<div>\n",
       "<style scoped>\n",
       "    .dataframe tbody tr th:only-of-type {\n",
       "        vertical-align: middle;\n",
       "    }\n",
       "\n",
       "    .dataframe tbody tr th {\n",
       "        vertical-align: top;\n",
       "    }\n",
       "\n",
       "    .dataframe thead th {\n",
       "        text-align: right;\n",
       "    }\n",
       "</style>\n",
       "<table border=\"1\" class=\"dataframe\">\n",
       "  <thead>\n",
       "    <tr style=\"text-align: right;\">\n",
       "      <th></th>\n",
       "      <th>PatientId</th>\n",
       "      <th>GlucoseDisplayTime</th>\n",
       "      <th>Value</th>\n",
       "    </tr>\n",
       "  </thead>\n",
       "  <tbody>\n",
       "    <tr>\n",
       "      <th>0</th>\n",
       "      <td>1560</td>\n",
       "      <td>2022-02-01 14:45:00</td>\n",
       "      <td>0</td>\n",
       "    </tr>\n",
       "    <tr>\n",
       "      <th>1</th>\n",
       "      <td>1560</td>\n",
       "      <td>2022-02-01 04:15:00</td>\n",
       "      <td>155</td>\n",
       "    </tr>\n",
       "    <tr>\n",
       "      <th>2</th>\n",
       "      <td>1560</td>\n",
       "      <td>2022-02-01 06:45:00</td>\n",
       "      <td>114</td>\n",
       "    </tr>\n",
       "    <tr>\n",
       "      <th>3</th>\n",
       "      <td>1560</td>\n",
       "      <td>2022-02-01 12:15:00</td>\n",
       "      <td>207</td>\n",
       "    </tr>\n",
       "    <tr>\n",
       "      <th>4</th>\n",
       "      <td>1560</td>\n",
       "      <td>2022-01-31 21:30:00</td>\n",
       "      <td>156</td>\n",
       "    </tr>\n",
       "    <tr>\n",
       "      <th>...</th>\n",
       "      <td>...</td>\n",
       "      <td>...</td>\n",
       "      <td>...</td>\n",
       "    </tr>\n",
       "    <tr>\n",
       "      <th>1663020</th>\n",
       "      <td>3735</td>\n",
       "      <td>2022-02-01 00:21:00</td>\n",
       "      <td>0</td>\n",
       "    </tr>\n",
       "    <tr>\n",
       "      <th>1663021</th>\n",
       "      <td>3735</td>\n",
       "      <td>2022-02-01 06:07:00</td>\n",
       "      <td>0</td>\n",
       "    </tr>\n",
       "    <tr>\n",
       "      <th>1663022</th>\n",
       "      <td>3735</td>\n",
       "      <td>2022-01-31 21:17:00</td>\n",
       "      <td>0</td>\n",
       "    </tr>\n",
       "    <tr>\n",
       "      <th>1663023</th>\n",
       "      <td>3735</td>\n",
       "      <td>2022-01-31 20:51:00</td>\n",
       "      <td>0</td>\n",
       "    </tr>\n",
       "    <tr>\n",
       "      <th>1663024</th>\n",
       "      <td>3735</td>\n",
       "      <td>2022-02-01 03:36:00</td>\n",
       "      <td>0</td>\n",
       "    </tr>\n",
       "  </tbody>\n",
       "</table>\n",
       "<p>1663025 rows × 3 columns</p>\n",
       "</div>"
      ],
      "text/plain": [
       "         PatientId  GlucoseDisplayTime  Value\n",
       "0             1560 2022-02-01 14:45:00      0\n",
       "1             1560 2022-02-01 04:15:00    155\n",
       "2             1560 2022-02-01 06:45:00    114\n",
       "3             1560 2022-02-01 12:15:00    207\n",
       "4             1560 2022-01-31 21:30:00    156\n",
       "...            ...                 ...    ...\n",
       "1663020       3735 2022-02-01 00:21:00      0\n",
       "1663021       3735 2022-02-01 06:07:00      0\n",
       "1663022       3735 2022-01-31 21:17:00      0\n",
       "1663023       3735 2022-01-31 20:51:00      0\n",
       "1663024       3735 2022-02-01 03:36:00      0\n",
       "\n",
       "[1663025 rows x 3 columns]"
      ]
     },
     "execution_count": 9,
     "metadata": {},
     "output_type": "execute_result"
    }
   ],
   "source": [
    "day1Merged = day1.merge(cohort[['PatientId','intPatientId']],\n",
    "                         how = \"inner\",\n",
    "                         on = \"PatientId\") \\\n",
    "        .drop(columns=\"PatientId\") \\\n",
    "        .rename(columns={'intPatientId':'PatientId'})\n",
    "day1Merged = day1Merged[['PatientId','GlucoseDisplayTime','Value']] #reorder columns for aesthetics\n",
    "#maybe right merge? it'd eliminate any day1.PatientId's that don't appear in cohort.csv ?\n",
    "%time\n",
    "day1Merged"
   ]
  },
  {
   "cell_type": "code",
   "execution_count": 53,
   "id": "1053fe5a-ad4e-46ed-9546-5dc8ebe7cf39",
   "metadata": {},
   "outputs": [
    {
     "data": {
      "text/plain": [
       "60.833333333333336"
      ]
     },
     "execution_count": 53,
     "metadata": {},
     "output_type": "execute_result"
    }
   ],
   "source": [
    "'''if day1 took about 8 seconds, round up to 10 seconds for the days with more data and the total time this will take for all 365 CSVs is about (in minutes):'''\n",
    "10*365/60"
   ]
  },
  {
   "cell_type": "markdown",
   "id": "aa37272b-adb2-493e-b2c6-856d3eb4031f",
   "metadata": {
    "jp-MarkdownHeadingCollapsed": true,
    "tags": []
   },
   "source": [
    "granted, my 8 sec run was because of like 7.9 seconds of wall time. CPU was miniscule. also the above might be more optimizable (ask katie about this since merge() is SQL based)\n",
    "\n",
    "#### with replace()"
   ]
  },
  {
   "cell_type": "code",
   "execution_count": 54,
   "id": "ddc83fb3-7e80-42ea-9388-37044ce304df",
   "metadata": {},
   "outputs": [
    {
     "name": "stderr",
     "output_type": "stream",
     "text": [
      "\n",
      "KeyboardInterrupt\n",
      "\n"
     ]
    }
   ],
   "source": [
    "'''this took more than a minute so i didn't even let it finish'''\n",
    "day1Replaced = day1.replace({'PatientId': idDict})\n",
    "%time\n",
    "day1Replaced"
   ]
  },
  {
   "cell_type": "code",
   "execution_count": 55,
   "id": "01e1c3ac-4ebc-4cd6-8c2c-0332c66d7a73",
   "metadata": {
    "collapsed": true,
    "jupyter": {
     "outputs_hidden": true
    },
    "tags": []
   },
   "outputs": [
    {
     "ename": "KeyboardInterrupt",
     "evalue": "",
     "output_type": "error",
     "traceback": [
      "\u001b[0;31m---------------------------------------------------------------------------\u001b[0m",
      "\u001b[0;31mKeyboardInterrupt\u001b[0m                         Traceback (most recent call last)",
      "Cell \u001b[0;32mIn [55], line 2\u001b[0m\n\u001b[1;32m      1\u001b[0m \u001b[38;5;124;03m''' '''\u001b[39;00m\n\u001b[0;32m----> 2\u001b[0m day1Replaced \u001b[38;5;241m=\u001b[39m \u001b[43mday1\u001b[49m\u001b[38;5;241;43m.\u001b[39;49m\u001b[43mreplace\u001b[49m\u001b[43m(\u001b[49m\u001b[43midDict\u001b[49m\u001b[43m)\u001b[49m\n\u001b[1;32m      3\u001b[0m get_ipython()\u001b[38;5;241m.\u001b[39mrun_line_magic(\u001b[38;5;124m'\u001b[39m\u001b[38;5;124mtime\u001b[39m\u001b[38;5;124m'\u001b[39m, \u001b[38;5;124m'\u001b[39m\u001b[38;5;124m'\u001b[39m)\n\u001b[1;32m      4\u001b[0m day1Replaced\n",
      "File \u001b[0;32m/opt/conda/lib/python3.10/site-packages/pandas/util/_decorators.py:331\u001b[0m, in \u001b[0;36mdeprecate_nonkeyword_arguments.<locals>.decorate.<locals>.wrapper\u001b[0;34m(*args, **kwargs)\u001b[0m\n\u001b[1;32m    325\u001b[0m \u001b[38;5;28;01mif\u001b[39;00m \u001b[38;5;28mlen\u001b[39m(args) \u001b[38;5;241m>\u001b[39m num_allow_args:\n\u001b[1;32m    326\u001b[0m     warnings\u001b[38;5;241m.\u001b[39mwarn(\n\u001b[1;32m    327\u001b[0m         msg\u001b[38;5;241m.\u001b[39mformat(arguments\u001b[38;5;241m=\u001b[39m_format_argument_list(allow_args)),\n\u001b[1;32m    328\u001b[0m         \u001b[38;5;167;01mFutureWarning\u001b[39;00m,\n\u001b[1;32m    329\u001b[0m         stacklevel\u001b[38;5;241m=\u001b[39mfind_stack_level(),\n\u001b[1;32m    330\u001b[0m     )\n\u001b[0;32m--> 331\u001b[0m \u001b[38;5;28;01mreturn\u001b[39;00m \u001b[43mfunc\u001b[49m\u001b[43m(\u001b[49m\u001b[38;5;241;43m*\u001b[39;49m\u001b[43margs\u001b[49m\u001b[43m,\u001b[49m\u001b[43m \u001b[49m\u001b[38;5;241;43m*\u001b[39;49m\u001b[38;5;241;43m*\u001b[39;49m\u001b[43mkwargs\u001b[49m\u001b[43m)\u001b[49m\n",
      "File \u001b[0;32m/opt/conda/lib/python3.10/site-packages/pandas/core/frame.py:5728\u001b[0m, in \u001b[0;36mDataFrame.replace\u001b[0;34m(self, to_replace, value, inplace, limit, regex, method)\u001b[0m\n\u001b[1;32m   5715\u001b[0m \u001b[38;5;129m@deprecate_nonkeyword_arguments\u001b[39m(\n\u001b[1;32m   5716\u001b[0m     version\u001b[38;5;241m=\u001b[39m\u001b[38;5;28;01mNone\u001b[39;00m, allowed_args\u001b[38;5;241m=\u001b[39m[\u001b[38;5;124m\"\u001b[39m\u001b[38;5;124mself\u001b[39m\u001b[38;5;124m\"\u001b[39m, \u001b[38;5;124m\"\u001b[39m\u001b[38;5;124mto_replace\u001b[39m\u001b[38;5;124m\"\u001b[39m, \u001b[38;5;124m\"\u001b[39m\u001b[38;5;124mvalue\u001b[39m\u001b[38;5;124m\"\u001b[39m]\n\u001b[1;32m   5717\u001b[0m )\n\u001b[0;32m   (...)\u001b[0m\n\u001b[1;32m   5726\u001b[0m     method: Literal[\u001b[38;5;124m\"\u001b[39m\u001b[38;5;124mpad\u001b[39m\u001b[38;5;124m\"\u001b[39m, \u001b[38;5;124m\"\u001b[39m\u001b[38;5;124mffill\u001b[39m\u001b[38;5;124m\"\u001b[39m, \u001b[38;5;124m\"\u001b[39m\u001b[38;5;124mbfill\u001b[39m\u001b[38;5;124m\"\u001b[39m] \u001b[38;5;241m|\u001b[39m lib\u001b[38;5;241m.\u001b[39mNoDefault \u001b[38;5;241m=\u001b[39m lib\u001b[38;5;241m.\u001b[39mno_default,\n\u001b[1;32m   5727\u001b[0m ) \u001b[38;5;241m-\u001b[39m\u001b[38;5;241m>\u001b[39m DataFrame \u001b[38;5;241m|\u001b[39m \u001b[38;5;28;01mNone\u001b[39;00m:\n\u001b[0;32m-> 5728\u001b[0m     \u001b[38;5;28;01mreturn\u001b[39;00m \u001b[38;5;28;43msuper\u001b[39;49m\u001b[43m(\u001b[49m\u001b[43m)\u001b[49m\u001b[38;5;241;43m.\u001b[39;49m\u001b[43mreplace\u001b[49m\u001b[43m(\u001b[49m\n\u001b[1;32m   5729\u001b[0m \u001b[43m        \u001b[49m\u001b[43mto_replace\u001b[49m\u001b[38;5;241;43m=\u001b[39;49m\u001b[43mto_replace\u001b[49m\u001b[43m,\u001b[49m\n\u001b[1;32m   5730\u001b[0m \u001b[43m        \u001b[49m\u001b[43mvalue\u001b[49m\u001b[38;5;241;43m=\u001b[39;49m\u001b[43mvalue\u001b[49m\u001b[43m,\u001b[49m\n\u001b[1;32m   5731\u001b[0m \u001b[43m        \u001b[49m\u001b[43minplace\u001b[49m\u001b[38;5;241;43m=\u001b[39;49m\u001b[43minplace\u001b[49m\u001b[43m,\u001b[49m\n\u001b[1;32m   5732\u001b[0m \u001b[43m        \u001b[49m\u001b[43mlimit\u001b[49m\u001b[38;5;241;43m=\u001b[39;49m\u001b[43mlimit\u001b[49m\u001b[43m,\u001b[49m\n\u001b[1;32m   5733\u001b[0m \u001b[43m        \u001b[49m\u001b[43mregex\u001b[49m\u001b[38;5;241;43m=\u001b[39;49m\u001b[43mregex\u001b[49m\u001b[43m,\u001b[49m\n\u001b[1;32m   5734\u001b[0m \u001b[43m        \u001b[49m\u001b[43mmethod\u001b[49m\u001b[38;5;241;43m=\u001b[39;49m\u001b[43mmethod\u001b[49m\u001b[43m,\u001b[49m\n\u001b[1;32m   5735\u001b[0m \u001b[43m    \u001b[49m\u001b[43m)\u001b[49m\n",
      "File \u001b[0;32m/opt/conda/lib/python3.10/site-packages/pandas/util/_decorators.py:331\u001b[0m, in \u001b[0;36mdeprecate_nonkeyword_arguments.<locals>.decorate.<locals>.wrapper\u001b[0;34m(*args, **kwargs)\u001b[0m\n\u001b[1;32m    325\u001b[0m \u001b[38;5;28;01mif\u001b[39;00m \u001b[38;5;28mlen\u001b[39m(args) \u001b[38;5;241m>\u001b[39m num_allow_args:\n\u001b[1;32m    326\u001b[0m     warnings\u001b[38;5;241m.\u001b[39mwarn(\n\u001b[1;32m    327\u001b[0m         msg\u001b[38;5;241m.\u001b[39mformat(arguments\u001b[38;5;241m=\u001b[39m_format_argument_list(allow_args)),\n\u001b[1;32m    328\u001b[0m         \u001b[38;5;167;01mFutureWarning\u001b[39;00m,\n\u001b[1;32m    329\u001b[0m         stacklevel\u001b[38;5;241m=\u001b[39mfind_stack_level(),\n\u001b[1;32m    330\u001b[0m     )\n\u001b[0;32m--> 331\u001b[0m \u001b[38;5;28;01mreturn\u001b[39;00m \u001b[43mfunc\u001b[49m\u001b[43m(\u001b[49m\u001b[38;5;241;43m*\u001b[39;49m\u001b[43margs\u001b[49m\u001b[43m,\u001b[49m\u001b[43m \u001b[49m\u001b[38;5;241;43m*\u001b[39;49m\u001b[38;5;241;43m*\u001b[39;49m\u001b[43mkwargs\u001b[49m\u001b[43m)\u001b[49m\n",
      "File \u001b[0;32m/opt/conda/lib/python3.10/site-packages/pandas/core/generic.py:7188\u001b[0m, in \u001b[0;36mNDFrame.replace\u001b[0;34m(self, to_replace, value, inplace, limit, regex, method)\u001b[0m\n\u001b[1;32m   7185\u001b[0m     \u001b[38;5;28;01melse\u001b[39;00m:\n\u001b[1;32m   7186\u001b[0m         to_replace, value \u001b[38;5;241m=\u001b[39m keys, values\n\u001b[0;32m-> 7188\u001b[0m     \u001b[38;5;28;01mreturn\u001b[39;00m \u001b[38;5;28;43mself\u001b[39;49m\u001b[38;5;241;43m.\u001b[39;49m\u001b[43mreplace\u001b[49m\u001b[43m(\u001b[49m\n\u001b[1;32m   7189\u001b[0m \u001b[43m        \u001b[49m\u001b[43mto_replace\u001b[49m\u001b[43m,\u001b[49m\u001b[43m \u001b[49m\u001b[43mvalue\u001b[49m\u001b[43m,\u001b[49m\u001b[43m \u001b[49m\u001b[43minplace\u001b[49m\u001b[38;5;241;43m=\u001b[39;49m\u001b[43minplace\u001b[49m\u001b[43m,\u001b[49m\u001b[43m \u001b[49m\u001b[43mlimit\u001b[49m\u001b[38;5;241;43m=\u001b[39;49m\u001b[43mlimit\u001b[49m\u001b[43m,\u001b[49m\u001b[43m \u001b[49m\u001b[43mregex\u001b[49m\u001b[38;5;241;43m=\u001b[39;49m\u001b[43mregex\u001b[49m\n\u001b[1;32m   7190\u001b[0m \u001b[43m    \u001b[49m\u001b[43m)\u001b[49m\n\u001b[1;32m   7191\u001b[0m \u001b[38;5;28;01melse\u001b[39;00m:\n\u001b[1;32m   7192\u001b[0m \n\u001b[1;32m   7193\u001b[0m     \u001b[38;5;66;03m# need a non-zero len on all axes\u001b[39;00m\n\u001b[1;32m   7194\u001b[0m     \u001b[38;5;28;01mif\u001b[39;00m \u001b[38;5;129;01mnot\u001b[39;00m \u001b[38;5;28mself\u001b[39m\u001b[38;5;241m.\u001b[39msize:\n",
      "File \u001b[0;32m/opt/conda/lib/python3.10/site-packages/pandas/util/_decorators.py:331\u001b[0m, in \u001b[0;36mdeprecate_nonkeyword_arguments.<locals>.decorate.<locals>.wrapper\u001b[0;34m(*args, **kwargs)\u001b[0m\n\u001b[1;32m    325\u001b[0m \u001b[38;5;28;01mif\u001b[39;00m \u001b[38;5;28mlen\u001b[39m(args) \u001b[38;5;241m>\u001b[39m num_allow_args:\n\u001b[1;32m    326\u001b[0m     warnings\u001b[38;5;241m.\u001b[39mwarn(\n\u001b[1;32m    327\u001b[0m         msg\u001b[38;5;241m.\u001b[39mformat(arguments\u001b[38;5;241m=\u001b[39m_format_argument_list(allow_args)),\n\u001b[1;32m    328\u001b[0m         \u001b[38;5;167;01mFutureWarning\u001b[39;00m,\n\u001b[1;32m    329\u001b[0m         stacklevel\u001b[38;5;241m=\u001b[39mfind_stack_level(),\n\u001b[1;32m    330\u001b[0m     )\n\u001b[0;32m--> 331\u001b[0m \u001b[38;5;28;01mreturn\u001b[39;00m \u001b[43mfunc\u001b[49m\u001b[43m(\u001b[49m\u001b[38;5;241;43m*\u001b[39;49m\u001b[43margs\u001b[49m\u001b[43m,\u001b[49m\u001b[43m \u001b[49m\u001b[38;5;241;43m*\u001b[39;49m\u001b[38;5;241;43m*\u001b[39;49m\u001b[43mkwargs\u001b[49m\u001b[43m)\u001b[49m\n",
      "File \u001b[0;32m/opt/conda/lib/python3.10/site-packages/pandas/core/frame.py:5728\u001b[0m, in \u001b[0;36mDataFrame.replace\u001b[0;34m(self, to_replace, value, inplace, limit, regex, method)\u001b[0m\n\u001b[1;32m   5715\u001b[0m \u001b[38;5;129m@deprecate_nonkeyword_arguments\u001b[39m(\n\u001b[1;32m   5716\u001b[0m     version\u001b[38;5;241m=\u001b[39m\u001b[38;5;28;01mNone\u001b[39;00m, allowed_args\u001b[38;5;241m=\u001b[39m[\u001b[38;5;124m\"\u001b[39m\u001b[38;5;124mself\u001b[39m\u001b[38;5;124m\"\u001b[39m, \u001b[38;5;124m\"\u001b[39m\u001b[38;5;124mto_replace\u001b[39m\u001b[38;5;124m\"\u001b[39m, \u001b[38;5;124m\"\u001b[39m\u001b[38;5;124mvalue\u001b[39m\u001b[38;5;124m\"\u001b[39m]\n\u001b[1;32m   5717\u001b[0m )\n\u001b[0;32m   (...)\u001b[0m\n\u001b[1;32m   5726\u001b[0m     method: Literal[\u001b[38;5;124m\"\u001b[39m\u001b[38;5;124mpad\u001b[39m\u001b[38;5;124m\"\u001b[39m, \u001b[38;5;124m\"\u001b[39m\u001b[38;5;124mffill\u001b[39m\u001b[38;5;124m\"\u001b[39m, \u001b[38;5;124m\"\u001b[39m\u001b[38;5;124mbfill\u001b[39m\u001b[38;5;124m\"\u001b[39m] \u001b[38;5;241m|\u001b[39m lib\u001b[38;5;241m.\u001b[39mNoDefault \u001b[38;5;241m=\u001b[39m lib\u001b[38;5;241m.\u001b[39mno_default,\n\u001b[1;32m   5727\u001b[0m ) \u001b[38;5;241m-\u001b[39m\u001b[38;5;241m>\u001b[39m DataFrame \u001b[38;5;241m|\u001b[39m \u001b[38;5;28;01mNone\u001b[39;00m:\n\u001b[0;32m-> 5728\u001b[0m     \u001b[38;5;28;01mreturn\u001b[39;00m \u001b[38;5;28;43msuper\u001b[39;49m\u001b[43m(\u001b[49m\u001b[43m)\u001b[49m\u001b[38;5;241;43m.\u001b[39;49m\u001b[43mreplace\u001b[49m\u001b[43m(\u001b[49m\n\u001b[1;32m   5729\u001b[0m \u001b[43m        \u001b[49m\u001b[43mto_replace\u001b[49m\u001b[38;5;241;43m=\u001b[39;49m\u001b[43mto_replace\u001b[49m\u001b[43m,\u001b[49m\n\u001b[1;32m   5730\u001b[0m \u001b[43m        \u001b[49m\u001b[43mvalue\u001b[49m\u001b[38;5;241;43m=\u001b[39;49m\u001b[43mvalue\u001b[49m\u001b[43m,\u001b[49m\n\u001b[1;32m   5731\u001b[0m \u001b[43m        \u001b[49m\u001b[43minplace\u001b[49m\u001b[38;5;241;43m=\u001b[39;49m\u001b[43minplace\u001b[49m\u001b[43m,\u001b[49m\n\u001b[1;32m   5732\u001b[0m \u001b[43m        \u001b[49m\u001b[43mlimit\u001b[49m\u001b[38;5;241;43m=\u001b[39;49m\u001b[43mlimit\u001b[49m\u001b[43m,\u001b[49m\n\u001b[1;32m   5733\u001b[0m \u001b[43m        \u001b[49m\u001b[43mregex\u001b[49m\u001b[38;5;241;43m=\u001b[39;49m\u001b[43mregex\u001b[49m\u001b[43m,\u001b[49m\n\u001b[1;32m   5734\u001b[0m \u001b[43m        \u001b[49m\u001b[43mmethod\u001b[49m\u001b[38;5;241;43m=\u001b[39;49m\u001b[43mmethod\u001b[49m\u001b[43m,\u001b[49m\n\u001b[1;32m   5735\u001b[0m \u001b[43m    \u001b[49m\u001b[43m)\u001b[49m\n",
      "File \u001b[0;32m/opt/conda/lib/python3.10/site-packages/pandas/util/_decorators.py:331\u001b[0m, in \u001b[0;36mdeprecate_nonkeyword_arguments.<locals>.decorate.<locals>.wrapper\u001b[0;34m(*args, **kwargs)\u001b[0m\n\u001b[1;32m    325\u001b[0m \u001b[38;5;28;01mif\u001b[39;00m \u001b[38;5;28mlen\u001b[39m(args) \u001b[38;5;241m>\u001b[39m num_allow_args:\n\u001b[1;32m    326\u001b[0m     warnings\u001b[38;5;241m.\u001b[39mwarn(\n\u001b[1;32m    327\u001b[0m         msg\u001b[38;5;241m.\u001b[39mformat(arguments\u001b[38;5;241m=\u001b[39m_format_argument_list(allow_args)),\n\u001b[1;32m    328\u001b[0m         \u001b[38;5;167;01mFutureWarning\u001b[39;00m,\n\u001b[1;32m    329\u001b[0m         stacklevel\u001b[38;5;241m=\u001b[39mfind_stack_level(),\n\u001b[1;32m    330\u001b[0m     )\n\u001b[0;32m--> 331\u001b[0m \u001b[38;5;28;01mreturn\u001b[39;00m \u001b[43mfunc\u001b[49m\u001b[43m(\u001b[49m\u001b[38;5;241;43m*\u001b[39;49m\u001b[43margs\u001b[49m\u001b[43m,\u001b[49m\u001b[43m \u001b[49m\u001b[38;5;241;43m*\u001b[39;49m\u001b[38;5;241;43m*\u001b[39;49m\u001b[43mkwargs\u001b[49m\u001b[43m)\u001b[49m\n",
      "File \u001b[0;32m/opt/conda/lib/python3.10/site-packages/pandas/core/generic.py:7237\u001b[0m, in \u001b[0;36mNDFrame.replace\u001b[0;34m(self, to_replace, value, inplace, limit, regex, method)\u001b[0m\n\u001b[1;32m   7232\u001b[0m     \u001b[38;5;28;01mif\u001b[39;00m \u001b[38;5;28mlen\u001b[39m(to_replace) \u001b[38;5;241m!=\u001b[39m \u001b[38;5;28mlen\u001b[39m(value):\n\u001b[1;32m   7233\u001b[0m         \u001b[38;5;28;01mraise\u001b[39;00m \u001b[38;5;167;01mValueError\u001b[39;00m(\n\u001b[1;32m   7234\u001b[0m             \u001b[38;5;124mf\u001b[39m\u001b[38;5;124m\"\u001b[39m\u001b[38;5;124mReplacement lists must match in length. \u001b[39m\u001b[38;5;124m\"\u001b[39m\n\u001b[1;32m   7235\u001b[0m             \u001b[38;5;124mf\u001b[39m\u001b[38;5;124m\"\u001b[39m\u001b[38;5;124mExpecting \u001b[39m\u001b[38;5;132;01m{\u001b[39;00m\u001b[38;5;28mlen\u001b[39m(to_replace)\u001b[38;5;132;01m}\u001b[39;00m\u001b[38;5;124m got \u001b[39m\u001b[38;5;132;01m{\u001b[39;00m\u001b[38;5;28mlen\u001b[39m(value)\u001b[38;5;132;01m}\u001b[39;00m\u001b[38;5;124m \u001b[39m\u001b[38;5;124m\"\u001b[39m\n\u001b[1;32m   7236\u001b[0m         )\n\u001b[0;32m-> 7237\u001b[0m     new_data \u001b[38;5;241m=\u001b[39m \u001b[38;5;28;43mself\u001b[39;49m\u001b[38;5;241;43m.\u001b[39;49m\u001b[43m_mgr\u001b[49m\u001b[38;5;241;43m.\u001b[39;49m\u001b[43mreplace_list\u001b[49m\u001b[43m(\u001b[49m\n\u001b[1;32m   7238\u001b[0m \u001b[43m        \u001b[49m\u001b[43msrc_list\u001b[49m\u001b[38;5;241;43m=\u001b[39;49m\u001b[43mto_replace\u001b[49m\u001b[43m,\u001b[49m\n\u001b[1;32m   7239\u001b[0m \u001b[43m        \u001b[49m\u001b[43mdest_list\u001b[49m\u001b[38;5;241;43m=\u001b[39;49m\u001b[43mvalue\u001b[49m\u001b[43m,\u001b[49m\n\u001b[1;32m   7240\u001b[0m \u001b[43m        \u001b[49m\u001b[43minplace\u001b[49m\u001b[38;5;241;43m=\u001b[39;49m\u001b[43minplace\u001b[49m\u001b[43m,\u001b[49m\n\u001b[1;32m   7241\u001b[0m \u001b[43m        \u001b[49m\u001b[43mregex\u001b[49m\u001b[38;5;241;43m=\u001b[39;49m\u001b[43mregex\u001b[49m\u001b[43m,\u001b[49m\n\u001b[1;32m   7242\u001b[0m \u001b[43m    \u001b[49m\u001b[43m)\u001b[49m\n\u001b[1;32m   7244\u001b[0m \u001b[38;5;28;01melif\u001b[39;00m to_replace \u001b[38;5;129;01mis\u001b[39;00m \u001b[38;5;28;01mNone\u001b[39;00m:\n\u001b[1;32m   7245\u001b[0m     \u001b[38;5;28;01mif\u001b[39;00m \u001b[38;5;129;01mnot\u001b[39;00m (\n\u001b[1;32m   7246\u001b[0m         is_re_compilable(regex)\n\u001b[1;32m   7247\u001b[0m         \u001b[38;5;129;01mor\u001b[39;00m is_list_like(regex)\n\u001b[1;32m   7248\u001b[0m         \u001b[38;5;129;01mor\u001b[39;00m is_dict_like(regex)\n\u001b[1;32m   7249\u001b[0m     ):\n",
      "File \u001b[0;32m/opt/conda/lib/python3.10/site-packages/pandas/core/internals/managers.py:487\u001b[0m, in \u001b[0;36mBaseBlockManager.replace_list\u001b[0;34m(self, src_list, dest_list, inplace, regex)\u001b[0m\n\u001b[1;32m    484\u001b[0m \u001b[38;5;124;03m\"\"\"do a list replace\"\"\"\u001b[39;00m\n\u001b[1;32m    485\u001b[0m inplace \u001b[38;5;241m=\u001b[39m validate_bool_kwarg(inplace, \u001b[38;5;124m\"\u001b[39m\u001b[38;5;124minplace\u001b[39m\u001b[38;5;124m\"\u001b[39m)\n\u001b[0;32m--> 487\u001b[0m bm \u001b[38;5;241m=\u001b[39m \u001b[38;5;28;43mself\u001b[39;49m\u001b[38;5;241;43m.\u001b[39;49m\u001b[43mapply\u001b[49m\u001b[43m(\u001b[49m\n\u001b[1;32m    488\u001b[0m \u001b[43m    \u001b[49m\u001b[38;5;124;43m\"\u001b[39;49m\u001b[38;5;124;43mreplace_list\u001b[39;49m\u001b[38;5;124;43m\"\u001b[39;49m\u001b[43m,\u001b[49m\n\u001b[1;32m    489\u001b[0m \u001b[43m    \u001b[49m\u001b[43msrc_list\u001b[49m\u001b[38;5;241;43m=\u001b[39;49m\u001b[43msrc_list\u001b[49m\u001b[43m,\u001b[49m\n\u001b[1;32m    490\u001b[0m \u001b[43m    \u001b[49m\u001b[43mdest_list\u001b[49m\u001b[38;5;241;43m=\u001b[39;49m\u001b[43mdest_list\u001b[49m\u001b[43m,\u001b[49m\n\u001b[1;32m    491\u001b[0m \u001b[43m    \u001b[49m\u001b[43minplace\u001b[49m\u001b[38;5;241;43m=\u001b[39;49m\u001b[43minplace\u001b[49m\u001b[43m,\u001b[49m\n\u001b[1;32m    492\u001b[0m \u001b[43m    \u001b[49m\u001b[43mregex\u001b[49m\u001b[38;5;241;43m=\u001b[39;49m\u001b[43mregex\u001b[49m\u001b[43m,\u001b[49m\n\u001b[1;32m    493\u001b[0m \u001b[43m\u001b[49m\u001b[43m)\u001b[49m\n\u001b[1;32m    494\u001b[0m bm\u001b[38;5;241m.\u001b[39m_consolidate_inplace()\n\u001b[1;32m    495\u001b[0m \u001b[38;5;28;01mreturn\u001b[39;00m bm\n",
      "File \u001b[0;32m/opt/conda/lib/python3.10/site-packages/pandas/core/internals/managers.py:352\u001b[0m, in \u001b[0;36mBaseBlockManager.apply\u001b[0;34m(self, f, align_keys, ignore_failures, **kwargs)\u001b[0m\n\u001b[1;32m    350\u001b[0m         applied \u001b[38;5;241m=\u001b[39m b\u001b[38;5;241m.\u001b[39mapply(f, \u001b[38;5;241m*\u001b[39m\u001b[38;5;241m*\u001b[39mkwargs)\n\u001b[1;32m    351\u001b[0m     \u001b[38;5;28;01melse\u001b[39;00m:\n\u001b[0;32m--> 352\u001b[0m         applied \u001b[38;5;241m=\u001b[39m \u001b[38;5;28;43mgetattr\u001b[39;49m\u001b[43m(\u001b[49m\u001b[43mb\u001b[49m\u001b[43m,\u001b[49m\u001b[43m \u001b[49m\u001b[43mf\u001b[49m\u001b[43m)\u001b[49m\u001b[43m(\u001b[49m\u001b[38;5;241;43m*\u001b[39;49m\u001b[38;5;241;43m*\u001b[39;49m\u001b[43mkwargs\u001b[49m\u001b[43m)\u001b[49m\n\u001b[1;32m    353\u001b[0m \u001b[38;5;28;01mexcept\u001b[39;00m (\u001b[38;5;167;01mTypeError\u001b[39;00m, \u001b[38;5;167;01mNotImplementedError\u001b[39;00m):\n\u001b[1;32m    354\u001b[0m     \u001b[38;5;28;01mif\u001b[39;00m \u001b[38;5;129;01mnot\u001b[39;00m ignore_failures:\n",
      "File \u001b[0;32m/opt/conda/lib/python3.10/site-packages/pandas/core/internals/blocks.py:705\u001b[0m, in \u001b[0;36mBlock.replace_list\u001b[0;34m(self, src_list, dest_list, inplace, regex)\u001b[0m\n\u001b[1;32m    701\u001b[0m \u001b[38;5;28;01mif\u001b[39;00m is_string_dtype(values\u001b[38;5;241m.\u001b[39mdtype):\n\u001b[1;32m    702\u001b[0m     \u001b[38;5;66;03m# Calculate the mask once, prior to the call of comp\u001b[39;00m\n\u001b[1;32m    703\u001b[0m     \u001b[38;5;66;03m# in order to avoid repeating the same computations\u001b[39;00m\n\u001b[1;32m    704\u001b[0m     mask \u001b[38;5;241m=\u001b[39m \u001b[38;5;241m~\u001b[39misna(values)\n\u001b[0;32m--> 705\u001b[0m     masks \u001b[38;5;241m=\u001b[39m [\n\u001b[1;32m    706\u001b[0m         compare_or_regex_search(values, s[\u001b[38;5;241m0\u001b[39m], regex\u001b[38;5;241m=\u001b[39mregex, mask\u001b[38;5;241m=\u001b[39mmask)\n\u001b[1;32m    707\u001b[0m         \u001b[38;5;28;01mfor\u001b[39;00m s \u001b[38;5;129;01min\u001b[39;00m pairs\n\u001b[1;32m    708\u001b[0m     ]\n\u001b[1;32m    709\u001b[0m \u001b[38;5;28;01melse\u001b[39;00m:\n\u001b[1;32m    710\u001b[0m     \u001b[38;5;66;03m# GH#38086 faster if we know we dont need to check for regex\u001b[39;00m\n\u001b[1;32m    711\u001b[0m     masks \u001b[38;5;241m=\u001b[39m [missing\u001b[38;5;241m.\u001b[39mmask_missing(values, s[\u001b[38;5;241m0\u001b[39m]) \u001b[38;5;28;01mfor\u001b[39;00m s \u001b[38;5;129;01min\u001b[39;00m pairs]\n",
      "File \u001b[0;32m/opt/conda/lib/python3.10/site-packages/pandas/core/internals/blocks.py:706\u001b[0m, in \u001b[0;36m<listcomp>\u001b[0;34m(.0)\u001b[0m\n\u001b[1;32m    701\u001b[0m \u001b[38;5;28;01mif\u001b[39;00m is_string_dtype(values\u001b[38;5;241m.\u001b[39mdtype):\n\u001b[1;32m    702\u001b[0m     \u001b[38;5;66;03m# Calculate the mask once, prior to the call of comp\u001b[39;00m\n\u001b[1;32m    703\u001b[0m     \u001b[38;5;66;03m# in order to avoid repeating the same computations\u001b[39;00m\n\u001b[1;32m    704\u001b[0m     mask \u001b[38;5;241m=\u001b[39m \u001b[38;5;241m~\u001b[39misna(values)\n\u001b[1;32m    705\u001b[0m     masks \u001b[38;5;241m=\u001b[39m [\n\u001b[0;32m--> 706\u001b[0m         \u001b[43mcompare_or_regex_search\u001b[49m\u001b[43m(\u001b[49m\u001b[43mvalues\u001b[49m\u001b[43m,\u001b[49m\u001b[43m \u001b[49m\u001b[43ms\u001b[49m\u001b[43m[\u001b[49m\u001b[38;5;241;43m0\u001b[39;49m\u001b[43m]\u001b[49m\u001b[43m,\u001b[49m\u001b[43m \u001b[49m\u001b[43mregex\u001b[49m\u001b[38;5;241;43m=\u001b[39;49m\u001b[43mregex\u001b[49m\u001b[43m,\u001b[49m\u001b[43m \u001b[49m\u001b[43mmask\u001b[49m\u001b[38;5;241;43m=\u001b[39;49m\u001b[43mmask\u001b[49m\u001b[43m)\u001b[49m\n\u001b[1;32m    707\u001b[0m         \u001b[38;5;28;01mfor\u001b[39;00m s \u001b[38;5;129;01min\u001b[39;00m pairs\n\u001b[1;32m    708\u001b[0m     ]\n\u001b[1;32m    709\u001b[0m \u001b[38;5;28;01melse\u001b[39;00m:\n\u001b[1;32m    710\u001b[0m     \u001b[38;5;66;03m# GH#38086 faster if we know we dont need to check for regex\u001b[39;00m\n\u001b[1;32m    711\u001b[0m     masks \u001b[38;5;241m=\u001b[39m [missing\u001b[38;5;241m.\u001b[39mmask_missing(values, s[\u001b[38;5;241m0\u001b[39m]) \u001b[38;5;28;01mfor\u001b[39;00m s \u001b[38;5;129;01min\u001b[39;00m pairs]\n",
      "File \u001b[0;32m/opt/conda/lib/python3.10/site-packages/pandas/core/array_algos/replace.py:107\u001b[0m, in \u001b[0;36mcompare_or_regex_search\u001b[0;34m(a, b, regex, mask)\u001b[0m\n\u001b[1;32m    104\u001b[0m     _check_comparison_types(\u001b[38;5;28;01mFalse\u001b[39;00m, a, b)\n\u001b[1;32m    105\u001b[0m     \u001b[38;5;28;01mreturn\u001b[39;00m \u001b[38;5;28;01mFalse\u001b[39;00m\n\u001b[0;32m--> 107\u001b[0m result \u001b[38;5;241m=\u001b[39m \u001b[43mop\u001b[49m\u001b[43m(\u001b[49m\u001b[43ma\u001b[49m\u001b[43m)\u001b[49m\n\u001b[1;32m    109\u001b[0m \u001b[38;5;28;01mif\u001b[39;00m \u001b[38;5;28misinstance\u001b[39m(result, np\u001b[38;5;241m.\u001b[39mndarray) \u001b[38;5;129;01mand\u001b[39;00m mask \u001b[38;5;129;01mis\u001b[39;00m \u001b[38;5;129;01mnot\u001b[39;00m \u001b[38;5;28;01mNone\u001b[39;00m:\n\u001b[1;32m    110\u001b[0m     \u001b[38;5;66;03m# The shape of the mask can differ to that of the result\u001b[39;00m\n\u001b[1;32m    111\u001b[0m     \u001b[38;5;66;03m# since we may compare only a subset of a's or b's elements\u001b[39;00m\n\u001b[1;32m    112\u001b[0m     tmp \u001b[38;5;241m=\u001b[39m np\u001b[38;5;241m.\u001b[39mzeros(mask\u001b[38;5;241m.\u001b[39mshape, dtype\u001b[38;5;241m=\u001b[39mnp\u001b[38;5;241m.\u001b[39mbool_)\n",
      "File \u001b[0;32m/opt/conda/lib/python3.10/site-packages/pandas/core/array_algos/replace.py:86\u001b[0m, in \u001b[0;36mcompare_or_regex_search.<locals>.<lambda>\u001b[0;34m(x)\u001b[0m\n\u001b[1;32m     80\u001b[0m         \u001b[38;5;28;01mraise\u001b[39;00m \u001b[38;5;167;01mTypeError\u001b[39;00m(\n\u001b[1;32m     81\u001b[0m             \u001b[38;5;124mf\u001b[39m\u001b[38;5;124m\"\u001b[39m\u001b[38;5;124mCannot compare types \u001b[39m\u001b[38;5;132;01m{\u001b[39;00m\u001b[38;5;28mrepr\u001b[39m(type_names[\u001b[38;5;241m0\u001b[39m])\u001b[38;5;132;01m}\u001b[39;00m\u001b[38;5;124m and \u001b[39m\u001b[38;5;132;01m{\u001b[39;00m\u001b[38;5;28mrepr\u001b[39m(type_names[\u001b[38;5;241m1\u001b[39m])\u001b[38;5;132;01m}\u001b[39;00m\u001b[38;5;124m\"\u001b[39m\n\u001b[1;32m     82\u001b[0m         )\n\u001b[1;32m     84\u001b[0m \u001b[38;5;28;01mif\u001b[39;00m \u001b[38;5;129;01mnot\u001b[39;00m regex \u001b[38;5;129;01mor\u001b[39;00m \u001b[38;5;129;01mnot\u001b[39;00m should_use_regex(regex, b):\n\u001b[1;32m     85\u001b[0m     \u001b[38;5;66;03m# TODO: should use missing.mask_missing?\u001b[39;00m\n\u001b[0;32m---> 86\u001b[0m     op \u001b[38;5;241m=\u001b[39m \u001b[38;5;28;01mlambda\u001b[39;00m x: \u001b[43moperator\u001b[49m\u001b[38;5;241;43m.\u001b[39;49m\u001b[43meq\u001b[49m\u001b[43m(\u001b[49m\u001b[43mx\u001b[49m\u001b[43m,\u001b[49m\u001b[43m \u001b[49m\u001b[43mb\u001b[49m\u001b[43m)\u001b[49m\n\u001b[1;32m     87\u001b[0m \u001b[38;5;28;01melse\u001b[39;00m:\n\u001b[1;32m     88\u001b[0m     op \u001b[38;5;241m=\u001b[39m np\u001b[38;5;241m.\u001b[39mvectorize(\n\u001b[1;32m     89\u001b[0m         \u001b[38;5;28;01mlambda\u001b[39;00m x: \u001b[38;5;28mbool\u001b[39m(re\u001b[38;5;241m.\u001b[39msearch(b, x))\n\u001b[1;32m     90\u001b[0m         \u001b[38;5;28;01mif\u001b[39;00m \u001b[38;5;28misinstance\u001b[39m(x, \u001b[38;5;28mstr\u001b[39m) \u001b[38;5;129;01mand\u001b[39;00m \u001b[38;5;28misinstance\u001b[39m(b, (\u001b[38;5;28mstr\u001b[39m, Pattern))\n\u001b[1;32m     91\u001b[0m         \u001b[38;5;28;01melse\u001b[39;00m \u001b[38;5;28;01mFalse\u001b[39;00m\n\u001b[1;32m     92\u001b[0m     )\n",
      "\u001b[0;31mKeyboardInterrupt\u001b[0m: "
     ]
    }
   ],
   "source": [
    "'''this ALSO took more than a minute so cell killed'''\n",
    "day1Replaced = day1.replace(idDict)\n",
    "%time\n",
    "day1Replaced"
   ]
  },
  {
   "cell_type": "code",
   "execution_count": 56,
   "id": "47d4f37f-1ee1-4601-bf7c-7b328d15666c",
   "metadata": {},
   "outputs": [],
   "source": [
    "#executing before the next cell so %time will only measure the function i want to measure\n",
    "day1Replaced = day1.copy()"
   ]
  },
  {
   "cell_type": "code",
   "execution_count": null,
   "id": "698e7463-6f14-4d64-a9f1-71e9e375bafd",
   "metadata": {},
   "outputs": [],
   "source": [
    "'''THIS KILLED THE KERNEL LMAO'''\n",
    "day1Replaced['PatientId'] = day1Replaced['PatientId'].replace(idDict)\n",
    "%time\n",
    "day1Replaced"
   ]
  },
  {
   "cell_type": "markdown",
   "id": "c52d10e4-d621-4aa5-bff3-d9f7d2dd873e",
   "metadata": {},
   "source": [
    "great news running this answered the question for me.\n",
    "\n",
    "merge it is."
   ]
  },
  {
   "cell_type": "markdown",
   "id": "6f4bedd7-1609-4080-a1f3-8e047f3c910a",
   "metadata": {
    "jp-MarkdownHeadingCollapsed": true,
    "tags": []
   },
   "source": [
    "# multiple days"
   ]
  },
  {
   "cell_type": "code",
   "execution_count": null,
   "id": "b83ebec4-b7a8-43c1-bcb7-9c065bd2ba32",
   "metadata": {},
   "outputs": [],
   "source": [
    "#import the patient ID dataframe\n",
    "%time\n",
    "\n",
    "'''the index col wasn't removed before saving this csv, so repurpose it to the int ID column'''\n",
    "cohort = pd.read_csv(\"../../cephfs/data/cohort.csv\")\n",
    "cohort = cohort.rename(columns={'Unnamed: 0':'intPatientId','UserId':'PatientId'})\n",
    "\n",
    "'''check for duplicates'''\n",
    "if len(cohort['intPatientId'].unique()) != len(cohort['PatientId'].unique()) \\\n",
    "    and len(cohort['PatientId'].unique()) != cohort.shape[0]:\n",
    "    raise NameError(\"ERROR: duplicate patients found in cohort.csv file\")\n",
    "\n",
    "# cohort.to_csv(\"../../cephfs/cleanedData/cohort.csv\", index=False)\n",
    "cohort"
   ]
  },
  {
   "cell_type": "code",
   "execution_count": 17,
   "id": "6d917288-133c-4caf-98a5-39fd35020b2c",
   "metadata": {
    "collapsed": true,
    "jupyter": {
     "outputs_hidden": true
    },
    "tags": []
   },
   "outputs": [
    {
     "data": {
      "text/plain": [
       "['01',\n",
       " '02',\n",
       " '03',\n",
       " '04',\n",
       " '05',\n",
       " '06',\n",
       " '07',\n",
       " '08',\n",
       " '09',\n",
       " '10',\n",
       " '11',\n",
       " '12',\n",
       " '13',\n",
       " '14',\n",
       " '15',\n",
       " '16',\n",
       " '17',\n",
       " '18',\n",
       " '19',\n",
       " '20',\n",
       " '21',\n",
       " '22',\n",
       " '23',\n",
       " '24',\n",
       " '25',\n",
       " '26',\n",
       " '27',\n",
       " '28',\n",
       " '29',\n",
       " '30',\n",
       " '31']"
      ]
     },
     "execution_count": 17,
     "metadata": {},
     "output_type": "execute_result"
    }
   ],
   "source": [
    "'''get list of days of the month as strings to cycle through the file locations'''\n",
    "daysOfTheMonth = {1: 31,\n",
    "                  2: 28,\n",
    "                  3: 31,\n",
    "                  4: 30,\n",
    "                  5: 30,\n",
    "                  6: 31,\n",
    "                  7: 31,\n",
    "                  8: 31,\n",
    "                  9: 30,\n",
    "                  10: 31,\n",
    "                  11: 30,\n",
    "                  12: 31}\n",
    "\n",
    "# for month in range(1,13):\n",
    "month = 3\n",
    "daysNumbered = [\"01\",\"02\",\"03\",\"04\",\"05\",\"06\",\"07\",\"08\",\"09\"]\n",
    "daysNumbered += [str(i) for i in range(10,daysOfTheMonth[month]+1) ]\n",
    "daysNumbered"
   ]
  },
  {
   "cell_type": "code",
   "execution_count": null,
   "id": "7445bddf-0a22-4a71-b96e-ae3e95ac47ad",
   "metadata": {},
   "outputs": [],
   "source": [
    "#MERGE 'EM, LADS!!!!!!!!\n",
    "%time\n",
    "\n",
    "usableCols = [\"PatientId\",\"GlucoseDisplayTime\",\"Value\"]\n",
    "dataLocation = \"../../cephfs/data/glucose_records_2022-02-\"\n",
    "\n",
    "data = pd.DataFrame(columns=usableCols)\n",
    "\n",
    "for day in daysNumbered:\n",
    "    try:\n",
    "        df = pd.read_csv(dataLocation+day+\".csv\", low_memory=False, usecols=usableCols, parse_dates=['GlucoseDisplayTime'])\n",
    "    except:\n",
    "        continue\n",
    "\n",
    "    '''bonus step: dropping any rows where the PatientId or timestamp is missing'''\n",
    "    initRows = df.shape[0]\n",
    "    df = df.dropna(subset=['PatientId','GlucoseDisplayTime'], how='any')\n",
    "    print(day, \":\", initRows - df.shape[0], \"rows with missing patient ID or timestamp have been removed\")\n",
    "\n",
    "    df['GlucoseDisplayTime'] = df['GlucoseDisplayTime'].dt.floor('min') #'min' means 'minute' ('min' can be substituted with 'T' and 'Min' for literally the same effect\n",
    "\n",
    "    df = df.merge(cohort[['PatientId','intPatientId']],\n",
    "                             how = \"inner\",\n",
    "                             on = \"PatientId\") \\\n",
    "            .drop(columns=\"PatientId\") \\\n",
    "            .rename(columns={'intPatientId':'PatientId'})\n",
    "    df = df[['PatientId','GlucoseDisplayTime','Value']] #reorder columns for aesthetics\n",
    "    #maybe right merge? it'd eliminate any day1.PatientId's that don't appear in cohort.csv ?\n",
    "\n",
    "    data = pd.concat([data, df], ignore_index=True)"
   ]
  },
  {
   "cell_type": "code",
   "execution_count": 2,
   "id": "a0e1b2e3-0ed1-4052-a387-a6dca4aa9ca0",
   "metadata": {},
   "outputs": [
    {
     "name": "stdout",
     "output_type": "stream",
     "text": [
      "<class 'pandas.core.frame.DataFrame'>\n",
      "RangeIndex: 49217137 entries, 0 to 49217136\n",
      "Data columns (total 3 columns):\n",
      " #   Column              Dtype         \n",
      "---  ------              -----         \n",
      " 0   PatientId           int64         \n",
      " 1   GlucoseDisplayTime  datetime64[ns]\n",
      " 2   Value               int64         \n",
      "dtypes: datetime64[ns](1), int64(2)\n",
      "memory usage: 1.1 GB\n",
      "CPU times: user 21.9 s, sys: 3.01 s, total: 24.9 s\n",
      "Wall time: 14min 45s\n"
     ]
    }
   ],
   "source": [
    "%%time\n",
    "# data.to_csv(\"../../cephfs/cleanedData/2022-02 temp.csv\", index=False)\n",
    "data = pd.read_csv(\"../../cephfs/cleanedData/2022-02 temp.csv\", low_memory=False, parse_dates=['GlucoseDisplayTime'])\n",
    "data.info(show_counts=True)"
   ]
  },
  {
   "cell_type": "code",
   "execution_count": 4,
   "id": "72b6ae58-dc19-4501-a500-6f81039888df",
   "metadata": {},
   "outputs": [
    {
     "name": "stdout",
     "output_type": "stream",
     "text": [
      "<class 'pandas.core.frame.DataFrame'>\n",
      "RangeIndex: 49217137 entries, 0 to 49217136\n",
      "Data columns (total 3 columns):\n",
      " #   Column              Non-Null Count     Dtype         \n",
      "---  ------              --------------     -----         \n",
      " 0   PatientId           49217137 non-null  int64         \n",
      " 1   GlucoseDisplayTime  49217137 non-null  datetime64[ns]\n",
      " 2   Value               49217137 non-null  int64         \n",
      "dtypes: datetime64[ns](1), int64(2)\n",
      "memory usage: 1.1 GB\n"
     ]
    }
   ],
   "source": [
    "data.info(show_counts=True)"
   ]
  },
  {
   "cell_type": "code",
   "execution_count": 12,
   "id": "b4e5fb77-7fc5-42f0-b92a-b64e401ec260",
   "metadata": {},
   "outputs": [
    {
     "data": {
      "text/plain": [
       "array([datetime.date(2022, 2, 1), datetime.date(2022, 1, 31),\n",
       "       datetime.date(2022, 1, 28), datetime.date(2022, 1, 29),\n",
       "       datetime.date(2022, 1, 30), datetime.date(2022, 1, 23),\n",
       "       datetime.date(2022, 1, 27), datetime.date(2022, 1, 26),\n",
       "       datetime.date(2022, 1, 16), datetime.date(2022, 1, 14),\n",
       "       datetime.date(2022, 1, 21), datetime.date(2022, 1, 11),\n",
       "       datetime.date(2022, 1, 12), datetime.date(2022, 1, 18),\n",
       "       datetime.date(2022, 1, 15), datetime.date(2022, 1, 20),\n",
       "       datetime.date(2022, 1, 25), datetime.date(2022, 1, 24),\n",
       "       datetime.date(2022, 1, 17), datetime.date(2022, 1, 13),\n",
       "       datetime.date(2022, 1, 22), datetime.date(2022, 1, 19),\n",
       "       datetime.date(2022, 1, 10), datetime.date(2022, 2, 2),\n",
       "       datetime.date(2022, 1, 4), datetime.date(2022, 2, 3),\n",
       "       datetime.date(2022, 1, 6), datetime.date(2021, 12, 14),\n",
       "       datetime.date(2021, 11, 23), datetime.date(2022, 2, 4),\n",
       "       datetime.date(2022, 2, 5), datetime.date(2022, 1, 3),\n",
       "       datetime.date(2022, 1, 5), datetime.date(2022, 1, 7),\n",
       "       datetime.date(2022, 1, 8), datetime.date(2022, 1, 9),\n",
       "       datetime.date(2021, 12, 30), datetime.date(2022, 1, 1),\n",
       "       datetime.date(2021, 11, 6), datetime.date(2022, 2, 6),\n",
       "       datetime.date(2022, 1, 2), datetime.date(2022, 2, 7),\n",
       "       datetime.date(2021, 12, 22), datetime.date(2022, 2, 8),\n",
       "       datetime.date(2022, 2, 9), datetime.date(2022, 2, 10),\n",
       "       datetime.date(2021, 11, 18), datetime.date(2022, 2, 11),\n",
       "       datetime.date(2021, 12, 28), datetime.date(2021, 12, 15),\n",
       "       datetime.date(2022, 2, 12), datetime.date(2021, 3, 9),\n",
       "       datetime.date(2022, 2, 13), datetime.date(2022, 2, 14),\n",
       "       datetime.date(2022, 2, 15), datetime.date(2021, 10, 1),\n",
       "       datetime.date(2022, 2, 16), datetime.date(2022, 2, 17),\n",
       "       datetime.date(2021, 12, 16), datetime.date(2022, 2, 18),\n",
       "       datetime.date(2022, 2, 19), datetime.date(2021, 12, 31),\n",
       "       datetime.date(2021, 12, 25), datetime.date(2021, 12, 24),\n",
       "       datetime.date(2022, 2, 20), datetime.date(2022, 2, 21),\n",
       "       datetime.date(2022, 2, 22), datetime.date(2022, 2, 23),\n",
       "       datetime.date(2021, 12, 26), datetime.date(2022, 2, 24),\n",
       "       datetime.date(2022, 2, 25), datetime.date(2022, 2, 26),\n",
       "       datetime.date(2022, 2, 27), datetime.date(2021, 10, 3),\n",
       "       datetime.date(2022, 2, 28), datetime.date(2022, 3, 1)],\n",
       "      dtype=object)"
      ]
     },
     "execution_count": 12,
     "metadata": {},
     "output_type": "execute_result"
    }
   ],
   "source": [
    "# df = pd.read_csv(\"../../cephfs/data/glucose_records_2022-04-10.csv\", low_memory=False, usecols=usableCols, parse_dates=['GlucoseDisplayTime'])\n",
    "data['GlucoseDisplayTime'].dt.date.unique()"
   ]
  },
  {
   "cell_type": "code",
   "execution_count": 13,
   "id": "c1bd777a-81fe-43eb-a15d-37d1fe3710f3",
   "metadata": {},
   "outputs": [
    {
     "name": "stderr",
     "output_type": "stream",
     "text": [
      "/tmp/ipykernel_219/3753550574.py:1: FutureWarning: Comparison of Timestamp with datetime.date is deprecated in order to match the standard library behavior. In a future version these will be considered non-comparable. Use 'ts == pd.Timestamp(date)' or 'ts.date() == date' instead.\n",
      "  data = data[data['GlucoseDisplayTime'].dt.date >= pd.Timestamp(year=2022, month=2, day=1)]\n"
     ]
    },
    {
     "data": {
      "text/plain": [
       "array([datetime.date(2022, 2, 1), datetime.date(2022, 2, 2),\n",
       "       datetime.date(2022, 2, 3), datetime.date(2022, 2, 4),\n",
       "       datetime.date(2022, 2, 5), datetime.date(2022, 2, 6),\n",
       "       datetime.date(2022, 2, 7), datetime.date(2022, 2, 8),\n",
       "       datetime.date(2022, 2, 9), datetime.date(2022, 2, 10),\n",
       "       datetime.date(2022, 2, 11), datetime.date(2022, 2, 12),\n",
       "       datetime.date(2022, 2, 13), datetime.date(2022, 2, 14),\n",
       "       datetime.date(2022, 2, 15), datetime.date(2022, 2, 16),\n",
       "       datetime.date(2022, 2, 17), datetime.date(2022, 2, 18),\n",
       "       datetime.date(2022, 2, 19), datetime.date(2022, 2, 20),\n",
       "       datetime.date(2022, 2, 21), datetime.date(2022, 2, 22),\n",
       "       datetime.date(2022, 2, 23), datetime.date(2022, 2, 24),\n",
       "       datetime.date(2022, 2, 25), datetime.date(2022, 2, 26),\n",
       "       datetime.date(2022, 2, 27), datetime.date(2022, 2, 28),\n",
       "       datetime.date(2022, 3, 1)], dtype=object)"
      ]
     },
     "execution_count": 13,
     "metadata": {},
     "output_type": "execute_result"
    }
   ],
   "source": [
    "'''only wanted to do this for the first month (feb 2022) to get rid of jan 2022 and 2021 data'''\n",
    "data = data[data['GlucoseDisplayTime'].dt.date >= pd.Timestamp(year=2022, month=2, day=1)]\n",
    "data['GlucoseDisplayTime'].dt.date.unique()"
   ]
  },
  {
   "cell_type": "code",
   "execution_count": 6,
   "id": "51243b42-c246-40ae-aca0-fee162b3b20e",
   "metadata": {},
   "outputs": [
    {
     "data": {
      "text/html": [
       "<div>\n",
       "<style scoped>\n",
       "    .dataframe tbody tr th:only-of-type {\n",
       "        vertical-align: middle;\n",
       "    }\n",
       "\n",
       "    .dataframe tbody tr th {\n",
       "        vertical-align: top;\n",
       "    }\n",
       "\n",
       "    .dataframe thead th {\n",
       "        text-align: right;\n",
       "    }\n",
       "</style>\n",
       "<table border=\"1\" class=\"dataframe\">\n",
       "  <thead>\n",
       "    <tr style=\"text-align: right;\">\n",
       "      <th></th>\n",
       "      <th>PatientId</th>\n",
       "      <th>GlucoseDisplayTime</th>\n",
       "      <th>Value</th>\n",
       "    </tr>\n",
       "  </thead>\n",
       "  <tbody>\n",
       "    <tr>\n",
       "      <th>0</th>\n",
       "      <td>1560</td>\n",
       "      <td>2022-02-01 14:45:00</td>\n",
       "      <td>0</td>\n",
       "    </tr>\n",
       "    <tr>\n",
       "      <th>1</th>\n",
       "      <td>1560</td>\n",
       "      <td>2022-02-01 04:15:00</td>\n",
       "      <td>155</td>\n",
       "    </tr>\n",
       "    <tr>\n",
       "      <th>2</th>\n",
       "      <td>1560</td>\n",
       "      <td>2022-02-01 06:45:00</td>\n",
       "      <td>114</td>\n",
       "    </tr>\n",
       "    <tr>\n",
       "      <th>3</th>\n",
       "      <td>1560</td>\n",
       "      <td>2022-02-01 12:15:00</td>\n",
       "      <td>207</td>\n",
       "    </tr>\n",
       "    <tr>\n",
       "      <th>4</th>\n",
       "      <td>1560</td>\n",
       "      <td>2022-02-01 01:00:00</td>\n",
       "      <td>187</td>\n",
       "    </tr>\n",
       "    <tr>\n",
       "      <th>...</th>\n",
       "      <td>...</td>\n",
       "      <td>...</td>\n",
       "      <td>...</td>\n",
       "    </tr>\n",
       "    <tr>\n",
       "      <th>49217132</th>\n",
       "      <td>6463</td>\n",
       "      <td>2022-02-27 10:42:00</td>\n",
       "      <td>169</td>\n",
       "    </tr>\n",
       "    <tr>\n",
       "      <th>49217133</th>\n",
       "      <td>6463</td>\n",
       "      <td>2022-02-27 11:02:00</td>\n",
       "      <td>157</td>\n",
       "    </tr>\n",
       "    <tr>\n",
       "      <th>49217134</th>\n",
       "      <td>6463</td>\n",
       "      <td>2022-02-27 10:52:00</td>\n",
       "      <td>172</td>\n",
       "    </tr>\n",
       "    <tr>\n",
       "      <th>49217135</th>\n",
       "      <td>6463</td>\n",
       "      <td>2022-02-27 10:47:00</td>\n",
       "      <td>171</td>\n",
       "    </tr>\n",
       "    <tr>\n",
       "      <th>49217136</th>\n",
       "      <td>6463</td>\n",
       "      <td>2022-02-27 10:57:00</td>\n",
       "      <td>171</td>\n",
       "    </tr>\n",
       "  </tbody>\n",
       "</table>\n",
       "<p>49217137 rows × 3 columns</p>\n",
       "</div>"
      ],
      "text/plain": [
       "          PatientId  GlucoseDisplayTime  Value\n",
       "0              1560 2022-02-01 14:45:00      0\n",
       "1              1560 2022-02-01 04:15:00    155\n",
       "2              1560 2022-02-01 06:45:00    114\n",
       "3              1560 2022-02-01 12:15:00    207\n",
       "4              1560 2022-02-01 01:00:00    187\n",
       "...             ...                 ...    ...\n",
       "49217132       6463 2022-02-27 10:42:00    169\n",
       "49217133       6463 2022-02-27 11:02:00    157\n",
       "49217134       6463 2022-02-27 10:52:00    172\n",
       "49217135       6463 2022-02-27 10:47:00    171\n",
       "49217136       6463 2022-02-27 10:57:00    171\n",
       "\n",
       "[49217137 rows x 3 columns]"
      ]
     },
     "execution_count": 6,
     "metadata": {},
     "output_type": "execute_result"
    }
   ],
   "source": [
    "data"
   ]
  },
  {
   "cell_type": "code",
   "execution_count": 15,
   "id": "f9c01696-97ae-48f0-9fd0-befd551b241f",
   "metadata": {},
   "outputs": [],
   "source": [
    "data.to_csv(\"../../cephfs/cleanedData/2022-02 temp.csv\", index=False)"
   ]
  },
  {
   "cell_type": "markdown",
   "id": "42a03cb3-0b5b-4198-9d87-73ec5287b768",
   "metadata": {},
   "source": [
    "# 100 patients"
   ]
  },
  {
   "cell_type": "code",
   "execution_count": null,
   "id": "581fe59c-3120-4db9-b935-59961f787f03",
   "metadata": {},
   "outputs": [],
   "source": [
    "data = pd.read_csv(\"../../cephfs/cleanedData/2022-02 temp.csv\", low_memory=False, parse_dates=['GlucoseDisplayTime'])"
   ]
  },
  {
   "cell_type": "code",
   "execution_count": null,
   "id": "c2e9c947-0f82-465c-9e21-23e97bbd8333",
   "metadata": {
    "tags": []
   },
   "outputs": [],
   "source": [
    "cohort = pd.read_csv(\"../../cephfs/cleanedData/cohort.csv\")\n",
    "cohort"
   ]
  },
  {
   "cell_type": "code",
   "execution_count": 16,
   "id": "92274188-aca7-491c-80f4-654141b64564",
   "metadata": {
    "tags": []
   },
   "outputs": [
    {
     "name": "stdout",
     "output_type": "stream",
     "text": [
      "        intPatientId  PatientId   DOB   Age  DiabetesType  Treatment\n",
      "Gender                                                              \n",
      "Female          4000       4000  4000  4000          4000       4000\n",
      "Male            4000       4000  4000  4000          4000       4000 \n",
      "\n",
      "                 intPatientId  PatientId  Gender   DOB   Age  DiabetesType\n",
      "Treatment                                                                 \n",
      "no                       1178       1178    1178  1178  1178          1178\n",
      "yes-both                 4895       4895    4895  4895  4895          4895\n",
      "yes-fast-acting           713        713     713   713   713           713\n",
      "yes-long-acting          1214       1214    1214  1214  1214          1214 \n",
      "\n",
      "     intPatientId  PatientId  Gender  DOB  DiabetesType  Treatment\n",
      "Age                                                               \n",
      "30             22         22      22   22            22         22\n",
      "31             23         23      23   23            23         23\n",
      "32             23         23      23   23            23         23\n",
      "33             25         25      25   25            25         25\n",
      "34             40         40      40   40            40         40\n",
      "..            ...        ...     ...  ...           ...        ...\n",
      "96              1          1       1    1             1          1\n",
      "97              1          1       1    1             1          1\n",
      "98              1          1       1    1             1          1\n",
      "102             1          1       1    1             1          1\n",
      "121             1          1       1    1             1          1\n",
      "\n",
      "[71 rows x 6 columns] \n",
      "\n"
     ]
    }
   ],
   "source": [
    "for c in ['Gender','Treatment','Age']:\n",
    "    print(cohort.groupby(c).count(),\"\\n\")"
   ]
  },
  {
   "cell_type": "raw",
   "id": "ec3b1eb4-1b6d-41d9-aacf-23f26a1d5034",
   "metadata": {},
   "source": [
    "50 female\n",
    "50 male\n",
    "\n",
    "15 no treatment\n",
    "61 yes-both treatment\n",
    "9 yes-fast-acting treatment\n",
    "15 yes-long-acting treatment"
   ]
  },
  {
   "cell_type": "code",
   "execution_count": 20,
   "id": "afdff41a-1626-4efd-b339-7accb9e8ebf5",
   "metadata": {
    "tags": []
   },
   "outputs": [
    {
     "name": "stdout",
     "output_type": "stream",
     "text": [
      "14.725\n",
      "61.18749999999999\n",
      "8.9125\n",
      "15.174999999999999\n"
     ]
    }
   ],
   "source": [
    "treatmentRates = [1178/8000, 4895/8000, 713/8000, 1214/8000]\n",
    "for i in treatmentRates:\n",
    "    print(i*100)"
   ]
  },
  {
   "cell_type": "code",
   "execution_count": null,
   "id": "7eb456a1-f0a2-4bcc-840a-7b445e5ef142",
   "metadata": {},
   "outputs": [],
   "source": []
  }
 ],
 "metadata": {
  "kernelspec": {
   "display_name": "Python 3 (ipykernel)",
   "language": "python",
   "name": "python3"
  },
  "language_info": {
   "codemirror_mode": {
    "name": "ipython",
    "version": 3
   },
   "file_extension": ".py",
   "mimetype": "text/x-python",
   "name": "python",
   "nbconvert_exporter": "python",
   "pygments_lexer": "ipython3",
   "version": "3.10.9"
  }
 },
 "nbformat": 4,
 "nbformat_minor": 5
}
