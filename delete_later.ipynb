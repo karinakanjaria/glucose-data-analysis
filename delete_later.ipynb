{
 "cells": [
  {
   "cell_type": "code",
   "execution_count": null,
   "id": "77a1ff94-8b89-410f-b778-d83999af578d",
   "metadata": {
    "tags": []
   },
   "outputs": [],
   "source": [
    "! pip install xgboost\n",
    "! pip install pandas\n",
    "! pip install scikit-learn\n",
    "! pip install pyarrow"
   ]
  },
  {
   "cell_type": "code",
   "execution_count": 1,
   "id": "2019c699-b90a-42d3-9bb4-0afc34783866",
   "metadata": {
    "tags": []
   },
   "outputs": [],
   "source": [
    "################################ Libraries ################################\n",
    "from Input_Variables.read_vars import xgboost_regression_model_storage_location, \\\n",
    "                                      linear_regression_model_storage_location, \\\n",
    "                                      random_forest_regression_model_storage_location, \\\n",
    "                                      factorization_machines_regression_model_storage, \\\n",
    "                                      random_seed"
   ]
  },
  {
   "cell_type": "code",
   "execution_count": 2,
   "id": "c057e209-3055-4e27-9c06-203402484156",
   "metadata": {
    "tags": []
   },
   "outputs": [],
   "source": [
    "################################ Regression Models ################################\n",
    "regression_models_storage_locations=[xgboost_regression_model_storage_location, \n",
    "                                     linear_regression_model_storage_location,\n",
    "                                     random_forest_regression_model_storage_location,\n",
    "                                     factorization_machines_regression_model_storage]"
   ]
  },
  {
   "cell_type": "code",
   "execution_count": null,
   "id": "33201d07-a15b-4adb-b49e-af7ab479e41d",
   "metadata": {},
   "outputs": [],
   "source": []
  },
  {
   "cell_type": "code",
   "execution_count": 3,
   "id": "78b61b19-fd0c-44a2-b756-d674629e8f33",
   "metadata": {
    "tags": []
   },
   "outputs": [],
   "source": [
    "from xgboost.spark import SparkXGBRegressor\n",
    "from pyspark.ml.regression import LinearRegression\n",
    "from pyspark.ml.regression import RandomForestRegressor\n",
    "from pyspark.ml.regression import FMRegressor"
   ]
  },
  {
   "cell_type": "code",
   "execution_count": 4,
   "id": "ea5567c6-4924-4f73-b2bc-7679e8238c08",
   "metadata": {
    "tags": []
   },
   "outputs": [],
   "source": [
    "features_col=\"features\"\n",
    "label_name=\"DiffPrevious\""
   ]
  },
  {
   "cell_type": "code",
   "execution_count": 5,
   "id": "ac483edd-bbd0-4f1a-85d4-ee00ee1be2f8",
   "metadata": {
    "tags": []
   },
   "outputs": [],
   "source": [
    "model_mapping={'XGBoost': 1,\n",
    "               'Linear_Regression': 2, \n",
    "               'Random_Forest_Regression': 3, \n",
    "               'Factorization_Machines_Regression': 4\n",
    "              }"
   ]
  },
  {
   "cell_type": "code",
   "execution_count": null,
   "id": "fff37957-7d8b-4a6c-b9a2-b365bd828e0d",
   "metadata": {
    "tags": []
   },
   "outputs": [],
   "source": [
    "model_mapping={'XGBoost': SparkXGBRegressor(features_col=features_col, \n",
    "                                            label_col=label_name,\n",
    "                                            random_state=random_seed,\n",
    "                                            use_gpu=True),\n",
    "               'Linear_Regression': LinearRegression(featuresCol=features_col, \n",
    "                                                     labelCol=label_name, \n",
    "                                                     standardization=False), \n",
    "               'Random_Forest_Regression': RandomForestRegressor(featuresCol=features_col, \n",
    "                                                                 labelCol=label_name), \n",
    "               'Factorization_Machines_Regression': FMRegressor(featuresCol=features_col, \n",
    "                                                                labelCol=label_name)\n",
    "              }\n",
    "               "
   ]
  },
  {
   "cell_type": "code",
   "execution_count": 6,
   "id": "f3aa95c7-089f-4f01-98ef-4e68bc36da07",
   "metadata": {
    "tags": []
   },
   "outputs": [
    {
     "data": {
      "text/plain": [
       "['/cephfs/Saved_Models/No_Hyperparameter_Tuning/Regression/XGBoost',\n",
       " '/cephfs/Saved_Models/No_Hyperparameter_Tuning/Regression/Linear_Regression',\n",
       " '/cephfs/Saved_Models/No_Hyperparameter_Tuning/Regression/Random_Forest_Regression',\n",
       " '/cephfs/Saved_Models/No_Hyperparameter_Tuning/Regression/Factorization_Machines_Regression']"
      ]
     },
     "execution_count": 6,
     "metadata": {},
     "output_type": "execute_result"
    }
   ],
   "source": [
    "regression_models_storage_locations"
   ]
  },
  {
   "cell_type": "code",
   "execution_count": 18,
   "id": "6e1d9f5d-05e6-48d9-a624-dd38f4314235",
   "metadata": {
    "tags": []
   },
   "outputs": [
    {
     "data": {
      "text/plain": [
       "1"
      ]
     },
     "execution_count": 18,
     "metadata": {},
     "output_type": "execute_result"
    }
   ],
   "source": [
    "model_mapping['XGBoost']"
   ]
  },
  {
   "cell_type": "code",
   "execution_count": 13,
   "id": "b95f5fa1-9bf2-4f59-987a-69ce62abdf62",
   "metadata": {
    "tags": []
   },
   "outputs": [
    {
     "data": {
      "text/plain": [
       "['XGBoost',\n",
       " 'Linear_Regression',\n",
       " 'Random_Forest_Regression',\n",
       " 'Factorization_Machines_Regression']"
      ]
     },
     "execution_count": 13,
     "metadata": {},
     "output_type": "execute_result"
    }
   ],
   "source": [
    "list(model_mapping.keys())"
   ]
  },
  {
   "cell_type": "code",
   "execution_count": 14,
   "id": "2b7c2c1f-7d96-4064-915a-6fe4a92abfa1",
   "metadata": {
    "tags": []
   },
   "outputs": [],
   "source": [
    "temp = '\\t'.join(regression_models_storage_locations)"
   ]
  },
  {
   "cell_type": "code",
   "execution_count": 15,
   "id": "6f1e6754-a742-49e4-bcba-f4def90326b5",
   "metadata": {
    "tags": []
   },
   "outputs": [
    {
     "data": {
      "text/plain": [
       "'/cephfs/Saved_Models/No_Hyperparameter_Tuning/Regression/XGBoost\\t/cephfs/Saved_Models/No_Hyperparameter_Tuning/Regression/Linear_Regression\\t/cephfs/Saved_Models/No_Hyperparameter_Tuning/Regression/Random_Forest_Regression\\t/cephfs/Saved_Models/No_Hyperparameter_Tuning/Regression/Factorization_Machines_Regression'"
      ]
     },
     "execution_count": 15,
     "metadata": {},
     "output_type": "execute_result"
    }
   ],
   "source": [
    "temp"
   ]
  },
  {
   "cell_type": "code",
   "execution_count": null,
   "id": "7bc46d11-5aa4-484c-9084-843d1f4e7275",
   "metadata": {},
   "outputs": [],
   "source": []
  },
  {
   "cell_type": "code",
   "execution_count": 17,
   "id": "2dbdb967-bd5d-4cf1-84b5-c85f487abd9f",
   "metadata": {
    "tags": []
   },
   "outputs": [
    {
     "data": {
      "text/plain": [
       "False"
      ]
     },
     "execution_count": 17,
     "metadata": {},
     "output_type": "execute_result"
    }
   ],
   "source": [
    "'Carlos' in temp"
   ]
  },
  {
   "cell_type": "code",
   "execution_count": null,
   "id": "f06e2a75-d8e0-4db8-b472-ca2ea056b186",
   "metadata": {},
   "outputs": [],
   "source": []
  },
  {
   "cell_type": "code",
   "execution_count": null,
   "id": "24df8223-1a81-48fa-9e34-d24c5f98f6f4",
   "metadata": {
    "tags": []
   },
   "outputs": [],
   "source": [
    "model_types=['XGBoost', 'Linear_Regression', 'Random_Forest_Regression', 'Factorization_Machines_Regression']"
   ]
  },
  {
   "cell_type": "code",
   "execution_count": null,
   "id": "01f2360b-b923-4afd-aa4a-a2edf81b9231",
   "metadata": {},
   "outputs": [],
   "source": [
    "empty_dict={}\n",
    "\n",
    "for model_selection in model_types:\n",
    "    for model_location in regression_models_storage_locations_storage_locations:\n",
    "        if model_selection in model_location:\n",
    "            \n",
    "        "
   ]
  },
  {
   "cell_type": "code",
   "execution_count": null,
   "id": "678f669f-a0d6-4203-bc9b-7135c9ea6432",
   "metadata": {},
   "outputs": [],
   "source": []
  },
  {
   "cell_type": "code",
   "execution_count": null,
   "id": "90e5a7e1-ce63-4fec-8dad-8ee365ac2215",
   "metadata": {
    "tags": []
   },
   "outputs": [],
   "source": [
    "for model_type in regression_models_storage_locations:\n",
    "    print(model_type)"
   ]
  },
  {
   "cell_type": "code",
   "execution_count": null,
   "id": "f587af11-414a-4be4-a2df-f5938bba187f",
   "metadata": {
    "tags": []
   },
   "outputs": [],
   "source": [
    "'XGBoost' in regression_models_storage_locations[0]"
   ]
  },
  {
   "cell_type": "code",
   "execution_count": null,
   "id": "4ca7467c-57b6-4968-b86b-a469e78c2483",
   "metadata": {
    "tags": []
   },
   "outputs": [],
   "source": [
    "index = [idx for idx, s in enumerate(regression_models_storage_locations) if 'Linear_Regression' in s]"
   ]
  },
  {
   "cell_type": "code",
   "execution_count": null,
   "id": "3b8a5f79-08ad-4d7a-991c-420431869598",
   "metadata": {
    "tags": []
   },
   "outputs": [],
   "source": [
    "index"
   ]
  },
  {
   "cell_type": "code",
   "execution_count": null,
   "id": "0bf749df-1d10-48bd-8f49-46a01158f14e",
   "metadata": {},
   "outputs": [],
   "source": [
    "for va"
   ]
  },
  {
   "cell_type": "code",
   "execution_count": null,
   "id": "32f9879a-4783-41fc-9c88-b491faafa055",
   "metadata": {},
   "outputs": [],
   "source": [
    "model_mapping_dict={}"
   ]
  },
  {
   "cell_type": "code",
   "execution_count": null,
   "id": "f23d1ee4-b576-43a5-b699-51f3254fd84d",
   "metadata": {},
   "outputs": [],
   "source": []
  },
  {
   "cell_type": "code",
   "execution_count": 20,
   "id": "08b925e4-0c09-455b-9572-c1d5977fa049",
   "metadata": {
    "tags": []
   },
   "outputs": [
    {
     "name": "stdout",
     "output_type": "stream",
     "text": [
      "Original list:  ['Geeks', 'For', 'Geeks']\n",
      "New list :  ['Geeks', 'For']\n"
     ]
    }
   ],
   "source": [
    "li = [\"Geeks\", \"For\", \"Geeks\"]\n",
    "print(\"Original list: \", li)\n",
    "\n",
    "# call the pop function\n",
    "# ele stores the last element\n",
    "# popped (\"Geeks\" in this case)\n",
    "li.pop()\n",
    "\n",
    "# print the updated list\n",
    "print(\"New list : \", li)\n"
   ]
  },
  {
   "cell_type": "code",
   "execution_count": null,
   "id": "782f8ec0-b431-4266-85ca-7ff2a9ce835a",
   "metadata": {},
   "outputs": [],
   "source": []
  },
  {
   "cell_type": "code",
   "execution_count": null,
   "id": "2e14fb03-7c0b-420d-be89-53d51928d68e",
   "metadata": {},
   "outputs": [],
   "source": []
  }
 ],
 "metadata": {
  "kernelspec": {
   "display_name": "glucose-venv",
   "language": "python",
   "name": "glucose-venv"
  },
  "language_info": {
   "codemirror_mode": {
    "name": "ipython",
    "version": 3
   },
   "file_extension": ".py",
   "mimetype": "text/x-python",
   "name": "python",
   "nbconvert_exporter": "python",
   "pygments_lexer": "ipython3",
   "version": "3.10.10"
  }
 },
 "nbformat": 4,
 "nbformat_minor": 5
}
