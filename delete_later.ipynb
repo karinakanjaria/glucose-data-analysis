{
 "cells": [
  {
   "cell_type": "code",
   "execution_count": 1,
   "id": "eb009577-2a0a-46f1-8ecd-9d3a9ec8f48f",
   "metadata": {
    "tags": []
   },
   "outputs": [],
   "source": [
    "import pyspark\n",
    "from pyspark.sql import SparkSession"
   ]
  },
  {
   "cell_type": "code",
   "execution_count": 2,
   "id": "24c1de89-771a-40b7-b71b-914fbe2cb9ea",
   "metadata": {
    "tags": []
   },
   "outputs": [
    {
     "name": "stderr",
     "output_type": "stream",
     "text": [
      "Setting default log level to \"WARN\".\n",
      "To adjust logging level use sc.setLogLevel(newLevel). For SparkR, use setLogLevel(newLevel).\n"
     ]
    },
    {
     "name": "stdout",
     "output_type": "stream",
     "text": [
      "23/05/16 21:34:13 WARN NativeCodeLoader: Unable to load native-hadoop library for your platform... using builtin-java classes where applicable\n"
     ]
    }
   ],
   "source": [
    "spark = SparkSession.builder.appName(\"check_files\").getOrCreate()"
   ]
  },
  {
   "cell_type": "code",
   "execution_count": 3,
   "id": "7bbdd69f-dd5a-42f1-bb62-05465476bb0e",
   "metadata": {
    "tags": []
   },
   "outputs": [],
   "source": [
    "data_location1='/cephfs/summary_stats/train/summary_stats_parquet_164_25.parquet'\n",
    "data_location2='/cephfs/summary_stats/train/summary_stats_parquet_33_45.parquet'\n",
    "data_location3='/cephfs/summary_stats/train/summary_stats_parquet_5_25.parquet'"
   ]
  },
  {
   "cell_type": "code",
   "execution_count": 4,
   "id": "3d2d459d-4b12-4343-ac03-20a51cebf971",
   "metadata": {
    "tags": []
   },
   "outputs": [
    {
     "name": "stdout",
     "output_type": "stream",
     "text": [
      "+-----+-----+------------------+------------------+---------+-----+-----+--------------------+--------------------+------------------+-----------------+----------+----------+---------------+------+\n",
      "|NumId|Chunk|              Mean|            StdDev|   Median|  Min|  Max|        AvgFirstDiff|          AvgSecDiff|      StdFirstDiff|       StdSecDiff|CountAbove|CountBelow|TotalOutOfRange|target|\n",
      "+-----+-----+------------------+------------------+---------+-----+-----+--------------------+--------------------+------------------+-----------------+----------+----------+---------------+------+\n",
      "|  113|    1|247.77375030517578|32.229656246101904|    235.0|215.0|335.0| 0.05238744947645399| 0.11835967169867621| 32.35201916285883|54.46174867696771|        77|         0|             77|    13|\n",
      "|  113|    2| 222.4494400024414|27.724493105956014|221.91241|147.0|297.0|-0.05238744947645399|-0.12530411614312065|28.249610219199937|50.95378506373618|        27|         0|             27|    50|\n",
      "+-----+-----+------------------+------------------+---------+-----+-----+--------------------+--------------------+------------------+-----------------+----------+----------+---------------+------+\n",
      "only showing top 2 rows\n",
      "\n"
     ]
    }
   ],
   "source": [
    "summary_stats_data1 = spark.read \\\n",
    "                       .format('parquet') \\\n",
    "                       .load(data_location1)\n",
    "summary_stats_data1.show(2)"
   ]
  },
  {
   "cell_type": "code",
   "execution_count": 5,
   "id": "e0b09d1e-2e86-4e47-b68a-2254678195cd",
   "metadata": {
    "tags": []
   },
   "outputs": [
    {
     "name": "stdout",
     "output_type": "stream",
     "text": [
      "+-----+-----+------------------+-----------------+--------+----+-----+------------------+------------------+------------------+------------------+----------+----------+---------------+------+\n",
      "|NumId|Chunk|              Mean|           StdDev|  Median| Min|  Max|      AvgFirstDiff|        AvgSecDiff|      StdFirstDiff|        StdSecDiff|CountAbove|CountBelow|TotalOutOfRange|target|\n",
      "+-----+-----+------------------+-----------------+--------+----+-----+------------------+------------------+------------------+------------------+----------+----------+---------------+------+\n",
      "| 6845|    1|156.73389222886829|35.07964064345712|157.1052|88.0|234.0|0.2364763683742947|0.2364763683742947|29.466192049624738|51.339785811093364|        57|         0|             57|   -39|\n",
      "| 6845|    2|162.50344488355847|  37.689329014654|157.1052|75.0|253.0|               0.0|               0.0|31.447861892883804|53.441584989197956|        71|         0|             71|   -14|\n",
      "+-----+-----+------------------+-----------------+--------+----+-----+------------------+------------------+------------------+------------------+----------+----------+---------------+------+\n",
      "only showing top 2 rows\n",
      "\n"
     ]
    }
   ],
   "source": [
    "summary_stats_data2 = spark.read \\\n",
    "                       .format('parquet') \\\n",
    "                       .load(data_location2)\n",
    "summary_stats_data2.show(2)"
   ]
  },
  {
   "cell_type": "code",
   "execution_count": 6,
   "id": "9130b70e-a103-4c80-b431-923af6b6dd55",
   "metadata": {
    "tags": []
   },
   "outputs": [
    {
     "name": "stdout",
     "output_type": "stream",
     "text": [
      "+-----+-----+------------------+------------------+---------+----+-----+------------------+--------------------+------------------+-----------------+----------+----------+---------------+------+\n",
      "|NumId|Chunk|              Mean|            StdDev|   Median| Min|  Max|      AvgFirstDiff|          AvgSecDiff|      StdFirstDiff|       StdSecDiff|CountAbove|CountBelow|TotalOutOfRange|target|\n",
      "+-----+-----+------------------+------------------+---------+----+-----+------------------+--------------------+------------------+-----------------+----------+----------+---------------+------+\n",
      "| 2292|    1|131.80196205774942| 22.60128369120618|142.59172|77.0|188.0|          -0.09375|-0.00836208131578...| 23.91531118338025|41.27624886837039|         7|         0|              7|     7|\n",
      "| 2292|    2| 135.1614498032464|28.434019418964823|142.59172|75.0|222.0|0.3611111111111111|0.003472222222222222|24.331573076589052|41.81244398292912|        23|         0|             23|   -16|\n",
      "+-----+-----+------------------+------------------+---------+----+-----+------------------+--------------------+------------------+-----------------+----------+----------+---------------+------+\n",
      "only showing top 2 rows\n",
      "\n"
     ]
    }
   ],
   "source": [
    "summary_stats_data3 = spark.read \\\n",
    "                       .format('parquet') \\\n",
    "                       .load(data_location3)\n",
    "summary_stats_data3.show(2)"
   ]
  },
  {
   "cell_type": "code",
   "execution_count": null,
   "id": "5d9ca2bb-cf17-4b0d-96e8-7f03b436d87a",
   "metadata": {},
   "outputs": [],
   "source": []
  }
 ],
 "metadata": {
  "kernelspec": {
   "display_name": "glucose-venv",
   "language": "python",
   "name": "glucose-venv"
  },
  "language_info": {
   "codemirror_mode": {
    "name": "ipython",
    "version": 3
   },
   "file_extension": ".py",
   "mimetype": "text/x-python",
   "name": "python",
   "nbconvert_exporter": "python",
   "pygments_lexer": "ipython3",
   "version": "3.10.10"
  }
 },
 "nbformat": 4,
 "nbformat_minor": 5
}
