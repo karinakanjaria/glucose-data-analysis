{
 "cells": [
  {
   "cell_type": "code",
   "execution_count": 1,
   "id": "eb009577-2a0a-46f1-8ecd-9d3a9ec8f48f",
   "metadata": {
    "tags": []
   },
   "outputs": [],
   "source": [
    "import pyspark\n",
    "from pyspark.sql import SparkSession\n",
    "\n",
    "from pyspark.sql.functions import col, mean, stddev\n",
    "from pyspark.sql import Window\n",
    "from pyspark.sql.types import DoubleType, FloatType, LongType\n",
    "from pyspark.ml.feature import VectorAssembler\n",
    "from pyspark.ml import Pipeline"
   ]
  },
  {
   "cell_type": "code",
   "execution_count": 2,
   "id": "24c1de89-771a-40b7-b71b-914fbe2cb9ea",
   "metadata": {
    "tags": []
   },
   "outputs": [
    {
     "name": "stderr",
     "output_type": "stream",
     "text": [
      "Setting default log level to \"WARN\".\n",
      "To adjust logging level use sc.setLogLevel(newLevel). For SparkR, use setLogLevel(newLevel).\n"
     ]
    },
    {
     "name": "stdout",
     "output_type": "stream",
     "text": [
      "23/05/17 07:21:07 WARN NativeCodeLoader: Unable to load native-hadoop library for your platform... using builtin-java classes where applicable\n"
     ]
    }
   ],
   "source": [
    "spark = SparkSession.builder.appName(\"check_files\").getOrCreate()"
   ]
  },
  {
   "cell_type": "code",
   "execution_count": 3,
   "id": "7bbdd69f-dd5a-42f1-bb62-05465476bb0e",
   "metadata": {
    "tags": []
   },
   "outputs": [],
   "source": [
    "data_location1='/cephfs/summary_stats/train/summary_stats_parquet_164_25.parquet'"
   ]
  },
  {
   "cell_type": "code",
   "execution_count": 4,
   "id": "3d2d459d-4b12-4343-ac03-20a51cebf971",
   "metadata": {
    "tags": []
   },
   "outputs": [
    {
     "name": "stdout",
     "output_type": "stream",
     "text": [
      "+-----+-----+------------------+------------------+---------+-----+-----+--------------------+--------------------+------------------+------------------+----------+----------+---------------+------+\n",
      "|NumId|Chunk|              Mean|            StdDev|   Median|  Min|  Max|        AvgFirstDiff|          AvgSecDiff|      StdFirstDiff|        StdSecDiff|CountAbove|CountBelow|TotalOutOfRange|target|\n",
      "+-----+-----+------------------+------------------+---------+-----+-----+--------------------+--------------------+------------------+------------------+----------+----------+---------------+------+\n",
      "|  113|    1|247.77375030517578|32.229656246101904|    235.0|215.0|335.0| 0.05238744947645399| 0.11835967169867621| 32.35201916285883| 54.46174867696771|        77|         0|             77|    13|\n",
      "|  113|    2| 222.4494400024414|27.724493105956014|221.91241|147.0|297.0|-0.05238744947645399|-0.12530411614312065|28.249610219199937| 50.95378506373618|        27|         0|             27|    50|\n",
      "|  113|    3| 217.5208625793457|14.215175513369477|221.91241|168.0|255.0|                 0.0| 0.12530411614312065|20.878477487578603|39.251227387837055|         0|         0|              0|    27|\n",
      "+-----+-----+------------------+------------------+---------+-----+-----+--------------------+--------------------+------------------+------------------+----------+----------+---------------+------+\n",
      "only showing top 3 rows\n",
      "\n"
     ]
    }
   ],
   "source": [
    "df = spark.read.format('parquet').load(data_location1)\n",
    "df.show(3)"
   ]
  },
  {
   "cell_type": "code",
   "execution_count": 5,
   "id": "e402368f-397a-423b-a929-eaccdfb1a8cc",
   "metadata": {
    "tags": []
   },
   "outputs": [
    {
     "data": {
      "text/plain": [
       "StructType([StructField('NumId', IntegerType(), True), StructField('Chunk', IntegerType(), True), StructField('Mean', DoubleType(), True), StructField('StdDev', DoubleType(), True), StructField('Median', FloatType(), True), StructField('Min', FloatType(), True), StructField('Max', FloatType(), True), StructField('AvgFirstDiff', DoubleType(), True), StructField('AvgSecDiff', DoubleType(), True), StructField('StdFirstDiff', DoubleType(), True), StructField('StdSecDiff', DoubleType(), True), StructField('CountAbove', LongType(), True), StructField('CountBelow', LongType(), True), StructField('TotalOutOfRange', LongType(), True), StructField('target', LongType(), True)])"
      ]
     },
     "execution_count": 5,
     "metadata": {},
     "output_type": "execute_result"
    }
   ],
   "source": [
    "df.schema"
   ]
  },
  {
   "cell_type": "code",
   "execution_count": 6,
   "id": "21deff1a-0aea-42e6-8cde-209b3d744c2c",
   "metadata": {
    "tags": []
   },
   "outputs": [],
   "source": [
    "double_cols=[f.name for f in df.schema.fields if isinstance(f.dataType, DoubleType)]\n",
    "float_cols=[f.name for f in df.schema.fields if isinstance(f.dataType, FloatType)]\n",
    "long_cols=[f.name for f in df.schema.fields if isinstance(f.dataType, LongType)]\n",
    "\n",
    "all_numerical=list(set(double_cols+float_cols+long_cols))\n",
    "all_numerical.remove('target')\n",
    "\n",
    "featureArr = [('scaled_' + f) for f in all_numerical]\n",
    "        "
   ]
  },
  {
   "cell_type": "code",
   "execution_count": 7,
   "id": "d62bd52c-ad23-4d34-9300-6bd6afdbf41f",
   "metadata": {
    "tags": []
   },
   "outputs": [
    {
     "data": {
      "text/plain": [
       "['StdSecDiff',\n",
       " 'Mean',\n",
       " 'AvgSecDiff',\n",
       " 'Median',\n",
       " 'StdDev',\n",
       " 'Max',\n",
       " 'Min',\n",
       " 'CountBelow',\n",
       " 'AvgFirstDiff',\n",
       " 'CountAbove',\n",
       " 'StdFirstDiff',\n",
       " 'TotalOutOfRange']"
      ]
     },
     "execution_count": 7,
     "metadata": {},
     "output_type": "execute_result"
    }
   ],
   "source": [
    "all_numerical"
   ]
  },
  {
   "cell_type": "code",
   "execution_count": null,
   "id": "6538407d-ebbb-4faf-9421-43a2260545ce",
   "metadata": {
    "tags": []
   },
   "outputs": [],
   "source": [
    "for num_column in all_numerical:\n",
    "    input_col = f\"{num_column}\"\n",
    "    output_col = f\"scaled_{num_column}\"\n",
    "\n",
    "    w = Window.partitionBy('NumId')\n",
    "\n",
    "    mu = mean(input_col).over(w)\n",
    "    sigma = stddev(input_col).over(w)\n",
    "\n",
    "    df=df.withColumn(output_col, (col(input_col) - mu)/(sigma))\n",
    "    "
   ]
  },
  {
   "cell_type": "code",
   "execution_count": null,
   "id": "b8ae73b3-53b2-4afa-ae0f-0f8c1d2c0dea",
   "metadata": {
    "tags": []
   },
   "outputs": [],
   "source": [
    "va2 = VectorAssembler(inputCols=featureArr, outputCol=\"features\")\n",
    "\n",
    "stages = [va2]\n",
    "\n"
   ]
  },
  {
   "cell_type": "code",
   "execution_count": null,
   "id": "8439cc6d-e614-41d3-8160-80df6ef2007b",
   "metadata": {
    "tags": []
   },
   "outputs": [],
   "source": [
    "pipeline=Pipeline(stages=stages)\n",
    "\n",
    "model=pipeline.fit(df)\n",
    "\n",
    "model.transform(df).select('features').show(3, truncate=False)"
   ]
  },
  {
   "cell_type": "code",
   "execution_count": null,
   "id": "fc157bbb-8478-49c0-9acd-1b39e2ee0276",
   "metadata": {},
   "outputs": [],
   "source": []
  }
 ],
 "metadata": {
  "kernelspec": {
   "display_name": "glucose-venv",
   "language": "python",
   "name": "glucose-venv"
  },
  "language_info": {
   "codemirror_mode": {
    "name": "ipython",
    "version": 3
   },
   "file_extension": ".py",
   "mimetype": "text/x-python",
   "name": "python",
   "nbconvert_exporter": "python",
   "pygments_lexer": "ipython3",
   "version": "3.10.10"
  }
 },
 "nbformat": 4,
 "nbformat_minor": 5
}
