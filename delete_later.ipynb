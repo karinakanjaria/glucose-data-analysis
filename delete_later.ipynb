{
 "cells": [
  {
   "cell_type": "code",
   "execution_count": null,
   "id": "77a1ff94-8b89-410f-b778-d83999af578d",
   "metadata": {
    "tags": []
   },
   "outputs": [],
   "source": [
    "! pip install xgboost\n",
    "! pip install pandas\n",
    "! pip install scikit-learn\n",
    "! pip install pyarrow"
   ]
  },
  {
   "cell_type": "code",
   "execution_count": 1,
   "id": "782f8ec0-b431-4266-85ca-7ff2a9ce835a",
   "metadata": {},
   "outputs": [
    {
     "name": "stderr",
     "output_type": "stream",
     "text": [
      "Setting default log level to \"WARN\".\n",
      "To adjust logging level use sc.setLogLevel(newLevel). For SparkR, use setLogLevel(newLevel).\n"
     ]
    },
    {
     "name": "stdout",
     "output_type": "stream",
     "text": [
      "23/05/31 09:01:56 WARN NativeCodeLoader: Unable to load native-hadoop library for your platform... using builtin-java classes where applicable\n",
      "23/05/31 09:01:57 WARN Utils: Service 'SparkUI' could not bind on port 4040. Attempting port 4041.\n"
     ]
    },
    {
     "name": "stderr",
     "output_type": "stream",
     "text": [
      "                                                                                \r"
     ]
    },
    {
     "name": "stdout",
     "output_type": "stream",
     "text": [
      "23/05/31 09:02:06 WARN package: Truncated the string representation of a plan since it was too large. This behavior can be adjusted by setting 'spark.sql.debug.maxToStringFields'.\n"
     ]
    },
    {
     "name": "stderr",
     "output_type": "stream",
     "text": [
      "                                                                                \r"
     ]
    },
    {
     "name": "stdout",
     "output_type": "stream",
     "text": [
      "+-----+-----+-----------------+----------------+-------------+-------------+------------------+------------------+------------------+------+-----+-----+--------------------+--------------------+------------------+-----------------+----------+----------+---------------+------------+------+----------+--------+------------------+-------------------------+------------+-------------------------+-----------+-----------+-----------+-----------+-----------+-----------+-----------+-----------+\n",
      "|NumId|Chunk|ShortTermVariance|LongTermVariance|VarianceRatio|SampleEntropy|PermutationEntropy|              Mean|            StdDev|Median|  Min|  Max|        AvgFirstDiff|          AvgSecDiff|      StdFirstDiff|       StdSecDiff|CountAbove|CountBelow|TotalOutOfRange|DiffPrevious|target|Sex_Female|Sex_Male|Treatment_yes_both|Treatment_yes_long_acting|Treatment_no|Treatment_yes_fast_acting|AgeGroup_50|AgeGroup_60|AgeGroup_70|AgeGroup_40|AgeGroup_30|AgeGroup_80|AgeGroup_90|AgeGroup_10|\n",
      "+-----+-----+-----------------+----------------+-------------+-------------+------------------+------------------+------------------+------+-----+-----+--------------------+--------------------+------------------+-----------------+----------+----------+---------------+------------+------+----------+--------+------------------+-------------------------+------------+-------------------------+-----------+-----------+-----------+-----------+-----------+-----------+-----------+-----------+\n",
      "|   83|    1|        5.1187806|        6.485902|   0.78921646|   0.42676088|           1.29493|135.34722222222223|23.423630655671257| 130.0| 93.0|199.0|-0.02777777777777...|-0.02083333333333...| 5.845209413981879|7.231337869769298|        19|         0|             19|          -2|     0|         1|       0|                 0|                        0|           1|                        0|          0|          0|          1|          0|          0|          0|          0|          0|\n",
      "|   83|   11|        44.052174|      0.84909993|     51.88102|  0.069459714|         0.7953677|148.23958333333334|21.623196083951527| 144.0|117.0|243.0| 0.09027777777777778| 0.09027777777777778|31.146481659782985|62.20152851057192|        30|         0|             30|           2|     0|         1|       0|                 0|                        0|           1|                        0|          0|          0|          1|          0|          0|          0|          0|          0|\n",
      "+-----+-----+-----------------+----------------+-------------+-------------+------------------+------------------+------------------+------+-----+-----+--------------------+--------------------+------------------+-----------------+----------+----------+---------------+------------+------+----------+--------+------------------+-------------------------+------------+-------------------------+-----------+-----------+-----------+-----------+-----------+-----------+-----------+-----------+\n",
      "only showing top 2 rows\n",
      "\n",
      "(3620558, 35)\n"
     ]
    }
   ],
   "source": [
    "################################ Libraries ################################\n",
    "from Input_Variables.read_vars import xgboost_regression_model_storage_location, \\\n",
    "                                      linear_regression_model_storage_location, \\\n",
    "                                      random_forest_regression_model_storage_location, \\\n",
    "                                      factorization_machines_regression_model_storage, \\\n",
    "                                      random_seed\n",
    "from Read_In_Data.read_data import Reading_Data\n",
    "from Data_Pipeline.scaling_pipeline import Feature_Transformations\n",
    "from Model_Creation.regression_models import Create_Regression_Models\n",
    "import os\n",
    "\n",
    "\n",
    "################################ Read In Modules ################################\n",
    "reading_data=Reading_Data()\n",
    "feature_transformations=Feature_Transformations()\n",
    "create_regression_models=Create_Regression_Models()\n",
    "\n",
    "\n",
    "################################ Read In Data ################################\n",
    "# Training Summary Stats Data\n",
    "training_files=list(map(lambda x: os.path.join(os.path.abspath('/cephfs/summary_stats/all_train_bool_updated'),x),\n",
    "                                               os.listdir('/cephfs/summary_stats/all_train_bool_updated')))\n",
    "training_files=[i for i in training_files if not ('.crc' in i or 'SUCCESS' in i)]\n",
    "\n",
    "\n",
    "# Cross Validation Summary Stats Data\n",
    "val_files=list(map(lambda x: os.path.join(os.path.abspath('/cephfs/summary_stats/all_val_bool_updated'), x),\n",
    "                                          os.listdir('/cephfs/summary_stats/all_val_bool_updated')))\n",
    "val_files=[i for i in val_files if not ('.crc' in i or 'SUCCESS' in i)]\n",
    "\n",
    "\n",
    "# Calling DataFrames\n",
    "summary_stats_train=reading_data.read_in_all_summary_stats(file_list=training_files)\n",
    "summary_stats_val=reading_data.read_in_all_summary_stats(file_list=val_files)\n",
    "\n",
    "\n",
    "################################ Combine Train and Cross Validation ################################\n",
    "df_train_val_combined=summary_stats_train.union(summary_stats_val)\n",
    "df_train_val_combined.show(2)\n",
    "print((df_train_val_combined.count(), len(df_train_val_combined.columns)))\n"
   ]
  },
  {
   "cell_type": "code",
   "execution_count": 2,
   "id": "2e14fb03-7c0b-420d-be89-53d51928d68e",
   "metadata": {},
   "outputs": [
    {
     "name": "stdout",
     "output_type": "stream",
     "text": [
      "+------+\n",
      "|target|\n",
      "+------+\n",
      "|     0|\n",
      "|     0|\n",
      "|    -1|\n",
      "|     0|\n",
      "+------+\n",
      "only showing top 4 rows\n",
      "\n"
     ]
    }
   ],
   "source": [
    "df_train_val_combined.select('target').show(4)"
   ]
  },
  {
   "cell_type": "code",
   "execution_count": 16,
   "id": "2ad0409d-5e17-4ef2-b874-f75ec7ed7085",
   "metadata": {
    "tags": []
   },
   "outputs": [],
   "source": [
    "from pyspark.sql.functions import count, countDistinct\n",
    "import pyspark.sql.functions as F"
   ]
  },
  {
   "cell_type": "code",
   "execution_count": 24,
   "id": "c5a7b8b5-4321-4d67-9f20-e47c14dc2708",
   "metadata": {
    "tags": []
   },
   "outputs": [],
   "source": [
    "count_df=df_train_val_combined.groupBy(\"target\").agg(count(\"target\")).withColumnRenamed('count(target)', 'count')"
   ]
  },
  {
   "cell_type": "code",
   "execution_count": 25,
   "id": "220a919e-92cd-4713-b130-830cd33deeb9",
   "metadata": {
    "tags": []
   },
   "outputs": [
    {
     "name": "stdout",
     "output_type": "stream",
     "text": [
      "+------+-------+\n",
      "|target|  count|\n",
      "+------+-------+\n",
      "|    -1|1136643|\n",
      "|     1|1146444|\n",
      "|     0|1337471|\n",
      "+------+-------+\n",
      "\n"
     ]
    }
   ],
   "source": [
    "count_df.show()"
   ]
  },
  {
   "cell_type": "code",
   "execution_count": 28,
   "id": "c99cf757-abd8-4d26-8510-050a21998180",
   "metadata": {
    "tags": []
   },
   "outputs": [
    {
     "data": {
      "text/plain": [
       "3620558"
      ]
     },
     "execution_count": 28,
     "metadata": {},
     "output_type": "execute_result"
    }
   ],
   "source": []
  },
  {
   "cell_type": "code",
   "execution_count": 29,
   "id": "5dce838d-5400-4b54-a3c9-4e3c7af48634",
   "metadata": {
    "tags": []
   },
   "outputs": [],
   "source": [
    "tot = count_df.agg(F.sum(\"count\")).collect()[0][0]"
   ]
  },
  {
   "cell_type": "code",
   "execution_count": 34,
   "id": "6fd97356-c7cd-4ed6-9f22-5721062c8de8",
   "metadata": {
    "tags": []
   },
   "outputs": [
    {
     "name": "stdout",
     "output_type": "stream",
     "text": [
      "+------+------------------+\n",
      "|target|             count|\n",
      "+------+------------------+\n",
      "|    -1|31.394138693538398|\n",
      "|     1|31.664842822570442|\n",
      "|     0|36.941018483891156|\n",
      "+------+------------------+\n",
      "\n"
     ]
    }
   ],
   "source": [
    "df_train_val_combined.groupBy(\"target\").agg(count(\"target\")).withColumnRenamed('count(target)', 'count') \\\n",
    "  .withColumn('count', (F.col('count') / tot) * 100 ) \\\n",
    "  .show()"
   ]
  },
  {
   "cell_type": "code",
   "execution_count": null,
   "id": "6838efa3-8acd-444c-a104-cd8a8f5d41d4",
   "metadata": {},
   "outputs": [],
   "source": [
    "tot = count_df.count()"
   ]
  },
  {
   "cell_type": "code",
   "execution_count": 21,
   "id": "728f534f-5784-4384-9e30-8094bef11134",
   "metadata": {
    "tags": []
   },
   "outputs": [
    {
     "name": "stdout",
     "output_type": "stream",
     "text": [
      "+------+-------------+-------------------+\n",
      "|target|cnt_per_group|perc_of_count_total|\n",
      "+------+-------------+-------------------+\n",
      "|    -1|            1|  33.33333333333333|\n",
      "|     1|            1|  33.33333333333333|\n",
      "|     0|            1|  33.33333333333333|\n",
      "+------+-------------+-------------------+\n",
      "\n"
     ]
    }
   ],
   "source": [
    "count_df.groupBy(\"target\").agg(count(\"target\"))\\\n",
    "  .withColumnRenamed('count(target)', 'cnt_per_group') \\\n",
    "  .withColumn('perc_of_count_total', (F.col('cnt_per_group') / tot) * 100 ) \\\n",
    "  .show()"
   ]
  },
  {
   "cell_type": "code",
   "execution_count": null,
   "id": "41eeb2e7-624b-4530-bd45-ca665fd5bc2f",
   "metadata": {},
   "outputs": [],
   "source": [
    "3,620,558"
   ]
  }
 ],
 "metadata": {
  "kernelspec": {
   "display_name": "glucose-venv",
   "language": "python",
   "name": "glucose-venv"
  },
  "language_info": {
   "codemirror_mode": {
    "name": "ipython",
    "version": 3
   },
   "file_extension": ".py",
   "mimetype": "text/x-python",
   "name": "python",
   "nbconvert_exporter": "python",
   "pygments_lexer": "ipython3",
   "version": "3.10.10"
  }
 },
 "nbformat": 4,
 "nbformat_minor": 5
}
