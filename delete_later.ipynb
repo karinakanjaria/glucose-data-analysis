{
 "cells": [
  {
   "cell_type": "code",
   "execution_count": null,
   "id": "77a1ff94-8b89-410f-b778-d83999af578d",
   "metadata": {
    "tags": []
   },
   "outputs": [],
   "source": [
    "! pip install xgboost\n",
    "! pip install pandas\n",
    "! pip install scikit-learn\n",
    "! pip install pyarrow"
   ]
  },
  {
   "cell_type": "code",
   "execution_count": 1,
   "id": "eb009577-2a0a-46f1-8ecd-9d3a9ec8f48f",
   "metadata": {
    "tags": []
   },
   "outputs": [],
   "source": [
    "import pyspark\n",
    "from pyspark.sql import SparkSession\n",
    "\n",
    "from pyspark.sql.functions import col, mean, stddev\n",
    "from pyspark.sql import Window\n",
    "from pyspark.sql.types import DoubleType, FloatType, LongType\n",
    "from pyspark.ml.feature import VectorAssembler\n",
    "from pyspark.ml import Pipeline\n",
    "from xgboost.spark import SparkXGBRegressor\n",
    "\n",
    "import pyspark.sql.functions as F\n",
    "from pyspark.ml import Pipeline, Transformer\n",
    "from pyspark.ml.feature import Bucketizer\n",
    "from pyspark.sql import DataFrame\n",
    "from typing import Iterable\n",
    "import pandas as pd\n",
    "\n",
    "from xgboost.spark import SparkXGBRegressor\n",
    "from pyspark.ml import Pipeline"
   ]
  },
  {
   "cell_type": "code",
   "execution_count": 2,
   "id": "24c1de89-771a-40b7-b71b-914fbe2cb9ea",
   "metadata": {
    "tags": []
   },
   "outputs": [
    {
     "name": "stderr",
     "output_type": "stream",
     "text": [
      "Setting default log level to \"WARN\".\n",
      "To adjust logging level use sc.setLogLevel(newLevel). For SparkR, use setLogLevel(newLevel).\n"
     ]
    },
    {
     "name": "stdout",
     "output_type": "stream",
     "text": [
      "23/05/17 23:06:17 WARN NativeCodeLoader: Unable to load native-hadoop library for your platform... using builtin-java classes where applicable\n"
     ]
    }
   ],
   "source": [
    "spark = SparkSession.builder.appName(\"check_files\").getOrCreate()"
   ]
  },
  {
   "cell_type": "code",
   "execution_count": 3,
   "id": "7bbdd69f-dd5a-42f1-bb62-05465476bb0e",
   "metadata": {
    "tags": []
   },
   "outputs": [],
   "source": [
    "data_location1='/cephfs/summary_stats/train/summary_stats_parquet_164_25.parquet'"
   ]
  },
  {
   "cell_type": "code",
   "execution_count": 4,
   "id": "3d2d459d-4b12-4343-ac03-20a51cebf971",
   "metadata": {
    "tags": []
   },
   "outputs": [
    {
     "name": "stdout",
     "output_type": "stream",
     "text": [
      "+-----+-----+------------------+------------------+------+----+-----+--------------------+--------------------+-----------------+------------------+----------+----------+---------------+------+\n",
      "|NumId|Chunk|              Mean|            StdDev|Median| Min|  Max|        AvgFirstDiff|          AvgSecDiff|     StdFirstDiff|        StdSecDiff|CountAbove|CountBelow|TotalOutOfRange|target|\n",
      "+-----+-----+------------------+------------------+------+----+-----+--------------------+--------------------+-----------------+------------------+----------+----------+---------------+------+\n",
      "|   19|    1|138.95138888888889| 30.28237142249909| 133.0|68.0|198.0|-0.08333333333333333|0.034722222222222224|4.810702354423639| 4.235922690223849|         0|         1|              1|    23|\n",
      "|   19|    2|140.04513888888889|41.219663671012334| 131.0|83.0|247.0| 0.17708333333333334|0.017361111111111112| 3.96850350067166|3.6725335151182836|         0|         0|              0|     1|\n",
      "|   19|    3|139.72569444444446| 34.94143082883469| 139.0|94.0|230.0| -0.1423611111111111|            -0.03125|4.517547357469994| 3.887225011841086|         0|         0|              0|     0|\n",
      "+-----+-----+------------------+------------------+------+----+-----+--------------------+--------------------+-----------------+------------------+----------+----------+---------------+------+\n",
      "only showing top 3 rows\n",
      "\n"
     ]
    }
   ],
   "source": [
    "df = spark.read.format('parquet').load(data_location1)\n",
    "df.show(3)"
   ]
  },
  {
   "cell_type": "code",
   "execution_count": 5,
   "id": "7891457d-fcd9-4894-b0eb-c638a42c4bec",
   "metadata": {
    "tags": []
   },
   "outputs": [],
   "source": [
    "class ColumnScaler(Transformer):\n",
    "    def _transform(self, df):\n",
    "        double_cols=[f.name for f in df.schema.fields if isinstance(f.dataType, DoubleType)]\n",
    "        float_cols=[f.name for f in df.schema.fields if isinstance(f.dataType, FloatType)]\n",
    "        long_cols=[f.name for f in df.schema.fields if isinstance(f.dataType, LongType)]\n",
    "\n",
    "        all_numerical=list(set(double_cols+float_cols+long_cols))\n",
    "        all_numerical.remove('target')\n",
    "        \n",
    "        for num_column in all_numerical:\n",
    "            input_col = f\"{num_column}\"\n",
    "            output_col = f\"scaled_{num_column}\"\n",
    "\n",
    "            w = Window.partitionBy('NumId')\n",
    "\n",
    "            mu = mean(input_col).over(w)\n",
    "            sigma = stddev(input_col).over(w)\n",
    "\n",
    "            df=df.withColumn(output_col, (col(input_col) - mu)/(sigma))\n",
    "            \n",
    "        return df"
   ]
  },
  {
   "cell_type": "code",
   "execution_count": 6,
   "id": "0736ebb8-ba65-4b25-ac0d-37fe2fd67275",
   "metadata": {
    "tags": []
   },
   "outputs": [],
   "source": [
    "double_cols=[f.name for f in df.schema.fields if isinstance(f.dataType, DoubleType)]\n",
    "float_cols=[f.name for f in df.schema.fields if isinstance(f.dataType, FloatType)]\n",
    "long_cols=[f.name for f in df.schema.fields if isinstance(f.dataType, LongType)]\n",
    "\n",
    "all_numerical=list(set(double_cols+float_cols+long_cols))\n",
    "all_numerical.remove('target')\n",
    "\n",
    "featureArr = [('scaled_' + f) for f in all_numerical]\n",
    "\n",
    "columns_scaler=ColumnScaler()\n",
    "\n",
    "va2 = VectorAssembler(inputCols=featureArr, outputCol=\"features\")"
   ]
  },
  {
   "cell_type": "code",
   "execution_count": 7,
   "id": "7ba29734-b505-452b-9e37-ecc0ab23a5b4",
   "metadata": {
    "tags": []
   },
   "outputs": [],
   "source": [
    "stages=[columns_scaler]+[va2]"
   ]
  },
  {
   "cell_type": "code",
   "execution_count": null,
   "id": "2e948670-e1a6-4589-9b9d-02737917af5d",
   "metadata": {
    "tags": []
   },
   "outputs": [],
   "source": [
    "pipeline=Pipeline(stages=stages)\n",
    "\n",
    "model_1=pipeline.fit(df)\n",
    "model_df=model_1.transform(df)"
   ]
  },
  {
   "cell_type": "code",
   "execution_count": null,
   "id": "9ac1b344-c54a-4d88-91d7-fec898b56302",
   "metadata": {
    "tags": []
   },
   "outputs": [],
   "source": [
    "model_df.show(2)"
   ]
  },
  {
   "cell_type": "code",
   "execution_count": null,
   "id": "d05ee203-95de-4d91-8cae-3f9507923db9",
   "metadata": {
    "tags": []
   },
   "outputs": [],
   "source": [
    "model_df.select('features').show(2, truncate=False)"
   ]
  },
  {
   "cell_type": "code",
   "execution_count": 8,
   "id": "189597c3-4ebe-45a7-a1d7-f1d6ca87cd0c",
   "metadata": {
    "tags": []
   },
   "outputs": [],
   "source": [
    "features_col=\"features\"\n",
    "label_name=\"target\"\n",
    "\n",
    "# xgb_regression=SparkXGBRegressor(features_col=features_col, \n",
    "#                                   label_col=label_name,\n",
    "#                                   num_workers=2,\n",
    "#                                   random_state=123,\n",
    "#                                   use_gpu=True)\n",
    "xgb_regression=SparkXGBRegressor(features_col=features_col, \n",
    "                                  label_col=label_name,\n",
    "                                  random_state=123,\n",
    "                                  use_gpu=False)\n",
    "\n",
    "\n",
    "\n",
    "stages.append(xgb_regression)\n"
   ]
  },
  {
   "cell_type": "code",
   "execution_count": 9,
   "id": "ef9cfffd-5a1c-45df-ae27-da400523d1d9",
   "metadata": {
    "tags": []
   },
   "outputs": [
    {
     "data": {
      "text/plain": [
       "[ColumnScaler_6518e0478184,\n",
       " VectorAssembler_015139367cd0,\n",
       " SparkXGBRegressor_cea6cbd16698]"
      ]
     },
     "execution_count": 9,
     "metadata": {},
     "output_type": "execute_result"
    }
   ],
   "source": [
    "stages"
   ]
  },
  {
   "cell_type": "code",
   "execution_count": 10,
   "id": "f3fcd8aa-2bbe-4017-b1d6-e0ed4d0f80f1",
   "metadata": {
    "tags": []
   },
   "outputs": [
    {
     "name": "stdout",
     "output_type": "stream",
     "text": [
      "23/05/17 23:07:22 WARN package: Truncated the string representation of a plan since it was too large. This behavior can be adjusted by setting 'spark.sql.debug.maxToStringFields'.\n"
     ]
    },
    {
     "name": "stderr",
     "output_type": "stream",
     "text": [
      "[23:07:28] task 0 got new rank 0                                    (0 + 1) / 1]\n"
     ]
    },
    {
     "name": "stdout",
     "output_type": "stream",
     "text": [
      "[23:07:29] WARNING: ../src/learner.cc:553: \n",
      "  If you are loading a serialized model (like pickle in Python, RDS in R) generated by\n",
      "  older XGBoost, please export the model by calling `Booster.save_model` from that version\n",
      "  first, then load it back in current version. See:\n",
      "\n",
      "    https://xgboost.readthedocs.io/en/latest/tutorials/saving_model.html\n",
      "\n",
      "  for more details about differences between saving model and serializing.\n",
      "\n"
     ]
    },
    {
     "name": "stderr",
     "output_type": "stream",
     "text": [
      "/home/jovyan/glucose-data-analysis/glucose_venv/lib/python3.10/site-packages/xgboost/sklearn.py:782: UserWarning: Loading a native XGBoost model with Scikit-Learn interface.\n",
      "  warnings.warn(\"Loading a native XGBoost model with Scikit-Learn interface.\")\n"
     ]
    }
   ],
   "source": [
    "pipeline=Pipeline(stages=stages)\n",
    "\n",
    "model=pipeline.fit(df)"
   ]
  },
  {
   "cell_type": "code",
   "execution_count": null,
   "id": "205c79a2-d04e-4f8f-818a-ea580cd137e1",
   "metadata": {},
   "outputs": [],
   "source": []
  },
  {
   "cell_type": "code",
   "execution_count": null,
   "id": "20b0d3d3-6c3f-4070-af18-b4899b1f7539",
   "metadata": {
    "tags": []
   },
   "outputs": [],
   "source": [
    "model_stages"
   ]
  },
  {
   "cell_type": "code",
   "execution_count": null,
   "id": "69513def-ade7-4f82-9f36-e0df19b3874a",
   "metadata": {
    "tags": []
   },
   "outputs": [],
   "source": [
    "pipeline=Pipeline(stages=model_stages)\n",
    "\n",
    "model=pipeline.fit(model_df)"
   ]
  },
  {
   "cell_type": "code",
   "execution_count": null,
   "id": "8966d76b-4f9b-49c5-aac7-c3364515a96f",
   "metadata": {},
   "outputs": [],
   "source": []
  },
  {
   "cell_type": "code",
   "execution_count": null,
   "id": "1541a29e-368f-4e12-b2d3-d86872b0f5e0",
   "metadata": {},
   "outputs": [],
   "source": []
  },
  {
   "cell_type": "code",
   "execution_count": null,
   "id": "621dd1ed-0458-4171-9022-2f80b6f50c3b",
   "metadata": {
    "tags": []
   },
   "outputs": [],
   "source": [
    "pipeline=Pipeline(stages=stages)\n",
    "\n",
    "model=pipeline.fit(df)"
   ]
  },
  {
   "cell_type": "code",
   "execution_count": null,
   "id": "cc907f5f-2f01-43bc-bee7-f06ef8e02d65",
   "metadata": {
    "tags": []
   },
   "outputs": [],
   "source": [
    "model.transform(df)"
   ]
  },
  {
   "cell_type": "code",
   "execution_count": null,
   "id": "f0af3ed9-e1b3-4c19-ae76-0ebe7043e516",
   "metadata": {},
   "outputs": [],
   "source": []
  },
  {
   "cell_type": "code",
   "execution_count": null,
   "id": "a5c878fd-7528-497e-bca7-fa061c3a2454",
   "metadata": {},
   "outputs": [],
   "source": []
  },
  {
   "cell_type": "code",
   "execution_count": null,
   "id": "e402368f-397a-423b-a929-eaccdfb1a8cc",
   "metadata": {
    "tags": []
   },
   "outputs": [],
   "source": [
    "df.schema"
   ]
  },
  {
   "cell_type": "code",
   "execution_count": null,
   "id": "21deff1a-0aea-42e6-8cde-209b3d744c2c",
   "metadata": {
    "tags": []
   },
   "outputs": [],
   "source": [
    "double_cols=[f.name for f in df.schema.fields if isinstance(f.dataType, DoubleType)]\n",
    "float_cols=[f.name for f in df.schema.fields if isinstance(f.dataType, FloatType)]\n",
    "long_cols=[f.name for f in df.schema.fields if isinstance(f.dataType, LongType)]\n",
    "\n",
    "all_numerical=list(set(double_cols+float_cols+long_cols))\n",
    "all_numerical.remove('target')\n",
    "\n",
    "featureArr = [('scaled_' + f) for f in all_numerical]\n",
    "        "
   ]
  },
  {
   "cell_type": "code",
   "execution_count": null,
   "id": "d62bd52c-ad23-4d34-9300-6bd6afdbf41f",
   "metadata": {
    "tags": []
   },
   "outputs": [],
   "source": [
    "all_numerical"
   ]
  },
  {
   "cell_type": "code",
   "execution_count": null,
   "id": "6538407d-ebbb-4faf-9421-43a2260545ce",
   "metadata": {
    "tags": []
   },
   "outputs": [],
   "source": [
    "for num_column in all_numerical:\n",
    "    input_col = f\"{num_column}\"\n",
    "    output_col = f\"scaled_{num_column}\"\n",
    "\n",
    "    w = Window.partitionBy('NumId')\n",
    "\n",
    "    mu = mean(input_col).over(w)\n",
    "    sigma = stddev(input_col).over(w)\n",
    "\n",
    "    df=df.withColumn(output_col, (col(input_col) - mu)/(sigma))\n",
    "    "
   ]
  },
  {
   "cell_type": "code",
   "execution_count": null,
   "id": "b8ae73b3-53b2-4afa-ae0f-0f8c1d2c0dea",
   "metadata": {
    "tags": []
   },
   "outputs": [],
   "source": [
    "va2 = VectorAssembler(inputCols=featureArr, outputCol=\"features\")\n",
    "\n",
    "stages = [va2]\n",
    "\n"
   ]
  },
  {
   "cell_type": "code",
   "execution_count": null,
   "id": "8fe48b40-e9eb-4444-ab9c-4e5634bcfea3",
   "metadata": {
    "tags": []
   },
   "outputs": [],
   "source": [
    "features_col=\"features\"\n",
    "label_name=\"target\"\n",
    "\n",
    "xgb_classifier=SparkXGBRegressor(features_col=features_col, \n",
    "                                  label_col=label_name,\n",
    "                                  num_workers=4,\n",
    "                                  random_state=123,\n",
    "                                  use_gpu=True)\n",
    "\n",
    "\n",
    "\n",
    "stages.append(xgb_classifier)"
   ]
  },
  {
   "cell_type": "code",
   "execution_count": null,
   "id": "99403637-2c79-4c9a-b224-277567ec9131",
   "metadata": {
    "tags": []
   },
   "outputs": [],
   "source": [
    "stages"
   ]
  },
  {
   "cell_type": "code",
   "execution_count": null,
   "id": "18396175-ac3e-4b01-9bf8-7fb925bb79f7",
   "metadata": {
    "tags": []
   },
   "outputs": [],
   "source": [
    "pipeline=Pipeline(stages=stages)"
   ]
  },
  {
   "cell_type": "code",
   "execution_count": null,
   "id": "750fc5cb-1a9f-4ab0-8ba5-743fd0072d19",
   "metadata": {},
   "outputs": [],
   "source": [
    "model=pipeline.fit(ml_df)"
   ]
  },
  {
   "cell_type": "code",
   "execution_count": null,
   "id": "978ae22e-d2bf-43e5-bf5f-add7b0bfe90f",
   "metadata": {},
   "outputs": [],
   "source": []
  },
  {
   "cell_type": "code",
   "execution_count": null,
   "id": "8439cc6d-e614-41d3-8160-80df6ef2007b",
   "metadata": {
    "tags": []
   },
   "outputs": [],
   "source": [
    "pipeline=Pipeline(stages=stages)\n",
    "\n",
    "model=pipeline.fit(df)\n",
    "\n",
    "model.transform(df).select(featureArr).show(3, truncate=False)"
   ]
  },
  {
   "cell_type": "code",
   "execution_count": null,
   "id": "fc157bbb-8478-49c0-9acd-1b39e2ee0276",
   "metadata": {},
   "outputs": [],
   "source": []
  }
 ],
 "metadata": {
  "kernelspec": {
   "display_name": "glucose-venv",
   "language": "python",
   "name": "glucose-venv"
  },
  "language_info": {
   "codemirror_mode": {
    "name": "ipython",
    "version": 3
   },
   "file_extension": ".py",
   "mimetype": "text/x-python",
   "name": "python",
   "nbconvert_exporter": "python",
   "pygments_lexer": "ipython3",
   "version": "3.10.10"
  }
 },
 "nbformat": 4,
 "nbformat_minor": 5
}
