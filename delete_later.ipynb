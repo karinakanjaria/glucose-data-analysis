{
 "cells": [
  {
   "cell_type": "code",
   "execution_count": null,
   "id": "e359024c-66b1-4e25-ae3c-56d76d32adf0",
   "metadata": {
    "tags": []
   },
   "outputs": [],
   "source": [
    "# # Need to Run These in Notebook Version For Pandas UDF\n",
    "! pip install pyarrow\n",
    "! pip install pandas\n",
    "! pip install scikit-learn\n",
    "! pip install pyspark\n",
    "! pip install xgboost\n",
    "! pip install kaleido\n",
    "! pip install EntropyHub"
   ]
  },
  {
   "cell_type": "code",
   "execution_count": 7,
   "id": "43bb212b-e719-4201-92dd-5fac18f100bc",
   "metadata": {
    "tags": []
   },
   "outputs": [],
   "source": [
    "from Input_Variables.read_vars import train_data_storage, validation_data_storage, test_data_storage, \\\n",
    "                                      one_hot_encoding_data, \\\n",
    "                                      analysis_group, \\\n",
    "                                      daily_stats_features_lower, daily_stats_features_upper, \\\n",
    "                                      model_storage_location, random_seed\n",
    "\n",
    "from Data_Schema.schema import Pandas_UDF_Data_Schema\n",
    "from Read_In_Data.read_data import Reading_Data\n",
    "from Data_Pipeline.imputation_pipeline import Date_And_Value_Imputation\n",
    "from Feature_Generation.create_binary_labels import Create_Binary_Labels\n",
    "from Feature_Generation.summary_stats import Summary_Stats_Features\n",
    "from Feature_Generation.lag_features import Create_Lagged_Features\n",
    "from Feature_Generation.time_series_feature_creation import TS_Features\n",
    "from Feature_Generation.difference_features import Difference_Features\n",
    "from Data_Pipeline.encoding_scaling_pipeline import Feature_Transformations\n",
    "from Model_Creation.pyspark_xgboost import Create_PySpark_XGBoost"
   ]
  },
  {
   "cell_type": "code",
   "execution_count": 9,
   "id": "796cf65f-40ad-4c87-b7d5-9056c6484dd1",
   "metadata": {
    "tags": []
   },
   "outputs": [],
   "source": [
    "# PySpark UDF Schema Activation\n",
    "pandas_udf_data_schema=Pandas_UDF_Data_Schema()\n",
    "\n",
    "# Data Location\n",
    "reading_data=Reading_Data()\n",
    "\n",
    "# Create Binary y Variables\n",
    "create_binary_labels=Create_Binary_Labels()\n",
    "\n",
    "# Imputation\n",
    "date_and_value_imputation=Date_And_Value_Imputation()\n",
    "\n",
    "# Features Daily Stats Module\n",
    "summary_stats_features=Summary_Stats_Features()\n",
    "\n",
    "# Features Complex\n",
    "ts_features=TS_Features()\n",
    "\n",
    "# Features Lagged Value\n",
    "create_lag_features=Create_Lagged_Features()\n",
    "\n",
    "# Features Differences\n",
    "difference_features=Difference_Features()\n",
    "\n",
    "# PySpark XGBoost Model Module\n",
    "create_pyspark_xgboost=Create_PySpark_XGBoost()\n",
    "\n",
    "# Feature Transformations\n",
    "feature_transformations=Feature_Transformations()\n",
    "\n",
    "pyspark_custom_imputation_schema=pandas_udf_data_schema.custom_imputation_pyspark_schema()"
   ]
  },
  {
   "cell_type": "code",
   "execution_count": 2,
   "id": "d27a9fdf-48e1-46e4-8d52-9dfeab3fd387",
   "metadata": {
    "tags": []
   },
   "outputs": [],
   "source": [
    "import os"
   ]
  },
  {
   "cell_type": "code",
   "execution_count": null,
   "id": "478c1b3e-7d81-4414-8083-1c701b66be89",
   "metadata": {
    "tags": []
   },
   "outputs": [],
   "source": [
    "train_data_storage"
   ]
  },
  {
   "cell_type": "code",
   "execution_count": 3,
   "id": "2f56e7ce-d9de-473f-8a9e-69e50dd2af27",
   "metadata": {
    "tags": []
   },
   "outputs": [],
   "source": [
    "training_files_directory=os.listdir(train_data_storage)\n",
    "training_files=[i for i in training_files_directory if not ('.crc' in i or 'SUCCESS' in i)]"
   ]
  },
  {
   "cell_type": "code",
   "execution_count": 4,
   "id": "6ba15e21-f1b7-4d3b-ae21-ba0aeabbb2d3",
   "metadata": {
    "tags": []
   },
   "outputs": [
    {
     "data": {
      "text/plain": [
       "200"
      ]
     },
     "execution_count": 4,
     "metadata": {},
     "output_type": "execute_result"
    }
   ],
   "source": [
    "len(training_files)"
   ]
  },
  {
   "cell_type": "code",
   "execution_count": null,
   "id": "ddbd7678-b4d4-48a0-84a2-fb48549813cc",
   "metadata": {},
   "outputs": [],
   "source": [
    "import "
   ]
  },
  {
   "cell_type": "code",
   "execution_count": 10,
   "id": "e3876b67-4125-4248-87fa-d39bf6c82ee3",
   "metadata": {
    "tags": []
   },
   "outputs": [],
   "source": [
    "import os"
   ]
  },
  {
   "cell_type": "code",
   "execution_count": 32,
   "id": "448e14e2-4699-40e4-975b-c22fa74a6bd6",
   "metadata": {
    "tags": []
   },
   "outputs": [],
   "source": [
    "model_name=os.listdir('/home/jovyan/glucose-data-analysis/Saved_Models/stages')[-1]\n",
    "model_name_path='/home/jovyan/glucose-data-analysis/Saved_Models/stages'+f'/{model_name}/model'\n",
    "model_storage_items=os.listdir(model_name_path)[0]\n",
    "saved_model_path=model_name_path+f'/{model_storage_items}'"
   ]
  },
  {
   "cell_type": "code",
   "execution_count": 33,
   "id": "6f7bd8dc-2ae5-4282-8938-2ded0f20223f",
   "metadata": {
    "tags": []
   },
   "outputs": [
    {
     "data": {
      "text/plain": [
       "'/home/jovyan/glucose-data-analysis/Saved_Models/stages/25_SparkXGBRegressorModel_9caae6cd4ab6/model/part-00000'"
      ]
     },
     "execution_count": 33,
     "metadata": {},
     "output_type": "execute_result"
    }
   ],
   "source": [
    "saved_model_path"
   ]
  },
  {
   "cell_type": "code",
   "execution_count": null,
   "id": "1f0292d7-9929-4d11-9f18-470769cbc799",
   "metadata": {},
   "outputs": [],
   "source": [
    "glucose-data-analysis/Saved_Models/stages/25_SparkXGBRegressorModel_9caae6cd4ab6/model/part-00000"
   ]
  },
  {
   "cell_type": "code",
   "execution_count": 34,
   "id": "56f0722d-3b00-48f2-a229-829ce2bae3fe",
   "metadata": {
    "tags": []
   },
   "outputs": [],
   "source": [
    "import xgboost as xgb\n",
    "bst = xgb.Booster()\n",
    "# Loading the model saved in previous snippet\n",
    "bst.load_model(saved_model_path)"
   ]
  },
  {
   "cell_type": "code",
   "execution_count": 35,
   "id": "2e383467-16c0-4024-b1be-6ff744209573",
   "metadata": {
    "tags": []
   },
   "outputs": [
    {
     "data": {
      "text/plain": [
       "<xgboost.core.Booster at 0x7f56c257dc00>"
      ]
     },
     "execution_count": 35,
     "metadata": {},
     "output_type": "execute_result"
    }
   ],
   "source": [
    "bst"
   ]
  },
  {
   "cell_type": "code",
   "execution_count": 36,
   "id": "93288576-658e-403a-a7da-3f513e3d2700",
   "metadata": {
    "tags": []
   },
   "outputs": [],
   "source": [
    "iteration=0"
   ]
  },
  {
   "cell_type": "code",
   "execution_count": 38,
   "id": "77751290-6f3e-4cae-91c6-ee6d2e68ba8a",
   "metadata": {
    "tags": []
   },
   "outputs": [
    {
     "name": "stdout",
     "output_type": "stream",
     "text": [
      "yes\n"
     ]
    }
   ],
   "source": [
    "if iteration==0:\n",
    "    print('yes')\n",
    "else:\n",
    "    print('not')"
   ]
  },
  {
   "cell_type": "code",
   "execution_count": null,
   "id": "fe59014e-1762-4695-94a8-ca997cf08997",
   "metadata": {},
   "outputs": [],
   "source": []
  }
 ],
 "metadata": {
  "kernelspec": {
   "display_name": "Python 3 (ipykernel)",
   "language": "python",
   "name": "python3"
  },
  "language_info": {
   "codemirror_mode": {
    "name": "ipython",
    "version": 3
   },
   "file_extension": ".py",
   "mimetype": "text/x-python",
   "name": "python",
   "nbconvert_exporter": "python",
   "pygments_lexer": "ipython3",
   "version": "3.10.10"
  }
 },
 "nbformat": 4,
 "nbformat_minor": 5
}
