{
 "cells": [
  {
   "cell_type": "code",
   "execution_count": 1,
   "id": "77a1ff94-8b89-410f-b778-d83999af578d",
   "metadata": {
    "tags": []
   },
   "outputs": [
    {
     "name": "stdout",
     "output_type": "stream",
     "text": [
      "Requirement already satisfied: xgboost in /opt/conda/lib/python3.10/site-packages (1.7.5)\n",
      "Requirement already satisfied: scipy in /opt/conda/lib/python3.10/site-packages (from xgboost) (1.10.1)\n",
      "Requirement already satisfied: numpy in /opt/conda/lib/python3.10/site-packages (from xgboost) (1.24.3)\n",
      "Requirement already satisfied: pandas in /opt/conda/lib/python3.10/site-packages (2.0.2)\n",
      "Requirement already satisfied: tzdata>=2022.1 in /opt/conda/lib/python3.10/site-packages (from pandas) (2023.3)\n",
      "Requirement already satisfied: python-dateutil>=2.8.2 in /opt/conda/lib/python3.10/site-packages (from pandas) (2.8.2)\n",
      "Requirement already satisfied: numpy>=1.21.0 in /opt/conda/lib/python3.10/site-packages (from pandas) (1.24.3)\n",
      "Requirement already satisfied: pytz>=2020.1 in /opt/conda/lib/python3.10/site-packages (from pandas) (2023.3)\n",
      "Requirement already satisfied: six>=1.5 in /opt/conda/lib/python3.10/site-packages (from python-dateutil>=2.8.2->pandas) (1.16.0)\n",
      "Requirement already satisfied: scikit-learn in /opt/conda/lib/python3.10/site-packages (1.2.2)\n",
      "Requirement already satisfied: threadpoolctl>=2.0.0 in /opt/conda/lib/python3.10/site-packages (from scikit-learn) (3.1.0)\n",
      "Requirement already satisfied: numpy>=1.17.3 in /opt/conda/lib/python3.10/site-packages (from scikit-learn) (1.24.3)\n",
      "Requirement already satisfied: joblib>=1.1.1 in /opt/conda/lib/python3.10/site-packages (from scikit-learn) (1.2.0)\n",
      "Requirement already satisfied: scipy>=1.3.2 in /opt/conda/lib/python3.10/site-packages (from scikit-learn) (1.10.1)\n",
      "Requirement already satisfied: pyarrow in /opt/conda/lib/python3.10/site-packages (12.0.0)\n",
      "Requirement already satisfied: numpy>=1.16.6 in /opt/conda/lib/python3.10/site-packages (from pyarrow) (1.24.3)\n"
     ]
    }
   ],
   "source": [
    "! pip install xgboost\n",
    "! pip install pandas\n",
    "! pip install scikit-learn\n",
    "! pip install pyarrow"
   ]
  },
  {
   "cell_type": "code",
   "execution_count": null,
   "id": "ab31a798-1728-4f9d-b220-98a128def056",
   "metadata": {
    "tags": []
   },
   "outputs": [],
   "source": [
    "################################ Libraries ################################\n",
    "from Input_Variables.read_vars import xgb_reg_model_storage_location, xgb_class_model_storage_location, random_seed, \\\n",
    "                                      evaluation_metrics_output_storage, \\\n",
    "                                      feature_importance_storage_location, \\\n",
    "                                      overall_feature_importance_plot_location\n",
    "from Read_In_Data.read_data import Reading_Data\n",
    "from Data_Pipeline.scaling_pipeline import Feature_Transformations\n",
    "from Model_Creation.pyspark_xgboost import Create_PySpark_XGBoost\n",
    "from Model_Predictions.pyspark_model_preds import Model_Predictions\n",
    "from Model_Evaluation.pyspark_model_eval import Evaluate_Model\n",
    "from Feature_Importance.model_feature_importance import Feature_Importance\n",
    "from Model_Plots.xgboost_classification_plots import XGBoost_Classification_Plot\n",
    "import os\n",
    "\n",
    "\n",
    "################################ Read In Modules ################################\n",
    "reading_data=Reading_Data()\n",
    "feature_transformations=Feature_Transformations()\n",
    "create_pyspark_xgboost=Create_PySpark_XGBoost()\n",
    "model_predictions=Model_Predictions()\n",
    "evaluate_model=Evaluate_Model()\n",
    "feature_importance=Feature_Importance()\n",
    "xgboost_classification_plot=XGBoost_Classification_Plot()\n",
    "\n",
    "\n",
    "################################ Read In Data ################################\n",
    "# Training Summary Stats Data\n",
    "training_files=list(map(lambda x: os.path.join(os.path.abspath('/cephfs/summary_stats/all_train'), x),os.listdir('/cephfs/summary_stats/all_train')))\n",
    "training_files=[i for i in training_files if not ('.crc' in i or 'SUCCESS' in i)]\n",
    "\n",
    "\n",
    "# Cross Validation Summary Stats Data\n",
    "val_files=list(map(lambda x: os.path.join(os.path.abspath('/cephfs/summary_stats/all_val'), x),os.listdir('/cephfs/summary_stats/all_val')))\n",
    "val_files=[i for i in val_files if not ('.crc' in i or 'SUCCESS' in i)]\n",
    "\n",
    "\n",
    "# Testing Summary Stats Data\n",
    "test_files=list(map(lambda x: os.path.join(os.path.abspath('/cephfs/summary_stats/all_test'), x),os.listdir('/cephfs/summary_stats/all_test')))\n",
    "test_files=[i for i in test_files if not ('.crc' in i or 'SUCCESS' in i)]\n",
    "\n",
    "# Calling DataFrames\n",
    "summary_stats_train=reading_data.read_in_all_summary_stats(file_list=training_files)\n",
    "summary_stats_val=reading_data.read_in_all_summary_stats(file_list=val_files)\n",
    "summary_stats_test=reading_data.read_in_all_summary_stats(file_list=test_files)\n",
    "\n",
    "\n",
    "################################ Combine Train and Cross Validation ################################\n",
    "df_train_val_combined=summary_stats_train.union(summary_stats_val)\n",
    "df_train_val_combined.show(2)\n",
    "print((df_train_val_combined.count(), len(df_train_val_combined.columns)))\n",
    "\n",
    "\n",
    "################################ Stages: Scaling Using Custom Transformer ################################\n",
    "pipeline_transformation_stages=feature_transformations.numerical_scaling(df=df_train_val_combined)\n",
    "\n",
    "print(pipeline_transformation_stages)\n",
    "\n",
    "\n",
    "################################ XGBoost Regression Model ################################\n",
    "xgboost_regression_model=create_pyspark_xgboost\\\n",
    "        .initial_training_xgboost_regression(ml_df=summary_stats_train,\n",
    "                                             stages=pipeline_transformation_stages, \n",
    "                                             random_seed=random_seed,\n",
    "                                             xgb_reg_model_storage_location=xgb_reg_model_storage_location)\n"
   ]
  },
  {
   "cell_type": "code",
   "execution_count": null,
   "id": "54de5177-da0d-4c88-92f8-390b6b060666",
   "metadata": {},
   "outputs": [],
   "source": [
    "xgboost_regression_model.stages[-1].avgMetrics"
   ]
  },
  {
   "cell_type": "code",
   "execution_count": null,
   "id": "edee7c33-42a3-4e1d-a714-5b9c9a59c865",
   "metadata": {},
   "outputs": [],
   "source": [
    "xgboost_regression_model.stages[-1].subModels"
   ]
  },
  {
   "cell_type": "code",
   "execution_count": null,
   "id": "9c92e468-e869-4d8d-b3d7-a1b75b48ae15",
   "metadata": {
    "tags": []
   },
   "outputs": [],
   "source": [
    "xgboost_regression_model.stages[-1].bestModel()."
   ]
  },
  {
   "cell_type": "code",
   "execution_count": null,
   "id": "96be83ef-058e-4988-85e9-4e2f574fe75b",
   "metadata": {},
   "outputs": [],
   "source": []
  },
  {
   "cell_type": "code",
   "execution_count": null,
   "id": "98d3bec0-bf9e-4611-886d-cd03f513d104",
   "metadata": {},
   "outputs": [],
   "source": []
  },
  {
   "cell_type": "code",
   "execution_count": null,
   "id": "772a13c3-1a62-47a8-b1c0-3dbce644df71",
   "metadata": {},
   "outputs": [],
   "source": [
    "from Model_Predictions.pyspark_model_preds import Model_Predictions\n",
    "from Model_Evaluation.pyspark_model_eval import Evaluate_Model\n",
    "from Feature_Importance.model_feature_importance import Feature_Importance\n",
    "from Model_Plots.xgboost_classification_plots import XGBoost_Classification_Plot\n",
    "import os"
   ]
  },
  {
   "cell_type": "code",
   "execution_count": null,
   "id": "226aa819-fa23-4fed-a418-dc8c09c0b147",
   "metadata": {
    "tags": []
   },
   "outputs": [],
   "source": [
    "model_predictions=Model_Predictions()\n",
    "evaluate_model=Evaluate_Model()\n",
    "feature_importance=Feature_Importance()\n",
    "xgboost_classification_plot=XGBoost_Classification_Plot()"
   ]
  },
  {
   "cell_type": "code",
   "execution_count": null,
   "id": "65eb7b48-6699-4a21-a496-beb1be14f038",
   "metadata": {
    "tags": []
   },
   "outputs": [],
   "source": [
    "################################ Testing Predictions ################################\n",
    "testing_predictions=model_predictions.create_predictions_with_model(test_df=summary_stats_test, \n",
    "                                                                    model=xgboost_regression_model)\n",
    "testing_predictions.show(10)"
   ]
  },
  {
   "cell_type": "code",
   "execution_count": null,
   "id": "fa1845d3-a471-46a8-8c2a-b36325abb496",
   "metadata": {
    "tags": []
   },
   "outputs": [],
   "source": [
    "################################ Model Evaluation ################################\n",
    "model_evaluation=evaluate_model.regression_evaluation(testing_predictions=testing_predictions, \n",
    "                                                      eval_csv_location=evaluation_metrics_output_storage)\n",
    "model_evaluation.head()\n"
   ]
  },
  {
   "cell_type": "code",
   "execution_count": null,
   "id": "3bfb0dee-aeea-4c88-bbf0-ef9cb996d1a2",
   "metadata": {
    "tags": []
   },
   "outputs": [],
   "source": [
    "################################ Feature Importance ################################\n",
    "feature_importance_df=feature_importance \\\n",
    "                            .feature_importance_accuracy_gain(xgboost_model=xgboost_regression_model, \n",
    "                                                              feature_importance_storage_location=feature_importance_storage_location)\n",
    "feature_importance_df.head(10)"
   ]
  },
  {
   "cell_type": "code",
   "execution_count": null,
   "id": "671a01d1-1de8-4741-86ac-5a2a3c5c3e45",
   "metadata": {},
   "outputs": [],
   "source": [
    "################################ Feature Importance Plot ################################\n",
    "overall_feature_plot=xgboost_classification_plot.feature_overall_importance_plot(feature_importance_df=feature_importance_df,\n",
    "                                                                                 overall_importance_plot_location=overall_feature_importance_plot_location)"
   ]
  },
  {
   "cell_type": "code",
   "execution_count": null,
   "id": "d8c8d18a-2d49-4f6d-b768-08d4eab6aaeb",
   "metadata": {},
   "outputs": [],
   "source": []
  },
  {
   "cell_type": "code",
   "execution_count": null,
   "id": "37b30f1b-6660-4b78-b0e2-82f9c43ac330",
   "metadata": {},
   "outputs": [],
   "source": []
  },
  {
   "cell_type": "code",
   "execution_count": null,
   "id": "eff3569a-0306-4238-9bc0-84298937a5eb",
   "metadata": {},
   "outputs": [],
   "source": []
  },
  {
   "cell_type": "code",
   "execution_count": 2,
   "id": "562e8aeb-ad0e-4444-aefd-ba793a64f3dc",
   "metadata": {
    "tags": []
   },
   "outputs": [
    {
     "name": "stderr",
     "output_type": "stream",
     "text": [
      "Setting default log level to \"WARN\".\n",
      "To adjust logging level use sc.setLogLevel(newLevel). For SparkR, use setLogLevel(newLevel).\n"
     ]
    },
    {
     "name": "stdout",
     "output_type": "stream",
     "text": [
      "23/05/30 02:56:44 WARN NativeCodeLoader: Unable to load native-hadoop library for your platform... using builtin-java classes where applicable\n",
      "23/05/30 02:56:47 WARN package: Truncated the string representation of a plan since it was too large. This behavior can be adjusted by setting 'spark.sql.debug.maxToStringFields'.\n",
      "+-----+-----+-----------------+----------------+-------------+-------------+------------------+------------------+------------------+------+----+-----+-------------------+--------------------+-----------------+------------------+----------+----------+---------------+------------+------+----------+--------+------------------+-------------------------+------------+-------------------------+-----------+-----------+-----------+-----------+-----------+-----------+-----------+-----------+\n",
      "|NumId|Chunk|ShortTermVariance|LongTermVariance|VarianceRatio|SampleEntropy|PermutationEntropy|              Mean|            StdDev|Median| Min|  Max|       AvgFirstDiff|          AvgSecDiff|     StdFirstDiff|        StdSecDiff|CountAbove|CountBelow|TotalOutOfRange|DiffPrevious|target|Sex_Female|Sex_Male|Treatment_yes_both|Treatment_yes_long_acting|Treatment_no|Treatment_yes_fast_acting|AgeGroup_50|AgeGroup_60|AgeGroup_70|AgeGroup_40|AgeGroup_30|AgeGroup_80|AgeGroup_90|AgeGroup_10|\n",
      "+-----+-----+-----------------+----------------+-------------+-------------+------------------+------------------+------------------+------+----+-----+-------------------+--------------------+-----------------+------------------+----------+----------+---------------+------------+------+----------+--------+------------------+-------------------------+------------+-------------------------+-----------+-----------+-----------+-----------+-----------+-----------+-----------+-----------+\n",
      "|    9|    1|        3.4119074|       4.2515125|   0.80251616|    0.3167462|         1.0790435|135.50694444444446|24.593700937896394| 141.0|79.0|180.0|0.05555555555555555|0.041666666666666664|3.871233636000112|4.8487578782274205|         0|         0|              0|          47|     1|         1|       0|                 0|                        0|           1|                        0|          0|          0|          0|          0|          0|          1|          0|          0|\n",
      "|    9|    4|        3.7116334|        4.947537|    0.7501983|    0.3039104|         1.1284721|150.11111111111111| 33.00947200375527| 148.0|92.0|214.0| 0.0763888888888889|-0.02083333333333...|4.412651846917688| 5.278275441622069|        69|         0|             69|         -29|    -1|         1|       0|                 0|                        0|           1|                        0|          0|          0|          0|          0|          0|          1|          0|          0|\n",
      "+-----+-----+-----------------+----------------+-------------+-------------+------------------+------------------+------------------+------+----+-----+-------------------+--------------------+-----------------+------------------+----------+----------+---------------+------------+------+----------+--------+------------------+-------------------------+------------+-------------------------+-----------+-----------+-----------+-----------+-----------+-----------+-----------+-----------+\n",
      "only showing top 2 rows\n",
      "\n",
      "(3620558, 35)\n"
     ]
    }
   ],
   "source": [
    "################################ Libraries ################################\n",
    "from Input_Variables.read_vars import xgb_reg_model_storage_location, xgb_class_model_storage_location, random_seed, \\\n",
    "                                      evaluation_metrics_output_storage, \\\n",
    "                                      feature_importance_storage_location, \\\n",
    "                                      overall_feature_importance_plot_location\n",
    "from Read_In_Data.read_data import Reading_Data\n",
    "from Data_Pipeline.scaling_pipeline import Feature_Transformations\n",
    "from Model_Creation.pyspark_xgboost import Create_PySpark_XGBoost\n",
    "from Model_Predictions.pyspark_model_preds import Model_Predictions\n",
    "from Model_Evaluation.pyspark_model_eval import Evaluate_Model\n",
    "from Feature_Importance.model_feature_importance import Feature_Importance\n",
    "from Model_Plots.xgboost_classification_plots import XGBoost_Classification_Plot\n",
    "import os\n",
    "\n",
    "\n",
    "################################ Read In Modules ################################\n",
    "reading_data=Reading_Data()\n",
    "feature_transformations=Feature_Transformations()\n",
    "create_pyspark_xgboost=Create_PySpark_XGBoost()\n",
    "model_predictions=Model_Predictions()\n",
    "evaluate_model=Evaluate_Model()\n",
    "feature_importance=Feature_Importance()\n",
    "xgboost_classification_plot=XGBoost_Classification_Plot()\n",
    "\n",
    "\n",
    "################################ Read In Data ################################\n",
    "# Training Summary Stats Data\n",
    "training_files=list(map(lambda x: os.path.join(os.path.abspath('/cephfs/summary_stats/all_train_bool'), x),os.listdir('/cephfs/summary_stats/all_train_bool')))\n",
    "training_files=[i for i in training_files if not ('.crc' in i or 'SUCCESS' in i)]\n",
    "\n",
    "\n",
    "# Cross Validation Summary Stats Data\n",
    "val_files=list(map(lambda x: os.path.join(os.path.abspath('/cephfs/summary_stats/all_val_bool'), x),os.listdir('/cephfs/summary_stats/all_val_bool')))\n",
    "val_files=[i for i in val_files if not ('.crc' in i or 'SUCCESS' in i)]\n",
    "\n",
    "\n",
    "# Testing Summary Stats Data\n",
    "test_files=list(map(lambda x: os.path.join(os.path.abspath('/cephfs/summary_stats/all_test_bool'), x),os.listdir('/cephfs/summary_stats/all_test_bool')))\n",
    "test_files=[i for i in test_files if not ('.crc' in i or 'SUCCESS' in i)]\n",
    "\n",
    "# Calling DataFrames\n",
    "summary_stats_train=reading_data.read_in_all_summary_stats(file_list=training_files)\n",
    "summary_stats_val=reading_data.read_in_all_summary_stats(file_list=val_files)\n",
    "summary_stats_test=reading_data.read_in_all_summary_stats(file_list=test_files)\n",
    "\n",
    "\n",
    "################################ Combine Train and Cross Validation ################################\n",
    "df_train_val_combined=summary_stats_train.union(summary_stats_val)\n",
    "df_train_val_combined.show(2)\n",
    "print((df_train_val_combined.count(), len(df_train_val_combined.columns)))"
   ]
  },
  {
   "cell_type": "code",
   "execution_count": 3,
   "id": "c951c889-fbc1-4dc1-bd19-bfd4371a942e",
   "metadata": {
    "tags": []
   },
   "outputs": [],
   "source": [
    "################################ Stages: Scaling Using Custom Transformer ################################\n",
    "pipeline_transformation_stages=feature_transformations.numerical_scaling(df=df_train_val_combined)"
   ]
  },
  {
   "cell_type": "code",
   "execution_count": 4,
   "id": "fa950b41-5355-41eb-b6b9-c20e0304845e",
   "metadata": {
    "tags": []
   },
   "outputs": [
    {
     "data": {
      "text/plain": [
       "[ColumnScaler_c4517805ebd1, VectorAssembler_9350a01481ee]"
      ]
     },
     "execution_count": 4,
     "metadata": {},
     "output_type": "execute_result"
    }
   ],
   "source": [
    "pipeline_transformation_stages"
   ]
  },
  {
   "cell_type": "code",
   "execution_count": 5,
   "id": "1f955d0a-01df-4c3f-8a6b-4640ebaf4194",
   "metadata": {
    "tags": []
   },
   "outputs": [],
   "source": [
    "from pyspark.ml import Pipeline"
   ]
  },
  {
   "cell_type": "code",
   "execution_count": 6,
   "id": "0f9b71f3-f57c-434e-bc66-6b616892e8c2",
   "metadata": {
    "tags": []
   },
   "outputs": [],
   "source": [
    "pipeline=Pipeline(stages=pipeline_transformation_stages)\n",
    "\n",
    "model=pipeline.fit(df_train_val_combined)"
   ]
  },
  {
   "cell_type": "code",
   "execution_count": 7,
   "id": "2240a8c0-1f5e-4308-9451-059a3452606b",
   "metadata": {
    "tags": []
   },
   "outputs": [
    {
     "data": {
      "text/plain": [
       "PipelineModel_e874130ee15f"
      ]
     },
     "execution_count": 7,
     "metadata": {},
     "output_type": "execute_result"
    }
   ],
   "source": [
    "model"
   ]
  },
  {
   "cell_type": "code",
   "execution_count": 9,
   "id": "817c2775-6f3f-4a38-80dc-19109295a580",
   "metadata": {
    "tags": []
   },
   "outputs": [],
   "source": [
    "tester=model.transform(df_train_val_combined)"
   ]
  },
  {
   "cell_type": "code",
   "execution_count": 12,
   "id": "96954922-e5c6-4d2e-a8a9-30d661bef88d",
   "metadata": {
    "tags": []
   },
   "outputs": [
    {
     "name": "stderr",
     "output_type": "stream",
     "text": [
      "[Stage 10:=============================================>            (7 + 2) / 9]\r"
     ]
    },
    {
     "name": "stdout",
     "output_type": "stream",
     "text": [
      "+-------------------------------------------------------------------------------------------------------------------------------------------------------------------------------------------------------------------------------------------------------------------------------------------------------------------------------------------------------------------------------------------------------------------+\n",
      "|features                                                                                                                                                                                                                                                                                                                                                                                                           |\n",
      "+-------------------------------------------------------------------------------------------------------------------------------------------------------------------------------------------------------------------------------------------------------------------------------------------------------------------------------------------------------------------------------------------------------------------+\n",
      "|[-1.2902194984063562,1.9089516565008762,-0.6208371320810178,3.036006355741414,1.9087898066029951,-0.443415951552696,-0.28421842735407515,-0.41773567806407724,0.021791106588386847,-0.6032309787424788,-0.3395659198124696,-0.18949124543397272,-1.200497839103015,-1.292534056976852,-0.4918919987096009,-0.3002428643621984,-0.5523895858496279,0.0,1.0,0.0,0.0,1.0,0.0,0.0,0.0,0.0,0.0,0.0,1.0,0.0,0.0]         |\n",
      "|[-1.4675664872155407,1.3976706306073912,-0.6359374065189046,0.8412427692766742,1.2976502735438604,3.747598740192695,0.5365752827231501,6.6290768038897205,1.09653694609331,1.1103272907888122,1.5780065518618474,0.11941302719043849,-1.3528535984009782,-1.4701865957684868,1.6273774606498823,-0.3002428643621984,1.5102585970623141,0.0,1.0,0.0,0.0,1.0,0.0,0.0,0.0,0.0,0.0,0.0,1.0,0.0,0.0]                    |\n",
      "|[0.8869841596295527,-0.1630736846251148,0.04416506655766198,-0.5575386995798373,0.0459789991488877,-0.2402638738816761,0.9310861571849124,-0.216398178579683,-0.7305309810650593,0.39634467848410765,0.11162760293442853,0.08852259992799737,0.8882176341814892,0.8877588112596099,-0.29923113876782964,-0.3002428643621984,-0.36487611467581504,0.0,1.0,0.0,0.0,1.0,0.0,0.0,0.0,0.0,0.0,0.0,1.0,0.0,0.0]          |\n",
      "|[0.4704222290983004,0.4701320104459344,-0.27538504187141455,0.0579816431722186,0.19970751768431896,-0.8949119412207225,0.35462085515338204,-0.216398178579683,-1.2141666088422747,-0.2319600203440324,-2.7083319142336846,-2.2282594447550874,0.46583431861602903,0.46605385582634146,-0.4918919987096009,1.2288135275776189,-0.17736264350200215,0.0,1.0,0.0,0.0,1.0,0.0,0.0,0.0,0.0,0.0,0.0,1.0,0.0,0.0]         |\n",
      "|[0.7843146790029238,1.1682573239980516,-0.3395999273401752,-0.0042644033979274115,-0.773065591158522,-1.8114192354953866,0.2135372196024692,-0.216398178579683,-1.3753784847680133,-1.231535677570619,0.9764151881993165,0.7990024269641433,0.8041535389295199,0.806123289851613,-0.4918919987096009,0.4642853316077103,-0.36487611467581504,0.0,1.0,0.0,0.0,1.0,0.0,0.0,0.0,0.0,0.0,0.0,1.0,0.0,0.0]              |\n",
      "|[-0.2278876871602604,-0.508381147646062,-0.10604677962132847,0.10297750460410832,-0.3227300318938117,-1.0630086707697162,-0.6352235933177122,-0.216398178579683,0.021791106588386847,-1.2029763730784306,-0.7907594425593678,-0.6528476543705897,-0.25243700598550856,-0.23235400149801028,-0.4918919987096009,-0.3002428643621984,-0.5523895858496279,0.0,1.0,0.0,0.0,1.0,0.0,0.0,0.0,0.0,0.0,0.0,1.0,0.0,0.0]    |\n",
      "|[-0.1500420825094351,0.06312644841675688,-0.31079060752867105,-0.02492756328720294,0.26950838349880185,-0.09666365265891733,-0.21894436107761017,-0.216398178579683,-0.24689535328784393,-0.31763793382059696,2.104398995066562,1.7257152448373771,-0.16526348564149787,-0.14824454713033292,-0.4918919987096009,-0.3002428643621984,-0.5523895858496279,0.0,1.0,0.0,0.0,1.0,0.0,0.0,0.0,0.0,0.0,0.0,1.0,0.0,0.0]  |\n",
      "|[-0.3305110595339149,-0.5849579425714144,-0.09513894535741997,-0.09260102281668009,0.23272872125410538,-0.5819479296734744,-0.5073489266366911,-0.216398178579683,0.07552839856363301,-0.6889088922190434,1.051614108657133,0.8607832814890256,-0.35582785069236683,-0.33147761024550554,-0.4918919987096009,-0.3002428643621984,-0.5523895858496279,0.0,1.0,0.0,0.0,1.0,0.0,0.0,0.0,0.0,0.0,0.0,1.0,0.0,0.0]      |\n",
      "|[-0.14440008969270712,0.5252747319727143,-0.39474625806596036,0.7355317966862787,0.6720435426156918,0.06889895533908708,-0.22138848535443248,-0.216398178579683,0.07552839856363301,0.11075163356222582,0.22442598362115307,0.18119388171532075,-0.15391888131330766,-0.1412867364755406,-0.4918919987096009,-0.3002428643621984,-0.5523895858496279,0.0,1.0,0.0,0.0,1.0,0.0,0.0,0.0,0.0,0.0,0.0,1.0,0.0,0.0]      |\n",
      "|[-0.24312200267931117,0.049292116705742066,-0.3293612901776713,0.2881814165686875,0.11650705783065275,0.43465716586528963,-0.44304530220198474,-0.216398178579683,0.39795215041510995,-0.2605193248362206,1.8412027734642047,1.5094822540002892,-0.2570901617256349,-0.23569325795239382,-0.4918919987096009,-0.3002428643621984,-0.5523895858496279,0.0,1.0,0.0,0.0,1.0,0.0,0.0,0.0,0.0,0.0,0.0,1.0,0.0,0.0]      |\n",
      "|[1.0376321459618576,0.4416906221663892,-0.1648664891158514,0.5308932358294145,-0.181209669028574,1.2358619295699165,0.7523216175163796,-0.216398178579683,0.8278504862170792,1.367361031218506,0.4500227449946021,0.3665364452899675,1.0425175525627541,1.03307694072555,0.5677427309701407,-0.3002428643621984,0.47893450560634304,0.0,1.0,0.0,0.0,1.0,0.0,0.0,0.0,0.0,0.0,0.0,1.0,0.0,0.0]                       |\n",
      "|[-0.26150294086333103,-0.534183110233658,-0.10221086585873798,-0.4137561147526882,0.16929059199824573,0.4920972543543921,-0.49867851844204925,-0.216398178579683,0.45168944239035613,-0.2605193248362206,0.22442598362115307,0.18119388171532075,-0.28653669329788406,-0.26574513589368676,-0.4918919987096009,-0.3002428643621984,-0.5523895858496279,0.0,1.0,0.0,0.0,1.0,0.0,0.0,0.0,0.0,0.0,0.0,1.0,0.0,0.0]    |\n",
      "|[0.20604961792735518,-0.6012853816810259,0.15535457456793395,0.8761313998242494,0.3590887344792837,0.7569129564328334,-0.05220339743500591,-0.216398178579683,1.2040115300438023,0.25354815602316677,-0.3395659198124696,-0.28216252722129614,0.18911999201302368,0.20098600898528765,-0.4918919987096009,-0.3002428643621984,-0.5523895858496279,0.0,1.0,0.0,0.0,1.0,0.0,0.0,0.0,0.0,0.0,0.0,1.0,0.0,0.0]         |\n",
      "|[-0.25805746447574196,-1.1692567812080168,1.942603808946521,-0.12381611387650843,-0.21869722525133617,-0.8919554660779008,-0.5682118663873911,-0.216398178579683,-0.35436993723833626,-0.9173833281565489,-0.001170777752295999,-0.035039109121767116,-0.2857409758931525,-0.2627214600305882,-0.4918919987096009,-0.3002428643621984,-0.5523895858496279,0.0,1.0,0.0,0.0,1.0,0.0,0.0,0.0,0.0,0.0,0.0,1.0,0.0,0.0] |\n",
      "|[-0.5354314343431192,-0.03360352214489842,-0.3822047854265188,-1.6056357781437909,0.32543120364560935,-0.6520586259175268,-0.7737648203243728,-0.216398178579683,-0.13942076933735162,-0.8888240236643606,-0.5651626811859186,-0.8999710724701186,-0.5591420136609406,-0.5366674601696977,-0.4918919987096009,-0.3002428643621984,-0.5523895858496279,0.0,1.0,0.0,0.0,1.0,0.0,0.0,0.0,0.0,0.0,0.0,1.0,0.0,0.0]     |\n",
      "|[-0.08716668020509274,-0.20976968754396583,-0.20978871883948694,0.5680469923193737,0.07535110441599077,-1.0769463393001597,-0.4542508035430322,-0.216398178579683,-0.46184452118882857,-1.1458577640940544,-0.11396915843902052,-0.09681996364664937,-0.10603048870192108,-0.08981081875218212,-0.4918919987096009,-0.3002428643621984,-0.5523895858496279,0.0,1.0,0.0,0.0,1.0,0.0,0.0,0.0,0.0,0.0,0.0,1.0,0.0,0.0]|\n",
      "|[1.118385970236927,-0.011731421189086972,0.021863080267670122,0.17088777703059344,-0.06844706345704797,-1.367103256888499,0.9177566960711718,-0.216398178579683,-1.3753784847680133,0.5105818964528605,0.412423284765694,0.3356460180275264,1.1237382127892444,1.1177846306325674,-0.20290070879694405,0.8465494295926647,0.010150827671810763,0.0,1.0,0.0,0.0,1.0,0.0,0.0,0.0,0.0,0.0,0.0,1.0,0.0,0.0]            |\n",
      "|[0.7623327287576869,-1.1840136004117987,4.31910691398853,-0.754021325493721,-0.9493413772217495,-1.910249975983991,0.07044885216942212,-3.437798170329991,-1.6440649446442441,-1.3172135910471834,-0.26436699935465324,-0.22038167269641387,0.7556359569501466,0.7584380306807318,-0.4918919987096009,1.2288135275776189,-0.17736264350200215,0.0,1.0,0.0,0.0,1.0,0.0,0.0,0.0,0.0,0.0,0.0,1.0,0.0,0.0]             |\n",
      "|[0.8786644884534527,-0.27876250526968177,0.11760545334739109,-0.006857822095249817,-0.6457744065286484,-1.7565132685572733,0.37582753967878024,-0.216398178579683,-2.0202259884709672,-1.2600949820628071,-1.0915551243906332,-0.8999710724701186,0.8749865270064477,0.8711674508940812,-0.4918919987096009,5.051454507427162,0.7602047123670624,0.0,1.0,0.0,0.0,1.0,0.0,0.0,0.0,0.0,0.0,0.0,1.0,0.0,0.0]          |\n",
      "|[-1.4914681582917755,-0.06380443923595082,-0.6215763433208672,-2.225993070386029,-1.930646337359108,-0.4066711890633436,-1.1706884844117467,-0.216398178579683,0.34421485843986377,-1.0030612416331135,-0.11396915843902052,-0.28216252722129614,-1.485699971167159,-1.4934948819254348,-0.4918919987096009,-0.3002428643621984,-0.5523895858496279,0.0,1.0,0.0,0.0,1.0,0.0,0.0,0.0,0.0,0.0,0.0,1.0,0.0,0.0]       |\n",
      "+-------------------------------------------------------------------------------------------------------------------------------------------------------------------------------------------------------------------------------------------------------------------------------------------------------------------------------------------------------------------------------------------------------------------+\n",
      "only showing top 20 rows\n",
      "\n"
     ]
    },
    {
     "name": "stderr",
     "output_type": "stream",
     "text": [
      "                                                                                \r"
     ]
    }
   ],
   "source": [
    "tester.select('features').show(truncate=False)"
   ]
  },
  {
   "cell_type": "code",
   "execution_count": 10,
   "id": "70741c19-7257-4205-9436-a47375758d1b",
   "metadata": {
    "tags": []
   },
   "outputs": [
    {
     "name": "stderr",
     "output_type": "stream",
     "text": [
      "[Stage 9:>                                                          (0 + 1) / 1]\r"
     ]
    },
    {
     "name": "stdout",
     "output_type": "stream",
     "text": [
      "+-----+-----+-----------------+----------------+-------------+-------------+------------------+------------------+------------------+------+-----+-----+--------------------+--------------------+------------------+------------------+----------+----------+---------------+------------+------+----------+--------+------------------+-------------------------+------------+-------------------------+-----------+-----------+-----------+-----------+-----------+-----------+-----------+-----------+------------------------+-----------------------+--------------------+--------------------+-------------------------+--------------------+--------------------+--------------------+--------------------+--------------------+--------------------+--------------------+--------------------+--------------------+--------------------+-------------------+----------------------+--------------------+\n",
      "|NumId|Chunk|ShortTermVariance|LongTermVariance|VarianceRatio|SampleEntropy|PermutationEntropy|              Mean|            StdDev|Median|  Min|  Max|        AvgFirstDiff|          AvgSecDiff|      StdFirstDiff|        StdSecDiff|CountAbove|CountBelow|TotalOutOfRange|DiffPrevious|target|Sex_Female|Sex_Male|Treatment_yes_both|Treatment_yes_long_acting|Treatment_no|Treatment_yes_fast_acting|AgeGroup_50|AgeGroup_60|AgeGroup_70|AgeGroup_40|AgeGroup_30|AgeGroup_80|AgeGroup_90|AgeGroup_10|scaled_ShortTermVariance|scaled_LongTermVariance|scaled_VarianceRatio|scaled_SampleEntropy|scaled_PermutationEntropy|         scaled_Mean|       scaled_StdDev|       scaled_Median|          scaled_Min|          scaled_Max| scaled_AvgFirstDiff|   scaled_AvgSecDiff| scaled_StdFirstDiff|   scaled_StdSecDiff|   scaled_CountAbove|  scaled_CountBelow|scaled_TotalOutOfRange|            features|\n",
      "+-----+-----+-----------------+----------------+-------------+-------------+------------------+------------------+------------------+------+-----+-----+--------------------+--------------------+------------------+------------------+----------+----------+---------------+------------+------+----------+--------+------------------+-------------------------+------------+-------------------------+-----------+-----------+-----------+-----------+-----------+-----------+-----------+-----------+------------------------+-----------------------+--------------------+--------------------+-------------------------+--------------------+--------------------+--------------------+--------------------+--------------------+--------------------+--------------------+--------------------+--------------------+--------------------+-------------------+----------------------+--------------------+\n",
      "|   12|    2|        5.8674164|        5.849285|    1.0030998|   0.66726774|         1.2879956|120.47569444444444| 12.77353397645984| 122.0| 89.0|148.0|            -0.03125|-0.02083333333333...|5.8657212293178125| 8.307646240826445|         0|         0|              0|           4|     1|         0|       1|                 0|                        0|           1|                        0|          0|          0|          0|          0|          0|          1|          0|          0|     -1.2902194984063562|     1.9089516565008762| -0.6208371320810178|   3.036006355741414|       1.9087898066029951|  -0.443415951552696|-0.28421842735407515|-0.41773567806407724|0.021791106588386847| -0.6032309787424788| -0.3395659198124696|-0.18949124543397272|  -1.200497839103015|  -1.292534056976852| -0.4918919987096009|-0.3002428643621984|   -0.5523895858496279|[-1.2902194984063...|\n",
      "|   12|    7|        2.6834757|       4.9291177|   0.54441303|   0.38912868|         1.1520952|154.93055555555554|19.353902910742235| 157.0|109.0|208.0| 0.14583333333333334|0.013888888888888888| 3.968462344509639| 3.796176530723993|        22|         0|             22|          -6|    -1|         0|       1|                 0|                        0|           1|                        0|          0|          0|          0|          0|          0|          1|          0|          0|     -1.4675664872155407|     1.3976706306073912| -0.6359374065189046|  0.8412427692766742|       1.2976502735438604|   3.747598740192695|  0.5365752827231501|  6.6290768038897205|    1.09653694609331|  1.1103272907888122|  1.5780065518618474| 0.11941302719043849| -1.3528535984009782| -1.4701865957684868|  1.6273774606498823|-0.3002428643621984|    1.5102585970623141|[-1.4675664872155...|\n",
      "|   12|   17|        44.955124|       2.1202004|    21.203243|   0.21186323|        0.87375844|122.14583333333333|22.516728198841133| 123.0| 75.0|183.0|0.010416666666666666|0.010416666666666666|31.876119574517215|63.675980975057506|         2|         0|              2|          -2|    -1|         0|       1|                 0|                        0|           1|                        0|          0|          0|          0|          0|          0|          1|          0|          0|      0.8869841596295527|    -0.1630736846251148| 0.04416506655766198| -0.5575386995798373|       0.0459789991488877| -0.2402638738816761|  0.9310861571849124|  -0.216398178579683| -0.7305309810650593| 0.39634467848410765| 0.11162760293442853| 0.08852259992799737|  0.8882176341814892|  0.8877588112596099|-0.29923113876782964|-0.3002428643621984|  -0.36487611467581504|[0.88698415962955...|\n",
      "|   12|   19|        37.476517|       3.2597992|    11.496572|    0.2898672|        0.90794337|116.76388888888889| 17.89515968703675| 123.0| 66.0|161.0|               -0.25|               -0.25|26.616256068576103| 52.96682282861124|         0|         4|              4|          20|     1|         0|       1|                 0|                        0|           1|                        0|          0|          0|          0|          0|          0|          1|          0|          0|      0.4704222290983004|     0.4701320104459344|-0.27538504187141455|  0.0579816431722186|      0.19970751768431896| -0.8949119412207225| 0.35462085515338204|  -0.216398178579683| -1.2141666088422747| -0.2319600203440324| -2.7083319142336846| -2.2282594447550874| 0.46583431861602903| 0.46605385582634146| -0.4918919987096009| 1.2288135275776189|  -0.17736264350200215|[0.47042222909830...|\n",
      "|   12|   20|         43.11188|        4.516236|     9.545977|   0.28197885|         0.6916258|109.22916666666667| 16.76408087744463| 123.0| 63.0|126.0| 0.09027777777777778| 0.09027777777777778|30.829284506745072| 61.60285449678879|         0|         2|              2|           2|     1|         0|       1|                 0|                        0|           1|                        0|          0|          0|          0|          0|          0|          1|          0|          0|      0.7843146790029238|     1.1682573239980516| -0.3395999273401752|-0.00426440339792...|       -0.773065591158522| -1.8114192354953866|  0.2135372196024692|  -0.216398178579683| -1.3753784847680133|  -1.231535677570619|  0.9764151881993165|  0.7990024269641433|  0.8041535389295199|   0.806123289851613| -0.4918919987096009| 0.4642853316077103|  -0.36487611467581504|[0.78431467900292...|\n",
      "|   12|   30|         24.93964|       1.4987404|      16.6404|   0.29556945|        0.79176784|115.38194444444444| 9.959497438993637| 123.0| 89.0|127.0|-0.07291666666666667|-0.07291666666666667| 17.67175237155424|35.230820207720264|         0|         0|              0|           0|     0|         0|       1|                 0|                        0|           1|                        0|          0|          0|          0|          0|          0|          1|          0|          0|     -0.2278876871602604|     -0.508381147646062|-0.10604677962132847| 0.10297750460410832|      -0.3227300318938117| -1.0630086707697162| -0.6352235933177122|  -0.216398178579683|0.021791106588386847| -1.2029763730784306| -0.7907594425593678| -0.6528476543705897|-0.25243700598550856|-0.23235400149801028| -0.4918919987096009|-0.3002428643621984|   -0.5523895858496279|[-0.2278876871602...|\n",
      "|   12|   33|        26.337215|       2.5272994|     10.42109|   0.27936023|        0.92346513|123.32638888888889|13.296841395445211| 123.0| 84.0|158.0| 0.19444444444444445| 0.19444444444444445|18.757308551082872| 37.36677198355207|         0|         0|              0|           0|     0|         0|       1|                 0|                        0|           1|                        0|          0|          0|          0|          0|          0|          1|          0|          0|     -0.1500420825094351|    0.06312644841675688|-0.31079060752867105|-0.02492756328720294|      0.26950838349880185|-0.09666365265891733|-0.21894436107761017|  -0.216398178579683|-0.24689535328784393|-0.31763793382059696|   2.104398995066562|  1.7257152448373771|-0.16526348564149787|-0.14824454713033292| -0.4918919987096009|-0.3002428643621984|   -0.5523895858496279|[-0.1500420825094...|\n",
      "|   12|   37|        23.097225|       1.3609229|    16.971737|   0.27078408|        0.91528636|119.33680555555556|10.984678886875757| 123.0| 90.0|145.0| 0.09722222222222222| 0.09722222222222222| 16.38424476677588| 32.71358537695392|         0|         0|              0|           0|     0|         0|       1|                 0|                        0|           1|                        0|          0|          0|          0|          0|          0|          1|          0|          0|     -0.3305110595339149|    -0.5849579425714144|-0.09513894535741997|-0.09260102281668009|      0.23272872125410538| -0.5819479296734744| -0.5073489266366911|  -0.216398178579683| 0.07552839856363301| -0.6889088922190434|   1.051614108657133|  0.8607832814890256|-0.35582785069236683|-0.33147761024550554| -0.4918919987096009|-0.3002428643621984|   -0.5523895858496279|[-0.3305110595339...|\n",
      "|   12|   40|        26.438507|       3.3590412|    7.8708487|    0.3757321|         1.0129777|          124.6875|13.277246655298855| 123.0| 90.0|173.0|0.020833333333333332|0.020833333333333332|18.898580869605457| 37.54346493841347|         0|         0|              0|           0|     0|         0|       1|                 0|                        0|           1|                        0|          0|          0|          0|          0|          0|          1|          0|          0|    -0.14440008969270712|     0.5252747319727143|-0.39474625806596036|  0.7355317966862787|       0.6720435426156918| 0.06889895533908708|-0.22138848535443248|  -0.216398178579683| 0.07552839856363301| 0.11075163356222582| 0.22442598362115307| 0.18119388171532075|-0.15391888131330766| -0.1412867364755406| -0.4918919987096009|-0.3002428643621984|   -0.5523895858496279|[-0.1444000896927...|\n",
      "|   12|   45|        24.666136|       2.5024014|     9.856986|   0.31904006|         0.8894419|127.69444444444444|11.500206195865603| 123.0| 96.0|160.0|  0.1701388888888889|  0.1701388888888889|17.613807459520523|35.146020100439586|         0|         0|              0|           9|     1|         0|       1|                 0|                        0|           1|                        0|          0|          0|          0|          0|          0|          1|          0|          0|    -0.24312200267931117|   0.049292116705742066| -0.3293612901776713|  0.2881814165686875|      0.11650705783065275| 0.43465716586528963|-0.44304530220198474|  -0.216398178579683| 0.39795215041510995| -0.2605193248362206|  1.8412027734642047|  1.5094822540002892| -0.2570901617256349|-0.23569325795239382| -0.4918919987096009|-0.3002428643621984|   -0.5523895858496279|[-0.2431220026793...|\n",
      "|   12|   46|        47.659733|       3.2086124|    14.853689|   0.34979856|          0.823238|         134.28125|21.083558562008232| 123.0|104.0|217.0|0.041666666666666664|0.041666666666666664| 33.79758872292994| 67.36632136576408|        11|         0|             11|         -11|    -1|         0|       1|                 0|                        0|           1|                        0|          0|          0|          0|          0|          0|          1|          0|          0|      1.0376321459618576|     0.4416906221663892| -0.1648664891158514|  0.5308932358294145|       -0.181209669028574|  1.2358619295699165|  0.7523216175163796|  -0.216398178579683|  0.8278504862170792|   1.367361031218506|  0.4500227449946021|  0.3665364452899675|  1.0425175525627541|    1.03307694072555|  0.5677427309701407|-0.3002428643621984|   0.47893450560634304|[1.03763214596185...|\n",
      "|   12|   53|         24.33614|       1.4523039|     16.75692|   0.23008458|         0.9011795|128.16666666666666| 11.05419024403053| 123.0| 97.0|160.0|0.020833333333333332|0.020833333333333332|17.247115094823148| 34.38285545339305|         0|         0|              0|          17|     1|         0|       1|                 0|                        0|           1|                        0|          0|          0|          0|          0|          0|          1|          0|          0|    -0.26150294086333103|     -0.534183110233658|-0.10221086585873798| -0.4137561147526882|      0.16929059199824573|  0.4920972543543921|-0.49867851844204925|  -0.216398178579683| 0.45168944239035613| -0.2605193248362206| 0.22442598362115307| 0.18119388171532075|-0.28653669329788406|-0.26574513589368676| -0.4918919987096009|-0.3002428643621984|   -0.5523895858496279|[-0.2615029408633...|\n",
      "|   12|   57|         32.73019|        1.331538|    24.580742|   0.39355007|         0.9433853|         130.34375|14.633617059969822| 123.0|111.0|178.0|            -0.03125|            -0.03125|23.170382298392465| 46.23544949570281|         0|         0|              0|           0|     0|         0|       1|                 0|                        0|           1|                        0|          0|          0|          0|          0|          0|          1|          0|          0|     0.20604961792735518|    -0.6012853816810259| 0.15535457456793395|  0.8761313998242494|       0.3590887344792837|  0.7569129564328334|-0.05220339743500591|  -0.216398178579683|  1.2040115300438023| 0.25354815602316677| -0.3395659198124696|-0.28216252722129614| 0.18911999201302368| 0.20098600898528765| -0.4918919987096009|-0.3002428643621984|   -0.5523895858496279|[0.20604961792735...|\n",
      "|   12|   76|        24.397997|       0.3093432|     78.87032|   0.26682824|         0.8149018|116.78819444444444|10.496735822659383| 123.0| 82.0|137.0|                 0.0|-0.00347222222222...|17.257024020635207| 34.45964142089074|         0|         0|              0|           0|     0|         0|       1|                 0|                        0|           1|                        0|          0|          0|          0|          0|          0|          1|          0|          0|    -0.25805746447574196|    -1.1692567812080168|   1.942603808946521|-0.12381611387650843|     -0.21869722525133617| -0.8919554660779008| -0.5682118663873911|  -0.216398178579683|-0.35436993723833626| -0.9173833281565489|-0.00117077775229...|-0.03503910912176...| -0.2857409758931525| -0.2627214600305882| -0.4918919987096009|-0.3002428643621984|   -0.5523895858496279|[-0.2580574644757...|\n",
      "|   12|   78|        19.418255|       2.3532116|     8.251809|  0.079039484|         0.9359008|118.76041666666667| 8.848801322394229| 123.0| 86.0|138.0|-0.05208333333333...|-0.10069444444444445| 13.85241004075761|27.502808210187922|         0|         0|              0|           0|     0|         0|       1|                 0|                        0|           1|                        0|          0|          0|          0|          0|          0|          1|          0|          0|     -0.5354314343431192|   -0.03360352214489842| -0.3822047854265188| -1.6056357781437909|      0.32543120364560935| -0.6520586259175268| -0.7737648203243728|  -0.216398178579683|-0.13942076933735162| -0.8888240236643606| -0.5651626811859186| -0.8999710724701186| -0.5591420136609406| -0.5366674601696977| -0.4918919987096009|-0.3002428643621984|   -0.5523895858496279|[-0.5354314343431...|\n",
      "|   12|   79|        27.466028|       2.0361602|    13.489129|     0.354507|           0.88029|115.26736111111111|11.410370793848754| 123.0| 80.0|129.0|-0.01041666666666...|-0.01041666666666...| 19.49492641492512|38.850691084396324|         0|         0|              0|           0|     0|         0|       1|                 0|                        0|           1|                        0|          0|          0|          0|          0|          0|          1|          0|          0|    -0.08716668020509274|   -0.20976968754396583|-0.20978871883948694|  0.5680469923193737|      0.07535110441599077| -1.0769463393001597| -0.4542508035430322|  -0.216398178579683|-0.46184452118882857| -1.1458577640940544|-0.11396915843902052|-0.09681996364664937|-0.10603048870192108|-0.08981081875218212| -0.4918919987096009|-0.3002428643621984|   -0.5523895858496279|[-0.0871666802050...|\n",
      "|   12|   84|         49.10952|       2.3925755|    20.525797|   0.30417562|         0.8483133|112.88194444444444|22.409864841158566| 123.0| 63.0|187.0| 0.03819444444444445| 0.03819444444444445| 34.80901500543316| 69.51746527751241|         3|         3|              6|          -1|    -1|         0|       1|                 0|                        0|           1|                        0|          0|          0|          0|          0|          0|          1|          0|          0|       1.118385970236927|   -0.01173142118908...|0.021863080267670122| 0.17088777703059344|     -0.06844706345704797|  -1.367103256888499|  0.9177566960711718|  -0.216398178579683| -1.3753784847680133|  0.5105818964528605|   0.412423284765694|  0.3356460180275264|  1.1237382127892444|  1.1177846306325674|-0.20290070879694405| 0.8465494295926647|  0.010150827671810763|[1.11838597023692...|\n",
      "|   12|   85|        42.717236|       0.2827849|    151.05911|   0.18696329|        0.65242696|108.41666666666667| 15.61692997173774| 107.0| 58.0|123.0|-0.02430555555555...|-0.02430555555555...|30.225103779321756|60.391891772410624|         0|         4|              4|           2|     1|         0|       1|                 0|                        0|           1|                        0|          0|          0|          0|          0|          0|          1|          0|          0|      0.7623327287576869|    -1.1840136004117987|    4.31910691398853|  -0.754021325493721|      -0.9493413772217495|  -1.910249975983991| 0.07044885216942212|  -3.437798170329991| -1.6440649446442441| -1.3172135910471834|-0.26436699935465324|-0.22038167269641387|  0.7556359569501466|  0.7584380306807318| -0.4918919987096009| 1.2288135275776189|  -0.17736264350200215|[0.76233272875768...|\n",
      "|   12|   93|         44.80576|       1.9119918|    23.434072|    0.2816502|         0.7199318|109.68055555555556| 18.06517537592029| 123.0| 51.0|125.0|-0.10069444444444445|-0.10069444444444445|31.711354975138974| 63.25464492071455|         0|        14|             14|         -14|    -1|         0|       1|                 0|                        0|           1|                        0|          0|          0|          0|          0|          0|          1|          0|          0|      0.8786644884534527|   -0.27876250526968177| 0.11760545334739109|-0.00685782209524...|      -0.6457744065286484| -1.7565132685572733| 0.37582753967878024|  -0.216398178579683| -2.0202259884709672| -1.2600949820628071| -1.0915551243906332| -0.8999710724701186|  0.8749865270064477|  0.8711674508940812| -0.4918919987096009|  5.051454507427162|    0.7602047123670624|[0.87866448845345...|\n",
      "|   12|  112|         2.254365|       2.2988582|    0.9806455| 4.2254713E-4|        0.43421212|120.77777777777777| 5.666632506558211| 123.0| 95.0|134.0|-0.01041666666666...|            -0.03125| 2.314150343397484| 3.204264770235137|         0|         0|              0|           0|     0|         0|       1|                 0|                        0|           1|                        0|          0|          0|          0|          0|          0|          1|          0|          0|     -1.4914681582917755|   -0.06380443923595082| -0.6215763433208672|  -2.225993070386029|       -1.930646337359108| -0.4066711890633436| -1.1706884844117467|  -0.216398178579683| 0.34421485843986377| -1.0030612416331135|-0.11396915843902052|-0.28216252722129614|  -1.485699971167159| -1.4934948819254348| -0.4918919987096009|-0.3002428643621984|   -0.5523895858496279|[-1.4914681582917...|\n",
      "+-----+-----+-----------------+----------------+-------------+-------------+------------------+------------------+------------------+------+-----+-----+--------------------+--------------------+------------------+------------------+----------+----------+---------------+------------+------+----------+--------+------------------+-------------------------+------------+-------------------------+-----------+-----------+-----------+-----------+-----------+-----------+-----------+-----------+------------------------+-----------------------+--------------------+--------------------+-------------------------+--------------------+--------------------+--------------------+--------------------+--------------------+--------------------+--------------------+--------------------+--------------------+--------------------+-------------------+----------------------+--------------------+\n",
      "only showing top 20 rows\n",
      "\n"
     ]
    },
    {
     "name": "stderr",
     "output_type": "stream",
     "text": [
      "                                                                                \r"
     ]
    }
   ],
   "source": [
    "tester.show()"
   ]
  },
  {
   "cell_type": "code",
   "execution_count": null,
   "id": "0dd6a4fa-88f5-405b-8354-f2fb1b15c4f3",
   "metadata": {},
   "outputs": [],
   "source": []
  }
 ],
 "metadata": {
  "kernelspec": {
   "display_name": "glucose-venv",
   "language": "python",
   "name": "glucose-venv"
  },
  "language_info": {
   "codemirror_mode": {
    "name": "ipython",
    "version": 3
   },
   "file_extension": ".py",
   "mimetype": "text/x-python",
   "name": "python",
   "nbconvert_exporter": "python",
   "pygments_lexer": "ipython3",
   "version": "3.10.10"
  }
 },
 "nbformat": 4,
 "nbformat_minor": 5
}
