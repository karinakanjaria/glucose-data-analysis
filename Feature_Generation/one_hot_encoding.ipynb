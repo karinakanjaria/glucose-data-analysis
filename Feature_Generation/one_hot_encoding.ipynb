{
 "cells": [
  {
   "cell_type": "markdown",
   "id": "92f4fcfa-05d1-4a1e-b01f-2fe3deccc6fb",
   "metadata": {},
   "source": [
    "### Difference Features"
   ]
  },
  {
   "cell_type": "code",
   "execution_count": 23,
   "id": "2bee9aad-48b9-4fc9-be7e-a00e8017c397",
   "metadata": {
    "tags": []
   },
   "outputs": [],
   "source": [
    "# !sudo apt update\n",
    "# !sudo apt install openjdk-17-jre-headless -y\n",
    "import pyspark\n",
    "from pyspark import pandas as ps\n",
    "from pyspark.sql import SparkSession\n",
    "from pyspark.sql import SQLContext\n",
    "from pyspark import SparkContext, SparkConf\n",
    "from pyspark.ml.feature import OneHotEncoder, StringIndexer\n",
    "from pyspark.sql.functions import col, substring\n",
    "from pyspark.sql.types import StructType, StructField, \\\n",
    "StringType, IntegerType, TimestampType, DateType, FloatType\n"
   ]
  },
  {
   "cell_type": "code",
   "execution_count": 2,
   "id": "422056a1-39af-4067-9e7c-9a53ffbb41dc",
   "metadata": {
    "tags": []
   },
   "outputs": [
    {
     "name": "stderr",
     "output_type": "stream",
     "text": [
      "Setting default log level to \"WARN\".\n",
      "To adjust logging level use sc.setLogLevel(newLevel). For SparkR, use setLogLevel(newLevel).\n"
     ]
    },
    {
     "name": "stdout",
     "output_type": "stream",
     "text": [
      "23/05/02 23:27:52 WARN NativeCodeLoader: Unable to load native-hadoop library for your platform... using builtin-java classes where applicable\n"
     ]
    }
   ],
   "source": [
    "conf = pyspark.SparkConf().setAll([\\\n",
    "            ('spark.app.name', 'Glucose_Analysis_Spark')])\\\n",
    "            .set('spark.sql.shuffle.partitions', '1500')\n",
    "spark = SparkSession.builder.config(conf=conf)\\\n",
    "    .getOrCreate()  "
   ]
  },
  {
   "cell_type": "code",
   "execution_count": 3,
   "id": "894b4b3c-b5e4-4c5d-8bf8-2c2664a3d136",
   "metadata": {
    "tags": []
   },
   "outputs": [
    {
     "name": "stderr",
     "output_type": "stream",
     "text": [
      "                                                                                \r"
     ]
    }
   ],
   "source": [
    "df = spark.read.options(header='True', inferSchema='True', delimiter=',')\\\n",
    "        .csv('/cephfs/data/cohort.csv')"
   ]
  },
  {
   "cell_type": "code",
   "execution_count": 4,
   "id": "d976072a-9b43-4c1b-860a-2848632c0690",
   "metadata": {
    "tags": []
   },
   "outputs": [
    {
     "name": "stdout",
     "output_type": "stream",
     "text": [
      "23/05/02 23:28:04 WARN CSVHeaderChecker: CSV header does not conform to the schema.\n",
      " Header: , UserId, Gender, DOB, Age, DiabetesType, Treatment\n",
      " Schema: _c0, UserId, Gender, DOB, Age, DiabetesType, Treatment\n",
      "Expected: _c0 but found: \n",
      "CSV file: file:///cephfs/data/cohort.csv\n",
      "+---+--------------------+------+-------------------+---+------------+---------+\n",
      "|_c0|              UserId|Gender|                DOB|Age|DiabetesType|Treatment|\n",
      "+---+--------------------+------+-------------------+---+------------+---------+\n",
      "|  0|5lZPrCk6qk8L6Jw+S...|Female|1931-01-01 00:00:00| 92|    type-two|       no|\n",
      "|  1|9qY9mZ+GV5Kd/O/NB...|  Male|1937-01-01 00:00:00| 86|    type-two|       no|\n",
      "+---+--------------------+------+-------------------+---+------------+---------+\n",
      "only showing top 2 rows\n",
      "\n"
     ]
    }
   ],
   "source": [
    "df.show(2)"
   ]
  },
  {
   "cell_type": "code",
   "execution_count": 27,
   "id": "a4131273-4fb1-4ba9-aca2-1c6c566bd22b",
   "metadata": {
    "tags": []
   },
   "outputs": [],
   "source": [
    "df = df.withColumn('AgeGroup', substring(df.Age.cast(StringType()), 0,1))"
   ]
  },
  {
   "cell_type": "code",
   "execution_count": 30,
   "id": "05c3f253-0342-48c3-a943-63ad0ce98f0d",
   "metadata": {
    "tags": []
   },
   "outputs": [],
   "source": [
    "df = df.withColumnRenamed('Gender', 'Sex')"
   ]
  },
  {
   "cell_type": "code",
   "execution_count": 31,
   "id": "e7d9ed28-e84d-4c0d-a788-8349ce998b10",
   "metadata": {
    "tags": []
   },
   "outputs": [
    {
     "name": "stdout",
     "output_type": "stream",
     "text": [
      "23/05/02 23:42:14 WARN CSVHeaderChecker: CSV header does not conform to the schema.\n",
      " Header: , UserId, Gender, DOB, Age, DiabetesType, Treatment\n",
      " Schema: _c0, UserId, Gender, DOB, Age, DiabetesType, Treatment\n",
      "Expected: _c0 but found: \n",
      "CSV file: file:///cephfs/data/cohort.csv\n",
      "+---+--------------------+------+-------------------+---+------------+---------+--------+\n",
      "|_c0|              UserId|   Sex|                DOB|Age|DiabetesType|Treatment|AgeGroup|\n",
      "+---+--------------------+------+-------------------+---+------------+---------+--------+\n",
      "|  0|5lZPrCk6qk8L6Jw+S...|Female|1931-01-01 00:00:00| 92|    type-two|       no|       9|\n",
      "|  1|9qY9mZ+GV5Kd/O/NB...|  Male|1937-01-01 00:00:00| 86|    type-two|       no|       8|\n",
      "|  2|uhsyLhr4Zl6NfGbNB...|Female|1938-01-01 00:00:00| 85|    type-two|       no|       8|\n",
      "+---+--------------------+------+-------------------+---+------------+---------+--------+\n",
      "only showing top 3 rows\n",
      "\n"
     ]
    }
   ],
   "source": [
    "df.show(3)"
   ]
  },
  {
   "cell_type": "code",
   "execution_count": 32,
   "id": "6d7edf4b-384f-49a7-b414-3bbc4f6fc76c",
   "metadata": {
    "tags": []
   },
   "outputs": [
    {
     "name": "stderr",
     "output_type": "stream",
     "text": [
      "                                                                                \r"
     ]
    }
   ],
   "source": [
    "encodedCols = ['Sex', 'Treatment', 'AgeGroup'] # not doing'DiabetesType' because all type-two\n",
    "encodedLabels = []\n",
    "\n",
    "for name in encodedCols:\n",
    "    indexer = StringIndexer(inputCol=name, outputCol= name + '_Num')\n",
    "    indexer_fitted = indexer.fit(df)\n",
    "    encodedLabels.append([name, indexer_fitted.labels])\n",
    "                          \n",
    "    df = indexer_fitted.transform(df)"
   ]
  },
  {
   "cell_type": "code",
   "execution_count": 33,
   "id": "c41e2960-ab3e-4713-a441-6a391f9bd89c",
   "metadata": {
    "tags": []
   },
   "outputs": [
    {
     "data": {
      "text/plain": [
       "[['Sex', ['Female', 'Male']],\n",
       " ['Treatment', ['yes-both', 'yes-long-acting', 'no', 'yes-fast-acting']],\n",
       " ['AgeGroup', ['5', '6', '7', '4', '3', '8', '9', '1']]]"
      ]
     },
     "execution_count": 33,
     "metadata": {},
     "output_type": "execute_result"
    }
   ],
   "source": [
    "encodedLabels"
   ]
  },
  {
   "cell_type": "code",
   "execution_count": 34,
   "id": "b3a97199-749f-4352-a9ec-a2bad688eb29",
   "metadata": {
    "tags": []
   },
   "outputs": [
    {
     "name": "stdout",
     "output_type": "stream",
     "text": [
      "23/05/02 23:42:35 WARN CSVHeaderChecker: CSV header does not conform to the schema.\n",
      " Header: , UserId, Gender, DOB, Age, DiabetesType, Treatment\n",
      " Schema: _c0, UserId, Gender, DOB, Age, DiabetesType, Treatment\n",
      "Expected: _c0 but found: \n",
      "CSV file: file:///cephfs/data/cohort.csv\n",
      "+---+--------------------+------+-------------------+---+------------+---------+--------+-------+-------------+------------+\n",
      "|_c0|              UserId|   Sex|                DOB|Age|DiabetesType|Treatment|AgeGroup|Sex_Num|Treatment_Num|AgeGroup_Num|\n",
      "+---+--------------------+------+-------------------+---+------------+---------+--------+-------+-------------+------------+\n",
      "|  0|5lZPrCk6qk8L6Jw+S...|Female|1931-01-01 00:00:00| 92|    type-two|       no|       9|    0.0|          2.0|         6.0|\n",
      "|  1|9qY9mZ+GV5Kd/O/NB...|  Male|1937-01-01 00:00:00| 86|    type-two|       no|       8|    1.0|          2.0|         5.0|\n",
      "+---+--------------------+------+-------------------+---+------------+---------+--------+-------+-------------+------------+\n",
      "only showing top 2 rows\n",
      "\n"
     ]
    }
   ],
   "source": [
    "df.show(2)"
   ]
  },
  {
   "cell_type": "code",
   "execution_count": 35,
   "id": "87054235-3cf0-4c15-934c-9ef1b3ea05b0",
   "metadata": {
    "tags": []
   },
   "outputs": [],
   "source": [
    "single_col_ohe = OneHotEncoder(inputCol=\"Sex_Num\", outputCol=\"Sex_Encoded\", dropLast=True)\n",
    "df = single_col_ohe.fit(df).transform(df)\n",
    "\n",
    "single_col_ohe = OneHotEncoder(inputCol=\"Treatment_Num\", outputCol=\"Treatment_Encoded\", dropLast=True)\n",
    "df = single_col_ohe.fit(df).transform(df)\n",
    "\n",
    "single_col_ohe = OneHotEncoder(inputCol=\"AgeGroup_Num\", outputCol=\"AgeGroup_Encoded\", dropLast=True)\n",
    "df = single_col_ohe.fit(df).transform(df)"
   ]
  },
  {
   "cell_type": "code",
   "execution_count": 36,
   "id": "35e16936-383d-4399-8cc4-397a2d7b9744",
   "metadata": {
    "tags": []
   },
   "outputs": [
    {
     "name": "stdout",
     "output_type": "stream",
     "text": [
      "23/05/02 23:43:13 WARN CSVHeaderChecker: CSV header does not conform to the schema.\n",
      " Header: , UserId, Gender, DOB, Age, DiabetesType, Treatment\n",
      " Schema: _c0, UserId, Gender, DOB, Age, DiabetesType, Treatment\n",
      "Expected: _c0 but found: \n",
      "CSV file: file:///cephfs/data/cohort.csv\n",
      "+---+--------------------+------+-------------------+---+------------+---------+--------+-------+-------------+------------+-------------+-----------------+----------------+\n",
      "|_c0|              UserId|   Sex|                DOB|Age|DiabetesType|Treatment|AgeGroup|Sex_Num|Treatment_Num|AgeGroup_Num|  Sex_Encoded|Treatment_Encoded|AgeGroup_Encoded|\n",
      "+---+--------------------+------+-------------------+---+------------+---------+--------+-------+-------------+------------+-------------+-----------------+----------------+\n",
      "|  0|5lZPrCk6qk8L6Jw+S...|Female|1931-01-01 00:00:00| 92|    type-two|       no|       9|    0.0|          2.0|         6.0|(1,[0],[1.0])|    (3,[2],[1.0])|   (7,[6],[1.0])|\n",
      "|  1|9qY9mZ+GV5Kd/O/NB...|  Male|1937-01-01 00:00:00| 86|    type-two|       no|       8|    1.0|          2.0|         5.0|    (1,[],[])|    (3,[2],[1.0])|   (7,[5],[1.0])|\n",
      "|  2|uhsyLhr4Zl6NfGbNB...|Female|1938-01-01 00:00:00| 85|    type-two|       no|       8|    0.0|          2.0|         5.0|(1,[0],[1.0])|    (3,[2],[1.0])|   (7,[5],[1.0])|\n",
      "|  3|9uAVHBOgoCJ9hfcrL...|  Male|1938-01-01 00:00:00| 85|    type-two|       no|       8|    1.0|          2.0|         5.0|    (1,[],[])|    (3,[2],[1.0])|   (7,[5],[1.0])|\n",
      "|  4|Fyb156jU1edGykL7N...|Female|1939-01-01 00:00:00| 84|    type-two|       no|       8|    0.0|          2.0|         5.0|(1,[0],[1.0])|    (3,[2],[1.0])|   (7,[5],[1.0])|\n",
      "|  5|86XfZ0fNI0VWOzWrl...|Female|1939-01-01 00:00:00| 84|    type-two|       no|       8|    0.0|          2.0|         5.0|(1,[0],[1.0])|    (3,[2],[1.0])|   (7,[5],[1.0])|\n",
      "|  6|JfJMH1qCpiYNuPOp/...|Female|1940-01-01 00:00:00| 83|    type-two|       no|       8|    0.0|          2.0|         5.0|(1,[0],[1.0])|    (3,[2],[1.0])|   (7,[5],[1.0])|\n",
      "|  7|EkW0PD80req7mL/5S...|  Male|1940-01-01 00:00:00| 83|    type-two|       no|       8|    1.0|          2.0|         5.0|    (1,[],[])|    (3,[2],[1.0])|   (7,[5],[1.0])|\n",
      "|  8|OyqSKorAj1OPZaevj...|Female|1941-01-01 00:00:00| 82|    type-two|       no|       8|    0.0|          2.0|         5.0|(1,[0],[1.0])|    (3,[2],[1.0])|   (7,[5],[1.0])|\n",
      "|  9|4n03YE5Q5c2Ge1O4+...|Female|1941-01-01 00:00:00| 82|    type-two|       no|       8|    0.0|          2.0|         5.0|(1,[0],[1.0])|    (3,[2],[1.0])|   (7,[5],[1.0])|\n",
      "| 10|uAMPYMNKPbpZUYFRa...|  Male|1941-01-01 00:00:00| 82|    type-two|       no|       8|    1.0|          2.0|         5.0|    (1,[],[])|    (3,[2],[1.0])|   (7,[5],[1.0])|\n",
      "| 11|HN0cXF7eu32av2B7t...|  Male|1941-01-01 00:00:00| 82|    type-two|       no|       8|    1.0|          2.0|         5.0|    (1,[],[])|    (3,[2],[1.0])|   (7,[5],[1.0])|\n",
      "| 12|aTY0dn2ojwufciqoT...|  Male|1942-01-01 00:00:00| 81|    type-two|       no|       8|    1.0|          2.0|         5.0|    (1,[],[])|    (3,[2],[1.0])|   (7,[5],[1.0])|\n",
      "| 13|OMfjTKNcJTpWf6lvz...|  Male|1942-01-01 00:00:00| 81|    type-two|       no|       8|    1.0|          2.0|         5.0|    (1,[],[])|    (3,[2],[1.0])|   (7,[5],[1.0])|\n",
      "| 14|Vns5tiWlfPr9ZAOIr...|Female|1942-01-01 00:00:00| 81|    type-two|       no|       8|    0.0|          2.0|         5.0|(1,[0],[1.0])|    (3,[2],[1.0])|   (7,[5],[1.0])|\n",
      "| 15|3yR+rNyx89hQ6BVD7...|Female|1942-01-01 00:00:00| 81|    type-two|       no|       8|    0.0|          2.0|         5.0|(1,[0],[1.0])|    (3,[2],[1.0])|   (7,[5],[1.0])|\n",
      "| 16|A0gx8UZPDrWZex0XH...|  Male|1942-01-01 00:00:00| 81|    type-two|       no|       8|    1.0|          2.0|         5.0|    (1,[],[])|    (3,[2],[1.0])|   (7,[5],[1.0])|\n",
      "| 17|DPjfSVNYKu8gy19Pt...|Female|1942-01-01 00:00:00| 81|    type-two|       no|       8|    0.0|          2.0|         5.0|(1,[0],[1.0])|    (3,[2],[1.0])|   (7,[5],[1.0])|\n",
      "| 18|RCBM42DpSLdBF0MJx...|Female|1943-01-01 00:00:00| 80|    type-two|       no|       8|    0.0|          2.0|         5.0|(1,[0],[1.0])|    (3,[2],[1.0])|   (7,[5],[1.0])|\n",
      "| 19|If2/F4Z1JF1rPy3v+...|Female|1944-01-01 00:00:00| 79|    type-two|       no|       7|    0.0|          2.0|         2.0|(1,[0],[1.0])|    (3,[2],[1.0])|   (7,[2],[1.0])|\n",
      "+---+--------------------+------+-------------------+---+------------+---------+--------+-------+-------------+------------+-------------+-----------------+----------------+\n",
      "only showing top 20 rows\n",
      "\n"
     ]
    }
   ],
   "source": [
    "df.show()"
   ]
  },
  {
   "cell_type": "code",
   "execution_count": 38,
   "id": "1b1c8ed2-9b69-42a1-92c1-1dda00078863",
   "metadata": {
    "tags": []
   },
   "outputs": [
    {
     "name": "stderr",
     "output_type": "stream",
     "text": [
      "[Stage 19:>                                                         (0 + 1) / 1]\r"
     ]
    },
    {
     "name": "stdout",
     "output_type": "stream",
     "text": [
      "23/05/02 23:44:57 WARN CSVHeaderChecker: CSV header does not conform to the schema.\n",
      " Header: , UserId, Gender, DOB, Age, DiabetesType, Treatment\n",
      " Schema: _c0, UserId, Gender, DOB, Age, DiabetesType, Treatment\n",
      "Expected: _c0 but found: \n",
      "CSV file: file:///cephfs/data/cohort.csv\n"
     ]
    },
    {
     "name": "stderr",
     "output_type": "stream",
     "text": [
      "                                                                                \r"
     ]
    }
   ],
   "source": [
    "df.write.parquet('/cephfs/data/cohort_encoded.parquet')"
   ]
  },
  {
   "cell_type": "code",
   "execution_count": 39,
   "id": "3121825b-3511-4066-aa72-6818a328ead3",
   "metadata": {},
   "outputs": [],
   "source": [
    "test = spark.read.parquet('/cephfs/data/cohort_encoded.parquet')"
   ]
  },
  {
   "cell_type": "code",
   "execution_count": 40,
   "id": "8f61dd82-a9ba-4fe1-b9fd-8cbcc905d3c5",
   "metadata": {
    "tags": []
   },
   "outputs": [
    {
     "name": "stdout",
     "output_type": "stream",
     "text": [
      "+---+--------------------+------+-------------------+---+------------+---------+--------+-------+-------------+------------+-------------+-----------------+----------------+\n",
      "|_c0|              UserId|   Sex|                DOB|Age|DiabetesType|Treatment|AgeGroup|Sex_Num|Treatment_Num|AgeGroup_Num|  Sex_Encoded|Treatment_Encoded|AgeGroup_Encoded|\n",
      "+---+--------------------+------+-------------------+---+------------+---------+--------+-------+-------------+------------+-------------+-----------------+----------------+\n",
      "|  0|5lZPrCk6qk8L6Jw+S...|Female|1931-01-01 00:00:00| 92|    type-two|       no|       9|    0.0|          2.0|         6.0|(1,[0],[1.0])|    (3,[2],[1.0])|   (7,[6],[1.0])|\n",
      "|  1|9qY9mZ+GV5Kd/O/NB...|  Male|1937-01-01 00:00:00| 86|    type-two|       no|       8|    1.0|          2.0|         5.0|    (1,[],[])|    (3,[2],[1.0])|   (7,[5],[1.0])|\n",
      "|  2|uhsyLhr4Zl6NfGbNB...|Female|1938-01-01 00:00:00| 85|    type-two|       no|       8|    0.0|          2.0|         5.0|(1,[0],[1.0])|    (3,[2],[1.0])|   (7,[5],[1.0])|\n",
      "|  3|9uAVHBOgoCJ9hfcrL...|  Male|1938-01-01 00:00:00| 85|    type-two|       no|       8|    1.0|          2.0|         5.0|    (1,[],[])|    (3,[2],[1.0])|   (7,[5],[1.0])|\n",
      "+---+--------------------+------+-------------------+---+------------+---------+--------+-------+-------------+------------+-------------+-----------------+----------------+\n",
      "only showing top 4 rows\n",
      "\n"
     ]
    }
   ],
   "source": [
    "test.show(4)"
   ]
  },
  {
   "cell_type": "code",
   "execution_count": null,
   "id": "92069d64-3ab8-40a4-970b-27de1e784b3d",
   "metadata": {},
   "outputs": [],
   "source": []
  }
 ],
 "metadata": {
  "kernelspec": {
   "display_name": "glucose-venv",
   "language": "python",
   "name": "glucose-venv"
  },
  "language_info": {
   "codemirror_mode": {
    "name": "ipython",
    "version": 3
   },
   "file_extension": ".py",
   "mimetype": "text/x-python",
   "name": "python",
   "nbconvert_exporter": "python",
   "pygments_lexer": "ipython3",
   "version": "3.10.10"
  }
 },
 "nbformat": 4,
 "nbformat_minor": 5
}
