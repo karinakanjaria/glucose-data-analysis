{
 "cells": [
  {
   "cell_type": "markdown",
   "id": "92f4fcfa-05d1-4a1e-b01f-2fe3deccc6fb",
   "metadata": {},
   "source": [
    "### Difference Features"
   ]
  },
  {
   "cell_type": "code",
   "execution_count": 2,
   "id": "2bee9aad-48b9-4fc9-be7e-a00e8017c397",
   "metadata": {
    "tags": []
   },
   "outputs": [],
   "source": [
    "# !sudo apt update\n",
    "# !sudo apt install openjdk-17-jre-headless -y\n",
    "import pyspark\n",
    "from pyspark import pandas as ps\n",
    "from pyspark.sql import SparkSession\n",
    "from pyspark.sql import SQLContext\n",
    "from pyspark import SparkContext, SparkConf\n",
    "from pyspark.ml.feature import OneHotEncoder, StringIndexer\n",
    "from pyspark.sql.functions import col, substring\n",
    "from pyspark.sql.types import StructType, StructField, \\\n",
    "StringType, IntegerType, TimestampType, DateType, FloatType\n"
   ]
  },
  {
   "cell_type": "code",
   "execution_count": 3,
   "id": "422056a1-39af-4067-9e7c-9a53ffbb41dc",
   "metadata": {
    "tags": []
   },
   "outputs": [
    {
     "name": "stderr",
     "output_type": "stream",
     "text": [
      "Setting default log level to \"WARN\".\n",
      "To adjust logging level use sc.setLogLevel(newLevel). For SparkR, use setLogLevel(newLevel).\n"
     ]
    },
    {
     "name": "stdout",
     "output_type": "stream",
     "text": [
      "23/05/17 00:19:08 WARN NativeCodeLoader: Unable to load native-hadoop library for your platform... using builtin-java classes where applicable\n",
      "23/05/17 00:19:09 WARN Utils: Service 'SparkUI' could not bind on port 4040. Attempting port 4041.\n",
      "23/05/17 00:19:09 WARN Utils: Service 'SparkUI' could not bind on port 4041. Attempting port 4042.\n"
     ]
    }
   ],
   "source": [
    "conf = pyspark.SparkConf().setAll([\\\n",
    "            ('spark.app.name', 'Glucose_Analysis_Spark')])\\\n",
    "            .set('spark.sql.shuffle.partitions', '1500')\n",
    "spark = SparkSession.builder.config(conf=conf)\\\n",
    "    .getOrCreate()  "
   ]
  },
  {
   "cell_type": "code",
   "execution_count": 35,
   "id": "894b4b3c-b5e4-4c5d-8bf8-2c2664a3d136",
   "metadata": {
    "tags": []
   },
   "outputs": [],
   "source": [
    "df = spark.read.options(header='True', inferSchema='True', delimiter=',')\\\n",
    "        .csv('/cephfs/data/cohort.csv')\\\n",
    "        .withColumnRenamed('_c0', 'NumId')"
   ]
  },
  {
   "cell_type": "code",
   "execution_count": 36,
   "id": "d976072a-9b43-4c1b-860a-2848632c0690",
   "metadata": {
    "tags": []
   },
   "outputs": [
    {
     "name": "stdout",
     "output_type": "stream",
     "text": [
      "23/05/17 00:26:41 WARN CSVHeaderChecker: CSV header does not conform to the schema.\n",
      " Header: , UserId, Gender, DOB, Age, DiabetesType, Treatment\n",
      " Schema: _c0, UserId, Gender, DOB, Age, DiabetesType, Treatment\n",
      "Expected: _c0 but found: \n",
      "CSV file: file:///cephfs/data/cohort.csv\n",
      "+-----+--------------------+------+-------------------+---+------------+---------+\n",
      "|NumId|              UserId|Gender|                DOB|Age|DiabetesType|Treatment|\n",
      "+-----+--------------------+------+-------------------+---+------------+---------+\n",
      "|    0|5lZPrCk6qk8L6Jw+S...|Female|1931-01-01 00:00:00| 92|    type-two|       no|\n",
      "|    1|9qY9mZ+GV5Kd/O/NB...|  Male|1937-01-01 00:00:00| 86|    type-two|       no|\n",
      "+-----+--------------------+------+-------------------+---+------------+---------+\n",
      "only showing top 2 rows\n",
      "\n"
     ]
    }
   ],
   "source": [
    "df.show(2)"
   ]
  },
  {
   "cell_type": "code",
   "execution_count": 37,
   "id": "a4131273-4fb1-4ba9-aca2-1c6c566bd22b",
   "metadata": {
    "tags": []
   },
   "outputs": [],
   "source": [
    "df = df.withColumn('AgeGroup', substring(df.Age.cast(StringType()), 0,1))"
   ]
  },
  {
   "cell_type": "code",
   "execution_count": 38,
   "id": "05c3f253-0342-48c3-a943-63ad0ce98f0d",
   "metadata": {
    "tags": []
   },
   "outputs": [],
   "source": [
    "df = df.withColumnRenamed('Gender', 'Sex')"
   ]
  },
  {
   "cell_type": "code",
   "execution_count": 39,
   "id": "e7d9ed28-e84d-4c0d-a788-8349ce998b10",
   "metadata": {
    "tags": []
   },
   "outputs": [
    {
     "name": "stdout",
     "output_type": "stream",
     "text": [
      "+-----+--------------------+------+-------------------+---+------------+---------+--------+\n",
      "|NumId|              UserId|   Sex|                DOB|Age|DiabetesType|Treatment|AgeGroup|\n",
      "+-----+--------------------+------+-------------------+---+------------+---------+--------+\n",
      "|    0|5lZPrCk6qk8L6Jw+S...|Female|1931-01-01 00:00:00| 92|    type-two|       no|       9|\n",
      "|    1|9qY9mZ+GV5Kd/O/NB...|  Male|1937-01-01 00:00:00| 86|    type-two|       no|       8|\n",
      "|    2|uhsyLhr4Zl6NfGbNB...|Female|1938-01-01 00:00:00| 85|    type-two|       no|       8|\n",
      "+-----+--------------------+------+-------------------+---+------------+---------+--------+\n",
      "only showing top 3 rows\n",
      "\n",
      "23/05/17 00:26:42 WARN CSVHeaderChecker: CSV header does not conform to the schema.\n",
      " Header: , UserId, Gender, DOB, Age, DiabetesType, Treatment\n",
      " Schema: _c0, UserId, Gender, DOB, Age, DiabetesType, Treatment\n",
      "Expected: _c0 but found: \n",
      "CSV file: file:///cephfs/data/cohort.csv\n"
     ]
    }
   ],
   "source": [
    "df.show(3)"
   ]
  },
  {
   "cell_type": "code",
   "execution_count": 40,
   "id": "6d7edf4b-384f-49a7-b414-3bbc4f6fc76c",
   "metadata": {
    "tags": []
   },
   "outputs": [],
   "source": [
    "encodedCols = ['Sex', 'Treatment', 'AgeGroup'] # not doing'DiabetesType' because all type-two\n",
    "encodedLabels = []\n",
    "\n",
    "for name in encodedCols:\n",
    "    indexer = StringIndexer(inputCol=name, outputCol= name + '_Num')\n",
    "    indexer_fitted = indexer.fit(df)\n",
    "    encodedLabels.append([name, indexer_fitted.labels])                    "
   ]
  },
  {
   "cell_type": "code",
   "execution_count": 41,
   "id": "c41e2960-ab3e-4713-a441-6a391f9bd89c",
   "metadata": {
    "tags": []
   },
   "outputs": [
    {
     "data": {
      "text/plain": [
       "[['Sex', ['Female', 'Male']],\n",
       " ['Treatment', ['yes-both', 'yes-long-acting', 'no', 'yes-fast-acting']],\n",
       " ['AgeGroup', ['5', '6', '7', '4', '3', '8', '9', '1']]]"
      ]
     },
     "execution_count": 41,
     "metadata": {},
     "output_type": "execute_result"
    }
   ],
   "source": [
    "encodedLabels"
   ]
  },
  {
   "cell_type": "code",
   "execution_count": 42,
   "id": "46a4653b-f60e-4c53-b6ce-7120792fc4d4",
   "metadata": {
    "tags": []
   },
   "outputs": [],
   "source": [
    "for label in encodedLabels:\n",
    "    main = label[0]\n",
    "    categories = label[1]\n",
    "    for cat in categories:\n",
    "        cat = cat.replace('-', '_')\n",
    "        if main == 'Sex':\n",
    "            df = df.withColumn(main + '_' + cat, (df.Sex == cat).cast('integer'))\n",
    "        elif main == 'Treatment':\n",
    "            df = df.withColumn(main + '_' + cat, (df.Treatment == cat).cast('integer'))\n",
    "        elif main == 'AgeGroup':\n",
    "            df = df.withColumn(main + '_' + cat, (df.AgeGroup == cat).cast('integer'))\n",
    "            "
   ]
  },
  {
   "cell_type": "code",
   "execution_count": null,
   "id": "76b045b0-13a6-42a7-9510-ad3ac4bbba8e",
   "metadata": {},
   "outputs": [],
   "source": []
  },
  {
   "cell_type": "code",
   "execution_count": 44,
   "id": "55f0ea27-1bd2-4946-82b8-f9f413e9c68f",
   "metadata": {
    "tags": []
   },
   "outputs": [
    {
     "data": {
      "text/plain": [
       "['NumId',\n",
       " 'UserId',\n",
       " 'Sex',\n",
       " 'DOB',\n",
       " 'Age',\n",
       " 'DiabetesType',\n",
       " 'Treatment',\n",
       " 'AgeGroup',\n",
       " 'Sex_Female',\n",
       " 'Sex_Male',\n",
       " 'Treatment_yes_both',\n",
       " 'Treatment_yes_long_acting',\n",
       " 'Treatment_no',\n",
       " 'Treatment_yes_fast_acting',\n",
       " 'AgeGroup_5',\n",
       " 'AgeGroup_6',\n",
       " 'AgeGroup_7',\n",
       " 'AgeGroup_4',\n",
       " 'AgeGroup_3',\n",
       " 'AgeGroup_8',\n",
       " 'AgeGroup_9',\n",
       " 'AgeGroup_1']"
      ]
     },
     "execution_count": 44,
     "metadata": {},
     "output_type": "execute_result"
    }
   ],
   "source": [
    "df.columns"
   ]
  },
  {
   "cell_type": "code",
   "execution_count": 47,
   "id": "b41d6ffa-d107-46e4-9728-21da091b2a6f",
   "metadata": {
    "tags": []
   },
   "outputs": [],
   "source": [
    "df = df.drop('UserId', 'Sex', 'DOB', 'Age', 'DiabetesType', 'Treatment', 'AgeGroup')"
   ]
  },
  {
   "cell_type": "raw",
   "id": "4ad0b0ef-63a0-4d72-93d0-cb7e2f0550d8",
   "metadata": {
    "tags": []
   },
   "source": [
    "single_col_ohe = OneHotEncoder(inputCol=\"Sex_Num\", outputCol=\"Sex_Encoded\", dropLast=True)\n",
    "df = single_col_ohe.fit(df).transform(df)\n",
    "\n",
    "single_col_ohe = OneHotEncoder(inputCol=\"Treatment_Num\", outputCol=\"Treatment_Encoded\", dropLast=True)\n",
    "df = single_col_ohe.fit(df).transform(df)\n",
    "\n",
    "single_col_ohe = OneHotEncoder(inputCol=\"AgeGroup_Num\", outputCol=\"AgeGroup_Encoded\", dropLast=True)\n",
    "df = single_col_ohe.fit(df).transform(df)"
   ]
  },
  {
   "cell_type": "code",
   "execution_count": 53,
   "id": "35e16936-383d-4399-8cc4-397a2d7b9744",
   "metadata": {
    "tags": []
   },
   "outputs": [
    {
     "data": {
      "text/plain": [
       "[('NumId', 'int'),\n",
       " ('Sex_Female', 'int'),\n",
       " ('Sex_Male', 'int'),\n",
       " ('Treatment_yes_both', 'int'),\n",
       " ('Treatment_yes_long_acting', 'int'),\n",
       " ('Treatment_no', 'int'),\n",
       " ('Treatment_yes_fast_acting', 'int'),\n",
       " ('AgeGroup_5', 'int'),\n",
       " ('AgeGroup_6', 'int'),\n",
       " ('AgeGroup_7', 'int'),\n",
       " ('AgeGroup_4', 'int'),\n",
       " ('AgeGroup_3', 'int'),\n",
       " ('AgeGroup_8', 'int'),\n",
       " ('AgeGroup_9', 'int'),\n",
       " ('AgeGroup_1', 'int')]"
      ]
     },
     "execution_count": 53,
     "metadata": {},
     "output_type": "execute_result"
    }
   ],
   "source": [
    "df.dtypes"
   ]
  },
  {
   "cell_type": "code",
   "execution_count": 52,
   "id": "1b1c8ed2-9b69-42a1-92c1-1dda00078863",
   "metadata": {
    "tags": []
   },
   "outputs": [
    {
     "name": "stderr",
     "output_type": "stream",
     "text": [
      "[Stage 47:>                                                         (0 + 1) / 1]\r"
     ]
    },
    {
     "name": "stdout",
     "output_type": "stream",
     "text": [
      "23/05/17 00:29:44 WARN CSVHeaderChecker: CSV header does not conform to the schema.\n",
      " Header: , Gender, Age, Treatment\n",
      " Schema: _c0, Gender, Age, Treatment\n",
      "Expected: _c0 but found: \n",
      "CSV file: file:///cephfs/data/cohort.csv\n"
     ]
    },
    {
     "name": "stderr",
     "output_type": "stream",
     "text": [
      "                                                                                \r"
     ]
    }
   ],
   "source": [
    "df.write.mode('overwrite').parquet('/cephfs/data/cohort_encoded.parquet')"
   ]
  },
  {
   "cell_type": "code",
   "execution_count": null,
   "id": "b8ded743-6274-4027-8386-db79d7d85a33",
   "metadata": {},
   "outputs": [],
   "source": []
  }
 ],
 "metadata": {
  "kernelspec": {
   "display_name": "glucose-venv",
   "language": "python",
   "name": "glucose-venv"
  },
  "language_info": {
   "codemirror_mode": {
    "name": "ipython",
    "version": 3
   },
   "file_extension": ".py",
   "mimetype": "text/x-python",
   "name": "python",
   "nbconvert_exporter": "python",
   "pygments_lexer": "ipython3",
   "version": "3.10.10"
  }
 },
 "nbformat": 4,
 "nbformat_minor": 5
}
