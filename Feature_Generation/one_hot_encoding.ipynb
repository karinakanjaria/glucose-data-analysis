{
 "cells": [
  {
   "cell_type": "markdown",
   "id": "92f4fcfa-05d1-4a1e-b01f-2fe3deccc6fb",
   "metadata": {},
   "source": [
    "### Difference Features"
   ]
  },
  {
   "cell_type": "code",
   "execution_count": 1,
   "id": "2bee9aad-48b9-4fc9-be7e-a00e8017c397",
   "metadata": {
    "tags": []
   },
   "outputs": [],
   "source": [
    "# !sudo apt update\n",
    "# !sudo apt install openjdk-17-jre-headless -y\n",
    "import pyspark\n",
    "# from pyspark import pandas as ps\n",
    "from pyspark.sql import SparkSession\n",
    "from pyspark.sql import SQLContext\n",
    "from pyspark import SparkContext, SparkConf\n",
    "from pyspark.ml.feature import OneHotEncoder, StringIndexer\n",
    "from pyspark.sql.functions import col, substring\n",
    "from pyspark.sql.types import StructType, StructField, \\\n",
    "StringType, IntegerType, TimestampType, DateType, FloatType\n",
    "\n",
    "import os"
   ]
  },
  {
   "cell_type": "code",
   "execution_count": 2,
   "id": "422056a1-39af-4067-9e7c-9a53ffbb41dc",
   "metadata": {
    "tags": []
   },
   "outputs": [
    {
     "name": "stderr",
     "output_type": "stream",
     "text": [
      "Setting default log level to \"WARN\".\n",
      "To adjust logging level use sc.setLogLevel(newLevel). For SparkR, use setLogLevel(newLevel).\n"
     ]
    },
    {
     "name": "stdout",
     "output_type": "stream",
     "text": [
      "23/05/24 03:23:40 WARN NativeCodeLoader: Unable to load native-hadoop library for your platform... using builtin-java classes where applicable\n"
     ]
    }
   ],
   "source": [
    "conf = pyspark.SparkConf().setAll([\\\n",
    "            ('spark.app.name', 'Glucose_Analysis_Spark')])\\\n",
    "            .set('spark.sql.shuffle.partitions', '1500')\n",
    "spark = SparkSession.builder.config(conf=conf)\\\n",
    "    .getOrCreate()  "
   ]
  },
  {
   "cell_type": "code",
   "execution_count": 3,
   "id": "894b4b3c-b5e4-4c5d-8bf8-2c2664a3d136",
   "metadata": {
    "tags": []
   },
   "outputs": [
    {
     "name": "stderr",
     "output_type": "stream",
     "text": [
      "                                                                                \r"
     ]
    }
   ],
   "source": [
    "df = spark.read.options(header='True', inferSchema='True', delimiter=',')\\\n",
    "        .csv('/cephfs/data/cohort.csv')\\\n",
    "        .withColumnRenamed('_c0', 'NumId')"
   ]
  },
  {
   "cell_type": "code",
   "execution_count": 4,
   "id": "d976072a-9b43-4c1b-860a-2848632c0690",
   "metadata": {
    "tags": []
   },
   "outputs": [
    {
     "name": "stdout",
     "output_type": "stream",
     "text": [
      "23/05/24 03:23:48 WARN CSVHeaderChecker: CSV header does not conform to the schema.\n",
      " Header: , UserId, Gender, DOB, Age, DiabetesType, Treatment\n",
      " Schema: _c0, UserId, Gender, DOB, Age, DiabetesType, Treatment\n",
      "Expected: _c0 but found: \n",
      "CSV file: file:///cephfs/data/cohort.csv\n",
      "+-----+--------------------+------+-------------------+---+------------+---------+\n",
      "|NumId|              UserId|Gender|                DOB|Age|DiabetesType|Treatment|\n",
      "+-----+--------------------+------+-------------------+---+------------+---------+\n",
      "|    0|5lZPrCk6qk8L6Jw+S...|Female|1931-01-01 00:00:00| 92|    type-two|       no|\n",
      "|    1|9qY9mZ+GV5Kd/O/NB...|  Male|1937-01-01 00:00:00| 86|    type-two|       no|\n",
      "+-----+--------------------+------+-------------------+---+------------+---------+\n",
      "only showing top 2 rows\n",
      "\n"
     ]
    }
   ],
   "source": [
    "df.show(2)"
   ]
  },
  {
   "cell_type": "code",
   "execution_count": 5,
   "id": "a4131273-4fb1-4ba9-aca2-1c6c566bd22b",
   "metadata": {
    "tags": []
   },
   "outputs": [],
   "source": [
    "df = df.withColumn('AgeGroup', substring(df.Age.cast(StringType()), 0,1) * 10)\n",
    "df = df.withColumn('AgeGroup', df.AgeGroup.cast(IntegerType()))"
   ]
  },
  {
   "cell_type": "code",
   "execution_count": 6,
   "id": "05c3f253-0342-48c3-a943-63ad0ce98f0d",
   "metadata": {
    "tags": []
   },
   "outputs": [],
   "source": [
    "df = df.withColumnRenamed('Gender', 'Sex')"
   ]
  },
  {
   "cell_type": "code",
   "execution_count": 7,
   "id": "e7d9ed28-e84d-4c0d-a788-8349ce998b10",
   "metadata": {
    "tags": []
   },
   "outputs": [
    {
     "name": "stdout",
     "output_type": "stream",
     "text": [
      "23/05/24 03:23:49 WARN CSVHeaderChecker: CSV header does not conform to the schema.\n",
      " Header: , UserId, Gender, DOB, Age, DiabetesType, Treatment\n",
      " Schema: _c0, UserId, Gender, DOB, Age, DiabetesType, Treatment\n",
      "Expected: _c0 but found: \n",
      "CSV file: file:///cephfs/data/cohort.csv\n",
      "+-----+--------------------+------+-------------------+---+------------+---------+--------+\n",
      "|NumId|              UserId|   Sex|                DOB|Age|DiabetesType|Treatment|AgeGroup|\n",
      "+-----+--------------------+------+-------------------+---+------------+---------+--------+\n",
      "|    0|5lZPrCk6qk8L6Jw+S...|Female|1931-01-01 00:00:00| 92|    type-two|       no|      90|\n",
      "|    1|9qY9mZ+GV5Kd/O/NB...|  Male|1937-01-01 00:00:00| 86|    type-two|       no|      80|\n",
      "|    2|uhsyLhr4Zl6NfGbNB...|Female|1938-01-01 00:00:00| 85|    type-two|       no|      80|\n",
      "+-----+--------------------+------+-------------------+---+------------+---------+--------+\n",
      "only showing top 3 rows\n",
      "\n"
     ]
    }
   ],
   "source": [
    "df.show(3)"
   ]
  },
  {
   "cell_type": "code",
   "execution_count": 8,
   "id": "6d7edf4b-384f-49a7-b414-3bbc4f6fc76c",
   "metadata": {
    "tags": []
   },
   "outputs": [],
   "source": [
    "encodedCols = ['Sex', 'Treatment', 'AgeGroup'] # not doing'DiabetesType' because all type-two\n",
    "encodedLabels = []\n",
    "\n",
    "for name in encodedCols:\n",
    "    indexer = StringIndexer(inputCol=name, outputCol= name + '_Num')\n",
    "    indexer_fitted = indexer.fit(df)\n",
    "    encodedLabels.append([name, indexer_fitted.labels])                    \n",
    "    df = indexer_fitted.transform(df)"
   ]
  },
  {
   "cell_type": "code",
   "execution_count": 9,
   "id": "c41e2960-ab3e-4713-a441-6a391f9bd89c",
   "metadata": {
    "tags": []
   },
   "outputs": [
    {
     "data": {
      "text/plain": [
       "[['Sex', ['Female', 'Male']],\n",
       " ['Treatment', ['yes-both', 'yes-long-acting', 'no', 'yes-fast-acting']],\n",
       " ['AgeGroup', ['50', '60', '70', '40', '30', '80', '90', '10']]]"
      ]
     },
     "execution_count": 9,
     "metadata": {},
     "output_type": "execute_result"
    }
   ],
   "source": [
    "encodedLabels"
   ]
  },
  {
   "cell_type": "markdown",
   "id": "25de3324-3f86-4ca1-a932-bebd226f2e13",
   "metadata": {},
   "source": [
    "One Hot Encoding Way"
   ]
  },
  {
   "cell_type": "code",
   "execution_count": null,
   "id": "8f09fffb-9c82-4a94-adda-16a66eef89bb",
   "metadata": {
    "tags": []
   },
   "outputs": [],
   "source": [
    "single_col_ohe = OneHotEncoder(inputCol=\"Sex_Num\", outputCol=\"Sex_Encoded\", dropLast=True)\n",
    "df = single_col_ohe.fit(df).transform(df)\n",
    "\n",
    "single_col_ohe = OneHotEncoder(inputCol=\"Treatment_Num\", outputCol=\"Treatment_Encoded\", dropLast=True)\n",
    "df = single_col_ohe.fit(df).transform(df)\n",
    "\n",
    "single_col_ohe = OneHotEncoder(inputCol=\"AgeGroup_Num\", outputCol=\"AgeGroup_Encoded\", dropLast=True)\n",
    "df = single_col_ohe.fit(df).transform(df)"
   ]
  },
  {
   "cell_type": "code",
   "execution_count": null,
   "id": "dff1d39a-c9c5-4c47-a8fb-ffe8b15bddac",
   "metadata": {
    "tags": []
   },
   "outputs": [],
   "source": [
    "df = df.drop('UserId', 'Sex', 'DOB', 'Age', 'DiabetesType', 'Treatment', 'AgeGroup', 'Treatment_Num', \\\n",
    "            'Sex_Num', 'AgeGroup_Num')"
   ]
  },
  {
   "cell_type": "code",
   "execution_count": null,
   "id": "05bd64cb-b3d5-4b12-9a1e-b29663227e3b",
   "metadata": {
    "tags": []
   },
   "outputs": [],
   "source": [
    "df.show(5)"
   ]
  },
  {
   "cell_type": "code",
   "execution_count": null,
   "id": "e1e36ec9-6304-4c49-8494-9d200e682cd8",
   "metadata": {
    "tags": []
   },
   "outputs": [],
   "source": [
    "df.write.mode('overwrite').parquet('/cephfs/data/cohort_encoded.parquet')"
   ]
  },
  {
   "cell_type": "markdown",
   "id": "4d9874dc-0396-4589-a0f0-fd10bd0b33f3",
   "metadata": {},
   "source": [
    "Bool Columns"
   ]
  },
  {
   "cell_type": "code",
   "execution_count": 10,
   "id": "46a4653b-f60e-4c53-b6ce-7120792fc4d4",
   "metadata": {
    "tags": []
   },
   "outputs": [],
   "source": [
    "for label in encodedLabels:\n",
    "    main = label[0]\n",
    "    categories = label[1]\n",
    "    for cat in categories:\n",
    "        cat = cat.replace('-', '_')\n",
    "        if main == 'Sex':\n",
    "            df = df.withColumn(main + '_' + cat, (df.Sex == cat).cast('integer'))\n",
    "        elif main == 'Treatment':\n",
    "            df = df.withColumn(main + '_' + cat, (df.Treatment == cat).cast('integer'))\n",
    "        elif main == 'AgeGroup':\n",
    "            df = df.withColumn(main + '_' + cat, (df.AgeGroup == cat).cast('integer'))\n",
    "            "
   ]
  },
  {
   "cell_type": "code",
   "execution_count": null,
   "id": "76b045b0-13a6-42a7-9510-ad3ac4bbba8e",
   "metadata": {},
   "outputs": [],
   "source": []
  },
  {
   "cell_type": "code",
   "execution_count": 11,
   "id": "55f0ea27-1bd2-4946-82b8-f9f413e9c68f",
   "metadata": {
    "tags": []
   },
   "outputs": [
    {
     "data": {
      "text/plain": [
       "['NumId',\n",
       " 'UserId',\n",
       " 'Sex',\n",
       " 'DOB',\n",
       " 'Age',\n",
       " 'DiabetesType',\n",
       " 'Treatment',\n",
       " 'AgeGroup',\n",
       " 'Sex_Num',\n",
       " 'Treatment_Num',\n",
       " 'AgeGroup_Num',\n",
       " 'Sex_Female',\n",
       " 'Sex_Male',\n",
       " 'Treatment_yes_both',\n",
       " 'Treatment_yes_long_acting',\n",
       " 'Treatment_no',\n",
       " 'Treatment_yes_fast_acting',\n",
       " 'AgeGroup_50',\n",
       " 'AgeGroup_60',\n",
       " 'AgeGroup_70',\n",
       " 'AgeGroup_40',\n",
       " 'AgeGroup_30',\n",
       " 'AgeGroup_80',\n",
       " 'AgeGroup_90',\n",
       " 'AgeGroup_10']"
      ]
     },
     "execution_count": 11,
     "metadata": {},
     "output_type": "execute_result"
    }
   ],
   "source": [
    "df.columns"
   ]
  },
  {
   "cell_type": "code",
   "execution_count": 15,
   "id": "b41d6ffa-d107-46e4-9728-21da091b2a6f",
   "metadata": {
    "tags": []
   },
   "outputs": [],
   "source": [
    "df = df.drop('UserId', 'Sex', 'DOB', 'Age', 'DiabetesType', 'Treatment', 'AgeGroup', 'Treatment_Num', \\\n",
    "            'Sex_Num', 'AgeGroup_Num')"
   ]
  },
  {
   "cell_type": "code",
   "execution_count": 16,
   "id": "35e16936-383d-4399-8cc4-397a2d7b9744",
   "metadata": {
    "tags": []
   },
   "outputs": [
    {
     "data": {
      "text/plain": [
       "[('NumId', 'int'),\n",
       " ('Sex_Female', 'int'),\n",
       " ('Sex_Male', 'int'),\n",
       " ('Treatment_yes_both', 'int'),\n",
       " ('Treatment_yes_long_acting', 'int'),\n",
       " ('Treatment_no', 'int'),\n",
       " ('Treatment_yes_fast_acting', 'int'),\n",
       " ('AgeGroup_50', 'int'),\n",
       " ('AgeGroup_60', 'int'),\n",
       " ('AgeGroup_70', 'int'),\n",
       " ('AgeGroup_40', 'int'),\n",
       " ('AgeGroup_30', 'int'),\n",
       " ('AgeGroup_80', 'int'),\n",
       " ('AgeGroup_90', 'int'),\n",
       " ('AgeGroup_10', 'int')]"
      ]
     },
     "execution_count": 16,
     "metadata": {},
     "output_type": "execute_result"
    }
   ],
   "source": [
    "df.dtypes"
   ]
  },
  {
   "cell_type": "code",
   "execution_count": 18,
   "id": "1b1c8ed2-9b69-42a1-92c1-1dda00078863",
   "metadata": {
    "tags": []
   },
   "outputs": [
    {
     "name": "stdout",
     "output_type": "stream",
     "text": [
      "23/05/24 03:24:40 WARN CSVHeaderChecker: CSV header does not conform to the schema.\n",
      " Header: , Gender, Age, Treatment\n",
      " Schema: _c0, Gender, Age, Treatment\n",
      "Expected: _c0 but found: \n",
      "CSV file: file:///cephfs/data/cohort.csv\n"
     ]
    }
   ],
   "source": [
    "df.write.mode('overwrite').parquet('/cephfs/data/cohort_bool_encoded.parquet')"
   ]
  },
  {
   "cell_type": "markdown",
   "id": "7b3721dc-bfc4-462b-ada2-be5d408083ab",
   "metadata": {},
   "source": [
    "---------------------------"
   ]
  },
  {
   "cell_type": "code",
   "execution_count": null,
   "id": "3255e5c9-5562-4254-8a1f-29901dd88088",
   "metadata": {},
   "outputs": [],
   "source": []
  },
  {
   "cell_type": "code",
   "execution_count": null,
   "id": "4b0e0f54-395d-43dc-855a-8f2ce47e6b21",
   "metadata": {},
   "outputs": [],
   "source": []
  },
  {
   "cell_type": "code",
   "execution_count": null,
   "id": "3ba4ea25-b8a9-4650-aa5f-a47601a028db",
   "metadata": {},
   "outputs": [],
   "source": []
  },
  {
   "cell_type": "code",
   "execution_count": 31,
   "id": "b8ded743-6274-4027-8386-db79d7d85a33",
   "metadata": {},
   "outputs": [
    {
     "name": "stderr",
     "output_type": "stream",
     "text": [
      "                                                                                \r"
     ]
    }
   ],
   "source": [
    "types = ['train', 'test', 'val']\n",
    "\n",
    "for dataType in types:\n",
    "    \n",
    "    files_directory=os.listdir('/cephfs/summary_stats/' + dataType + '_cat')\n",
    "    files=['/cephfs/summary_stats/' + dataType + '_cat/' + i for i in files_directory if not ('.crc' in i or 'SUCCESS' in i)]\n",
    "\n",
    "    # Read in Summary Statistics\n",
    "    summary_stats= spark.read.format('parquet').load(files)\n",
    "    \n",
    "    for encodeType in ['cohort_encoded', 'cohort_bool_encoded']:\n",
    "        one_hot_encoding = spark.read.format('parquet').load('/cephfs/data/' + encodeType + '.parquet')\n",
    "        merged = summary_stats.join(one_hot_encoding, on='NumId', how='left')\n",
    "        \n",
    "        merged.write.parquet('/cephfs/summary_stats/encoded/one_hot_' + dataType \\\n",
    "                             + '/summary_stats_' + encodeType + '.parquet')        \n",
    "        "
   ]
  },
  {
   "cell_type": "code",
   "execution_count": 24,
   "id": "8101c4d4-e2ff-4594-996f-bd37fc072832",
   "metadata": {
    "tags": []
   },
   "outputs": [],
   "source": [
    "# one_hot_encoding = spark.read.format('parquet').load('/cephfs/data/cohort_encoded.parquet')\n"
   ]
  },
  {
   "cell_type": "code",
   "execution_count": 25,
   "id": "5b35c9d7-f41b-46fb-b54d-e604c2d2dde6",
   "metadata": {
    "tags": []
   },
   "outputs": [
    {
     "name": "stdout",
     "output_type": "stream",
     "text": [
      "0.0142364501953125\n"
     ]
    }
   ],
   "source": [
    "import time\n",
    "\n",
    "start = time.time()\n",
    "print(time.time()-start)"
   ]
  },
  {
   "cell_type": "code",
   "execution_count": 28,
   "id": "e0c61087-347d-4f51-98f6-519f8823dae6",
   "metadata": {
    "collapsed": true,
    "jupyter": {
     "outputs_hidden": true
    },
    "tags": []
   },
   "outputs": [
    {
     "name": "stdout",
     "output_type": "stream",
     "text": [
      "+----------+--------+------------------+-----------+-----------+-----------+-----------+-----------+-----------+-----------+-----------+\n",
      "|Sex_Female|Sex_Male|Treatment_yes_both|AgeGroup_50|AgeGroup_60|AgeGroup_70|AgeGroup_40|AgeGroup_30|AgeGroup_80|AgeGroup_90|AgeGroup_10|\n",
      "+----------+--------+------------------+-----------+-----------+-----------+-----------+-----------+-----------+-----------+-----------+\n",
      "|         1|       0|                 0|          0|          0|          1|          0|          0|          0|          0|          0|\n",
      "|         1|       0|                 0|          0|          0|          1|          0|          0|          0|          0|          0|\n",
      "|         1|       0|                 0|          0|          0|          1|          0|          0|          0|          0|          0|\n",
      "|         1|       0|                 0|          0|          0|          1|          0|          0|          0|          0|          0|\n",
      "|         1|       0|                 0|          0|          0|          1|          0|          0|          0|          0|          0|\n",
      "+----------+--------+------------------+-----------+-----------+-----------+-----------+-----------+-----------+-----------+-----------+\n",
      "only showing top 5 rows\n",
      "\n"
     ]
    }
   ],
   "source": [
    "merged.filter(col('NumId') == 19).select(col('Sex_Female'), col('Sex_Male'),\\\n",
    "                                         col('Treatment_yes_both'), col('AgeGroup_50'),\\\n",
    "                                         col('AgeGroup_60'), col('AgeGroup_70'),\\\n",
    "                                         col('AgeGroup_40'), col('AgeGroup_30'), col('AgeGroup_80'),\\\n",
    "                                         col('AgeGroup_90'), col('AgeGroup_10')).show(5)"
   ]
  },
  {
   "cell_type": "code",
   "execution_count": 29,
   "id": "a37cb917-fbd8-4597-99a8-c256e85f7277",
   "metadata": {
    "tags": []
   },
   "outputs": [
    {
     "name": "stderr",
     "output_type": "stream",
     "text": [
      "                                                                                \r"
     ]
    }
   ],
   "source": []
  },
  {
   "cell_type": "code",
   "execution_count": null,
   "id": "42854909-0701-48ad-af7c-7b4f53eb55d5",
   "metadata": {
    "tags": []
   },
   "outputs": [],
   "source": [
    "import pathlib\n",
    "\n",
    "allPaths = [str(x) for x in list(pathlib.Path(\"/cephfs/train_test_val/train_set\").glob('*.parquet')) if 'part-00' in str(x)]\n"
   ]
  },
  {
   "cell_type": "code",
   "execution_count": null,
   "id": "3065cf21-3a3c-4858-a9d0-69555b322d91",
   "metadata": {
    "tags": []
   },
   "outputs": [],
   "source": [
    "allPaths[42]"
   ]
  },
  {
   "cell_type": "code",
   "execution_count": null,
   "id": "5d18e114-c926-497e-bd7e-b788c69175ea",
   "metadata": {
    "tags": []
   },
   "outputs": [],
   "source": [
    "test = spark.read.format('parquet').load(allPaths[42])"
   ]
  },
  {
   "cell_type": "code",
   "execution_count": null,
   "id": "b0685d64-5527-4949-9e10-e4a6e8066d13",
   "metadata": {
    "tags": []
   },
   "outputs": [],
   "source": [
    "test.select(col('NumId')).distinct().count()"
   ]
  },
  {
   "cell_type": "code",
   "execution_count": null,
   "id": "94afcdbf-9a5d-4e7b-8e9e-b28308b63753",
   "metadata": {},
   "outputs": [],
   "source": []
  }
 ],
 "metadata": {
  "kernelspec": {
   "display_name": "glucose-venv",
   "language": "python",
   "name": "glucose-venv"
  },
  "language_info": {
   "codemirror_mode": {
    "name": "ipython",
    "version": 3
   },
   "file_extension": ".py",
   "mimetype": "text/x-python",
   "name": "python",
   "nbconvert_exporter": "python",
   "pygments_lexer": "ipython3",
   "version": "3.10.10"
  }
 },
 "nbformat": 4,
 "nbformat_minor": 5
}
