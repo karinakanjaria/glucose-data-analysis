{
 "cells": [
  {
   "cell_type": "markdown",
   "id": "ce146ed8-7119-455a-b92e-a2e0f50f72df",
   "metadata": {
    "tags": []
   },
   "source": [
    "### Create Binary Label"
   ]
  },
  {
   "cell_type": "code",
   "execution_count": 8,
   "id": "321dab4c-f86a-4d81-bcc9-15f786546960",
   "metadata": {
    "tags": []
   },
   "outputs": [],
   "source": [
    "from pyspark.sql import functions as F\n",
    "\n",
    "import numpy as np\n",
    "\n",
    "import pyspark\n",
    "from pyspark import pandas as ps\n",
    "from pyspark.sql import SparkSession\n",
    "from pyspark.sql import SQLContext\n",
    "from pyspark import SparkContext, SparkConf\n",
    "from pyspark.ml.feature import OneHotEncoder, StringIndexer\n",
    "from pyspark.sql.functions import col, substring\n",
    "from pyspark.sql.types import StructType, StructField, \\\n",
    "StringType, IntegerType, TimestampType, DateType, FloatType\n",
    "from pyspark.sql.window import Window"
   ]
  },
  {
   "cell_type": "code",
   "execution_count": 4,
   "id": "a24bacb0-6b80-4cbe-bf47-6a6f8c069440",
   "metadata": {
    "tags": []
   },
   "outputs": [
    {
     "name": "stderr",
     "output_type": "stream",
     "text": [
      "Setting default log level to \"WARN\".\n",
      "To adjust logging level use sc.setLogLevel(newLevel). For SparkR, use setLogLevel(newLevel).\n"
     ]
    },
    {
     "name": "stdout",
     "output_type": "stream",
     "text": [
      "23/05/03 02:35:14 WARN NativeCodeLoader: Unable to load native-hadoop library for your platform... using builtin-java classes where applicable\n",
      "23/05/03 02:35:15 WARN Utils: Service 'SparkUI' could not bind on port 4040. Attempting port 4041.\n",
      "23/05/03 02:35:15 WARN Utils: Service 'SparkUI' could not bind on port 4041. Attempting port 4042.\n"
     ]
    }
   ],
   "source": [
    "conf = pyspark.SparkConf().setAll([\\\n",
    "            ('spark.app.name', 'Glucose_Analysis_Spark')])\\\n",
    "            .set('spark.sql.shuffle.partitions', '1500')\n",
    "spark = SparkSession.builder.config(conf=conf)\\\n",
    "    .getOrCreate()  "
   ]
  },
  {
   "cell_type": "code",
   "execution_count": 20,
   "id": "f60c5754-d322-4bfe-bf71-80cb7cd93340",
   "metadata": {
    "tags": []
   },
   "outputs": [],
   "source": [
    "df = spark.read.parquet('/cephfs/stepped_glucose_data/step0_load_daily/parquet_0/part-00000-1c9c2511-4c2e-40c2-b7d1-7827039567e8-c000.snappy.parquet')"
   ]
  },
  {
   "cell_type": "code",
   "execution_count": 21,
   "id": "195cfd60-1d65-43a7-9c56-c1543d1504cf",
   "metadata": {
    "tags": []
   },
   "outputs": [
    {
     "name": "stdout",
     "output_type": "stream",
     "text": [
      "+--------------------+-----+--------------------+---------------------+------------------+\n",
      "|           PatientId|Value|  GlucoseDisplayTime|GlucoseDisplayTimeRaw|GlucoseDisplayDate|\n",
      "+--------------------+-----+--------------------+---------------------+------------------+\n",
      "|1Jxgxke6R3Uh2c9aR...|  0.0|2022-02-01 14:45:...| 2022-02-01T14:45:...|        2022-02-01|\n",
      "|toBStbTTYI2GU28Yd...|  0.0|2022-02-01 17:46:...| 2022-02-01T17:46:...|        2022-02-01|\n",
      "|+XAhHhm+BkhqusxsZ...|  0.0|2022-02-01 14:58:...| 2022-02-01T14:58:...|        2022-02-01|\n",
      "|+XAhHhm+BkhqusxsZ...|  0.0|2022-01-31 22:53:...| 2022-01-31T22:53:...|        2022-01-31|\n",
      "|+XAhHhm+BkhqusxsZ...|  0.0|2022-01-31 22:38:...| 2022-01-31T22:38:...|        2022-01-31|\n",
      "+--------------------+-----+--------------------+---------------------+------------------+\n",
      "only showing top 5 rows\n",
      "\n"
     ]
    }
   ],
   "source": [
    "df.show(5)"
   ]
  },
  {
   "cell_type": "code",
   "execution_count": 81,
   "id": "5a8dc6c5-e5c5-419f-938e-6ffa649f4cb5",
   "metadata": {
    "collapsed": true,
    "jupyter": {
     "outputs_hidden": true
    },
    "tags": []
   },
   "outputs": [
    {
     "name": "stdout",
     "output_type": "stream",
     "text": [
      "+--------------------------------------------+-----+-------------------+\n",
      "|PatientId                                   |Value|percent_rank       |\n",
      "+--------------------------------------------+-----+-------------------+\n",
      "|8NQv3W7U0vS/STkzxLUcmTJwXkbZUN3M/Rs/B6FuS/k=|72.0 |0.09278350515463918|\n",
      "|8NQv3W7U0vS/STkzxLUcmTJwXkbZUN3M/Rs/B6FuS/k=|72.0 |0.09278350515463918|\n",
      "|8NQv3W7U0vS/STkzxLUcmTJwXkbZUN3M/Rs/B6FuS/k=|72.0 |0.09278350515463918|\n",
      "|8NQv3W7U0vS/STkzxLUcmTJwXkbZUN3M/Rs/B6FuS/k=|72.0 |0.09278350515463918|\n",
      "|8NQv3W7U0vS/STkzxLUcmTJwXkbZUN3M/Rs/B6FuS/k=|72.0 |0.09278350515463918|\n",
      "+--------------------------------------------+-----+-------------------+\n",
      "\n"
     ]
    }
   ],
   "source": [
    "test = df.filter(df.PatientId == '8NQv3W7U0vS/STkzxLUcmTJwXkbZUN3M/Rs/B6FuS/k=')\\\n",
    "        .select('PatientId', \"Value\", F.percent_rank().over(Window.partitionBy(df['PatientId'])\\\n",
    "                                                .orderBy(df['Value'])).alias(\"percent_rank\"))\n",
    "\n",
    "test.filter((test.percent_rank > .09) & (test.percent_rank < .10)).orderBy(test['percent_rank']).show(truncate=False)"
   ]
  },
  {
   "cell_type": "code",
   "execution_count": 83,
   "id": "87962b40-cfae-4258-b621-5b760f292f9f",
   "metadata": {
    "tags": []
   },
   "outputs": [
    {
     "name": "stderr",
     "output_type": "stream",
     "text": [
      "                                                                                \r"
     ]
    }
   ],
   "source": [
    "default_lower = 70\n",
    "default_upper = 180\n",
    "lower_10, upper_90  = df.approxQuantile('Value', [.1, .9], 0)"
   ]
  },
  {
   "cell_type": "code",
   "execution_count": 87,
   "id": "a02475ef-ea26-4872-b7ca-ef5ce2abb723",
   "metadata": {
    "tags": []
   },
   "outputs": [
    {
     "data": {
      "text/plain": [
       "92.0"
      ]
     },
     "execution_count": 87,
     "metadata": {},
     "output_type": "execute_result"
    }
   ],
   "source": [
    "lower_10"
   ]
  },
  {
   "cell_type": "code",
   "execution_count": 88,
   "id": "90cd36b8-7b10-4550-9c2e-d462570db6a0",
   "metadata": {
    "tags": []
   },
   "outputs": [
    {
     "data": {
      "text/plain": [
       "248.0"
      ]
     },
     "execution_count": 88,
     "metadata": {},
     "output_type": "execute_result"
    }
   ],
   "source": [
    "upper_90"
   ]
  },
  {
   "cell_type": "code",
   "execution_count": 84,
   "id": "684aff5f-99ac-4cad-8242-b2d20d81a7f3",
   "metadata": {
    "tags": []
   },
   "outputs": [],
   "source": [
    "df=df.withColumn('y_Binary', F.when(((F.col('Value') > default_upper) & (F.col('Value') > upper_90)), 1)\\\n",
    "            .when(((F.col('Value') < default_lower) & (F.col('Value') < lower_10)), 1)\\\n",
    "                .otherwise(0))"
   ]
  },
  {
   "cell_type": "code",
   "execution_count": 92,
   "id": "2b89ec98-c3fa-4c50-95b4-bf87a5795095",
   "metadata": {
    "tags": []
   },
   "outputs": [
    {
     "name": "stdout",
     "output_type": "stream",
     "text": [
      "+--------------------+-----+-------------------+---------------------+------------------+--------+\n",
      "|           PatientId|Value| GlucoseDisplayTime|GlucoseDisplayTimeRaw|GlucoseDisplayDate|y_Binary|\n",
      "+--------------------+-----+-------------------+---------------------+------------------+--------+\n",
      "|f/odpYRZXAvqV2R8A...| 64.0|2022-02-01 03:39:12| 2022-02-01T03:39:...|        2022-02-01|       1|\n",
      "|Fj39UPMcINcICT0cb...|282.0|2022-02-01 00:28:21| 2022-02-01T00:28:...|        2022-02-01|       1|\n",
      "|Fj39UPMcINcICT0cb...|276.0|2022-02-01 00:48:21| 2022-02-01T00:48:...|        2022-02-01|       1|\n",
      "|Fj39UPMcINcICT0cb...|283.0|2022-01-31 23:58:21| 2022-01-31T23:58:...|        2022-01-31|       1|\n",
      "|Fj39UPMcINcICT0cb...|285.0|2022-02-01 00:18:21| 2022-02-01T00:18:...|        2022-02-01|       1|\n",
      "|Fj39UPMcINcICT0cb...|270.0|2022-01-31 23:28:21| 2022-01-31T23:28:...|        2022-01-31|       1|\n",
      "|Fj39UPMcINcICT0cb...|283.0|2022-01-31 23:53:21| 2022-01-31T23:53:...|        2022-01-31|       1|\n",
      "|Fj39UPMcINcICT0cb...|284.0|2022-02-01 00:23:21| 2022-02-01T00:23:...|        2022-02-01|       1|\n",
      "|Fj39UPMcINcICT0cb...|280.0|2022-02-01 00:33:21| 2022-02-01T00:33:...|        2022-02-01|       1|\n",
      "|Fj39UPMcINcICT0cb...|286.0|2022-02-01 00:13:21| 2022-02-01T00:13:...|        2022-02-01|       1|\n",
      "|Z5J2KX9XYpXohqVZu...|249.0|2022-01-31 22:59:23| 2022-01-31T22:59:...|        2022-01-31|       1|\n",
      "|b7vxHPEbZUCsAduBy...|257.0|2022-01-31 17:47:30| 2022-01-31T17:47:...|        2022-01-31|       1|\n",
      "|b7vxHPEbZUCsAduBy...|287.0|2022-01-31 16:32:30| 2022-01-31T16:32:...|        2022-01-31|       1|\n",
      "|b7vxHPEbZUCsAduBy...|261.0|2022-01-31 21:02:30| 2022-01-31T21:02:...|        2022-01-31|       1|\n",
      "|b7vxHPEbZUCsAduBy...|304.0|2022-01-31 18:12:30| 2022-01-31T18:12:...|        2022-01-31|       1|\n",
      "|b7vxHPEbZUCsAduBy...|267.0|2022-01-31 22:17:30| 2022-01-31T22:17:...|        2022-01-31|       1|\n",
      "|b7vxHPEbZUCsAduBy...|299.0|2022-01-31 18:07:30| 2022-01-31T18:07:...|        2022-01-31|       1|\n",
      "|b7vxHPEbZUCsAduBy...|261.0|2022-02-01 12:57:32| 2022-02-01T12:57:...|        2022-02-01|       1|\n",
      "|b7vxHPEbZUCsAduBy...|299.0|2022-01-31 19:17:30| 2022-01-31T19:17:...|        2022-01-31|       1|\n",
      "|b7vxHPEbZUCsAduBy...|251.0|2022-01-31 17:37:30| 2022-01-31T17:37:...|        2022-01-31|       1|\n",
      "|b7vxHPEbZUCsAduBy...|285.0|2022-01-31 19:37:30| 2022-01-31T19:37:...|        2022-01-31|       1|\n",
      "|b7vxHPEbZUCsAduBy...|254.0|2022-02-01 13:02:32| 2022-02-01T13:02:...|        2022-02-01|       1|\n",
      "|b7vxHPEbZUCsAduBy...|308.0|2022-01-31 19:02:30| 2022-01-31T19:02:...|        2022-01-31|       1|\n",
      "|b7vxHPEbZUCsAduBy...|290.0|2022-01-31 15:52:30| 2022-01-31T15:52:...|        2022-01-31|       1|\n",
      "|b7vxHPEbZUCsAduBy...|279.0|2022-02-01 11:37:32| 2022-02-01T11:37:...|        2022-02-01|       1|\n",
      "|VVHSWi0l1Im9FAcUn...|267.0|2022-01-31 22:12:46| 2022-01-31T22:12:...|        2022-01-31|       1|\n",
      "|VVHSWi0l1Im9FAcUn...|251.0|2022-01-31 22:42:47| 2022-01-31T22:42:...|        2022-01-31|       1|\n",
      "|VVHSWi0l1Im9FAcUn...|256.0|2022-01-31 22:32:47| 2022-01-31T22:32:...|        2022-01-31|       1|\n",
      "|RjUmRlEZlmCxVgHG/...|278.0|2022-02-01 12:13:24| 2022-02-01T12:13:...|        2022-02-01|       1|\n",
      "|RjUmRlEZlmCxVgHG/...|271.0|2022-02-01 11:58:25| 2022-02-01T11:58:...|        2022-02-01|       1|\n",
      "+--------------------+-----+-------------------+---------------------+------------------+--------+\n",
      "only showing top 30 rows\n",
      "\n"
     ]
    }
   ],
   "source": [
    "df.filter((df.Value != 0) & (df.y_Binary == 1)).show(30)"
   ]
  },
  {
   "cell_type": "code",
   "execution_count": null,
   "id": "4fc47657-e852-4e39-929e-765fa8ad86d7",
   "metadata": {},
   "outputs": [],
   "source": []
  },
  {
   "cell_type": "code",
   "execution_count": null,
   "id": "50ab9c37-98f3-44c6-b14d-59cc878ec84e",
   "metadata": {},
   "outputs": [],
   "source": []
  },
  {
   "cell_type": "code",
   "execution_count": null,
   "id": "d39affbe-a2a7-4adf-a02d-ecd7b21fb57a",
   "metadata": {},
   "outputs": [],
   "source": []
  }
 ],
 "metadata": {
  "kernelspec": {
   "display_name": "glucose-venv",
   "language": "python",
   "name": "glucose-venv"
  },
  "language_info": {
   "codemirror_mode": {
    "name": "ipython",
    "version": 3
   },
   "file_extension": ".py",
   "mimetype": "text/x-python",
   "name": "python",
   "nbconvert_exporter": "python",
   "pygments_lexer": "ipython3",
   "version": "3.10.10"
  }
 },
 "nbformat": 4,
 "nbformat_minor": 5
}
