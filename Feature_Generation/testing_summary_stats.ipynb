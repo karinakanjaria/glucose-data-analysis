{
 "cells": [
  {
   "cell_type": "markdown",
   "id": "f8409e87-c7a1-427d-83b1-7b96c6bfba40",
   "metadata": {},
   "source": [
    "#### TEST"
   ]
  },
  {
   "cell_type": "code",
   "execution_count": 1,
   "id": "57f1bdfe-a8a7-401a-814a-f5a0a572c54a",
   "metadata": {
    "tags": []
   },
   "outputs": [
    {
     "name": "stderr",
     "output_type": "stream",
     "text": [
      "WARNING:root:'PYARROW_IGNORE_TIMEZONE' environment variable was not set. It is required to set this environment variable to '1' in both driver and executor sides if you use pyarrow>=2.0.0. pandas-on-Spark will set it for you but it does not work if there is a Spark context already launched.\n"
     ]
    }
   ],
   "source": [
    "import pyspark\n",
    "from pyspark import pandas as ps\n",
    "from pyspark.sql import SparkSession\n",
    "from pyspark.sql import SQLContext\n",
    "from pyspark import SparkContext, SparkConf\n",
    "from pyspark.sql.types import StructType, StructField, \\\n",
    "StringType, IntegerType, TimestampType, DateType, FloatType\n",
    "import time\n",
    "import pathlib\n",
    "from pyspark.sql.functions import col, to_date, sum, avg, max, min, \\\n",
    "stddev, percentile_approx,\\\n",
    "pandas_udf, PandasUDFType, lit, udf, collect_list, sqrt, monotonically_increasing_id, map_from_entries,\\\n",
    "rank, dense_rank, count, when\n",
    "from pyspark.sql.window import Window"
   ]
  },
  {
   "cell_type": "code",
   "execution_count": 4,
   "id": "08f4f330-522a-41ad-b2e2-e3012d603121",
   "metadata": {
    "tags": []
   },
   "outputs": [],
   "source": [
    "conf = pyspark.SparkConf().setAll([\\\n",
    "            ('spark.app.name', 'Glucose_Analysis_Spark')])\n",
    "spark = SparkSession.builder.config(conf=conf)\\\n",
    "    .getOrCreate()        "
   ]
  },
  {
   "cell_type": "code",
   "execution_count": 3,
   "id": "78224625-863f-4ac1-a89f-bf9d5f296ed1",
   "metadata": {
    "tags": []
   },
   "outputs": [
    {
     "name": "stdout",
     "output_type": "stream",
     "text": [
      "root\n",
      " |-- PatientId: string (nullable = true)\n",
      " |-- Value: float (nullable = true)\n",
      " |-- GlucoseDisplayDate: date (nullable = true)\n",
      "\n"
     ]
    }
   ],
   "source": [
    "schema = StructType([\n",
    "  StructField('PatientId', StringType(), True),\n",
    "  StructField('Value', FloatType(), True),\n",
    "  StructField('GlucoseDisplayDate', DateType(), True)\n",
    "  ])\n",
    "\n",
    "emptyRDD = spark.sparkContext.emptyRDD()\n",
    "df = spark.createDataFrame(emptyRDD,schema)\n",
    "\n",
    "df.printSchema()"
   ]
  },
  {
   "cell_type": "code",
   "execution_count": 4,
   "id": "1e7fa6eb-5a1a-4943-b706-a8a8e1aa149e",
   "metadata": {
    "tags": []
   },
   "outputs": [],
   "source": [
    "df = spark.read.parquet('/cephfs/stepped_glucose_data/step0_load/parquet_0_to_10/part-00000-532ee45d-8e0d-44c4-8f3b-884b22175e0f-c000.snappy.parquet')"
   ]
  },
  {
   "cell_type": "code",
   "execution_count": 10,
   "id": "fa6f93d3-cc66-4759-bf85-69b70d8cd854",
   "metadata": {
    "tags": []
   },
   "outputs": [],
   "source": [
    "df = df.withColumn('y_binary', lit(1))"
   ]
  },
  {
   "cell_type": "raw",
   "id": "799e3b76-b1fc-43f5-b627-1c06ed0a6b68",
   "metadata": {
    "tags": []
   },
   "source": [
    "import numpy as np\n",
    "    \n",
    "# def calculate_poincare(values):\n",
    "#     glucose_differentials = np\n",
    "#.diff(values.collect())\n",
    "\n",
    "#     st_dev_differentials = np.std(np.diff(glucose_differentials))\n",
    "#     st_dev_values = np.std(glucose_differentials)\n",
    "\n",
    "#     # measures the width of poincare cloud\n",
    "#     short_term_variation = (1 / np.sqrt(2)) * st_dev_differentials\n",
    "\n",
    "#     # measures the length of the poincare cloud\n",
    "#     long_term_variation = np.sqrt((2 * st_dev_values ** 2) - (0.5 * st_dev_differentials ** 2))\n",
    "#     return round(short_term_variation, 3), \\\n",
    "#            round(long_term_variation, 3), \\\n",
    "#            round(short_term_variation / long_term_variation, 3)\n",
    "\n",
    "def calculate_poincare(values):\n",
    "    glucose_differentials = values\n",
    "\n",
    "    st_dev_differentials = stddev(glucose_differentials.diff())\n",
    "    st_dev_values = stddev(glucose_differentials)\n",
    "\n",
    "    # measures the width of poincare cloud\n",
    "    short_term_variation = (1 / sqrt(2)) * st_dev_differentials\n",
    "\n",
    "    # measures the length of the poincare cloud\n",
    "    long_term_variation = sqrt((2 * st_dev_values ** 2) - (0.5 * st_dev_differentials ** 2))\n",
    "    return round(short_term_variation, 3), \\\n",
    "           round(long_term_variation, 3), \\\n",
    "           round(short_term_variation / long_term_variation, 3)"
   ]
  },
  {
   "cell_type": "code",
   "execution_count": 11,
   "id": "1ba92081-2c36-4480-8b27-584a71e3b6d6",
   "metadata": {
    "tags": []
   },
   "outputs": [],
   "source": [
    "#def pyspark_summary_statistics(self, df, spark):\n",
    "# @pandas_udf(StructType([StructField('Entropy', FloatType())]), PandasUDFType.GROUPED_MAP)\n",
    "# def entropy_grouped(df):\n",
    "#     return feat_create_obj.entropy_extraction(df.Value)\n",
    "\n",
    "def entropy_udf(vals):\n",
    "    feat_create_obj = feat_create()\n",
    "    return udf(feat_create_obj.entropy_extraction(vals), FloatType())\n",
    "\n",
    "def poincare_udf(vals):\n",
    "    feat_create_obj = feat_create()\n",
    "    return udf(calculate_poincare(vals),\\\n",
    "               StructType([\\\n",
    "                   StructField('First', FloatType()),\\\n",
    "                   StructField('Second', FloatType()),\\\n",
    "                   StructField('Third', FloatType())\\\n",
    "               ]))\n",
    "\n",
    "# def chunk_by_index():\n",
    "#     return udf(collect_list\n",
    "\n",
    "def create_partition_date(df, chunk_val):\n",
    "    window = Window.partitionBy(df['PatientId']).orderBy(df['GlucoseDisplayTime'])\n",
    "    df = df.select('*', rank().over(window).alias('index'))\n",
    "    df = df.withColumn(\"Chunk\", (df.index/chunk_val).cast(IntegerType()))\n",
    "\n",
    "    return df\n",
    "\n",
    "\n",
    "def pyspark_summary_statistics(df, \\\n",
    "                               daily_stats_features_lower,\\\n",
    "                               daily_stats_features_upper, \\\n",
    "                               chunk_val = 12):  \n",
    "\n",
    "    df_added = create_partition_date(df, chunk_val)\n",
    "    \n",
    "    group_cols = [\"PatientId\", \"Chunk\"]\n",
    "\n",
    "    summary_df = df_added.groupby(group_cols)\\\n",
    "        .agg(max('y_binary').alias('y_summary_binary'),\\\n",
    "             avg(\"Value\").alias(\"Mean\"),\\\n",
    "             stddev(\"Value\").alias(\"Std Dev\"),\\\n",
    "             percentile_approx(\"Value\", .5).alias(\"Median\"), \\\n",
    "             min(\"Value\").alias(\"Min\"),\\\n",
    "             max(\"Value\").alias(\"Max\"),\\\n",
    "             count(when(col(\"Value\") < daily_stats_features_lower, 1)).alias(\"CountBelow\"),\\\n",
    "             count(when(col(\"Value\") > daily_stats_features_upper, 1)).alias(\"CountAbove\"),\\\n",
    "             (count(when(col(\"Value\") < daily_stats_features_lower, 1))/chunk_val).alias(\"PercentageBelow\"),\\\n",
    "             (count(when(col(\"Value\") > daily_stats_features_upper, 1))/chunk_val).alias(\"PercentageAbove\")\n",
    "            )\n",
    "\n",
    "    df_added = df_added.join(summary_df, ['PatientId', 'Chunk'])\n",
    "    \n",
    "    return df_added"
   ]
  },
  {
   "cell_type": "raw",
   "id": "7976f6a7-b88b-4d21-9823-75f7e21c3d64",
   "metadata": {
    "tags": []
   },
   "source": [
    "spark.stop()"
   ]
  },
  {
   "cell_type": "code",
   "execution_count": 12,
   "id": "d847f755-6765-4f01-a54e-63d5f5f7caee",
   "metadata": {
    "tags": []
   },
   "outputs": [
    {
     "name": "stderr",
     "output_type": "stream",
     "text": [
      "[Stage 12:====>             (1 + 3) / 4][Stage 13:>                 (0 + 1) / 4]\r"
     ]
    },
    {
     "name": "stdout",
     "output_type": "stream",
     "text": [
      "[336.457s][warning][gc,alloc] Executor task launch worker for task 0.0 in stage 13.0 (TID 27): Retried waiting for GCLocker too often allocating 4194306 words\n",
      "23/04/19 21:27:36 WARN TaskMemoryManager: Failed to allocate a page (33554432 bytes), try again.\n",
      "23/04/19 21:27:37 WARN TaskMemoryManager: Failed to allocate a page (33554432 bytes), try again.\n",
      "[336.604s][warning][gc,alloc] Executor task launch worker for task 0.0 in stage 13.0 (TID 27): Retried waiting for GCLocker too often allocating 4194306 words\n",
      "23/04/19 21:27:37 WARN TaskMemoryManager: Failed to allocate a page (33554432 bytes), try again.\n"
     ]
    },
    {
     "name": "stderr",
     "output_type": "stream",
     "text": [
      "[Stage 22:>                                                         (0 + 1) / 1]\r"
     ]
    },
    {
     "name": "stdout",
     "output_type": "stream",
     "text": [
      "+--------------------+-----+-----+-------------------+---------------------+------------------+--------+-----+----------------+------------------+------------------+------+-----+-----+----------+----------+---------------+---------------+\n",
      "|           PatientId|Chunk|Value| GlucoseDisplayTime|GlucoseDisplayTimeRaw|GlucoseDisplayDate|y_binary|index|y_summary_binary|              Mean|           Std Dev|Median|  Min|  Max|CountBelow|CountAbove|PercentageBelow|PercentageAbove|\n",
      "+--------------------+-----+-----+-------------------+---------------------+------------------+--------+-----+----------------+------------------+------------------+------+-----+-----+----------+----------+---------------+---------------+\n",
      "|++3L3PAkDvSTkWnWe...|    8|169.0|2022-02-19 01:56:07| 2022-02-19T01:56:...|        2022-02-19|       1|   96|               1|168.83333333333334| 2.823065172768233| 169.0|162.0|172.0|         0|         0|            0.0|            0.0|\n",
      "|++3L3PAkDvSTkWnWe...|    8|170.0|2022-02-19 02:01:07| 2022-02-19T02:01:...|        2022-02-19|       1|   97|               1|168.83333333333334| 2.823065172768233| 169.0|162.0|172.0|         0|         0|            0.0|            0.0|\n",
      "|++3L3PAkDvSTkWnWe...|    8|170.0|2022-02-19 02:06:07| 2022-02-19T02:06:...|        2022-02-19|       1|   98|               1|168.83333333333334| 2.823065172768233| 169.0|162.0|172.0|         0|         0|            0.0|            0.0|\n",
      "|++3L3PAkDvSTkWnWe...|    8|170.0|2022-02-19 02:11:06| 2022-02-19T02:11:...|        2022-02-19|       1|   99|               1|168.83333333333334| 2.823065172768233| 169.0|162.0|172.0|         0|         0|            0.0|            0.0|\n",
      "|++3L3PAkDvSTkWnWe...|    8|169.0|2022-02-19 02:16:07| 2022-02-19T02:16:...|        2022-02-19|       1|  100|               1|168.83333333333334| 2.823065172768233| 169.0|162.0|172.0|         0|         0|            0.0|            0.0|\n",
      "|++3L3PAkDvSTkWnWe...|    8|168.0|2022-02-19 02:21:07| 2022-02-19T02:21:...|        2022-02-19|       1|  101|               1|168.83333333333334| 2.823065172768233| 169.0|162.0|172.0|         0|         0|            0.0|            0.0|\n",
      "|++3L3PAkDvSTkWnWe...|    8|169.0|2022-02-19 02:26:07| 2022-02-19T02:26:...|        2022-02-19|       1|  102|               1|168.83333333333334| 2.823065172768233| 169.0|162.0|172.0|         0|         0|            0.0|            0.0|\n",
      "|++3L3PAkDvSTkWnWe...|    8|170.0|2022-02-19 02:31:07| 2022-02-19T02:31:...|        2022-02-19|       1|  103|               1|168.83333333333334| 2.823065172768233| 169.0|162.0|172.0|         0|         0|            0.0|            0.0|\n",
      "|++3L3PAkDvSTkWnWe...|    8|172.0|2022-02-19 02:36:07| 2022-02-19T02:36:...|        2022-02-19|       1|  104|               1|168.83333333333334| 2.823065172768233| 169.0|162.0|172.0|         0|         0|            0.0|            0.0|\n",
      "|++3L3PAkDvSTkWnWe...|    8|172.0|2022-02-19 02:41:07| 2022-02-19T02:41:...|        2022-02-19|       1|  105|               1|168.83333333333334| 2.823065172768233| 169.0|162.0|172.0|         0|         0|            0.0|            0.0|\n",
      "|++3L3PAkDvSTkWnWe...|    8|165.0|2022-02-19 02:46:07| 2022-02-19T02:46:...|        2022-02-19|       1|  106|               1|168.83333333333334| 2.823065172768233| 169.0|162.0|172.0|         0|         0|            0.0|            0.0|\n",
      "|++3L3PAkDvSTkWnWe...|    8|162.0|2022-02-19 02:51:07| 2022-02-19T02:51:...|        2022-02-19|       1|  107|               1|168.83333333333334| 2.823065172768233| 169.0|162.0|172.0|         0|         0|            0.0|            0.0|\n",
      "|++3L3PAkDvSTkWnWe...|   14|220.0|2022-02-19 07:56:08| 2022-02-19T07:56:...|        2022-02-19|       1|  168|               1|237.58333333333334|  9.41428637119075| 236.0|220.0|253.0|         0|        12|            0.0|            1.0|\n",
      "|++3L3PAkDvSTkWnWe...|   14|236.0|2022-02-19 08:01:07| 2022-02-19T08:01:...|        2022-02-19|       1|  169|               1|237.58333333333334|  9.41428637119075| 236.0|220.0|253.0|         0|        12|            0.0|            1.0|\n",
      "|++3L3PAkDvSTkWnWe...|   14|246.0|2022-02-19 08:06:07| 2022-02-19T08:06:...|        2022-02-19|       1|  170|               1|237.58333333333334|  9.41428637119075| 236.0|220.0|253.0|         0|        12|            0.0|            1.0|\n",
      "|++3L3PAkDvSTkWnWe...|   14|248.0|2022-02-19 08:11:08| 2022-02-19T08:11:...|        2022-02-19|       1|  171|               1|237.58333333333334|  9.41428637119075| 236.0|220.0|253.0|         0|        12|            0.0|            1.0|\n",
      "|++3L3PAkDvSTkWnWe...|   14|240.0|2022-02-19 08:16:08| 2022-02-19T08:16:...|        2022-02-19|       1|  172|               1|237.58333333333334|  9.41428637119075| 236.0|220.0|253.0|         0|        12|            0.0|            1.0|\n",
      "|++3L3PAkDvSTkWnWe...|   14|231.0|2022-02-19 08:21:07| 2022-02-19T08:21:...|        2022-02-19|       1|  173|               1|237.58333333333334|  9.41428637119075| 236.0|220.0|253.0|         0|        12|            0.0|            1.0|\n",
      "|++3L3PAkDvSTkWnWe...|   14|228.0|2022-02-19 08:26:08| 2022-02-19T08:26:...|        2022-02-19|       1|  174|               1|237.58333333333334|  9.41428637119075| 236.0|220.0|253.0|         0|        12|            0.0|            1.0|\n",
      "|++3L3PAkDvSTkWnWe...|   14|231.0|2022-02-19 08:31:08| 2022-02-19T08:31:...|        2022-02-19|       1|  175|               1|237.58333333333334|  9.41428637119075| 236.0|220.0|253.0|         0|        12|            0.0|            1.0|\n",
      "|++3L3PAkDvSTkWnWe...|   14|253.0|2022-02-19 08:36:07| 2022-02-19T08:36:...|        2022-02-19|       1|  176|               1|237.58333333333334|  9.41428637119075| 236.0|220.0|253.0|         0|        12|            0.0|            1.0|\n",
      "|++3L3PAkDvSTkWnWe...|   14|245.0|2022-02-19 08:41:08| 2022-02-19T08:41:...|        2022-02-19|       1|  177|               1|237.58333333333334|  9.41428637119075| 236.0|220.0|253.0|         0|        12|            0.0|            1.0|\n",
      "|++3L3PAkDvSTkWnWe...|   14|235.0|2022-02-19 08:46:08| 2022-02-19T08:46:...|        2022-02-19|       1|  178|               1|237.58333333333334|  9.41428637119075| 236.0|220.0|253.0|         0|        12|            0.0|            1.0|\n",
      "|++3L3PAkDvSTkWnWe...|   14|238.0|2022-02-19 08:51:07| 2022-02-19T08:51:...|        2022-02-19|       1|  179|               1|237.58333333333334|  9.41428637119075| 236.0|220.0|253.0|         0|        12|            0.0|            1.0|\n",
      "|++3L3PAkDvSTkWnWe...|   45|270.0|2022-05-21 16:31:07| 2022-05-21T16:31:...|        2022-05-21|       1|  540|               1| 271.6666666666667|20.672042311618185| 270.0|235.0|297.0|         0|        12|            0.0|            1.0|\n",
      "|++3L3PAkDvSTkWnWe...|   45|283.0|2022-05-21 16:36:07| 2022-05-21T16:36:...|        2022-05-21|       1|  541|               1| 271.6666666666667|20.672042311618185| 270.0|235.0|297.0|         0|        12|            0.0|            1.0|\n",
      "|++3L3PAkDvSTkWnWe...|   45|294.0|2022-05-21 16:41:07| 2022-05-21T16:41:...|        2022-05-21|       1|  542|               1| 271.6666666666667|20.672042311618185| 270.0|235.0|297.0|         0|        12|            0.0|            1.0|\n",
      "|++3L3PAkDvSTkWnWe...|   45|297.0|2022-05-21 16:46:06| 2022-05-21T16:46:...|        2022-05-21|       1|  543|               1| 271.6666666666667|20.672042311618185| 270.0|235.0|297.0|         0|        12|            0.0|            1.0|\n",
      "|++3L3PAkDvSTkWnWe...|   45|292.0|2022-05-21 16:51:07| 2022-05-21T16:51:...|        2022-05-21|       1|  544|               1| 271.6666666666667|20.672042311618185| 270.0|235.0|297.0|         0|        12|            0.0|            1.0|\n",
      "|++3L3PAkDvSTkWnWe...|   45|287.0|2022-05-21 16:56:07| 2022-05-21T16:56:...|        2022-05-21|       1|  545|               1| 271.6666666666667|20.672042311618185| 270.0|235.0|297.0|         0|        12|            0.0|            1.0|\n",
      "+--------------------+-----+-----+-------------------+---------------------+------------------+--------+-----+----------------+------------------+------------------+------+-----+-----+----------+----------+---------------+---------------+\n",
      "only showing top 30 rows\n",
      "\n"
     ]
    },
    {
     "name": "stderr",
     "output_type": "stream",
     "text": [
      "                                                                                \r"
     ]
    },
    {
     "data": {
      "text/plain": [
       "DataFrame[PatientId: string, Chunk: int, Value: float, GlucoseDisplayTime: timestamp, GlucoseDisplayTimeRaw: string, GlucoseDisplayDate: date, y_binary: int, index: int, y_summary_binary: int, Mean: double, Std Dev: double, Median: float, Min: float, Max: float, CountBelow: bigint, CountAbove: bigint, PercentageBelow: double, PercentageAbove: double]"
      ]
     },
     "execution_count": 12,
     "metadata": {},
     "output_type": "execute_result"
    }
   ],
   "source": [
    "pyspark_summary_statistics(df, 70, 180, 12)"
   ]
  },
  {
   "cell_type": "code",
   "execution_count": null,
   "id": "68b14176-2502-4731-8336-ea4c361f480a",
   "metadata": {},
   "outputs": [],
   "source": [
    "added_daily_features=df.groupby(analysis_group).apply(transform_features)\n",
    "\n",
    "    return added_daily_features"
   ]
  },
  {
   "cell_type": "code",
   "execution_count": null,
   "id": "193a6384-4f88-4020-aa90-cc5a0305fb5d",
   "metadata": {
    "tags": []
   },
   "outputs": [],
   "source": [
    "spark.stop()"
   ]
  },
  {
   "cell_type": "code",
   "execution_count": null,
   "id": "cb304db0-ff73-4ec0-b390-ac970bf72bac",
   "metadata": {},
   "outputs": [],
   "source": []
  },
  {
   "cell_type": "code",
   "execution_count": null,
   "id": "f0e07884-c7e8-4865-b26a-04e38350577a",
   "metadata": {},
   "outputs": [],
   "source": []
  },
  {
   "cell_type": "code",
   "execution_count": 51,
   "id": "6cdcbf51-41bc-4198-935d-6dd56bc77055",
   "metadata": {
    "tags": []
   },
   "outputs": [],
   "source": [
    "df = spark.read.parquet('/cephfs/summary_stats/all_val_bool/')"
   ]
  },
  {
   "cell_type": "code",
   "execution_count": 52,
   "id": "abec9f7c-597a-48eb-9249-bbbfb48542cc",
   "metadata": {
    "tags": []
   },
   "outputs": [
    {
     "name": "stdout",
     "output_type": "stream",
     "text": [
      "+-----+-----+-----------------+----------------+-------------+-------------+------------------+------------------+------------------+------+-----+-----+--------------------+--------------------+------------------+------------------+----------+----------+---------------+------------+------+----------+--------+------------------+-------------------------+------------+-------------------------+-----------+-----------+-----------+-----------+-----------+-----------+-----------+-----------+\n",
      "|NumId|Chunk|ShortTermVariance|LongTermVariance|VarianceRatio|SampleEntropy|PermutationEntropy|              Mean|            StdDev|Median|  Min|  Max|        AvgFirstDiff|          AvgSecDiff|      StdFirstDiff|        StdSecDiff|CountAbove|CountBelow|TotalOutOfRange|DiffPrevious|target|Sex_Female|Sex_Male|Treatment_yes_both|Treatment_yes_long_acting|Treatment_no|Treatment_yes_fast_acting|AgeGroup_50|AgeGroup_60|AgeGroup_70|AgeGroup_40|AgeGroup_30|AgeGroup_80|AgeGroup_90|AgeGroup_10|\n",
      "+-----+-----+-----------------+----------------+-------------+-------------+------------------+------------------+------------------+------+-----+-----+--------------------+--------------------+------------------+------------------+----------+----------+---------------+------------+------+----------+--------+------------------+-------------------------+------------+-------------------------+-----------+-----------+-----------+-----------+-----------+-----------+-----------+-----------+\n",
      "|  196|    1|         4.704927|        9.289436|    0.5064814|    0.4719858|         1.1411804|111.89583333333333|24.355874521219306| 105.0| 63.0|178.0| 0.13194444444444445|-0.02083333333333...| 7.363386707336571| 6.644762942683502|         0|         2|              2|           7|     1|         1|       0|                 0|                        0|           1|                        0|          0|          1|          0|          0|          0|          0|          0|          0|\n",
      "|  196|    4|        2.7813594|        5.966578|   0.46615654|   0.38594458|         1.1690105|109.27777777777777|  21.6265240568084| 103.0| 73.0|181.0|-0.04513888888888889|-0.01388888888888...| 4.660761102791873|3.9287843535019964|         1|         0|              1|          18|     1|         1|       0|                 0|                        0|           1|                        0|          0|          1|          0|          0|          0|          0|          0|          0|\n",
      "|  196|    5|        3.5662973|        7.860448|   0.45370156|   0.47445798|         1.0590295|112.30208333333333| 19.78884340154148| 110.0| 63.0|173.0| 0.11458333333333333|0.006944444444444444| 6.106265346415613| 5.039214207558103|         0|         2|              2|          -1|    -1|         1|       0|                 0|                        0|           1|                        0|          0|          1|          0|          0|          0|          0|          0|          0|\n",
      "|  196|   12|         65.35214|       2.8923535|    22.594795|   0.17671232|         0.9329351|143.63541666666666|  32.1523333398776| 138.0| 90.0|241.0|                 0.0|-0.01388888888888...| 46.16581235032214| 92.26110396415427|        32|         0|             32|         -24|    -1|         1|       0|                 0|                        0|           1|                        0|          0|          1|          0|          0|          0|          0|          0|          0|\n",
      "|  196|   14|        35.613274|       2.5511463|    13.959714|   0.11040006|         0.7501058|135.79513888888889|17.732911310178288| 138.0|109.0|214.0|                 0.0|-0.20833333333333334|25.271901185843504| 50.37184034410066|        12|         0|             12|          11|     1|         1|       0|                 0|                        0|           1|                        0|          0|          1|          0|          0|          0|          0|          0|          0|\n",
      "+-----+-----+-----------------+----------------+-------------+-------------+------------------+------------------+------------------+------+-----+-----+--------------------+--------------------+------------------+------------------+----------+----------+---------------+------------+------+----------+--------+------------------+-------------------------+------------+-------------------------+-----------+-----------+-----------+-----------+-----------+-----------+-----------+-----------+\n",
      "only showing top 5 rows\n",
      "\n"
     ]
    }
   ],
   "source": [
    "df.show(5)"
   ]
  },
  {
   "cell_type": "code",
   "execution_count": 53,
   "id": "a5460fbc-7a79-406a-bd36-0b6faac4a8e9",
   "metadata": {
    "tags": []
   },
   "outputs": [],
   "source": [
    "new_df = df.withColumn('target', when(df.DiffPrevious > 9, 1)\n",
    "                         .when(df.DiffPrevious < -9,-1)\n",
    "                         .otherwise(0))"
   ]
  },
  {
   "cell_type": "code",
   "execution_count": 54,
   "id": "f8986662-706c-41e9-bbe8-7a2c7f1c30be",
   "metadata": {
    "tags": []
   },
   "outputs": [
    {
     "name": "stdout",
     "output_type": "stream",
     "text": [
      "+------------+------+\n",
      "|DiffPrevious|target|\n",
      "+------------+------+\n",
      "|           7|     0|\n",
      "|          18|     1|\n",
      "|          -1|     0|\n",
      "|         -24|    -1|\n",
      "|          11|     1|\n",
      "+------------+------+\n",
      "only showing top 5 rows\n",
      "\n"
     ]
    }
   ],
   "source": [
    "new_df.select(col('DiffPrevious'), col('target')).show(5)"
   ]
  },
  {
   "cell_type": "code",
   "execution_count": 55,
   "id": "d7edeb97-64eb-48d3-984b-742ea4d047e5",
   "metadata": {
    "tags": []
   },
   "outputs": [
    {
     "name": "stderr",
     "output_type": "stream",
     "text": [
      "                                                                                \r"
     ]
    }
   ],
   "source": [
    "new_df.repartition('NumId').write.parquet('/cephfs/summary_stats/all_val_bool_updated')"
   ]
  },
  {
   "cell_type": "code",
   "execution_count": null,
   "id": "662721d7-7a18-4cbc-a9cf-69b858103171",
   "metadata": {},
   "outputs": [],
   "source": []
  },
  {
   "cell_type": "code",
   "execution_count": null,
   "id": "4c179417-1b8d-4cd8-8239-fd36d3c50532",
   "metadata": {},
   "outputs": [],
   "source": []
  },
  {
   "cell_type": "code",
   "execution_count": null,
   "id": "afbf80ca-ac93-4f76-a63f-943ecab1c022",
   "metadata": {},
   "outputs": [],
   "source": []
  },
  {
   "cell_type": "code",
   "execution_count": 34,
   "id": "96a76947-dfd6-4d11-a679-4227cbb70170",
   "metadata": {
    "tags": []
   },
   "outputs": [
    {
     "name": "stdout",
     "output_type": "stream",
     "text": [
      "+-----+-----+-----------------+----------------+-------------+\n",
      "|NumId|Chunk|ShortTermVariance|LongTermVariance|VarianceRatio|\n",
      "+-----+-----+-----------------+----------------+-------------+\n",
      "|  752|  277|         75.15563|        5.317868|    14.132662|\n",
      "|  752|  292|         98.29378|       4.4664574|    22.007101|\n",
      "|  752|  327|         82.88033|       2.6379993|    31.417875|\n",
      "|  767|  246|        46.237247|       2.4311175|    19.018927|\n",
      "|  767|  331|         6.747326|       11.497889|   0.58683175|\n",
      "+-----+-----+-----------------+----------------+-------------+\n",
      "only showing top 5 rows\n",
      "\n",
      "+-----+-----+-------------+------------------+\n",
      "|NumId|Chunk|SampleEntropy|PermutationEntropy|\n",
      "+-----+-----+-------------+------------------+\n",
      "|  752|  277|    0.1978033|          0.864667|\n",
      "|  752|  292|   0.06829524|         0.8204138|\n",
      "|  752|  327|   0.14589928|          0.666634|\n",
      "|  767|  246|   0.29596713|         0.9315732|\n",
      "|  767|  331|   0.37795234|         1.1740693|\n",
      "+-----+-----+-------------+------------------+\n",
      "only showing top 5 rows\n",
      "\n"
     ]
    },
    {
     "name": "stderr",
     "output_type": "stream",
     "text": [
      "                                                                                \r"
     ]
    },
    {
     "name": "stdout",
     "output_type": "stream",
     "text": [
      "+-----+-----+-----------------+----------------+-------------+-------------+------------------+\n",
      "|NumId|Chunk|ShortTermVariance|LongTermVariance|VarianceRatio|SampleEntropy|PermutationEntropy|\n",
      "+-----+-----+-----------------+----------------+-------------+-------------+------------------+\n",
      "|    0|    0|        2.8500366|       3.8021948|    0.7495767|    0.2984626|         1.2680585|\n",
      "|    0|    2|        1.9557492|       4.1611867|   0.46999794|    0.2726442|         1.1109602|\n",
      "|    0|    8|        31.130909|       2.6183333|    11.889589|    0.2606011|         1.0298378|\n",
      "|    0|   10|        29.197123|       2.1754076|    13.421449|   0.25588748|         0.8495794|\n",
      "|    0|   12|         51.51686|       3.2331884|   15.9337635|   0.16961278|         0.8927734|\n",
      "|    0|   13|         48.71614|       2.5468535|    19.127972|   0.14173158|        0.78283364|\n",
      "|    0|   16|         34.90279|       1.8008504|     19.38128|   0.26931518|         0.8654307|\n",
      "|    0|   19|        32.694202|      0.80984646|    40.370865|   0.19826025|        0.80501384|\n",
      "|    0|   20|         34.03933|        2.508416|     13.57005|    0.2619802|         0.8369384|\n",
      "|    0|   25|         31.82106|      0.42294928|     75.23611|   0.17953028|         0.8948022|\n",
      "|    0|   28|        31.289944|       2.1438227|    14.595398|   0.15118402|         0.8229541|\n",
      "|    0|   30|        27.322115|        2.729409|    10.010267|   0.43397418|         0.9267449|\n",
      "|    0|   31|        27.981464|       2.0647035|    13.552292|   0.18649693|         0.8815068|\n",
      "|    0|   33|        46.525654|      0.17063318|    272.66473|   0.15244855|        0.85118693|\n",
      "|    0|   36|        54.712135|       1.7519356|    31.229534|   0.18628196|         0.8826704|\n",
      "|    0|   37|        30.563257|        2.666525|    11.461831|   0.16368748|        0.89021903|\n",
      "|    0|   38|         51.33412|       0.9813763|    52.308296|   0.27456987|        0.81983423|\n",
      "|    0|   40|         48.40916|       1.5159906|    31.932362|   0.17049709|        0.75268304|\n",
      "|    0|   42|        42.319298|      0.20440008|     207.0415|   0.27059478|         0.9021267|\n",
      "|    0|   44|        55.920044|       1.7890165|    31.257423|   0.11202366|         0.8537618|\n",
      "+-----+-----+-----------------+----------------+-------------+-------------+------------------+\n",
      "only showing top 20 rows\n",
      "\n",
      "+-----+-----+------------------+------------------+------+----+-----+--------------------+--------------------+------------------+------------------+----------+----------+---------------+------------+------+----------+--------+------------------+-------------------------+------------+-------------------------+-----------+-----------+-----------+-----------+-----------+-----------+-----------+-----------+\n",
      "|NumId|Chunk|              Mean|            StdDev|Median| Min|  Max|        AvgFirstDiff|          AvgSecDiff|      StdFirstDiff|        StdSecDiff|CountAbove|CountBelow|TotalOutOfRange|DiffPrevious|target|Sex_Female|Sex_Male|Treatment_yes_both|Treatment_yes_long_acting|Treatment_no|Treatment_yes_fast_acting|AgeGroup_50|AgeGroup_60|AgeGroup_70|AgeGroup_40|AgeGroup_30|AgeGroup_80|AgeGroup_90|AgeGroup_10|\n",
      "+-----+-----+------------------+------------------+------+----+-----+--------------------+--------------------+------------------+------------------+----------+----------+---------------+------------+------+----------+--------+------------------+-------------------------+------------+-------------------------+-----------+-----------+-----------+-----------+-----------+-----------+-----------+-----------+\n",
      "|  347|    1|171.67708333333334|45.176192766291685| 165.0|81.0|273.0|  0.2048611111111111|-0.05902777777777...| 4.648971709930783| 5.081220643966878|       109|         0|            109|         -97|    -1|         0|       1|                 0|                        0|           1|                        0|          0|          1|          0|          0|          0|          0|          0|          0|\n",
      "|  347|    2|152.38194444444446|35.466919666515295| 145.0|98.0|228.0|-0.00347222222222...|-0.00347222222222...| 3.872981784318734|  4.27006292447976|        74|         0|             74|          35|     1|         0|       1|                 0|                        0|           1|                        0|          0|          1|          0|          0|          0|          0|          0|          0|\n",
      "|  347|    3|141.76041666666666| 32.42705395803338| 149.0|80.0|217.0| -0.3715277777777778|0.003472222222222222|3.5126682274135654|4.2100744147369795|        44|         0|             44|          30|     1|         0|       1|                 0|                        0|           1|                        0|          0|          1|          0|          0|          0|          0|          0|          0|\n",
      "+-----+-----+------------------+------------------+------+----+-----+--------------------+--------------------+------------------+------------------+----------+----------+---------------+------------+------+----------+--------+------------------+-------------------------+------------+-------------------------+-----------+-----------+-----------+-----------+-----------+-----------+-----------+-----------+\n",
      "only showing top 3 rows\n",
      "\n"
     ]
    },
    {
     "name": "stderr",
     "output_type": "stream",
     "text": [
      "                                                                                \r"
     ]
    },
    {
     "name": "stdout",
     "output_type": "stream",
     "text": [
      "+-----+-----+-----------------+----------------+-------------+-------------+------------------+------------------+------------------+------+-----+-----+-------------------+--------------------+------------------+------------------+----------+----------+---------------+------------+------+----------+--------+------------------+-------------------------+------------+-------------------------+-----------+-----------+-----------+-----------+-----------+-----------+-----------+-----------+\n",
      "|NumId|Chunk|ShortTermVariance|LongTermVariance|VarianceRatio|SampleEntropy|PermutationEntropy|              Mean|            StdDev|Median|  Min|  Max|       AvgFirstDiff|          AvgSecDiff|      StdFirstDiff|        StdSecDiff|CountAbove|CountBelow|TotalOutOfRange|DiffPrevious|target|Sex_Female|Sex_Male|Treatment_yes_both|Treatment_yes_long_acting|Treatment_no|Treatment_yes_fast_acting|AgeGroup_50|AgeGroup_60|AgeGroup_70|AgeGroup_40|AgeGroup_30|AgeGroup_80|AgeGroup_90|AgeGroup_10|\n",
      "+-----+-----+-----------------+----------------+-------------+-------------+------------------+------------------+------------------+------+-----+-----+-------------------+--------------------+------------------+------------------+----------+----------+---------------+------------+------+----------+--------+------------------+-------------------------+------------+-------------------------+-----------+-----------+-----------+-----------+-----------+-----------+-----------+-----------+\n",
      "|    0|    8|        31.130909|       2.6183333|    11.889589|    0.2606011|         1.0298378|151.17708333333334|15.525181158363338| 149.0|114.0|213.0|                0.0|-0.07291666666666667|22.171488738738002| 44.26753747040126|        16|         0|             16|         -13|    -1|         1|       0|                 0|                        0|           1|                        0|          0|          0|          0|          0|          0|          0|          1|          0|\n",
      "|    0|   25|         31.82106|      0.42294928|     75.23611|   0.17953028|         0.8948022|150.70138888888889|15.838285490004033| 149.0|122.0|220.0|           -0.09375|            -0.09375|22.509035642160892| 44.94706405398655|        21|         0|             21|          15|     1|         1|       0|                 0|                        0|           1|                        0|          0|          0|          0|          0|          0|          0|          1|          0|\n",
      "|    0|   28|        31.289944|       2.1438227|    14.595398|   0.15118402|         0.8229541|145.47916666666666|15.284511415109261| 149.0|112.0|188.0| 0.1597222222222222|  0.1597222222222222| 22.28393374291127| 44.60334875858607|         3|         0|              3|          38|     1|         1|       0|                 0|                        0|           1|                        0|          0|          0|          0|          0|          0|          0|          1|          0|\n",
      "|    0|   37|        30.563257|        2.666525|    11.461831|   0.16368748|        0.89021903|         146.09375| 15.06923264961038| 149.0|101.0|189.0|            -0.1875|             -0.1875|21.834017109453058|43.700432348621526|        13|         0|             13|          36|     1|         1|       0|                 0|                        0|           1|                        0|          0|          0|          0|          0|          0|          0|          1|          0|\n",
      "|    0|   40|         48.40916|       1.5159906|    31.932362|   0.17049709|        0.75268304|162.14583333333334|20.391625236624478| 149.0|135.0|216.0|0.16319444444444445| 0.16319444444444445| 34.24961302770332| 68.35782391290996|        70|         0|             70|         -42|    -1|         1|       0|                 0|                        0|           1|                        0|          0|          0|          0|          0|          0|          0|          1|          0|\n",
      "+-----+-----+-----------------+----------------+-------------+-------------+------------------+------------------+------------------+------+-----+-----+-------------------+--------------------+------------------+------------------+----------+----------+---------------+------------+------+----------+--------+------------------+-------------------------+------------+-------------------------+-----------+-----------+-----------+-----------+-----------+-----------+-----------+-----------+\n",
      "only showing top 5 rows\n",
      "\n"
     ]
    },
    {
     "name": "stderr",
     "output_type": "stream",
     "text": [
      "                                                                                \r"
     ]
    }
   ],
   "source": [
    "import pyspark\n",
    "from pyspark.sql import SparkSession\n",
    "\n",
    "spark = SparkSession \\\n",
    "        .builder \\\n",
    "        .appName(\"Glucose\") \\\n",
    "        .getOrCreate()\n",
    "\n",
    "training_df_poincare = spark.read.parquet('/cephfs/featuresData/poincare/train')\n",
    "training_df_poincare.show(5)\n",
    "training_df_entropy = spark.read.parquet('/cephfs/featuresData/entropy/train')\n",
    "training_df_entropy.show(5)\n",
    "\n",
    "training_df_complex_features = training_df_poincare.join(training_df_entropy,['NumId', 'Chunk'])\n",
    "training_df_complex_features.show()\n",
    "\n",
    "training_features_summary_stats= spark.read.parquet('/cephfs/summary_stats/encoded/one_hot_train/summary_stats_cohort_bool_encoded.parquet')\n",
    "training_features_summary_stats.show(3)\n",
    "\n",
    "training_df_final = training_df_complex_features.join(training_features_summary_stats,['NumId', 'Chunk'])\n",
    "training_df_final.show(5)\n",
    "\n",
    "training_df_final.repartition('NumId').write.parquet('/cephfs/summary_stats/all_train_bool')"
   ]
  },
  {
   "cell_type": "code",
   "execution_count": null,
   "id": "dadb6123-f10a-422b-9986-215300379b0b",
   "metadata": {},
   "outputs": [],
   "source": []
  }
 ],
 "metadata": {
  "kernelspec": {
   "display_name": "glucose-venv",
   "language": "python",
   "name": "glucose-venv"
  },
  "language_info": {
   "codemirror_mode": {
    "name": "ipython",
    "version": 3
   },
   "file_extension": ".py",
   "mimetype": "text/x-python",
   "name": "python",
   "nbconvert_exporter": "python",
   "pygments_lexer": "ipython3",
   "version": "3.10.10"
  }
 },
 "nbformat": 4,
 "nbformat_minor": 5
}
